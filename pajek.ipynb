{
 "cells": [
  {
   "cell_type": "markdown",
   "metadata": {},
   "source": [
    "# Obtain edges from a Pajek-like file"
   ]
  },
  {
   "cell_type": "code",
   "execution_count": 1,
   "metadata": {},
   "outputs": [],
   "source": [
    "import time\n",
    "import pandas as pd\n",
    "import numpy as np\n",
    "from nodes_to_pajek import *"
   ]
  },
  {
   "cell_type": "code",
   "execution_count": 2,
   "metadata": {},
   "outputs": [
    {
     "name": "stdout",
     "output_type": "stream",
     "text": [
      "0.0011782646179199219\n"
     ]
    }
   ],
   "source": [
    "s=time.time()\n",
    "imax=100#000\n",
    "for i in range(imax):\n",
    "    for j in range(imax):\n",
    "        a=1+1\n",
    "\n",
    "print(time.time()-s)        "
   ]
  },
  {
   "cell_type": "code",
   "execution_count": 3,
   "metadata": {},
   "outputs": [],
   "source": [
    "import pandas as pd"
   ]
  },
  {
   "cell_type": "markdown",
   "metadata": {},
   "source": [
    "##  Obtain full nodes file.  Small example"
   ]
  },
  {
   "cell_type": "code",
   "execution_count": 4,
   "metadata": {},
   "outputs": [],
   "source": [
    "df=pd.read_json('nodes_small.json')"
   ]
  },
  {
   "cell_type": "code",
   "execution_count": 5,
   "metadata": {},
   "outputs": [
    {
     "data": {
      "text/html": [
       "<div>\n",
       "<style>\n",
       "    .dataframe thead tr:only-child th {\n",
       "        text-align: right;\n",
       "    }\n",
       "\n",
       "    .dataframe thead th {\n",
       "        text-align: left;\n",
       "    }\n",
       "\n",
       "    .dataframe tbody tr th {\n",
       "        vertical-align: top;\n",
       "    }\n",
       "</style>\n",
       "<table border=\"1\" class=\"dataframe\">\n",
       "  <thead>\n",
       "    <tr style=\"text-align: right;\">\n",
       "      <th></th>\n",
       "      <th>abstract</th>\n",
       "      <th>authors</th>\n",
       "      <th>citations</th>\n",
       "      <th>co-authors</th>\n",
       "      <th>creation_date</th>\n",
       "      <th>free_keywords</th>\n",
       "      <th>list_rcid</th>\n",
       "      <th>recid</th>\n",
       "      <th>references</th>\n",
       "      <th>standardized_keywords</th>\n",
       "      <th>title</th>\n",
       "    </tr>\n",
       "  </thead>\n",
       "  <tbody>\n",
       "    <tr>\n",
       "      <th>0</th>\n",
       "      <td>The exploitation of unrenormalized canonical f...</td>\n",
       "      <td>[Brandt, Richard A.]</td>\n",
       "      <td>[18551]</td>\n",
       "      <td>[Ng, Wing-Chiu, Young, Kenneth]</td>\n",
       "      <td>1976-05</td>\n",
       "      <td>[]</td>\n",
       "      <td>[3560, 3560, 3560, 3560, 3560, 3560, 3560, 356...</td>\n",
       "      <td>3560</td>\n",
       "      <td>[87072, 1283, 86276, 1577, 95084, 54444, 99663...</td>\n",
       "      <td>[GAUGE FIELD THEORY: NONABELIAN, GAUGE FIELD T...</td>\n",
       "      <td>Canonical Methods in Nonabelian Gauge Theories</td>\n",
       "    </tr>\n",
       "  </tbody>\n",
       "</table>\n",
       "</div>"
      ],
      "text/plain": [
       "                                            abstract               authors  \\\n",
       "0  The exploitation of unrenormalized canonical f...  [Brandt, Richard A.]   \n",
       "\n",
       "  citations                       co-authors creation_date free_keywords  \\\n",
       "0   [18551]  [Ng, Wing-Chiu, Young, Kenneth]       1976-05            []   \n",
       "\n",
       "                                           list_rcid  recid  \\\n",
       "0  [3560, 3560, 3560, 3560, 3560, 3560, 3560, 356...   3560   \n",
       "\n",
       "                                          references  \\\n",
       "0  [87072, 1283, 86276, 1577, 95084, 54444, 99663...   \n",
       "\n",
       "                               standardized_keywords  \\\n",
       "0  [GAUGE FIELD THEORY: NONABELIAN, GAUGE FIELD T...   \n",
       "\n",
       "                                            title  \n",
       "0  Canonical Methods in Nonabelian Gauge Theories  "
      ]
     },
     "execution_count": 5,
     "metadata": {},
     "output_type": "execute_result"
    }
   ],
   "source": [
    "df[:1]"
   ]
  },
  {
   "cell_type": "code",
   "execution_count": 6,
   "metadata": {},
   "outputs": [],
   "source": [
    "pj=nodes_to_pajek(df)"
   ]
  },
  {
   "cell_type": "code",
   "execution_count": 7,
   "metadata": {},
   "outputs": [
    {
     "data": {
      "text/plain": [
       "(4915, 2)"
      ]
     },
     "execution_count": 7,
     "metadata": {},
     "output_type": "execute_result"
    }
   ],
   "source": [
    "pj.shape"
   ]
  },
  {
   "cell_type": "markdown",
   "metadata": {},
   "source": [
    "##  Main code to find the edges"
   ]
  },
  {
   "cell_type": "code",
   "execution_count": null,
   "metadata": {},
   "outputs": [],
   "source": [
    "start_time=time.time()\n",
    "\n",
    "DEBUG=True\n",
    "if DEBUG: \n",
    "    #===log===\n",
    "    f=open('kk.log','w')\n",
    "    f.write('')\n",
    "    f.close()\n",
    "    #==DEBUG===========\n",
    "\n",
    "id_col='recid'; refs_col='references'\n",
    "# Half of the work is order by refs_col, and id_col\n",
    "pj=pj.sort_values([refs_col,id_col]).reset_index(drop=True)\n",
    "ed={}\n",
    "t=()\n",
    "new_ref=0\n",
    "i=0\n",
    "iprint=1000\n",
    "\n",
    "while i<=pj.index[-1]:\n",
    "    if not i%iprint:\n",
    "        print(i,end='\\r')\n",
    "        if DEBUG:\n",
    "            #===log===\n",
    "            f=open('kk.log','a')\n",
    "            f.write('{}\\n'.format(i))\n",
    "            f.close()\n",
    "            #=======\n",
    "    e1=pj.loc[i,id_col]\n",
    "    #check next entry and beyond:\n",
    "    for j in range(i+1,pj.index[-1]+1):\n",
    "        #print('i,j',i,j) #,end='\\r')\n",
    "        e2=pj.loc[j,id_col]\n",
    "        #DEBUG\n",
    "        #if (e1,e2)==(190836,1644265):\n",
    "        #    print('i,j,check',i,j)\n",
    "        edges=False\n",
    "        if pj.loc[i,refs_col]==pj.loc[j,refs_col]:\n",
    "            edges=True\n",
    "        #else:\n",
    "            #print('newi',i,j)\n",
    "            \n",
    "        if edges:\n",
    "            if e1<e2:\n",
    "                t=(e1,e2)\n",
    "                if not ed.get(t):\n",
    "                    ed[t]=1\n",
    "                    #DEBUG\n",
    "                    #ed[t]=str( (i,j) )\n",
    "                else: #increase the number of common refs_col\n",
    "                    ed[t]=ed[t]+1\n",
    "                    #DEBUG: \n",
    "                    #ed[t]=ed[t]+str(  (i,j)  )\n",
    "        else:\n",
    "            # Go to next i when nor additional edges are found\n",
    "            break\n",
    "    #search after j. \n",
    "    i=i+1 # Be sure to increase i to avoid infinite loop\n",
    "    #if i>=25:\n",
    "    #    break\n",
    "    continue\n",
    "\n",
    "print(time.time()-start_time)    "
   ]
  },
  {
   "cell_type": "code",
   "execution_count": 44,
   "metadata": {},
   "outputs": [
    {
     "data": {
      "text/plain": [
       "17.533333333333335"
      ]
     },
     "execution_count": 44,
     "metadata": {},
     "output_type": "execute_result"
    }
   ],
   "source": [
    "1052/60"
   ]
  },
  {
   "cell_type": "code",
   "execution_count": 47,
   "metadata": {},
   "outputs": [
    {
     "name": "stdout",
     "output_type": "stream",
     "text": [
      "175.33333333333334 m\n",
      "2.9222222222222225 h\n"
     ]
    }
   ],
   "source": [
    "N=lambda x:  x*1052/100000/60\n",
    "npt=1000000\n",
    "print( N(npt),'m') \n",
    "print( N(npt)/60,'h') "
   ]
  },
  {
   "cell_type": "code",
   "execution_count": 48,
   "metadata": {},
   "outputs": [
    {
     "data": {
      "text/plain": [
       "3018"
      ]
     },
     "execution_count": 48,
     "metadata": {},
     "output_type": "execute_result"
    }
   ],
   "source": [
    "le=[{t:ed[t]} for t in ed.keys() if ed[t]>4 ]\n",
    "len(le)"
   ]
  },
  {
   "cell_type": "code",
   "execution_count": 49,
   "metadata": {},
   "outputs": [
    {
     "data": {
      "text/html": [
       "<div>\n",
       "<style>\n",
       "    .dataframe thead tr:only-child th {\n",
       "        text-align: right;\n",
       "    }\n",
       "\n",
       "    .dataframe thead th {\n",
       "        text-align: left;\n",
       "    }\n",
       "\n",
       "    .dataframe tbody tr th {\n",
       "        vertical-align: top;\n",
       "    }\n",
       "</style>\n",
       "<table border=\"1\" class=\"dataframe\">\n",
       "  <thead>\n",
       "    <tr style=\"text-align: right;\">\n",
       "      <th></th>\n",
       "      <th>edges</th>\n",
       "      <th>len_ed</th>\n",
       "    </tr>\n",
       "  </thead>\n",
       "  <tbody>\n",
       "    <tr>\n",
       "      <th>0</th>\n",
       "      <td>(4380, 666911)</td>\n",
       "      <td>5</td>\n",
       "    </tr>\n",
       "    <tr>\n",
       "      <th>1</th>\n",
       "      <td>(15239, 1387684)</td>\n",
       "      <td>5</td>\n",
       "    </tr>\n",
       "    <tr>\n",
       "      <th>2</th>\n",
       "      <td>(98947, 129333)</td>\n",
       "      <td>5</td>\n",
       "    </tr>\n",
       "  </tbody>\n",
       "</table>\n",
       "</div>"
      ],
      "text/plain": [
       "              edges  len_ed\n",
       "0    (4380, 666911)       5\n",
       "1  (15239, 1387684)       5\n",
       "2   (98947, 129333)       5"
      ]
     },
     "execution_count": 49,
     "metadata": {},
     "output_type": "execute_result"
    }
   ],
   "source": [
    "edf=pd.DataFrame({'tmp':le})\n",
    "edf['edges'] =edf.tmp.map(lambda x: list(x.keys())[0]  )\n",
    "edf['len_ed']=edf.tmp.map(lambda x: list(x.values())[0]  )\n",
    "edf=edf.drop('tmp',axis='columns')\n",
    "edf[:3]"
   ]
  },
  {
   "cell_type": "code",
   "execution_count": 50,
   "metadata": {},
   "outputs": [],
   "source": [
    "#edf.to_json('example1E5.json')"
   ]
  },
  {
   "cell_type": "markdown",
   "metadata": {},
   "source": [
    "# Real case scenario\n",
    "Full pajek file"
   ]
  },
  {
   "cell_type": "code",
   "execution_count": 10,
   "metadata": {},
   "outputs": [],
   "source": [
    "df_all=pd.read_json('hep_records.json',lines=True)"
   ]
  },
  {
   "cell_type": "code",
   "execution_count": 11,
   "metadata": {},
   "outputs": [
    {
     "data": {
      "text/plain": [
       "(896637, 10)"
      ]
     },
     "execution_count": 11,
     "metadata": {},
     "output_type": "execute_result"
    }
   ],
   "source": [
    "dfr=df_all[df_all.references.map(len)>0].reset_index(drop=True)\n",
    "dfr.shape"
   ]
  },
  {
   "cell_type": "code",
   "execution_count": 12,
   "metadata": {},
   "outputs": [],
   "source": [
    "pjt=nodes_to_pajek(dfr)"
   ]
  },
  {
   "cell_type": "code",
   "execution_count": 13,
   "metadata": {},
   "outputs": [
    {
     "data": {
      "text/plain": [
       "(21733815, 2)"
      ]
     },
     "execution_count": 13,
     "metadata": {},
     "output_type": "execute_result"
    }
   ],
   "source": [
    "pjt.shape"
   ]
  },
  {
   "cell_type": "code",
   "execution_count": 51,
   "metadata": {},
   "outputs": [],
   "source": [
    "pj=pjt.reset_index(drop=True)"
   ]
  },
  {
   "cell_type": "code",
   "execution_count": 52,
   "metadata": {},
   "outputs": [
    {
     "data": {
      "text/plain": [
       "(21733815, 2)"
      ]
     },
     "execution_count": 52,
     "metadata": {},
     "output_type": "execute_result"
    }
   ],
   "source": [
    "pj.shape"
   ]
  },
  {
   "cell_type": "code",
   "execution_count": 53,
   "metadata": {},
   "outputs": [
    {
     "data": {
      "text/html": [
       "<div>\n",
       "<style>\n",
       "    .dataframe thead tr:only-child th {\n",
       "        text-align: right;\n",
       "    }\n",
       "\n",
       "    .dataframe thead th {\n",
       "        text-align: left;\n",
       "    }\n",
       "\n",
       "    .dataframe tbody tr th {\n",
       "        vertical-align: top;\n",
       "    }\n",
       "</style>\n",
       "<table border=\"1\" class=\"dataframe\">\n",
       "  <thead>\n",
       "    <tr style=\"text-align: right;\">\n",
       "      <th></th>\n",
       "      <th>recid</th>\n",
       "      <th>references</th>\n",
       "    </tr>\n",
       "  </thead>\n",
       "  <tbody>\n",
       "    <tr>\n",
       "      <th>0</th>\n",
       "      <td>76215</td>\n",
       "      <td>1</td>\n",
       "    </tr>\n",
       "    <tr>\n",
       "      <th>1</th>\n",
       "      <td>81651</td>\n",
       "      <td>1</td>\n",
       "    </tr>\n",
       "    <tr>\n",
       "      <th>2</th>\n",
       "      <td>128250</td>\n",
       "      <td>1</td>\n",
       "    </tr>\n",
       "  </tbody>\n",
       "</table>\n",
       "</div>"
      ],
      "text/plain": [
       "    recid  references\n",
       "0   76215           1\n",
       "1   81651           1\n",
       "2  128250           1"
      ]
     },
     "execution_count": 53,
     "metadata": {},
     "output_type": "execute_result"
    }
   ],
   "source": [
    "pj[:3]"
   ]
  },
  {
   "cell_type": "code",
   "execution_count": 17,
   "metadata": {},
   "outputs": [
    {
     "data": {
      "text/html": [
       "<div>\n",
       "<style>\n",
       "    .dataframe thead tr:only-child th {\n",
       "        text-align: right;\n",
       "    }\n",
       "\n",
       "    .dataframe thead th {\n",
       "        text-align: left;\n",
       "    }\n",
       "\n",
       "    .dataframe tbody tr th {\n",
       "        vertical-align: top;\n",
       "    }\n",
       "</style>\n",
       "<table border=\"1\" class=\"dataframe\">\n",
       "  <thead>\n",
       "    <tr style=\"text-align: right;\">\n",
       "      <th></th>\n",
       "      <th>recid</th>\n",
       "      <th>references</th>\n",
       "    </tr>\n",
       "  </thead>\n",
       "  <tbody>\n",
       "    <tr>\n",
       "      <th>0</th>\n",
       "      <td>76215</td>\n",
       "      <td>1</td>\n",
       "    </tr>\n",
       "    <tr>\n",
       "      <th>1</th>\n",
       "      <td>81651</td>\n",
       "      <td>1</td>\n",
       "    </tr>\n",
       "    <tr>\n",
       "      <th>2</th>\n",
       "      <td>128250</td>\n",
       "      <td>1</td>\n",
       "    </tr>\n",
       "  </tbody>\n",
       "</table>\n",
       "</div>"
      ],
      "text/plain": [
       "    recid  references\n",
       "0   76215           1\n",
       "1   81651           1\n",
       "2  128250           1"
      ]
     },
     "execution_count": 17,
     "metadata": {},
     "output_type": "execute_result"
    }
   ],
   "source": [
    "pj[:3]"
   ]
  },
  {
   "cell_type": "markdown",
   "metadata": {},
   "source": [
    "Go to the previous code and run there. "
   ]
  },
  {
   "cell_type": "markdown",
   "metadata": {},
   "source": [
    "## Backup"
   ]
  },
  {
   "cell_type": "markdown",
   "metadata": {},
   "source": [
    "IMPORTANT COMMITS: \n",
    "* 44fa444ba3cc1f9a052bf80051f44a0d11c5838a\n",
    "  * Here the counting of the slow and fast to grouping mathc\n"
   ]
  }
 ],
 "metadata": {
  "kernelspec": {
   "display_name": "Python 3",
   "language": "python",
   "name": "python3"
  },
  "language_info": {
   "codemirror_mode": {
    "name": "ipython",
    "version": 3
   },
   "file_extension": ".py",
   "mimetype": "text/x-python",
   "name": "python",
   "nbconvert_exporter": "python",
   "pygments_lexer": "ipython3",
   "version": "3.5.3"
  }
 },
 "nbformat": 4,
 "nbformat_minor": 2
}
