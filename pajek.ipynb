{
 "cells": [
  {
   "cell_type": "markdown",
   "metadata": {},
   "source": [
    "# Obtain edges from a Pajek-like file"
   ]
  },
  {
   "cell_type": "code",
   "execution_count": 2,
   "metadata": {},
   "outputs": [],
   "source": [
    "import time\n",
    "import pandas as pd\n",
    "import numpy as np\n",
    "from nodes_to_pajek import *"
   ]
  },
  {
   "cell_type": "code",
   "execution_count": 2,
   "metadata": {},
   "outputs": [
    {
     "name": "stdout",
     "output_type": "stream",
     "text": [
      "0.001239776611328125\n"
     ]
    }
   ],
   "source": [
    "s=time.time()\n",
    "imax=100#000\n",
    "for i in range(imax):\n",
    "    for j in range(imax):\n",
    "        a=1+1\n",
    "\n",
    "print(time.time()-s)        "
   ]
  },
  {
   "cell_type": "markdown",
   "metadata": {},
   "source": [
    "##  Obtain full nodes file.  \n",
    "Small example and Real case scenario"
   ]
  },
  {
   "cell_type": "code",
   "execution_count": null,
   "metadata": {},
   "outputs": [],
   "source": [
    "FULL=True\n",
    "if FULL==True:\n",
    "    df_all=pd.read_json('hep_records.json',lines=True)\n",
    "else:\n",
    "    df_all=pd.read_json('nodes_small.json')\n",
    "    \n"
   ]
  },
  {
   "cell_type": "code",
   "execution_count": null,
   "metadata": {},
   "outputs": [],
   "source": [
    "dfr=df_all[df_all.references.map(len)>0].reset_index(drop=True)\n",
    "dfr.shape"
   ]
  },
  {
   "cell_type": "code",
   "execution_count": null,
   "metadata": {},
   "outputs": [],
   "source": [
    "pjt=nodes_to_pajek(dfr)"
   ]
  },
  {
   "cell_type": "code",
   "execution_count": null,
   "metadata": {},
   "outputs": [],
   "source": [
    "pjt.shape"
   ]
  },
  {
   "cell_type": "code",
   "execution_count": null,
   "metadata": {},
   "outputs": [],
   "source": [
    "pj=pjt.reset_index(drop=True)"
   ]
  },
  {
   "cell_type": "code",
   "execution_count": 10,
   "metadata": {},
   "outputs": [
    {
     "data": {
      "text/plain": [
       "(21733815, 2)"
      ]
     },
     "execution_count": 10,
     "metadata": {},
     "output_type": "execute_result"
    }
   ],
   "source": [
    "pj.shape"
   ]
  },
  {
   "cell_type": "code",
   "execution_count": 62,
   "metadata": {},
   "outputs": [
    {
     "data": {
      "text/plain": [
       "15.625"
      ]
     },
     "execution_count": 62,
     "metadata": {},
     "output_type": "execute_result"
    }
   ],
   "source": [
    "3/80*600000/60/24"
   ]
  },
  {
   "cell_type": "markdown",
   "metadata": {},
   "source": [
    "## Reload and start here"
   ]
  },
  {
   "cell_type": "code",
   "execution_count": 3,
   "metadata": {},
   "outputs": [],
   "source": [
    "#pj.to_json('pj_full.json')\n",
    "pj=pd.read_json('pj_full.json')"
   ]
  },
  {
   "cell_type": "code",
   "execution_count": 4,
   "metadata": {},
   "outputs": [],
   "source": [
    "pj_full=pj.copy()"
   ]
  },
  {
   "cell_type": "code",
   "execution_count": 5,
   "metadata": {},
   "outputs": [],
   "source": [
    "pj=pj.sort_values(['references','recid']).reset_index(drop=True)"
   ]
  },
  {
   "cell_type": "code",
   "execution_count": 6,
   "metadata": {},
   "outputs": [
    {
     "data": {
      "text/plain": [
       "(21733815, 2)"
      ]
     },
     "execution_count": 6,
     "metadata": {},
     "output_type": "execute_result"
    }
   ],
   "source": [
    "pj.shape"
   ]
  },
  {
   "cell_type": "code",
   "execution_count": 7,
   "metadata": {},
   "outputs": [],
   "source": [
    "#pj=pj[:4000074]#.reset_index(drop=True)"
   ]
  },
  {
   "cell_type": "code",
   "execution_count": 8,
   "metadata": {},
   "outputs": [],
   "source": [
    "iini=0\n",
    "iend=1000000\n",
    "for i in range(1000):\n",
    "    if i==0:\n",
    "        ref_old=pj.loc[iend,'references']\n",
    "\n",
    "    if pj.loc[iend,'references']!=ref_old:\n",
    "        break\n",
    "    iend=iend+i\n",
    "\n",
    "pj=pj[iini:iend-1].reset_index(drop=True)\n",
    "iini=iend-1    \n",
    "iend=iend+1000000"
   ]
  },
  {
   "cell_type": "markdown",
   "metadata": {},
   "source": [
    "##  Main code to find the edges"
   ]
  },
  {
   "cell_type": "code",
   "execution_count": 9,
   "metadata": {},
   "outputs": [
    {
     "name": "stdout",
     "output_type": "stream",
     "text": [
      "15287.510861873627\n"
     ]
    }
   ],
   "source": [
    "start_time=time.time()\n",
    "\n",
    "DEBUG=True\n",
    "if DEBUG: \n",
    "    #===log===\n",
    "    f=open('kk.log','w')\n",
    "    f.write('')\n",
    "    f.close()\n",
    "    #==DEBUG===========\n",
    "\n",
    "id_col='recid'; refs_col='references'\n",
    "# Half of the work is order by refs_col, and id_col\n",
    "pj=pj.sort_values([refs_col,id_col]).reset_index(drop=True)\n",
    "ed={}\n",
    "t=()\n",
    "new_ref=0\n",
    "i=0\n",
    "iprint=1000\n",
    "\n",
    "while i<=pj.index[-1]:\n",
    "    if not i%iprint:\n",
    "        print(i,end='\\r')\n",
    "        if DEBUG:\n",
    "            #===log===\n",
    "            f=open('kk.log','a')\n",
    "            f.write('{}\\n'.format(i))\n",
    "            f.close()\n",
    "            #=======\n",
    "    e1=pj.loc[i,id_col]\n",
    "    #check next entry and beyond:\n",
    "    for j in range(i+1,pj.index[-1]+1):\n",
    "        #print('i,j',i,j) #,end='\\r')\n",
    "        e2=pj.loc[j,id_col]\n",
    "        #DEBUG\n",
    "        #if (e1,e2)==(190836,1644265):\n",
    "        #    print('i,j,check',i,j)\n",
    "        edges=False\n",
    "        if pj.loc[i,refs_col]==pj.loc[j,refs_col]:\n",
    "            edges=True\n",
    "        #else:\n",
    "            #print('newi',i,j)\n",
    "            \n",
    "        if edges:\n",
    "            if e1<e2:\n",
    "                t=(e1,e2)\n",
    "                if not ed.get(t):\n",
    "                    ed[t]=1\n",
    "                    #DEBUG\n",
    "                    #ed[t]=str( (i,j) )\n",
    "                else: #increase the number of common refs_col\n",
    "                    ed[t]=ed[t]+1\n",
    "                    #DEBUG: \n",
    "                    #ed[t]=ed[t]+str(  (i,j)  )\n",
    "        else:\n",
    "            # Go to next i when nor additional edges are found\n",
    "            break\n",
    "    #search after j. \n",
    "    i=i+1 # Be sure to increase i to avoid infinite loop\n",
    "    #if i>=25:\n",
    "    #    break\n",
    "    continue\n",
    "\n",
    "print(time.time()-start_time)    "
   ]
  },
  {
   "cell_type": "code",
   "execution_count": 10,
   "metadata": {},
   "outputs": [
    {
     "data": {
      "text/plain": [
       "655851"
      ]
     },
     "execution_count": 10,
     "metadata": {},
     "output_type": "execute_result"
    }
   ],
   "source": [
    "le=[{t:ed[t]} for t in ed.keys() if ed[t]>4 ]\n",
    "len(le)"
   ]
  },
  {
   "cell_type": "markdown",
   "metadata": {},
   "source": [
    "import json\n",
    "\n",
    "##### as requested in comment\n",
    "\n",
    "with open('file.txt', 'w') as file:\n",
    "     file.write(json.dumps({\"le\":le[0]})) "
   ]
  },
  {
   "cell_type": "code",
   "execution_count": 24,
   "metadata": {},
   "outputs": [],
   "source": [
    "ledf=pd.Series(ed)"
   ]
  },
  {
   "cell_type": "code",
   "execution_count": 25,
   "metadata": {},
   "outputs": [
    {
     "data": {
      "text/plain": [
       "(308356360,)"
      ]
     },
     "execution_count": 25,
     "metadata": {},
     "output_type": "execute_result"
    }
   ],
   "source": [
    "ledf.shape"
   ]
  },
  {
   "cell_type": "code",
   "execution_count": 27,
   "metadata": {},
   "outputs": [],
   "source": [
    "ledf.to_json('ed.json')"
   ]
  },
  {
   "cell_type": "code",
   "execution_count": 28,
   "metadata": {},
   "outputs": [
    {
     "name": "stdout",
     "output_type": "stream",
     "text": [
      "-rw-r--r-- 1 restrepo restrepo 5.9G Apr 26 01:18 ed.json\r\n"
     ]
    }
   ],
   "source": [
    "ls -lh ed.json"
   ]
  },
  {
   "cell_type": "code",
   "execution_count": 49,
   "metadata": {},
   "outputs": [],
   "source": []
  },
  {
   "cell_type": "code",
   "execution_count": 53,
   "metadata": {},
   "outputs": [],
   "source": [
    "ldf=pd.DataFrame()\n",
    "ldf=ldf.append( ledf[:100000],ignore_index=True).transpose()"
   ]
  },
  {
   "cell_type": "code",
   "execution_count": 59,
   "metadata": {},
   "outputs": [
    {
     "data": {
      "text/html": [
       "<div>\n",
       "<style>\n",
       "    .dataframe thead tr:only-child th {\n",
       "        text-align: right;\n",
       "    }\n",
       "\n",
       "    .dataframe thead th {\n",
       "        text-align: left;\n",
       "    }\n",
       "\n",
       "    .dataframe tbody tr th {\n",
       "        vertical-align: top;\n",
       "    }\n",
       "</style>\n",
       "<table border=\"1\" class=\"dataframe\">\n",
       "  <thead>\n",
       "    <tr style=\"text-align: right;\">\n",
       "      <th></th>\n",
       "      <th>0</th>\n",
       "    </tr>\n",
       "  </thead>\n",
       "  <tbody>\n",
       "    <tr>\n",
       "      <th>(625, 307561)</th>\n",
       "      <td>11.0</td>\n",
       "    </tr>\n",
       "  </tbody>\n",
       "</table>\n",
       "</div>"
      ],
      "text/plain": [
       "                  0\n",
       "(625, 307561)  11.0"
      ]
     },
     "execution_count": 59,
     "metadata": {},
     "output_type": "execute_result"
    }
   ],
   "source": [
    "ldf[ldf[0]>10]"
   ]
  },
  {
   "cell_type": "markdown",
   "metadata": {},
   "source": [
    "Continue in [run2](./run2/pajek.ipynb)"
   ]
  },
  {
   "cell_type": "code",
   "execution_count": 47,
   "metadata": {},
   "outputs": [
    {
     "name": "stdout",
     "output_type": "stream",
     "text": [
      "175.33333333333334 m\n",
      "2.9222222222222225 h\n"
     ]
    }
   ],
   "source": [
    "N=lambda x:  x*1052/100000/60\n",
    "npt=1000000\n",
    "print( N(npt),'m') \n",
    "print( N(npt)/60,'h') "
   ]
  },
  {
   "cell_type": "code",
   "execution_count": 48,
   "metadata": {},
   "outputs": [
    {
     "data": {
      "text/plain": [
       "3018"
      ]
     },
     "execution_count": 48,
     "metadata": {},
     "output_type": "execute_result"
    }
   ],
   "source": [
    "le=[{t:ed[t]} for t in ed.keys() if ed[t]>4 ]\n",
    "len(le)"
   ]
  },
  {
   "cell_type": "code",
   "execution_count": 49,
   "metadata": {},
   "outputs": [
    {
     "data": {
      "text/html": [
       "<div>\n",
       "<style>\n",
       "    .dataframe thead tr:only-child th {\n",
       "        text-align: right;\n",
       "    }\n",
       "\n",
       "    .dataframe thead th {\n",
       "        text-align: left;\n",
       "    }\n",
       "\n",
       "    .dataframe tbody tr th {\n",
       "        vertical-align: top;\n",
       "    }\n",
       "</style>\n",
       "<table border=\"1\" class=\"dataframe\">\n",
       "  <thead>\n",
       "    <tr style=\"text-align: right;\">\n",
       "      <th></th>\n",
       "      <th>edges</th>\n",
       "      <th>len_ed</th>\n",
       "    </tr>\n",
       "  </thead>\n",
       "  <tbody>\n",
       "    <tr>\n",
       "      <th>0</th>\n",
       "      <td>(4380, 666911)</td>\n",
       "      <td>5</td>\n",
       "    </tr>\n",
       "    <tr>\n",
       "      <th>1</th>\n",
       "      <td>(15239, 1387684)</td>\n",
       "      <td>5</td>\n",
       "    </tr>\n",
       "    <tr>\n",
       "      <th>2</th>\n",
       "      <td>(98947, 129333)</td>\n",
       "      <td>5</td>\n",
       "    </tr>\n",
       "  </tbody>\n",
       "</table>\n",
       "</div>"
      ],
      "text/plain": [
       "              edges  len_ed\n",
       "0    (4380, 666911)       5\n",
       "1  (15239, 1387684)       5\n",
       "2   (98947, 129333)       5"
      ]
     },
     "execution_count": 49,
     "metadata": {},
     "output_type": "execute_result"
    }
   ],
   "source": [
    "edf=pd.DataFrame({'tmp':le})\n",
    "edf['edges'] =edf.tmp.map(lambda x: list(x.keys())[0]  )\n",
    "edf['len_ed']=edf.tmp.map(lambda x: list(x.values())[0]  )\n",
    "edf=edf.drop('tmp',axis='columns')\n",
    "edf[:3]"
   ]
  },
  {
   "cell_type": "code",
   "execution_count": 50,
   "metadata": {},
   "outputs": [],
   "source": [
    "#edf.to_json('example1E5.json')"
   ]
  },
  {
   "cell_type": "markdown",
   "metadata": {},
   "source": [
    "Go to the previous code and run there. "
   ]
  },
  {
   "cell_type": "markdown",
   "metadata": {},
   "source": [
    "## Backup"
   ]
  },
  {
   "cell_type": "markdown",
   "metadata": {},
   "source": [
    "IMPORTANT COMMITS: \n",
    "* 44fa444ba3cc1f9a052bf80051f44a0d11c5838a\n",
    "  * Here the counting of the slow and fast to grouping mathc\n"
   ]
  }
 ],
 "metadata": {
  "kernelspec": {
   "display_name": "Python 3",
   "language": "python",
   "name": "python3"
  },
  "language_info": {
   "codemirror_mode": {
    "name": "ipython",
    "version": 3
   },
   "file_extension": ".py",
   "mimetype": "text/x-python",
   "name": "python",
   "nbconvert_exporter": "python",
   "pygments_lexer": "ipython3",
   "version": "3.5.3"
  }
 },
 "nbformat": 4,
 "nbformat_minor": 2
}
