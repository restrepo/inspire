{
 "cells": [
  {
   "cell_type": "markdown",
   "metadata": {},
   "source": [
    "## API from inspire\n",
    "See http://inspirehep.net/info/hep/api\n",
    "\n",
    "https://github.com/inspirehep"
   ]
  },
  {
   "cell_type": "markdown",
   "metadata": {},
   "source": [
    "Query with  Inspire search syntax and fields:\n",
    "* title,,authors,system_control_number,title,,doi,publication_info"
   ]
  },
  {
   "cell_type": "code",
   "execution_count": 1,
   "metadata": {},
   "outputs": [],
   "source": [
    "import requests"
   ]
  },
  {
   "cell_type": "code",
   "execution_count": 89,
   "metadata": {},
   "outputs": [],
   "source": [
    "r=requests.get('http://inspirehep.net/search?p=find+aff+antioquia+u.&of=recjson&rg=100&ot=title,authors,system_control_number,title,,doi,publication_info')"
   ]
  },
  {
   "cell_type": "code",
   "execution_count": null,
   "metadata": {},
   "outputs": [
    {
     "name": "stdout",
     "output_type": "stream",
     "text": [
      "Adiabaticity and gravity theory independent conservation laws for cosmological perturbations; Romano, Antonio Enea; PoS ; 2017\n",
      "Bound-state dark matter and Dirac neutrino mass; Restrepo, D.; Zapata, O.; A Simple No-Scale Model of Modulus Fixing and Inflation; Romano, Antonio Enea; Zapata, Oscar; Resonant production of dark photons in positron beam dump experiments; Carvajal, Cristian D.R.; A novel way to search for Dark Photon in beam-dump experiments; Carvajal, C.D. R.; Electroweak couplings and LHC constraints on alternative $Z^{\\prime}$ models in $E_6$; Ponce, William A.; Rodríguez, Oscar; Rojas, Eduardo; One spectrum to rule them all?; Machine learning developments in ROOT; Zapata, O.; J.Phys.Conf.Ser. ; 2017\n",
      "Vector Boson Fusion in the Inert Doublet Model; Palacio, Guillermo; Restrepo, Diego; Phys.Rev. ; 2018\n",
      "Measuring the mass, width, and couplings of semi-invisible resonances with the Matrix Element Method; Expanding the Reach of Heavy Neutrino Searches at the LHC; Restrepo, Diego; Phys.Lett. ; 2018\n",
      "Search for natural supersymmetry in events with top quark pairs and photons in pp collisions at sqrt(s) = 8 TeV; "
     ]
    }
   ],
   "source": [
    "for i in range(len(r.json())):\n",
    "    if r.json()[i].get('publication_info'):\n",
    "        try:\n",
    "            year=int( r.json()[i]['publication_info']['year'] )\n",
    "        except:\n",
    "            if type(r.json()[i]['publication_info'])==list:\n",
    "                try:\n",
    "                    year=int( r.json()[i]['publication_info'][0]['year'] )\n",
    "                except:\n",
    "                    year=0\n",
    "            else:\n",
    "                year=0\n",
    "            \n",
    "    if year > 2007:           \n",
    "            try:\n",
    "                print(r.json()[i]['title']['title'],end='; ')\n",
    "            except:\n",
    "                print('not title')\n",
    "            try:\n",
    "                for j in range(len(r.json()[i]['authors'])):\n",
    "                    if r.json()[i]['authors'][j]['affiliation']=='Antioquia U.':\n",
    "                        print( r.json()[i]['authors'][j]['full_name'],end='; ' )\n",
    "            except:\n",
    "                print('Not UdeA authors')\n",
    "            try:\n",
    "                print( r.json()[i]['publication_info']['title'],';',r.json()[i]['publication_info']['year'] )\n",
    "            except:\n",
    "                if type(r.json()[i]['publication_info'])==list:\n",
    "                    try:\n",
    "                        print( r.json()[i]['publication_info'][0]['title'],';',r.json()[i]['publication_info'][0]['year'] )   \n",
    "                    except:\n",
    "                        pass\n",
    "    \n"
   ]
  },
  {
   "cell_type": "code",
   "execution_count": 35,
   "metadata": {},
   "outputs": [
    {
     "name": "stdout",
     "output_type": "stream",
     "text": [
      "Not published\n"
     ]
    }
   ],
   "source": [
    "try:\n",
    "    r.json()[i]['publication_info']['title'],r.json()[i]['publication_info']['year']\n",
    "except:\n",
    "    print('Not published')"
   ]
  },
  {
   "cell_type": "code",
   "execution_count": 32,
   "metadata": {},
   "outputs": [
    {
     "data": {
      "text/plain": [
       "'2018'"
      ]
     },
     "execution_count": 32,
     "metadata": {},
     "output_type": "execute_result"
    }
   ],
   "source": [
    "r.json()[i]['publication_info']['year']"
   ]
  },
  {
   "cell_type": "code",
   "execution_count": 82,
   "metadata": {},
   "outputs": [
    {
     "ename": "TypeError",
     "evalue": "list indices must be integers, not str",
     "output_type": "error",
     "traceback": [
      "\u001b[0;31m---------------------------------------------------------------------------\u001b[0m",
      "\u001b[0;31mTypeError\u001b[0m                                 Traceback (most recent call last)",
      "\u001b[0;32m<ipython-input-82-83ab6ff5103d>\u001b[0m in \u001b[0;36m<module>\u001b[0;34m()\u001b[0m\n\u001b[1;32m      1\u001b[0m \u001b[0mi\u001b[0m\u001b[0;34m=\u001b[0m\u001b[0;36m31\u001b[0m\u001b[0;34m\u001b[0m\u001b[0m\n\u001b[0;32m----> 2\u001b[0;31m \u001b[0mprint\u001b[0m\u001b[0;34m(\u001b[0m \u001b[0mr\u001b[0m\u001b[0;34m.\u001b[0m\u001b[0mjson\u001b[0m\u001b[0;34m(\u001b[0m\u001b[0;34m)\u001b[0m\u001b[0;34m[\u001b[0m\u001b[0mi\u001b[0m\u001b[0;34m]\u001b[0m\u001b[0;34m[\u001b[0m\u001b[0;34m'publication_info'\u001b[0m\u001b[0;34m]\u001b[0m\u001b[0;34m[\u001b[0m\u001b[0;34m'title'\u001b[0m\u001b[0;34m]\u001b[0m \u001b[0;34m)\u001b[0m\u001b[0;34m\u001b[0m\u001b[0m\n\u001b[0m",
      "\u001b[0;31mTypeError\u001b[0m: list indices must be integers, not str"
     ]
    }
   ],
   "source": [
    "i=31\n",
    "print( r.json()[i]['publication_info']['title'] )"
   ]
  },
  {
   "cell_type": "code",
   "execution_count": null,
   "metadata": {},
   "outputs": [],
   "source": []
  }
 ],
 "metadata": {
  "kernelspec": {
   "display_name": "Python 3",
   "language": "python",
   "name": "python3"
  },
  "language_info": {
   "codemirror_mode": {
    "name": "ipython",
    "version": 3
   },
   "file_extension": ".py",
   "mimetype": "text/x-python",
   "name": "python",
   "nbconvert_exporter": "python",
   "pygments_lexer": "ipython3",
   "version": "3.4.2"
  }
 },
 "nbformat": 4,
 "nbformat_minor": 2
}
