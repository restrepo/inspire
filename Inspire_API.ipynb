{
 "cells": [
  {
   "cell_type": "markdown",
   "metadata": {},
   "source": [
    "## API from inspire\n",
    "See http://inspirehep.net/info/hep/api\n",
    "\n",
    "https://github.com/inspirehep"
   ]
  },
  {
   "cell_type": "markdown",
   "metadata": {},
   "source": [
    "Query with  Inspire search syntax and fields:\n",
    "* title,,authors,system_control_number,title,,doi,publication_info"
   ]
  },
  {
   "cell_type": "code",
   "execution_count": 44,
   "metadata": {},
   "outputs": [],
   "source": [
    "import requests\n",
    "import pandas as pd"
   ]
  },
  {
   "cell_type": "code",
   "execution_count": 2,
   "metadata": {},
   "outputs": [],
   "source": [
    "r=requests.get('http://inspirehep.net/search?p=find+aff+antioquia+u.+and+not+cn+cms&of=recjson&rg=100&ot=title,authors,system_control_number,title,,doi,publication_info')"
   ]
  },
  {
   "cell_type": "code",
   "execution_count": 7,
   "metadata": {},
   "outputs": [
    {
     "data": {
      "text/html": [
       "<div>\n",
       "<table border=\"1\" class=\"dataframe\">\n",
       "  <thead>\n",
       "    <tr style=\"text-align: right;\">\n",
       "      <th></th>\n",
       "      <th>A</th>\n",
       "    </tr>\n",
       "  </thead>\n",
       "  <tbody>\n",
       "    <tr>\n",
       "      <th>0</th>\n",
       "      <td>1.0</td>\n",
       "    </tr>\n",
       "  </tbody>\n",
       "</table>\n",
       "</div>"
      ],
      "text/plain": [
       "     A\n",
       "0  1.0"
      ]
     },
     "execution_count": 7,
     "metadata": {},
     "output_type": "execute_result"
    }
   ],
   "source": [
    "pd.DataFrame().append({'A':1},ignore_index=True)\n"
   ]
  },
  {
   "cell_type": "code",
   "execution_count": 48,
   "metadata": {},
   "outputs": [],
   "source": [
    "A='AAA'"
   ]
  },
  {
   "cell_type": "code",
   "execution_count": 49,
   "metadata": {},
   "outputs": [],
   "source": [
    "A=A[0]"
   ]
  },
  {
   "cell_type": "code",
   "execution_count": null,
   "metadata": {},
   "outputs": [],
   "source": [
    "A=1\n",
    "try:\n",
    "    A=A[0]\n",
    "excep"
   ]
  },
  {
   "cell_type": "code",
   "execution_count": 57,
   "metadata": {},
   "outputs": [],
   "source": [
    "A={'A':1}"
   ]
  },
  {
   "cell_type": "code",
   "execution_count": 59,
   "metadata": {},
   "outputs": [],
   "source": [
    "import json"
   ]
  },
  {
   "cell_type": "code",
   "execution_count": 64,
   "metadata": {},
   "outputs": [
    {
     "data": {
      "text/plain": [
       "{'A': 1}"
      ]
     },
     "execution_count": 64,
     "metadata": {},
     "output_type": "execute_result"
    }
   ],
   "source": [
    "json.loads('{\"A\":1}')"
   ]
  },
  {
   "cell_type": "code",
   "execution_count": 85,
   "metadata": {},
   "outputs": [],
   "source": [
    "A={'PIS':{'Y':1}}"
   ]
  },
  {
   "cell_type": "code",
   "execution_count": 87,
   "metadata": {},
   "outputs": [],
   "source": [
    "A={'PI':[{'Y':1}]}"
   ]
  },
  {
   "cell_type": "code",
   "execution_count": 88,
   "metadata": {},
   "outputs": [],
   "source": [
    "A['PI']=A['PI'][0]"
   ]
  },
  {
   "cell_type": "code",
   "execution_count": 92,
   "metadata": {},
   "outputs": [
    {
     "data": {
      "text/plain": [
       "1"
      ]
     },
     "execution_count": 92,
     "metadata": {},
     "output_type": "execute_result"
    }
   ],
   "source": [
    "A['PI']['Y']"
   ]
  },
  {
   "cell_type": "code",
   "execution_count": 86,
   "metadata": {},
   "outputs": [],
   "source": [
    "if A.get('PI') and type(A['PI'])==list:\n",
    "    print(1)"
   ]
  },
  {
   "cell_type": "code",
   "execution_count": 51,
   "metadata": {},
   "outputs": [],
   "source": []
  },
  {
   "cell_type": "code",
   "execution_count": null,
   "metadata": {},
   "outputs": [],
   "source": [
    "if type(r.json()[i]['publication_info'])==list:\n",
    "                    try:\n",
    "                        print( r.json()[i]['publication_info'][0]['title'],"
   ]
  },
  {
   "cell_type": "code",
   "execution_count": 96,
   "metadata": {},
   "outputs": [
    {
     "name": "stdout",
     "output_type": "stream",
     "text": [
      "Adiabaticity and gravity theory independent conservation laws for cosmological perturbations; Romano, Antonio Enea; PoS ; 2017\n",
      "Machine learning developments in ROOT; Zapata, O.; J.Phys.Conf.Ser. ; 2017\n",
      "Vector Boson Fusion in the Inert Doublet Model; Palacio, Guillermo; Restrepo, Diego; Phys.Rev. ; 2018\n",
      "Expanding the Reach of Heavy Neutrino Searches at the LHC; Restrepo, Diego; Phys.Lett. ; 2018\n",
      "Anomalous leptonic U(1) symmetry: Syndetic origin of the QCD axion, weak-scale dark matter, and radiative neutrino mass; Restrepo, Diego; Zapata, Óscar; Mod.Phys.Lett. ; 2018\n",
      "Mass spectrum and decay constants of radially excited vector mesons; Rojas, Eduardo; Phys.Rev. ; 2017\n",
      "Linking axionlike dark matter to neutrino masses; Carvajal, C.D.R.; Zapata, O.; Phys.Rev. ; 2017\n",
      "Doublet-triplet dark matter with neutrino masses; Betancur, Amalia; Longas, Robinson; Zapata, Oscar; Phys.Rev. ; 2017\n",
      "Reconstructing the metric of the local Universe from number counts observations; Vallejo, Sergio Andres; Romano, Antonio Enea; JCAP ; 2017\n",
      "Fermionic triplet dark matter in an $SO(10)$-inspired left right model; Restrepo, Diego; Phys.Rev. ; 2017\n",
      "Different vertex parameterizations and propagators for the Δ contribution in π-photoproduction; Quirós, J.J.; Jaramillo, D.E.; J.Phys. ; 2017\n",
      "Features in single field slow-roll inflation; Gallego Cadavid, Alexander; J.Phys.Conf.Ser. ; 2017\n",
      "Emission of gravitational waves by precession of slim accretion disks dynamically driven by the Bardeen‐Petterson effect; Alfonso, W.D.; Astron.Nachr. ; 2015\n",
      "Minimal nonuniversal electroweak extensions of the standard model: A chiral multiparameter solution; Ponce, William A.; Rodríguez, Oscar; Rojas, Eduardo; Phys.Rev. ; 2017\n",
      "CMB anomalies and the effects of local features of the inflaton potential; Gallego Cadavid, Alexander; Romano, Antonio Enea; Eur.Phys.J. ; 2017\n",
      "General calculation of the cross section for dark matter annihilations into two photons; Rivera, Andres; JCAP ; 2017\n",
      "Development of Machine Learning Tools in ROOT; Zapata, Omar A.; J.Phys.Conf.Ser. ; 2016\n",
      "Neutrino masses in the $SU(4)_L \\otimes U(1)_X$ electroweak extension of the standard model; Palacio, Guillermo; Int.J.Mod.Phys. ; 2016\n",
      "The role of $g_{9/2}$ intruder state in the nuclear matrix elements of $^{76}Ge → ^{76}Se 2νββ(0^+ → 0^+)$ decay; Valencia, J.P.; AIP Conf.Proc. ; 2016\n",
      "Collider and Dark Matter Searches in the Inert Doublet Model from Peccei-Quinn Symmetry; Longas, Robinson; JHEP ; 2016\n",
      "Global adiabaticity and non-Gaussianity consistency condition; Romano, Antonio Enea; Phys.Lett. ; 2016\n",
      "Radiative Type III Seesaw Model and its collider phenomenology; von der Pahlen, Federico; Palacio, Guillermo; Restrepo, Diego; Zapata, Oscar; Phys.Rev. ; 2016\n",
      "Flipped versions of the universal 3-3-1 and the left-right symmetric models in $[SU(3)]^3$: a comprehensive approach; Rodríguez, Oscar; Ponce, William A.; Rojas, Eduardo; Phys.Rev. ; 2017\n",
      "Couplings between the $\\rho$ and $D$- and $D^\\ast$-mesons; Rojas, Eduardo; Phys.Rev. ; 2017\n",
      "Excited hadrons and the analytical structure of bound-state interaction kernels; Rojas, Eduardo; Few Body Syst. ; 2016\n",
      "The Fermi-LAT gamma-ray excess at the Galactic Center in the singlet-doublet fermion dark matter model; Restrepo, Diego; Rivera, Andres; Zapata, Oscar; JCAP ; 2016\n",
      "The assignment of Lepton number and neutrino masses in 3-3-1 models; Ponce, William A.; Nucl.Part.Phys.Proc. ; 2015\n",
      "A model with a viable dark matter candidate and massive neutrinos; Restrepo, D.; Rivera, A.; Sánchez, M.; Zapata, O.; Nucl.Part.Phys.Proc. ; 2015\n",
      "Lepton Flavor Violation in the Inert Extension of the Zee Model; Portillo, D.; Nucl.Part.Phys.Proc. ; 2015\n",
      "Inert extension of the Zee model; Longas, R.; Nucl.Part.Phys.Proc. ; 2015\n",
      "Effects of features in the inflaton potential on the spectrum and bispectrum of primordial curvature perturbations; Gallego Cadavid, Alexander; Romano, Antonio Enea; Nucl.Part.Phys.Proc. ; 2015\n",
      "Cross section of pseudoscalar meson photoproduction within the ELA; Quirós, J.J.; Tamayo, D.F.; Jaramillo, D.E.; Nucl.Part.Phys.Proc. ; 2015\n",
      "Renormalization of the Complex MSSM in FeynArts/FormCalc; von der Pahlen, F.; Nucl.Part.Phys.Proc. ; 2015\n",
      "Direct Detection of Fermion Dark Matter in the Radiative Seesaw Model; Zapata, Oscar; Phys.Rev. ; 2016\n",
      "Adiabaticity and gravity theory independent conservation laws for cosmological perturbations; Romano, Antonio Enea; Phys.Lett. ; 2016\n",
      "Spatial morphology of the secondary emission in the Galactic Center gamma-ray excess; Macias, Oscar; Phys.Rev. ; 2016\n",
      "The Inert Zee Model; Longas, Robinson; Portillo, Dilia; Restrepo, Diego; Zapata, Oscar; JHEP ; 2016\n",
      "Diboson anomaly: Heavy Higgs resonance and QCD vectorlike exotics; Restrepo, D.; Phys.Rev. ; 2016\n",
      "Fermion dark matter from SO(10) GUTs; Longas, Robinson; Restrepo, Diego; Zapata, Oscar; Phys.Rev. ; 2016\n",
      "Contemporary continuum QCD approaches to excited hadrons; Rojas, Eduardo; EPJ Web Conf. ; 2016\n",
      "Effects of local features of the inflaton potential on the spectrum and bispectrum of primordial perturbations; Gallego Cadavid, Alexander; Romano, Antonio Enea; Eur.Phys.J. ; 2016\n",
      "Alternative Z$^{′}$ bosons in E$_{6}$; Rojas, Eduardo; JHEP ; 2015\n",
      "Radiative Neutrino Masses in the Singlet-Doublet Fermion Dark Matter Model with Scalar Singlets; Restrepo, Diego; Rivera, Andrés; Sánchez-Peláez, Marta; Zapata, Oscar; Phys.Rev. ; 2015\n",
      "Completing the picture of the Roper resonance; Rojas, Eduardo; Phys.Rev.Lett. ; 2015\n",
      "LHC Constraints on 3-3-1 Models; Salazar, Camilo; Ponce, William A.; Rojas, Eduardo; JHEP ; 2015\n",
      "Lepton number violation and neutrino masses in 3-3-1 models; Ponce, William A.; Adv.High Energy Phys. ; 2015\n",
      "Low-redshift effects of local structure on the Hubble parameter in presence of a cosmological constant; Romano, Antonio Enea; Vallejo, Sergio Andres; Eur.Phys.J. ; 2016\n",
      "Galaxy Cluster Mass Reconstruction Project – II. Quantifying scatter and bias using contrasting mock catalogues; Muñoz-Cuartas, J.C.; Mon.Not.Roy.Astron.Soc. ; 2015\n",
      "Insights into the Quark–Gluon Vertex from Lattice QCD and Meson Spectroscopy; Rojas, E.; Few Body Syst. ; 2015\n",
      "Effects of discontinuities of the derivatives of the inflaton potential; Gallego Cadavid, Alexander; Romano, Antonio Enea; Eur.Phys.J. ; 2015\n",
      "Directional dependence of the local estimation of $H_0$ and the nonperturbative effects of primordial curvature perturbations; Romano, Antonio Enea; Vallejo, Sergio Andrés; EPL ; 2015\n",
      "Geometric Reid's recipe for dimer models; Quintero Velez, Alexander; Math.Ann. ; 2015\n"
     ]
    }
   ],
   "source": [
    "df=pd.DataFrame()\n",
    "#i=15\n",
    "#if True:\n",
    "for i in range(len(r.json())):\n",
    "    year=0\n",
    "    #Some tines 'publication info is a list' and we need component 0\n",
    "    if r.json()[i].get('publication_info')  and type( r.json()[i]['publication_info'] ) ==list: \n",
    "        r.json()[i]['publication_info']=r.json()[i]['publication_info'][0]\n",
    "    \n",
    "    \n",
    "    try:\n",
    "        year=int( r.json()[i]['publication_info']['year'] )\n",
    "    except:\n",
    "        pass\n",
    "            \n",
    "    if year > 2014:\n",
    "            ps={}\n",
    "            ps['year']=year\n",
    "            try:\n",
    "                print(r.json()[i]['title']['title'],end='; ')\n",
    "                ps['title']=r.json()[i]['title']['title']\n",
    "            except:\n",
    "                print('not title')\n",
    "            try:\n",
    "                authors=''\n",
    "                for j in range(len(r.json()[i]['authors'])):\n",
    "                    if 'Antioquia U.' in r.json()[i]['authors'][j]['affiliation']:\n",
    "                        print( r.json()[i]['authors'][j]['full_name'],end='; ' )\n",
    "                        authors=authors+r.json()[i]['authors'][j]['full_name']\n",
    "                ps['authors']=authors\n",
    "                \n",
    "            except:\n",
    "                print('Not UdeA authors')\n",
    "\n",
    "            try:\n",
    "                print( r.json()[i]['publication_info']['title'],';',r.json()[i]['publication_info']['year'] )\n",
    "                journal=r.json()[i]['publication_info']['title']\n",
    "                ps['journal']=journal\n",
    "            except:\n",
    "                pass\n",
    "                \n",
    "            df=df.append(ps,ignore_index=True)\n",
    "\n",
    "try:\n",
    "    df['year']=df.year.astype(int)\n",
    "except:\n",
    "    pass"
   ]
  },
  {
   "cell_type": "code",
   "execution_count": 98,
   "metadata": {},
   "outputs": [],
   "source": [
    "df.to_excel('kk.xlsx',index=False)"
   ]
  },
  {
   "cell_type": "code",
   "execution_count": null,
   "metadata": {},
   "outputs": [],
   "source": [
    "df.to_excel('')"
   ]
  },
  {
   "cell_type": "code",
   "execution_count": 107,
   "metadata": {},
   "outputs": [],
   "source": [
    "pr=pd.read_excel('https://docs.google.com/spreadsheets/d/e/2PACX-1vSytb34eYhmQHwAOMq0a4TWf-ijN2GANQQ4Yb6nG51ftrgPuU1VNHQ-arqTjMzi-biZ7zsddHvTTvTX/pub?output=xlsx')"
   ]
  },
  {
   "cell_type": "code",
   "execution_count": 108,
   "metadata": {},
   "outputs": [],
   "source": [
    "pr=pr.fillna('')"
   ]
  },
  {
   "cell_type": "code",
   "execution_count": 110,
   "metadata": {},
   "outputs": [],
   "source": [
    "import numpy as np"
   ]
  },
  {
   "cell_type": "code",
   "execution_count": 112,
   "metadata": {},
   "outputs": [],
   "source": [
    "pd.set_option('display.max_colwidth',600)"
   ]
  },
  {
   "cell_type": "code",
   "execution_count": 113,
   "metadata": {},
   "outputs": [
    {
     "data": {
      "text/html": [
       "<div>\n",
       "<table border=\"1\" class=\"dataframe\">\n",
       "  <thead>\n",
       "    <tr style=\"text-align: right;\">\n",
       "      <th></th>\n",
       "      <th>Timestamp</th>\n",
       "      <th>Email Address</th>\n",
       "      <th>Proyecto ID</th>\n",
       "      <th>Título</th>\n",
       "      <th>Investigador Principal</th>\n",
       "      <th>Acta</th>\n",
       "      <th>Fecha de Inicio</th>\n",
       "      <th>Fecha de Finalización</th>\n",
       "      <th>Tipo</th>\n",
       "      <th>Centro</th>\n",
       "      <th>Grupo</th>\n",
       "      <th>Valor Total</th>\n",
       "      <th>Recursos Frescos</th>\n",
       "      <th>Número de contrato</th>\n",
       "    </tr>\n",
       "  </thead>\n",
       "  <tbody>\n",
       "    <tr>\n",
       "      <th>7</th>\n",
       "      <td>2013-03-19 09:33:19</td>\n",
       "      <td>drestre@fisica.udea.edu.co</td>\n",
       "      <td>IN3055CE</td>\n",
       "      <td>Implicaciones de modelos supersimétricos con violación de paridad R en las fronteras de física de partículas y cosmología</td>\n",
       "      <td>Diego Restrepo</td>\n",
       "      <td>111556934918</td>\n",
       "      <td>2013-02-14 00:00:00</td>\n",
       "      <td>2015-02-14 00:00:00</td>\n",
       "      <td>Colciencias</td>\n",
       "      <td></td>\n",
       "      <td>GFIF:  Grupo de Fenomenología de Interacciones Fundamentales</td>\n",
       "      <td>501695067</td>\n",
       "      <td>340726155</td>\n",
       "      <td>0044 - 2013</td>\n",
       "    </tr>\n",
       "    <tr>\n",
       "      <th>22</th>\n",
       "      <td>2015-03-26 11:27:25.719000</td>\n",
       "      <td>ozapata@fisica.udea.edu.co</td>\n",
       "      <td>111565842691</td>\n",
       "      <td>Fenomenología de modelos escotogénicos</td>\n",
       "      <td>Óscar Zapata</td>\n",
       "      <td>3074</td>\n",
       "      <td>2015-03-01 00:00:00</td>\n",
       "      <td>2018-03-01 00:00:00</td>\n",
       "      <td>Colciencias</td>\n",
       "      <td></td>\n",
       "      <td>GFIF:  Grupo de Fenomenología de Interacciones Fundamentales</td>\n",
       "      <td>$631.407.575</td>\n",
       "      <td>$193.749-600</td>\n",
       "      <td>FP44842-013-2015</td>\n",
       "    </tr>\n",
       "    <tr>\n",
       "      <th>25</th>\n",
       "      <td>2015-11-09 13:22:52.525000</td>\n",
       "      <td>drestre@fisica.udea.edu.co</td>\n",
       "      <td>IN662CE</td>\n",
       "      <td>Fenomengología de bosones vectorial neutros extra</td>\n",
       "      <td>Eduardo Rojas Peña</td>\n",
       "      <td>662 de 2015-03-18</td>\n",
       "      <td>2015-03-18 00:00:00</td>\n",
       "      <td>2017-03-18 00:00:00</td>\n",
       "      <td>Postdoc COLCIENCIAS</td>\n",
       "      <td></td>\n",
       "      <td>GFIF:  Grupo de Fenomenología de Interacciones Fundamentales</td>\n",
       "      <td>100000000</td>\n",
       "      <td>80000000</td>\n",
       "      <td></td>\n",
       "    </tr>\n",
       "    <tr>\n",
       "      <th>26</th>\n",
       "      <td>2018-04-14 23:10:27.772000</td>\n",
       "      <td>admin@fisica.udea.edu.co</td>\n",
       "      <td>111577657253</td>\n",
       "      <td>Implicaciones de modelos de materia oscura en experimentos de detección directa.</td>\n",
       "      <td>Diego Aleandro Restrepo Quintero</td>\n",
       "      <td>111577657253</td>\n",
       "      <td>2017-11-21 00:00:00</td>\n",
       "      <td>2019-11-21</td>\n",
       "      <td>Colciencias</td>\n",
       "      <td></td>\n",
       "      <td>GFIF:  Grupo de Fenomenología de Interacciones Fundamentales</td>\n",
       "      <td>$681,686,213,00</td>\n",
       "      <td>198570821</td>\n",
       "      <td>FP44842-430-2017</td>\n",
       "    </tr>\n",
       "  </tbody>\n",
       "</table>\n",
       "</div>"
      ],
      "text/plain": [
       "                     Timestamp               Email Address   Proyecto ID  \\\n",
       "7          2013-03-19 09:33:19  drestre@fisica.udea.edu.co      IN3055CE   \n",
       "22  2015-03-26 11:27:25.719000  ozapata@fisica.udea.edu.co  111565842691   \n",
       "25  2015-11-09 13:22:52.525000  drestre@fisica.udea.edu.co       IN662CE   \n",
       "26  2018-04-14 23:10:27.772000    admin@fisica.udea.edu.co  111577657253   \n",
       "\n",
       "                                                                                                                       Título  \\\n",
       "7   Implicaciones de modelos supersimétricos con violación de paridad R en las fronteras de física de partículas y cosmología   \n",
       "22                                                                                     Fenomenología de modelos escotogénicos   \n",
       "25                                                                          Fenomengología de bosones vectorial neutros extra   \n",
       "26                                           Implicaciones de modelos de materia oscura en experimentos de detección directa.   \n",
       "\n",
       "              Investigador Principal               Acta      Fecha de Inicio  \\\n",
       "7                     Diego Restrepo       111556934918  2013-02-14 00:00:00   \n",
       "22                      Óscar Zapata               3074  2015-03-01 00:00:00   \n",
       "25                Eduardo Rojas Peña  662 de 2015-03-18  2015-03-18 00:00:00   \n",
       "26  Diego Aleandro Restrepo Quintero       111577657253  2017-11-21 00:00:00   \n",
       "\n",
       "   Fecha de Finalización                 Tipo Centro  \\\n",
       "7    2015-02-14 00:00:00          Colciencias          \n",
       "22   2018-03-01 00:00:00          Colciencias          \n",
       "25   2017-03-18 00:00:00  Postdoc COLCIENCIAS          \n",
       "26            2019-11-21          Colciencias          \n",
       "\n",
       "                                                           Grupo  \\\n",
       "7   GFIF:  Grupo de Fenomenología de Interacciones Fundamentales   \n",
       "22  GFIF:  Grupo de Fenomenología de Interacciones Fundamentales   \n",
       "25  GFIF:  Grupo de Fenomenología de Interacciones Fundamentales   \n",
       "26  GFIF:  Grupo de Fenomenología de Interacciones Fundamentales   \n",
       "\n",
       "        Valor Total Recursos Frescos Número de contrato  \n",
       "7         501695067        340726155        0044 - 2013  \n",
       "22     $631.407.575     $193.749-600   FP44842-013-2015  \n",
       "25        100000000         80000000                     \n",
       "26  $681,686,213,00        198570821   FP44842-430-2017  "
      ]
     },
     "execution_count": 113,
     "metadata": {},
     "output_type": "execute_result"
    }
   ],
   "source": [
    "pr[np.logical_and( pr.Grupo.str.lower().str.contains('gfif'),\n",
    "                   pr.Tipo.str.lower().str.contains('colciencias') )]"
   ]
  },
  {
   "cell_type": "code",
   "execution_count": null,
   "metadata": {},
   "outputs": [],
   "source": []
  }
 ],
 "metadata": {
  "kernelspec": {
   "display_name": "Python 3",
   "language": "python",
   "name": "python3"
  },
  "language_info": {
   "codemirror_mode": {
    "name": "ipython",
    "version": 3
   },
   "file_extension": ".py",
   "mimetype": "text/x-python",
   "name": "python",
   "nbconvert_exporter": "python",
   "pygments_lexer": "ipython3",
   "version": "3.4.2"
  }
 },
 "nbformat": 4,
 "nbformat_minor": 2
}
