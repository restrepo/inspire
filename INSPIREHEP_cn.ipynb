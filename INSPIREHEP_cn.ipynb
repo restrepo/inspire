{
 "cells": [
  {
   "cell_type": "markdown",
   "id": "adfa5bea-2261-47eb-ba3d-4a142aafc449",
   "metadata": {},
   "source": [
    "## Search experiments"
   ]
  },
  {
   "cell_type": "code",
   "execution_count": 1,
   "id": "1bb37e68",
   "metadata": {},
   "outputs": [],
   "source": [
    "import requests"
   ]
  },
  {
   "cell_type": "code",
   "execution_count": 2,
   "id": "18d9f4af-36ba-42e9-a86a-651d9b4c0a7f",
   "metadata": {},
   "outputs": [],
   "source": [
    "r=requests.get(f'https://inspirehep.net/api/experiments?size={240}')"
   ]
  },
  {
   "cell_type": "code",
   "execution_count": 42,
   "id": "16b401f6-45a7-424f-b551-e780b4d2219f",
   "metadata": {},
   "outputs": [],
   "source": [
    "#r=requests.get('https://inspirehep.net/api/experiments?q=CERN-LHC-CMS')"
   ]
  },
  {
   "cell_type": "code",
   "execution_count": 3,
   "id": "f3884aaa-7b32-4afd-b969-b735cce0e9ec",
   "metadata": {},
   "outputs": [],
   "source": [
    "i=1\n",
    "lex=r.json().get('hits').get('hits')\n",
    "#lex[i].get('id'),lex[i].get('metadata').get('legacy_name')"
   ]
  },
  {
   "cell_type": "code",
   "execution_count": 4,
   "id": "20d542cf-dd97-481f-a647-4918e9b42198",
   "metadata": {},
   "outputs": [],
   "source": [
    "j=1\n",
    "lex=r.json().get('hits').get('hits')\n",
    "#While in lex"
   ]
  },
  {
   "cell_type": "markdown",
   "id": "532d1cf0-38c6-4f28-851b-58e76e702f03",
   "metadata": {
    "tags": []
   },
   "source": [
    "### Search experiment\n",
    "By control number"
   ]
  },
  {
   "cell_type": "code",
   "execution_count": null,
   "id": "1d7c62da-9411-48fb-bdbb-2895288a2d05",
   "metadata": {},
   "outputs": [],
   "source": [
    "ex=lex[j]\n",
    "control_number=ex.get('id')\n",
    "#Get Experiment authors profiles\n",
    "#...\n",
    "# Get Experiment papers"
   ]
  },
  {
   "cell_type": "code",
   "execution_count": 5,
   "id": "44d63416-4021-4ace-9b90-63e0db77aec3",
   "metadata": {},
   "outputs": [],
   "source": [
    "control_number=1108642\n",
    "#temporal ex\n",
    "url_exp=f'https://inspirehep.net/api/experiments/{control_number}'\n",
    "r=requests.get(url_exp)\n",
    "ex=r.json().get('metadata')\n",
    "JSON(ex)"
   ]
  },
  {
   "cell_type": "markdown",
   "id": "0147bb5e",
   "metadata": {},
   "source": [
    "## Define class"
   ]
  },
  {
   "cell_type": "code",
   "execution_count": null,
   "id": "0f3f1d15",
   "metadata": {},
   "outputs": [],
   "source": [
    "class author(profile):\n",
    "    sleep = 0.4\n",
    "    #`ids → [{\"schema\": \"INSPIRE BAI\"}]` required for author_id\n",
    "    #`affiliations → [{...}] required for institution_id\n",
    "    schema_author={\"ids\": {'type':'list',\n",
    "                           'schema':{'type':'dict',\n",
    "                                     'schema':{'schema':{'type':'string'},\n",
    "                                               'value': {'type':'string'}\n",
    "                                              }\n",
    "                                    }\n",
    "                          }, \n",
    "            \"record\":{'type':'dict'}, \n",
    "            \"full_name\": {'type':'string'}, \n",
    "            \"affiliations\":{'type':'list',\n",
    "                           'schema':{'type':'dict','required':True}}\n",
    "           }\n",
    "    sample_author={\"ids\":[{\"value\": \"D.Restrepo.1\", \n",
    "                            \"schema\": \"INSPIRE BAI\"}\n",
    "                          ], \n",
    "                   \"uuid\": \"300c9b2c-15b0-4937-ad36-8ccff33fd09d\", \n",
    "                   \"emails\": [\"restrepo@udea.edu.co\"], \n",
    "                   \"record\": {\"$ref\": \"https://inspirehep.net/api/authors/991924\"}, \n",
    "                   \"full_name\": \"Restrepo, Diego\", \n",
    "                   \"affiliations\": [{\"value\": \"Antioquia U.\", \n",
    "                                     \"record\": {\"$ref\": \"https://inspirehep.net/api/institutions/903906\"}},\n",
    "                                   {\"value\":\"Campinas State U.\",\n",
    "                                    \"record\":{\"$ref\":\"https://inspirehep.net/api/institutions/902714\"}}], \n",
    "                   \"signature_block\": \"RASTRAPd\", \n",
    "                   \"raw_affiliations\": [{\"value\": \"Instituto de Física, Universidad de Antioquia, Calle 70 No 52-21, Medellín, Colombia\"}, \n",
    "                                        {\"value\": \"Instituto de Física Gleb Wataghin, UNICAMP, 13083-859, Campinas, SP, Brazil\"}]}\n",
    "    def __init__(self,a,db=[]):\n",
    "        self.author=a\n",
    "        self.db=db\n",
    "        if a:\n",
    "            v=Validator(self.schema_author,allow_unknown=True)\n",
    "            if not v.validate(a):\n",
    "                raise Exception(f'''\n",
    "                    Input is not an INSPIRE-HEP author dictionary:\n",
    "                    {v.errors}\n",
    "                    See `self.sample_author`''')\n",
    "        #if not hasattr(self,'cache'):\n",
    "        #    self.cache={}\n",
    "        #if not hasattr(self,'cachecho'):\n",
    "        #    self.cacheco={}                        \n",
    "        #super(author, self).__init__(p)\n",
    "    def get_authors(self):\n",
    "        #TODO: Check previous analysis for more metadata\n",
    "        #use requests\n",
    "        a=self.author\n",
    "        r=empty_json()\n",
    "        self.full_name=a.get('full_name')\n",
    "        try:\n",
    "            self.author_id=[i for i  in a.get('ids') if i.get('schema')=='INSPIRE BAI'\n",
    "                  ][0].get('value')\n",
    "        except:\n",
    "            self.author_id=None\n",
    "\n",
    "        #a.get('affiliations') is not always there\n",
    "        try:\n",
    "            affiliations=[dict([(k,d.get(k)) for k in d if k in ['value','record']]) \n",
    "                               for d in a.get('affiliations') ]\n",
    "        except TypeError:\n",
    "            affiliations=[]\n",
    "            \n",
    "        #Profile\n",
    "        try:\n",
    "            url=a.get('record').get(\"$ref\")\n",
    "        except AttributeError:\n",
    "            url=''\n",
    "        if url and isinstance(url,str):\n",
    "            self.profile_id=url.split('/')[-1]\n",
    "            r=empty_json()\n",
    "            try:\n",
    "                r=requests.get(url,timeout=timeout)\n",
    "                time.sleep(self.sleep)\n",
    "            except:\n",
    "                r.status_code=-1\n",
    "        if r.status_code==200:\n",
    "            p=r.json().get('metadata')\n",
    "        else:\n",
    "            p={}#{'status_code':r.status_code}\n",
    "            #return self.db #author without affilitions are not considered\n",
    "            \n",
    "        #We assume that the affilition is defined at least for\n",
    "        #one of the authors of the paper\n",
    "        #Authos without affiliations to get their institution are not considered\n",
    "        super(author, self).__init__(p)             \n",
    "        d=super(author, self).get_author() #→ self.profile\n",
    "        if self.author_id is None:\n",
    "            try:\n",
    "                self.author_id=[i for i  in self.profile.get('ids') if i.get('schema')=='INSPIRE BAI'\n",
    "                  ][0].get('value')\n",
    "            except:\n",
    "                self.author_id=None            \n",
    "            \n",
    "        \n",
    "        #self.to_dict=super(author, self).to_dict\n",
    "        ll=[x for x in self.db if hasattr(x,'author_id') and hasattr(x,'institution_id')]\n",
    "        #self.db[i] affiliation not in affiliation are not touched\n",
    "        self.institution=''\n",
    "        self.institution_id=None\n",
    "        self.institution_ids=[]\n",
    "        for aff in affiliations:\n",
    "            #We assumme that aff have at least the institution infomation\n",
    "            self.institution=aff.get('value')\n",
    "            if not self.institution:\n",
    "                self.institution_id=None\n",
    "                self.country=None\n",
    "                continue\n",
    "            try:\n",
    "                aff_url=aff.get('record').get('$ref')            \n",
    "                self.institution_id=aff_url.split('/')[-1]\n",
    "                self.institution_ids.append(self.institution_id)\n",
    "                #self.cache[self.institution]=self.institution_id\n",
    "            except AttributeError:\n",
    "                self.institution_id=None#self.cache.get(self.institution) #None if not key\n",
    "                aff_url=None\n",
    "            \n",
    "            #if self.cacheco.get(self.institution):\n",
    "            #    self.country=self.cacheco.get(self.institution)\n",
    "            self.country=None\n",
    "            if aff_url:\n",
    "                rr=empty_json()\n",
    "                try:\n",
    "                    rr=requests.get(aff_url,timeout=timeout)\n",
    "                    time.sleep(self.sleep)\n",
    "                except:\n",
    "                    rr.status_code=-1\n",
    "                if rr.status_code==200:\n",
    "                    try:\n",
    "                        self.country=rr.json().get('metadata').get('addresses')[0].get('country')\n",
    "                        #if self.country:\n",
    "                        #    self.cacheco[self.institution]=self.country\n",
    "                    except:\n",
    "                        self.country=None\n",
    "            else:\n",
    "                self.country=None\n",
    "                \n",
    "            \n",
    "            filtered_db=[x for x in ll if x.author_id==self.author_id \n",
    "                         and x.institution_id==self.institution_id]\n",
    "            if filtered_db:\n",
    "                au=filtered_db[0] #must be unique!\n",
    "            else: #aff not in self.db → New affiliation\n",
    "                ai=copy.copy(self)#deepcopy(self)\n",
    "                self.db.append(ai)\n",
    "                del ai #be sure that ai will not be modified\n",
    "        return self.db\n",
    "    def to_json(self):\n",
    "        return [d.to_dict() for d in self.db]\n"
   ]
  },
  {
   "cell_type": "markdown",
   "id": "5966862a-c71b-42fc-affc-43951052a627",
   "metadata": {
    "jp-MarkdownHeadingCollapsed": true,
    "tags": []
   },
   "source": [
    "#### Obtain papers metadata"
   ]
  },
  {
   "cell_type": "code",
   "execution_count": 10,
   "id": "b3510e7a-e1f4-4a0a-a1b8-e1e72d9aa028",
   "metadata": {},
   "outputs": [],
   "source": [
    "paper={}\n",
    "paper['legacy_name']=ex.get('legacy_name')\n",
    "paper['control_number']=ex.get('control_number')\n",
    "paper['number_of_papers']=ex.get('number_of_papers')\n",
    "paper['collaboration']=ex.get(\"collaboration\").get('value')\n",
    "paper['literature_link']=f\"https://inspirehep.net/api/literature?size=25&page=1&q=collaboration:{paper.get('collaboration')}\""
   ]
  },
  {
   "cell_type": "code",
   "execution_count": 11,
   "id": "940081b2-8487-4656-85b5-40cc7c47eb9d",
   "metadata": {},
   "outputs": [
    {
     "data": {
      "text/plain": [
       "{'legacy_name': 'CERN-LHC-CMS',\n",
       " 'control_number': 1108642,\n",
       " 'number_of_papers': 13049,\n",
       " 'collaboration': 'CMS',\n",
       " 'literature_link': 'https://inspirehep.net/api/literature?size=25&page=1&q=collaboration:CMS'}"
      ]
     },
     "execution_count": 11,
     "metadata": {},
     "output_type": "execute_result"
    }
   ],
   "source": [
    "paper"
   ]
  },
  {
   "cell_type": "markdown",
   "id": "eab8add2-73a5-4d25-a2e2-73a5b8b4a383",
   "metadata": {},
   "source": [
    "#### Obtain authors metadata"
   ]
  },
  {
   "cell_type": "code",
   "execution_count": 12,
   "id": "d044c20f-0cb8-437a-987d-4e7eeeaa8456",
   "metadata": {},
   "outputs": [],
   "source": [
    "#TODO: Load papers for existing author\n",
    "papers=[]"
   ]
  },
  {
   "cell_type": "code",
   "execution_count": null,
   "id": "8141329e",
   "metadata": {},
   "outputs": [],
   "source": [
    "paper={}\n",
    "paper['legacy_name']=ex.get('legacy_name')\n",
    "paper['control_number']=ex.get('control_number')\n",
    "paper['number_of_papers']=ex.get('number_of_papers')\n",
    "paper['collaboration']=ex.get(\"collaboration\").get('value')\n",
    "paper['literature_link']=f\"https://inspirehep.net/api/literature?size=25&page=1&q=collaboration:{paper.get('collaboration')}\"\n",
    "\n",
    "url=f'https://inspirehep.net/api/authors?q=project_membership.record.%24ref%3A{control_number}&page=1&size=25'\n",
    "r=requests.get(url)\n",
    "\n",
    "pp=r.json().get('hits').get('hits')[0].get('metadata') #experimental author"
   ]
  },
  {
   "cell_type": "code",
   "execution_count": 13,
   "id": "296702e9-5d8a-40f0-bbdb-d4119948ee52",
   "metadata": {},
   "outputs": [],
   "source": [
    "url=f'https://inspirehep.net/api/authors?q=project_membership.record.%24ref%3A{control_number}&page=1&size=25'\n",
    "r=requests.get(url)"
   ]
  },
  {
   "cell_type": "code",
   "execution_count": 14,
   "id": "5e7911ec-c019-4f6a-a3a7-550980d74f7f",
   "metadata": {},
   "outputs": [
    {
     "data": {
      "text/plain": [
       "'https://inspirehep.net/api/authors?q=project_membership.record.%24ref%3A1108642&page=1&size=25'"
      ]
     },
     "execution_count": 14,
     "metadata": {},
     "output_type": "execute_result"
    }
   ],
   "source": [
    "url"
   ]
  },
  {
   "cell_type": "code",
   "execution_count": 33,
   "id": "11fd65b6-fca6-4ed8-ac8d-99bb864a06eb",
   "metadata": {},
   "outputs": [],
   "source": [
    "pp=r.json().get('hits').get('hits')[0].get('metadata')"
   ]
  },
  {
   "cell_type": "code",
   "execution_count": 34,
   "id": "a768e6e6-8ac8-4fd8-83c4-bcd11b39a733",
   "metadata": {},
   "outputs": [
    {
     "data": {
      "text/plain": [
       "{'project_membership': [{'name': 'CERN-LHC-CMS',\n",
       "   'record': {'$ref': 'https://inspirehep.net/api/experiments/1108642'},\n",
       "   'current': False,\n",
       "   'curated_relation': True},\n",
       "  {'name': 'CERN-NA64',\n",
       "   'record': {'$ref': 'https://inspirehep.net/api/experiments/1108642'},\n",
       "   'current': False,\n",
       "   'curated_relation': True}],\n",
       " 'positions': [{'rank': 'SENIOR',\n",
       "   'record': {'$ref': 'https://inspirehep.net/api/institutions/903030'},\n",
       "   'current': True,\n",
       "   'institution': 'Moscow, INR',\n",
       "   'curated_relation': True},\n",
       "  {'rank': 'PHD',\n",
       "   'record': {'$ref': 'https://inspirehep.net/api/institutions/903030'},\n",
       "   'end_date': '1988',\n",
       "   'institution': 'Moscow, INR',\n",
       "   'curated_relation': True}],\n",
       " 'ids': [{'value': '0000-0002-7397-9665', 'schema': 'ORCID'},\n",
       "  {'value': 'Y.Andreev.1', 'schema': 'INSPIRE BAI'},\n",
       "  {'value': 'INSPIRE-00320310', 'schema': 'INSPIRE ID'},\n",
       "  {'value': 'HEPNAMES-412040', 'schema': 'SPIRES'}],\n",
       " 'name': {'value': 'Andreev, Yuri',\n",
       "  'native_names': ['Юрий Андреев'],\n",
       "  'name_variants': ['Andreev, Yu.M.',\n",
       "   'Andreev, Yury',\n",
       "   'Andreev, Yurii',\n",
       "   'Andreev, Iouri'],\n",
       "  'preferred_name': 'Yuri Andreev'},\n",
       " 'stub': False,\n",
       " 'urls': [{'value': 'http://www.inr.troitsk.ru/~andreyev'}],\n",
       " 'status': 'active',\n",
       " '$schema': 'https://inspirehep.net/schemas/records/authors.json',\n",
       " 'deleted': False,\n",
       " 'control_number': 1018372,\n",
       " 'legacy_version': '20210405201907.0',\n",
       " 'arxiv_categories': ['hep-ex'],\n",
       " 'legacy_creation_date': '1995-05-11'}"
      ]
     },
     "execution_count": 34,
     "metadata": {},
     "output_type": "execute_result"
    }
   ],
   "source": [
    "pp"
   ]
  },
  {
   "cell_type": "code",
   "execution_count": 19,
   "id": "10855c47-0a51-459d-9213-300e6069a9ac",
   "metadata": {},
   "outputs": [],
   "source": [
    "url=f\"https://inspirehep.net/api/authors/{pp.get('control_number')}\"\n",
    "rp=requests.get(url)"
   ]
  },
  {
   "cell_type": "code",
   "execution_count": 20,
   "id": "73b62bf6-6ece-4833-a298-cd7a338d0c85",
   "metadata": {},
   "outputs": [],
   "source": [
    "class experiment(profile):\n",
    "    sleep=0.4\n",
    "    def __init__(self,*args, **kwargs):\n",
    "        super(experiment, self).__init__(*args, **kwargs)\n",
    "        \n",
    "    "
   ]
  },
  {
   "cell_type": "code",
   "execution_count": 21,
   "id": "ada36f70-36dd-4a0c-9b0f-76620b626e13",
   "metadata": {},
   "outputs": [],
   "source": [
    "p=rp.json().get('metadata')"
   ]
  },
  {
   "cell_type": "code",
   "execution_count": 9,
   "id": "b0b6daa4-6a19-417f-bee8-9f9241c6e6e1",
   "metadata": {},
   "outputs": [
    {
     "data": {
      "application/json": {
       "$schema": "https://inspirehep.net/schemas/records/authors.json",
       "arxiv_categories": [
        "hep-ex"
       ],
       "control_number": 1018372,
       "deleted": false,
       "email_addresses": [
        {
         "current": true,
         "value": "andreyev@inr.ru"
        },
        {
         "current": true,
         "value": "Yuri.Andreev@cern.ch"
        }
       ],
       "ids": [
        {
         "schema": "ORCID",
         "value": "0000-0002-7397-9665"
        },
        {
         "schema": "INSPIRE BAI",
         "value": "Y.Andreev.1"
        },
        {
         "schema": "INSPIRE ID",
         "value": "INSPIRE-00320310"
        },
        {
         "schema": "SPIRES",
         "value": "HEPNAMES-412040"
        }
       ],
       "legacy_creation_date": "1995-05-11",
       "legacy_version": "20210405201907.0",
       "name": {
        "name_variants": [
         "Andreev, Yu.M.",
         "Andreev, Yury",
         "Andreev, Yurii",
         "Andreev, Iouri"
        ],
        "native_names": [
         "Юрий Андреев"
        ],
        "preferred_name": "Yuri Andreev",
        "value": "Andreev, Yuri"
       },
       "positions": [
        {
         "curated_relation": true,
         "current": true,
         "institution": "Moscow, INR",
         "rank": "SENIOR",
         "record": {
          "$ref": "https://inspirehep.net/api/institutions/903030"
         }
        },
        {
         "curated_relation": true,
         "end_date": "1988",
         "institution": "Moscow, INR",
         "rank": "PHD",
         "record": {
          "$ref": "https://inspirehep.net/api/institutions/903030"
         }
        }
       ],
       "project_membership": [
        {
         "curated_relation": true,
         "current": false,
         "name": "CERN-LHC-CMS",
         "record": {
          "$ref": "https://inspirehep.net/api/experiments/1108642"
         }
        },
        {
         "curated_relation": true,
         "current": false,
         "name": "CERN-NA64",
         "record": {
          "$ref": "https://inspirehep.net/api/experiments/1108642"
         }
        }
       ],
       "status": "active",
       "stub": false,
       "urls": [
        {
         "value": "http://www.inr.troitsk.ru/~andreyev"
        }
       ]
      },
      "text/plain": [
       "<IPython.core.display.JSON object>"
      ]
     },
     "execution_count": 9,
     "metadata": {
      "application/json": {
       "expanded": false,
       "root": "root"
      }
     },
     "output_type": "execute_result"
    }
   ],
   "source": [
    "JSON(p)"
   ]
  },
  {
   "cell_type": "code",
   "execution_count": 22,
   "id": "d8f20308-53c9-4c29-ae6c-9fac6dc194af",
   "metadata": {},
   "outputs": [],
   "source": [
    "e=experiment(p)"
   ]
  },
  {
   "cell_type": "code",
   "execution_count": 23,
   "id": "2a70b585-d57d-4753-805e-3d126c6d9275",
   "metadata": {},
   "outputs": [],
   "source": [
    "self=e.get_author()"
   ]
  },
  {
   "cell_type": "code",
   "execution_count": 24,
   "id": "4d7bf699-00c1-404f-9c06-bab6a1eb412c",
   "metadata": {},
   "outputs": [
    {
     "data": {
      "application/json": {
       "email_addresses": [
        {
         "current": true,
         "value": "andreyev@inr.ru"
        },
        {
         "current": true,
         "value": "Yuri.Andreev@cern.ch"
        }
       ],
       "ids": [
        {
         "schema": "ORCID",
         "value": "0000-0002-7397-9665"
        },
        {
         "schema": "INSPIRE BAI",
         "value": "Y.Andreev.1"
        },
        {
         "schema": "INSPIRE ID",
         "value": "INSPIRE-00320310"
        },
        {
         "schema": "SPIRES",
         "value": "HEPNAMES-412040"
        }
       ],
       "name": {
        "name_variants": [
         "Andreev, Yu.M.",
         "Andreev, Yury",
         "Andreev, Yurii",
         "Andreev, Iouri"
        ],
        "native_names": [
         "Юрий Андреев"
        ],
        "preferred_name": "Yuri Andreev",
        "value": "Andreev, Yuri"
       },
       "positions": [
        {
         "curated_relation": true,
         "current": true,
         "institution": "Moscow, INR",
         "rank": "SENIOR",
         "record": {
          "$ref": "https://inspirehep.net/api/institutions/903030"
         }
        },
        {
         "curated_relation": true,
         "end_date": "1988",
         "institution": "Moscow, INR",
         "rank": "PHD",
         "record": {
          "$ref": "https://inspirehep.net/api/institutions/903030"
         }
        }
       ]
      },
      "text/plain": [
       "<IPython.core.display.JSON object>"
      ]
     },
     "execution_count": 24,
     "metadata": {
      "application/json": {
       "expanded": false,
       "root": "root"
      }
     },
     "output_type": "execute_result"
    }
   ],
   "source": [
    "JSON(self.to_dict())"
   ]
  },
  {
   "cell_type": "code",
   "execution_count": 25,
   "id": "a1d78b1d-e92d-4b88-9522-bd2de1632b19",
   "metadata": {},
   "outputs": [],
   "source": [
    "self.full_name=p.get('name').get('value')\n",
    "self.profile_id=p.get('control_number')\n",
    "#url.split('/')[-1]"
   ]
  },
  {
   "cell_type": "code",
   "execution_count": 26,
   "id": "289cdd18-46f5-4140-a3dc-f829c03e2c31",
   "metadata": {},
   "outputs": [
    {
     "data": {
      "application/json": {
       "$schema": "https://inspirehep.net/schemas/records/authors.json",
       "arxiv_categories": [
        "hep-ex"
       ],
       "control_number": 1018372,
       "deleted": false,
       "email_addresses": [
        {
         "current": true,
         "value": "andreyev@inr.ru"
        },
        {
         "current": true,
         "value": "Yuri.Andreev@cern.ch"
        }
       ],
       "ids": [
        {
         "schema": "ORCID",
         "value": "0000-0002-7397-9665"
        },
        {
         "schema": "INSPIRE BAI",
         "value": "Y.Andreev.1"
        },
        {
         "schema": "INSPIRE ID",
         "value": "INSPIRE-00320310"
        },
        {
         "schema": "SPIRES",
         "value": "HEPNAMES-412040"
        }
       ],
       "legacy_creation_date": "1995-05-11",
       "legacy_version": "20210405201907.0",
       "name": {
        "name_variants": [
         "Andreev, Yu.M.",
         "Andreev, Yury",
         "Andreev, Yurii",
         "Andreev, Iouri"
        ],
        "native_names": [
         "Юрий Андреев"
        ],
        "preferred_name": "Yuri Andreev",
        "value": "Andreev, Yuri"
       },
       "positions": [
        {
         "curated_relation": true,
         "current": true,
         "institution": "Moscow, INR",
         "rank": "SENIOR",
         "record": {
          "$ref": "https://inspirehep.net/api/institutions/903030"
         }
        },
        {
         "curated_relation": true,
         "end_date": "1988",
         "institution": "Moscow, INR",
         "rank": "PHD",
         "record": {
          "$ref": "https://inspirehep.net/api/institutions/903030"
         }
        }
       ],
       "project_membership": [
        {
         "curated_relation": true,
         "current": false,
         "name": "CERN-LHC-CMS",
         "record": {
          "$ref": "https://inspirehep.net/api/experiments/1108642"
         }
        },
        {
         "curated_relation": true,
         "current": false,
         "name": "CERN-NA64",
         "record": {
          "$ref": "https://inspirehep.net/api/experiments/1108642"
         }
        }
       ],
       "status": "active",
       "stub": false,
       "urls": [
        {
         "value": "http://www.inr.troitsk.ru/~andreyev"
        }
       ]
      },
      "text/plain": [
       "<IPython.core.display.JSON object>"
      ]
     },
     "execution_count": 26,
     "metadata": {
      "application/json": {
       "expanded": false,
       "root": "root"
      }
     },
     "output_type": "execute_result"
    }
   ],
   "source": [
    "JSON(self.profile)"
   ]
  },
  {
   "cell_type": "code",
   "execution_count": 27,
   "id": "c7059333-aca6-4e6e-b88d-edd560c3aac9",
   "metadata": {},
   "outputs": [
    {
     "data": {
      "text/plain": [
       "'Y.Andreev.1'"
      ]
     },
     "execution_count": 27,
     "metadata": {},
     "output_type": "execute_result"
    }
   ],
   "source": [
    "self.full_name=p.get('name').get('value')\n",
    "self.profile_id=p.get('control_number')\n",
    "try:\n",
    "    self.author_id=[i for i  in self.profile.get('ids') if i.get('schema')=='INSPIRE BAI'\n",
    "                  ][0].get('value')\n",
    "except:\n",
    "    self.author_id=None \n",
    "self.author_id"
   ]
  },
  {
   "cell_type": "code",
   "execution_count": 28,
   "id": "47fbed05-2c21-4f12-8ee8-bc7004cdcef2",
   "metadata": {},
   "outputs": [
    {
     "data": {
      "text/plain": [
       "'Moscow, INR'"
      ]
     },
     "execution_count": 28,
     "metadata": {},
     "output_type": "execute_result"
    }
   ],
   "source": [
    "self.full_name=p.get('name').get('value')\n",
    "self.profile_id=p.get('control_number')\n",
    "try:\n",
    "    self.author_id=[i for i  in self.profile.get('ids') if i.get('schema')=='INSPIRE BAI'\n",
    "                  ][0].get('value')\n",
    "except:\n",
    "    self.author_id=None \n",
    "#try\n",
    "current_position=self.profile.get('positions')[0]\n",
    "self.institution=current_position.get('institution')\n",
    "self.institution"
   ]
  },
  {
   "cell_type": "code",
   "execution_count": 29,
   "id": "b40b0e5d-efca-4146-9bca-f871838b3dff",
   "metadata": {},
   "outputs": [
    {
     "data": {
      "text/plain": [
       "'903030'"
      ]
     },
     "execution_count": 29,
     "metadata": {},
     "output_type": "execute_result"
    }
   ],
   "source": [
    "self.full_name=p.get('name').get('value')\n",
    "self.profile_id=p.get('control_number')\n",
    "try:\n",
    "    self.author_id=[i for i  in self.profile.get('ids') if i.get('schema')=='INSPIRE BAI'\n",
    "                  ][0].get('value')\n",
    "except:\n",
    "    self.author_id=None \n",
    "#try\n",
    "current_position=self.profile.get('positions')[0]\n",
    "self.institution=current_position.get('institution')\n",
    "aff_url=current_position.get('record').get('$ref')            \n",
    "self.institution_id=aff_url.split('/')[-1]\n",
    "self.institution_id"
   ]
  },
  {
   "cell_type": "code",
   "execution_count": 30,
   "id": "0e60a93c-4c28-4f77-986d-b7670366286d",
   "metadata": {},
   "outputs": [
    {
     "data": {
      "text/plain": [
       "'Russian Federation'"
      ]
     },
     "execution_count": 30,
     "metadata": {},
     "output_type": "execute_result"
    }
   ],
   "source": [
    "#TODO: Move to class!\n",
    "self.country=None\n",
    "if aff_url:\n",
    "    rr=empty_json()\n",
    "    try:\n",
    "        rr=requests.get(aff_url,timeout=timeout)\n",
    "        time.sleep(self.sleep)\n",
    "    except:\n",
    "        rr.status_code=-1\n",
    "    if rr.status_code==200:\n",
    "        try:\n",
    "            self.country=rr.json().get('metadata').get('addresses')[0].get('country')\n",
    "            # if self.country:\n",
    "            #    self.cacheco[self.institution]=self.country\n",
    "        except:\n",
    "            self.country=None\n",
    "else:\n",
    "    self.country=None\n",
    "self.country"
   ]
  },
  {
   "cell_type": "code",
   "execution_count": 31,
   "id": "9af03262-71f1-4b12-afd9-4766974a3429",
   "metadata": {},
   "outputs": [],
   "source": [
    "#repeat for each author\n",
    "papers.append(paper)\n",
    "self.papers=papers"
   ]
  },
  {
   "cell_type": "code",
   "execution_count": 32,
   "id": "98f1051a-e884-4045-99ae-6fa4871e8596",
   "metadata": {},
   "outputs": [
    {
     "data": {
      "application/json": {
       "author_id": "Y.Andreev.1",
       "country": "Russian Federation",
       "email_addresses": [
        {
         "current": true,
         "value": "andreyev@inr.ru"
        },
        {
         "current": true,
         "value": "Yuri.Andreev@cern.ch"
        }
       ],
       "full_name": "Andreev, Yuri",
       "ids": [
        {
         "schema": "ORCID",
         "value": "0000-0002-7397-9665"
        },
        {
         "schema": "INSPIRE BAI",
         "value": "Y.Andreev.1"
        },
        {
         "schema": "INSPIRE ID",
         "value": "INSPIRE-00320310"
        },
        {
         "schema": "SPIRES",
         "value": "HEPNAMES-412040"
        }
       ],
       "institution": "Moscow, INR",
       "institution_id": "903030",
       "name": {
        "name_variants": [
         "Andreev, Yu.M.",
         "Andreev, Yury",
         "Andreev, Yurii",
         "Andreev, Iouri"
        ],
        "native_names": [
         "Юрий Андреев"
        ],
        "preferred_name": "Yuri Andreev",
        "value": "Andreev, Yuri"
       },
       "papers": [
        {
         "collaboration": "CMS",
         "control_number": 1108642,
         "legacy_name": "CERN-LHC-CMS",
         "literature_link": "https://inspirehep.net/api/literature?size=25&page=1&q=collaboration:CMS",
         "number_of_papers": 13049
        }
       ],
       "positions": [
        {
         "curated_relation": true,
         "current": true,
         "institution": "Moscow, INR",
         "rank": "SENIOR",
         "record": {
          "$ref": "https://inspirehep.net/api/institutions/903030"
         }
        },
        {
         "curated_relation": true,
         "end_date": "1988",
         "institution": "Moscow, INR",
         "rank": "PHD",
         "record": {
          "$ref": "https://inspirehep.net/api/institutions/903030"
         }
        }
       ],
       "profile_id": 1018372
      },
      "text/plain": [
       "<IPython.core.display.JSON object>"
      ]
     },
     "execution_count": 32,
     "metadata": {
      "application/json": {
       "expanded": false,
       "root": "root"
      }
     },
     "output_type": "execute_result"
    }
   ],
   "source": [
    "JSON(self.to_dict())"
   ]
  },
  {
   "cell_type": "markdown",
   "id": "5de1e640",
   "metadata": {},
   "source": [
    "## Define class"
   ]
  },
  {
   "cell_type": "code",
   "execution_count": 2,
   "id": "ee1edb02",
   "metadata": {},
   "outputs": [],
   "source": [
    "from inspirehep import *\n",
    "class experimental_author(profile):\n",
    "    sleep = 0.4\n",
    "    #`ids → [{\"schema\": \"INSPIRE BAI\"}]` required for author_id\n",
    "    #`affiliations → [{...}] required for institution_id\n",
    "    schema_experimental_author={\"ids\": {'type':'list',\n",
    "                           'schema':{'type':'dict',\n",
    "                                     'schema':{'schema':{'type':'string'},\n",
    "                                               'value': {'type':'string'}\n",
    "                                              }\n",
    "                                    }\n",
    "                          }, \n",
    "            \"record\":{'type':'dict'}, \n",
    "            \"full_name\": {'type':'string'}, \n",
    "            \"affiliations\":{'type':'list',\n",
    "                           'schema':{'type':'dict','required':True}},\n",
    "            \"proyect_membership\":{'type':'list',\n",
    "                                    'schema':{'type':'dict',\n",
    "                                              'schema':{'record':{'type':'dict'},\n",
    "                                                        'name':{'type':'string'},\n",
    "                                                        'current':{'type':'boolean'}\n",
    "                                                       }\n",
    "                                             }\n",
    "                                },\n",
    "            \"name\":{'type':'dict',\n",
    "                    'schema':{'value':{'type':'string'},\n",
    "                              'preferred_name':{'type':'string'},\n",
    "                              }\n",
    "                    },\n",
    "            \"control_number\":{'type':'integer'},\n",
    "            \"arxiv_categories\":{'type':'list'}\n",
    "           }\n",
    "    sample_experimental_author={'project_membership': [{'name': 'CERN-LHC-CMS',\n",
    "                                    'record': {'$ref': 'https://inspirehep.net/api/experiments/1108642'},\n",
    "                                    'current': False,\n",
    "                                    'curated_relation': True}],\n",
    "                                'ids': [{'value': 'Y.Andreev.1', 'schema': 'INSPIRE BAI'}],\n",
    "                                'name': {'value': 'Andreev, Yuri',\n",
    "                                'preferred_name': 'Yuri Andreev'},\n",
    "                                'control_number': 1018372,\n",
    "                                'arxiv_categories': ['hep-ex']\n",
    "                                }\n",
    "    \n",
    "\n",
    "    def __init__(self,a,db=[]):\n",
    "        self.author=a\n",
    "        self.db=db\n",
    "        if a:\n",
    "            v=Validator(self.schema_experimental_author,allow_unknown=True)\n",
    "            if not v.validate(a):\n",
    "                raise Exception(f'''\n",
    "                    Input is not an INSPIRE-HEP author dictionary:\n",
    "                    {v.errors}\n",
    "                    See `self.sample_author`''')\n",
    "    def get_authors(self):\n",
    "        #TODO: Check previous analysis for more metadata\n",
    "        #use requests\n",
    "        # Not longer required\n",
    "\n",
    "        a=self.author\n",
    "\n",
    "\n",
    "        self.project_membership = a.get('project_membership')\n",
    "        control_number = a.get('control_number')\n",
    "        url = f\"https://inspirehep.net/api/authors/{control_number}\"\n",
    "        r=empty_json()\n",
    "\n",
    "        try:\n",
    "            r=requests.get(url,timeout=timeout)\n",
    "            time.sleep(self.sleep)\n",
    "        except:\n",
    "            r.status_code=-1\n",
    "        if r.status_code==200:\n",
    "            p=r.json().get('metadata')\n",
    "        else:\n",
    "            p={}\n",
    "        #We assume that the affilition is defined at least for\n",
    "        #one of the authors of the paper\n",
    "        #Authos without affiliations to get their institution are not considered\n",
    "        super(experimental_author, self).__init__(p)             \n",
    "        d=super(experimental_author, self).get_author() #→ self.profile\n",
    "        self.full_name=p.get('name').get('value')\n",
    "        self.profile_id=p.get('control_number')\n",
    "        try:\n",
    "            self.author_id=[i for i  in self.profile.get('ids') if i.get('schema')=='INSPIRE BAI'\n",
    "                        ][0].get('value')\n",
    "        except:\n",
    "            self.author_id=None \n",
    "\n",
    "        ll=[x for x in self.db if hasattr(x,'author_id') and hasattr(x,'institution_id')]\n",
    "        # TODO: Check if the author has multiple current positions\n",
    "        # for positions...\n",
    "        try:\n",
    "            current_position=self.profile.get('positions')[0]\n",
    "        except:\n",
    "            current_position={}\n",
    "        self.institution=current_position.get('institution')\n",
    "        try:\n",
    "            aff_url=current_position.get('record').get('$ref')\n",
    "        except:\n",
    "            aff_url=''\n",
    "        self.institution_id=aff_url.split('/')[-1]\n",
    "        # ==== country ====\n",
    "        self.country=None\n",
    "        if aff_url:\n",
    "            rr=empty_json()\n",
    "            try:\n",
    "                rr=requests.get(aff_url,timeout=timeout)\n",
    "                time.sleep(self.sleep)\n",
    "            except:\n",
    "                rr.status_code=-1\n",
    "            if rr.status_code==200:\n",
    "                try:\n",
    "                    self.country=rr.json().get('metadata').get('addresses')[0].get('country')\n",
    "                    # if self.country:\n",
    "                    #    self.cacheco[self.institution]=self.country\n",
    "                except:\n",
    "                    self.country=None\n",
    "        else:\n",
    "            self.country=None\n",
    "        # =================\n",
    "        filtered_db=[x for x in ll if x.author_id==self.author_id \n",
    "                         and x.institution_id==self.institution_id]\n",
    "        if filtered_db:\n",
    "            au=filtered_db[0] #must be unique!\n",
    "        else: #aff not in self.db → New affiliation\n",
    "            ai=copy.copy(self)#deepcopy(self)\n",
    "            self.db.append(ai)\n",
    "            del ai #be sure that ai will not be modified\n",
    "\n",
    "        return self.db\n",
    "    def to_json(self):\n",
    "        return [d.to_dict() for d in self.db]\n",
    "\n",
    "\n",
    "class experiment(experimental_author):\n",
    "    '''\n",
    "    paper['legacy_name']=ex.get('legacy_name')\n",
    "    paper['control_number']=ex.get('control_number')\n",
    "    paper['number_of_papers']=ex.get('number_of_papers')\n",
    "    paper['collaboration']=ex.get(\"collaboration\").get('value')\n",
    "    paper['literature_link']\n",
    "    '''\n",
    "    schema_experiment={'control_number':{'type':'integer','required':True},\n",
    "                       'number_of_papers':{'type':'integer'},\n",
    "                       'legacy_name':{'type':'string'},\n",
    "                       'collaboration':{'type':'dict',\n",
    "                                        'schema':{'value':{'type':'string'}}},\n",
    "                       'description':{'type':'string'},\n",
    "                       'accelerator':{'type':'dict',\n",
    "                                      'schema':{'value':{'type':'string'}}},\n",
    "                       'date_approved':{'type':'string'},\n",
    "                       'date_proposed':{'type':'string'},\n",
    "                       'date_started':{'type':'string'},\n",
    "                       'date_completed':{'type':'string'},\n",
    "                       'project_type':{'type':'list'},\n",
    "                       'inspire_classification':{'type':'list'}\n",
    "            }\n",
    "    def __init__(self,e,db=[],size=250):\n",
    "        self.sample_experiment = {'number_of_papers': 13049, #\n",
    "                                    'self': {'$ref': 'https://inspirehep.net/api/experiments/1108642'}, \n",
    "                                    'long_name': 'CMS: The Compact Muon Solenoid',\n",
    "                                    'accelerator': {'value': 'LHC'},\n",
    "                                    'description': 'The 27-km Large Hadron Collider (LHC) is the largest and most powerful particle accelerator ever built. It accelerates protons to nearly the velocity of light -- in clockwise and anti-clockwise directions -- and then collides them at four locations around its ring. At these points, the energy of the particle collisions gets transformed into mass, spraying particles in all directions. The Compact Muon Solenoid (or CMS) detector sits at one of these four collision points. It is a general-purpose detector; that is, it is designed to observe any new physics phenomena that the LHC might reveal. CMS acts as a giant, high-speed camera, taking 3D “photographs” of particle collisions from all directions up to 40 million times each second. Although most of the particles produced in the collisions are “unstable”, they transform rapidly into stable particles that can be detected by CMS. By identifying (nearly) all the stable particles produced in each collision, measuring their momenta and energies, and then piecing together the information of all these particles like putting together the pieces of a puzzle, the detector can recreate an “image” of the collision for further analysis.',\n",
    "                                    'legacy_name': 'CERN-LHC-CMS',\n",
    "                                    'date_approved': '1996-01-31', #\n",
    "                                    'date_proposed': '1992-10-01', #\n",
    "                                    'date_started': '2009-11-23', ##\n",
    "                                    'date_completed': '9999', #\n",
    "                                    'project_type': ['experiment'],\n",
    "                                    'collaboration': {'value': 'CMS'}, #\n",
    "                                    'control_number': 1108642, #\n",
    "                                    'inspire_classification': ['Collider Experiments|Hadrons|p p'] #\n",
    "                                    }\n",
    "        if e:\n",
    "            v=Validator(self.schema_experiment,allow_unknown=True)\n",
    "            if not v.validate(e):\n",
    "                raise Exception(f'''\n",
    "                    Input is not an INSPIRE-HEP experiment dictionary:\n",
    "                    {v.errors}\n",
    "                    See `self.sample_work`''')\n",
    "        \n",
    "        self.db = db\n",
    "        self.experiment = e\n",
    "        self.authors_size = size\n",
    "\n",
    "        \n",
    "    def get_authors(self):\n",
    "        '''\n",
    "        l: list of author objects\n",
    "        '''\n",
    "\n",
    "        l=self.experiment\n",
    "\n",
    "        print(l.get('control_number'),end='\\r')\n",
    "        #TODO: Check previous analysis for more metadata\n",
    "        inspire_classification=l.get('inspire_classification')\n",
    "        if not inspire_classification:\n",
    "            inspire_classification = []\n",
    "        \n",
    "        control_number=l.get('control_number')\n",
    "\n",
    "        try:\n",
    "            year=int(l.get('date_started').split('-')[0])\n",
    "        except TypeError:\n",
    "            year=0\n",
    "        if not year:\n",
    "            year=9999\n",
    "        #'inst_id':aff_id\n",
    "        paper={}\n",
    "        paper['legacy_name'] = l.get('legacy_name')\n",
    "        paper['control_number'] = control_number\n",
    "        paper['number_of_papers']=l.get('number_of_papers')\n",
    "        paper['collaboration']=l.get(\"collaboration\").get('value')\n",
    "        paper['literature_link']=f\"https://inspirehep.net/api/literature?size=25&page=1&q=collaboration:{paper.get('collaboration')}\"\n",
    "        paper['year']=year\n",
    "        paper['inspire_classification']=inspire_classification\n",
    "        paper['dates'] = {'approved':l.get('date_approved'),\n",
    "                          'proposed':l.get('date_proposed'),\n",
    "                          'started':l.get('date_started'), \n",
    "                          'completed':l.get('date_completed')}\n",
    "        paper['long_name']=l.get('long_name')\n",
    "        paper['description']=l.get('description')\n",
    "        try:\n",
    "            paper['accelerator']=l.get('accelerator').get('value')\n",
    "        except:\n",
    "            paper['accelerator']=None\n",
    "        paper['project_type']=l.get('project_type')      \n",
    "\n",
    "\n",
    "        #In update\n",
    "        #'primary_arxiv_category':primary_arxiv_category\n",
    "        #super(work, self).__init__(w.get('authors')[0])\n",
    "\n",
    "        r=empty_json()\n",
    "        # TODO: load all pages\n",
    "        NEXT=True\n",
    "        i=0        \n",
    "        while NEXT:\n",
    "            if i==0:\n",
    "                url=f'https://inspirehep.net/api/authors?q=project_membership.record.%24ref%3A{control_number}&page=1&size={self.authors_size}'\n",
    "            print(i,url)\n",
    "            try:\n",
    "                r=requests.get(url,timeout=timeout)\n",
    "                time.sleep(self.sleep)\n",
    "            except:\n",
    "                r.status_code=-1\n",
    "            if r.status_code==200:\n",
    "                aus=r.json().get('hits').get('hits')\n",
    "            else:\n",
    "                aus=[]\n",
    "            if i==0 and len(aus)==250:\n",
    "                paper['description']=paper['description'][:20]+'...'\n",
    "            for a in aus: #same self.author_id but several institute_ids for several affiliations\n",
    "                links=r.json().get('links')\n",
    "                total=r.json().get('hits').get('total')                \n",
    "                super(experiment, self).__init__(a.get('metadata'),self.db)\n",
    "                super(experiment, self).get_authors() #add and replace self attributes → author*..., institution*..\n",
    "                paper['author_id']=self.author_id\n",
    "                paper['profile_id']=self.profile_id\n",
    "                #Each d object keeps its RAM memory space independent of reasignation list from db to adb\n",
    "                adb=[d for d in self.db if d.author_id==self.author_id]\n",
    "\n",
    "                papers = []\n",
    "                for d in adb:\n",
    "                    if hasattr(d,'papers'):\n",
    "                        papers=d.papers\n",
    "                        break #found papers for self.author_id\n",
    "                for d in adb:\n",
    "                    d.papers=papers #reatach papers if already have\n",
    "                    if paper not in d.papers:\n",
    "                        #detach from RAM!\n",
    "                        cppaper=copy.copy(paper)\n",
    "                        d.papers.append(cppaper)\n",
    "                        del cppaper\n",
    "                if links.get('next'):\n",
    "                    url=links.get('next')\n",
    "                else:\n",
    "                    NEXT=False\n",
    "                #EMERGENCY EXIT: We assume here that r.json().get('total') exists\n",
    "                if i>2:\n",
    "                    NEXT=False\n",
    "                if i > total//self.authors_size+1:\n",
    "                    NEXT=False\n",
    "                i+=1            \n",
    "\n",
    "        return self.db\n",
    "\n"
   ]
  },
  {
   "cell_type": "code",
   "execution_count": 3,
   "id": "c7be1315",
   "metadata": {},
   "outputs": [],
   "source": [
    "\n",
    "sample_experimental_author={'project_membership': [{'name': 'CERN-LHC-CMS',\n",
    "                                    'record': {'$ref': 'https://inspirehep.net/api/experiments/1108642'},\n",
    "                                    'current': False,\n",
    "                                    'curated_relation': True}],\n",
    "                                'ids': [{'value': 'Y.Andreev.1', 'schema': 'INSPIRE BAI'}],\n",
    "                                'name': {'value': 'Andreev, Yuri',\n",
    "                                'preferred_name': 'Yuri Andreev'},\n",
    "                                'control_number': 1018372,\n",
    "                                'arxiv_categories': ['hep-ex']\n",
    "                                }\n",
    "a=experimental_author(sample_experimental_author)\n",
    "db=a.get_authors()\n"
   ]
  },
  {
   "cell_type": "code",
   "execution_count": 4,
   "id": "737386c2",
   "metadata": {},
   "outputs": [
    {
     "name": "stdout",
     "output_type": "stream",
     "text": [
      "0 https://inspirehep.net/api/authors?q=project_membership.record.%24ref%3A1108642&page=1&size=5\n",
      "5 https://inspirehep.net/api/authors/?q=project_membership.record.%24ref%3A1108642&size=5&page=2\n",
      "10 https://inspirehep.net/api/authors/?q=project_membership.record.%24ref%3A1108642&size=5&page=3\n",
      "15 https://inspirehep.net/api/authors/?q=project_membership.record.%24ref%3A1108642&size=5&page=4\n"
     ]
    }
   ],
   "source": [
    "sample_experiment = {'number_of_papers': 13049, #\n",
    "                                    'self': {'$ref': 'https://inspirehep.net/api/experiments/1108642'}, \n",
    "                                    'long_name': 'CMS: The Compact Muon Solenoid',\n",
    "                                    'accelerator': {'value': 'LHC'},\n",
    "                                    'description': 'The 27-km Large Hadron Collider (LHC) is the largest and most powerful particle accelerator ever built. It accelerates protons to nearly the velocity of light -- in clockwise and anti-clockwise directions -- and then collides them at four locations around its ring. At these points, the energy of the particle collisions gets transformed into mass, spraying particles in all directions. The Compact Muon Solenoid (or CMS) detector sits at one of these four collision points. It is a general-purpose detector; that is, it is designed to observe any new physics phenomena that the LHC might reveal. CMS acts as a giant, high-speed camera, taking 3D “photographs” of particle collisions from all directions up to 40 million times each second. Although most of the particles produced in the collisions are “unstable”, they transform rapidly into stable particles that can be detected by CMS. By identifying (nearly) all the stable particles produced in each collision, measuring their momenta and energies, and then piecing together the information of all these particles like putting together the pieces of a puzzle, the detector can recreate an “image” of the collision for further analysis.',\n",
    "                                    'legacy_name': 'CERN-LHC-CMS',\n",
    "                                    'date_approved': '1996-01-31', #\n",
    "                                    'date_proposed': '1992-10-01', #\n",
    "                                    'date_started': '2009-11-23', ##\n",
    "                                    'date_completed': '9999', #\n",
    "                                    'project_type': ['experiment'],\n",
    "                                    'collaboration': {'value': 'CMS'}, #\n",
    "                                    'control_number': 1108642, #\n",
    "                                    'inspire_classification': ['Collider Experiments|Hadrons|p p'] #\n",
    "                                    }\n",
    "e=experiment(sample_experiment,size=5)\n",
    "db=e.get_authors()"
   ]
  },
  {
   "cell_type": "code",
   "execution_count": 37,
   "id": "064ac7ae",
   "metadata": {},
   "outputs": [
    {
     "data": {
      "text/plain": [
       "250"
      ]
     },
     "execution_count": 37,
     "metadata": {},
     "output_type": "execute_result"
    }
   ],
   "source": [
    "len(db)"
   ]
  },
  {
   "cell_type": "code",
   "execution_count": 14,
   "id": "aa787c0d",
   "metadata": {},
   "outputs": [],
   "source": [
    "rs=db[-1]"
   ]
  },
  {
   "cell_type": "code",
   "execution_count": 43,
   "id": "48aa83d8",
   "metadata": {},
   "outputs": [
    {
     "data": {
      "text/plain": [
       "1004186"
      ]
     },
     "execution_count": 43,
     "metadata": {},
     "output_type": "execute_result"
    }
   ],
   "source": [
    "rs.profile_id"
   ]
  },
  {
   "cell_type": "code",
   "execution_count": 44,
   "id": "78c0961a",
   "metadata": {},
   "outputs": [],
   "source": [
    "import json"
   ]
  },
  {
   "cell_type": "code",
   "execution_count": 51,
   "id": "abe795d3",
   "metadata": {},
   "outputs": [
    {
     "data": {
      "text/plain": [
       "[{'author_id': 'Y.Andreev.1',\n",
       "  'country': 'Russian Federation',\n",
       "  'email_addresses': [{'value': 'andreyev@inr.ru', 'current': True},\n",
       "   {'value': 'Yuri.Andreev@cern.ch', 'current': True}],\n",
       "  'full_name': 'Andreev, Yuri',\n",
       "  'ids': [{'value': '0000-0002-7397-9665', 'schema': 'ORCID'},\n",
       "   {'value': 'Y.Andreev.1', 'schema': 'INSPIRE BAI'},\n",
       "   {'value': 'INSPIRE-00320310', 'schema': 'INSPIRE ID'},\n",
       "   {'value': 'HEPNAMES-412040', 'schema': 'SPIRES'}],\n",
       "  'institution': 'Moscow, INR',\n",
       "  'institution_id': '903030',\n",
       "  'name': {'value': 'Andreev, Yuri',\n",
       "   'native_names': ['Юрий Андреев'],\n",
       "   'name_variants': ['Andreev, Yu.M.',\n",
       "    'Andreev, Yury',\n",
       "    'Andreev, Yurii',\n",
       "    'Andreev, Iouri'],\n",
       "   'preferred_name': 'Yuri Andreev'},\n",
       "  'papers': [{'legacy_name': 'CERN-LHC-CMS',\n",
       "    'control_number': 1108642,\n",
       "    'number_of_papers': 13049,\n",
       "    'collaboration': 'CMS',\n",
       "    'literature_link': 'https://inspirehep.net/api/literature?size=25&page=1&q=collaboration:CMS',\n",
       "    'year': 2009,\n",
       "    'inspire_classification': ['Collider Experiments|Hadrons|p p'],\n",
       "    'dates': {'approved': '1996-01-31',\n",
       "     'proposed': '1992-10-01',\n",
       "     'started': '2009-11-23',\n",
       "     'completed': '9999'},\n",
       "    'long_name': 'CMS: The Compact Muon Solenoid',\n",
       "    'description': 'The 27-km Large Hadr...',\n",
       "    'accelerator': 'LHC',\n",
       "    'project_type': ['experiment'],\n",
       "    'author_id': 'Y.Andreev.1',\n",
       "    'profile_id': 1018372}],\n",
       "  'positions': [{'rank': 'SENIOR',\n",
       "    'record': {'$ref': 'https://inspirehep.net/api/institutions/903030'},\n",
       "    'current': True,\n",
       "    'institution': 'Moscow, INR',\n",
       "    'curated_relation': True},\n",
       "   {'rank': 'PHD',\n",
       "    'record': {'$ref': 'https://inspirehep.net/api/institutions/903030'},\n",
       "    'end_date': '1988',\n",
       "    'institution': 'Moscow, INR',\n",
       "    'curated_relation': True}],\n",
       "  'profile_id': 1018372,\n",
       "  'project_membership': [{'name': 'CERN-LHC-CMS',\n",
       "    'record': {'$ref': 'https://inspirehep.net/api/experiments/1108642'},\n",
       "    'current': False,\n",
       "    'curated_relation': True},\n",
       "   {'name': 'CERN-NA64',\n",
       "    'record': {'$ref': 'https://inspirehep.net/api/experiments/1108642'},\n",
       "    'current': False,\n",
       "    'curated_relation': True}]}]"
      ]
     },
     "execution_count": 51,
     "metadata": {},
     "output_type": "execute_result"
    }
   ],
   "source": [
    "e.to_json()"
   ]
  },
  {
   "cell_type": "code",
   "execution_count": 3,
   "id": "cbea0910",
   "metadata": {},
   "outputs": [],
   "source": [
    "f=open('kk.json','w')\n",
    "json.dump(e.to_json(),f)\n",
    "f.close()\n"
   ]
  },
  {
   "cell_type": "code",
   "execution_count": null,
   "id": "34017bef",
   "metadata": {},
   "outputs": [],
   "source": [
    "dbla=[]\n",
    "jsonla=[]\n",
    "# loop in experiments\n",
    "# obtain experiment:\n",
    "# obtain db for experiment\n",
    "# instersection of LA countries with experiment countries\n",
    "# if intersection is not empty: dbla+db, jsonla+e.to_json()\n"
   ]
  }
 ],
 "metadata": {
  "kernelspec": {
   "display_name": "Python 3.9.2 64-bit",
   "language": "python",
   "name": "python3"
  },
  "language_info": {
   "codemirror_mode": {
    "name": "ipython",
    "version": 3
   },
   "file_extension": ".py",
   "mimetype": "text/x-python",
   "name": "python",
   "nbconvert_exporter": "python",
   "pygments_lexer": "ipython3",
   "version": "3.9.2"
  },
  "vscode": {
   "interpreter": {
    "hash": "31f2aee4e71d21fbe5cf8b01ff0e069b9275f58929596ceb00d14d90e3e16cd6"
   }
  }
 },
 "nbformat": 4,
 "nbformat_minor": 5
}
