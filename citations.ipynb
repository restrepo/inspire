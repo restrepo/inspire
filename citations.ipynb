{
 "cells": [
  {
   "cell_type": "code",
   "execution_count": 5,
   "metadata": {},
   "outputs": [
    {
     "name": "stdout",
     "output_type": "stream",
     "text": [
      "New citations in:\n",
      "===== NEW CITATION FOR 599285=====\n",
      "{'title': 'Bounds on the tau and muon neutrino vector and axial vector charge radius'}\n",
      "with\n",
      "['Hirsch, Martin', 'Nardi, Enrico', 'Restrepo, Diego']\n",
      "WAS CITED BY:\n",
      "************************************************************\n",
      "{'title': 'Recent probes of standard and non-standard neutrino physics with nuclei'}\n",
      "['Papoulias, D.K.', 'Kosmas, T.S.', 'Kuno, Y.']\n",
      "['arXiv:1911.00916']\n",
      "UPDATE CITATIONS (Y)\n",
      "Y/Ny\n",
      "UPDATING JSON DATA CITATION for 599285\n"
     ]
    }
   ],
   "source": [
    "import pandas as pd\n",
    "import time\n",
    "import sys\n",
    "\n",
    "exact_author='D.Restrepo.1'\n",
    "UPDATE=False\n",
    "\n",
    "old=pd.read_json('data/old.json')#.reset_index(drop=True)\n",
    "#old.number_of_citations.sum()\n",
    "\n",
    "# Download citations of each paper\n",
    "\n",
    "if UPDATE:\n",
    "    for r in old['recid']:\n",
    "        p=pd.read_json('http://inspirehep.net/search?ln=en&p=refersto:recid:{}&of=recjson'.format(r)\n",
    "                      ).to_json('data/{}.json'.format(r))\n",
    "        print(r)\n",
    "        time.sleep(1)\n",
    "\n",
    "# Download INSPIRE HEP Profile\n",
    "\n",
    "# TODO: Check if the author has more than 250 records!\n",
    "\n",
    "url='http://inspirehep.net/search?p=ea+{}&rg=250&of=recjson'.format(exact_author)\n",
    "df=pd.read_json(url)\n",
    "new=df.copy()\n",
    "#df.number_of_citations.sum()\n",
    "\n",
    "ANALYSIS=False\n",
    "if new['number_of_citations'].sum()>old['number_of_citations'].sum():\n",
    "    ANALYSIS=True\n",
    "if not ANALYSIS:\n",
    "    sys.exit('NO NEW CITES TO ANALYSE!')\n",
    "\n",
    "old['iid']=old.FIXME_OAI.apply(lambda d: d['id']).str.split(':').str[-1]\n",
    "new['iid']=old.FIXME_OAI.apply(lambda d: d['id']).str.split(':').str[-1]\n",
    "\n",
    "old=old.rename({'number_of_citations':'nc'},axis='columns') ##add other relevant columns for analysis\n",
    "\n",
    "new=new.merge(old[['nc','iid']],on='iid',how='left')#[['number_of_citations','nc']]\n",
    "\n",
    "news=new[new['number_of_citations']>new['nc']]\n",
    "\n",
    "print('New citations in:')\n",
    "news['recid']\n",
    "#['primary_report_number'].apply(lambda l:  [x for x in l if x.find('arXiv')>-1])\n",
    "\n",
    "for r in news['recid']:\n",
    "    #Analysis of each citation\n",
    "    print('===== NEW CITATION FOR {}====='.format(r))\n",
    "    oldrefersto=pd.read_json('data/{}.json'.format(r))\n",
    "    refersto=pd.read_json('http://inspirehep.net/search?ln=en&p=refersto:recid:{}&of=recjson'.format(r))\n",
    "    print( news[news['recid']==r]['title'].values[0] )\n",
    "    print('with')\n",
    "    print(news[news['recid']==r]['authors'].apply(lambda l: [d['full_name'] for d in l]).values[0])\n",
    "    print('WAS CITED BY:')\n",
    "    try:\n",
    "        newrecid=pd.np.setdiff1d(refersto['recid'],oldrefersto['recid'])\n",
    "    except KeyError:\n",
    "        newrecid=pd.np.setdiff1d(refersto['recid'],[])\n",
    "    #newrecid=pd.np.setdiff1d(refersto['recid'],oldrefersto['recid'][:-2])\n",
    "    for rr in newrecid:\n",
    "        print('*'*60)\n",
    "        print( refersto[refersto['recid']==rr]['title'].values[0])\n",
    "        print( refersto[refersto['recid']==rr]['authors'].apply(lambda l: \n",
    "                                            [d['full_name'] for d in l]).values[0])\n",
    "        try:\n",
    "            doctype=refersto[refersto['recid']==rr]['primary_report_number'].apply(lambda l: \n",
    "                                            [x for x in l if x.find('arXiv')>-1]\n",
    "                                            if type(l)==list else \n",
    "                                            [x for x in [l] if x.find('arXiv')>-1 ]).values[0]\n",
    "            if not doctype: #force TypeError\n",
    "                doctypetmp=refersto['forceKeyError']\n",
    "        except TypeError:\n",
    "            l=refersto[refersto['recid']==rr].get('collection')\n",
    "            if not l.empty:\n",
    "                if 'Thesis' in [d.get('primary') for d in l.values[0]]:\n",
    "                    doctype='Thesis'\n",
    "                else:\n",
    "                    doctype='''WARNING: unkown doctype. Check: refersto[refersto['recid']==rr].get('collection')'''\n",
    "            else:\n",
    "                doctype='''WARNING: unkown doctype. Check: refersto[refersto['recid']==rr]'''                    \n",
    "            \n",
    "        print( doctype )    \n",
    "    print('UPDATE CITATIONS (Y)')\n",
    "    YN=input('Y/N')\n",
    "    if YN not in ['N','n','not','Not']:\n",
    "        print('UPDATING JSON DATA CITATION for {}'.format(r))\n",
    "        refersto.to_json('data/{}.json'.format(r))"
   ]
  },
  {
   "cell_type": "code",
   "execution_count": 6,
   "metadata": {},
   "outputs": [
    {
     "name": "stdout",
     "output_type": "stream",
     "text": [
      "UPDATE FULL DATABASE for profiles (N)\n",
      "Y/Ny\n"
     ]
    }
   ],
   "source": [
    "print('UPDATE FULL DATABASE for profiles (N)')\n",
    "YN=input('Y/N')\n",
    "if YN=='Y' or YN=='y' or YN=='yes' or YN=='Yes':\n",
    "    df.to_json('data/old.json')"
   ]
  },
  {
   "cell_type": "code",
   "execution_count": null,
   "metadata": {},
   "outputs": [],
   "source": []
  }
 ],
 "metadata": {
  "kernelspec": {
   "display_name": "Python 3",
   "language": "python",
   "name": "python3"
  },
  "language_info": {
   "codemirror_mode": {
    "name": "ipython",
    "version": 3
   },
   "file_extension": ".py",
   "mimetype": "text/x-python",
   "name": "python",
   "nbconvert_exporter": "python",
   "pygments_lexer": "ipython3",
   "version": "3.5.3"
  },
  "latex_envs": {
   "LaTeX_envs_menu_present": true,
   "autoclose": false,
   "autocomplete": true,
   "bibliofile": "biblio.bib",
   "cite_by": "apalike",
   "current_citInitial": 1,
   "eqLabelWithNumbers": true,
   "eqNumInitial": 1,
   "hotkeys": {
    "equation": "Ctrl-E",
    "itemize": "Ctrl-I"
   },
   "labels_anchors": false,
   "latex_user_defs": false,
   "report_style_numbering": false,
   "user_envs_cfg": false
  }
 },
 "nbformat": 4,
 "nbformat_minor": 2
}
