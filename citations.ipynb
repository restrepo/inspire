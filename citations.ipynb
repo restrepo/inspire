{
 "cells": [
  {
   "cell_type": "code",
   "execution_count": 34,
   "metadata": {},
   "outputs": [],
   "source": [
    "import pandas as pd\n",
    "import time"
   ]
  },
  {
   "cell_type": "code",
   "execution_count": 9,
   "metadata": {},
   "outputs": [],
   "source": [
    "old=pd.read_json('data/old.json')#.reset_index(drop=True)"
   ]
  },
  {
   "cell_type": "markdown",
   "metadata": {},
   "source": [
    "Download citations of each paper"
   ]
  },
  {
   "cell_type": "code",
   "execution_count": 38,
   "metadata": {},
   "outputs": [],
   "source": [
    "UPDATE=False\n",
    "if UPDATE:\n",
    "    for r in old['recid']:\n",
    "        p=pd.read_json('http://inspirehep.net/search?ln=en&p=refersto:recid:{}&of=recjson'.format(r)\n",
    "                      ).to_json('data/{}.json'.format(r))\n",
    "        print(r)\n",
    "        time.sleep(1)"
   ]
  },
  {
   "cell_type": "code",
   "execution_count": 10,
   "metadata": {},
   "outputs": [],
   "source": [
    "author='restrepo,+d'\n",
    "df=pd.read_json(\n",
    "    \"http://inspirehep.net/search?ln=en&ln=en&p=a+{}+AND+collection%3Aciteable&rg=250&of=recjson\".format(\n",
    "        author))\n",
    "new=df.copy()"
   ]
  },
  {
   "cell_type": "code",
   "execution_count": 11,
   "metadata": {},
   "outputs": [],
   "source": [
    "import sys\n",
    "ANALYSIS=False\n",
    "if new['number_of_citations'].sum()>old['number_of_citations'].sum():\n",
    "    ANALYSIS=True\n",
    "if not ANALYSIS:\n",
    "    sys.exit('NO NEW CITES TO ANALYSE!')"
   ]
  },
  {
   "cell_type": "code",
   "execution_count": 12,
   "metadata": {
    "scrolled": true
   },
   "outputs": [],
   "source": [
    "old['iid']=old.FIXME_OAI.apply(lambda d: d['id']).str.split(':').str[-1]\n",
    "new['iid']=old.FIXME_OAI.apply(lambda d: d['id']).str.split(':').str[-1]"
   ]
  },
  {
   "cell_type": "code",
   "execution_count": 13,
   "metadata": {},
   "outputs": [],
   "source": [
    "old=old.rename({'number_of_citations':'nc'},axis='columns') ##add other relevant columns for analysis"
   ]
  },
  {
   "cell_type": "code",
   "execution_count": 14,
   "metadata": {},
   "outputs": [
    {
     "data": {
      "text/plain": [
       "True"
      ]
     },
     "execution_count": 14,
     "metadata": {},
     "output_type": "execute_result"
    }
   ],
   "source": [
    "ANALYSIS"
   ]
  },
  {
   "cell_type": "code",
   "execution_count": 15,
   "metadata": {},
   "outputs": [],
   "source": [
    "new=new.merge(old[['nc','iid']],on='iid',how='left')#[['number_of_citations','nc']]"
   ]
  },
  {
   "cell_type": "code",
   "execution_count": 42,
   "metadata": {},
   "outputs": [],
   "source": [
    "news=new[new['number_of_citations']>new['nc']]"
   ]
  },
  {
   "cell_type": "code",
   "execution_count": 44,
   "metadata": {},
   "outputs": [
    {
     "name": "stdout",
     "output_type": "stream",
     "text": [
      "1615477\n"
     ]
    }
   ],
   "source": [
    "for r in news['recid']:\n",
    "    #Analysis of each citation\n",
    "    print(r)\n",
    "    oldrefersto=pd.read_json('data/{}.json'.format(r))"
   ]
  },
  {
   "cell_type": "code",
   "execution_count": 49,
   "metadata": {},
   "outputs": [
    {
     "data": {
      "text/plain": [
       "0    1757579\n",
       "1    1748732\n",
       "2    1737508\n",
       "3    1718610\n",
       "4    1709396\n",
       "5    1647960\n",
       "6    1634992\n",
       "Name: recid, dtype: int64"
      ]
     },
     "execution_count": 49,
     "metadata": {},
     "output_type": "execute_result"
    }
   ],
   "source": [
    "oldrefersto['recid']"
   ]
  },
  {
   "cell_type": "code",
   "execution_count": 50,
   "metadata": {},
   "outputs": [],
   "source": [
    "refersto=pd.read_json('http://inspirehep.net/search?ln=en&p=refersto:recid:1615477&of=recjson')"
   ]
  },
  {
   "cell_type": "code",
   "execution_count": 53,
   "metadata": {},
   "outputs": [],
   "source": [
    "newrecid=pd.np.setdiff1d(refersto['recid'],oldrefersto['recid'])"
   ]
  },
  {
   "cell_type": "code",
   "execution_count": 54,
   "metadata": {},
   "outputs": [
    {
     "data": {
      "text/plain": [
       "1634858"
      ]
     },
     "execution_count": 54,
     "metadata": {},
     "output_type": "execute_result"
    }
   ],
   "source": [
    "newrecid[0]"
   ]
  },
  {
   "cell_type": "code",
   "execution_count": 56,
   "metadata": {},
   "outputs": [
    {
     "data": {
      "text/html": [
       "<div>\n",
       "<style scoped>\n",
       "    .dataframe tbody tr th:only-of-type {\n",
       "        vertical-align: middle;\n",
       "    }\n",
       "\n",
       "    .dataframe tbody tr th {\n",
       "        vertical-align: top;\n",
       "    }\n",
       "\n",
       "    .dataframe thead th {\n",
       "        text-align: right;\n",
       "    }\n",
       "</style>\n",
       "<table border=\"1\" class=\"dataframe\">\n",
       "  <thead>\n",
       "    <tr style=\"text-align: right;\">\n",
       "      <th></th>\n",
       "      <th>title</th>\n",
       "      <th>authors</th>\n",
       "      <th>collection</th>\n",
       "    </tr>\n",
       "  </thead>\n",
       "  <tbody>\n",
       "    <tr>\n",
       "      <th>9</th>\n",
       "      <td>{'title': 'Lepton Number Violation: Seesaw Mod...</td>\n",
       "      <td>[{'last_name': 'Cai', 'affiliation': 'SYSU, Gu...</td>\n",
       "      <td>[{'primary': 'CORE'}, {'primary': 'arXiv'}, {'...</td>\n",
       "    </tr>\n",
       "  </tbody>\n",
       "</table>\n",
       "</div>"
      ],
      "text/plain": [
       "                                               title  \\\n",
       "9  {'title': 'Lepton Number Violation: Seesaw Mod...   \n",
       "\n",
       "                                             authors  \\\n",
       "9  [{'last_name': 'Cai', 'affiliation': 'SYSU, Gu...   \n",
       "\n",
       "                                          collection  \n",
       "9  [{'primary': 'CORE'}, {'primary': 'arXiv'}, {'...  "
      ]
     },
     "execution_count": 56,
     "metadata": {},
     "output_type": "execute_result"
    }
   ],
   "source": [
    "refersto[refersto['recid']==newrecid[0]][['title','authors','collection']]"
   ]
  },
  {
   "cell_type": "code",
   "execution_count": null,
   "metadata": {},
   "outputs": [],
   "source": []
  }
 ],
 "metadata": {
  "kernelspec": {
   "display_name": "Python 3",
   "language": "python",
   "name": "python3"
  },
  "language_info": {
   "codemirror_mode": {
    "name": "ipython",
    "version": 3
   },
   "file_extension": ".py",
   "mimetype": "text/x-python",
   "name": "python",
   "nbconvert_exporter": "python",
   "pygments_lexer": "ipython3",
   "version": "3.5.3"
  },
  "latex_envs": {
   "LaTeX_envs_menu_present": true,
   "autoclose": false,
   "autocomplete": true,
   "bibliofile": "biblio.bib",
   "cite_by": "apalike",
   "current_citInitial": 1,
   "eqLabelWithNumbers": true,
   "eqNumInitial": 1,
   "hotkeys": {
    "equation": "Ctrl-E",
    "itemize": "Ctrl-I"
   },
   "labels_anchors": false,
   "latex_user_defs": false,
   "report_style_numbering": false,
   "user_envs_cfg": false
  }
 },
 "nbformat": 4,
 "nbformat_minor": 2
}
