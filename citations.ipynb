{
 "cells": [
  {
   "cell_type": "code",
   "execution_count": 202,
   "metadata": {},
   "outputs": [],
   "source": [
    "import pandas as pd\n",
    "import time"
   ]
  },
  {
   "cell_type": "code",
   "execution_count": 203,
   "metadata": {},
   "outputs": [
    {
     "data": {
      "text/plain": [
       "1638"
      ]
     },
     "execution_count": 203,
     "metadata": {},
     "output_type": "execute_result"
    }
   ],
   "source": [
    "old=pd.read_json('data/old.json')#.reset_index(drop=True)\n",
    "old.number_of_citations.sum()"
   ]
  },
  {
   "cell_type": "markdown",
   "metadata": {},
   "source": [
    "Download citations of each paper"
   ]
  },
  {
   "cell_type": "code",
   "execution_count": 204,
   "metadata": {},
   "outputs": [],
   "source": [
    "UPDATE=False\n",
    "if UPDATE:\n",
    "    for r in old['recid']:\n",
    "        p=pd.read_json('http://inspirehep.net/search?ln=en&p=refersto:recid:{}&of=recjson'.format(r)\n",
    "                      ).to_json('data/{}.json'.format(r))\n",
    "        print(r)\n",
    "        time.sleep(1)"
   ]
  },
  {
   "cell_type": "markdown",
   "metadata": {},
   "source": [
    "Download INSPIRE HEP Profile"
   ]
  },
  {
   "cell_type": "code",
   "execution_count": 205,
   "metadata": {},
   "outputs": [
    {
     "data": {
      "text/plain": [
       "1642"
      ]
     },
     "execution_count": 205,
     "metadata": {},
     "output_type": "execute_result"
    }
   ],
   "source": [
    "# TODO: Check if the author has more that 250 records!\n",
    "exact_author='D.Restrepo.1'\n",
    "url='http://inspirehep.net/search?p=ea+{}&rg=250&of=recjson'.format(exact_author)\n",
    "df=pd.read_json(url)\n",
    "new=df.copy()\n",
    "df.number_of_citations.sum()"
   ]
  },
  {
   "cell_type": "markdown",
   "metadata": {},
   "source": [
    "author='restrepo,+d'\n",
    "df=pd.read_json(\n",
    "    \"http://inspirehep.net/search?ln=en&ln=en&p=a+{}+AND+collection%3Aciteable&rg=250&of=recjson\".format(\n",
    "        author))\n",
    "new=df.copy()"
   ]
  },
  {
   "cell_type": "code",
   "execution_count": 206,
   "metadata": {},
   "outputs": [],
   "source": [
    "import sys\n",
    "ANALYSIS=False\n",
    "if new['number_of_citations'].sum()>old['number_of_citations'].sum():\n",
    "    ANALYSIS=True\n",
    "if not ANALYSIS:\n",
    "    sys.exit('NO NEW CITES TO ANALYSE!')"
   ]
  },
  {
   "cell_type": "code",
   "execution_count": 207,
   "metadata": {
    "scrolled": true
   },
   "outputs": [],
   "source": [
    "old['iid']=old.FIXME_OAI.apply(lambda d: d['id']).str.split(':').str[-1]\n",
    "new['iid']=old.FIXME_OAI.apply(lambda d: d['id']).str.split(':').str[-1]"
   ]
  },
  {
   "cell_type": "code",
   "execution_count": 208,
   "metadata": {},
   "outputs": [],
   "source": [
    "old=old.rename({'number_of_citations':'nc'},axis='columns') ##add other relevant columns for analysis"
   ]
  },
  {
   "cell_type": "code",
   "execution_count": 209,
   "metadata": {},
   "outputs": [
    {
     "data": {
      "text/plain": [
       "True"
      ]
     },
     "execution_count": 209,
     "metadata": {},
     "output_type": "execute_result"
    }
   ],
   "source": [
    "ANALYSIS"
   ]
  },
  {
   "cell_type": "code",
   "execution_count": 210,
   "metadata": {},
   "outputs": [],
   "source": [
    "new=new.merge(old[['nc','iid']],on='iid',how='left')#[['number_of_citations','nc']]"
   ]
  },
  {
   "cell_type": "code",
   "execution_count": 211,
   "metadata": {},
   "outputs": [],
   "source": [
    "news=new[new['number_of_citations']>new['nc']]"
   ]
  },
  {
   "cell_type": "code",
   "execution_count": 212,
   "metadata": {},
   "outputs": [
    {
     "name": "stdout",
     "output_type": "stream",
     "text": [
      "New citations in:\n"
     ]
    },
    {
     "data": {
      "text/plain": [
       "0    1755250\n",
       "2    1741056\n",
       "3    1708907\n",
       "8    1663960\n",
       "Name: recid, dtype: int64"
      ]
     },
     "execution_count": 212,
     "metadata": {},
     "output_type": "execute_result"
    }
   ],
   "source": [
    "print('New citations in:')\n",
    "news['recid']\n",
    "#['primary_report_number'].apply(lambda l:  [x for x in l if x.find('arXiv')>-1])"
   ]
  },
  {
   "cell_type": "code",
   "execution_count": 216,
   "metadata": {},
   "outputs": [
    {
     "name": "stdout",
     "output_type": "stream",
     "text": [
      "===== NEW CITATION FOR 1755250=====\n",
      "{'title': 'Dirac neutrino mass generation from Majorana messenger'}\n",
      "with\n",
      "['Calle, Julian', 'Restrepo, Diego', 'Zapata, Óscar']\n",
      "WAS CITED BY:\n",
      "************************************************************\n",
      "{'title': 'Minimal Realizations of Dirac Neutrino Mass from Generic One-loop and Two-loop Topologies at $d=5$'}\n",
      "['Jana, Sudip', 'K., Vishnu P.', 'Saad, Shaikh']\n",
      "['arXiv:1910.09537']\n",
      "UPDATE CITATIONS (Y)\n",
      "Y/N\n",
      "UPDATING JSON DATA CITATION for 1755250\n",
      "===== NEW CITATION FOR 1741056=====\n",
      "{'title': 'Singlet-Doublet Dirac Dark Matter and Neutrino Masses'}\n",
      "with\n",
      "['Restrepo, Diego', 'Rivera, Andrés', 'Tangarife, Walter']\n",
      "WAS CITED BY:\n",
      "************************************************************\n",
      "{'title': 'Minimal Realizations of Dirac Neutrino Mass from Generic One-loop and Two-loop Topologies at $d=5$'}\n",
      "['Jana, Sudip', 'K., Vishnu P.', 'Saad, Shaikh']\n",
      "['arXiv:1910.09537']\n",
      "UPDATE CITATIONS (Y)\n",
      "Y/N\n",
      "UPDATING JSON DATA CITATION for 1741056\n",
      "===== NEW CITATION FOR 1708907=====\n",
      "{'title': 'Minimal radiative Dirac neutrino mass models'}\n",
      "with\n",
      "['Calle, Julian', 'Restrepo, Diego', 'Yaguna, Carlos E.', 'Zapata, Óscar']\n",
      "WAS CITED BY:\n",
      "************************************************************\n",
      "{'title': 'Minimal Realizations of Dirac Neutrino Mass from Generic One-loop and Two-loop Topologies at $d=5$'}\n",
      "['Jana, Sudip', 'K., Vishnu P.', 'Saad, Shaikh']\n",
      "['arXiv:1910.09537']\n",
      "UPDATE CITATIONS (Y)\n",
      "Y/N\n",
      "UPDATING JSON DATA CITATION for 1708907\n",
      "===== NEW CITATION FOR 1663960=====\n",
      "{'title': 'Bound-state dark matter and Dirac neutrino masses'}\n",
      "with\n",
      "['Reig, M.', 'Restrepo, D.', 'Valle, J.W.F.', 'Zapata, O.']\n",
      "WAS CITED BY:\n",
      "************************************************************\n",
      "{'title': 'Minimal Realizations of Dirac Neutrino Mass from Generic One-loop and Two-loop Topologies at $d=5$'}\n",
      "['Jana, Sudip', 'K., Vishnu P.', 'Saad, Shaikh']\n",
      "['arXiv:1910.09537']\n",
      "UPDATE CITATIONS (Y)\n",
      "Y/N\n",
      "UPDATING JSON DATA CITATION for 1663960\n"
     ]
    }
   ],
   "source": [
    "for r in news['recid']:\n",
    "    #Analysis of each citation\n",
    "    print('===== NEW CITATION FOR {}====='.format(r))\n",
    "    oldrefersto=pd.read_json('data/{}.json'.format(r))\n",
    "    refersto=pd.read_json('http://inspirehep.net/search?ln=en&p=refersto:recid:{}&of=recjson'.format(r))\n",
    "    print( news[news['recid']==r]['title'].values[0] )\n",
    "    print('with')\n",
    "    print(news[news['recid']==r]['authors'].apply(lambda l: [d['full_name'] for d in l]).values[0])\n",
    "    print('WAS CITED BY:')\n",
    "    try:\n",
    "        newrecid=pd.np.setdiff1d(refersto['recid'],oldrefersto['recid'])\n",
    "    except KeyError:\n",
    "        newrecid=pd.np.setdiff1d(refersto['recid'],[])\n",
    "    #newrecid=pd.np.setdiff1d(refersto['recid'],oldrefersto['recid'][:-2])\n",
    "    for rr in newrecid:\n",
    "        print('*'*60)\n",
    "        print( refersto[refersto['recid']==rr]['title'].values[0])\n",
    "        print( refersto[refersto['recid']==rr]['authors'].apply(lambda l: \n",
    "                                            [d['full_name'] for d in l]).values[0])\n",
    "        print( refersto[refersto['recid']==rr]['primary_report_number'].apply(lambda l: \n",
    "                                            [x for x in l if x.find('arXiv')>-1]).values[0] )    \n",
    "    print('UPDATE CITATIONS (Y)')\n",
    "    YN=input('Y/N')\n",
    "    if YN!='N' or YN!='n' or YN!='not' or YN!='Not':\n",
    "        print('UPDATING JSON DATA CITATION for {}'.format(r))\n",
    "        refersto.to_json('data/{}.json'.format(r))"
   ]
  },
  {
   "cell_type": "code",
   "execution_count": 217,
   "metadata": {},
   "outputs": [
    {
     "name": "stdout",
     "output_type": "stream",
     "text": [
      "UPDATE FULL DATABASE for profiles (N)\n",
      "Y/Ny\n"
     ]
    }
   ],
   "source": [
    "print('UPDATE FULL DATABASE for profiles (N)')\n",
    "YN=input('Y/N')\n",
    "if YN=='Y' or YN=='y' or YN=='yes' or YN=='Yes':\n",
    "    df.to_json('data/old.json')"
   ]
  },
  {
   "cell_type": "code",
   "execution_count": null,
   "metadata": {},
   "outputs": [],
   "source": []
  }
 ],
 "metadata": {
  "kernelspec": {
   "display_name": "Python 3",
   "language": "python",
   "name": "python3"
  },
  "language_info": {
   "codemirror_mode": {
    "name": "ipython",
    "version": 3
   },
   "file_extension": ".py",
   "mimetype": "text/x-python",
   "name": "python",
   "nbconvert_exporter": "python",
   "pygments_lexer": "ipython3",
   "version": "3.5.3"
  },
  "latex_envs": {
   "LaTeX_envs_menu_present": true,
   "autoclose": false,
   "autocomplete": true,
   "bibliofile": "biblio.bib",
   "cite_by": "apalike",
   "current_citInitial": 1,
   "eqLabelWithNumbers": true,
   "eqNumInitial": 1,
   "hotkeys": {
    "equation": "Ctrl-E",
    "itemize": "Ctrl-I"
   },
   "labels_anchors": false,
   "latex_user_defs": false,
   "report_style_numbering": false,
   "user_envs_cfg": false
  }
 },
 "nbformat": 4,
 "nbformat_minor": 2
}
