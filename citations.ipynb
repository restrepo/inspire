{
 "cells": [
  {
   "cell_type": "code",
   "execution_count": 173,
   "metadata": {},
   "outputs": [],
   "source": [
    "import pandas as pd\n",
    "import time"
   ]
  },
  {
   "cell_type": "code",
   "execution_count": 174,
   "metadata": {},
   "outputs": [
    {
     "data": {
      "text/plain": [
       "1636"
      ]
     },
     "execution_count": 174,
     "metadata": {},
     "output_type": "execute_result"
    }
   ],
   "source": [
    "old=pd.read_json('data/old.json')#.reset_index(drop=True)\n",
    "old.number_of_citations.sum()"
   ]
  },
  {
   "cell_type": "markdown",
   "metadata": {},
   "source": [
    "Download citations of each paper"
   ]
  },
  {
   "cell_type": "code",
   "execution_count": 175,
   "metadata": {},
   "outputs": [],
   "source": [
    "UPDATE=False\n",
    "if UPDATE:\n",
    "    for r in old['recid']:\n",
    "        p=pd.read_json('http://inspirehep.net/search?ln=en&p=refersto:recid:{}&of=recjson'.format(r)\n",
    "                      ).to_json('data/{}.json'.format(r))\n",
    "        print(r)\n",
    "        time.sleep(1)"
   ]
  },
  {
   "cell_type": "markdown",
   "metadata": {},
   "source": [
    "Download INSPIRE HEP Profile"
   ]
  },
  {
   "cell_type": "code",
   "execution_count": 176,
   "metadata": {},
   "outputs": [
    {
     "data": {
      "text/plain": [
       "1638"
      ]
     },
     "execution_count": 176,
     "metadata": {},
     "output_type": "execute_result"
    }
   ],
   "source": [
    "# TODO: Check if the author has more that 250 records!\n",
    "exact_author='D.Restrepo.1'\n",
    "url='http://inspirehep.net/search?p=ea+{}&rg=250&of=recjson'.format(exact_author)\n",
    "df=pd.read_json(url)\n",
    "new=df.copy()\n",
    "df.number_of_citations.sum()"
   ]
  },
  {
   "cell_type": "markdown",
   "metadata": {},
   "source": [
    "author='restrepo,+d'\n",
    "df=pd.read_json(\n",
    "    \"http://inspirehep.net/search?ln=en&ln=en&p=a+{}+AND+collection%3Aciteable&rg=250&of=recjson\".format(\n",
    "        author))\n",
    "new=df.copy()"
   ]
  },
  {
   "cell_type": "code",
   "execution_count": 177,
   "metadata": {},
   "outputs": [],
   "source": [
    "import sys\n",
    "ANALYSIS=False\n",
    "if new['number_of_citations'].sum()>old['number_of_citations'].sum():\n",
    "    ANALYSIS=True\n",
    "if not ANALYSIS:\n",
    "    sys.exit('NO NEW CITES TO ANALYSE!')"
   ]
  },
  {
   "cell_type": "code",
   "execution_count": 178,
   "metadata": {
    "scrolled": true
   },
   "outputs": [],
   "source": [
    "old['iid']=old.FIXME_OAI.apply(lambda d: d['id']).str.split(':').str[-1]\n",
    "new['iid']=old.FIXME_OAI.apply(lambda d: d['id']).str.split(':').str[-1]"
   ]
  },
  {
   "cell_type": "code",
   "execution_count": 179,
   "metadata": {},
   "outputs": [],
   "source": [
    "old=old.rename({'number_of_citations':'nc'},axis='columns') ##add other relevant columns for analysis"
   ]
  },
  {
   "cell_type": "code",
   "execution_count": 180,
   "metadata": {},
   "outputs": [
    {
     "data": {
      "text/plain": [
       "True"
      ]
     },
     "execution_count": 180,
     "metadata": {},
     "output_type": "execute_result"
    }
   ],
   "source": [
    "ANALYSIS"
   ]
  },
  {
   "cell_type": "code",
   "execution_count": 181,
   "metadata": {},
   "outputs": [],
   "source": [
    "new=new.merge(old[['nc','iid']],on='iid',how='left')#[['number_of_citations','nc']]"
   ]
  },
  {
   "cell_type": "code",
   "execution_count": 182,
   "metadata": {},
   "outputs": [],
   "source": [
    "news=new[new['number_of_citations']>new['nc']]"
   ]
  },
  {
   "cell_type": "code",
   "execution_count": 183,
   "metadata": {},
   "outputs": [
    {
     "name": "stdout",
     "output_type": "stream",
     "text": [
      "New citations in:\n"
     ]
    },
    {
     "data": {
      "text/plain": [
       "1    1746620\n",
       "6    1679809\n",
       "Name: recid, dtype: int64"
      ]
     },
     "execution_count": 183,
     "metadata": {},
     "output_type": "execute_result"
    }
   ],
   "source": [
    "print('New citations in:')\n",
    "news['recid']\n",
    "#['primary_report_number'].apply(lambda l:  [x for x in l if x.find('arXiv')>-1])"
   ]
  },
  {
   "cell_type": "code",
   "execution_count": 185,
   "metadata": {},
   "outputs": [
    {
     "data": {
      "text/plain": [
       "1746620"
      ]
     },
     "execution_count": 185,
     "metadata": {},
     "output_type": "execute_result"
    }
   ],
   "source": [
    "r"
   ]
  },
  {
   "cell_type": "code",
   "execution_count": 193,
   "metadata": {},
   "outputs": [
    {
     "data": {
      "text/plain": [
       "0    1759674\n",
       "Name: recid, dtype: int64"
      ]
     },
     "execution_count": 193,
     "metadata": {},
     "output_type": "execute_result"
    }
   ],
   "source": [
    "refersto['recid']"
   ]
  },
  {
   "cell_type": "code",
   "execution_count": 192,
   "metadata": {},
   "outputs": [
    {
     "data": {
      "text/plain": [
       "array([1759674])"
      ]
     },
     "execution_count": 192,
     "metadata": {},
     "output_type": "execute_result"
    }
   ],
   "source": [
    "pd.np.setdiff1d(refersto['recid'],oldrefersto['recid'])"
   ]
  },
  {
   "cell_type": "code",
   "execution_count": 199,
   "metadata": {},
   "outputs": [
    {
     "data": {
      "text/plain": [
       "array([1759674])"
      ]
     },
     "execution_count": 199,
     "metadata": {},
     "output_type": "execute_result"
    }
   ],
   "source": [
    "pd.np.setdiff1d(refersto['recid'],[])"
   ]
  },
  {
   "cell_type": "code",
   "execution_count": 200,
   "metadata": {},
   "outputs": [
    {
     "name": "stdout",
     "output_type": "stream",
     "text": [
      "===== NEW CITATION FOR 1746620=====\n",
      "{'title': 'Phenomenological consistency of the singlet-triplet scotogenic model'}\n",
      "with\n",
      "['Restrepo, Diego', 'Rivera, Andrés']\n",
      "WAS CITED BY:\n",
      "************************************************************\n",
      "{'title': 'Minimalistic scotogenic scalar dark matter'}\n",
      "['Ávila, Ivania M.', 'De Romeri, Valentina', 'Duarte, Laura', 'Valle, José W.F.']\n",
      "['arXiv:1910.08422']\n",
      "UPDATE CITATIONS (Y)\n",
      "Y/Ny\n",
      "UPDATINF JSON DATA CITATION for 1746620\n",
      "===== NEW CITATION FOR 1679809=====\n",
      "{'title': 'Bound-state dark matter with Majorana neutrinos'}\n",
      "with\n",
      "['Reig, M.', 'Restrepo, D.', 'Valle, J.W. F.', 'Zapata, O.']\n",
      "WAS CITED BY:\n",
      "************************************************************\n",
      "{'title': 'Minimalistic scotogenic scalar dark matter'}\n",
      "['Ávila, Ivania M.', 'De Romeri, Valentina', 'Duarte, Laura', 'Valle, José W.F.']\n",
      "['arXiv:1910.08422']\n",
      "UPDATE CITATIONS (Y)\n",
      "Y/Ny\n",
      "UPDATINF JSON DATA CITATION for 1679809\n"
     ]
    }
   ],
   "source": [
    "for r in news['recid']:\n",
    "    #Analysis of each citation\n",
    "    print('===== NEW CITATION FOR {}====='.format(r))\n",
    "    oldrefersto=pd.read_json('data/{}.json'.format(r))\n",
    "    refersto=pd.read_json('http://inspirehep.net/search?ln=en&p=refersto:recid:{}&of=recjson'.format(r))\n",
    "    print( news[news['recid']==r]['title'].values[0] )\n",
    "    print('with')\n",
    "    print(news[news['recid']==r]['authors'].apply(lambda l: [d['full_name'] for d in l]).values[0])\n",
    "    print('WAS CITED BY:')\n",
    "    try:\n",
    "        newrecid=pd.np.setdiff1d(refersto['recid'],oldrefersto['recid'])\n",
    "    except KeyError:\n",
    "        newrecid=pd.np.setdiff1d(refersto['recid'],[])\n",
    "    #newrecid=pd.np.setdiff1d(refersto['recid'],oldrefersto['recid'][:-2])\n",
    "    for rr in newrecid:\n",
    "        print('*'*60)\n",
    "        print( refersto[refersto['recid']==rr]['title'].values[0])\n",
    "        print( refersto[refersto['recid']==rr]['authors'].apply(lambda l: \n",
    "                                            [d['full_name'] for d in l]).values[0])\n",
    "        print( refersto[refersto['recid']==rr]['primary_report_number'].apply(lambda l: \n",
    "                                            [x for x in l if x.find('arXiv')>-1]).values[0] )    \n",
    "    print('UPDATE CITATIONS (Y)')\n",
    "    YN=input('Y/N')\n",
    "    if YN!='N' or YN!='n' or YN!='not' or YN!='Not':\n",
    "        print('UPDATING JSON DATA CITATION for {}'.format(r))\n",
    "        refersto.to_json('data/{}.json'.format(r))"
   ]
  },
  {
   "cell_type": "code",
   "execution_count": 201,
   "metadata": {},
   "outputs": [
    {
     "name": "stdout",
     "output_type": "stream",
     "text": [
      "UPDATE FULL DATABASE for profiles (N)\n",
      "Y/Ny\n"
     ]
    }
   ],
   "source": [
    "print('UPDATE FULL DATABASE for profiles (N)')\n",
    "YN=input('Y/N')\n",
    "if YN=='Y' or YN=='y' or YN=='yes' or YN=='Yes':\n",
    "    df.to_json('data/old.json')"
   ]
  },
  {
   "cell_type": "code",
   "execution_count": null,
   "metadata": {},
   "outputs": [],
   "source": []
  }
 ],
 "metadata": {
  "kernelspec": {
   "display_name": "Python 3",
   "language": "python",
   "name": "python3"
  },
  "language_info": {
   "codemirror_mode": {
    "name": "ipython",
    "version": 3
   },
   "file_extension": ".py",
   "mimetype": "text/x-python",
   "name": "python",
   "nbconvert_exporter": "python",
   "pygments_lexer": "ipython3",
   "version": "3.5.3"
  },
  "latex_envs": {
   "LaTeX_envs_menu_present": true,
   "autoclose": false,
   "autocomplete": true,
   "bibliofile": "biblio.bib",
   "cite_by": "apalike",
   "current_citInitial": 1,
   "eqLabelWithNumbers": true,
   "eqNumInitial": 1,
   "hotkeys": {
    "equation": "Ctrl-E",
    "itemize": "Ctrl-I"
   },
   "labels_anchors": false,
   "latex_user_defs": false,
   "report_style_numbering": false,
   "user_envs_cfg": false
  }
 },
 "nbformat": 4,
 "nbformat_minor": 2
}
