{
 "cells": [
  {
   "cell_type": "markdown",
   "id": "ffa71bff-8b6d-4913-b07e-f3c5e4355cba",
   "metadata": {},
   "source": [
    "# Get INSPIRE-HEP info for authors of HEP articles in https://lens.org\n",
    "## from Latin America:\n",
    "\n",
    "https://link.lens.org/CuptXEnD9Hk\n",
    "\n",
    "[Fields of Study](https://docs.openalex.org/about-the-data/concept)\n",
    "\n",
    "* Level 1: Physics\n",
    "  * Level 2: Particle physics\n",
    "  * Level 2: Cosmology\n",
    "  * Level 2: Astrophysics\n",
    "  * Level 2: Mathematical physics\n",
    "\n",
    "Countries with non-zero counts of articles in `LA_countries`"
   ]
  },
  {
   "cell_type": "code",
   "execution_count": 1,
   "id": "fd3302c2-9a58-4f87-97c0-7c277c029d7f",
   "metadata": {},
   "outputs": [],
   "source": [
    "import pandas as pd\n",
    "import requests\n",
    "import time\n",
    "import json"
   ]
  },
  {
   "cell_type": "code",
   "execution_count": 2,
   "id": "35954fe0-8a76-414d-a4d8-f52876eb1937",
   "metadata": {},
   "outputs": [],
   "source": [
    "#LA → 17 countries\n",
    "#Argentina, Bolivia, Brazil, Chile, Colombia, Costa Rica, Ecuador, El Salvador, Guatemala, Honduras, Mexico, Nicaragua, Panama, Paraguay, Peru, the Dominican Republic and Uruguay."
   ]
  },
  {
   "cell_type": "code",
   "execution_count": 346,
   "id": "37b10aff-0281-4f7f-918d-0535a84bd102",
   "metadata": {},
   "outputs": [],
   "source": [
    "global db,LA_countries,fields_of_study,sep,sleep\n",
    "LA_countries=( 'Brazil'  , 'Mexico'  , 'Colombia'  , 'Chile'  , 'Argentina'  , 'Ecuador'  , 'Guatemala'  , 'Peru'  ,\n",
    "  'Venezuela'  , 'Uruguay'  , 'Bolivia'  , 'Costa Rica'  , 'Paraguay'  , 'Nicaragua'  , 'Panama'  , 'El Salvador'  , 'Cuba' )\n",
    "fields_of_study={'Particle physics','Cosmology','Astrophysics','Mathematical physics'}\n",
    "sep='arxiv.org/abs/'\n",
    "#From https://github.com/inspirehep/rest-api-doc#rate-limiting\n",
    "#every IP address is allowed 15 requests in a 5s window.\n",
    "collaborations=['STAR', 'MicroBooNE', 'CLAS', 'DUNE', 'NA62', 'PHENIX', 'BESIII', 'DES', 'Super-Kamiokande', 'LIGO Scientific', 'KM3NeT', 'HAWC', \n",
    "                'Pierre Auger', 'IceCube', 'CTA Observatory', 'Telescope Array', 'MAGIC', 'SuperCDMS', 'CUPID', 'CUORE', 'KATRIN', 'REDTOP', 'KAGRA', \n",
    "                'Muon Collider', 'Mu2e-II', 'ILC International Development Team', 'Daya Bay', 'Virgo', 'NEMO-3', 'ATLAS', 'Euclid', 'LHCb', 'CMS', \n",
    "                'ANTARES', 'GERDA', 'HADES', 'n_TOF', 'PANDA', 'Jefferson Lab Hall A', 'LUX-ZEPLIN', 'Belle', 'LHAASO', 'H.E.S.S.', 'JUNO', 'AMS', \n",
    "                'XENON', 'SHiP', 'ALICE', 'NA61/SHINE', 'DAMPE', 'H1', 'NOvA', 'CTA LST Project', 'OPERA', 'COMPASS', 'GlueX', 'LEGEND', \n",
    "                'Event Horizon Telescope', 'MPD', 'LiteBIRD', 'Double Chooz', 'Fermi-LAT', 'nEXO', 'SDSS-IV', 'NEXT', 'CREX', 'BaBar', \n",
    "                'CDF', 'DarkSide', 'EXO-200', 'Tibet ASγ', 'SPT-3G', 'Mice', 'CTA Consortium', 'SNO+', 'CSNS Back-n', 'WA105', 'NA48/2', \n",
    "                'Muon g-2', 'DEAP', 'T2K', 'Charm', 'HESS', 'ICARUS', 'Hess', 'CTA', 'Mu3e', 'Planck', 'Hyper-Kamiokande', 'MOONS Consortium', \n",
    "                'HEP Software Foundation', 'LSPE', 'CMB-S4', 'TianQin', 'QUBIC', 'KLF', 'Particle Data Group', 'DARWIN', 'LZ', 'Insight-HXMT Team', \n",
    "                'WASA-at-COSY', 'BOREXINO', 'TOTEM', 'SBND', 'RD42', 'SPTpol', 'IAXO', 'aLIGO', 'LIGO', 'LHeC', 'D0', 'ACT', 'LHC Reinterpretation Forum', \n",
    "                'ILD Concept Group', 'RD53', 'Insight-HXMT', 'CPEDM', 'ILD', 'LArIAT', 'Rd42', 'BDX', 'Jefferson Lab E97-110', 'AEDGE', 'AMEGO', 'Simons Observatory', \n",
    "                'LUX', 'LISA Pathfinder', 'MSE Science Team', 'CALICE', 'ZEUS', 'E97-110', 'PREX', 'SPD proto', 'AdvLIGO', 'HERMES-SP']\n",
    "sleep=0.4"
   ]
  },
  {
   "cell_type": "code",
   "execution_count": 4,
   "id": "99916688-05af-4cf8-ab1a-3ad2e3427f5e",
   "metadata": {},
   "outputs": [],
   "source": [
    "FULL=False\n",
    "if FULL:\n",
    "    df=pd.read_csv('LA_HEP.csv')\n",
    "else:\n",
    "    df=pd.read_csv('data/LA_HEP_not_cn.csv.gz')"
   ]
  },
  {
   "cell_type": "code",
   "execution_count": 5,
   "id": "75f47e22-19a6-47fb-b5e6-04ed03d0ae98",
   "metadata": {},
   "outputs": [
    {
     "data": {
      "text/plain": [
       "Index(['Lens ID', 'Title', 'Date Published', 'Publication Year',\n",
       "       'Publication Type', 'Source Title', 'ISSNs', 'Publisher',\n",
       "       'Source Country', 'Author/s', 'Abstract', 'Volume', 'Issue Number',\n",
       "       'Start Page', 'End Page', 'Fields of Study', 'Keywords', 'MeSH Terms',\n",
       "       'Chemicals', 'Funding', 'Source URLs', 'External URL', 'PMID', 'DOI',\n",
       "       'Microsoft Academic ID', 'PMCID', 'Citing Patents Count', 'References',\n",
       "       'Citing Works Count', 'author_count'],\n",
       "      dtype='object')"
      ]
     },
     "execution_count": 5,
     "metadata": {},
     "output_type": "execute_result"
    }
   ],
   "source": [
    "df.columns"
   ]
  },
  {
   "cell_type": "code",
   "execution_count": 6,
   "id": "ab9c4013-26d2-495b-8500-7d3f50552edd",
   "metadata": {},
   "outputs": [],
   "source": [
    "df['author_count']=df['Author/s'].str.split('; ').apply(len)"
   ]
  },
  {
   "cell_type": "markdown",
   "id": "b7ab87e8-b38b-4585-887e-91e01be83be6",
   "metadata": {},
   "source": [
    "Avoid large file requests. Analyse collaborations separately"
   ]
  },
  {
   "cell_type": "code",
   "execution_count": 7,
   "id": "d3bfca76-6b67-4671-b255-53a3206710dc",
   "metadata": {},
   "outputs": [],
   "source": [
    "df=df[df['author_count']<=10].reset_index(drop=True)"
   ]
  },
  {
   "cell_type": "code",
   "execution_count": 8,
   "id": "809bee0e-ff13-47d1-9f6e-ceac6a253e95",
   "metadata": {},
   "outputs": [
    {
     "data": {
      "text/plain": [
       "(17508, 30)"
      ]
     },
     "execution_count": 8,
     "metadata": {},
     "output_type": "execute_result"
    }
   ],
   "source": [
    "df.shape"
   ]
  },
  {
   "cell_type": "code",
   "execution_count": 9,
   "id": "073d3b37-3590-4eb8-a2b2-c9c18bf103ad",
   "metadata": {},
   "outputs": [
    {
     "data": {
      "text/plain": [
       "(17508, 30)"
      ]
     },
     "execution_count": 9,
     "metadata": {},
     "output_type": "execute_result"
    }
   ],
   "source": [
    "df[df['Fields of Study'].str.contains('Physics')].shape"
   ]
  },
  {
   "cell_type": "code",
   "execution_count": 10,
   "id": "9ede9993-e1ba-4ea8-a6fe-0b81de05bcbe",
   "metadata": {},
   "outputs": [
    {
     "data": {
      "text/plain": [
       "3758"
      ]
     },
     "execution_count": 10,
     "metadata": {},
     "output_type": "execute_result"
    }
   ],
   "source": [
    "PP=df[df['Fields of Study'].str.contains('Particle physics')].shape[0]\n",
    "PP"
   ]
  },
  {
   "cell_type": "code",
   "execution_count": 11,
   "id": "394a2b4f-14ab-44de-88b0-a27cb2de67ac",
   "metadata": {},
   "outputs": [
    {
     "data": {
      "text/plain": [
       "829"
      ]
     },
     "execution_count": 11,
     "metadata": {},
     "output_type": "execute_result"
    }
   ],
   "source": [
    "PC=df[df['Fields of Study'].str.contains('Cosmology')].shape[0]\n",
    "PC"
   ]
  },
  {
   "cell_type": "code",
   "execution_count": 12,
   "id": "f31c6a7f-50c6-480a-b69f-ea53e03fda0f",
   "metadata": {},
   "outputs": [
    {
     "data": {
      "text/plain": [
       "8809"
      ]
     },
     "execution_count": 12,
     "metadata": {},
     "output_type": "execute_result"
    }
   ],
   "source": [
    "PA=df[df['Fields of Study'].str.contains('Astrophysics')].shape[0]\n",
    "PA"
   ]
  },
  {
   "cell_type": "code",
   "execution_count": 13,
   "id": "7aba3729-354f-446e-8dbd-801856d8e662",
   "metadata": {},
   "outputs": [
    {
     "data": {
      "text/plain": [
       "5076"
      ]
     },
     "execution_count": 13,
     "metadata": {},
     "output_type": "execute_result"
    }
   ],
   "source": [
    "PM=df[df['Fields of Study'].str.contains('Mathematical physics')].shape[0]\n",
    "PM"
   ]
  },
  {
   "cell_type": "code",
   "execution_count": 14,
   "id": "d4193e8c-5c31-4317-8050-4cb200968331",
   "metadata": {},
   "outputs": [
    {
     "data": {
      "text/plain": [
       "18472"
      ]
     },
     "execution_count": 14,
     "metadata": {},
     "output_type": "execute_result"
    }
   ],
   "source": [
    "PP+PA+PC+PM"
   ]
  },
  {
   "cell_type": "code",
   "execution_count": 15,
   "id": "c40b3c42-3cb5-4d40-a27b-71d604032c52",
   "metadata": {},
   "outputs": [
    {
     "data": {
      "text/plain": [
       "15146"
      ]
     },
     "execution_count": 15,
     "metadata": {},
     "output_type": "execute_result"
    }
   ],
   "source": [
    "ndois=df.DOI.dropna().shape[0]\n",
    "ndois"
   ]
  },
  {
   "cell_type": "code",
   "execution_count": 16,
   "id": "ad41694d-b7c7-4ced-9b1a-532972869059",
   "metadata": {},
   "outputs": [],
   "source": [
    "#nd[nd['Source URLs'].str.contains('arxiv.org')]['Source URLs'].iloc[0]"
   ]
  },
  {
   "cell_type": "code",
   "execution_count": 17,
   "id": "b4c3596a-0704-4fd5-b8aa-7107b37cc378",
   "metadata": {},
   "outputs": [
    {
     "data": {
      "text/plain": [
       "1496"
      ]
     },
     "execution_count": 17,
     "metadata": {},
     "output_type": "execute_result"
    }
   ],
   "source": [
    "nd=df[df.DOI.isna()]\n",
    "nd=nd.dropna(subset=['Source URLs']).reset_index(drop=True)\n",
    "narxivs=nd[nd['Source URLs'].str.contains('arxiv.org')].shape[0]\n",
    "narxivs"
   ]
  },
  {
   "cell_type": "markdown",
   "id": "14fa3119-7a5a-4bee-b428-39581c69a939",
   "metadata": {},
   "source": [
    "Time required in hours"
   ]
  },
  {
   "cell_type": "code",
   "execution_count": 18,
   "id": "0cf7a8b9-57bc-4b4a-a8dc-e17367ae499a",
   "metadata": {},
   "outputs": [
    {
     "data": {
      "text/plain": [
       "5.5473333333333334"
      ]
     },
     "execution_count": 18,
     "metadata": {},
     "output_type": "execute_result"
    }
   ],
   "source": [
    "s=(ndois+narxivs)*3*0.4\n",
    "s/60/60"
   ]
  },
  {
   "cell_type": "markdown",
   "id": "4e0cca44-e14c-4ce6-8db2-42f75b9337db",
   "metadata": {},
   "source": [
    "Scheme: dicts and lists are the same than in INSPIRE-HEP\n",
    "```python\n",
    "{'author_id':str,\n",
    " 'name':dict, #of author\n",
    " 'LA_institution_id':str,\n",
    " 'external_system_identifiers':list, #of institution\n",
    " 'LA_country':str,\n",
    " 'LA_institution':str,\n",
    " 'email_addresses':list, #of author\n",
    " 'positions':list, #of author\n",
    " 'ids':list, #of author\n",
    " 'primary_arxiv_category', list # literature\n",
    " 'Fields of Study': list # in ['Particle physics','Cosmology','Astrophysics','Mathematical physics']\n",
    "}\n",
    "```"
   ]
  },
  {
   "cell_type": "markdown",
   "id": "6bce6c49-cb5c-4b05-88a0-fe7ed5a373e8",
   "metadata": {},
   "source": [
    "Sort by Publication Year to get the last affiliations"
   ]
  },
  {
   "cell_type": "code",
   "execution_count": 19,
   "id": "8b758c08-786c-48f8-9c41-a2c6dfc14771",
   "metadata": {},
   "outputs": [],
   "source": [
    "df=df.sort_values('Publication Year',ascending=False).reset_index(drop=True)"
   ]
  },
  {
   "cell_type": "code",
   "execution_count": 20,
   "id": "34e765e8-0cb4-4948-86ed-ebefd8e17c12",
   "metadata": {},
   "outputs": [
    {
     "data": {
      "text/html": [
       "<div>\n",
       "<style scoped>\n",
       "    .dataframe tbody tr th:only-of-type {\n",
       "        vertical-align: middle;\n",
       "    }\n",
       "\n",
       "    .dataframe tbody tr th {\n",
       "        vertical-align: top;\n",
       "    }\n",
       "\n",
       "    .dataframe thead th {\n",
       "        text-align: right;\n",
       "    }\n",
       "</style>\n",
       "<table border=\"1\" class=\"dataframe\">\n",
       "  <thead>\n",
       "    <tr style=\"text-align: right;\">\n",
       "      <th></th>\n",
       "      <th>Lens ID</th>\n",
       "      <th>Title</th>\n",
       "      <th>Date Published</th>\n",
       "      <th>Publication Year</th>\n",
       "      <th>Publication Type</th>\n",
       "      <th>Source Title</th>\n",
       "      <th>ISSNs</th>\n",
       "      <th>Publisher</th>\n",
       "      <th>Source Country</th>\n",
       "      <th>Author/s</th>\n",
       "      <th>...</th>\n",
       "      <th>Source URLs</th>\n",
       "      <th>External URL</th>\n",
       "      <th>PMID</th>\n",
       "      <th>DOI</th>\n",
       "      <th>Microsoft Academic ID</th>\n",
       "      <th>PMCID</th>\n",
       "      <th>Citing Patents Count</th>\n",
       "      <th>References</th>\n",
       "      <th>Citing Works Count</th>\n",
       "      <th>author_count</th>\n",
       "    </tr>\n",
       "  </thead>\n",
       "  <tbody>\n",
       "    <tr>\n",
       "      <th>0</th>\n",
       "      <td>025-688-286-323-660</td>\n",
       "      <td>Possible Relationship of Meteor Disintegration...</td>\n",
       "      <td>NaN</td>\n",
       "      <td>2022</td>\n",
       "      <td>journal article</td>\n",
       "      <td>Advances in Space Research</td>\n",
       "      <td>02731177; 18791948</td>\n",
       "      <td>Elsevier BV</td>\n",
       "      <td>United Kingdom</td>\n",
       "      <td>A. A. Pimenta; Paulo Batista; Vania Fatima And...</td>\n",
       "      <td>...</td>\n",
       "      <td>https://www.sciencedirect.com/science/article/...</td>\n",
       "      <td>http://dx.doi.org/10.1016/j.asr.2021.11.028</td>\n",
       "      <td>NaN</td>\n",
       "      <td>10.1016/j.asr.2021.11.028</td>\n",
       "      <td>3216041575</td>\n",
       "      <td>NaN</td>\n",
       "      <td>0</td>\n",
       "      <td>001-562-150-814-802; 006-975-738-231-584; 007-...</td>\n",
       "      <td>0</td>\n",
       "      <td>5</td>\n",
       "    </tr>\n",
       "  </tbody>\n",
       "</table>\n",
       "<p>1 rows × 30 columns</p>\n",
       "</div>"
      ],
      "text/plain": [
       "               Lens ID                                              Title  \\\n",
       "0  025-688-286-323-660  Possible Relationship of Meteor Disintegration...   \n",
       "\n",
       "  Date Published  Publication Year Publication Type  \\\n",
       "0            NaN              2022  journal article   \n",
       "\n",
       "                 Source Title               ISSNs    Publisher  \\\n",
       "0  Advances in Space Research  02731177; 18791948  Elsevier BV   \n",
       "\n",
       "   Source Country                                           Author/s  ...  \\\n",
       "0  United Kingdom  A. A. Pimenta; Paulo Batista; Vania Fatima And...  ...   \n",
       "\n",
       "                                         Source URLs  \\\n",
       "0  https://www.sciencedirect.com/science/article/...   \n",
       "\n",
       "                                  External URL PMID  \\\n",
       "0  http://dx.doi.org/10.1016/j.asr.2021.11.028  NaN   \n",
       "\n",
       "                         DOI Microsoft Academic ID PMCID Citing Patents Count  \\\n",
       "0  10.1016/j.asr.2021.11.028            3216041575   NaN                    0   \n",
       "\n",
       "                                          References Citing Works Count  \\\n",
       "0  001-562-150-814-802; 006-975-738-231-584; 007-...                  0   \n",
       "\n",
       "  author_count  \n",
       "0            5  \n",
       "\n",
       "[1 rows x 30 columns]"
      ]
     },
     "execution_count": 20,
     "metadata": {},
     "output_type": "execute_result"
    }
   ],
   "source": [
    "df[:1]"
   ]
  },
  {
   "cell_type": "code",
   "execution_count": 21,
   "id": "ff5577c3-b6bc-4d20-b18c-f0f90180147f",
   "metadata": {},
   "outputs": [
    {
     "name": "stdout",
     "output_type": "stream",
     "text": [
      "Overwriting inspirehep.py\n"
     ]
    }
   ],
   "source": [
    "%%writefile inspirehep.py\n",
    "import time\n",
    "import requests\n",
    "import json\n",
    "\n",
    "global db,db,LA_countries,fields_of_study,sep,sleep\n",
    "LA_countries=( 'Brazil'  , 'Mexico'  , 'Colombia'  , 'Chile'  , 'Argentina'  , 'Ecuador'  , 'Guatemala'  , 'Peru'  ,\n",
    "  'Venezuela'  , 'Uruguay'  , 'Bolivia'  , 'Costa Rica'  , 'Paraguay'  , 'Nicaragua'  , 'Panama'  , 'El Salvador'  , 'Cuba' )\n",
    "fields_of_study={'Particle physics','Cosmology','Astrophysics','Mathematical physics'}\n",
    "sep='arxiv.org/abs/'\n",
    "#From https://github.com/inspirehep/rest-api-doc#rate-limiting\n",
    "#every IP address is allowed 15 requests in a 5s window.\n",
    "sleep=0.4\n",
    "\n",
    "def get_index(db,index='author_id'):\n",
    "    i=0\n",
    "    d_index={}\n",
    "    for d in db:\n",
    "        d_index[ d.get(index) ]=i\n",
    "        i=i+1\n",
    "    return d_index\n",
    "\n",
    "def get_work(db,a,idsLA,idsAU,db_index,FoS,PAC):\n",
    "    \"\"\"\n",
    "    Use author dictionary from INSPIRE-HEP literature API 'authors list, to get author info:\n",
    "    * author_id\n",
    "    * url_author\n",
    "    and update 'Fields of Study' and 'primary_arxiv_category' if author alread in db\n",
    "    \"\"\"\n",
    "    author_id=None\n",
    "    url_author=None        \n",
    "    try:\n",
    "        url_author=a.get('record').get('$ref')\n",
    "    except:\n",
    "        return True,author_id,url_author,FoS,PAC #next author (Not author Profile)\n",
    "    if isinstance(url_author,str):\n",
    "        author_id=url_author.split('/')[-1]\n",
    "    else:\n",
    "        return True,author_id,url_author,FoS,PAC #next author\n",
    "    if author_id in idsAU:\n",
    "        try:\n",
    "            FoS=list(set(db[db_index[author_id]].get('Fields of Study')).union(FoS))\n",
    "            try: #update db\n",
    "                db[db_index[author_id]]['Fields of Study']=FoS\n",
    "            except:\n",
    "                pass\n",
    "        except:\n",
    "            pass\n",
    "        try:\n",
    "            PAC=list(set(db[db_index[author_id]].get('primary_arxiv_category')).union(PAC))\n",
    "            try: #update db\n",
    "                db[db_index[author_id]]['primary_arxiv_category']=PAC\n",
    "            except:\n",
    "                pass                \n",
    "        except:\n",
    "            pass\n",
    "\n",
    "        #print('DEBUG:already there')\n",
    "        return True,author_id,url_author,FoS,PAC #next author\n",
    "    return False,author_id,url_author,FoS,PAC\n",
    "    \n",
    "def get_institutions(db,i,idsLA,idsAU,db_index,FoS,sleep):\n",
    "    \"\"\"\n",
    "    * Use affiliation dictionary from affilitions list of author dictionary to get:\n",
    "     `inst_name`\n",
    "     `inst_url`\n",
    "    * Use INSPIRE-HEP insitution API to get: \n",
    "      `country`\n",
    "      'external_system_identifiers'\n",
    "    \"\"\"\n",
    "    CONTINUE=True\n",
    "    country=None\n",
    "    esi=None\n",
    "    inst_id=None\n",
    "    inst_name=None\n",
    "    try:\n",
    "        inst_name=i.get('value')\n",
    "        inst_url=i.get('record').get('$ref')\n",
    "    except:\n",
    "        #Next institution\n",
    "        return CONTINUE,inst_id,inst_name,country,esi\n",
    "    inst_id=inst_url.split('/')[-1]\n",
    "\n",
    "    if inst_id in idsLA:\n",
    "        #print('DEBUG: Institution already there')\n",
    "        country=[ d.get('LA_country') for d in db \n",
    "                  if d.get('LA_institution_id')==inst_id ][0]                \n",
    "        esi=[ d.get('external_system_identifiers') for d in db \n",
    "                  if d.get('LA_institution_id')==inst_id ][0]\n",
    "        CONTINUE=False\n",
    "        return CONTINUE,inst_id,inst_name,country,esi        \n",
    "    else:\n",
    "        #new institution\n",
    "        time.sleep(sleep)\n",
    "        ri=requests.get(inst_url)\n",
    "        if ri.status_code==200:\n",
    "            di=ri.json()\n",
    "        else:\n",
    "            return CONTINUE,inst_id,inst_name,country,esi\n",
    "\n",
    "        try:\n",
    "            country=di.get('metadata').get('addresses')[0].get('country')\n",
    "        except:\n",
    "            country=None\n",
    "        if country not in LA_countries:\n",
    "            return CONTINUE,inst_id,inst_name,country,esi\n",
    "        else:\n",
    "            #Get insitution metada from inspire\n",
    "            esi=di.get('metadata').get('external_system_identifiers')\n",
    "            if not esi:\n",
    "                esi=[]\n",
    "            CONTINUE=False\n",
    "            return CONTINUE,inst_id,inst_name,country,esi\n",
    "        \n",
    "def get_author(url_author):\n",
    "    \"\"\"\n",
    "    Get author profile from INSPIRE-HEP author API\n",
    "    \"\"\"\n",
    "    if isinstance(url_author,str):\n",
    "        time.sleep(sleep)\n",
    "        epa=requests.get(url_author)\n",
    "\n",
    "    if epa.status_code==200:\n",
    "        epa=epa.json()\n",
    "\n",
    "    positions=epa.get('metadata').get('positions')\n",
    "    if not positions:\n",
    "        positions=[]\n",
    "\n",
    "    email_addresses=epa.get('metadata').get('email_addresses')\n",
    "\n",
    "    if not email_addresses:\n",
    "        email_addresses=[]\n",
    "\n",
    "    name=epa.get('metadata').get('name')\n",
    "    if not name:\n",
    "        name={}\n",
    "\n",
    "    aids=epa.get('metadata').get('ids')\n",
    "    if not aids:\n",
    "        aids=[]\n",
    "    return positions,email_addresses,name,aids            "
   ]
  },
  {
   "cell_type": "code",
   "execution_count": 22,
   "id": "60c700e6-4e0c-4abe-b490-9c41e846040b",
   "metadata": {},
   "outputs": [],
   "source": [
    "from inspirehep import *"
   ]
  },
  {
   "cell_type": "code",
   "execution_count": 26,
   "id": "dc1ff676-343b-4523-8eaa-fccee1ad5c36",
   "metadata": {},
   "outputs": [],
   "source": [
    "db=[]"
   ]
  },
  {
   "cell_type": "code",
   "execution_count": 29,
   "id": "4a204d67-2f82-45e4-b761-782bd05b3913",
   "metadata": {},
   "outputs": [],
   "source": [
    "istart=356#6308"
   ]
  },
  {
   "cell_type": "markdown",
   "id": "f68a5cc9-4864-425a-96a4-fc427fbacb7c",
   "metadata": {},
   "source": [
    "### INSPIRE-HEP APIs:\n",
    "For each DOI or arXiv identifier:\n",
    "* (1) From literature API→ get authors info\n",
    "    * `if` author info not already in db `for` each author:\n",
    "        * (2) institution API → get institutions info\n",
    "            * `if` institution is from Latin America `for` each one of the author's institutions:\n",
    "                * (3) author API → get author profile\n",
    "  * `else` autor already in db: update `'Field of Study'` and `'primary_arXiv_category'`"
   ]
  },
  {
   "cell_type": "code",
   "execution_count": null,
   "id": "af85b7c2-5847-49a7-8e2a-c8def1dc14ac",
   "metadata": {},
   "outputs": [],
   "source": [
    "len_db_old=0\n",
    "store=1000\n",
    "for ii,ir in df[istart:].iterrows():\n",
    "    print(ii,end='\\r')\n",
    "    ii=ii+1\n",
    "    #=================================\n",
    "    if ii>0 and ii%store==0 and len(db)!=len_db_old:\n",
    "        len_db_old=len(db)\n",
    "        print('')\n",
    "        print(f'{ii} → db_LA.json updated with size: {len(db)}')\n",
    "        f=open('db_LA.json','w')\n",
    "        json.dump(db,f)\n",
    "        f.close()    \n",
    "    #==================================\n",
    "    #UPDATE LISTS\n",
    "    if db:\n",
    "        idsLA=[d.get('LA_institution_id') for d in db]\n",
    "        idsAU=[d.get('author_id') for d in db]\n",
    "        db_index=get_index(db)\n",
    "    else:\n",
    "        idsLA=[]\n",
    "        idsAU=[]\n",
    "        db_index={}\n",
    "    if isinstance(ir.DOI,str):\n",
    "        q=[ 'doi',ir.DOI ]\n",
    "    elif isinstance(ir['Source URLs'],str) and ir['Source URLs'].find(sep)>-1:\n",
    "        q=[ 'arXiv',ir['Source URLs'].split(sep)[-1].split()[0] ]\n",
    "    else:\n",
    "        continue\n",
    "    FoS=list(fields_of_study.intersection( ir['Fields of Study'].split('; ')  ) )\n",
    "    time.sleep(sleep)\n",
    "    #(1) literature API\n",
    "    liteapi=f'https://inspirehep.net/api/literature?q={q[0]}:{q[1]}'\n",
    "    r=requests.get(liteapi)\n",
    "    if r.status_code==200:\n",
    "        d=r.json()\n",
    "    else:\n",
    "        continue #Next doi or arXiv:id\n",
    "\n",
    "    #authors...    \n",
    "    l=d.get('hits').get('hits')\n",
    "    if isinstance(l,list) and len(l)==1: #OK → Unique result\n",
    "        lit=l[0].get('metadata')\n",
    "        if lit.get('author_count')>10: #collaboration papers need to be analyzed separately\n",
    "            continue #Next doi or arXiv:id\n",
    "        la=lit.get('authors')\n",
    "        try:\n",
    "            PAC=lit['primary_arxiv_category']\n",
    "        except:\n",
    "            PAC=[]        \n",
    "    else:\n",
    "        #print(f'WARNING: {q} ignored by hits or wrong count')\n",
    "        continue #Next doi or arXiv:id\n",
    "\n",
    "    for a in la:\n",
    "        CONTINUE,author_id,url_author,FoS,PAC,db=get_work(db,a,idsLA,idsAU,db_index,FoS,PAC)\n",
    "        if CONTINUE:\n",
    "            continue #Next author\n",
    "        #affiliations... → LA required\n",
    "        li=a.get('affiliations')\n",
    "        if not li:\n",
    "            continue #Next author\n",
    "        for i in li:\n",
    "            #(2) institutions API\n",
    "            CONTINUE,inst_id,inst_name,country,esi=get_institutions(db,i,idsLA,idsAU,db_index,FoS,sleep)\n",
    "            if CONTINUE: #Not LA institutiion\n",
    "                continue #next institution\n",
    "            #(3) author API\n",
    "            positions,email_addresses,name,aids=get_author(url_author)\n",
    "            db.append(\n",
    "                {'author_id':author_id,\n",
    "                 'name':name,\n",
    "                 'LA_institution_id':inst_id,\n",
    "                 'external_system_identifiers':esi,\n",
    "                 'LA_country':country,\n",
    "                 'LA_institution':inst_name,\n",
    "                 'email_addresses':email_addresses,\n",
    "                 'positions':positions,\n",
    "                 'ids':aids,\n",
    "                 'primary_arxiv_category':PAC,\n",
    "                 'Fields of Study': FoS # in ['Particle physics','Cosmology','Astrophysics','Mathematical physics']\n",
    "                }\n",
    "            )\n",
    "    #break"
   ]
  },
  {
   "cell_type": "markdown",
   "id": "4c31afbf-d0f7-4a6d-b1ef-5e44c0e5b039",
   "metadata": {},
   "source": [
    "## Search for collaborations\n",
    "* https://inspirehep.net/literature?sort=mostrecent&q=ac%3E10\n",
    "* Search athors from db and get check if institution is froma LA\n",
    "\n",
    "### [collaborations.ipynb](./collaborations.ipynb)"
   ]
  },
  {
   "cell_type": "markdown",
   "id": "0a645a65-488b-4469-85fd-b9cd0eccc789",
   "metadata": {},
   "source": [
    "## Other countries\n",
    "https://inspirehep.net/institutions?sort=mostrecent&size=25&page=1&q=Dominican+Republic"
   ]
  },
  {
   "cell_type": "markdown",
   "id": "be32fbd0-6afc-410d-ba8a-79a2b2828918",
   "metadata": {},
   "source": [
    "## Load database and simplify fields"
   ]
  },
  {
   "cell_type": "code",
   "execution_count": 358,
   "id": "0943f2cd-f8ef-4e5e-929b-19b5abb414b9",
   "metadata": {},
   "outputs": [],
   "source": [
    "import pandas as pd"
   ]
  },
  {
   "cell_type": "code",
   "execution_count": 359,
   "id": "618e3f88-0e61-4838-b1f8-c5bf19aa7cbe",
   "metadata": {},
   "outputs": [],
   "source": [
    "df=pd.read_json('data/db_LA.json',dtype={'author_id':str, 'LA_institution_id':str})"
   ]
  },
  {
   "cell_type": "code",
   "execution_count": 360,
   "id": "6df6e474-b0f5-41b5-b928-b5e54605f333",
   "metadata": {},
   "outputs": [
    {
     "data": {
      "text/plain": [
       "(3105, 11)"
      ]
     },
     "execution_count": 360,
     "metadata": {},
     "output_type": "execute_result"
    }
   ],
   "source": [
    "df.shape"
   ]
  },
  {
   "cell_type": "code",
   "execution_count": 361,
   "id": "a8752d04-cb99-4dbd-97eb-190093ab2889",
   "metadata": {},
   "outputs": [],
   "source": [
    "df=df[df['email_addresses'].apply(len)>0].reset_index(drop=True)"
   ]
  },
  {
   "cell_type": "code",
   "execution_count": 362,
   "id": "6596e71d-9604-4ff3-b9d0-c1551f1d2095",
   "metadata": {},
   "outputs": [
    {
     "data": {
      "text/plain": [
       "(1960, 11)"
      ]
     },
     "execution_count": 362,
     "metadata": {},
     "output_type": "execute_result"
    }
   ],
   "source": [
    "df.shape"
   ]
  },
  {
   "cell_type": "code",
   "execution_count": 363,
   "id": "78c7579f-a528-41dd-8f47-f60435ae0239",
   "metadata": {},
   "outputs": [
    {
     "data": {
      "text/plain": [
       "(1669,)"
      ]
     },
     "execution_count": 363,
     "metadata": {},
     "output_type": "execute_result"
    }
   ],
   "source": [
    "df['author_id'].drop_duplicates().shape"
   ]
  },
  {
   "cell_type": "code",
   "execution_count": 364,
   "id": "d086992e-aa4c-4b85-b095-0867dac0f2d2",
   "metadata": {},
   "outputs": [],
   "source": [
    "df['full_name']=df['name'].str.get('value')"
   ]
  },
  {
   "cell_type": "code",
   "execution_count": 365,
   "id": "0ce222bd-083c-416e-b8b6-f3e886ddb2ef",
   "metadata": {},
   "outputs": [],
   "source": [
    "def get_email(l):\n",
    "    current=False\n",
    "    for d in l:\n",
    "        if d.get('current'):\n",
    "            email=d.get('value')\n",
    "            current=True\n",
    "    if l and not current:\n",
    "        email=l[0].get('value')\n",
    "    return email"
   ]
  },
  {
   "cell_type": "code",
   "execution_count": 366,
   "id": "b6a30196-92f6-4204-892e-f9f6934c197f",
   "metadata": {},
   "outputs": [],
   "source": [
    "df['email']=df['email_addresses'].apply(get_email)"
   ]
  },
  {
   "cell_type": "code",
   "execution_count": 367,
   "id": "4b6cfbb2-6960-4e67-8383-9b5c01a26369",
   "metadata": {},
   "outputs": [],
   "source": [
    "df['current_position']=df['positions'].apply(lambda l: [d.get('rank') for d in l if d.get('rank') and d.get('current')]).str[0].fillna('Unknown')"
   ]
  },
  {
   "cell_type": "code",
   "execution_count": 368,
   "id": "32c033a1-be36-42bd-bebd-0ee45bdd76bf",
   "metadata": {},
   "outputs": [
    {
     "data": {
      "text/plain": [
       "Index(['author_id', 'name', 'LA_institution_id', 'external_system_identifiers',\n",
       "       'LA_country', 'LA_institution', 'email_addresses', 'positions', 'ids',\n",
       "       'primary_arxiv_category', 'Fields of Study', 'full_name', 'email',\n",
       "       'current_position'],\n",
       "      dtype='object')"
      ]
     },
     "execution_count": 368,
     "metadata": {},
     "output_type": "execute_result"
    }
   ],
   "source": [
    "df.columns"
   ]
  },
  {
   "cell_type": "code",
   "execution_count": 369,
   "id": "aad115dd-2070-40ce-be15-c1f68b13a373",
   "metadata": {},
   "outputs": [],
   "source": [
    "def get_institution(row):\n",
    "    instituion=''\n",
    "    l=[d.get('institution') for d in row.get('positions') if d.get('rank') and d.get('current')]\n",
    "    if l:\n",
    "        instituion=l[0]\n",
    "    else:\n",
    "        instituion=row.get('LA_institution')\n",
    "    return instituion"
   ]
  },
  {
   "cell_type": "code",
   "execution_count": 370,
   "id": "f97d7f87-ff50-47e3-9a18-ceef37970f1e",
   "metadata": {},
   "outputs": [],
   "source": [
    "df['current_institution']=df.apply(get_institution, axis='columns')"
   ]
  },
  {
   "cell_type": "code",
   "execution_count": 371,
   "id": "29a946bf-e03b-48f3-9b9c-0f317ec74883",
   "metadata": {},
   "outputs": [],
   "source": [
    "df['ORCID']=df['ids'].apply(lambda l: [d.get('value') for d in l if d.get('schema')=='ORCID']).str[0].fillna('')"
   ]
  },
  {
   "cell_type": "code",
   "execution_count": 372,
   "id": "09a3d6ce-b65f-487d-b1a6-1bb0f781af15",
   "metadata": {
    "tags": []
   },
   "outputs": [],
   "source": [
    "df['Fields_of_Study']=df['Fields of Study'].apply(lambda l: '; '.join(l))"
   ]
  },
  {
   "cell_type": "code",
   "execution_count": 373,
   "id": "52b25b0a-c7b3-4fbf-b6e5-02d0128dcce9",
   "metadata": {},
   "outputs": [],
   "source": [
    "df['primary_arXiv_category']=df['primary_arxiv_category'].apply(lambda l: '; '.join(l))"
   ]
  },
  {
   "cell_type": "code",
   "execution_count": 374,
   "id": "8e417ca4-57a1-4365-b200-fbfd5a28e744",
   "metadata": {},
   "outputs": [],
   "source": [
    "pd.set_option('display.max_rows', 50)"
   ]
  },
  {
   "cell_type": "code",
   "execution_count": 378,
   "id": "2a7d1b7d-e7a8-4392-a29c-904f35c8da05",
   "metadata": {},
   "outputs": [],
   "source": [
    "#df[:1]"
   ]
  },
  {
   "cell_type": "code",
   "execution_count": 379,
   "id": "3ca8e1e5-0b53-4857-867e-fe6e6b610122",
   "metadata": {},
   "outputs": [],
   "source": [
    "dfx=df[['author_id', 'full_name', 'email','LA_institution_id', \n",
    "       'LA_country', 'LA_institution', 'current_institution',  'current_position', 'ORCID',\n",
    "       'Fields_of_Study','primary_arXiv_category']]\n",
    "dfx.to_csv('data/db_LA.csv',index=False)\n",
    "dfx.to_excel('data/db_LA.xlsx',index=False)"
   ]
  },
  {
   "cell_type": "code",
   "execution_count": null,
   "id": "5009b2d2-2779-47f1-990d-a3e1e1c259f8",
   "metadata": {},
   "outputs": [],
   "source": [
    "from IPython import display"
   ]
  },
  {
   "cell_type": "code",
   "execution_count": 380,
   "id": "53c49e8b-13c6-49cb-a1f0-ce1abcedce24",
   "metadata": {},
   "outputs": [
    {
     "data": {
      "application/json": {
       "Fields_of_Study": "Mathematical physics; Cosmology; DES; Astrophysics; Particle physics",
       "LA_country": "Brazil",
       "LA_institution": "LIneA, Rio de Janeiro",
       "LA_institution_id": "1373228",
       "ORCID": "",
       "author_id": "991245",
       "current_institution": "Sao Paulo, IFT",
       "current_position": "SENIOR",
       "email": "rosenfel@ift.unesp.br",
       "full_name": "Rosenfeld, Rogerio",
       "primary_arXiv_category": "hep-ph; astro-ph.CO; gr-qc"
      },
      "text/plain": [
       "<IPython.core.display.JSON object>"
      ]
     },
     "execution_count": 380,
     "metadata": {
      "application/json": {
       "expanded": false,
       "root": "root"
      }
     },
     "output_type": "execute_result"
    }
   ],
   "source": [
    "display.JSON(dfx[dfx.full_name.str.contains('Rosenfeld')].iloc[-1].to_dict())"
   ]
  },
  {
   "cell_type": "code",
   "execution_count": 381,
   "id": "92680660-f849-467d-9bed-cb1cdae2b62c",
   "metadata": {},
   "outputs": [
    {
     "data": {
      "text/plain": [
       "{'ACT',\n",
       " 'AEDGE',\n",
       " 'ALICE',\n",
       " 'AMS',\n",
       " 'ANTARES',\n",
       " 'ATLAS',\n",
       " 'AdvLIGO',\n",
       " 'BDX',\n",
       " 'CDF',\n",
       " 'CMS',\n",
       " 'COMPASS',\n",
       " 'CTA',\n",
       " 'CTA Consortium',\n",
       " 'CTA LST Project',\n",
       " 'CTA Observatory',\n",
       " 'CUPID',\n",
       " 'D0',\n",
       " 'DEAP',\n",
       " 'DES',\n",
       " 'DUNE',\n",
       " 'DarkSide',\n",
       " 'Daya Bay',\n",
       " 'Double Chooz',\n",
       " 'Euclid',\n",
       " 'Event Horizon Telescope',\n",
       " 'Fermi-LAT',\n",
       " 'GlueX',\n",
       " 'H1',\n",
       " 'HADES',\n",
       " 'HAWC',\n",
       " 'HERMES-SP',\n",
       " 'HESS',\n",
       " 'Hess',\n",
       " 'Hyper-Kamiokande',\n",
       " 'IAXO',\n",
       " 'ILC International Development Team',\n",
       " 'IceCube',\n",
       " 'JUNO',\n",
       " 'KAGRA',\n",
       " 'KLF',\n",
       " 'KM3NeT',\n",
       " 'LArIAT',\n",
       " 'LHC Reinterpretation Forum',\n",
       " 'LHCb',\n",
       " 'LHeC',\n",
       " 'LSPE',\n",
       " 'LUX-ZEPLIN',\n",
       " 'LiteBIRD',\n",
       " 'MAGIC',\n",
       " 'MOONS Consortium',\n",
       " 'MPD',\n",
       " 'MSE Science Team',\n",
       " 'Muon Collider',\n",
       " 'NA62',\n",
       " 'NEXT',\n",
       " 'NOvA',\n",
       " 'PHENIX',\n",
       " 'Particle Data Group',\n",
       " 'Pierre Auger',\n",
       " 'QUBIC',\n",
       " 'RD42',\n",
       " 'REDTOP',\n",
       " 'SBND',\n",
       " 'SDSS-IV',\n",
       " 'SHiP',\n",
       " 'SNO+',\n",
       " 'SPT-3G',\n",
       " 'STAR',\n",
       " 'Simons Observatory',\n",
       " 'Super-Kamiokande',\n",
       " 'T2K',\n",
       " 'TOTEM',\n",
       " 'Virgo',\n",
       " 'WA105',\n",
       " 'XENON'}"
      ]
     },
     "execution_count": 381,
     "metadata": {},
     "output_type": "execute_result"
    }
   ],
   "source": [
    "set(collaborations).intersection(df['Fields of Study'].apply(pd.Series).stack().unique())"
   ]
  },
  {
   "cell_type": "code",
   "execution_count": 382,
   "id": "22e25083-6098-4020-a41c-b192b5678305",
   "metadata": {},
   "outputs": [
    {
     "data": {
      "text/plain": [
       "{'ATLAS',\n",
       " 'CMS',\n",
       " 'D0',\n",
       " 'DUNE',\n",
       " 'LHCb',\n",
       " 'LHeC',\n",
       " 'LSPE',\n",
       " 'NEXT',\n",
       " 'NOvA',\n",
       " 'Pierre Auger',\n",
       " 'TOTEM'}"
      ]
     },
     "execution_count": 382,
     "metadata": {},
     "output_type": "execute_result"
    }
   ],
   "source": [
    "set(collaborations).intersection(df[df['LA_country']=='Colombia']['Fields of Study'].apply(pd.Series).stack().unique())"
   ]
  },
  {
   "cell_type": "code",
   "execution_count": 383,
   "id": "0b2721da-35c9-49e0-b4b5-53245d66c3a3",
   "metadata": {},
   "outputs": [
    {
     "data": {
      "text/plain": [
       "{'CMS', 'CTA Observatory', 'D0', 'TOTEM'}"
      ]
     },
     "execution_count": 383,
     "metadata": {},
     "output_type": "execute_result"
    }
   ],
   "source": [
    "set(collaborations).intersection(df[df['LA_country']=='Ecuador']['Fields of Study'].apply(pd.Series).stack().unique())"
   ]
  },
  {
   "cell_type": "code",
   "execution_count": 385,
   "id": "661e0a5e-8bd6-4b32-90d7-0bb0c3cf3c0d",
   "metadata": {},
   "outputs": [
    {
     "data": {
      "text/plain": [
       "{'ALICE', 'DUNE', 'Simons Observatory'}"
      ]
     },
     "execution_count": 385,
     "metadata": {},
     "output_type": "execute_result"
    }
   ],
   "source": [
    "set(collaborations).intersection(df[df['LA_country']=='Peru']['Fields of Study'].apply(pd.Series).stack().unique())"
   ]
  }
 ],
 "metadata": {
  "kernelspec": {
   "display_name": "Python 3 (ipykernel)",
   "language": "python",
   "name": "python3"
  },
  "language_info": {
   "codemirror_mode": {
    "name": "ipython",
    "version": 3
   },
   "file_extension": ".py",
   "mimetype": "text/x-python",
   "name": "python",
   "nbconvert_exporter": "python",
   "pygments_lexer": "ipython3",
   "version": "3.9.2"
  }
 },
 "nbformat": 4,
 "nbformat_minor": 5
}
