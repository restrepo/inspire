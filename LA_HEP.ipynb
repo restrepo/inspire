{
 "cells": [
  {
   "cell_type": "markdown",
   "id": "ffa71bff-8b6d-4913-b07e-f3c5e4355cba",
   "metadata": {},
   "source": [
    "# Get INSPIRE-HEP info for authors of HEP articles in https://lens.org\n",
    "## from Latin America:\n",
    "\n",
    "https://link.lens.org/CuptXEnD9Hk\n",
    "\n",
    "[Fields of Study](https://docs.openalex.org/about-the-data/concept)\n",
    "\n",
    "* Level 1: Physics\n",
    "  * Level 2: Particle physics\n",
    "  * Level 2: Cosmology\n",
    "  * Level 2: Astrophysics\n",
    "  * Level 2: Mathematical physics\n",
    "\n",
    "Countries with non-zero counts of articles in `LA_countries`"
   ]
  },
  {
   "cell_type": "code",
   "execution_count": 1,
   "id": "fd3302c2-9a58-4f87-97c0-7c277c029d7f",
   "metadata": {},
   "outputs": [],
   "source": [
    "import pandas as pd\n",
    "import requests\n",
    "import time\n",
    "import json"
   ]
  },
  {
   "cell_type": "code",
   "execution_count": 2,
   "id": "35954fe0-8a76-414d-a4d8-f52876eb1937",
   "metadata": {},
   "outputs": [],
   "source": [
    "#LA → 17 countries\n",
    "#Argentina, Bolivia, Brazil, Chile, Colombia, Costa Rica, Ecuador, El Salvador, Guatemala, Honduras, Mexico, Nicaragua, Panama, Paraguay, Peru, the Dominican Republic and Uruguay."
   ]
  },
  {
   "cell_type": "code",
   "execution_count": 3,
   "id": "37b10aff-0281-4f7f-918d-0535a84bd102",
   "metadata": {},
   "outputs": [],
   "source": [
    "global db,LA_countries,fields_of_study,sep,sleep\n",
    "LA_countries=( 'Brazil'  , 'Mexico'  , 'Colombia'  , 'Chile'  , 'Argentina'  , 'Ecuador'  , 'Guatemala'  , 'Peru'  ,\n",
    "  'Venezuela'  , 'Uruguay'  , 'Bolivia'  , 'Costa Rica'  , 'Paraguay'  , 'Nicaragua'  , 'Panama'  , 'El Salvador'  , 'Cuba' )\n",
    "fields_of_study={'Particle physics','Cosmology','Astrophysics','Mathematical physics'}\n",
    "sep='arxiv.org/abs/'\n",
    "#From https://github.com/inspirehep/rest-api-doc#rate-limiting\n",
    "#every IP address is allowed 15 requests in a 5s window.\n",
    "sleep=0.4"
   ]
  },
  {
   "cell_type": "code",
   "execution_count": 4,
   "id": "99916688-05af-4cf8-ab1a-3ad2e3427f5e",
   "metadata": {},
   "outputs": [],
   "source": [
    "FULL=False\n",
    "if FULL:\n",
    "    df=pd.read_csv('LA_HEP.csv')\n",
    "else:\n",
    "    df=pd.read_csv('data/LA_HEP_not_cn.csv.gz')"
   ]
  },
  {
   "cell_type": "code",
   "execution_count": 5,
   "id": "75f47e22-19a6-47fb-b5e6-04ed03d0ae98",
   "metadata": {},
   "outputs": [
    {
     "data": {
      "text/plain": [
       "Index(['Lens ID', 'Title', 'Date Published', 'Publication Year',\n",
       "       'Publication Type', 'Source Title', 'ISSNs', 'Publisher',\n",
       "       'Source Country', 'Author/s', 'Abstract', 'Volume', 'Issue Number',\n",
       "       'Start Page', 'End Page', 'Fields of Study', 'Keywords', 'MeSH Terms',\n",
       "       'Chemicals', 'Funding', 'Source URLs', 'External URL', 'PMID', 'DOI',\n",
       "       'Microsoft Academic ID', 'PMCID', 'Citing Patents Count', 'References',\n",
       "       'Citing Works Count', 'author_count'],\n",
       "      dtype='object')"
      ]
     },
     "execution_count": 5,
     "metadata": {},
     "output_type": "execute_result"
    }
   ],
   "source": [
    "df.columns"
   ]
  },
  {
   "cell_type": "code",
   "execution_count": 6,
   "id": "ab9c4013-26d2-495b-8500-7d3f50552edd",
   "metadata": {},
   "outputs": [],
   "source": [
    "df['author_count']=df['Author/s'].str.split('; ').apply(len)"
   ]
  },
  {
   "cell_type": "markdown",
   "id": "b7ab87e8-b38b-4585-887e-91e01be83be6",
   "metadata": {},
   "source": [
    "Avoid large file requests. Analyse collaborations separately"
   ]
  },
  {
   "cell_type": "code",
   "execution_count": 7,
   "id": "d3bfca76-6b67-4671-b255-53a3206710dc",
   "metadata": {},
   "outputs": [],
   "source": [
    "df=df[df['author_count']<=10].reset_index(drop=True)"
   ]
  },
  {
   "cell_type": "code",
   "execution_count": 8,
   "id": "809bee0e-ff13-47d1-9f6e-ceac6a253e95",
   "metadata": {},
   "outputs": [
    {
     "data": {
      "text/plain": [
       "(17508, 30)"
      ]
     },
     "execution_count": 8,
     "metadata": {},
     "output_type": "execute_result"
    }
   ],
   "source": [
    "df.shape"
   ]
  },
  {
   "cell_type": "code",
   "execution_count": 9,
   "id": "073d3b37-3590-4eb8-a2b2-c9c18bf103ad",
   "metadata": {},
   "outputs": [
    {
     "data": {
      "text/plain": [
       "(17508, 30)"
      ]
     },
     "execution_count": 9,
     "metadata": {},
     "output_type": "execute_result"
    }
   ],
   "source": [
    "df[df['Fields of Study'].str.contains('Physics')].shape"
   ]
  },
  {
   "cell_type": "code",
   "execution_count": 10,
   "id": "9ede9993-e1ba-4ea8-a6fe-0b81de05bcbe",
   "metadata": {},
   "outputs": [
    {
     "data": {
      "text/plain": [
       "3758"
      ]
     },
     "execution_count": 10,
     "metadata": {},
     "output_type": "execute_result"
    }
   ],
   "source": [
    "PP=df[df['Fields of Study'].str.contains('Particle physics')].shape[0]\n",
    "PP"
   ]
  },
  {
   "cell_type": "code",
   "execution_count": 11,
   "id": "394a2b4f-14ab-44de-88b0-a27cb2de67ac",
   "metadata": {},
   "outputs": [
    {
     "data": {
      "text/plain": [
       "829"
      ]
     },
     "execution_count": 11,
     "metadata": {},
     "output_type": "execute_result"
    }
   ],
   "source": [
    "PC=df[df['Fields of Study'].str.contains('Cosmology')].shape[0]\n",
    "PC"
   ]
  },
  {
   "cell_type": "code",
   "execution_count": 12,
   "id": "f31c6a7f-50c6-480a-b69f-ea53e03fda0f",
   "metadata": {},
   "outputs": [
    {
     "data": {
      "text/plain": [
       "8809"
      ]
     },
     "execution_count": 12,
     "metadata": {},
     "output_type": "execute_result"
    }
   ],
   "source": [
    "PA=df[df['Fields of Study'].str.contains('Astrophysics')].shape[0]\n",
    "PA"
   ]
  },
  {
   "cell_type": "code",
   "execution_count": 13,
   "id": "7aba3729-354f-446e-8dbd-801856d8e662",
   "metadata": {},
   "outputs": [
    {
     "data": {
      "text/plain": [
       "5076"
      ]
     },
     "execution_count": 13,
     "metadata": {},
     "output_type": "execute_result"
    }
   ],
   "source": [
    "PM=df[df['Fields of Study'].str.contains('Mathematical physics')].shape[0]\n",
    "PM"
   ]
  },
  {
   "cell_type": "code",
   "execution_count": 14,
   "id": "d4193e8c-5c31-4317-8050-4cb200968331",
   "metadata": {},
   "outputs": [
    {
     "data": {
      "text/plain": [
       "18472"
      ]
     },
     "execution_count": 14,
     "metadata": {},
     "output_type": "execute_result"
    }
   ],
   "source": [
    "PP+PA+PC+PM"
   ]
  },
  {
   "cell_type": "code",
   "execution_count": 15,
   "id": "c40b3c42-3cb5-4d40-a27b-71d604032c52",
   "metadata": {},
   "outputs": [
    {
     "data": {
      "text/plain": [
       "15146"
      ]
     },
     "execution_count": 15,
     "metadata": {},
     "output_type": "execute_result"
    }
   ],
   "source": [
    "ndois=df.DOI.dropna().shape[0]\n",
    "ndois"
   ]
  },
  {
   "cell_type": "code",
   "execution_count": 16,
   "id": "ad41694d-b7c7-4ced-9b1a-532972869059",
   "metadata": {},
   "outputs": [],
   "source": [
    "#nd[nd['Source URLs'].str.contains('arxiv.org')]['Source URLs'].iloc[0]"
   ]
  },
  {
   "cell_type": "code",
   "execution_count": 17,
   "id": "b4c3596a-0704-4fd5-b8aa-7107b37cc378",
   "metadata": {},
   "outputs": [
    {
     "data": {
      "text/plain": [
       "1496"
      ]
     },
     "execution_count": 17,
     "metadata": {},
     "output_type": "execute_result"
    }
   ],
   "source": [
    "nd=df[df.DOI.isna()]\n",
    "nd=nd.dropna(subset=['Source URLs']).reset_index(drop=True)\n",
    "narxivs=nd[nd['Source URLs'].str.contains('arxiv.org')].shape[0]\n",
    "narxivs"
   ]
  },
  {
   "cell_type": "markdown",
   "id": "14fa3119-7a5a-4bee-b428-39581c69a939",
   "metadata": {},
   "source": [
    "Time required in hours"
   ]
  },
  {
   "cell_type": "code",
   "execution_count": 18,
   "id": "0cf7a8b9-57bc-4b4a-a8dc-e17367ae499a",
   "metadata": {},
   "outputs": [
    {
     "data": {
      "text/plain": [
       "5.5473333333333334"
      ]
     },
     "execution_count": 18,
     "metadata": {},
     "output_type": "execute_result"
    }
   ],
   "source": [
    "s=(ndois+narxivs)*3*0.4\n",
    "s/60/60"
   ]
  },
  {
   "cell_type": "markdown",
   "id": "4e0cca44-e14c-4ce6-8db2-42f75b9337db",
   "metadata": {},
   "source": [
    "Scheme: dicts and lists are the same than in INSPIRE-HEP\n",
    "```python\n",
    "{'author_id':str,\n",
    " 'name':dict, #of author\n",
    " 'LA_institution_id':str,\n",
    " 'external_system_identifiers':list, #of institution\n",
    " 'LA_country':str,\n",
    " 'LA_institution':str,\n",
    " 'email_addresses':list, #of author\n",
    " 'positions':list, #of author\n",
    " 'ids':list, #of author\n",
    " 'primary_arxiv_category', list # literature\n",
    " 'Fields of Study': list # in ['Particle physics','Cosmology','Astrophysics','Mathematical physics']\n",
    "}\n",
    "```"
   ]
  },
  {
   "cell_type": "markdown",
   "id": "6bce6c49-cb5c-4b05-88a0-fe7ed5a373e8",
   "metadata": {},
   "source": [
    "Sort by Publication Year to get the last affiliations"
   ]
  },
  {
   "cell_type": "code",
   "execution_count": 19,
   "id": "8b758c08-786c-48f8-9c41-a2c6dfc14771",
   "metadata": {},
   "outputs": [],
   "source": [
    "df=df.sort_values('Publication Year',ascending=False).reset_index(drop=True)"
   ]
  },
  {
   "cell_type": "code",
   "execution_count": 20,
   "id": "34e765e8-0cb4-4948-86ed-ebefd8e17c12",
   "metadata": {},
   "outputs": [
    {
     "data": {
      "text/html": [
       "<div>\n",
       "<style scoped>\n",
       "    .dataframe tbody tr th:only-of-type {\n",
       "        vertical-align: middle;\n",
       "    }\n",
       "\n",
       "    .dataframe tbody tr th {\n",
       "        vertical-align: top;\n",
       "    }\n",
       "\n",
       "    .dataframe thead th {\n",
       "        text-align: right;\n",
       "    }\n",
       "</style>\n",
       "<table border=\"1\" class=\"dataframe\">\n",
       "  <thead>\n",
       "    <tr style=\"text-align: right;\">\n",
       "      <th></th>\n",
       "      <th>Lens ID</th>\n",
       "      <th>Title</th>\n",
       "      <th>Date Published</th>\n",
       "      <th>Publication Year</th>\n",
       "      <th>Publication Type</th>\n",
       "      <th>Source Title</th>\n",
       "      <th>ISSNs</th>\n",
       "      <th>Publisher</th>\n",
       "      <th>Source Country</th>\n",
       "      <th>Author/s</th>\n",
       "      <th>...</th>\n",
       "      <th>Source URLs</th>\n",
       "      <th>External URL</th>\n",
       "      <th>PMID</th>\n",
       "      <th>DOI</th>\n",
       "      <th>Microsoft Academic ID</th>\n",
       "      <th>PMCID</th>\n",
       "      <th>Citing Patents Count</th>\n",
       "      <th>References</th>\n",
       "      <th>Citing Works Count</th>\n",
       "      <th>author_count</th>\n",
       "    </tr>\n",
       "  </thead>\n",
       "  <tbody>\n",
       "    <tr>\n",
       "      <th>0</th>\n",
       "      <td>025-688-286-323-660</td>\n",
       "      <td>Possible Relationship of Meteor Disintegration...</td>\n",
       "      <td>NaN</td>\n",
       "      <td>2022</td>\n",
       "      <td>journal article</td>\n",
       "      <td>Advances in Space Research</td>\n",
       "      <td>02731177; 18791948</td>\n",
       "      <td>Elsevier BV</td>\n",
       "      <td>United Kingdom</td>\n",
       "      <td>A. A. Pimenta; Paulo Batista; Vania Fatima And...</td>\n",
       "      <td>...</td>\n",
       "      <td>https://www.sciencedirect.com/science/article/...</td>\n",
       "      <td>http://dx.doi.org/10.1016/j.asr.2021.11.028</td>\n",
       "      <td>NaN</td>\n",
       "      <td>10.1016/j.asr.2021.11.028</td>\n",
       "      <td>3216041575</td>\n",
       "      <td>NaN</td>\n",
       "      <td>0</td>\n",
       "      <td>001-562-150-814-802; 006-975-738-231-584; 007-...</td>\n",
       "      <td>0</td>\n",
       "      <td>5</td>\n",
       "    </tr>\n",
       "  </tbody>\n",
       "</table>\n",
       "<p>1 rows × 30 columns</p>\n",
       "</div>"
      ],
      "text/plain": [
       "               Lens ID                                              Title  \\\n",
       "0  025-688-286-323-660  Possible Relationship of Meteor Disintegration...   \n",
       "\n",
       "  Date Published  Publication Year Publication Type  \\\n",
       "0            NaN              2022  journal article   \n",
       "\n",
       "                 Source Title               ISSNs    Publisher  \\\n",
       "0  Advances in Space Research  02731177; 18791948  Elsevier BV   \n",
       "\n",
       "   Source Country                                           Author/s  ...  \\\n",
       "0  United Kingdom  A. A. Pimenta; Paulo Batista; Vania Fatima And...  ...   \n",
       "\n",
       "                                         Source URLs  \\\n",
       "0  https://www.sciencedirect.com/science/article/...   \n",
       "\n",
       "                                  External URL PMID  \\\n",
       "0  http://dx.doi.org/10.1016/j.asr.2021.11.028  NaN   \n",
       "\n",
       "                         DOI Microsoft Academic ID PMCID Citing Patents Count  \\\n",
       "0  10.1016/j.asr.2021.11.028            3216041575   NaN                    0   \n",
       "\n",
       "                                          References Citing Works Count  \\\n",
       "0  001-562-150-814-802; 006-975-738-231-584; 007-...                  0   \n",
       "\n",
       "  author_count  \n",
       "0            5  \n",
       "\n",
       "[1 rows x 30 columns]"
      ]
     },
     "execution_count": 20,
     "metadata": {},
     "output_type": "execute_result"
    }
   ],
   "source": [
    "df[:1]"
   ]
  },
  {
   "cell_type": "code",
   "execution_count": 21,
   "id": "ff5577c3-b6bc-4d20-b18c-f0f90180147f",
   "metadata": {},
   "outputs": [
    {
     "name": "stdout",
     "output_type": "stream",
     "text": [
      "Overwriting inspirehep.py\n"
     ]
    }
   ],
   "source": [
    "%%writefile inspirehep.py\n",
    "import time\n",
    "import requests\n",
    "import json\n",
    "\n",
    "global db,db,LA_countries,fields_of_study,sep,sleep\n",
    "LA_countries=( 'Brazil'  , 'Mexico'  , 'Colombia'  , 'Chile'  , 'Argentina'  , 'Ecuador'  , 'Guatemala'  , 'Peru'  ,\n",
    "  'Venezuela'  , 'Uruguay'  , 'Bolivia'  , 'Costa Rica'  , 'Paraguay'  , 'Nicaragua'  , 'Panama'  , 'El Salvador'  , 'Cuba' )\n",
    "fields_of_study={'Particle physics','Cosmology','Astrophysics','Mathematical physics'}\n",
    "sep='arxiv.org/abs/'\n",
    "#From https://github.com/inspirehep/rest-api-doc#rate-limiting\n",
    "#every IP address is allowed 15 requests in a 5s window.\n",
    "sleep=0.4\n",
    "\n",
    "def get_index(db,index='author_id'):\n",
    "    i=0\n",
    "    d_index={}\n",
    "    for d in db:\n",
    "        d_index[ d.get(index) ]=i\n",
    "        i=i+1\n",
    "    return d_index\n",
    "\n",
    "def get_work(db,a,idsLA,idsAU,db_index,FoS,PAC):\n",
    "    \"\"\"\n",
    "    Use author dictionary from INSPIRE-HEP literature API 'authors list, to get author info:\n",
    "    * author_id\n",
    "    * url_author\n",
    "    and update 'Fields of Study' and 'primary_arxiv_category' if author alread in db\n",
    "    \"\"\"\n",
    "    author_id=None\n",
    "    url_author=None        \n",
    "    try:\n",
    "        url_author=a.get('record').get('$ref')\n",
    "    except:\n",
    "        return True,author_id,url_author,FoS,PAC #next author (Not author Profile)\n",
    "    if isinstance(url_author,str):\n",
    "        author_id=url_author.split('/')[-1]\n",
    "    else:\n",
    "        return True,author_id,url_author,FoS,PAC #next author\n",
    "    if author_id in idsAU:\n",
    "        try:\n",
    "            FoS=list(set(db[db_index[author_id]].get('Fields of Study')).union(FoS))\n",
    "            try: #update db\n",
    "                db[db_index[author_id]]['Fields of Study']=FoS\n",
    "            except:\n",
    "                pass\n",
    "        except:\n",
    "            pass\n",
    "        try:\n",
    "            PAC=list(set(db[db_index[author_id]].get('primary_arxiv_category')).union(PAC))\n",
    "            try: #update db\n",
    "                db[db_index[author_id]]['primary_arxiv_category']=PAC\n",
    "            except:\n",
    "                pass                \n",
    "        except:\n",
    "            pass\n",
    "\n",
    "        #print('DEBUG:already there')\n",
    "        return True,author_id,url_author,FoS,PAC #next author\n",
    "    return False,author_id,url_author,FoS,PAC\n",
    "    \n",
    "def get_institutions(db,i,idsLA,idsAU,db_index,FoS,sleep):\n",
    "    \"\"\"\n",
    "    * Use affiliation dictionary from affilitions list of author dictionary to get:\n",
    "     `inst_name`\n",
    "     `inst_url`\n",
    "    * Use INSPIRE-HEP insitution API to get: \n",
    "      `country`\n",
    "      'external_system_identifiers'\n",
    "    \"\"\"\n",
    "    CONTINUE=True\n",
    "    country=None\n",
    "    esi=None\n",
    "    inst_id=None\n",
    "    inst_name=None\n",
    "    try:\n",
    "        inst_name=i.get('value')\n",
    "        inst_url=i.get('record').get('$ref')\n",
    "    except:\n",
    "        #Next institution\n",
    "        return CONTINUE,inst_id,inst_name,country,esi\n",
    "    inst_id=inst_url.split('/')[-1]\n",
    "\n",
    "    if inst_id in idsLA:\n",
    "        #print('DEBUG: Institution already there')\n",
    "        country=[ d.get('LA_country') for d in db \n",
    "                  if d.get('LA_institution_id')==inst_id ][0]                \n",
    "        esi=[ d.get('external_system_identifiers') for d in db \n",
    "                  if d.get('LA_institution_id')==inst_id ][0]\n",
    "        CONTINUE=False\n",
    "        return CONTINUE,inst_id,inst_name,country,esi        \n",
    "    else:\n",
    "        #new institution\n",
    "        time.sleep(sleep)\n",
    "        ri=requests.get(inst_url)\n",
    "        if ri.status_code==200:\n",
    "            di=ri.json()\n",
    "        else:\n",
    "            return CONTINUE,inst_id,inst_name,country,esi\n",
    "\n",
    "        try:\n",
    "            country=di.get('metadata').get('addresses')[0].get('country')\n",
    "        except:\n",
    "            country=None\n",
    "        if country not in LA_countries:\n",
    "            return CONTINUE,inst_id,inst_name,country,esi\n",
    "        else:\n",
    "            #Get insitution metada from inspire\n",
    "            esi=di.get('metadata').get('external_system_identifiers')\n",
    "            if not esi:\n",
    "                esi=[]\n",
    "            CONTINUE=False\n",
    "            return CONTINUE,inst_id,inst_name,country,esi\n",
    "        \n",
    "def get_author(url_author):\n",
    "    \"\"\"\n",
    "    Get author profile from INSPIRE-HEP author API\n",
    "    \"\"\"\n",
    "    if isinstance(url_author,str):\n",
    "        time.sleep(sleep)\n",
    "        epa=requests.get(url_author)\n",
    "\n",
    "    if epa.status_code==200:\n",
    "        epa=epa.json()\n",
    "\n",
    "    positions=epa.get('metadata').get('positions')\n",
    "    if not positions:\n",
    "        positions=[]\n",
    "\n",
    "    email_addresses=epa.get('metadata').get('email_addresses')\n",
    "\n",
    "    if not email_addresses:\n",
    "        email_addresses=[]\n",
    "\n",
    "    name=epa.get('metadata').get('name')\n",
    "    if not name:\n",
    "        name={}\n",
    "\n",
    "    aids=epa.get('metadata').get('ids')\n",
    "    if not aids:\n",
    "        aids=[]\n",
    "    return positions,email_addresses,name,aids            "
   ]
  },
  {
   "cell_type": "code",
   "execution_count": 22,
   "id": "60c700e6-4e0c-4abe-b490-9c41e846040b",
   "metadata": {},
   "outputs": [],
   "source": [
    "from inspirehep import *"
   ]
  },
  {
   "cell_type": "code",
   "execution_count": 26,
   "id": "dc1ff676-343b-4523-8eaa-fccee1ad5c36",
   "metadata": {},
   "outputs": [],
   "source": [
    "db=[]"
   ]
  },
  {
   "cell_type": "code",
   "execution_count": 29,
   "id": "4a204d67-2f82-45e4-b761-782bd05b3913",
   "metadata": {},
   "outputs": [],
   "source": [
    "istart=356#6308"
   ]
  },
  {
   "cell_type": "markdown",
   "id": "f68a5cc9-4864-425a-96a4-fc427fbacb7c",
   "metadata": {},
   "source": [
    "### INSPIRE-HEP APIs:\n",
    "For each DOI or arXiv identifier:\n",
    "* (1) From literature API→ get authors info\n",
    "    * `if` author info not already in db `for` each author:\n",
    "        * (2) institution API → get institutions info\n",
    "            * `if` institution is from Latin America `for` each one of the author's institutions:\n",
    "                * (3) author API → get author profile\n",
    "  * `else` autor already in db: update `'Field of Study'` and `'primary_arXiv_category'`"
   ]
  },
  {
   "cell_type": "code",
   "execution_count": null,
   "id": "af85b7c2-5847-49a7-8e2a-c8def1dc14ac",
   "metadata": {},
   "outputs": [],
   "source": [
    "len_db_old=0\n",
    "store=1000\n",
    "for ii,ir in df[istart:].iterrows():\n",
    "    print(ii,end='\\r')\n",
    "    ii=ii+1\n",
    "    #=================================\n",
    "    if ii>0 and ii%store==0 and len(db)!=len_db_old:\n",
    "        len_db_old=len(db)\n",
    "        print('')\n",
    "        print(f'{ii} → db_LA.json updated with size: {len(db)}')\n",
    "        f=open('db_LA.json','w')\n",
    "        json.dump(db,f)\n",
    "        f.close()    \n",
    "    #==================================\n",
    "    #UPDATE LISTS\n",
    "    if db:\n",
    "        idsLA=[d.get('LA_institution_id') for d in db]\n",
    "        idsAU=[d.get('author_id') for d in db]\n",
    "        db_index=get_index(db)\n",
    "    else:\n",
    "        idsLA=[]\n",
    "        idsAU=[]\n",
    "        db_index={}\n",
    "    if isinstance(ir.DOI,str):\n",
    "        q=[ 'doi',ir.DOI ]\n",
    "    elif isinstance(ir['Source URLs'],str) and ir['Source URLs'].find(sep)>-1:\n",
    "        q=[ 'arXiv',ir['Source URLs'].split(sep)[-1].split()[0] ]\n",
    "    else:\n",
    "        continue\n",
    "    FoS=list(fields_of_study.intersection( ir['Fields of Study'].split('; ')  ) )\n",
    "    time.sleep(sleep)\n",
    "    #(1) literature API\n",
    "    liteapi=f'https://inspirehep.net/api/literature?q={q[0]}:{q[1]}'\n",
    "    r=requests.get(liteapi)\n",
    "    if r.status_code==200:\n",
    "        d=r.json()\n",
    "    else:\n",
    "        continue #Next doi or arXiv:id\n",
    "\n",
    "    #authors...    \n",
    "    l=d.get('hits').get('hits')\n",
    "    if isinstance(l,list) and len(l)==1: #OK → Unique result\n",
    "        lit=l[0].get('metadata')\n",
    "        if lit.get('author_count')>10: #collaboration papers need to be analyzed separately\n",
    "            continue #Next doi or arXiv:id\n",
    "        la=lit.get('authors')\n",
    "        try:\n",
    "            PAC=lit['primary_arxiv_category']\n",
    "        except:\n",
    "            PAC=[]        \n",
    "    else:\n",
    "        #print(f'WARNING: {q} ignored by hits or wrong count')\n",
    "        continue #Next doi or arXiv:id\n",
    "\n",
    "    for a in la:\n",
    "        CONTINUE,author_id,url_author,FoS,PAC,db=get_work(db,a,idsLA,idsAU,db_index,FoS,PAC)\n",
    "        if CONTINUE:\n",
    "            continue #Next author\n",
    "        #affiliations... → LA required\n",
    "        li=a.get('affiliations')\n",
    "        if not li:\n",
    "            continue #Next author\n",
    "        for i in li:\n",
    "            #(2) institutions API\n",
    "            CONTINUE,inst_id,inst_name,country,esi=get_institutions(db,i,idsLA,idsAU,db_index,FoS,sleep)\n",
    "            if CONTINUE: #Not LA institutiion\n",
    "                continue #next institution\n",
    "            #(3) author API\n",
    "            positions,email_addresses,name,aids=get_author(url_author)\n",
    "            db.append(\n",
    "                {'author_id':author_id,\n",
    "                 'name':name,\n",
    "                 'LA_institution_id':inst_id,\n",
    "                 'external_system_identifiers':esi,\n",
    "                 'LA_country':country,\n",
    "                 'LA_institution':inst_name,\n",
    "                 'email_addresses':email_addresses,\n",
    "                 'positions':positions,\n",
    "                 'ids':aids,\n",
    "                 'primary_arxiv_category':PAC,\n",
    "                 'Fields of Study': FoS # in ['Particle physics','Cosmology','Astrophysics','Mathematical physics']\n",
    "                }\n",
    "            )\n",
    "    #break"
   ]
  },
  {
   "cell_type": "markdown",
   "id": "4c31afbf-d0f7-4a6d-b1ef-5e44c0e5b039",
   "metadata": {},
   "source": [
    "## Search for collaborations\n",
    "* https://inspirehep.net/literature?sort=mostrecent&q=ac%3E10\n",
    "* Search athors from db and get check if institution is froma LA\n",
    "\n",
    "### [collaborations.ipynb](./collaborations.ipynb)"
   ]
  },
  {
   "cell_type": "markdown",
   "id": "0a645a65-488b-4469-85fd-b9cd0eccc789",
   "metadata": {},
   "source": [
    "## Other countries\n",
    "https://inspirehep.net/institutions?sort=mostrecent&size=25&page=1&q=Dominican+Republic"
   ]
  },
  {
   "cell_type": "markdown",
   "id": "be32fbd0-6afc-410d-ba8a-79a2b2828918",
   "metadata": {},
   "source": [
    "## Load database and simplify fields"
   ]
  },
  {
   "cell_type": "code",
   "execution_count": 317,
   "id": "0943f2cd-f8ef-4e5e-929b-19b5abb414b9",
   "metadata": {},
   "outputs": [],
   "source": [
    "import pandas as pd"
   ]
  },
  {
   "cell_type": "code",
   "execution_count": 318,
   "id": "618e3f88-0e61-4838-b1f8-c5bf19aa7cbe",
   "metadata": {},
   "outputs": [],
   "source": [
    "df=pd.read_json('data/db_LA.json',dtype={'author_id':str, 'LA_institution_id':str})"
   ]
  },
  {
   "cell_type": "code",
   "execution_count": 319,
   "id": "6df6e474-b0f5-41b5-b928-b5e54605f333",
   "metadata": {},
   "outputs": [
    {
     "data": {
      "text/plain": [
       "(2761, 11)"
      ]
     },
     "execution_count": 319,
     "metadata": {},
     "output_type": "execute_result"
    }
   ],
   "source": [
    "df.shape"
   ]
  },
  {
   "cell_type": "code",
   "execution_count": 185,
   "id": "a8752d04-cb99-4dbd-97eb-190093ab2889",
   "metadata": {},
   "outputs": [],
   "source": [
    "df=df[df['email_addresses'].apply(len)>0].reset_index(drop=True)"
   ]
  },
  {
   "cell_type": "code",
   "execution_count": 186,
   "id": "6596e71d-9604-4ff3-b9d0-c1551f1d2095",
   "metadata": {},
   "outputs": [
    {
     "data": {
      "text/plain": [
       "(1672, 11)"
      ]
     },
     "execution_count": 186,
     "metadata": {},
     "output_type": "execute_result"
    }
   ],
   "source": [
    "df.shape"
   ]
  },
  {
   "cell_type": "code",
   "execution_count": 187,
   "id": "78c7579f-a528-41dd-8f47-f60435ae0239",
   "metadata": {},
   "outputs": [
    {
     "data": {
      "text/plain": [
       "(1473,)"
      ]
     },
     "execution_count": 187,
     "metadata": {},
     "output_type": "execute_result"
    }
   ],
   "source": [
    "df['author_id'].drop_duplicates().shape"
   ]
  },
  {
   "cell_type": "code",
   "execution_count": 188,
   "id": "d086992e-aa4c-4b85-b095-0867dac0f2d2",
   "metadata": {},
   "outputs": [],
   "source": [
    "df['full_name']=df['name'].str.get('value')"
   ]
  },
  {
   "cell_type": "code",
   "execution_count": 189,
   "id": "0ce222bd-083c-416e-b8b6-f3e886ddb2ef",
   "metadata": {},
   "outputs": [],
   "source": [
    "def get_email(l):\n",
    "    current=False\n",
    "    for d in l:\n",
    "        if d.get('current'):\n",
    "            email=d.get('value')\n",
    "            current=True\n",
    "    if l and not current:\n",
    "        email=l[0].get('value')\n",
    "    return email"
   ]
  },
  {
   "cell_type": "code",
   "execution_count": 190,
   "id": "b6a30196-92f6-4204-892e-f9f6934c197f",
   "metadata": {},
   "outputs": [],
   "source": [
    "df['email']=df['email_addresses'].apply(get_email)"
   ]
  },
  {
   "cell_type": "code",
   "execution_count": 191,
   "id": "4b6cfbb2-6960-4e67-8383-9b5c01a26369",
   "metadata": {},
   "outputs": [],
   "source": [
    "df['current_position']=df['positions'].apply(lambda l: [d.get('rank') for d in l if d.get('rank') and d.get('current')]).str[0].fillna('Unknown')"
   ]
  },
  {
   "cell_type": "code",
   "execution_count": 192,
   "id": "32c033a1-be36-42bd-bebd-0ee45bdd76bf",
   "metadata": {},
   "outputs": [
    {
     "data": {
      "text/plain": [
       "Index(['author_id', 'name', 'LA_institution_id', 'external_system_identifiers',\n",
       "       'LA_country', 'LA_institution', 'email_addresses', 'positions', 'ids',\n",
       "       'primary_arxiv_category', 'Fields of Study', 'full_name', 'email',\n",
       "       'current_position'],\n",
       "      dtype='object')"
      ]
     },
     "execution_count": 192,
     "metadata": {},
     "output_type": "execute_result"
    }
   ],
   "source": [
    "df.columns"
   ]
  },
  {
   "cell_type": "code",
   "execution_count": 193,
   "id": "aad115dd-2070-40ce-be15-c1f68b13a373",
   "metadata": {},
   "outputs": [],
   "source": [
    "def get_institution(row):\n",
    "    instituion=''\n",
    "    l=[d.get('institution') for d in row.get('positions') if d.get('rank') and d.get('current')]\n",
    "    if l:\n",
    "        instituion=l[0]\n",
    "    else:\n",
    "        instituion=row.get('LA_institution')\n",
    "    return instituion"
   ]
  },
  {
   "cell_type": "code",
   "execution_count": 194,
   "id": "f97d7f87-ff50-47e3-9a18-ceef37970f1e",
   "metadata": {},
   "outputs": [],
   "source": [
    "df['current_institution']=df.apply(get_institution, axis='columns')"
   ]
  },
  {
   "cell_type": "code",
   "execution_count": 195,
   "id": "29a946bf-e03b-48f3-9b9c-0f317ec74883",
   "metadata": {},
   "outputs": [],
   "source": [
    "df['ORCID']=df['ids'].apply(lambda l: [d.get('value') for d in l if d.get('schema')=='ORCID']).str[0].fillna('')"
   ]
  },
  {
   "cell_type": "code",
   "execution_count": 196,
   "id": "09a3d6ce-b65f-487d-b1a6-1bb0f781af15",
   "metadata": {
    "tags": []
   },
   "outputs": [],
   "source": [
    "df['Fields_of_Study']=df['Fields of Study'].apply(lambda l: '; '.join(l))"
   ]
  },
  {
   "cell_type": "code",
   "execution_count": 197,
   "id": "52b25b0a-c7b3-4fbf-b6e5-02d0128dcce9",
   "metadata": {},
   "outputs": [],
   "source": [
    "df['primary_arXiv_category']=df['primary_arxiv_category'].apply(lambda l: '; '.join(l))"
   ]
  },
  {
   "cell_type": "code",
   "execution_count": 198,
   "id": "8e417ca4-57a1-4365-b200-fbfd5a28e744",
   "metadata": {},
   "outputs": [],
   "source": [
    "pd.set_option('display.max_rows', 50)"
   ]
  },
  {
   "cell_type": "code",
   "execution_count": 199,
   "id": "2a7d1b7d-e7a8-4392-a29c-904f35c8da05",
   "metadata": {},
   "outputs": [
    {
     "data": {
      "text/html": [
       "<div>\n",
       "<style scoped>\n",
       "    .dataframe tbody tr th:only-of-type {\n",
       "        vertical-align: middle;\n",
       "    }\n",
       "\n",
       "    .dataframe tbody tr th {\n",
       "        vertical-align: top;\n",
       "    }\n",
       "\n",
       "    .dataframe thead th {\n",
       "        text-align: right;\n",
       "    }\n",
       "</style>\n",
       "<table border=\"1\" class=\"dataframe\">\n",
       "  <thead>\n",
       "    <tr style=\"text-align: right;\">\n",
       "      <th></th>\n",
       "      <th>author_id</th>\n",
       "      <th>name</th>\n",
       "      <th>LA_institution_id</th>\n",
       "      <th>external_system_identifiers</th>\n",
       "      <th>LA_country</th>\n",
       "      <th>LA_institution</th>\n",
       "      <th>email_addresses</th>\n",
       "      <th>positions</th>\n",
       "      <th>ids</th>\n",
       "      <th>primary_arxiv_category</th>\n",
       "      <th>Fields of Study</th>\n",
       "      <th>full_name</th>\n",
       "      <th>email</th>\n",
       "      <th>current_position</th>\n",
       "      <th>current_institution</th>\n",
       "      <th>ORCID</th>\n",
       "      <th>Fields_of_Study</th>\n",
       "      <th>primary_arXiv_category</th>\n",
       "    </tr>\n",
       "  </thead>\n",
       "  <tbody>\n",
       "    <tr>\n",
       "      <th>0</th>\n",
       "      <td>1051173</td>\n",
       "      <td>{'value': 'Pedraza, Omar', 'preferred_name': '...</td>\n",
       "      <td>909015</td>\n",
       "      <td>[{'value': 'grid.412866.f', 'schema': 'GRID'},...</td>\n",
       "      <td>Mexico</td>\n",
       "      <td>UAEH, Pachuca</td>\n",
       "      <td>[{'value': 'omarp@uaeh.edu.mx', 'current': True}]</td>\n",
       "      <td>[{'record': {'$ref': 'https://inspirehep.net/a...</td>\n",
       "      <td>[{'value': 'O.Pedraza.1', 'schema': 'INSPIRE B...</td>\n",
       "      <td>[gr-qc]</td>\n",
       "      <td>[Particle physics, Mathematical physics]</td>\n",
       "      <td>Pedraza, Omar</td>\n",
       "      <td>omarp@uaeh.edu.mx</td>\n",
       "      <td>Unknown</td>\n",
       "      <td>UAEH, Pachuca</td>\n",
       "      <td>0000-0002-0260-0910</td>\n",
       "      <td>Particle physics; Mathematical physics</td>\n",
       "      <td>gr-qc</td>\n",
       "    </tr>\n",
       "    <tr>\n",
       "      <th>1</th>\n",
       "      <td>1008027</td>\n",
       "      <td>{'value': 'Gonçalves, Victor Paulo Barros', 'n...</td>\n",
       "      <td>907173</td>\n",
       "      <td>[{'value': 'grid.411221.5', 'schema': 'GRID'},...</td>\n",
       "      <td>Brazil</td>\n",
       "      <td>Pelotas U.</td>\n",
       "      <td>[{'value': 'barros@ufpel.edu.br', 'current': T...</td>\n",
       "      <td>[{'rank': 'STAFF', 'record': {'$ref': 'https:/...</td>\n",
       "      <td>[{'value': '0000-0003-4943-9973', 'schema': 'O...</td>\n",
       "      <td>[hep-ph, hep-lat, astro-ph.HE, gr-qc, math-ph,...</td>\n",
       "      <td>[Particle physics, Mathematical physics, Astro...</td>\n",
       "      <td>Gonçalves, Victor Paulo Barros</td>\n",
       "      <td>barros@ufpel.edu.br</td>\n",
       "      <td>STAFF</td>\n",
       "      <td>Pelotas U.</td>\n",
       "      <td>0000-0003-4943-9973</td>\n",
       "      <td>Particle physics; Mathematical physics; Astrop...</td>\n",
       "      <td>hep-ph; hep-lat; astro-ph.HE; gr-qc; math-ph; ...</td>\n",
       "    </tr>\n",
       "    <tr>\n",
       "      <th>2</th>\n",
       "      <td>1079084</td>\n",
       "      <td>{'value': 'Cottin Buracchio, Giovanna Francesc...</td>\n",
       "      <td>910504</td>\n",
       "      <td>[{'value': 'grid.440617.0', 'schema': 'GRID'},...</td>\n",
       "      <td>Chile</td>\n",
       "      <td>Adolfo Ibanez U.</td>\n",
       "      <td>[{'value': 'giovanna.cottin@uai.cl'}, {'value'...</td>\n",
       "      <td>[{'rank': 'JUNIOR', 'hidden': False, 'record':...</td>\n",
       "      <td>[{'value': '0000-0002-5308-5808', 'schema': 'O...</td>\n",
       "      <td>[hep-ph, hep-ex]</td>\n",
       "      <td>[Particle physics]</td>\n",
       "      <td>Cottin Buracchio, Giovanna Francesca</td>\n",
       "      <td>giovanna.cottin@uai.cl</td>\n",
       "      <td>JUNIOR</td>\n",
       "      <td>Adolfo Ibanez U.</td>\n",
       "      <td>0000-0002-5308-5808</td>\n",
       "      <td>Particle physics</td>\n",
       "      <td>hep-ph; hep-ex</td>\n",
       "    </tr>\n",
       "    <tr>\n",
       "      <th>3</th>\n",
       "      <td>997820</td>\n",
       "      <td>{'value': 'Mendez, A.', 'preferred_name': 'A. ...</td>\n",
       "      <td>904336</td>\n",
       "      <td>[{'value': 'grid.7870.8', 'schema': 'GRID'}, {...</td>\n",
       "      <td>Chile</td>\n",
       "      <td>Chile U., Catolica</td>\n",
       "      <td>[{'value': 'mendez@ifae.es', 'current': True}]</td>\n",
       "      <td>[{'record': {'$ref': 'https://inspirehep.net/a...</td>\n",
       "      <td>[{'value': 'A.Mendez.1', 'schema': 'INSPIRE BA...</td>\n",
       "      <td>[hep-ph]</td>\n",
       "      <td>[Particle physics]</td>\n",
       "      <td>Mendez, A.</td>\n",
       "      <td>mendez@ifae.es</td>\n",
       "      <td>Unknown</td>\n",
       "      <td>Chile U., Catolica</td>\n",
       "      <td></td>\n",
       "      <td>Particle physics</td>\n",
       "      <td>hep-ph</td>\n",
       "    </tr>\n",
       "  </tbody>\n",
       "</table>\n",
       "</div>"
      ],
      "text/plain": [
       "  author_id                                               name  \\\n",
       "0   1051173  {'value': 'Pedraza, Omar', 'preferred_name': '...   \n",
       "1   1008027  {'value': 'Gonçalves, Victor Paulo Barros', 'n...   \n",
       "2   1079084  {'value': 'Cottin Buracchio, Giovanna Francesc...   \n",
       "3    997820  {'value': 'Mendez, A.', 'preferred_name': 'A. ...   \n",
       "\n",
       "  LA_institution_id                        external_system_identifiers  \\\n",
       "0            909015  [{'value': 'grid.412866.f', 'schema': 'GRID'},...   \n",
       "1            907173  [{'value': 'grid.411221.5', 'schema': 'GRID'},...   \n",
       "2            910504  [{'value': 'grid.440617.0', 'schema': 'GRID'},...   \n",
       "3            904336  [{'value': 'grid.7870.8', 'schema': 'GRID'}, {...   \n",
       "\n",
       "  LA_country      LA_institution  \\\n",
       "0     Mexico       UAEH, Pachuca   \n",
       "1     Brazil          Pelotas U.   \n",
       "2      Chile    Adolfo Ibanez U.   \n",
       "3      Chile  Chile U., Catolica   \n",
       "\n",
       "                                     email_addresses  \\\n",
       "0  [{'value': 'omarp@uaeh.edu.mx', 'current': True}]   \n",
       "1  [{'value': 'barros@ufpel.edu.br', 'current': T...   \n",
       "2  [{'value': 'giovanna.cottin@uai.cl'}, {'value'...   \n",
       "3     [{'value': 'mendez@ifae.es', 'current': True}]   \n",
       "\n",
       "                                           positions  \\\n",
       "0  [{'record': {'$ref': 'https://inspirehep.net/a...   \n",
       "1  [{'rank': 'STAFF', 'record': {'$ref': 'https:/...   \n",
       "2  [{'rank': 'JUNIOR', 'hidden': False, 'record':...   \n",
       "3  [{'record': {'$ref': 'https://inspirehep.net/a...   \n",
       "\n",
       "                                                 ids  \\\n",
       "0  [{'value': 'O.Pedraza.1', 'schema': 'INSPIRE B...   \n",
       "1  [{'value': '0000-0003-4943-9973', 'schema': 'O...   \n",
       "2  [{'value': '0000-0002-5308-5808', 'schema': 'O...   \n",
       "3  [{'value': 'A.Mendez.1', 'schema': 'INSPIRE BA...   \n",
       "\n",
       "                              primary_arxiv_category  \\\n",
       "0                                            [gr-qc]   \n",
       "1  [hep-ph, hep-lat, astro-ph.HE, gr-qc, math-ph,...   \n",
       "2                                   [hep-ph, hep-ex]   \n",
       "3                                           [hep-ph]   \n",
       "\n",
       "                                     Fields of Study  \\\n",
       "0           [Particle physics, Mathematical physics]   \n",
       "1  [Particle physics, Mathematical physics, Astro...   \n",
       "2                                 [Particle physics]   \n",
       "3                                 [Particle physics]   \n",
       "\n",
       "                              full_name                   email  \\\n",
       "0                         Pedraza, Omar       omarp@uaeh.edu.mx   \n",
       "1        Gonçalves, Victor Paulo Barros     barros@ufpel.edu.br   \n",
       "2  Cottin Buracchio, Giovanna Francesca  giovanna.cottin@uai.cl   \n",
       "3                            Mendez, A.          mendez@ifae.es   \n",
       "\n",
       "  current_position current_institution                ORCID  \\\n",
       "0          Unknown       UAEH, Pachuca  0000-0002-0260-0910   \n",
       "1            STAFF          Pelotas U.  0000-0003-4943-9973   \n",
       "2           JUNIOR    Adolfo Ibanez U.  0000-0002-5308-5808   \n",
       "3          Unknown  Chile U., Catolica                        \n",
       "\n",
       "                                     Fields_of_Study  \\\n",
       "0             Particle physics; Mathematical physics   \n",
       "1  Particle physics; Mathematical physics; Astrop...   \n",
       "2                                   Particle physics   \n",
       "3                                   Particle physics   \n",
       "\n",
       "                              primary_arXiv_category  \n",
       "0                                              gr-qc  \n",
       "1  hep-ph; hep-lat; astro-ph.HE; gr-qc; math-ph; ...  \n",
       "2                                     hep-ph; hep-ex  \n",
       "3                                             hep-ph  "
      ]
     },
     "execution_count": 199,
     "metadata": {},
     "output_type": "execute_result"
    }
   ],
   "source": [
    "df[:4]"
   ]
  },
  {
   "cell_type": "code",
   "execution_count": 200,
   "id": "3ca8e1e5-0b53-4857-867e-fe6e6b610122",
   "metadata": {},
   "outputs": [],
   "source": [
    "dfx=df[['author_id', 'full_name', 'email','LA_institution_id', \n",
    "       'LA_country', 'LA_institution', 'current_institution',  'current_position', 'ORCID',\n",
    "       'Fields_of_Study','primary_arXiv_category']]\n",
    "dfx.to_csv('data/db_LA.csv',index=False)\n",
    "dfx.to_excel('data/db_LA.xlsx',index=False)"
   ]
  },
  {
   "cell_type": "code",
   "execution_count": 271,
   "id": "53c49e8b-13c6-49cb-a1f0-ce1abcedce24",
   "metadata": {},
   "outputs": [
    {
     "data": {
      "text/plain": [
       "{'author_id': '991245',\n",
       " 'full_name': 'Rosenfeld, Rogerio',\n",
       " 'email': 'rosenfel@ift.unesp.br',\n",
       " 'LA_institution_id': '1373228',\n",
       " 'LA_country': 'Brazil',\n",
       " 'LA_institution': 'LIneA, Rio de Janeiro',\n",
       " 'current_institution': 'Sao Paulo, IFT',\n",
       " 'current_position': 'SENIOR',\n",
       " 'ORCID': '',\n",
       " 'Fields_of_Study': 'Particle physics; Mathematical physics; Astrophysics; Cosmology',\n",
       " 'primary_arXiv_category': 'hep-ph; gr-qc; astro-ph.CO'}"
      ]
     },
     "execution_count": 271,
     "metadata": {},
     "output_type": "execute_result"
    }
   ],
   "source": [
    "#\n",
    "dfx[dfx.full_name.str.contains('Rosenfeld')].iloc[-1].to_dict()\n",
    "#dfx[dfx.full_name.str.contains('Peres')].to_"
   ]
  },
  {
   "cell_type": "code",
   "execution_count": 322,
   "id": "4834862f-48eb-4750-9afa-422da5ca9c03",
   "metadata": {},
   "outputs": [],
   "source": [
    "df=pd.read_json('db_LA.json')"
   ]
  },
  {
   "cell_type": "code",
   "execution_count": 323,
   "id": "66bccae2-cd50-4fca-8fa8-e837516d4773",
   "metadata": {},
   "outputs": [
    {
     "data": {
      "text/plain": [
       "(3084, 11)"
      ]
     },
     "execution_count": 323,
     "metadata": {},
     "output_type": "execute_result"
    }
   ],
   "source": [
    "df.shape"
   ]
  },
  {
   "cell_type": "code",
   "execution_count": 324,
   "id": "4e07c945-8b8d-404e-999c-ae28b1e18721",
   "metadata": {},
   "outputs": [],
   "source": [
    "from IPython import display"
   ]
  },
  {
   "cell_type": "code",
   "execution_count": 325,
   "id": "0817cc9f-0c44-4e91-94d7-573891beeba3",
   "metadata": {},
   "outputs": [
    {
     "data": {
      "application/json": {
       "Fields of Study": [
        "Mathematical physics",
        "Cosmology",
        "DES",
        "Astrophysics",
        "Particle physics"
       ],
       "LA_country": "Brazil",
       "LA_institution": "LIneA, Rio de Janeiro",
       "LA_institution_id": 1373228,
       "author_id": 991245,
       "email_addresses": [
        {
         "current": true,
         "value": "rosenfel@ift.unesp.br"
        }
       ],
       "external_system_identifiers": [],
       "ids": [
        {
         "schema": "INSPIRE BAI",
         "value": "R.Rosenfeld.1"
        },
        {
         "schema": "CERN",
         "value": "CERN-668579"
        },
        {
         "schema": "INSPIRE ID",
         "value": "INSPIRE-00240549"
        },
        {
         "schema": "SPIRES",
         "value": "HEPNAMES-105082"
        }
       ],
       "name": {
        "preferred_name": "Rogerio Rosenfeld",
        "value": "Rosenfeld, Rogerio"
       },
       "positions": [
        {
         "curated_relation": true,
         "current": true,
         "institution": "LIneA, Rio de Janeiro",
         "record": {
          "$ref": "https://inspirehep.net/api/institutions/1373228"
         }
        },
        {
         "curated_relation": true,
         "current": true,
         "institution": "Sao Paulo, IFT",
         "rank": "SENIOR",
         "record": {
          "$ref": "https://inspirehep.net/api/institutions/903185"
         }
        },
        {
         "curated_relation": true,
         "end_date": "1994",
         "institution": "Northeastern U.",
         "record": {
          "$ref": "https://inspirehep.net/api/institutions/903081"
         },
         "start_date": "1992"
        },
        {
         "curated_relation": true,
         "end_date": "1992",
         "institution": "UCLA",
         "rank": "POSTDOC",
         "record": {
          "$ref": "https://inspirehep.net/api/institutions/903303"
         },
         "start_date": "1990"
        },
        {
         "curated_relation": true,
         "end_date": "1990",
         "institution": "Chicago U.",
         "rank": "PHD",
         "record": {
          "$ref": "https://inspirehep.net/api/institutions/902729"
         },
         "start_date": "1985"
        }
       ],
       "primary_arxiv_category": [
        "hep-ph",
        "astro-ph.CO",
        "gr-qc"
       ]
      },
      "text/plain": [
       "<IPython.core.display.JSON object>"
      ]
     },
     "execution_count": 325,
     "metadata": {
      "application/json": {
       "expanded": false,
       "root": "root"
      }
     },
     "output_type": "execute_result"
    }
   ],
   "source": [
    "display.JSON( df[df['author_id']==991245].iloc[-1].to_dict() )"
   ]
  },
  {
   "cell_type": "code",
   "execution_count": 326,
   "id": "92680660-f849-467d-9bed-cb1cdae2b62c",
   "metadata": {},
   "outputs": [
    {
     "data": {
      "text/html": [
       "<div>\n",
       "<style scoped>\n",
       "    .dataframe tbody tr th:only-of-type {\n",
       "        vertical-align: middle;\n",
       "    }\n",
       "\n",
       "    .dataframe tbody tr th {\n",
       "        vertical-align: top;\n",
       "    }\n",
       "\n",
       "    .dataframe thead th {\n",
       "        text-align: right;\n",
       "    }\n",
       "</style>\n",
       "<table border=\"1\" class=\"dataframe\">\n",
       "  <thead>\n",
       "    <tr style=\"text-align: right;\">\n",
       "      <th></th>\n",
       "      <th>author_id</th>\n",
       "      <th>name</th>\n",
       "      <th>LA_institution_id</th>\n",
       "      <th>external_system_identifiers</th>\n",
       "      <th>LA_country</th>\n",
       "      <th>LA_institution</th>\n",
       "      <th>email_addresses</th>\n",
       "      <th>positions</th>\n",
       "      <th>ids</th>\n",
       "      <th>primary_arxiv_category</th>\n",
       "      <th>Fields of Study</th>\n",
       "    </tr>\n",
       "  </thead>\n",
       "  <tbody>\n",
       "    <tr>\n",
       "      <th>3064</th>\n",
       "      <td>1054537</td>\n",
       "      <td>{'value': 'Martinez-Ortega, Jorge', 'preferred...</td>\n",
       "      <td>903002</td>\n",
       "      <td>[{'value': 'grid.418275.d', 'schema': 'GRID'},...</td>\n",
       "      <td>Mexico</td>\n",
       "      <td>CINVESTAV, IPN</td>\n",
       "      <td>[{'value': 'jmartinez@fis.cinvestav.mx', 'curr...</td>\n",
       "      <td>[{'rank': 'PHD', 'record': {'$ref': 'https://i...</td>\n",
       "      <td>[{'value': 'J.Martinez.Ortega.1', 'schema': 'I...</td>\n",
       "      <td>[hep-ex]</td>\n",
       "      <td>[TOTEM]</td>\n",
       "    </tr>\n",
       "    <tr>\n",
       "      <th>3065</th>\n",
       "      <td>1051449</td>\n",
       "      <td>{'value': 'Luna Garcia, Rene', 'preferred_name...</td>\n",
       "      <td>903002</td>\n",
       "      <td>[{'value': 'grid.418275.d', 'schema': 'GRID'},...</td>\n",
       "      <td>Mexico</td>\n",
       "      <td>CINVESTAV, IPN</td>\n",
       "      <td>[]</td>\n",
       "      <td>[{'rank': 'POSTDOC', 'record': {'$ref': 'https...</td>\n",
       "      <td>[{'value': 'R.Luna.2', 'schema': 'INSPIRE BAI'...</td>\n",
       "      <td>[hep-ex]</td>\n",
       "      <td>[TOTEM]</td>\n",
       "    </tr>\n",
       "    <tr>\n",
       "      <th>3066</th>\n",
       "      <td>999375</td>\n",
       "      <td>{'value': 'Maciel, Arthur K.A.', 'preferred_na...</td>\n",
       "      <td>903158</td>\n",
       "      <td>[{'value': 'grid.418228.5', 'schema': 'GRID'},...</td>\n",
       "      <td>Brazil</td>\n",
       "      <td>Rio de Janeiro, CBPF</td>\n",
       "      <td>[{'value': 'maciel@fnal.gov', 'current': True}]</td>\n",
       "      <td>[{'record': {'$ref': 'https://inspirehep.net/a...</td>\n",
       "      <td>[{'value': 'A.K.A.Maciel.1', 'schema': 'INSPIR...</td>\n",
       "      <td>[hep-ex]</td>\n",
       "      <td>[TOTEM]</td>\n",
       "    </tr>\n",
       "    <tr>\n",
       "      <th>3067</th>\n",
       "      <td>1054560</td>\n",
       "      <td>{'value': 'Magana-Villalba, Ricardo', 'native_...</td>\n",
       "      <td>903002</td>\n",
       "      <td>[{'value': 'grid.418275.d', 'schema': 'GRID'},...</td>\n",
       "      <td>Mexico</td>\n",
       "      <td>CINVESTAV, IPN</td>\n",
       "      <td>[{'value': 'magania@fnal.gov', 'current': True}]</td>\n",
       "      <td>[{'rank': 'PHD', 'record': {'$ref': 'https://i...</td>\n",
       "      <td>[{'value': 'R.Magana.Villalba.1', 'schema': 'I...</td>\n",
       "      <td>[hep-ex]</td>\n",
       "      <td>[TOTEM]</td>\n",
       "    </tr>\n",
       "    <tr>\n",
       "      <th>3068</th>\n",
       "      <td>997777</td>\n",
       "      <td>{'value': 'Mercadante, Pedro Galli', 'preferre...</td>\n",
       "      <td>910786</td>\n",
       "      <td>[{'value': 'grid.412368.a', 'schema': 'GRID'},...</td>\n",
       "      <td>Brazil</td>\n",
       "      <td>ABC Federal U.</td>\n",
       "      <td>[{'value': 'mercadan@fnal.gov', 'current': Tru...</td>\n",
       "      <td>[{'rank': 'SENIOR', 'record': {'$ref': 'https:...</td>\n",
       "      <td>[{'value': '0000-0001-8333-4302', 'schema': 'O...</td>\n",
       "      <td>[hep-ex]</td>\n",
       "      <td>[TOTEM]</td>\n",
       "    </tr>\n",
       "    <tr>\n",
       "      <th>3069</th>\n",
       "      <td>1012591</td>\n",
       "      <td>{'value': 'da Motta, Hélio', 'name_variants': ...</td>\n",
       "      <td>903158</td>\n",
       "      <td>[{'value': 'grid.418228.5', 'schema': 'GRID'},...</td>\n",
       "      <td>Brazil</td>\n",
       "      <td>Rio de Janeiro, CBPF</td>\n",
       "      <td>[{'value': 'helio@cbpf.br', 'current': True}]</td>\n",
       "      <td>[{'rank': 'SENIOR', 'record': {'$ref': 'https:...</td>\n",
       "      <td>[{'value': '0000-0002-9577-1953', 'schema': 'O...</td>\n",
       "      <td>[hep-ex]</td>\n",
       "      <td>[TOTEM]</td>\n",
       "    </tr>\n",
       "    <tr>\n",
       "      <th>3070</th>\n",
       "      <td>1009999</td>\n",
       "      <td>{'value': 'Mundim Filho, Luiz Martins', 'prefe...</td>\n",
       "      <td>904929</td>\n",
       "      <td>[{'value': 'grid.412211.5', 'schema': 'GRID'},...</td>\n",
       "      <td>Brazil</td>\n",
       "      <td>Rio de Janeiro State U.</td>\n",
       "      <td>[{'value': 'mundim@uerj.br', 'current': False}]</td>\n",
       "      <td>[{'rank': 'SENIOR', 'record': {'$ref': 'https:...</td>\n",
       "      <td>[{'value': '0000-0001-9964-7805', 'schema': 'O...</td>\n",
       "      <td>[hep-ex]</td>\n",
       "      <td>[TOTEM]</td>\n",
       "    </tr>\n",
       "    <tr>\n",
       "      <th>3071</th>\n",
       "      <td>995927</td>\n",
       "      <td>{'value': 'Negret, Juan Pablo', 'preferred_nam...</td>\n",
       "      <td>903802</td>\n",
       "      <td>[{'value': 'grid.7247.6', 'schema': 'GRID'}, {...</td>\n",
       "      <td>Colombia</td>\n",
       "      <td>Andes U., Bogota</td>\n",
       "      <td>[{'value': 'jnegret@uniandes.edu.co', 'current...</td>\n",
       "      <td>[{'rank': 'SENIOR', 'record': {'$ref': 'https:...</td>\n",
       "      <td>[{'value': 'J.P.Negret.1', 'schema': 'INSPIRE ...</td>\n",
       "      <td>[hep-ex]</td>\n",
       "      <td>[TOTEM]</td>\n",
       "    </tr>\n",
       "    <tr>\n",
       "      <th>3072</th>\n",
       "      <td>1030806</td>\n",
       "      <td>{'value': 'Prado da Silva, Wanda Lucia', 'pref...</td>\n",
       "      <td>904929</td>\n",
       "      <td>[{'value': 'grid.412211.5', 'schema': 'GRID'},...</td>\n",
       "      <td>Brazil</td>\n",
       "      <td>Rio de Janeiro State U.</td>\n",
       "      <td>[{'value': 'prado@cern.ch', 'current': True}, ...</td>\n",
       "      <td>[{'record': {'$ref': 'https://inspirehep.net/a...</td>\n",
       "      <td>[{'value': '0000-0002-6590-3169', 'schema': 'O...</td>\n",
       "      <td>[hep-ex]</td>\n",
       "      <td>[TOTEM]</td>\n",
       "    </tr>\n",
       "    <tr>\n",
       "      <th>3073</th>\n",
       "      <td>990458</td>\n",
       "      <td>{'value': 'Sanchez-Hernandez, Alberto', 'name_...</td>\n",
       "      <td>903002</td>\n",
       "      <td>[{'value': 'grid.418275.d', 'schema': 'GRID'},...</td>\n",
       "      <td>Mexico</td>\n",
       "      <td>CINVESTAV, IPN</td>\n",
       "      <td>[{'value': 'alberto.sanchez.hernandez@cern.ch'...</td>\n",
       "      <td>[{'rank': 'STAFF', 'record': {'$ref': 'https:/...</td>\n",
       "      <td>[{'value': 'Alberto.Sanchez.Hernandez.1', 'sch...</td>\n",
       "      <td>[hep-ex]</td>\n",
       "      <td>[TOTEM]</td>\n",
       "    </tr>\n",
       "    <tr>\n",
       "      <th>3074</th>\n",
       "      <td>990355</td>\n",
       "      <td>{'value': 'Santoro, Alberto F.S.', 'name_varia...</td>\n",
       "      <td>904929</td>\n",
       "      <td>[{'value': 'grid.412211.5', 'schema': 'GRID'},...</td>\n",
       "      <td>Brazil</td>\n",
       "      <td>Rio de Janeiro State U.</td>\n",
       "      <td>[{'value': 'alberto.santoro@cern.ch', 'current...</td>\n",
       "      <td>[{'rank': 'SENIOR', 'record': {'$ref': 'https:...</td>\n",
       "      <td>[{'value': 'A.Santoro.1', 'schema': 'INSPIRE B...</td>\n",
       "      <td>[hep-ex]</td>\n",
       "      <td>[TOTEM]</td>\n",
       "    </tr>\n",
       "    <tr>\n",
       "      <th>3075</th>\n",
       "      <td>1060969</td>\n",
       "      <td>{'value': 'Santos, Angelo Souza', 'name_varian...</td>\n",
       "      <td>903185</td>\n",
       "      <td>[{'value': 'grid.11899.38', 'schema': 'GRID'},...</td>\n",
       "      <td>Brazil</td>\n",
       "      <td>Sao Paulo, IFT</td>\n",
       "      <td>[{'value': 'angelo.souza@gmail.com', 'current'...</td>\n",
       "      <td>[{'rank': 'PHD', 'record': {'$ref': 'https://i...</td>\n",
       "      <td>[{'value': 'A.S.Santos.1', 'schema': 'INSPIRE ...</td>\n",
       "      <td>[hep-ex]</td>\n",
       "      <td>[TOTEM]</td>\n",
       "    </tr>\n",
       "    <tr>\n",
       "      <th>3076</th>\n",
       "      <td>1721290</td>\n",
       "      <td>{'value': 'Bazetto, Maria Cecilia Queiroga', '...</td>\n",
       "      <td>902714</td>\n",
       "      <td>[{'value': 'grid.411087.b', 'schema': 'GRID'},...</td>\n",
       "      <td>Brazil</td>\n",
       "      <td>Campinas State U.</td>\n",
       "      <td>[]</td>\n",
       "      <td>[{'record': {'$ref': 'https://inspirehep.net/a...</td>\n",
       "      <td>[{'value': 'M.C.Q.Bazetto.1', 'schema': 'INSPI...</td>\n",
       "      <td>[physics.data-an]</td>\n",
       "      <td>[SBND]</td>\n",
       "    </tr>\n",
       "    <tr>\n",
       "      <th>3077</th>\n",
       "      <td>1077609</td>\n",
       "      <td>{'value': 'Bergamini Machado, Ana Amelia', 'na...</td>\n",
       "      <td>902714</td>\n",
       "      <td>[{'value': 'grid.411087.b', 'schema': 'GRID'},...</td>\n",
       "      <td>Brazil</td>\n",
       "      <td>Campinas State U.</td>\n",
       "      <td>[{'value': 'ana.machado@lngs.infn.it', 'curren...</td>\n",
       "      <td>[{'record': {'$ref': 'https://inspirehep.net/a...</td>\n",
       "      <td>[{'value': '0000-0003-3769-7991', 'schema': 'O...</td>\n",
       "      <td>[physics.data-an]</td>\n",
       "      <td>[SBND]</td>\n",
       "    </tr>\n",
       "    <tr>\n",
       "      <th>3078</th>\n",
       "      <td>1065528</td>\n",
       "      <td>{'value': 'Da Cunha Marinho, Franciole', 'pref...</td>\n",
       "      <td>903794</td>\n",
       "      <td>[{'value': 'grid.411247.5', 'schema': 'GRID'},...</td>\n",
       "      <td>Brazil</td>\n",
       "      <td>Sao Carlos Federal U.</td>\n",
       "      <td>[{'value': 'fmarinho@cca.ufscar.br', 'current'...</td>\n",
       "      <td>[{'record': {'$ref': 'https://inspirehep.net/a...</td>\n",
       "      <td>[{'value': '0000-0002-7327-0349', 'schema': 'O...</td>\n",
       "      <td>[physics.data-an]</td>\n",
       "      <td>[SBND]</td>\n",
       "    </tr>\n",
       "    <tr>\n",
       "      <th>3079</th>\n",
       "      <td>1074356</td>\n",
       "      <td>{'value': 'Segreto, Ettore', 'preferred_name':...</td>\n",
       "      <td>902714</td>\n",
       "      <td>[{'value': 'grid.411087.b', 'schema': 'GRID'},...</td>\n",
       "      <td>Brazil</td>\n",
       "      <td>Campinas State U.</td>\n",
       "      <td>[{'value': 'segreto@ifi.unicamp.br', 'current'...</td>\n",
       "      <td>[{'record': {'$ref': 'https://inspirehep.net/a...</td>\n",
       "      <td>[{'value': '0000-0003-3166-5307', 'schema': 'O...</td>\n",
       "      <td>[physics.data-an]</td>\n",
       "      <td>[SBND]</td>\n",
       "    </tr>\n",
       "    <tr>\n",
       "      <th>3080</th>\n",
       "      <td>1001595</td>\n",
       "      <td>{'value': 'Kuleshov, Sergey V.', 'name_variant...</td>\n",
       "      <td>904589</td>\n",
       "      <td>[{'value': 'grid.12148.3e', 'schema': 'GRID'},...</td>\n",
       "      <td>Chile</td>\n",
       "      <td>Santa Maria U., Valparaiso</td>\n",
       "      <td>[{'value': 'serguei.koulechov@cern.ch', 'curre...</td>\n",
       "      <td>[{'record': {'$ref': 'https://inspirehep.net/a...</td>\n",
       "      <td>[{'value': '0000-0002-3065-326X', 'schema': 'O...</td>\n",
       "      <td>[]</td>\n",
       "      <td>[RD42]</td>\n",
       "    </tr>\n",
       "    <tr>\n",
       "      <th>3081</th>\n",
       "      <td>1849857</td>\n",
       "      <td>{'value': 'Ferreira Alves, Douglas', 'name_var...</td>\n",
       "      <td>903793</td>\n",
       "      <td>[{'value': 'grid.411216.1', 'schema': 'GRID'},...</td>\n",
       "      <td>Brazil</td>\n",
       "      <td>Paraiba U.</td>\n",
       "      <td>[]</td>\n",
       "      <td>[{'record': {'$ref': 'https://inspirehep.net/a...</td>\n",
       "      <td>[{'value': 'D.A.Ferreira.1', 'schema': 'INSPIR...</td>\n",
       "      <td>[physics.ins-det]</td>\n",
       "      <td>[IAXO]</td>\n",
       "    </tr>\n",
       "    <tr>\n",
       "      <th>3082</th>\n",
       "      <td>1806290</td>\n",
       "      <td>{'value': 'Pérez Figueroa, Omar', 'name_varian...</td>\n",
       "      <td>908069</td>\n",
       "      <td>[{'value': 'grid.9486.3', 'schema': 'GRID'}, {...</td>\n",
       "      <td>Mexico</td>\n",
       "      <td>UNAM, Mexico</td>\n",
       "      <td>[{'value': 'omar_perfig@ciencias.unam.mx', 'cu...</td>\n",
       "      <td>[{'record': {'$ref': 'https://inspirehep.net/a...</td>\n",
       "      <td>[{'value': 'O.Perez.Figueroa.1', 'schema': 'IN...</td>\n",
       "      <td>[physics.ins-det]</td>\n",
       "      <td>[IAXO]</td>\n",
       "    </tr>\n",
       "    <tr>\n",
       "      <th>3083</th>\n",
       "      <td>1001043</td>\n",
       "      <td>{'value': 'Larios, Francisco', 'preferred_name...</td>\n",
       "      <td>903002</td>\n",
       "      <td>[{'value': 'grid.418275.d', 'schema': 'GRID'},...</td>\n",
       "      <td>Mexico</td>\n",
       "      <td>CINVESTAV, IPN</td>\n",
       "      <td>[{'value': 'francisco.larios@cinvestav.mx', 'c...</td>\n",
       "      <td>[{'rank': 'SENIOR', 'record': {'$ref': 'https:...</td>\n",
       "      <td>[{'value': 'F.Larios.1', 'schema': 'INSPIRE BA...</td>\n",
       "      <td>[hep-ex]</td>\n",
       "      <td>[LHeC]</td>\n",
       "    </tr>\n",
       "  </tbody>\n",
       "</table>\n",
       "</div>"
      ],
      "text/plain": [
       "      author_id                                               name  \\\n",
       "3064    1054537  {'value': 'Martinez-Ortega, Jorge', 'preferred...   \n",
       "3065    1051449  {'value': 'Luna Garcia, Rene', 'preferred_name...   \n",
       "3066     999375  {'value': 'Maciel, Arthur K.A.', 'preferred_na...   \n",
       "3067    1054560  {'value': 'Magana-Villalba, Ricardo', 'native_...   \n",
       "3068     997777  {'value': 'Mercadante, Pedro Galli', 'preferre...   \n",
       "3069    1012591  {'value': 'da Motta, Hélio', 'name_variants': ...   \n",
       "3070    1009999  {'value': 'Mundim Filho, Luiz Martins', 'prefe...   \n",
       "3071     995927  {'value': 'Negret, Juan Pablo', 'preferred_nam...   \n",
       "3072    1030806  {'value': 'Prado da Silva, Wanda Lucia', 'pref...   \n",
       "3073     990458  {'value': 'Sanchez-Hernandez, Alberto', 'name_...   \n",
       "3074     990355  {'value': 'Santoro, Alberto F.S.', 'name_varia...   \n",
       "3075    1060969  {'value': 'Santos, Angelo Souza', 'name_varian...   \n",
       "3076    1721290  {'value': 'Bazetto, Maria Cecilia Queiroga', '...   \n",
       "3077    1077609  {'value': 'Bergamini Machado, Ana Amelia', 'na...   \n",
       "3078    1065528  {'value': 'Da Cunha Marinho, Franciole', 'pref...   \n",
       "3079    1074356  {'value': 'Segreto, Ettore', 'preferred_name':...   \n",
       "3080    1001595  {'value': 'Kuleshov, Sergey V.', 'name_variant...   \n",
       "3081    1849857  {'value': 'Ferreira Alves, Douglas', 'name_var...   \n",
       "3082    1806290  {'value': 'Pérez Figueroa, Omar', 'name_varian...   \n",
       "3083    1001043  {'value': 'Larios, Francisco', 'preferred_name...   \n",
       "\n",
       "      LA_institution_id                        external_system_identifiers  \\\n",
       "3064             903002  [{'value': 'grid.418275.d', 'schema': 'GRID'},...   \n",
       "3065             903002  [{'value': 'grid.418275.d', 'schema': 'GRID'},...   \n",
       "3066             903158  [{'value': 'grid.418228.5', 'schema': 'GRID'},...   \n",
       "3067             903002  [{'value': 'grid.418275.d', 'schema': 'GRID'},...   \n",
       "3068             910786  [{'value': 'grid.412368.a', 'schema': 'GRID'},...   \n",
       "3069             903158  [{'value': 'grid.418228.5', 'schema': 'GRID'},...   \n",
       "3070             904929  [{'value': 'grid.412211.5', 'schema': 'GRID'},...   \n",
       "3071             903802  [{'value': 'grid.7247.6', 'schema': 'GRID'}, {...   \n",
       "3072             904929  [{'value': 'grid.412211.5', 'schema': 'GRID'},...   \n",
       "3073             903002  [{'value': 'grid.418275.d', 'schema': 'GRID'},...   \n",
       "3074             904929  [{'value': 'grid.412211.5', 'schema': 'GRID'},...   \n",
       "3075             903185  [{'value': 'grid.11899.38', 'schema': 'GRID'},...   \n",
       "3076             902714  [{'value': 'grid.411087.b', 'schema': 'GRID'},...   \n",
       "3077             902714  [{'value': 'grid.411087.b', 'schema': 'GRID'},...   \n",
       "3078             903794  [{'value': 'grid.411247.5', 'schema': 'GRID'},...   \n",
       "3079             902714  [{'value': 'grid.411087.b', 'schema': 'GRID'},...   \n",
       "3080             904589  [{'value': 'grid.12148.3e', 'schema': 'GRID'},...   \n",
       "3081             903793  [{'value': 'grid.411216.1', 'schema': 'GRID'},...   \n",
       "3082             908069  [{'value': 'grid.9486.3', 'schema': 'GRID'}, {...   \n",
       "3083             903002  [{'value': 'grid.418275.d', 'schema': 'GRID'},...   \n",
       "\n",
       "     LA_country              LA_institution  \\\n",
       "3064     Mexico              CINVESTAV, IPN   \n",
       "3065     Mexico              CINVESTAV, IPN   \n",
       "3066     Brazil        Rio de Janeiro, CBPF   \n",
       "3067     Mexico              CINVESTAV, IPN   \n",
       "3068     Brazil              ABC Federal U.   \n",
       "3069     Brazil        Rio de Janeiro, CBPF   \n",
       "3070     Brazil     Rio de Janeiro State U.   \n",
       "3071   Colombia            Andes U., Bogota   \n",
       "3072     Brazil     Rio de Janeiro State U.   \n",
       "3073     Mexico              CINVESTAV, IPN   \n",
       "3074     Brazil     Rio de Janeiro State U.   \n",
       "3075     Brazil              Sao Paulo, IFT   \n",
       "3076     Brazil           Campinas State U.   \n",
       "3077     Brazil           Campinas State U.   \n",
       "3078     Brazil       Sao Carlos Federal U.   \n",
       "3079     Brazil           Campinas State U.   \n",
       "3080      Chile  Santa Maria U., Valparaiso   \n",
       "3081     Brazil                  Paraiba U.   \n",
       "3082     Mexico                UNAM, Mexico   \n",
       "3083     Mexico              CINVESTAV, IPN   \n",
       "\n",
       "                                        email_addresses  \\\n",
       "3064  [{'value': 'jmartinez@fis.cinvestav.mx', 'curr...   \n",
       "3065                                                 []   \n",
       "3066    [{'value': 'maciel@fnal.gov', 'current': True}]   \n",
       "3067   [{'value': 'magania@fnal.gov', 'current': True}]   \n",
       "3068  [{'value': 'mercadan@fnal.gov', 'current': Tru...   \n",
       "3069      [{'value': 'helio@cbpf.br', 'current': True}]   \n",
       "3070    [{'value': 'mundim@uerj.br', 'current': False}]   \n",
       "3071  [{'value': 'jnegret@uniandes.edu.co', 'current...   \n",
       "3072  [{'value': 'prado@cern.ch', 'current': True}, ...   \n",
       "3073  [{'value': 'alberto.sanchez.hernandez@cern.ch'...   \n",
       "3074  [{'value': 'alberto.santoro@cern.ch', 'current...   \n",
       "3075  [{'value': 'angelo.souza@gmail.com', 'current'...   \n",
       "3076                                                 []   \n",
       "3077  [{'value': 'ana.machado@lngs.infn.it', 'curren...   \n",
       "3078  [{'value': 'fmarinho@cca.ufscar.br', 'current'...   \n",
       "3079  [{'value': 'segreto@ifi.unicamp.br', 'current'...   \n",
       "3080  [{'value': 'serguei.koulechov@cern.ch', 'curre...   \n",
       "3081                                                 []   \n",
       "3082  [{'value': 'omar_perfig@ciencias.unam.mx', 'cu...   \n",
       "3083  [{'value': 'francisco.larios@cinvestav.mx', 'c...   \n",
       "\n",
       "                                              positions  \\\n",
       "3064  [{'rank': 'PHD', 'record': {'$ref': 'https://i...   \n",
       "3065  [{'rank': 'POSTDOC', 'record': {'$ref': 'https...   \n",
       "3066  [{'record': {'$ref': 'https://inspirehep.net/a...   \n",
       "3067  [{'rank': 'PHD', 'record': {'$ref': 'https://i...   \n",
       "3068  [{'rank': 'SENIOR', 'record': {'$ref': 'https:...   \n",
       "3069  [{'rank': 'SENIOR', 'record': {'$ref': 'https:...   \n",
       "3070  [{'rank': 'SENIOR', 'record': {'$ref': 'https:...   \n",
       "3071  [{'rank': 'SENIOR', 'record': {'$ref': 'https:...   \n",
       "3072  [{'record': {'$ref': 'https://inspirehep.net/a...   \n",
       "3073  [{'rank': 'STAFF', 'record': {'$ref': 'https:/...   \n",
       "3074  [{'rank': 'SENIOR', 'record': {'$ref': 'https:...   \n",
       "3075  [{'rank': 'PHD', 'record': {'$ref': 'https://i...   \n",
       "3076  [{'record': {'$ref': 'https://inspirehep.net/a...   \n",
       "3077  [{'record': {'$ref': 'https://inspirehep.net/a...   \n",
       "3078  [{'record': {'$ref': 'https://inspirehep.net/a...   \n",
       "3079  [{'record': {'$ref': 'https://inspirehep.net/a...   \n",
       "3080  [{'record': {'$ref': 'https://inspirehep.net/a...   \n",
       "3081  [{'record': {'$ref': 'https://inspirehep.net/a...   \n",
       "3082  [{'record': {'$ref': 'https://inspirehep.net/a...   \n",
       "3083  [{'rank': 'SENIOR', 'record': {'$ref': 'https:...   \n",
       "\n",
       "                                                    ids  \\\n",
       "3064  [{'value': 'J.Martinez.Ortega.1', 'schema': 'I...   \n",
       "3065  [{'value': 'R.Luna.2', 'schema': 'INSPIRE BAI'...   \n",
       "3066  [{'value': 'A.K.A.Maciel.1', 'schema': 'INSPIR...   \n",
       "3067  [{'value': 'R.Magana.Villalba.1', 'schema': 'I...   \n",
       "3068  [{'value': '0000-0001-8333-4302', 'schema': 'O...   \n",
       "3069  [{'value': '0000-0002-9577-1953', 'schema': 'O...   \n",
       "3070  [{'value': '0000-0001-9964-7805', 'schema': 'O...   \n",
       "3071  [{'value': 'J.P.Negret.1', 'schema': 'INSPIRE ...   \n",
       "3072  [{'value': '0000-0002-6590-3169', 'schema': 'O...   \n",
       "3073  [{'value': 'Alberto.Sanchez.Hernandez.1', 'sch...   \n",
       "3074  [{'value': 'A.Santoro.1', 'schema': 'INSPIRE B...   \n",
       "3075  [{'value': 'A.S.Santos.1', 'schema': 'INSPIRE ...   \n",
       "3076  [{'value': 'M.C.Q.Bazetto.1', 'schema': 'INSPI...   \n",
       "3077  [{'value': '0000-0003-3769-7991', 'schema': 'O...   \n",
       "3078  [{'value': '0000-0002-7327-0349', 'schema': 'O...   \n",
       "3079  [{'value': '0000-0003-3166-5307', 'schema': 'O...   \n",
       "3080  [{'value': '0000-0002-3065-326X', 'schema': 'O...   \n",
       "3081  [{'value': 'D.A.Ferreira.1', 'schema': 'INSPIR...   \n",
       "3082  [{'value': 'O.Perez.Figueroa.1', 'schema': 'IN...   \n",
       "3083  [{'value': 'F.Larios.1', 'schema': 'INSPIRE BA...   \n",
       "\n",
       "     primary_arxiv_category Fields of Study  \n",
       "3064               [hep-ex]         [TOTEM]  \n",
       "3065               [hep-ex]         [TOTEM]  \n",
       "3066               [hep-ex]         [TOTEM]  \n",
       "3067               [hep-ex]         [TOTEM]  \n",
       "3068               [hep-ex]         [TOTEM]  \n",
       "3069               [hep-ex]         [TOTEM]  \n",
       "3070               [hep-ex]         [TOTEM]  \n",
       "3071               [hep-ex]         [TOTEM]  \n",
       "3072               [hep-ex]         [TOTEM]  \n",
       "3073               [hep-ex]         [TOTEM]  \n",
       "3074               [hep-ex]         [TOTEM]  \n",
       "3075               [hep-ex]         [TOTEM]  \n",
       "3076      [physics.data-an]          [SBND]  \n",
       "3077      [physics.data-an]          [SBND]  \n",
       "3078      [physics.data-an]          [SBND]  \n",
       "3079      [physics.data-an]          [SBND]  \n",
       "3080                     []          [RD42]  \n",
       "3081      [physics.ins-det]          [IAXO]  \n",
       "3082      [physics.ins-det]          [IAXO]  \n",
       "3083               [hep-ex]          [LHeC]  "
      ]
     },
     "execution_count": 326,
     "metadata": {},
     "output_type": "execute_result"
    }
   ],
   "source": [
    "df[-20:]"
   ]
  },
  {
   "cell_type": "code",
   "execution_count": 301,
   "id": "22e25083-6098-4020-a41c-b192b5678305",
   "metadata": {},
   "outputs": [
    {
     "data": {
      "text/plain": [
       "12"
      ]
     },
     "execution_count": 301,
     "metadata": {},
     "output_type": "execute_result"
    }
   ],
   "source": [
    "int(299/25)+1"
   ]
  },
  {
   "cell_type": "code",
   "execution_count": 330,
   "id": "6ad3665f-2a11-4836-85fd-edb64080719e",
   "metadata": {},
   "outputs": [
    {
     "name": "stdout",
     "output_type": "stream",
     "text": [
      "https://inspirehep.net/api/literature?sort=mostrecent&size=25&page=4&q=ac%3E100+and+de%3E2018+and+not+cn+STAR+and+not+cn+MicroBooNE+and+not+cn+CLAS+and+not+cn+DUNE+and+not+cn+NA62+and+not+cn+PHENIX+and+not+cn+BESIII+and+not+cn+DES+and+not+cn+Super-Kamiokande+and+not+cn+LIGO+Scientific+and+not+cn+KM3NeT+and+not+cn+HAWC+and+not+cn+Pierre+Auger+and+not+cn+IceCube+and+not+cn+CTA+Observatory+and+not+cn+Telescope+Array+and+not+cn+MAGIC+and+not+cn+SuperCDMS+and+not+cn+CUPID+and+not+cn+CUORE+and+not+cn+KATRIN+and+not+cn+REDTOP+and+not+cn+KAGRA+and+not+cn+Muon+Collider+and+not+cn+Mu2e-II+and+not+cn+ILC+International+Development+Team+and+not+cn+Daya+Bay+and+not+cn+Virgo+and+not+cn+NEMO-3+and+not+cn+ATLAS+and+not+cn+Euclid+and+not+cn+LHCb+and+not+cn+CMS+and+not+cn+ANTARES+and+not+cn+GERDA+and+not+cn+HADES+and+not+cn+n_TOF+and+not+cn+PANDA+and+not+cn+Jefferson+Lab+Hall+A+and+not+cn+LUX-ZEPLIN+and+not+cn+Belle+and+not+cn+LHAASO+and+not+cn+H.E.S.S.+and+not+cn+JUNO+and+not+cn+AMS+and+not+cn+XENON+and+not+cn+SHiP+and+not+cn+ALICE+and+not+cn+NA61/SHINE+and+not+cn+DAMPE+and+not+cn+H1+and+not+cn+NOvA+and+not+cn+CTA+LST+Project+and+not+cn+OPERA+and+not+cn+COMPASS+and+not+cn+GlueX+and+not+cn+LEGEND+and+not+cn+Event+Horizon+Telescope+and+not+cn+MPD+and+not+cn+LiteBIRD+and+not+cn+Double+Chooz+and+not+cn+Fermi-LAT+and+not+cn+nEXO+and+not+cn+SDSS-IV+and+not+cn+NEXT+and+not+cn+CREX+and+not+cn+BaBar+and+not+cn+CDF+and+not+cn+DarkSide+and+not+cn+EXO-200+and+not+cn+Tibet+AS%CE%B3+and+not+cn+SPT-3G+and+not+cn+Mice+and+not+cn+CTA+Consortium+and+not+cn+SNO++and+not+cn+CSNS+Back-n+and+not+cn+WA105+and+not+cn+NA48/2+and+not+cn+Muon+g-2+and+not+cn+DEAP+and+not+cn+T2K+and+not+cn+Charm+and+not+cn+HESS+and+not+cn+ICARUS+and+not+cn+Hess+and+not+cn+CTA+and+not+cn+Mu3e+and+not+cn+Planck+and+not+cn+Hyper-Kamiokande+and+not+cn+MOONS+Consortium+and+not+cn+HEP+Software+Foundation+and+not+cn+LSPE+and+not+cn+CMB-S4+and+not+cn+TianQin+and+not+cn+QUBIC+and+not+cn+KLF+and+not+cn+Particle+Data+Group+and+not+cn+DARWIN+and+not+cn+LZ+and+not+cn+Insight-HXMT+Team+and+not+cn+WASA-at-COSY+and+not+cn+BOREXINO+and+restrepo,d\n"
     ]
    }
   ],
   "source": [
    "print('https://inspirehep.net/api/literature?sort=mostrecent&size=25&page=4&q=ac%3E100+and+de%3E2018+and+not+cn+STAR+and+not+cn+MicroBooNE+and+not+cn+CLAS+and+not+cn+DUNE+and+not+cn+NA62+and+not+cn+PHENIX+and+not+cn+BESIII+and+not+cn+DES+and+not+cn+Super-Kamiokande+and+not+cn+LIGO+Scientific+and+not+cn+KM3NeT+and+not+cn+HAWC+and+not+cn+Pierre+Auger+and+not+cn+IceCube+and+not+cn+CTA+Observatory+and+not+cn+Telescope+Array+and+not+cn+MAGIC+and+not+cn+SuperCDMS+and+not+cn+CUPID+and+not+cn+CUORE+and+not+cn+KATRIN+and+not+cn+REDTOP+and+not+cn+KAGRA+and+not+cn+Muon+Collider+and+not+cn+Mu2e-II+and+not+cn+ILC+International+Development+Team+and+not+cn+Daya+Bay+and+not+cn+Virgo+and+not+cn+NEMO-3+and+not+cn+ATLAS+and+not+cn+Euclid+and+not+cn+LHCb+and+not+cn+CMS+and+not+cn+ANTARES+and+not+cn+GERDA+and+not+cn+HADES+and+not+cn+n_TOF+and+not+cn+PANDA+and+not+cn+Jefferson+Lab+Hall+A+and+not+cn+LUX-ZEPLIN+and+not+cn+Belle+and+not+cn+LHAASO+and+not+cn+H.E.S.S.+and+not+cn+JUNO+and+not+cn+AMS+and+not+cn+XENON+and+not+cn+SHiP+and+not+cn+ALICE+and+not+cn+NA61/SHINE+and+not+cn+DAMPE+and+not+cn+H1+and+not+cn+NOvA+and+not+cn+CTA+LST+Project+and+not+cn+OPERA+and+not+cn+COMPASS+and+not+cn+GlueX+and+not+cn+LEGEND+and+not+cn+Event+Horizon+Telescope+and+not+cn+MPD+and+not+cn+LiteBIRD+and+not+cn+Double+Chooz+and+not+cn+Fermi-LAT+and+not+cn+nEXO+and+not+cn+SDSS-IV+and+not+cn+NEXT+and+not+cn+CREX+and+not+cn+BaBar+and+not+cn+CDF+and+not+cn+DarkSide+and+not+cn+EXO-200+and+not+cn+Tibet+AS%CE%B3+and+not+cn+SPT-3G+and+not+cn+Mice+and+not+cn+CTA+Consortium+and+not+cn+SNO++and+not+cn+CSNS+Back-n+and+not+cn+WA105+and+not+cn+NA48/2+and+not+cn+Muon+g-2+and+not+cn+DEAP+and+not+cn+T2K+and+not+cn+Charm+and+not+cn+HESS+and+not+cn+ICARUS+and+not+cn+Hess+and+not+cn+CTA+and+not+cn+Mu3e+and+not+cn+Planck+and+not+cn+Hyper-Kamiokande+and+not+cn+MOONS+Consortium+and+not+cn+HEP+Software+Foundation+and+not+cn+LSPE+and+not+cn+CMB-S4+and+not+cn+TianQin+and+not+cn+QUBIC+and+not+cn+KLF+and+not+cn+Particle+Data+Group+and+not+cn+DARWIN+and+not+cn+LZ+and+not+cn+Insight-HXMT+Team+and+not+cn+WASA-at-COSY+and+not+cn+BOREXINO+and+restrepo,d')"
   ]
  },
  {
   "cell_type": "code",
   "execution_count": null,
   "id": "0b2721da-35c9-49e0-b4b5-53245d66c3a3",
   "metadata": {},
   "outputs": [],
   "source": []
  }
 ],
 "metadata": {
  "kernelspec": {
   "display_name": "Python 3 (ipykernel)",
   "language": "python",
   "name": "python3"
  },
  "language_info": {
   "codemirror_mode": {
    "name": "ipython",
    "version": 3
   },
   "file_extension": ".py",
   "mimetype": "text/x-python",
   "name": "python",
   "nbconvert_exporter": "python",
   "pygments_lexer": "ipython3",
   "version": "3.9.2"
  }
 },
 "nbformat": 4,
 "nbformat_minor": 5
}
