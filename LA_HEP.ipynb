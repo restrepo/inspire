{
 "cells": [
  {
   "cell_type": "markdown",
   "id": "ffa71bff-8b6d-4913-b07e-f3c5e4355cba",
   "metadata": {},
   "source": [
    "# Get INSPIRE-HEP info for authors of HEP articles in https://lens.org\n",
    "## from Latin America:\n",
    "\n",
    "https://link.lens.org/CuptXEnD9Hk\n",
    "\n",
    "[Fields of Study](https://docs.openalex.org/about-the-data/concept)\n",
    "\n",
    "* Level 1: Physics\n",
    "  * Level 2: Particle physics\n",
    "  * Level 2: Cosmology\n",
    "  * Level 2: Astrophysics\n",
    "  * Level 2: Mathematical physics\n",
    "\n",
    "Countries with non-zero counts of articles in `LA_countries`"
   ]
  },
  {
   "cell_type": "code",
   "execution_count": 1,
   "id": "fd3302c2-9a58-4f87-97c0-7c277c029d7f",
   "metadata": {},
   "outputs": [],
   "source": [
    "import pandas as pd\n",
    "import requests\n",
    "import time\n",
    "import json"
   ]
  },
  {
   "cell_type": "code",
   "execution_count": 2,
   "id": "35954fe0-8a76-414d-a4d8-f52876eb1937",
   "metadata": {},
   "outputs": [],
   "source": [
    "#LA → 17 countries\n",
    "#Argentina, Bolivia, Brazil, Chile, Colombia, Costa Rica, Ecuador, El Salvador, Guatemala, Honduras, Mexico, Nicaragua, Panama, Paraguay, Peru, the Dominican Republic and Uruguay."
   ]
  },
  {
   "cell_type": "code",
   "execution_count": 3,
   "id": "37b10aff-0281-4f7f-918d-0535a84bd102",
   "metadata": {},
   "outputs": [],
   "source": [
    "global db,LA_countries,fields_of_study,sep,sleep\n",
    "LA_countries=( 'Brazil'  , 'Mexico'  , 'Colombia'  , 'Chile'  , 'Argentina'  , 'Ecuador'  , 'Guatemala'  , 'Peru'  ,\n",
    "  'Venezuela'  , 'Uruguay'  , 'Bolivia'  , 'Costa Rica'  , 'Paraguay'  , 'Nicaragua'  , 'Panama'  , 'El Salvador'  , 'Cuba' )\n",
    "fields_of_study={'Particle physics','Cosmology','Astrophysics','Mathematical physics'}\n",
    "sep='arxiv.org/abs/'\n",
    "#From https://github.com/inspirehep/rest-api-doc#rate-limiting\n",
    "#every IP address is allowed 15 requests in a 5s window.\n",
    "sleep=0.4"
   ]
  },
  {
   "cell_type": "code",
   "execution_count": 4,
   "id": "99916688-05af-4cf8-ab1a-3ad2e3427f5e",
   "metadata": {},
   "outputs": [],
   "source": [
    "FULL=False\n",
    "if FULL:\n",
    "    df=pd.read_csv('LA_HEP.csv')\n",
    "else:\n",
    "    df=pd.read_csv('data/LA_HEP_not_cn.csv.gz')"
   ]
  },
  {
   "cell_type": "code",
   "execution_count": 5,
   "id": "75f47e22-19a6-47fb-b5e6-04ed03d0ae98",
   "metadata": {},
   "outputs": [
    {
     "data": {
      "text/plain": [
       "Index(['Lens ID', 'Title', 'Date Published', 'Publication Year',\n",
       "       'Publication Type', 'Source Title', 'ISSNs', 'Publisher',\n",
       "       'Source Country', 'Author/s', 'Abstract', 'Volume', 'Issue Number',\n",
       "       'Start Page', 'End Page', 'Fields of Study', 'Keywords', 'MeSH Terms',\n",
       "       'Chemicals', 'Funding', 'Source URLs', 'External URL', 'PMID', 'DOI',\n",
       "       'Microsoft Academic ID', 'PMCID', 'Citing Patents Count', 'References',\n",
       "       'Citing Works Count', 'author_count'],\n",
       "      dtype='object')"
      ]
     },
     "execution_count": 5,
     "metadata": {},
     "output_type": "execute_result"
    }
   ],
   "source": [
    "df.columns"
   ]
  },
  {
   "cell_type": "code",
   "execution_count": 6,
   "id": "ab9c4013-26d2-495b-8500-7d3f50552edd",
   "metadata": {},
   "outputs": [],
   "source": [
    "df['author_count']=df['Author/s'].str.split('; ').apply(len)"
   ]
  },
  {
   "cell_type": "markdown",
   "id": "b7ab87e8-b38b-4585-887e-91e01be83be6",
   "metadata": {},
   "source": [
    "Avoid large file requests. Analyse collaborations separately"
   ]
  },
  {
   "cell_type": "code",
   "execution_count": 7,
   "id": "d3bfca76-6b67-4671-b255-53a3206710dc",
   "metadata": {},
   "outputs": [],
   "source": [
    "df=df[df['author_count']<=10].reset_index(drop=True)"
   ]
  },
  {
   "cell_type": "code",
   "execution_count": 8,
   "id": "809bee0e-ff13-47d1-9f6e-ceac6a253e95",
   "metadata": {},
   "outputs": [
    {
     "data": {
      "text/plain": [
       "(17508, 30)"
      ]
     },
     "execution_count": 8,
     "metadata": {},
     "output_type": "execute_result"
    }
   ],
   "source": [
    "df.shape"
   ]
  },
  {
   "cell_type": "code",
   "execution_count": 9,
   "id": "073d3b37-3590-4eb8-a2b2-c9c18bf103ad",
   "metadata": {},
   "outputs": [
    {
     "data": {
      "text/plain": [
       "(17508, 30)"
      ]
     },
     "execution_count": 9,
     "metadata": {},
     "output_type": "execute_result"
    }
   ],
   "source": [
    "df[df['Fields of Study'].str.contains('Physics')].shape"
   ]
  },
  {
   "cell_type": "code",
   "execution_count": 10,
   "id": "9ede9993-e1ba-4ea8-a6fe-0b81de05bcbe",
   "metadata": {},
   "outputs": [
    {
     "data": {
      "text/plain": [
       "3758"
      ]
     },
     "execution_count": 10,
     "metadata": {},
     "output_type": "execute_result"
    }
   ],
   "source": [
    "PP=df[df['Fields of Study'].str.contains('Particle physics')].shape[0]\n",
    "PP"
   ]
  },
  {
   "cell_type": "code",
   "execution_count": 11,
   "id": "394a2b4f-14ab-44de-88b0-a27cb2de67ac",
   "metadata": {},
   "outputs": [
    {
     "data": {
      "text/plain": [
       "829"
      ]
     },
     "execution_count": 11,
     "metadata": {},
     "output_type": "execute_result"
    }
   ],
   "source": [
    "PC=df[df['Fields of Study'].str.contains('Cosmology')].shape[0]\n",
    "PC"
   ]
  },
  {
   "cell_type": "code",
   "execution_count": 12,
   "id": "f31c6a7f-50c6-480a-b69f-ea53e03fda0f",
   "metadata": {},
   "outputs": [
    {
     "data": {
      "text/plain": [
       "8809"
      ]
     },
     "execution_count": 12,
     "metadata": {},
     "output_type": "execute_result"
    }
   ],
   "source": [
    "PA=df[df['Fields of Study'].str.contains('Astrophysics')].shape[0]\n",
    "PA"
   ]
  },
  {
   "cell_type": "code",
   "execution_count": 13,
   "id": "7aba3729-354f-446e-8dbd-801856d8e662",
   "metadata": {},
   "outputs": [
    {
     "data": {
      "text/plain": [
       "5076"
      ]
     },
     "execution_count": 13,
     "metadata": {},
     "output_type": "execute_result"
    }
   ],
   "source": [
    "PM=df[df['Fields of Study'].str.contains('Mathematical physics')].shape[0]\n",
    "PM"
   ]
  },
  {
   "cell_type": "code",
   "execution_count": 14,
   "id": "d4193e8c-5c31-4317-8050-4cb200968331",
   "metadata": {},
   "outputs": [
    {
     "data": {
      "text/plain": [
       "18472"
      ]
     },
     "execution_count": 14,
     "metadata": {},
     "output_type": "execute_result"
    }
   ],
   "source": [
    "PP+PA+PC+PM"
   ]
  },
  {
   "cell_type": "code",
   "execution_count": 15,
   "id": "c40b3c42-3cb5-4d40-a27b-71d604032c52",
   "metadata": {},
   "outputs": [
    {
     "data": {
      "text/plain": [
       "15146"
      ]
     },
     "execution_count": 15,
     "metadata": {},
     "output_type": "execute_result"
    }
   ],
   "source": [
    "ndois=df.DOI.dropna().shape[0]\n",
    "ndois"
   ]
  },
  {
   "cell_type": "code",
   "execution_count": 16,
   "id": "ad41694d-b7c7-4ced-9b1a-532972869059",
   "metadata": {},
   "outputs": [],
   "source": [
    "#nd[nd['Source URLs'].str.contains('arxiv.org')]['Source URLs'].iloc[0]"
   ]
  },
  {
   "cell_type": "code",
   "execution_count": 17,
   "id": "b4c3596a-0704-4fd5-b8aa-7107b37cc378",
   "metadata": {},
   "outputs": [
    {
     "data": {
      "text/plain": [
       "1496"
      ]
     },
     "execution_count": 17,
     "metadata": {},
     "output_type": "execute_result"
    }
   ],
   "source": [
    "nd=df[df.DOI.isna()]\n",
    "nd=nd.dropna(subset=['Source URLs']).reset_index(drop=True)\n",
    "narxivs=nd[nd['Source URLs'].str.contains('arxiv.org')].shape[0]\n",
    "narxivs"
   ]
  },
  {
   "cell_type": "markdown",
   "id": "14fa3119-7a5a-4bee-b428-39581c69a939",
   "metadata": {},
   "source": [
    "Time required in hours"
   ]
  },
  {
   "cell_type": "code",
   "execution_count": 18,
   "id": "0cf7a8b9-57bc-4b4a-a8dc-e17367ae499a",
   "metadata": {},
   "outputs": [
    {
     "data": {
      "text/plain": [
       "5.5473333333333334"
      ]
     },
     "execution_count": 18,
     "metadata": {},
     "output_type": "execute_result"
    }
   ],
   "source": [
    "s=(ndois+narxivs)*3*0.4\n",
    "s/60/60"
   ]
  },
  {
   "cell_type": "markdown",
   "id": "4e0cca44-e14c-4ce6-8db2-42f75b9337db",
   "metadata": {},
   "source": [
    "Scheme: dicts and lists are the same than in INSPIRE-HEP\n",
    "```python\n",
    "{'author_id':str,\n",
    " 'name':dict, #of author\n",
    " 'LA_institution_id':str,\n",
    " 'external_system_identifiers':list, #of institution\n",
    " 'LA_country':str,\n",
    " 'LA_institution':str,\n",
    " 'email_addresses':list, #of author\n",
    " 'positions':list, #of author\n",
    " 'ids':list, #of author\n",
    " 'primary_arxiv_category', list # literature\n",
    " 'Fields of Study': list # in ['Particle physics','Cosmology','Astrophysics','Mathematical physics']\n",
    "}\n",
    "```"
   ]
  },
  {
   "cell_type": "markdown",
   "id": "6bce6c49-cb5c-4b05-88a0-fe7ed5a373e8",
   "metadata": {},
   "source": [
    "Sort by Publication Year to get the last affiliations"
   ]
  },
  {
   "cell_type": "code",
   "execution_count": 19,
   "id": "8b758c08-786c-48f8-9c41-a2c6dfc14771",
   "metadata": {},
   "outputs": [],
   "source": [
    "df=df.sort_values('Publication Year',ascending=False).reset_index(drop=True)"
   ]
  },
  {
   "cell_type": "code",
   "execution_count": 20,
   "id": "34e765e8-0cb4-4948-86ed-ebefd8e17c12",
   "metadata": {},
   "outputs": [
    {
     "data": {
      "text/html": [
       "<div>\n",
       "<style scoped>\n",
       "    .dataframe tbody tr th:only-of-type {\n",
       "        vertical-align: middle;\n",
       "    }\n",
       "\n",
       "    .dataframe tbody tr th {\n",
       "        vertical-align: top;\n",
       "    }\n",
       "\n",
       "    .dataframe thead th {\n",
       "        text-align: right;\n",
       "    }\n",
       "</style>\n",
       "<table border=\"1\" class=\"dataframe\">\n",
       "  <thead>\n",
       "    <tr style=\"text-align: right;\">\n",
       "      <th></th>\n",
       "      <th>Lens ID</th>\n",
       "      <th>Title</th>\n",
       "      <th>Date Published</th>\n",
       "      <th>Publication Year</th>\n",
       "      <th>Publication Type</th>\n",
       "      <th>Source Title</th>\n",
       "      <th>ISSNs</th>\n",
       "      <th>Publisher</th>\n",
       "      <th>Source Country</th>\n",
       "      <th>Author/s</th>\n",
       "      <th>...</th>\n",
       "      <th>Source URLs</th>\n",
       "      <th>External URL</th>\n",
       "      <th>PMID</th>\n",
       "      <th>DOI</th>\n",
       "      <th>Microsoft Academic ID</th>\n",
       "      <th>PMCID</th>\n",
       "      <th>Citing Patents Count</th>\n",
       "      <th>References</th>\n",
       "      <th>Citing Works Count</th>\n",
       "      <th>author_count</th>\n",
       "    </tr>\n",
       "  </thead>\n",
       "  <tbody>\n",
       "    <tr>\n",
       "      <th>0</th>\n",
       "      <td>025-688-286-323-660</td>\n",
       "      <td>Possible Relationship of Meteor Disintegration...</td>\n",
       "      <td>NaN</td>\n",
       "      <td>2022</td>\n",
       "      <td>journal article</td>\n",
       "      <td>Advances in Space Research</td>\n",
       "      <td>02731177; 18791948</td>\n",
       "      <td>Elsevier BV</td>\n",
       "      <td>United Kingdom</td>\n",
       "      <td>A. A. Pimenta; Paulo Batista; Vania Fatima And...</td>\n",
       "      <td>...</td>\n",
       "      <td>https://www.sciencedirect.com/science/article/...</td>\n",
       "      <td>http://dx.doi.org/10.1016/j.asr.2021.11.028</td>\n",
       "      <td>NaN</td>\n",
       "      <td>10.1016/j.asr.2021.11.028</td>\n",
       "      <td>3216041575</td>\n",
       "      <td>NaN</td>\n",
       "      <td>0</td>\n",
       "      <td>001-562-150-814-802; 006-975-738-231-584; 007-...</td>\n",
       "      <td>0</td>\n",
       "      <td>5</td>\n",
       "    </tr>\n",
       "  </tbody>\n",
       "</table>\n",
       "<p>1 rows × 30 columns</p>\n",
       "</div>"
      ],
      "text/plain": [
       "               Lens ID                                              Title  \\\n",
       "0  025-688-286-323-660  Possible Relationship of Meteor Disintegration...   \n",
       "\n",
       "  Date Published  Publication Year Publication Type  \\\n",
       "0            NaN              2022  journal article   \n",
       "\n",
       "                 Source Title               ISSNs    Publisher  \\\n",
       "0  Advances in Space Research  02731177; 18791948  Elsevier BV   \n",
       "\n",
       "   Source Country                                           Author/s  ...  \\\n",
       "0  United Kingdom  A. A. Pimenta; Paulo Batista; Vania Fatima And...  ...   \n",
       "\n",
       "                                         Source URLs  \\\n",
       "0  https://www.sciencedirect.com/science/article/...   \n",
       "\n",
       "                                  External URL PMID  \\\n",
       "0  http://dx.doi.org/10.1016/j.asr.2021.11.028  NaN   \n",
       "\n",
       "                         DOI Microsoft Academic ID PMCID Citing Patents Count  \\\n",
       "0  10.1016/j.asr.2021.11.028            3216041575   NaN                    0   \n",
       "\n",
       "                                          References Citing Works Count  \\\n",
       "0  001-562-150-814-802; 006-975-738-231-584; 007-...                  0   \n",
       "\n",
       "  author_count  \n",
       "0            5  \n",
       "\n",
       "[1 rows x 30 columns]"
      ]
     },
     "execution_count": 20,
     "metadata": {},
     "output_type": "execute_result"
    }
   ],
   "source": [
    "df[:1]"
   ]
  },
  {
   "cell_type": "code",
   "execution_count": 21,
   "id": "ff5577c3-b6bc-4d20-b18c-f0f90180147f",
   "metadata": {},
   "outputs": [
    {
     "name": "stdout",
     "output_type": "stream",
     "text": [
      "Overwriting inspirehep.py\n"
     ]
    }
   ],
   "source": [
    "%%writefile inspirehep.py\n",
    "import time\n",
    "import requests\n",
    "import json\n",
    "\n",
    "global db,db,LA_countries,fields_of_study,sep,sleep\n",
    "LA_countries=( 'Brazil'  , 'Mexico'  , 'Colombia'  , 'Chile'  , 'Argentina'  , 'Ecuador'  , 'Guatemala'  , 'Peru'  ,\n",
    "  'Venezuela'  , 'Uruguay'  , 'Bolivia'  , 'Costa Rica'  , 'Paraguay'  , 'Nicaragua'  , 'Panama'  , 'El Salvador'  , 'Cuba' )\n",
    "fields_of_study={'Particle physics','Cosmology','Astrophysics','Mathematical physics'}\n",
    "sep='arxiv.org/abs/'\n",
    "#From https://github.com/inspirehep/rest-api-doc#rate-limiting\n",
    "#every IP address is allowed 15 requests in a 5s window.\n",
    "sleep=0.4\n",
    "\n",
    "def get_index(db,index='author_id'):\n",
    "    i=0\n",
    "    d_index={}\n",
    "    for d in db:\n",
    "        d_index[ d.get(index) ]=i\n",
    "        i=i+1\n",
    "    return d_index\n",
    "\n",
    "def get_work(db,a,idsLA,idsAU,db_index,FoS,PAC):\n",
    "    \"\"\"\n",
    "    Use author dictionary from INSPIRE-HEP literature API 'authors list, to get author info:\n",
    "    * author_id\n",
    "    * url_author\n",
    "    and update 'Fields of Study' and 'primary_arxiv_category' if author alread in db\n",
    "    \"\"\"\n",
    "    author_id=None\n",
    "    url_author=None        \n",
    "    try:\n",
    "        url_author=a.get('record').get('$ref')\n",
    "    except:\n",
    "        return True,author_id,url_author,FoS,PAC #next author (Not author Profile)\n",
    "    if isinstance(url_author,str):\n",
    "        author_id=url_author.split('/')[-1]\n",
    "    else:\n",
    "        return True,author_id,url_author,FoS,PAC #next author\n",
    "    if author_id in idsAU:\n",
    "        try:\n",
    "            FoS=list(set(db[db_index[author_id]].get('Fields of Study')).union(FoS))\n",
    "            try: #update db\n",
    "                db[db_index[author_id]]['Fields of Study']=FoS\n",
    "            except:\n",
    "                pass\n",
    "        except:\n",
    "            pass\n",
    "        try:\n",
    "            PAC=list(set(db[db_index[author_id]].get('primary_arxiv_category')).union(PAC))\n",
    "            try: #update db\n",
    "                db[db_index[author_id]]['primary_arxiv_category']=PAC\n",
    "            except:\n",
    "                pass                \n",
    "        except:\n",
    "            pass\n",
    "\n",
    "        #print('DEBUG:already there')\n",
    "        return True,author_id,url_author,FoS,PAC #next author\n",
    "    return False,author_id,url_author,FoS,PAC\n",
    "    \n",
    "def get_institutions(db,i,idsLA,idsAU,db_index,FoS,sleep):\n",
    "    \"\"\"\n",
    "    * Use affiliation dictionary from affilitions list of author dictionary to get:\n",
    "     `inst_name`\n",
    "     `inst_url`\n",
    "    * Use INSPIRE-HEP insitution API to get: \n",
    "      `country`\n",
    "      'external_system_identifiers'\n",
    "    \"\"\"\n",
    "    CONTINUE=True\n",
    "    country=None\n",
    "    esi=None\n",
    "    inst_id=None\n",
    "    inst_name=None\n",
    "    try:\n",
    "        inst_name=i.get('value')\n",
    "        inst_url=i.get('record').get('$ref')\n",
    "    except:\n",
    "        #Next institution\n",
    "        return CONTINUE,inst_id,inst_name,country,esi\n",
    "    inst_id=inst_url.split('/')[-1]\n",
    "\n",
    "    if inst_id in idsLA:\n",
    "        #print('DEBUG: Institution already there')\n",
    "        country=[ d.get('LA_country') for d in db \n",
    "                  if d.get('LA_institution_id')==inst_id ][0]                \n",
    "        esi=[ d.get('external_system_identifiers') for d in db \n",
    "                  if d.get('LA_institution_id')==inst_id ][0]\n",
    "        CONTINUE=False\n",
    "        return CONTINUE,inst_id,inst_name,country,esi        \n",
    "    else:\n",
    "        #new institution\n",
    "        time.sleep(sleep)\n",
    "        ri=requests.get(inst_url)\n",
    "        if ri.status_code==200:\n",
    "            di=ri.json()\n",
    "        else:\n",
    "            return CONTINUE,inst_id,inst_name,country,esi\n",
    "\n",
    "        try:\n",
    "            country=di.get('metadata').get('addresses')[0].get('country')\n",
    "        except:\n",
    "            country=None\n",
    "        if country not in LA_countries:\n",
    "            return CONTINUE,inst_id,inst_name,country,esi\n",
    "        else:\n",
    "            #Get insitution metada from inspire\n",
    "            esi=di.get('metadata').get('external_system_identifiers')\n",
    "            if not esi:\n",
    "                esi=[]\n",
    "            CONTINUE=False\n",
    "            return CONTINUE,inst_id,inst_name,country,esi\n",
    "        \n",
    "def get_author(url_author):\n",
    "    \"\"\"\n",
    "    Get author profile from INSPIRE-HEP author API\n",
    "    \"\"\"\n",
    "    if isinstance(url_author,str):\n",
    "        time.sleep(sleep)\n",
    "        epa=requests.get(url_author)\n",
    "\n",
    "    if epa.status_code==200:\n",
    "        epa=epa.json()\n",
    "\n",
    "    positions=epa.get('metadata').get('positions')\n",
    "    if not positions:\n",
    "        positions=[]\n",
    "\n",
    "    email_addresses=epa.get('metadata').get('email_addresses')\n",
    "\n",
    "    if not email_addresses:\n",
    "        email_addresses=[]\n",
    "\n",
    "    name=epa.get('metadata').get('name')\n",
    "    if not name:\n",
    "        name={}\n",
    "\n",
    "    aids=epa.get('metadata').get('ids')\n",
    "    if not aids:\n",
    "        aids=[]\n",
    "    return positions,email_addresses,name,aids            "
   ]
  },
  {
   "cell_type": "code",
   "execution_count": 22,
   "id": "60c700e6-4e0c-4abe-b490-9c41e846040b",
   "metadata": {},
   "outputs": [],
   "source": [
    "from inspirehep import *"
   ]
  },
  {
   "cell_type": "code",
   "execution_count": 26,
   "id": "dc1ff676-343b-4523-8eaa-fccee1ad5c36",
   "metadata": {},
   "outputs": [],
   "source": [
    "db=[]"
   ]
  },
  {
   "cell_type": "code",
   "execution_count": 29,
   "id": "4a204d67-2f82-45e4-b761-782bd05b3913",
   "metadata": {},
   "outputs": [],
   "source": [
    "istart=356#6308"
   ]
  },
  {
   "cell_type": "markdown",
   "id": "f68a5cc9-4864-425a-96a4-fc427fbacb7c",
   "metadata": {},
   "source": [
    "### INSPIRE-HEP APIs:\n",
    "For each DOI or arXiv identifier:\n",
    "* (1) From literature API→ get authors info\n",
    "    * `if` author info not already in db `for` each author:\n",
    "        * (2) institution API → get institutions info\n",
    "            * `if` institution is from Latin America `for` each one of the author's institutions:\n",
    "                * (3) author API → get author profile\n",
    "  * `else` autor already in db: update `'Field of Study'` and `'primary_arXiv_category'`"
   ]
  },
  {
   "cell_type": "code",
   "execution_count": null,
   "id": "af85b7c2-5847-49a7-8e2a-c8def1dc14ac",
   "metadata": {},
   "outputs": [],
   "source": [
    "len_db_old=0\n",
    "store=1000\n",
    "for ii,ir in df[istart:].iterrows():\n",
    "    print(ii,end='\\r')\n",
    "    ii=ii+1\n",
    "    #=================================\n",
    "    if ii>0 and ii%store==0 and len(db)!=len_db_old:\n",
    "        len_db_old=len(db)\n",
    "        print('')\n",
    "        print(f'{ii} → db_LA.json updated with size: {len(db)}')\n",
    "        f=open('db_LA.json','w')\n",
    "        json.dump(db,f)\n",
    "        f.close()    \n",
    "    #==================================\n",
    "    #UPDATE LISTS\n",
    "    if db:\n",
    "        idsLA=[d.get('LA_institution_id') for d in db]\n",
    "        idsAU=[d.get('author_id') for d in db]\n",
    "        db_index=get_index(db)\n",
    "    else:\n",
    "        idsLA=[]\n",
    "        idsAU=[]\n",
    "        db_index={}\n",
    "    if isinstance(ir.DOI,str):\n",
    "        q=[ 'doi',ir.DOI ]\n",
    "    elif isinstance(ir['Source URLs'],str) and ir['Source URLs'].find(sep)>-1:\n",
    "        q=[ 'arXiv',ir['Source URLs'].split(sep)[-1].split()[0] ]\n",
    "    else:\n",
    "        continue\n",
    "    FoS=list(fields_of_study.intersection( ir['Fields of Study'].split('; ')  ) )\n",
    "    time.sleep(sleep)\n",
    "    #(1) literature API\n",
    "    liteapi=f'https://inspirehep.net/api/literature?q={q[0]}:{q[1]}'\n",
    "    r=requests.get(liteapi)\n",
    "    if r.status_code==200:\n",
    "        d=r.json()\n",
    "    else:\n",
    "        continue #Next doi or arXiv:id\n",
    "\n",
    "    #authors...    \n",
    "    l=d.get('hits').get('hits')\n",
    "    if isinstance(l,list) and len(l)==1: #OK → Unique result\n",
    "        lit=l[0].get('metadata')\n",
    "        if lit.get('author_count')>10: #collaboration papers need to be analyzed separately\n",
    "            continue #Next doi or arXiv:id\n",
    "        la=lit.get('authors')\n",
    "        try:\n",
    "            PAC=lit['primary_arxiv_category']\n",
    "        except:\n",
    "            PAC=[]        \n",
    "    else:\n",
    "        #print(f'WARNING: {q} ignored by hits or wrong count')\n",
    "        continue #Next doi or arXiv:id\n",
    "\n",
    "    for a in la:\n",
    "        CONTINUE,author_id,url_author,FoS,PAC,db=get_work(db,a,idsLA,idsAU,db_index,FoS,PAC)\n",
    "        if CONTINUE:\n",
    "            continue #Next author\n",
    "        #affiliations... → LA required\n",
    "        li=a.get('affiliations')\n",
    "        if not li:\n",
    "            continue #Next author\n",
    "        for i in li:\n",
    "            #(2) institutions API\n",
    "            CONTINUE,inst_id,inst_name,country,esi=get_institutions(db,i,idsLA,idsAU,db_index,FoS,sleep)\n",
    "            if CONTINUE: #Not LA institutiion\n",
    "                continue #next institution\n",
    "            #(3) author API\n",
    "            positions,email_addresses,name,aids=get_author(url_author)\n",
    "            db.append(\n",
    "                {'author_id':author_id,\n",
    "                 'name':name,\n",
    "                 'LA_institution_id':inst_id,\n",
    "                 'external_system_identifiers':esi,\n",
    "                 'LA_country':country,\n",
    "                 'LA_institution':inst_name,\n",
    "                 'email_addresses':email_addresses,\n",
    "                 'positions':positions,\n",
    "                 'ids':aids,\n",
    "                 'primary_arxiv_category':PAC,\n",
    "                 'Fields of Study': FoS # in ['Particle physics','Cosmology','Astrophysics','Mathematical physics']\n",
    "                }\n",
    "            )\n",
    "    #break"
   ]
  },
  {
   "cell_type": "markdown",
   "id": "4c31afbf-d0f7-4a6d-b1ef-5e44c0e5b039",
   "metadata": {},
   "source": [
    "## Search for collaborations\n",
    "* https://inspirehep.net/literature?sort=mostrecent&q=ac%3E10\n",
    "* Search athors from db and get check if institution is froma LA\n",
    "\n",
    "### [collaborations.ipynb](./collaborations.ipynb)"
   ]
  },
  {
   "cell_type": "markdown",
   "id": "0a645a65-488b-4469-85fd-b9cd0eccc789",
   "metadata": {},
   "source": [
    "## Other countries\n",
    "https://inspirehep.net/institutions?sort=mostrecent&size=25&page=1&q=Dominican+Republic"
   ]
  },
  {
   "cell_type": "markdown",
   "id": "be32fbd0-6afc-410d-ba8a-79a2b2828918",
   "metadata": {},
   "source": [
    "## Load database and simplify fields"
   ]
  },
  {
   "cell_type": "code",
   "execution_count": 182,
   "id": "0943f2cd-f8ef-4e5e-929b-19b5abb414b9",
   "metadata": {},
   "outputs": [],
   "source": [
    "import pandas as pd"
   ]
  },
  {
   "cell_type": "code",
   "execution_count": 183,
   "id": "618e3f88-0e61-4838-b1f8-c5bf19aa7cbe",
   "metadata": {},
   "outputs": [],
   "source": [
    "df=pd.read_json('data/db_LA.json',dtype={'author_id':str, 'LA_institution_id':str})"
   ]
  },
  {
   "cell_type": "code",
   "execution_count": 184,
   "id": "6df6e474-b0f5-41b5-b928-b5e54605f333",
   "metadata": {},
   "outputs": [
    {
     "data": {
      "text/plain": [
       "(2761, 11)"
      ]
     },
     "execution_count": 184,
     "metadata": {},
     "output_type": "execute_result"
    }
   ],
   "source": [
    "df.shape"
   ]
  },
  {
   "cell_type": "code",
   "execution_count": 185,
   "id": "a8752d04-cb99-4dbd-97eb-190093ab2889",
   "metadata": {},
   "outputs": [],
   "source": [
    "df=df[df['email_addresses'].apply(len)>0].reset_index(drop=True)"
   ]
  },
  {
   "cell_type": "code",
   "execution_count": 186,
   "id": "6596e71d-9604-4ff3-b9d0-c1551f1d2095",
   "metadata": {},
   "outputs": [
    {
     "data": {
      "text/plain": [
       "(1672, 11)"
      ]
     },
     "execution_count": 186,
     "metadata": {},
     "output_type": "execute_result"
    }
   ],
   "source": [
    "df.shape"
   ]
  },
  {
   "cell_type": "code",
   "execution_count": 187,
   "id": "78c7579f-a528-41dd-8f47-f60435ae0239",
   "metadata": {},
   "outputs": [
    {
     "data": {
      "text/plain": [
       "(1473,)"
      ]
     },
     "execution_count": 187,
     "metadata": {},
     "output_type": "execute_result"
    }
   ],
   "source": [
    "df['author_id'].drop_duplicates().shape"
   ]
  },
  {
   "cell_type": "code",
   "execution_count": 188,
   "id": "d086992e-aa4c-4b85-b095-0867dac0f2d2",
   "metadata": {},
   "outputs": [],
   "source": [
    "df['full_name']=df['name'].str.get('value')"
   ]
  },
  {
   "cell_type": "code",
   "execution_count": 189,
   "id": "0ce222bd-083c-416e-b8b6-f3e886ddb2ef",
   "metadata": {},
   "outputs": [],
   "source": [
    "def get_email(l):\n",
    "    current=False\n",
    "    for d in l:\n",
    "        if d.get('current'):\n",
    "            email=d.get('value')\n",
    "            current=True\n",
    "    if l and not current:\n",
    "        email=l[0].get('value')\n",
    "    return email"
   ]
  },
  {
   "cell_type": "code",
   "execution_count": 190,
   "id": "b6a30196-92f6-4204-892e-f9f6934c197f",
   "metadata": {},
   "outputs": [],
   "source": [
    "df['email']=df['email_addresses'].apply(get_email)"
   ]
  },
  {
   "cell_type": "code",
   "execution_count": 191,
   "id": "4b6cfbb2-6960-4e67-8383-9b5c01a26369",
   "metadata": {},
   "outputs": [],
   "source": [
    "df['current_position']=df['positions'].apply(lambda l: [d.get('rank') for d in l if d.get('rank') and d.get('current')]).str[0].fillna('Unknown')"
   ]
  },
  {
   "cell_type": "code",
   "execution_count": 192,
   "id": "32c033a1-be36-42bd-bebd-0ee45bdd76bf",
   "metadata": {},
   "outputs": [
    {
     "data": {
      "text/plain": [
       "Index(['author_id', 'name', 'LA_institution_id', 'external_system_identifiers',\n",
       "       'LA_country', 'LA_institution', 'email_addresses', 'positions', 'ids',\n",
       "       'primary_arxiv_category', 'Fields of Study', 'full_name', 'email',\n",
       "       'current_position'],\n",
       "      dtype='object')"
      ]
     },
     "execution_count": 192,
     "metadata": {},
     "output_type": "execute_result"
    }
   ],
   "source": [
    "df.columns"
   ]
  },
  {
   "cell_type": "code",
   "execution_count": 193,
   "id": "aad115dd-2070-40ce-be15-c1f68b13a373",
   "metadata": {},
   "outputs": [],
   "source": [
    "def get_institution(row):\n",
    "    instituion=''\n",
    "    l=[d.get('institution') for d in row.get('positions') if d.get('rank') and d.get('current')]\n",
    "    if l:\n",
    "        instituion=l[0]\n",
    "    else:\n",
    "        instituion=row.get('LA_institution')\n",
    "    return instituion"
   ]
  },
  {
   "cell_type": "code",
   "execution_count": 194,
   "id": "f97d7f87-ff50-47e3-9a18-ceef37970f1e",
   "metadata": {},
   "outputs": [],
   "source": [
    "df['current_institution']=df.apply(get_institution, axis='columns')"
   ]
  },
  {
   "cell_type": "code",
   "execution_count": 195,
   "id": "29a946bf-e03b-48f3-9b9c-0f317ec74883",
   "metadata": {},
   "outputs": [],
   "source": [
    "df['ORCID']=df['ids'].apply(lambda l: [d.get('value') for d in l if d.get('schema')=='ORCID']).str[0].fillna('')"
   ]
  },
  {
   "cell_type": "code",
   "execution_count": 196,
   "id": "09a3d6ce-b65f-487d-b1a6-1bb0f781af15",
   "metadata": {
    "tags": []
   },
   "outputs": [],
   "source": [
    "df['Fields_of_Study']=df['Fields of Study'].apply(lambda l: '; '.join(l))"
   ]
  },
  {
   "cell_type": "code",
   "execution_count": 197,
   "id": "52b25b0a-c7b3-4fbf-b6e5-02d0128dcce9",
   "metadata": {},
   "outputs": [],
   "source": [
    "df['primary_arXiv_category']=df['primary_arxiv_category'].apply(lambda l: '; '.join(l))"
   ]
  },
  {
   "cell_type": "code",
   "execution_count": 198,
   "id": "8e417ca4-57a1-4365-b200-fbfd5a28e744",
   "metadata": {},
   "outputs": [],
   "source": [
    "pd.set_option('display.max_rows', 50)"
   ]
  },
  {
   "cell_type": "code",
   "execution_count": 199,
   "id": "2a7d1b7d-e7a8-4392-a29c-904f35c8da05",
   "metadata": {},
   "outputs": [
    {
     "data": {
      "text/html": [
       "<div>\n",
       "<style scoped>\n",
       "    .dataframe tbody tr th:only-of-type {\n",
       "        vertical-align: middle;\n",
       "    }\n",
       "\n",
       "    .dataframe tbody tr th {\n",
       "        vertical-align: top;\n",
       "    }\n",
       "\n",
       "    .dataframe thead th {\n",
       "        text-align: right;\n",
       "    }\n",
       "</style>\n",
       "<table border=\"1\" class=\"dataframe\">\n",
       "  <thead>\n",
       "    <tr style=\"text-align: right;\">\n",
       "      <th></th>\n",
       "      <th>author_id</th>\n",
       "      <th>name</th>\n",
       "      <th>LA_institution_id</th>\n",
       "      <th>external_system_identifiers</th>\n",
       "      <th>LA_country</th>\n",
       "      <th>LA_institution</th>\n",
       "      <th>email_addresses</th>\n",
       "      <th>positions</th>\n",
       "      <th>ids</th>\n",
       "      <th>primary_arxiv_category</th>\n",
       "      <th>Fields of Study</th>\n",
       "      <th>full_name</th>\n",
       "      <th>email</th>\n",
       "      <th>current_position</th>\n",
       "      <th>current_institution</th>\n",
       "      <th>ORCID</th>\n",
       "      <th>Fields_of_Study</th>\n",
       "      <th>primary_arXiv_category</th>\n",
       "    </tr>\n",
       "  </thead>\n",
       "  <tbody>\n",
       "    <tr>\n",
       "      <th>0</th>\n",
       "      <td>1051173</td>\n",
       "      <td>{'value': 'Pedraza, Omar', 'preferred_name': '...</td>\n",
       "      <td>909015</td>\n",
       "      <td>[{'value': 'grid.412866.f', 'schema': 'GRID'},...</td>\n",
       "      <td>Mexico</td>\n",
       "      <td>UAEH, Pachuca</td>\n",
       "      <td>[{'value': 'omarp@uaeh.edu.mx', 'current': True}]</td>\n",
       "      <td>[{'record': {'$ref': 'https://inspirehep.net/a...</td>\n",
       "      <td>[{'value': 'O.Pedraza.1', 'schema': 'INSPIRE B...</td>\n",
       "      <td>[gr-qc]</td>\n",
       "      <td>[Particle physics, Mathematical physics]</td>\n",
       "      <td>Pedraza, Omar</td>\n",
       "      <td>omarp@uaeh.edu.mx</td>\n",
       "      <td>Unknown</td>\n",
       "      <td>UAEH, Pachuca</td>\n",
       "      <td>0000-0002-0260-0910</td>\n",
       "      <td>Particle physics; Mathematical physics</td>\n",
       "      <td>gr-qc</td>\n",
       "    </tr>\n",
       "    <tr>\n",
       "      <th>1</th>\n",
       "      <td>1008027</td>\n",
       "      <td>{'value': 'Gonçalves, Victor Paulo Barros', 'n...</td>\n",
       "      <td>907173</td>\n",
       "      <td>[{'value': 'grid.411221.5', 'schema': 'GRID'},...</td>\n",
       "      <td>Brazil</td>\n",
       "      <td>Pelotas U.</td>\n",
       "      <td>[{'value': 'barros@ufpel.edu.br', 'current': T...</td>\n",
       "      <td>[{'rank': 'STAFF', 'record': {'$ref': 'https:/...</td>\n",
       "      <td>[{'value': '0000-0003-4943-9973', 'schema': 'O...</td>\n",
       "      <td>[hep-ph, hep-lat, astro-ph.HE, gr-qc, math-ph,...</td>\n",
       "      <td>[Particle physics, Mathematical physics, Astro...</td>\n",
       "      <td>Gonçalves, Victor Paulo Barros</td>\n",
       "      <td>barros@ufpel.edu.br</td>\n",
       "      <td>STAFF</td>\n",
       "      <td>Pelotas U.</td>\n",
       "      <td>0000-0003-4943-9973</td>\n",
       "      <td>Particle physics; Mathematical physics; Astrop...</td>\n",
       "      <td>hep-ph; hep-lat; astro-ph.HE; gr-qc; math-ph; ...</td>\n",
       "    </tr>\n",
       "    <tr>\n",
       "      <th>2</th>\n",
       "      <td>1079084</td>\n",
       "      <td>{'value': 'Cottin Buracchio, Giovanna Francesc...</td>\n",
       "      <td>910504</td>\n",
       "      <td>[{'value': 'grid.440617.0', 'schema': 'GRID'},...</td>\n",
       "      <td>Chile</td>\n",
       "      <td>Adolfo Ibanez U.</td>\n",
       "      <td>[{'value': 'giovanna.cottin@uai.cl'}, {'value'...</td>\n",
       "      <td>[{'rank': 'JUNIOR', 'hidden': False, 'record':...</td>\n",
       "      <td>[{'value': '0000-0002-5308-5808', 'schema': 'O...</td>\n",
       "      <td>[hep-ph, hep-ex]</td>\n",
       "      <td>[Particle physics]</td>\n",
       "      <td>Cottin Buracchio, Giovanna Francesca</td>\n",
       "      <td>giovanna.cottin@uai.cl</td>\n",
       "      <td>JUNIOR</td>\n",
       "      <td>Adolfo Ibanez U.</td>\n",
       "      <td>0000-0002-5308-5808</td>\n",
       "      <td>Particle physics</td>\n",
       "      <td>hep-ph; hep-ex</td>\n",
       "    </tr>\n",
       "    <tr>\n",
       "      <th>3</th>\n",
       "      <td>997820</td>\n",
       "      <td>{'value': 'Mendez, A.', 'preferred_name': 'A. ...</td>\n",
       "      <td>904336</td>\n",
       "      <td>[{'value': 'grid.7870.8', 'schema': 'GRID'}, {...</td>\n",
       "      <td>Chile</td>\n",
       "      <td>Chile U., Catolica</td>\n",
       "      <td>[{'value': 'mendez@ifae.es', 'current': True}]</td>\n",
       "      <td>[{'record': {'$ref': 'https://inspirehep.net/a...</td>\n",
       "      <td>[{'value': 'A.Mendez.1', 'schema': 'INSPIRE BA...</td>\n",
       "      <td>[hep-ph]</td>\n",
       "      <td>[Particle physics]</td>\n",
       "      <td>Mendez, A.</td>\n",
       "      <td>mendez@ifae.es</td>\n",
       "      <td>Unknown</td>\n",
       "      <td>Chile U., Catolica</td>\n",
       "      <td></td>\n",
       "      <td>Particle physics</td>\n",
       "      <td>hep-ph</td>\n",
       "    </tr>\n",
       "  </tbody>\n",
       "</table>\n",
       "</div>"
      ],
      "text/plain": [
       "  author_id                                               name  \\\n",
       "0   1051173  {'value': 'Pedraza, Omar', 'preferred_name': '...   \n",
       "1   1008027  {'value': 'Gonçalves, Victor Paulo Barros', 'n...   \n",
       "2   1079084  {'value': 'Cottin Buracchio, Giovanna Francesc...   \n",
       "3    997820  {'value': 'Mendez, A.', 'preferred_name': 'A. ...   \n",
       "\n",
       "  LA_institution_id                        external_system_identifiers  \\\n",
       "0            909015  [{'value': 'grid.412866.f', 'schema': 'GRID'},...   \n",
       "1            907173  [{'value': 'grid.411221.5', 'schema': 'GRID'},...   \n",
       "2            910504  [{'value': 'grid.440617.0', 'schema': 'GRID'},...   \n",
       "3            904336  [{'value': 'grid.7870.8', 'schema': 'GRID'}, {...   \n",
       "\n",
       "  LA_country      LA_institution  \\\n",
       "0     Mexico       UAEH, Pachuca   \n",
       "1     Brazil          Pelotas U.   \n",
       "2      Chile    Adolfo Ibanez U.   \n",
       "3      Chile  Chile U., Catolica   \n",
       "\n",
       "                                     email_addresses  \\\n",
       "0  [{'value': 'omarp@uaeh.edu.mx', 'current': True}]   \n",
       "1  [{'value': 'barros@ufpel.edu.br', 'current': T...   \n",
       "2  [{'value': 'giovanna.cottin@uai.cl'}, {'value'...   \n",
       "3     [{'value': 'mendez@ifae.es', 'current': True}]   \n",
       "\n",
       "                                           positions  \\\n",
       "0  [{'record': {'$ref': 'https://inspirehep.net/a...   \n",
       "1  [{'rank': 'STAFF', 'record': {'$ref': 'https:/...   \n",
       "2  [{'rank': 'JUNIOR', 'hidden': False, 'record':...   \n",
       "3  [{'record': {'$ref': 'https://inspirehep.net/a...   \n",
       "\n",
       "                                                 ids  \\\n",
       "0  [{'value': 'O.Pedraza.1', 'schema': 'INSPIRE B...   \n",
       "1  [{'value': '0000-0003-4943-9973', 'schema': 'O...   \n",
       "2  [{'value': '0000-0002-5308-5808', 'schema': 'O...   \n",
       "3  [{'value': 'A.Mendez.1', 'schema': 'INSPIRE BA...   \n",
       "\n",
       "                              primary_arxiv_category  \\\n",
       "0                                            [gr-qc]   \n",
       "1  [hep-ph, hep-lat, astro-ph.HE, gr-qc, math-ph,...   \n",
       "2                                   [hep-ph, hep-ex]   \n",
       "3                                           [hep-ph]   \n",
       "\n",
       "                                     Fields of Study  \\\n",
       "0           [Particle physics, Mathematical physics]   \n",
       "1  [Particle physics, Mathematical physics, Astro...   \n",
       "2                                 [Particle physics]   \n",
       "3                                 [Particle physics]   \n",
       "\n",
       "                              full_name                   email  \\\n",
       "0                         Pedraza, Omar       omarp@uaeh.edu.mx   \n",
       "1        Gonçalves, Victor Paulo Barros     barros@ufpel.edu.br   \n",
       "2  Cottin Buracchio, Giovanna Francesca  giovanna.cottin@uai.cl   \n",
       "3                            Mendez, A.          mendez@ifae.es   \n",
       "\n",
       "  current_position current_institution                ORCID  \\\n",
       "0          Unknown       UAEH, Pachuca  0000-0002-0260-0910   \n",
       "1            STAFF          Pelotas U.  0000-0003-4943-9973   \n",
       "2           JUNIOR    Adolfo Ibanez U.  0000-0002-5308-5808   \n",
       "3          Unknown  Chile U., Catolica                        \n",
       "\n",
       "                                     Fields_of_Study  \\\n",
       "0             Particle physics; Mathematical physics   \n",
       "1  Particle physics; Mathematical physics; Astrop...   \n",
       "2                                   Particle physics   \n",
       "3                                   Particle physics   \n",
       "\n",
       "                              primary_arXiv_category  \n",
       "0                                              gr-qc  \n",
       "1  hep-ph; hep-lat; astro-ph.HE; gr-qc; math-ph; ...  \n",
       "2                                     hep-ph; hep-ex  \n",
       "3                                             hep-ph  "
      ]
     },
     "execution_count": 199,
     "metadata": {},
     "output_type": "execute_result"
    }
   ],
   "source": [
    "df[:4]"
   ]
  },
  {
   "cell_type": "code",
   "execution_count": 200,
   "id": "3ca8e1e5-0b53-4857-867e-fe6e6b610122",
   "metadata": {},
   "outputs": [],
   "source": [
    "dfx=df[['author_id', 'full_name', 'email','LA_institution_id', \n",
    "       'LA_country', 'LA_institution', 'current_institution',  'current_position', 'ORCID',\n",
    "       'Fields_of_Study','primary_arXiv_category']]\n",
    "dfx.to_csv('data/db_LA.csv',index=False)\n",
    "dfx.to_excel('data/db_LA.xlsx',index=False)"
   ]
  },
  {
   "cell_type": "code",
   "execution_count": 271,
   "id": "53c49e8b-13c6-49cb-a1f0-ce1abcedce24",
   "metadata": {},
   "outputs": [
    {
     "data": {
      "text/plain": [
       "{'author_id': '991245',\n",
       " 'full_name': 'Rosenfeld, Rogerio',\n",
       " 'email': 'rosenfel@ift.unesp.br',\n",
       " 'LA_institution_id': '1373228',\n",
       " 'LA_country': 'Brazil',\n",
       " 'LA_institution': 'LIneA, Rio de Janeiro',\n",
       " 'current_institution': 'Sao Paulo, IFT',\n",
       " 'current_position': 'SENIOR',\n",
       " 'ORCID': '',\n",
       " 'Fields_of_Study': 'Particle physics; Mathematical physics; Astrophysics; Cosmology',\n",
       " 'primary_arXiv_category': 'hep-ph; gr-qc; astro-ph.CO'}"
      ]
     },
     "execution_count": 271,
     "metadata": {},
     "output_type": "execute_result"
    }
   ],
   "source": [
    "#\n",
    "dfx[dfx.full_name.str.contains('Rosenfeld')].iloc[-1].to_dict()\n",
    "#dfx[dfx.full_name.str.contains('Peres')].to_"
   ]
  },
  {
   "cell_type": "code",
   "execution_count": 291,
   "id": "4834862f-48eb-4750-9afa-422da5ca9c03",
   "metadata": {},
   "outputs": [],
   "source": [
    "df=pd.read_json('db_LA.json')"
   ]
  },
  {
   "cell_type": "code",
   "execution_count": 292,
   "id": "66bccae2-cd50-4fca-8fa8-e837516d4773",
   "metadata": {},
   "outputs": [
    {
     "data": {
      "text/plain": [
       "(3027, 11)"
      ]
     },
     "execution_count": 292,
     "metadata": {},
     "output_type": "execute_result"
    }
   ],
   "source": [
    "df.shape"
   ]
  },
  {
   "cell_type": "code",
   "execution_count": 293,
   "id": "4e07c945-8b8d-404e-999c-ae28b1e18721",
   "metadata": {},
   "outputs": [],
   "source": [
    "from IPython import display"
   ]
  },
  {
   "cell_type": "code",
   "execution_count": 294,
   "id": "0817cc9f-0c44-4e91-94d7-573891beeba3",
   "metadata": {},
   "outputs": [
    {
     "data": {
      "application/json": {
       "Fields of Study": [
        "Mathematical physics",
        "Cosmology",
        "DES",
        "Astrophysics",
        "Particle physics"
       ],
       "LA_country": "Brazil",
       "LA_institution": "LIneA, Rio de Janeiro",
       "LA_institution_id": 1373228,
       "author_id": 991245,
       "email_addresses": [
        {
         "current": true,
         "value": "rosenfel@ift.unesp.br"
        }
       ],
       "external_system_identifiers": [],
       "ids": [
        {
         "schema": "INSPIRE BAI",
         "value": "R.Rosenfeld.1"
        },
        {
         "schema": "CERN",
         "value": "CERN-668579"
        },
        {
         "schema": "INSPIRE ID",
         "value": "INSPIRE-00240549"
        },
        {
         "schema": "SPIRES",
         "value": "HEPNAMES-105082"
        }
       ],
       "name": {
        "preferred_name": "Rogerio Rosenfeld",
        "value": "Rosenfeld, Rogerio"
       },
       "positions": [
        {
         "curated_relation": true,
         "current": true,
         "institution": "LIneA, Rio de Janeiro",
         "record": {
          "$ref": "https://inspirehep.net/api/institutions/1373228"
         }
        },
        {
         "curated_relation": true,
         "current": true,
         "institution": "Sao Paulo, IFT",
         "rank": "SENIOR",
         "record": {
          "$ref": "https://inspirehep.net/api/institutions/903185"
         }
        },
        {
         "curated_relation": true,
         "end_date": "1994",
         "institution": "Northeastern U.",
         "record": {
          "$ref": "https://inspirehep.net/api/institutions/903081"
         },
         "start_date": "1992"
        },
        {
         "curated_relation": true,
         "end_date": "1992",
         "institution": "UCLA",
         "rank": "POSTDOC",
         "record": {
          "$ref": "https://inspirehep.net/api/institutions/903303"
         },
         "start_date": "1990"
        },
        {
         "curated_relation": true,
         "end_date": "1990",
         "institution": "Chicago U.",
         "rank": "PHD",
         "record": {
          "$ref": "https://inspirehep.net/api/institutions/902729"
         },
         "start_date": "1985"
        }
       ],
       "primary_arxiv_category": [
        "hep-ph",
        "astro-ph.CO",
        "gr-qc"
       ]
      },
      "text/plain": [
       "<IPython.core.display.JSON object>"
      ]
     },
     "execution_count": 294,
     "metadata": {
      "application/json": {
       "expanded": false,
       "root": "root"
      }
     },
     "output_type": "execute_result"
    }
   ],
   "source": [
    "display.JSON( df[df['author_id']==991245].iloc[-1].to_dict() )"
   ]
  },
  {
   "cell_type": "code",
   "execution_count": 295,
   "id": "92680660-f849-467d-9bed-cb1cdae2b62c",
   "metadata": {},
   "outputs": [
    {
     "data": {
      "text/html": [
       "<div>\n",
       "<style scoped>\n",
       "    .dataframe tbody tr th:only-of-type {\n",
       "        vertical-align: middle;\n",
       "    }\n",
       "\n",
       "    .dataframe tbody tr th {\n",
       "        vertical-align: top;\n",
       "    }\n",
       "\n",
       "    .dataframe thead th {\n",
       "        text-align: right;\n",
       "    }\n",
       "</style>\n",
       "<table border=\"1\" class=\"dataframe\">\n",
       "  <thead>\n",
       "    <tr style=\"text-align: right;\">\n",
       "      <th></th>\n",
       "      <th>author_id</th>\n",
       "      <th>name</th>\n",
       "      <th>LA_institution_id</th>\n",
       "      <th>external_system_identifiers</th>\n",
       "      <th>LA_country</th>\n",
       "      <th>LA_institution</th>\n",
       "      <th>email_addresses</th>\n",
       "      <th>positions</th>\n",
       "      <th>ids</th>\n",
       "      <th>primary_arxiv_category</th>\n",
       "      <th>Fields of Study</th>\n",
       "    </tr>\n",
       "  </thead>\n",
       "  <tbody>\n",
       "    <tr>\n",
       "      <th>3007</th>\n",
       "      <td>989075</td>\n",
       "      <td>{'value': 'Shellard, Ronald Cintra', 'preferre...</td>\n",
       "      <td>903158</td>\n",
       "      <td>[{'value': 'grid.418228.5', 'schema': 'GRID'},...</td>\n",
       "      <td>Brazil</td>\n",
       "      <td>Rio de Janeiro, CBPF</td>\n",
       "      <td>[{'value': 'shellard@cbpf.br', 'current': True}]</td>\n",
       "      <td>[{'rank': 'SENIOR', 'record': {'$ref': 'https:...</td>\n",
       "      <td>[{'value': '0000-0002-2983-1815', 'schema': 'O...</td>\n",
       "      <td>[astro-ph.HE]</td>\n",
       "      <td>[CTA Consortium]</td>\n",
       "    </tr>\n",
       "    <tr>\n",
       "      <th>3008</th>\n",
       "      <td>1049216</td>\n",
       "      <td>{'value': 'Vázquez-Jáuregui, Eric', 'name_vari...</td>\n",
       "      <td>903003</td>\n",
       "      <td>[{'value': 'grid.9486.3', 'schema': 'GRID'}, {...</td>\n",
       "      <td>Mexico</td>\n",
       "      <td>Mexico U.</td>\n",
       "      <td>[{'value': 'ericvj@fisica.unam.mx', 'current':...</td>\n",
       "      <td>[{'rank': 'JUNIOR', 'record': {'$ref': 'https:...</td>\n",
       "      <td>[{'value': '0000-0003-4195-0961', 'schema': 'O...</td>\n",
       "      <td>[physics.ins-det]</td>\n",
       "      <td>[SNO+]</td>\n",
       "    </tr>\n",
       "    <tr>\n",
       "      <th>3009</th>\n",
       "      <td>1049216</td>\n",
       "      <td>{'value': 'Vázquez-Jáuregui, Eric', 'name_vari...</td>\n",
       "      <td>903003</td>\n",
       "      <td>[{'value': 'grid.9486.3', 'schema': 'GRID'}, {...</td>\n",
       "      <td>Mexico</td>\n",
       "      <td>Mexico U.</td>\n",
       "      <td>[{'value': 'ericvj@fisica.unam.mx', 'current':...</td>\n",
       "      <td>[{'rank': 'JUNIOR', 'record': {'$ref': 'https:...</td>\n",
       "      <td>[{'value': '0000-0003-4195-0961', 'schema': 'O...</td>\n",
       "      <td>[physics.ins-det]</td>\n",
       "      <td>[DEAP]</td>\n",
       "    </tr>\n",
       "    <tr>\n",
       "      <th>3010</th>\n",
       "      <td>1858300</td>\n",
       "      <td>{'value': 'Zuñiga Reyes, Ariel', 'name_variant...</td>\n",
       "      <td>908050</td>\n",
       "      <td>[{'value': 'grid.9486.3', 'schema': 'GRID'}, {...</td>\n",
       "      <td>Mexico</td>\n",
       "      <td>UNAM, Inst. Astron.</td>\n",
       "      <td>[]</td>\n",
       "      <td>[{'rank': 'PHD', 'record': {'$ref': 'https://i...</td>\n",
       "      <td>[{'value': '0000-0003-4972-5611', 'schema': 'O...</td>\n",
       "      <td>[physics.ins-det]</td>\n",
       "      <td>[DEAP]</td>\n",
       "    </tr>\n",
       "    <tr>\n",
       "      <th>3011</th>\n",
       "      <td>987065</td>\n",
       "      <td>{'value': 'Suzuki, Alfredo Takashi', 'preferre...</td>\n",
       "      <td>903185</td>\n",
       "      <td>[{'value': 'grid.11899.38', 'schema': 'GRID'},...</td>\n",
       "      <td>Brazil</td>\n",
       "      <td>Sao Paulo, IFT</td>\n",
       "      <td>[{'value': 'suzuki@ift.unesp.br', 'current': T...</td>\n",
       "      <td>[{'record': {'$ref': 'https://inspirehep.net/a...</td>\n",
       "      <td>[{'value': 'A.T.Suzuki.1', 'schema': 'INSPIRE ...</td>\n",
       "      <td>[hep-ex]</td>\n",
       "      <td>[T2K]</td>\n",
       "    </tr>\n",
       "    <tr>\n",
       "      <th>3012</th>\n",
       "      <td>1051450</td>\n",
       "      <td>{'value': 'Martinez Bravo, Oscar Mario', 'pref...</td>\n",
       "      <td>904394</td>\n",
       "      <td>[{'value': 'grid.411659.e', 'schema': 'GRID'},...</td>\n",
       "      <td>Mexico</td>\n",
       "      <td>Puebla U., Mexico</td>\n",
       "      <td>[{'value': 'omartin@fcfm.buap.mx', 'current': ...</td>\n",
       "      <td>[{'record': {'$ref': 'https://inspirehep.net/a...</td>\n",
       "      <td>[{'value': '0000-0001-9052-856X', 'schema': 'O...</td>\n",
       "      <td>[astro-ph.HE]</td>\n",
       "      <td>[CTA]</td>\n",
       "    </tr>\n",
       "    <tr>\n",
       "      <th>3013</th>\n",
       "      <td>1071070</td>\n",
       "      <td>{'value': 'Romeo, Gaston L.', 'name_variants':...</td>\n",
       "      <td>902701</td>\n",
       "      <td>[{'value': 'grid.7345.5', 'schema': 'GRID'}, {...</td>\n",
       "      <td>Argentina</td>\n",
       "      <td>Buenos Aires U.</td>\n",
       "      <td>[{'value': 'gaston.leonardo.romeo@cern.ch', 'c...</td>\n",
       "      <td>[{'record': {'$ref': 'https://inspirehep.net/a...</td>\n",
       "      <td>[{'value': 'G.Romeo.1', 'schema': 'INSPIRE BAI...</td>\n",
       "      <td>[astro-ph.HE]</td>\n",
       "      <td>[CTA]</td>\n",
       "    </tr>\n",
       "    <tr>\n",
       "      <th>3014</th>\n",
       "      <td>989075</td>\n",
       "      <td>{'value': 'Shellard, Ronald Cintra', 'preferre...</td>\n",
       "      <td>903158</td>\n",
       "      <td>[{'value': 'grid.418228.5', 'schema': 'GRID'},...</td>\n",
       "      <td>Brazil</td>\n",
       "      <td>Rio de Janeiro, CBPF</td>\n",
       "      <td>[{'value': 'shellard@cbpf.br', 'current': True}]</td>\n",
       "      <td>[{'rank': 'SENIOR', 'record': {'$ref': 'https:...</td>\n",
       "      <td>[{'value': '0000-0002-2983-1815', 'schema': 'O...</td>\n",
       "      <td>[astro-ph.HE]</td>\n",
       "      <td>[CTA]</td>\n",
       "    </tr>\n",
       "    <tr>\n",
       "      <th>3015</th>\n",
       "      <td>1040889</td>\n",
       "      <td>{'value': 'Tovmassian, Gagik', 'preferred_name...</td>\n",
       "      <td>909167</td>\n",
       "      <td>[{'value': 'INST-78689', 'schema': 'SPIRES'}]</td>\n",
       "      <td>Mexico</td>\n",
       "      <td>Observ. Astron. Natl., Ensenada</td>\n",
       "      <td>[{'value': 'gag@bufadora.astrosen.unam.mx', 'c...</td>\n",
       "      <td>[{'record': {'$ref': 'https://inspirehep.net/a...</td>\n",
       "      <td>[{'value': 'G.H.Tovmassian.1', 'schema': 'INSP...</td>\n",
       "      <td>[astro-ph.HE]</td>\n",
       "      <td>[CTA]</td>\n",
       "    </tr>\n",
       "    <tr>\n",
       "      <th>3016</th>\n",
       "      <td>1017194</td>\n",
       "      <td>{'value': 'Basak, Subhasish', 'preferred_name'...</td>\n",
       "      <td>907715</td>\n",
       "      <td>[{'value': 'INST-62073', 'schema': 'SPIRES'}]</td>\n",
       "      <td>Argentina</td>\n",
       "      <td>San Martin Natl. U.</td>\n",
       "      <td>[]</td>\n",
       "      <td>[{'record': {'$ref': 'https://inspirehep.net/a...</td>\n",
       "      <td>[{'value': 'S.Basak.1', 'schema': 'INSPIRE BAI...</td>\n",
       "      <td>[astro-ph.GA]</td>\n",
       "      <td>[Planck]</td>\n",
       "    </tr>\n",
       "    <tr>\n",
       "      <th>3017</th>\n",
       "      <td>1062229</td>\n",
       "      <td>{'value': 'Sanchez, Federico', 'preferred_name...</td>\n",
       "      <td>902700</td>\n",
       "      <td>[{'value': 'INST-868', 'schema': 'SPIRES'}]</td>\n",
       "      <td>Argentina</td>\n",
       "      <td>CNEA, Buenos Aires</td>\n",
       "      <td>[{'value': 'sanchez.f.a@gmail.com', 'current':...</td>\n",
       "      <td>[{'rank': 'JUNIOR', 'record': {'$ref': 'https:...</td>\n",
       "      <td>[{'value': 'Federico.Sanchez.1', 'schema': 'IN...</td>\n",
       "      <td>[physics.ins-det]</td>\n",
       "      <td>[Hyper-Kamiokande]</td>\n",
       "    </tr>\n",
       "    <tr>\n",
       "      <th>3018</th>\n",
       "      <td>1647718</td>\n",
       "      <td>{'value': 'Sanchez, M.L.', 'preferred_name': '...</td>\n",
       "      <td>1373228</td>\n",
       "      <td>[]</td>\n",
       "      <td>Brazil</td>\n",
       "      <td>LIneA, Rio de Janeiro</td>\n",
       "      <td>[]</td>\n",
       "      <td>[{'record': {'$ref': 'https://inspirehep.net/a...</td>\n",
       "      <td>[{'value': 'M.L.Sanchez.1', 'schema': 'INSPIRE...</td>\n",
       "      <td>[physics.ins-det]</td>\n",
       "      <td>[Hyper-Kamiokande]</td>\n",
       "    </tr>\n",
       "    <tr>\n",
       "      <th>3019</th>\n",
       "      <td>1026103</td>\n",
       "      <td>{'value': 'Cioni, Maria-Rosa Lucia', 'preferre...</td>\n",
       "      <td>908925</td>\n",
       "      <td>[{'value': 'INST-76015', 'schema': 'SPIRES'}]</td>\n",
       "      <td>Brazil</td>\n",
       "      <td>Sao Paulo U., IAG</td>\n",
       "      <td>[]</td>\n",
       "      <td>[{'record': {'$ref': 'https://inspirehep.net/a...</td>\n",
       "      <td>[{'value': '0000-0002-6797-696X', 'schema': 'O...</td>\n",
       "      <td>[astro-ph.IM]</td>\n",
       "      <td>[MOONS Consortium]</td>\n",
       "    </tr>\n",
       "    <tr>\n",
       "      <th>3020</th>\n",
       "      <td>1027032</td>\n",
       "      <td>{'value': 'Infante, Leopoldo', 'preferred_name...</td>\n",
       "      <td>904336</td>\n",
       "      <td>[{'value': 'grid.7870.8', 'schema': 'GRID'}, {...</td>\n",
       "      <td>Chile</td>\n",
       "      <td>Chile U., Catolica</td>\n",
       "      <td>[]</td>\n",
       "      <td>[{'record': {'$ref': 'https://inspirehep.net/a...</td>\n",
       "      <td>[{'value': '0000-0001-8581-932X', 'schema': 'O...</td>\n",
       "      <td>[astro-ph.IM]</td>\n",
       "      <td>[MOONS Consortium]</td>\n",
       "    </tr>\n",
       "    <tr>\n",
       "      <th>3021</th>\n",
       "      <td>1026102</td>\n",
       "      <td>{'value': 'Pasquini, Luca', 'preferred_name': ...</td>\n",
       "      <td>908925</td>\n",
       "      <td>[{'value': 'INST-76015', 'schema': 'SPIRES'}]</td>\n",
       "      <td>Brazil</td>\n",
       "      <td>Sao Paulo U., IAG</td>\n",
       "      <td>[]</td>\n",
       "      <td>[{'record': {'$ref': 'https://inspirehep.net/a...</td>\n",
       "      <td>[{'value': 'L.Pasquini.1', 'schema': 'INSPIRE ...</td>\n",
       "      <td>[astro-ph.IM]</td>\n",
       "      <td>[MOONS Consortium]</td>\n",
       "    </tr>\n",
       "    <tr>\n",
       "      <th>3022</th>\n",
       "      <td>1025638</td>\n",
       "      <td>{'value': 'Zoccali, Manuela', 'preferred_name'...</td>\n",
       "      <td>904336</td>\n",
       "      <td>[{'value': 'grid.7870.8', 'schema': 'GRID'}, {...</td>\n",
       "      <td>Chile</td>\n",
       "      <td>Chile U., Catolica</td>\n",
       "      <td>[]</td>\n",
       "      <td>[{'record': {'$ref': 'https://inspirehep.net/a...</td>\n",
       "      <td>[{'value': 'Manuela.Zoccali.1', 'schema': 'INS...</td>\n",
       "      <td>[astro-ph.IM]</td>\n",
       "      <td>[MOONS Consortium]</td>\n",
       "    </tr>\n",
       "    <tr>\n",
       "      <th>3023</th>\n",
       "      <td>986559</td>\n",
       "      <td>{'value': 'Tapia, Victor', 'preferred_name': '...</td>\n",
       "      <td>906485</td>\n",
       "      <td>[{'value': 'grid.10689.36', 'schema': 'GRID'},...</td>\n",
       "      <td>Colombia</td>\n",
       "      <td>Colombia, U. Natl.</td>\n",
       "      <td>[{'value': 'tapiens@gmail.com', 'current': True}]</td>\n",
       "      <td>[{'record': {'$ref': 'https://inspirehep.net/a...</td>\n",
       "      <td>[{'value': '0000-0003-3875-5612', 'schema': 'O...</td>\n",
       "      <td>[astro-ph.IM]</td>\n",
       "      <td>[LSPE]</td>\n",
       "    </tr>\n",
       "    <tr>\n",
       "      <th>3024</th>\n",
       "      <td>1260122</td>\n",
       "      <td>{'value': 'Arnaldi, Luis Horacio', 'preferred_...</td>\n",
       "      <td>902724</td>\n",
       "      <td>[{'value': 'grid.466813.e', 'schema': 'GRID'},...</td>\n",
       "      <td>Argentina</td>\n",
       "      <td>Centro Atomico Bariloche</td>\n",
       "      <td>[{'value': 'lharnaldi@cab.cnea.gov.ar'}]</td>\n",
       "      <td>[{'rank': 'SENIOR', 'hidden': False, 'record':...</td>\n",
       "      <td>[{'value': '0000-0002-2370-4014', 'schema': 'O...</td>\n",
       "      <td>[astro-ph.IM]</td>\n",
       "      <td>[QUBIC]</td>\n",
       "    </tr>\n",
       "    <tr>\n",
       "      <th>3025</th>\n",
       "      <td>1356857</td>\n",
       "      <td>{'value': 'Hampel, Matías Rolf', 'preferred_na...</td>\n",
       "      <td>902700</td>\n",
       "      <td>[{'value': 'INST-868', 'schema': 'SPIRES'}]</td>\n",
       "      <td>Argentina</td>\n",
       "      <td>CNEA, Buenos Aires</td>\n",
       "      <td>[{'value': 'matias.hampel@iteda.cnea.gov.ar', ...</td>\n",
       "      <td>[{'record': {'$ref': 'https://inspirehep.net/a...</td>\n",
       "      <td>[{'value': '0000-0001-7622-4826', 'schema': 'O...</td>\n",
       "      <td>[astro-ph.IM]</td>\n",
       "      <td>[QUBIC]</td>\n",
       "    </tr>\n",
       "    <tr>\n",
       "      <th>3026</th>\n",
       "      <td>1051456</td>\n",
       "      <td>{'value': 'Platino, Manuel', 'preferred_name':...</td>\n",
       "      <td>903418</td>\n",
       "      <td>[{'value': 'grid.7345.5', 'schema': 'GRID'}, {...</td>\n",
       "      <td>Argentina</td>\n",
       "      <td>Buenos Aires, CONICET</td>\n",
       "      <td>[]</td>\n",
       "      <td>[{'rank': 'JUNIOR', 'record': {'$ref': 'https:...</td>\n",
       "      <td>[{'value': 'M.Platino.1', 'schema': 'INSPIRE B...</td>\n",
       "      <td>[astro-ph.IM]</td>\n",
       "      <td>[QUBIC]</td>\n",
       "    </tr>\n",
       "  </tbody>\n",
       "</table>\n",
       "</div>"
      ],
      "text/plain": [
       "      author_id                                               name  \\\n",
       "3007     989075  {'value': 'Shellard, Ronald Cintra', 'preferre...   \n",
       "3008    1049216  {'value': 'Vázquez-Jáuregui, Eric', 'name_vari...   \n",
       "3009    1049216  {'value': 'Vázquez-Jáuregui, Eric', 'name_vari...   \n",
       "3010    1858300  {'value': 'Zuñiga Reyes, Ariel', 'name_variant...   \n",
       "3011     987065  {'value': 'Suzuki, Alfredo Takashi', 'preferre...   \n",
       "3012    1051450  {'value': 'Martinez Bravo, Oscar Mario', 'pref...   \n",
       "3013    1071070  {'value': 'Romeo, Gaston L.', 'name_variants':...   \n",
       "3014     989075  {'value': 'Shellard, Ronald Cintra', 'preferre...   \n",
       "3015    1040889  {'value': 'Tovmassian, Gagik', 'preferred_name...   \n",
       "3016    1017194  {'value': 'Basak, Subhasish', 'preferred_name'...   \n",
       "3017    1062229  {'value': 'Sanchez, Federico', 'preferred_name...   \n",
       "3018    1647718  {'value': 'Sanchez, M.L.', 'preferred_name': '...   \n",
       "3019    1026103  {'value': 'Cioni, Maria-Rosa Lucia', 'preferre...   \n",
       "3020    1027032  {'value': 'Infante, Leopoldo', 'preferred_name...   \n",
       "3021    1026102  {'value': 'Pasquini, Luca', 'preferred_name': ...   \n",
       "3022    1025638  {'value': 'Zoccali, Manuela', 'preferred_name'...   \n",
       "3023     986559  {'value': 'Tapia, Victor', 'preferred_name': '...   \n",
       "3024    1260122  {'value': 'Arnaldi, Luis Horacio', 'preferred_...   \n",
       "3025    1356857  {'value': 'Hampel, Matías Rolf', 'preferred_na...   \n",
       "3026    1051456  {'value': 'Platino, Manuel', 'preferred_name':...   \n",
       "\n",
       "      LA_institution_id                        external_system_identifiers  \\\n",
       "3007             903158  [{'value': 'grid.418228.5', 'schema': 'GRID'},...   \n",
       "3008             903003  [{'value': 'grid.9486.3', 'schema': 'GRID'}, {...   \n",
       "3009             903003  [{'value': 'grid.9486.3', 'schema': 'GRID'}, {...   \n",
       "3010             908050  [{'value': 'grid.9486.3', 'schema': 'GRID'}, {...   \n",
       "3011             903185  [{'value': 'grid.11899.38', 'schema': 'GRID'},...   \n",
       "3012             904394  [{'value': 'grid.411659.e', 'schema': 'GRID'},...   \n",
       "3013             902701  [{'value': 'grid.7345.5', 'schema': 'GRID'}, {...   \n",
       "3014             903158  [{'value': 'grid.418228.5', 'schema': 'GRID'},...   \n",
       "3015             909167      [{'value': 'INST-78689', 'schema': 'SPIRES'}]   \n",
       "3016             907715      [{'value': 'INST-62073', 'schema': 'SPIRES'}]   \n",
       "3017             902700        [{'value': 'INST-868', 'schema': 'SPIRES'}]   \n",
       "3018            1373228                                                 []   \n",
       "3019             908925      [{'value': 'INST-76015', 'schema': 'SPIRES'}]   \n",
       "3020             904336  [{'value': 'grid.7870.8', 'schema': 'GRID'}, {...   \n",
       "3021             908925      [{'value': 'INST-76015', 'schema': 'SPIRES'}]   \n",
       "3022             904336  [{'value': 'grid.7870.8', 'schema': 'GRID'}, {...   \n",
       "3023             906485  [{'value': 'grid.10689.36', 'schema': 'GRID'},...   \n",
       "3024             902724  [{'value': 'grid.466813.e', 'schema': 'GRID'},...   \n",
       "3025             902700        [{'value': 'INST-868', 'schema': 'SPIRES'}]   \n",
       "3026             903418  [{'value': 'grid.7345.5', 'schema': 'GRID'}, {...   \n",
       "\n",
       "     LA_country                   LA_institution  \\\n",
       "3007     Brazil             Rio de Janeiro, CBPF   \n",
       "3008     Mexico                        Mexico U.   \n",
       "3009     Mexico                        Mexico U.   \n",
       "3010     Mexico              UNAM, Inst. Astron.   \n",
       "3011     Brazil                   Sao Paulo, IFT   \n",
       "3012     Mexico                Puebla U., Mexico   \n",
       "3013  Argentina                  Buenos Aires U.   \n",
       "3014     Brazil             Rio de Janeiro, CBPF   \n",
       "3015     Mexico  Observ. Astron. Natl., Ensenada   \n",
       "3016  Argentina              San Martin Natl. U.   \n",
       "3017  Argentina               CNEA, Buenos Aires   \n",
       "3018     Brazil            LIneA, Rio de Janeiro   \n",
       "3019     Brazil                Sao Paulo U., IAG   \n",
       "3020      Chile               Chile U., Catolica   \n",
       "3021     Brazil                Sao Paulo U., IAG   \n",
       "3022      Chile               Chile U., Catolica   \n",
       "3023   Colombia               Colombia, U. Natl.   \n",
       "3024  Argentina         Centro Atomico Bariloche   \n",
       "3025  Argentina               CNEA, Buenos Aires   \n",
       "3026  Argentina            Buenos Aires, CONICET   \n",
       "\n",
       "                                        email_addresses  \\\n",
       "3007   [{'value': 'shellard@cbpf.br', 'current': True}]   \n",
       "3008  [{'value': 'ericvj@fisica.unam.mx', 'current':...   \n",
       "3009  [{'value': 'ericvj@fisica.unam.mx', 'current':...   \n",
       "3010                                                 []   \n",
       "3011  [{'value': 'suzuki@ift.unesp.br', 'current': T...   \n",
       "3012  [{'value': 'omartin@fcfm.buap.mx', 'current': ...   \n",
       "3013  [{'value': 'gaston.leonardo.romeo@cern.ch', 'c...   \n",
       "3014   [{'value': 'shellard@cbpf.br', 'current': True}]   \n",
       "3015  [{'value': 'gag@bufadora.astrosen.unam.mx', 'c...   \n",
       "3016                                                 []   \n",
       "3017  [{'value': 'sanchez.f.a@gmail.com', 'current':...   \n",
       "3018                                                 []   \n",
       "3019                                                 []   \n",
       "3020                                                 []   \n",
       "3021                                                 []   \n",
       "3022                                                 []   \n",
       "3023  [{'value': 'tapiens@gmail.com', 'current': True}]   \n",
       "3024           [{'value': 'lharnaldi@cab.cnea.gov.ar'}]   \n",
       "3025  [{'value': 'matias.hampel@iteda.cnea.gov.ar', ...   \n",
       "3026                                                 []   \n",
       "\n",
       "                                              positions  \\\n",
       "3007  [{'rank': 'SENIOR', 'record': {'$ref': 'https:...   \n",
       "3008  [{'rank': 'JUNIOR', 'record': {'$ref': 'https:...   \n",
       "3009  [{'rank': 'JUNIOR', 'record': {'$ref': 'https:...   \n",
       "3010  [{'rank': 'PHD', 'record': {'$ref': 'https://i...   \n",
       "3011  [{'record': {'$ref': 'https://inspirehep.net/a...   \n",
       "3012  [{'record': {'$ref': 'https://inspirehep.net/a...   \n",
       "3013  [{'record': {'$ref': 'https://inspirehep.net/a...   \n",
       "3014  [{'rank': 'SENIOR', 'record': {'$ref': 'https:...   \n",
       "3015  [{'record': {'$ref': 'https://inspirehep.net/a...   \n",
       "3016  [{'record': {'$ref': 'https://inspirehep.net/a...   \n",
       "3017  [{'rank': 'JUNIOR', 'record': {'$ref': 'https:...   \n",
       "3018  [{'record': {'$ref': 'https://inspirehep.net/a...   \n",
       "3019  [{'record': {'$ref': 'https://inspirehep.net/a...   \n",
       "3020  [{'record': {'$ref': 'https://inspirehep.net/a...   \n",
       "3021  [{'record': {'$ref': 'https://inspirehep.net/a...   \n",
       "3022  [{'record': {'$ref': 'https://inspirehep.net/a...   \n",
       "3023  [{'record': {'$ref': 'https://inspirehep.net/a...   \n",
       "3024  [{'rank': 'SENIOR', 'hidden': False, 'record':...   \n",
       "3025  [{'record': {'$ref': 'https://inspirehep.net/a...   \n",
       "3026  [{'rank': 'JUNIOR', 'record': {'$ref': 'https:...   \n",
       "\n",
       "                                                    ids  \\\n",
       "3007  [{'value': '0000-0002-2983-1815', 'schema': 'O...   \n",
       "3008  [{'value': '0000-0003-4195-0961', 'schema': 'O...   \n",
       "3009  [{'value': '0000-0003-4195-0961', 'schema': 'O...   \n",
       "3010  [{'value': '0000-0003-4972-5611', 'schema': 'O...   \n",
       "3011  [{'value': 'A.T.Suzuki.1', 'schema': 'INSPIRE ...   \n",
       "3012  [{'value': '0000-0001-9052-856X', 'schema': 'O...   \n",
       "3013  [{'value': 'G.Romeo.1', 'schema': 'INSPIRE BAI...   \n",
       "3014  [{'value': '0000-0002-2983-1815', 'schema': 'O...   \n",
       "3015  [{'value': 'G.H.Tovmassian.1', 'schema': 'INSP...   \n",
       "3016  [{'value': 'S.Basak.1', 'schema': 'INSPIRE BAI...   \n",
       "3017  [{'value': 'Federico.Sanchez.1', 'schema': 'IN...   \n",
       "3018  [{'value': 'M.L.Sanchez.1', 'schema': 'INSPIRE...   \n",
       "3019  [{'value': '0000-0002-6797-696X', 'schema': 'O...   \n",
       "3020  [{'value': '0000-0001-8581-932X', 'schema': 'O...   \n",
       "3021  [{'value': 'L.Pasquini.1', 'schema': 'INSPIRE ...   \n",
       "3022  [{'value': 'Manuela.Zoccali.1', 'schema': 'INS...   \n",
       "3023  [{'value': '0000-0003-3875-5612', 'schema': 'O...   \n",
       "3024  [{'value': '0000-0002-2370-4014', 'schema': 'O...   \n",
       "3025  [{'value': '0000-0001-7622-4826', 'schema': 'O...   \n",
       "3026  [{'value': 'M.Platino.1', 'schema': 'INSPIRE B...   \n",
       "\n",
       "     primary_arxiv_category     Fields of Study  \n",
       "3007          [astro-ph.HE]    [CTA Consortium]  \n",
       "3008      [physics.ins-det]              [SNO+]  \n",
       "3009      [physics.ins-det]              [DEAP]  \n",
       "3010      [physics.ins-det]              [DEAP]  \n",
       "3011               [hep-ex]               [T2K]  \n",
       "3012          [astro-ph.HE]               [CTA]  \n",
       "3013          [astro-ph.HE]               [CTA]  \n",
       "3014          [astro-ph.HE]               [CTA]  \n",
       "3015          [astro-ph.HE]               [CTA]  \n",
       "3016          [astro-ph.GA]            [Planck]  \n",
       "3017      [physics.ins-det]  [Hyper-Kamiokande]  \n",
       "3018      [physics.ins-det]  [Hyper-Kamiokande]  \n",
       "3019          [astro-ph.IM]  [MOONS Consortium]  \n",
       "3020          [astro-ph.IM]  [MOONS Consortium]  \n",
       "3021          [astro-ph.IM]  [MOONS Consortium]  \n",
       "3022          [astro-ph.IM]  [MOONS Consortium]  \n",
       "3023          [astro-ph.IM]              [LSPE]  \n",
       "3024          [astro-ph.IM]             [QUBIC]  \n",
       "3025          [astro-ph.IM]             [QUBIC]  \n",
       "3026          [astro-ph.IM]             [QUBIC]  "
      ]
     },
     "execution_count": 295,
     "metadata": {},
     "output_type": "execute_result"
    }
   ],
   "source": [
    "df[-20:]"
   ]
  },
  {
   "cell_type": "code",
   "execution_count": null,
   "id": "22e25083-6098-4020-a41c-b192b5678305",
   "metadata": {},
   "outputs": [],
   "source": []
  }
 ],
 "metadata": {
  "kernelspec": {
   "display_name": "Python 3 (ipykernel)",
   "language": "python",
   "name": "python3"
  },
  "language_info": {
   "codemirror_mode": {
    "name": "ipython",
    "version": 3
   },
   "file_extension": ".py",
   "mimetype": "text/x-python",
   "name": "python",
   "nbconvert_exporter": "python",
   "pygments_lexer": "ipython3",
   "version": "3.9.2"
  }
 },
 "nbformat": 4,
 "nbformat_minor": 5
}
