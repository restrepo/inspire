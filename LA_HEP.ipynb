{
 "cells": [
  {
   "cell_type": "markdown",
   "id": "ffa71bff-8b6d-4913-b07e-f3c5e4355cba",
   "metadata": {},
   "source": [
    "# HEP articles in lens.org from Latinamerica\n",
    "\n",
    "https://link.lens.org/CuptXEnD9Hk\n",
    "\n",
    "[Fields of Study](https://docs.openalex.org/about-the-data/concept)\n",
    "\n",
    "* Level 1: Physics\n",
    "  * Level 2: Particle physics\n",
    "  * Level 2: Cosmology\n",
    "  * Level 2: Astrophysics\n",
    "  * Level 2: Mathematical physics\n",
    "\n",
    "Countries with non-zero counts of articles"
   ]
  },
  {
   "cell_type": "code",
   "execution_count": 57,
   "id": "37b10aff-0281-4f7f-918d-0535a84bd102",
   "metadata": {},
   "outputs": [],
   "source": [
    "LA=( 'Brazil'  , 'Mexico'  , 'Colombia'  , 'Chile'  , 'Argentina'  , 'Ecuador'  , 'Guatemala'  , 'Peru'  ,\n",
    "  'Venezuela'  , 'Uruguay'  , 'Bolivia'  , 'Costa Rica'  , 'Paraguay'  , 'Nicaragua'  , 'Panama'  , 'El Salvador'  , 'Cuba' )"
   ]
  },
  {
   "cell_type": "code",
   "execution_count": 1,
   "id": "fd3302c2-9a58-4f87-97c0-7c277c029d7f",
   "metadata": {},
   "outputs": [],
   "source": [
    "import pandas as pd"
   ]
  },
  {
   "cell_type": "code",
   "execution_count": 73,
   "id": "99916688-05af-4cf8-ab1a-3ad2e3427f5e",
   "metadata": {},
   "outputs": [],
   "source": [
    "FULL=False\n",
    "if FULL:\n",
    "    df=pd.read_csv('LA_HEP.csv')\n",
    "else:\n",
    "    df=pd.read_csv('data/LA_HEP_not_cn.csv.gz')"
   ]
  },
  {
   "cell_type": "code",
   "execution_count": 62,
   "id": "75f47e22-19a6-47fb-b5e6-04ed03d0ae98",
   "metadata": {},
   "outputs": [
    {
     "data": {
      "text/plain": [
       "Index(['Lens ID', 'Title', 'Date Published', 'Publication Year',\n",
       "       'Publication Type', 'Source Title', 'ISSNs', 'Publisher',\n",
       "       'Source Country', 'Author/s', 'Abstract', 'Volume', 'Issue Number',\n",
       "       'Start Page', 'End Page', 'Fields of Study', 'Keywords', 'MeSH Terms',\n",
       "       'Chemicals', 'Funding', 'Source URLs', 'External URL', 'PMID', 'DOI',\n",
       "       'Microsoft Academic ID', 'PMCID', 'Citing Patents Count', 'References',\n",
       "       'Citing Works Count', 'author_count'],\n",
       "      dtype='object')"
      ]
     },
     "execution_count": 62,
     "metadata": {},
     "output_type": "execute_result"
    }
   ],
   "source": [
    "df.columns"
   ]
  },
  {
   "cell_type": "code",
   "execution_count": 63,
   "id": "ab9c4013-26d2-495b-8500-7d3f50552edd",
   "metadata": {},
   "outputs": [],
   "source": [
    "df['author_count']=df['Author/s'].str.split('; ').apply(len)"
   ]
  },
  {
   "cell_type": "markdown",
   "id": "b7ab87e8-b38b-4585-887e-91e01be83be6",
   "metadata": {},
   "source": [
    "Avoid large file requests. Analyse collaborations separately"
   ]
  },
  {
   "cell_type": "code",
   "execution_count": 64,
   "id": "d3bfca76-6b67-4671-b255-53a3206710dc",
   "metadata": {},
   "outputs": [],
   "source": [
    "df=df[df['author_count']<=10].reset_index(drop=True)"
   ]
  },
  {
   "cell_type": "code",
   "execution_count": 65,
   "id": "809bee0e-ff13-47d1-9f6e-ceac6a253e95",
   "metadata": {},
   "outputs": [
    {
     "data": {
      "text/plain": [
       "(17508, 30)"
      ]
     },
     "execution_count": 65,
     "metadata": {},
     "output_type": "execute_result"
    }
   ],
   "source": [
    "df.shape"
   ]
  },
  {
   "cell_type": "code",
   "execution_count": 66,
   "id": "073d3b37-3590-4eb8-a2b2-c9c18bf103ad",
   "metadata": {},
   "outputs": [
    {
     "data": {
      "text/plain": [
       "(17508, 30)"
      ]
     },
     "execution_count": 66,
     "metadata": {},
     "output_type": "execute_result"
    }
   ],
   "source": [
    "df[df['Fields of Study'].str.contains('Physics')].shape"
   ]
  },
  {
   "cell_type": "code",
   "execution_count": 67,
   "id": "9ede9993-e1ba-4ea8-a6fe-0b81de05bcbe",
   "metadata": {},
   "outputs": [
    {
     "data": {
      "text/plain": [
       "3758"
      ]
     },
     "execution_count": 67,
     "metadata": {},
     "output_type": "execute_result"
    }
   ],
   "source": [
    "PP=df[df['Fields of Study'].str.contains('Particle physics')].shape[0]\n",
    "PP"
   ]
  },
  {
   "cell_type": "code",
   "execution_count": 68,
   "id": "394a2b4f-14ab-44de-88b0-a27cb2de67ac",
   "metadata": {},
   "outputs": [
    {
     "data": {
      "text/plain": [
       "829"
      ]
     },
     "execution_count": 68,
     "metadata": {},
     "output_type": "execute_result"
    }
   ],
   "source": [
    "PC=df[df['Fields of Study'].str.contains('Cosmology')].shape[0]\n",
    "PC"
   ]
  },
  {
   "cell_type": "code",
   "execution_count": 69,
   "id": "f31c6a7f-50c6-480a-b69f-ea53e03fda0f",
   "metadata": {},
   "outputs": [
    {
     "data": {
      "text/plain": [
       "8809"
      ]
     },
     "execution_count": 69,
     "metadata": {},
     "output_type": "execute_result"
    }
   ],
   "source": [
    "PA=df[df['Fields of Study'].str.contains('Astrophysics')].shape[0]\n",
    "PA"
   ]
  },
  {
   "cell_type": "code",
   "execution_count": 70,
   "id": "7aba3729-354f-446e-8dbd-801856d8e662",
   "metadata": {},
   "outputs": [
    {
     "data": {
      "text/plain": [
       "5076"
      ]
     },
     "execution_count": 70,
     "metadata": {},
     "output_type": "execute_result"
    }
   ],
   "source": [
    "PM=df[df['Fields of Study'].str.contains('Mathematical physics')].shape[0]\n",
    "PM"
   ]
  },
  {
   "cell_type": "code",
   "execution_count": 72,
   "id": "d4193e8c-5c31-4317-8050-4cb200968331",
   "metadata": {},
   "outputs": [
    {
     "data": {
      "text/plain": [
       "18472"
      ]
     },
     "execution_count": 72,
     "metadata": {},
     "output_type": "execute_result"
    }
   ],
   "source": [
    "PP+PA+PC+PM"
   ]
  },
  {
   "cell_type": "code",
   "execution_count": 76,
   "id": "c40b3c42-3cb5-4d40-a27b-71d604032c52",
   "metadata": {},
   "outputs": [
    {
     "data": {
      "text/plain": [
       "15146"
      ]
     },
     "execution_count": 76,
     "metadata": {},
     "output_type": "execute_result"
    }
   ],
   "source": [
    "df.DOI.dropna().shape[0]"
   ]
  },
  {
   "cell_type": "code",
   "execution_count": 85,
   "id": "b4c3596a-0704-4fd5-b8aa-7107b37cc378",
   "metadata": {},
   "outputs": [
    {
     "data": {
      "text/plain": [
       "(1496, 30)"
      ]
     },
     "execution_count": 85,
     "metadata": {},
     "output_type": "execute_result"
    }
   ],
   "source": [
    "nd=df[df.DOI.isna()]\n",
    "nd=nd.dropna(subset=['Source URLs']).reset_index(drop=True)\n",
    "nd[nd['Source URLs'].str.contains('arxiv.org')].shape"
   ]
  },
  {
   "cell_type": "code",
   "execution_count": null,
   "id": "dea078aa-2274-4635-b353-d0c47bec6bc8",
   "metadata": {},
   "outputs": [],
   "source": []
  }
 ],
 "metadata": {
  "kernelspec": {
   "display_name": "Python 3 (ipykernel)",
   "language": "python",
   "name": "python3"
  },
  "language_info": {
   "codemirror_mode": {
    "name": "ipython",
    "version": 3
   },
   "file_extension": ".py",
   "mimetype": "text/x-python",
   "name": "python",
   "nbconvert_exporter": "python",
   "pygments_lexer": "ipython3",
   "version": "3.9.2"
  }
 },
 "nbformat": 4,
 "nbformat_minor": 5
}
