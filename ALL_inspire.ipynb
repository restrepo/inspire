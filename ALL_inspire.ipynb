{
 "cells": [
  {
   "cell_type": "markdown",
   "metadata": {
    "slideshow": {
     "slide_type": "slide"
    }
   },
   "source": [
    "# Análisis de datos"
   ]
  },
  {
   "cell_type": "markdown",
   "metadata": {
    "slideshow": {
     "slide_type": "skip"
    }
   },
   "source": [
    "Para generar las slides use:"
   ]
  },
  {
   "cell_type": "code",
   "execution_count": 30,
   "metadata": {
    "slideshow": {
     "slide_type": "skip"
    }
   },
   "outputs": [
    {
     "name": "stderr",
     "output_type": "stream",
     "text": [
      "[NbConvertApp] Converting notebook ALL_inspire.ipynb to slides\n",
      "[NbConvertApp] Writing 273514 bytes to ALL_inspire.slides.html\n"
     ]
    }
   ],
   "source": [
    "%%bash\n",
    "jupyter nbconvert ALL_inspire.ipynb --to slides --reveal-prefix \"https://cdnjs.cloudflare.com/ajax/libs/reveal.js/3.1.0\""
   ]
  },
  {
   "cell_type": "code",
   "execution_count": 87,
   "metadata": {
    "slideshow": {
     "slide_type": "fragment"
    }
   },
   "outputs": [],
   "source": [
    "import numpy as np\n",
    "import pandas as pd\n",
    "pd.set_option('display.max_colwidth',200)"
   ]
  },
  {
   "cell_type": "markdown",
   "metadata": {
    "slideshow": {
     "slide_type": "fragment"
    }
   },
   "source": [
    "Download from [here](https://drive.google.com/file/d/1NtocdsxbTky5uLmKp3eDoGcQG7qsTEYv/view?usp=sharing) "
   ]
  },
  {
   "cell_type": "code",
   "execution_count": 5,
   "metadata": {
    "slideshow": {
     "slide_type": "fragment"
    }
   },
   "outputs": [],
   "source": [
    "df=pd.read_json('hep_records.json',lines=True)"
   ]
  },
  {
   "cell_type": "code",
   "execution_count": 29,
   "metadata": {
    "slideshow": {
     "slide_type": "fragment"
    }
   },
   "outputs": [
    {
     "data": {
      "text/plain": [
       "(1271720, 10)"
      ]
     },
     "execution_count": 29,
     "metadata": {},
     "output_type": "execute_result"
    }
   ],
   "source": [
    "df.shape"
   ]
  },
  {
   "cell_type": "code",
   "execution_count": 33,
   "metadata": {
    "slideshow": {
     "slide_type": "slide"
    }
   },
   "outputs": [],
   "source": [
    "dfr=df[df.references.map(len)>0].reset_index(drop=True)"
   ]
  },
  {
   "cell_type": "code",
   "execution_count": 37,
   "metadata": {},
   "outputs": [],
   "source": [
    "dfr=dfr.sample(1000).reset_index(drop=True)"
   ]
  },
  {
   "cell_type": "code",
   "execution_count": 43,
   "metadata": {},
   "outputs": [
    {
     "data": {
      "text/plain": [
       "[783169, 370019, 817606, 1187563, 834316, 708944, 784952, 839772, 764799]"
      ]
     },
     "execution_count": 43,
     "metadata": {},
     "output_type": "execute_result"
    }
   ],
   "source": [
    "i=20\n",
    "dfr.loc[i,'references']"
   ]
  },
  {
   "cell_type": "code",
   "execution_count": null,
   "metadata": {},
   "outputs": [],
   "source": [
    "ps.map(lambda x: lv.ratio(x,parameter))"
   ]
  },
  {
   "cell_type": "code",
   "execution_count": 54,
   "metadata": {},
   "outputs": [],
   "source": [
    "def check_ref(x,ref):\n",
    "    return ref in x"
   ]
  },
  {
   "cell_type": "code",
   "execution_count": 47,
   "metadata": {},
   "outputs": [
    {
     "data": {
      "text/html": [
       "<div>\n",
       "<style>\n",
       "    .dataframe thead tr:only-child th {\n",
       "        text-align: right;\n",
       "    }\n",
       "\n",
       "    .dataframe thead th {\n",
       "        text-align: left;\n",
       "    }\n",
       "\n",
       "    .dataframe tbody tr th {\n",
       "        vertical-align: top;\n",
       "    }\n",
       "</style>\n",
       "<table border=\"1\" class=\"dataframe\">\n",
       "  <thead>\n",
       "    <tr style=\"text-align: right;\">\n",
       "      <th></th>\n",
       "      <th>abstract</th>\n",
       "      <th>authors</th>\n",
       "      <th>citations</th>\n",
       "      <th>co-authors</th>\n",
       "      <th>creation_date</th>\n",
       "      <th>free_keywords</th>\n",
       "      <th>recid</th>\n",
       "      <th>references</th>\n",
       "      <th>standardized_keywords</th>\n",
       "      <th>title</th>\n",
       "    </tr>\n",
       "  </thead>\n",
       "  <tbody>\n",
       "    <tr>\n",
       "      <th>20</th>\n",
       "      <td>A model is presented here that is capable of s...</td>\n",
       "      <td>[Shahmoradi, Amir]</td>\n",
       "      <td>[1639400, 1455762]</td>\n",
       "      <td>[]</td>\n",
       "      <td>2013-08-05</td>\n",
       "      <td>[]</td>\n",
       "      <td>1246726</td>\n",
       "      <td>[783169, 370019, 817606, 1187563, 834316, 7089...</td>\n",
       "      <td>[]</td>\n",
       "      <td>Gamma-Ray bursts: Energetics and Prompt Correl...</td>\n",
       "    </tr>\n",
       "  </tbody>\n",
       "</table>\n",
       "</div>"
      ],
      "text/plain": [
       "                                             abstract             authors  \\\n",
       "20  A model is presented here that is capable of s...  [Shahmoradi, Amir]   \n",
       "\n",
       "             citations co-authors creation_date free_keywords    recid  \\\n",
       "20  [1639400, 1455762]         []    2013-08-05            []  1246726   \n",
       "\n",
       "                                           references standardized_keywords  \\\n",
       "20  [783169, 370019, 817606, 1187563, 834316, 7089...                    []   \n",
       "\n",
       "                                                title  \n",
       "20  Gamma-Ray bursts: Energetics and Prompt Correl...  "
      ]
     },
     "execution_count": 47,
     "metadata": {},
     "output_type": "execute_result"
    }
   ],
   "source": [
    "dfr[dfr.references.map(lambda x: check_ref(x,783169))]"
   ]
  },
  {
   "cell_type": "code",
   "execution_count": 50,
   "metadata": {},
   "outputs": [],
   "source": [
    "dfr=dfr.append( df[df.references.map(lambda x: check_ref(x,783169))] ).reset_index(drop=True)"
   ]
  },
  {
   "cell_type": "code",
   "execution_count": 53,
   "metadata": {},
   "outputs": [],
   "source": [
    "def check_intersect1d(x,y):\n",
    "    return np.intersect1d(x,y)"
   ]
  },
  {
   "cell_type": "code",
   "execution_count": 52,
   "metadata": {},
   "outputs": [
    {
     "data": {
      "text/plain": [
       "[783169, 370019, 817606, 1187563, 834316, 708944, 784952, 839772, 764799]"
      ]
     },
     "execution_count": 52,
     "metadata": {},
     "output_type": "execute_result"
    }
   ],
   "source": [
    "i=20\n",
    "dfr.loc[i,'references']"
   ]
  },
  {
   "cell_type": "code",
   "execution_count": 58,
   "metadata": {},
   "outputs": [],
   "source": [
    "np.equal?"
   ]
  },
  {
   "cell_type": "code",
   "execution_count": 75,
   "metadata": {},
   "outputs": [],
   "source": [
    "dfr=dfr.drop_duplicates(['title']).reset_index(drop=True)"
   ]
  },
  {
   "cell_type": "code",
   "execution_count": 76,
   "metadata": {},
   "outputs": [
    {
     "data": {
      "text/html": [
       "<div>\n",
       "<style>\n",
       "    .dataframe thead tr:only-child th {\n",
       "        text-align: right;\n",
       "    }\n",
       "\n",
       "    .dataframe thead th {\n",
       "        text-align: left;\n",
       "    }\n",
       "\n",
       "    .dataframe tbody tr th {\n",
       "        vertical-align: top;\n",
       "    }\n",
       "</style>\n",
       "<table border=\"1\" class=\"dataframe\">\n",
       "  <thead>\n",
       "    <tr style=\"text-align: right;\">\n",
       "      <th></th>\n",
       "      <th>abstract</th>\n",
       "      <th>authors</th>\n",
       "      <th>citations</th>\n",
       "      <th>co-authors</th>\n",
       "      <th>creation_date</th>\n",
       "      <th>free_keywords</th>\n",
       "      <th>recid</th>\n",
       "      <th>references</th>\n",
       "      <th>standardized_keywords</th>\n",
       "      <th>title</th>\n",
       "    </tr>\n",
       "  </thead>\n",
       "  <tbody>\n",
       "    <tr>\n",
       "      <th>20</th>\n",
       "      <td>A model is presented here that is capable of s...</td>\n",
       "      <td>[Shahmoradi, Amir]</td>\n",
       "      <td>[1639400, 1455762]</td>\n",
       "      <td>[]</td>\n",
       "      <td>2013-08-05</td>\n",
       "      <td>[]</td>\n",
       "      <td>1246726</td>\n",
       "      <td>[783169, 370019, 817606, 1187563, 834316, 7089...</td>\n",
       "      <td>[]</td>\n",
       "      <td>Gamma-Ray bursts: Energetics and Prompt Correl...</td>\n",
       "    </tr>\n",
       "  </tbody>\n",
       "</table>\n",
       "</div>"
      ],
      "text/plain": [
       "                                             abstract             authors  \\\n",
       "20  A model is presented here that is capable of s...  [Shahmoradi, Amir]   \n",
       "\n",
       "             citations co-authors creation_date free_keywords    recid  \\\n",
       "20  [1639400, 1455762]         []    2013-08-05            []  1246726   \n",
       "\n",
       "                                           references standardized_keywords  \\\n",
       "20  [783169, 370019, 817606, 1187563, 834316, 7089...                    []   \n",
       "\n",
       "                                                title  \n",
       "20  Gamma-Ray bursts: Energetics and Prompt Correl...  "
      ]
     },
     "execution_count": 76,
     "metadata": {},
     "output_type": "execute_result"
    }
   ],
   "source": [
    "dfr[ dfr.references.astype(str)==str(dfr.loc[i,'references']) ]"
   ]
  },
  {
   "cell_type": "code",
   "execution_count": 91,
   "metadata": {},
   "outputs": [],
   "source": [
    "dfr['intersect']=dfr.references.map(lambda x: check_intersect1d(x,dfr.loc[i,'references'])).map(len)"
   ]
  },
  {
   "cell_type": "code",
   "execution_count": 83,
   "metadata": {},
   "outputs": [
    {
     "data": {
      "text/plain": [
       "20"
      ]
     },
     "execution_count": 83,
     "metadata": {},
     "output_type": "execute_result"
    }
   ],
   "source": [
    "i"
   ]
  },
  {
   "cell_type": "code",
   "execution_count": 89,
   "metadata": {},
   "outputs": [
    {
     "data": {
      "text/plain": [
       "'Gamma-Ray bursts: Energetics and Prompt Correlations'"
      ]
     },
     "execution_count": 89,
     "metadata": {},
     "output_type": "execute_result"
    }
   ],
   "source": [
    "dfr.loc[i,'title']"
   ]
  },
  {
   "cell_type": "code",
   "execution_count": 97,
   "metadata": {},
   "outputs": [
    {
     "data": {
      "text/plain": [
       "1246726"
      ]
     },
     "execution_count": 97,
     "metadata": {},
     "output_type": "execute_result"
    }
   ],
   "source": [
    "dfr.loc[i,'recid']"
   ]
  },
  {
   "cell_type": "code",
   "execution_count": 95,
   "metadata": {},
   "outputs": [],
   "source": [
    "rslt=dfr[dfr.intersect>4].drop( dfr.index[[i]] )\n",
    "rslt['node']=dfr.loc[i,'recid']"
   ]
  },
  {
   "cell_type": "code",
   "execution_count": 98,
   "metadata": {},
   "outputs": [],
   "source": [
    "rslt['node']=dfr.loc[i,'recid']"
   ]
  },
  {
   "cell_type": "code",
   "execution_count": 99,
   "metadata": {},
   "outputs": [
    {
     "data": {
      "text/html": [
       "<div>\n",
       "<style>\n",
       "    .dataframe thead tr:only-child th {\n",
       "        text-align: right;\n",
       "    }\n",
       "\n",
       "    .dataframe thead th {\n",
       "        text-align: left;\n",
       "    }\n",
       "\n",
       "    .dataframe tbody tr th {\n",
       "        vertical-align: top;\n",
       "    }\n",
       "</style>\n",
       "<table border=\"1\" class=\"dataframe\">\n",
       "  <thead>\n",
       "    <tr style=\"text-align: right;\">\n",
       "      <th></th>\n",
       "      <th>abstract</th>\n",
       "      <th>authors</th>\n",
       "      <th>citations</th>\n",
       "      <th>co-authors</th>\n",
       "      <th>creation_date</th>\n",
       "      <th>free_keywords</th>\n",
       "      <th>recid</th>\n",
       "      <th>references</th>\n",
       "      <th>standardized_keywords</th>\n",
       "      <th>title</th>\n",
       "      <th>intersect</th>\n",
       "      <th>node</th>\n",
       "    </tr>\n",
       "  </thead>\n",
       "  <tbody>\n",
       "    <tr>\n",
       "      <th>1016</th>\n",
       "      <td>We calculate durations and spectral parameters for 207 Swift bursts detected by the BAT instrument from April 2007 to August 2009, including 67 events with measured redshifts. This is the first su...</td>\n",
       "      <td>[Butler, Nathaniel R.]</td>\n",
       "      <td>[1298947, 1246726, 1193486, 884753, 1391635, 1357845, 1224726, 838916, 1631771, 1358366, 901151, 1351720, 839772, 1347114, 1321515, 842284, 1358897, 1358898, 1352762, 1340987, 1235004, 1467975, 12...</td>\n",
       "      <td>[Bloom, Joshua S., Poznanski, Dovi]</td>\n",
       "      <td>2009-10</td>\n",
       "      <td>[gamms rays: bursts, methods: statistical, Gamma-rays: general]</td>\n",
       "      <td>834316</td>\n",
       "      <td>[495617, 813313, 825357, 651281, 766484, 782869, 709144, 332317, 677410, 819237, 655793, 820785, 495670, 784952, 666682, 575551, 708161, 575556, 722501, 628295, 793165, 820311, 715870, 496735, 139...</td>\n",
       "      <td>[gamma ray: burst, correlation, luminosity: redshift, statistical analysis, trigger: threshold, X-ray, detector: satellite, experimental results, numerical calculations: Monte Carlo]</td>\n",
       "      <td>The Cosmic Rate, Luminosity Function and Intrinsic Correlations of Long GRBs</td>\n",
       "      <td>5</td>\n",
       "      <td>1246726</td>\n",
       "    </tr>\n",
       "    <tr>\n",
       "      <th>1043</th>\n",
       "      <td>It is proposed that the luminosity function, the rest-frame spectral correlations, and distributions of cosmological long-duration (Type-II) gamma-ray bursts (LGRBs) may be very well described as ...</td>\n",
       "      <td>[Shahmoradi, Amir]</td>\n",
       "      <td>[1512896, 1636736, 1377922, 1246726, 1420108, 1262281, 1318315, 1237644, 1639400, 1625715, 1265046, 1334874, 1305404]</td>\n",
       "      <td>[]</td>\n",
       "      <td>2012-09</td>\n",
       "      <td>[dark energy, gamma-ray burst: general, methods: statistical]</td>\n",
       "      <td>1187563</td>\n",
       "      <td>[723970, 913417, 243724, 87981, 651281, 496658, 847379, 502297, 332317, 668209, 855092, 946741, 784952, 575556, 782917, 839772, 445537, 574050, 884753, 752755, 573053, 519819, 830609, 1091224, 689...</td>\n",
       "      <td>[]</td>\n",
       "      <td>A Multivariate Fit Luminosity Function and World Model for Long GRBs</td>\n",
       "      <td>8</td>\n",
       "      <td>1246726</td>\n",
       "    </tr>\n",
       "    <tr>\n",
       "      <th>1062</th>\n",
       "      <td>Gamma-ray bursts (GRBs) are the most luminous electromagnetic explosions in the Universe, which emit up to $8.8\\times10^{54}$ erg isotropic equivalent energy in the hard X-ray band. The high lumin...</td>\n",
       "      <td>[Wang, F.Y.]</td>\n",
       "      <td>[1618317, 1395214, 1495951, 1645717, 1380119, 1636120, 1489306, 1504923, 1415709, 1358366, 1489059, 1637550, 1599804, 1474109, 1493826, 1427267, 1649997, 1510224, 1510226, 1510227, 1501454, 151023...</td>\n",
       "      <td>[Dai, Z.G., Liang, E.W.]</td>\n",
       "      <td>2015-04-02</td>\n",
       "      <td>[]</td>\n",
       "      <td>1357858</td>\n",
       "      <td>[611328, 857601, 1298947, 1115140, 835589, 864857, 415751, 733193, 781836, 822530, 686095, 712720, 651281, 713746, 698627, 842284, 699925, 675350, 681495, 709144, 720409, 1224726, 660508, 841306, ...</td>\n",
       "      <td>[]</td>\n",
       "      <td>Gamma-ray Burst Cosmology</td>\n",
       "      <td>6</td>\n",
       "      <td>1246726</td>\n",
       "    </tr>\n",
       "  </tbody>\n",
       "</table>\n",
       "</div>"
      ],
      "text/plain": [
       "                                                                                                                                                                                                     abstract  \\\n",
       "1016  We calculate durations and spectral parameters for 207 Swift bursts detected by the BAT instrument from April 2007 to August 2009, including 67 events with measured redshifts. This is the first su...   \n",
       "1043  It is proposed that the luminosity function, the rest-frame spectral correlations, and distributions of cosmological long-duration (Type-II) gamma-ray bursts (LGRBs) may be very well described as ...   \n",
       "1062  Gamma-ray bursts (GRBs) are the most luminous electromagnetic explosions in the Universe, which emit up to $8.8\\times10^{54}$ erg isotropic equivalent energy in the hard X-ray band. The high lumin...   \n",
       "\n",
       "                     authors  \\\n",
       "1016  [Butler, Nathaniel R.]   \n",
       "1043      [Shahmoradi, Amir]   \n",
       "1062            [Wang, F.Y.]   \n",
       "\n",
       "                                                                                                                                                                                                    citations  \\\n",
       "1016  [1298947, 1246726, 1193486, 884753, 1391635, 1357845, 1224726, 838916, 1631771, 1358366, 901151, 1351720, 839772, 1347114, 1321515, 842284, 1358897, 1358898, 1352762, 1340987, 1235004, 1467975, 12...   \n",
       "1043                                                                                    [1512896, 1636736, 1377922, 1246726, 1420108, 1262281, 1318315, 1237644, 1639400, 1625715, 1265046, 1334874, 1305404]   \n",
       "1062  [1618317, 1395214, 1495951, 1645717, 1380119, 1636120, 1489306, 1504923, 1415709, 1358366, 1489059, 1637550, 1599804, 1474109, 1493826, 1427267, 1649997, 1510224, 1510226, 1510227, 1501454, 151023...   \n",
       "\n",
       "                               co-authors creation_date  \\\n",
       "1016  [Bloom, Joshua S., Poznanski, Dovi]       2009-10   \n",
       "1043                                   []       2012-09   \n",
       "1062             [Dai, Z.G., Liang, E.W.]    2015-04-02   \n",
       "\n",
       "                                                        free_keywords  \\\n",
       "1016  [gamms rays: bursts, methods: statistical, Gamma-rays: general]   \n",
       "1043    [dark energy, gamma-ray burst: general, methods: statistical]   \n",
       "1062                                                               []   \n",
       "\n",
       "        recid  \\\n",
       "1016   834316   \n",
       "1043  1187563   \n",
       "1062  1357858   \n",
       "\n",
       "                                                                                                                                                                                                   references  \\\n",
       "1016  [495617, 813313, 825357, 651281, 766484, 782869, 709144, 332317, 677410, 819237, 655793, 820785, 495670, 784952, 666682, 575551, 708161, 575556, 722501, 628295, 793165, 820311, 715870, 496735, 139...   \n",
       "1043  [723970, 913417, 243724, 87981, 651281, 496658, 847379, 502297, 332317, 668209, 855092, 946741, 784952, 575556, 782917, 839772, 445537, 574050, 884753, 752755, 573053, 519819, 830609, 1091224, 689...   \n",
       "1062  [611328, 857601, 1298947, 1115140, 835589, 864857, 415751, 733193, 781836, 822530, 686095, 712720, 651281, 713746, 698627, 842284, 699925, 675350, 681495, 709144, 720409, 1224726, 660508, 841306, ...   \n",
       "\n",
       "                                                                                                                                                                       standardized_keywords  \\\n",
       "1016  [gamma ray: burst, correlation, luminosity: redshift, statistical analysis, trigger: threshold, X-ray, detector: satellite, experimental results, numerical calculations: Monte Carlo]   \n",
       "1043                                                                                                                                                                                      []   \n",
       "1062                                                                                                                                                                                      []   \n",
       "\n",
       "                                                                             title  \\\n",
       "1016  The Cosmic Rate, Luminosity Function and Intrinsic Correlations of Long GRBs   \n",
       "1043          A Multivariate Fit Luminosity Function and World Model for Long GRBs   \n",
       "1062                                                     Gamma-ray Burst Cosmology   \n",
       "\n",
       "      intersect     node  \n",
       "1016          5  1246726  \n",
       "1043          8  1246726  \n",
       "1062          6  1246726  "
      ]
     },
     "execution_count": 99,
     "metadata": {},
     "output_type": "execute_result"
    }
   ],
   "source": [
    "rslt"
   ]
  },
  {
   "cell_type": "code",
   "execution_count": 18,
   "metadata": {},
   "outputs": [
    {
     "data": {
      "text/html": [
       "<div>\n",
       "<style>\n",
       "    .dataframe thead tr:only-child th {\n",
       "        text-align: right;\n",
       "    }\n",
       "\n",
       "    .dataframe thead th {\n",
       "        text-align: left;\n",
       "    }\n",
       "\n",
       "    .dataframe tbody tr th {\n",
       "        vertical-align: top;\n",
       "    }\n",
       "</style>\n",
       "<table border=\"1\" class=\"dataframe\">\n",
       "  <thead>\n",
       "    <tr style=\"text-align: right;\">\n",
       "      <th></th>\n",
       "      <th>abstract</th>\n",
       "      <th>authors</th>\n",
       "      <th>citations</th>\n",
       "      <th>co-authors</th>\n",
       "      <th>creation_date</th>\n",
       "      <th>free_keywords</th>\n",
       "      <th>recid</th>\n",
       "      <th>references</th>\n",
       "      <th>standardized_keywords</th>\n",
       "      <th>title</th>\n",
       "    </tr>\n",
       "  </thead>\n",
       "  <tbody>\n",
       "    <tr>\n",
       "      <th>0</th>\n",
       "      <td>Introduction Part I. Isoclinic nn-planes in E2...</td>\n",
       "      <td>[Wong, Yung-Chow]</td>\n",
       "      <td>[452267, 1520868, 1614833, 275304, 524107, 762...</td>\n",
       "      <td>[]</td>\n",
       "      <td>1961</td>\n",
       "      <td>[]</td>\n",
       "      <td>1</td>\n",
       "      <td>[]</td>\n",
       "      <td>[]</td>\n",
       "      <td>Isoclinic N planes in Euclidean 2N space, Clif...</td>\n",
       "    </tr>\n",
       "    <tr>\n",
       "      <th>1</th>\n",
       "      <td></td>\n",
       "      <td>[Breymayer, K.E.]</td>\n",
       "      <td>[]</td>\n",
       "      <td>[Mallory, Kenneth B.]</td>\n",
       "      <td>1963-03</td>\n",
       "      <td>[]</td>\n",
       "      <td>17</td>\n",
       "      <td>[]</td>\n",
       "      <td>[]</td>\n",
       "      <td>SYSTEM INTERCONNECTION AND PROTECTION OF THE M...</td>\n",
       "    </tr>\n",
       "    <tr>\n",
       "      <th>2</th>\n",
       "      <td></td>\n",
       "      <td>[Johnston, Lawrence II.]</td>\n",
       "      <td>[1374812]</td>\n",
       "      <td>[Murray, Joseph J., Gearhart, Roger A., Hauser...</td>\n",
       "      <td>1977-08</td>\n",
       "      <td>[]</td>\n",
       "      <td>18</td>\n",
       "      <td>[48647]</td>\n",
       "      <td>[]</td>\n",
       "      <td>A target beam monitor using secondary electron...</td>\n",
       "    </tr>\n",
       "    <tr>\n",
       "      <th>3</th>\n",
       "      <td></td>\n",
       "      <td>[Muray, J.J.]</td>\n",
       "      <td>[1193744, 1320713]</td>\n",
       "      <td>[]</td>\n",
       "      <td>1963-06</td>\n",
       "      <td>[]</td>\n",
       "      <td>20</td>\n",
       "      <td>[]</td>\n",
       "      <td>[]</td>\n",
       "      <td>IRRADIATION OF A CERIUM - CONTAINING SILICATE ...</td>\n",
       "    </tr>\n",
       "    <tr>\n",
       "      <th>4</th>\n",
       "      <td></td>\n",
       "      <td>[Mozley, Robert F.]</td>\n",
       "      <td>[]</td>\n",
       "      <td>[]</td>\n",
       "      <td>1963-08</td>\n",
       "      <td>[]</td>\n",
       "      <td>23</td>\n",
       "      <td>[]</td>\n",
       "      <td>[]</td>\n",
       "      <td>PROPOSAL FOR A LARGE SOLID ANGLE PHOTON AND EL...</td>\n",
       "    </tr>\n",
       "    <tr>\n",
       "      <th>5</th>\n",
       "      <td></td>\n",
       "      <td>[Vakhrushin, Yu.P.]</td>\n",
       "      <td>[]</td>\n",
       "      <td>[Ryabov, V.V.]</td>\n",
       "      <td>1977</td>\n",
       "      <td>[]</td>\n",
       "      <td>24</td>\n",
       "      <td>[]</td>\n",
       "      <td>[]</td>\n",
       "      <td>Study of electron Induced Desorption from the ...</td>\n",
       "    </tr>\n",
       "    <tr>\n",
       "      <th>6</th>\n",
       "      <td></td>\n",
       "      <td>[Miller, Roger H.]</td>\n",
       "      <td>[322667]</td>\n",
       "      <td>[]</td>\n",
       "      <td>1963-08</td>\n",
       "      <td>[]</td>\n",
       "      <td>25</td>\n",
       "      <td>[]</td>\n",
       "      <td>[]</td>\n",
       "      <td>PROPOSED BUNCH MONITOR</td>\n",
       "    </tr>\n",
       "    <tr>\n",
       "      <th>7</th>\n",
       "      <td></td>\n",
       "      <td>[]</td>\n",
       "      <td>[899865]</td>\n",
       "      <td>[]</td>\n",
       "      <td>1977</td>\n",
       "      <td>[]</td>\n",
       "      <td>26</td>\n",
       "      <td>[]</td>\n",
       "      <td>[]</td>\n",
       "      <td>withdrawn or canceled</td>\n",
       "    </tr>\n",
       "    <tr>\n",
       "      <th>8</th>\n",
       "      <td></td>\n",
       "      <td>[]</td>\n",
       "      <td>[1208691, 1322317]</td>\n",
       "      <td>[]</td>\n",
       "      <td>1977</td>\n",
       "      <td>[]</td>\n",
       "      <td>27</td>\n",
       "      <td>[]</td>\n",
       "      <td>[]</td>\n",
       "      <td>withdrawn or canceled</td>\n",
       "    </tr>\n",
       "    <tr>\n",
       "      <th>9</th>\n",
       "      <td></td>\n",
       "      <td>[Helm, Richard H.]</td>\n",
       "      <td>[]</td>\n",
       "      <td>[]</td>\n",
       "      <td>1963-06</td>\n",
       "      <td>[]</td>\n",
       "      <td>28</td>\n",
       "      <td>[]</td>\n",
       "      <td>[]</td>\n",
       "      <td>CALCULATIONS ON CYLINDRICAL METAL VACUUM CHAMB...</td>\n",
       "    </tr>\n",
       "  </tbody>\n",
       "</table>\n",
       "</div>"
      ],
      "text/plain": [
       "                                            abstract  \\\n",
       "0  Introduction Part I. Isoclinic nn-planes in E2...   \n",
       "1                                                      \n",
       "2                                                      \n",
       "3                                                      \n",
       "4                                                      \n",
       "5                                                      \n",
       "6                                                      \n",
       "7                                                      \n",
       "8                                                      \n",
       "9                                                      \n",
       "\n",
       "                    authors  \\\n",
       "0         [Wong, Yung-Chow]   \n",
       "1         [Breymayer, K.E.]   \n",
       "2  [Johnston, Lawrence II.]   \n",
       "3             [Muray, J.J.]   \n",
       "4       [Mozley, Robert F.]   \n",
       "5       [Vakhrushin, Yu.P.]   \n",
       "6        [Miller, Roger H.]   \n",
       "7                        []   \n",
       "8                        []   \n",
       "9        [Helm, Richard H.]   \n",
       "\n",
       "                                           citations  \\\n",
       "0  [452267, 1520868, 1614833, 275304, 524107, 762...   \n",
       "1                                                 []   \n",
       "2                                          [1374812]   \n",
       "3                                 [1193744, 1320713]   \n",
       "4                                                 []   \n",
       "5                                                 []   \n",
       "6                                           [322667]   \n",
       "7                                           [899865]   \n",
       "8                                 [1208691, 1322317]   \n",
       "9                                                 []   \n",
       "\n",
       "                                          co-authors creation_date  \\\n",
       "0                                                 []          1961   \n",
       "1                              [Mallory, Kenneth B.]       1963-03   \n",
       "2  [Murray, Joseph J., Gearhart, Roger A., Hauser...       1977-08   \n",
       "3                                                 []       1963-06   \n",
       "4                                                 []       1963-08   \n",
       "5                                     [Ryabov, V.V.]          1977   \n",
       "6                                                 []       1963-08   \n",
       "7                                                 []          1977   \n",
       "8                                                 []          1977   \n",
       "9                                                 []       1963-06   \n",
       "\n",
       "  free_keywords  recid references standardized_keywords  \\\n",
       "0            []      1         []                    []   \n",
       "1            []     17         []                    []   \n",
       "2            []     18    [48647]                    []   \n",
       "3            []     20         []                    []   \n",
       "4            []     23         []                    []   \n",
       "5            []     24         []                    []   \n",
       "6            []     25         []                    []   \n",
       "7            []     26         []                    []   \n",
       "8            []     27         []                    []   \n",
       "9            []     28         []                    []   \n",
       "\n",
       "                                               title  \n",
       "0  Isoclinic N planes in Euclidean 2N space, Clif...  \n",
       "1  SYSTEM INTERCONNECTION AND PROTECTION OF THE M...  \n",
       "2  A target beam monitor using secondary electron...  \n",
       "3  IRRADIATION OF A CERIUM - CONTAINING SILICATE ...  \n",
       "4  PROPOSAL FOR A LARGE SOLID ANGLE PHOTON AND EL...  \n",
       "5  Study of electron Induced Desorption from the ...  \n",
       "6                             PROPOSED BUNCH MONITOR  \n",
       "7                              withdrawn or canceled  \n",
       "8                              withdrawn or canceled  \n",
       "9  CALCULATIONS ON CYLINDRICAL METAL VACUUM CHAMB...  "
      ]
     },
     "execution_count": 18,
     "metadata": {},
     "output_type": "execute_result"
    }
   ],
   "source": [
    "dff=df.read_json('')"
   ]
  },
  {
   "cell_type": "code",
   "execution_count": 25,
   "metadata": {},
   "outputs": [],
   "source": [
    "df.to_excel('kk.xlsx',index=False)"
   ]
  },
  {
   "cell_type": "code",
   "execution_count": 28,
   "metadata": {},
   "outputs": [
    {
     "ename": "AssertionError",
     "evalue": "",
     "output_type": "error",
     "traceback": [
      "\u001b[0;31m---------------------------------------------------------------------------\u001b[0m",
      "\u001b[0;31mAssertionError\u001b[0m                            Traceback (most recent call last)",
      "\u001b[0;32m<ipython-input-28-e033eeac58d6>\u001b[0m in \u001b[0;36m<module>\u001b[0;34m()\u001b[0m\n\u001b[0;32m----> 1\u001b[0;31m \u001b[0mdfx\u001b[0m\u001b[0;34m=\u001b[0m\u001b[0mpd\u001b[0m\u001b[0;34m.\u001b[0m\u001b[0mread_excel\u001b[0m\u001b[0;34m(\u001b[0m\u001b[0;34m'kk.xlsx'\u001b[0m\u001b[0;34m)\u001b[0m\u001b[0;34m\u001b[0m\u001b[0m\n\u001b[0m",
      "\u001b[0;32m/usr/local/lib/python3.5/dist-packages/pandas/io/excel.py\u001b[0m in \u001b[0;36mread_excel\u001b[0;34m(io, sheetname, header, skiprows, skip_footer, index_col, names, parse_cols, parse_dates, date_parser, na_values, thousands, convert_float, has_index_names, converters, dtype, true_values, false_values, engine, squeeze, **kwds)\u001b[0m\n\u001b[1;32m    201\u001b[0m \u001b[0;34m\u001b[0m\u001b[0m\n\u001b[1;32m    202\u001b[0m     \u001b[0;32mif\u001b[0m \u001b[0;32mnot\u001b[0m \u001b[0misinstance\u001b[0m\u001b[0;34m(\u001b[0m\u001b[0mio\u001b[0m\u001b[0;34m,\u001b[0m \u001b[0mExcelFile\u001b[0m\u001b[0;34m)\u001b[0m\u001b[0;34m:\u001b[0m\u001b[0;34m\u001b[0m\u001b[0m\n\u001b[0;32m--> 203\u001b[0;31m         \u001b[0mio\u001b[0m \u001b[0;34m=\u001b[0m \u001b[0mExcelFile\u001b[0m\u001b[0;34m(\u001b[0m\u001b[0mio\u001b[0m\u001b[0;34m,\u001b[0m \u001b[0mengine\u001b[0m\u001b[0;34m=\u001b[0m\u001b[0mengine\u001b[0m\u001b[0;34m)\u001b[0m\u001b[0;34m\u001b[0m\u001b[0m\n\u001b[0m\u001b[1;32m    204\u001b[0m \u001b[0;34m\u001b[0m\u001b[0m\n\u001b[1;32m    205\u001b[0m     return io._parse_excel(\n",
      "\u001b[0;32m/usr/local/lib/python3.5/dist-packages/pandas/io/excel.py\u001b[0m in \u001b[0;36m__init__\u001b[0;34m(self, io, **kwds)\u001b[0m\n\u001b[1;32m    258\u001b[0m             \u001b[0mself\u001b[0m\u001b[0;34m.\u001b[0m\u001b[0mbook\u001b[0m \u001b[0;34m=\u001b[0m \u001b[0mxlrd\u001b[0m\u001b[0;34m.\u001b[0m\u001b[0mopen_workbook\u001b[0m\u001b[0;34m(\u001b[0m\u001b[0mfile_contents\u001b[0m\u001b[0;34m=\u001b[0m\u001b[0mdata\u001b[0m\u001b[0;34m)\u001b[0m\u001b[0;34m\u001b[0m\u001b[0m\n\u001b[1;32m    259\u001b[0m         \u001b[0;32melif\u001b[0m \u001b[0misinstance\u001b[0m\u001b[0;34m(\u001b[0m\u001b[0mio\u001b[0m\u001b[0;34m,\u001b[0m \u001b[0mcompat\u001b[0m\u001b[0;34m.\u001b[0m\u001b[0mstring_types\u001b[0m\u001b[0;34m)\u001b[0m\u001b[0;34m:\u001b[0m\u001b[0;34m\u001b[0m\u001b[0m\n\u001b[0;32m--> 260\u001b[0;31m             \u001b[0mself\u001b[0m\u001b[0;34m.\u001b[0m\u001b[0mbook\u001b[0m \u001b[0;34m=\u001b[0m \u001b[0mxlrd\u001b[0m\u001b[0;34m.\u001b[0m\u001b[0mopen_workbook\u001b[0m\u001b[0;34m(\u001b[0m\u001b[0mio\u001b[0m\u001b[0;34m)\u001b[0m\u001b[0;34m\u001b[0m\u001b[0m\n\u001b[0m\u001b[1;32m    261\u001b[0m         \u001b[0;32melse\u001b[0m\u001b[0;34m:\u001b[0m\u001b[0;34m\u001b[0m\u001b[0m\n\u001b[1;32m    262\u001b[0m             raise ValueError('Must explicitly set engine if not passing in'\n",
      "\u001b[0;32m/usr/local/lib/python3.5/dist-packages/xlrd/__init__.py\u001b[0m in \u001b[0;36mopen_workbook\u001b[0;34m(filename, logfile, verbosity, use_mmap, file_contents, encoding_override, formatting_info, on_demand, ragged_rows)\u001b[0m\n\u001b[1;32m    141\u001b[0m                 \u001b[0mformatting_info\u001b[0m\u001b[0;34m=\u001b[0m\u001b[0mformatting_info\u001b[0m\u001b[0;34m,\u001b[0m\u001b[0;34m\u001b[0m\u001b[0m\n\u001b[1;32m    142\u001b[0m                 \u001b[0mon_demand\u001b[0m\u001b[0;34m=\u001b[0m\u001b[0mon_demand\u001b[0m\u001b[0;34m,\u001b[0m\u001b[0;34m\u001b[0m\u001b[0m\n\u001b[0;32m--> 143\u001b[0;31m                 \u001b[0mragged_rows\u001b[0m\u001b[0;34m=\u001b[0m\u001b[0mragged_rows\u001b[0m\u001b[0;34m,\u001b[0m\u001b[0;34m\u001b[0m\u001b[0m\n\u001b[0m\u001b[1;32m    144\u001b[0m                 )\n\u001b[1;32m    145\u001b[0m             \u001b[0;32mreturn\u001b[0m \u001b[0mbk\u001b[0m\u001b[0;34m\u001b[0m\u001b[0m\n",
      "\u001b[0;32m/usr/local/lib/python3.5/dist-packages/xlrd/xlsx.py\u001b[0m in \u001b[0;36mopen_workbook_2007_xml\u001b[0;34m(zf, component_names, logfile, verbosity, use_mmap, formatting_info, on_demand, ragged_rows)\u001b[0m\n\u001b[1;32m    835\u001b[0m         \u001b[0mx12sheet\u001b[0m \u001b[0;34m=\u001b[0m \u001b[0mX12Sheet\u001b[0m\u001b[0;34m(\u001b[0m\u001b[0msheet\u001b[0m\u001b[0;34m,\u001b[0m \u001b[0mlogfile\u001b[0m\u001b[0;34m,\u001b[0m \u001b[0mverbosity\u001b[0m\u001b[0;34m)\u001b[0m\u001b[0;34m\u001b[0m\u001b[0m\n\u001b[1;32m    836\u001b[0m         \u001b[0mheading\u001b[0m \u001b[0;34m=\u001b[0m \u001b[0;34m\"Sheet %r (sheetx=%d) from %r\"\u001b[0m \u001b[0;34m%\u001b[0m \u001b[0;34m(\u001b[0m\u001b[0msheet\u001b[0m\u001b[0;34m.\u001b[0m\u001b[0mname\u001b[0m\u001b[0;34m,\u001b[0m \u001b[0msheetx\u001b[0m\u001b[0;34m,\u001b[0m \u001b[0mfname\u001b[0m\u001b[0;34m)\u001b[0m\u001b[0;34m\u001b[0m\u001b[0m\n\u001b[0;32m--> 837\u001b[0;31m         \u001b[0mx12sheet\u001b[0m\u001b[0;34m.\u001b[0m\u001b[0mprocess_stream\u001b[0m\u001b[0;34m(\u001b[0m\u001b[0mzflo\u001b[0m\u001b[0;34m,\u001b[0m \u001b[0mheading\u001b[0m\u001b[0;34m)\u001b[0m\u001b[0;34m\u001b[0m\u001b[0m\n\u001b[0m\u001b[1;32m    838\u001b[0m         \u001b[0;32mdel\u001b[0m \u001b[0mzflo\u001b[0m\u001b[0;34m\u001b[0m\u001b[0m\n\u001b[1;32m    839\u001b[0m \u001b[0;34m\u001b[0m\u001b[0m\n",
      "\u001b[0;32m/usr/local/lib/python3.5/dist-packages/xlrd/xlsx.py\u001b[0m in \u001b[0;36mown_process_stream\u001b[0;34m(self, stream, heading)\u001b[0m\n\u001b[1;32m    546\u001b[0m         \u001b[0;32mfor\u001b[0m \u001b[0mevent\u001b[0m\u001b[0;34m,\u001b[0m \u001b[0melem\u001b[0m \u001b[0;32min\u001b[0m \u001b[0mET\u001b[0m\u001b[0;34m.\u001b[0m\u001b[0miterparse\u001b[0m\u001b[0;34m(\u001b[0m\u001b[0mstream\u001b[0m\u001b[0;34m)\u001b[0m\u001b[0;34m:\u001b[0m\u001b[0;34m\u001b[0m\u001b[0m\n\u001b[1;32m    547\u001b[0m             \u001b[0;32mif\u001b[0m \u001b[0melem\u001b[0m\u001b[0;34m.\u001b[0m\u001b[0mtag\u001b[0m \u001b[0;34m==\u001b[0m \u001b[0mrow_tag\u001b[0m\u001b[0;34m:\u001b[0m\u001b[0;34m\u001b[0m\u001b[0m\n\u001b[0;32m--> 548\u001b[0;31m                 \u001b[0mself_do_row\u001b[0m\u001b[0;34m(\u001b[0m\u001b[0melem\u001b[0m\u001b[0;34m)\u001b[0m\u001b[0;34m\u001b[0m\u001b[0m\n\u001b[0m\u001b[1;32m    549\u001b[0m                 \u001b[0melem\u001b[0m\u001b[0;34m.\u001b[0m\u001b[0mclear\u001b[0m\u001b[0;34m(\u001b[0m\u001b[0;34m)\u001b[0m \u001b[0;31m# destroy all child elements (cells)\u001b[0m\u001b[0;34m\u001b[0m\u001b[0m\n\u001b[1;32m    550\u001b[0m             \u001b[0;32melif\u001b[0m \u001b[0melem\u001b[0m\u001b[0;34m.\u001b[0m\u001b[0mtag\u001b[0m \u001b[0;34m==\u001b[0m \u001b[0mU_SSML12\u001b[0m \u001b[0;34m+\u001b[0m \u001b[0;34m\"dimension\"\u001b[0m\u001b[0;34m:\u001b[0m\u001b[0;34m\u001b[0m\u001b[0m\n",
      "\u001b[0;32m/usr/local/lib/python3.5/dist-packages/xlrd/xlsx.py\u001b[0m in \u001b[0;36mdo_row\u001b[0;34m(self, row_elem)\u001b[0m\n\u001b[1;32m    633\u001b[0m             \u001b[0mself\u001b[0m\u001b[0;34m.\u001b[0m\u001b[0mrowx\u001b[0m \u001b[0;34m=\u001b[0m \u001b[0mint\u001b[0m\u001b[0;34m(\u001b[0m\u001b[0mrow_number\u001b[0m\u001b[0;34m)\u001b[0m \u001b[0;34m-\u001b[0m \u001b[0;36m1\u001b[0m\u001b[0;34m\u001b[0m\u001b[0m\n\u001b[1;32m    634\u001b[0m             \u001b[0mexplicit_row_number\u001b[0m \u001b[0;34m=\u001b[0m \u001b[0;36m1\u001b[0m\u001b[0;34m\u001b[0m\u001b[0m\n\u001b[0;32m--> 635\u001b[0;31m         \u001b[0;32massert\u001b[0m \u001b[0;36m0\u001b[0m \u001b[0;34m<=\u001b[0m \u001b[0mself\u001b[0m\u001b[0;34m.\u001b[0m\u001b[0mrowx\u001b[0m \u001b[0;34m<\u001b[0m \u001b[0mX12_MAX_ROWS\u001b[0m\u001b[0;34m\u001b[0m\u001b[0m\n\u001b[0m\u001b[1;32m    636\u001b[0m         \u001b[0mrowx\u001b[0m \u001b[0;34m=\u001b[0m \u001b[0mself\u001b[0m\u001b[0;34m.\u001b[0m\u001b[0mrowx\u001b[0m\u001b[0;34m\u001b[0m\u001b[0m\n\u001b[1;32m    637\u001b[0m         \u001b[0mcolx\u001b[0m \u001b[0;34m=\u001b[0m \u001b[0;34m-\u001b[0m\u001b[0;36m1\u001b[0m\u001b[0;34m\u001b[0m\u001b[0m\n",
      "\u001b[0;31mAssertionError\u001b[0m: "
     ]
    }
   ],
   "source": [
    "dfx=pd.read_excel('kk.xlsx')"
   ]
  },
  {
   "cell_type": "code",
   "execution_count": null,
   "metadata": {},
   "outputs": [],
   "source": []
  }
 ],
 "metadata": {
  "celltoolbar": "Slideshow",
  "kernelspec": {
   "display_name": "Python 3",
   "language": "python",
   "name": "python3"
  },
  "language_info": {
   "codemirror_mode": {
    "name": "ipython",
    "version": 3
   },
   "file_extension": ".py",
   "mimetype": "text/x-python",
   "name": "python",
   "nbconvert_exporter": "python",
   "pygments_lexer": "ipython3",
   "version": "3.5.3"
  }
 },
 "nbformat": 4,
 "nbformat_minor": 2
}
