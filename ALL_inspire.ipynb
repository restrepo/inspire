{
 "cells": [
  {
   "cell_type": "markdown",
   "metadata": {
    "slideshow": {
     "slide_type": "slide"
    }
   },
   "source": [
    "# Análisis de datos"
   ]
  },
  {
   "cell_type": "markdown",
   "metadata": {
    "slideshow": {
     "slide_type": "skip"
    }
   },
   "source": [
    "Para generar las slides use:"
   ]
  },
  {
   "cell_type": "code",
   "execution_count": 30,
   "metadata": {
    "slideshow": {
     "slide_type": "skip"
    }
   },
   "outputs": [
    {
     "name": "stderr",
     "output_type": "stream",
     "text": [
      "[NbConvertApp] Converting notebook ALL_inspire.ipynb to slides\n",
      "[NbConvertApp] Writing 273514 bytes to ALL_inspire.slides.html\n"
     ]
    }
   ],
   "source": [
    "%%bash\n",
    "jupyter nbconvert ALL_inspire.ipynb --to slides --reveal-prefix \"https://cdnjs.cloudflare.com/ajax/libs/reveal.js/3.1.0\""
   ]
  },
  {
   "cell_type": "code",
   "execution_count": 87,
   "metadata": {
    "slideshow": {
     "slide_type": "fragment"
    }
   },
   "outputs": [],
   "source": [
    "import numpy as np\n",
    "import pandas as pd\n",
    "pd.set_option('display.max_colwidth',200)"
   ]
  },
  {
   "cell_type": "markdown",
   "metadata": {
    "slideshow": {
     "slide_type": "fragment"
    }
   },
   "source": [
    "Download from [here](https://drive.google.com/file/d/1NtocdsxbTky5uLmKp3eDoGcQG7qsTEYv/view?usp=sharing) "
   ]
  },
  {
   "cell_type": "code",
   "execution_count": 5,
   "metadata": {
    "slideshow": {
     "slide_type": "fragment"
    }
   },
   "outputs": [],
   "source": [
    "df=pd.read_json('hep_records.json',lines=True)"
   ]
  },
  {
   "cell_type": "code",
   "execution_count": 29,
   "metadata": {
    "slideshow": {
     "slide_type": "fragment"
    }
   },
   "outputs": [
    {
     "data": {
      "text/plain": [
       "(1271720, 10)"
      ]
     },
     "execution_count": 29,
     "metadata": {},
     "output_type": "execute_result"
    }
   ],
   "source": [
    "df.shape"
   ]
  },
  {
   "cell_type": "code",
   "execution_count": 367,
   "metadata": {
    "slideshow": {
     "slide_type": "slide"
    }
   },
   "outputs": [],
   "source": [
    "dfr=df[df.references.map(len)>0].reset_index(drop=True)"
   ]
  },
  {
   "cell_type": "code",
   "execution_count": 368,
   "metadata": {},
   "outputs": [
    {
     "ename": "ValueError",
     "evalue": "Cannot take a larger sample than population when 'replace=False'",
     "output_type": "error",
     "traceback": [
      "\u001b[0;31m---------------------------------------------------------------------------\u001b[0m",
      "\u001b[0;31mValueError\u001b[0m                                Traceback (most recent call last)",
      "\u001b[0;32m<ipython-input-368-941e1a8ccaa0>\u001b[0m in \u001b[0;36m<module>\u001b[0;34m()\u001b[0m\n\u001b[0;32m----> 1\u001b[0;31m \u001b[0mdfr\u001b[0m\u001b[0;34m=\u001b[0m\u001b[0mdfr\u001b[0m\u001b[0;34m.\u001b[0m\u001b[0msample\u001b[0m\u001b[0;34m(\u001b[0m\u001b[0;36m1000\u001b[0m\u001b[0;34m)\u001b[0m\u001b[0;34m.\u001b[0m\u001b[0mreset_index\u001b[0m\u001b[0;34m(\u001b[0m\u001b[0mdrop\u001b[0m\u001b[0;34m=\u001b[0m\u001b[0;32mTrue\u001b[0m\u001b[0;34m)\u001b[0m\u001b[0;34m\u001b[0m\u001b[0m\n\u001b[0m",
      "\u001b[0;32m/usr/local/lib/python3.5/dist-packages/pandas/core/generic.py\u001b[0m in \u001b[0;36msample\u001b[0;34m(self, n, frac, replace, weights, random_state, axis)\u001b[0m\n\u001b[1;32m   2898\u001b[0m                              \"provide positive value.\")\n\u001b[1;32m   2899\u001b[0m \u001b[0;34m\u001b[0m\u001b[0m\n\u001b[0;32m-> 2900\u001b[0;31m         \u001b[0mlocs\u001b[0m \u001b[0;34m=\u001b[0m \u001b[0mrs\u001b[0m\u001b[0;34m.\u001b[0m\u001b[0mchoice\u001b[0m\u001b[0;34m(\u001b[0m\u001b[0maxis_length\u001b[0m\u001b[0;34m,\u001b[0m \u001b[0msize\u001b[0m\u001b[0;34m=\u001b[0m\u001b[0mn\u001b[0m\u001b[0;34m,\u001b[0m \u001b[0mreplace\u001b[0m\u001b[0;34m=\u001b[0m\u001b[0mreplace\u001b[0m\u001b[0;34m,\u001b[0m \u001b[0mp\u001b[0m\u001b[0;34m=\u001b[0m\u001b[0mweights\u001b[0m\u001b[0;34m)\u001b[0m\u001b[0;34m\u001b[0m\u001b[0m\n\u001b[0m\u001b[1;32m   2901\u001b[0m         \u001b[0;32mreturn\u001b[0m \u001b[0mself\u001b[0m\u001b[0;34m.\u001b[0m\u001b[0mtake\u001b[0m\u001b[0;34m(\u001b[0m\u001b[0mlocs\u001b[0m\u001b[0;34m,\u001b[0m \u001b[0maxis\u001b[0m\u001b[0;34m=\u001b[0m\u001b[0maxis\u001b[0m\u001b[0;34m,\u001b[0m \u001b[0mis_copy\u001b[0m\u001b[0;34m=\u001b[0m\u001b[0;32mFalse\u001b[0m\u001b[0;34m)\u001b[0m\u001b[0;34m\u001b[0m\u001b[0m\n\u001b[1;32m   2902\u001b[0m \u001b[0;34m\u001b[0m\u001b[0m\n",
      "\u001b[0;32mmtrand.pyx\u001b[0m in \u001b[0;36mmtrand.RandomState.choice (numpy/random/mtrand/mtrand.c:18155)\u001b[0;34m()\u001b[0m\n",
      "\u001b[0;31mValueError\u001b[0m: Cannot take a larger sample than population when 'replace=False'"
     ]
    }
   ],
   "source": [
    "dfr=dfr.sample(1000).reset_index(drop=True)"
   ]
  },
  {
   "cell_type": "code",
   "execution_count": 43,
   "metadata": {},
   "outputs": [
    {
     "data": {
      "text/plain": [
       "[783169, 370019, 817606, 1187563, 834316, 708944, 784952, 839772, 764799]"
      ]
     },
     "execution_count": 43,
     "metadata": {},
     "output_type": "execute_result"
    }
   ],
   "source": [
    "i=20\n",
    "dfr.loc[i,'references']"
   ]
  },
  {
   "cell_type": "code",
   "execution_count": null,
   "metadata": {},
   "outputs": [],
   "source": [
    "ps.map(lambda x: lv.ratio(x,parameter))"
   ]
  },
  {
   "cell_type": "code",
   "execution_count": 307,
   "metadata": {},
   "outputs": [],
   "source": [
    "def check_ref(x,ref):\n",
    "    return x in ref"
   ]
  },
  {
   "cell_type": "code",
   "execution_count": 296,
   "metadata": {},
   "outputs": [],
   "source": []
  },
  {
   "cell_type": "code",
   "execution_count": 47,
   "metadata": {},
   "outputs": [
    {
     "data": {
      "text/html": [
       "<div>\n",
       "<style>\n",
       "    .dataframe thead tr:only-child th {\n",
       "        text-align: right;\n",
       "    }\n",
       "\n",
       "    .dataframe thead th {\n",
       "        text-align: left;\n",
       "    }\n",
       "\n",
       "    .dataframe tbody tr th {\n",
       "        vertical-align: top;\n",
       "    }\n",
       "</style>\n",
       "<table border=\"1\" class=\"dataframe\">\n",
       "  <thead>\n",
       "    <tr style=\"text-align: right;\">\n",
       "      <th></th>\n",
       "      <th>abstract</th>\n",
       "      <th>authors</th>\n",
       "      <th>citations</th>\n",
       "      <th>co-authors</th>\n",
       "      <th>creation_date</th>\n",
       "      <th>free_keywords</th>\n",
       "      <th>recid</th>\n",
       "      <th>references</th>\n",
       "      <th>standardized_keywords</th>\n",
       "      <th>title</th>\n",
       "    </tr>\n",
       "  </thead>\n",
       "  <tbody>\n",
       "    <tr>\n",
       "      <th>20</th>\n",
       "      <td>A model is presented here that is capable of s...</td>\n",
       "      <td>[Shahmoradi, Amir]</td>\n",
       "      <td>[1639400, 1455762]</td>\n",
       "      <td>[]</td>\n",
       "      <td>2013-08-05</td>\n",
       "      <td>[]</td>\n",
       "      <td>1246726</td>\n",
       "      <td>[783169, 370019, 817606, 1187563, 834316, 7089...</td>\n",
       "      <td>[]</td>\n",
       "      <td>Gamma-Ray bursts: Energetics and Prompt Correl...</td>\n",
       "    </tr>\n",
       "  </tbody>\n",
       "</table>\n",
       "</div>"
      ],
      "text/plain": [
       "                                             abstract             authors  \\\n",
       "20  A model is presented here that is capable of s...  [Shahmoradi, Amir]   \n",
       "\n",
       "             citations co-authors creation_date free_keywords    recid  \\\n",
       "20  [1639400, 1455762]         []    2013-08-05            []  1246726   \n",
       "\n",
       "                                           references standardized_keywords  \\\n",
       "20  [783169, 370019, 817606, 1187563, 834316, 7089...                    []   \n",
       "\n",
       "                                                title  \n",
       "20  Gamma-Ray bursts: Energetics and Prompt Correl...  "
      ]
     },
     "execution_count": 47,
     "metadata": {},
     "output_type": "execute_result"
    }
   ],
   "source": [
    "dfr[dfr.references.map(lambda x: check_ref(x,783169))]"
   ]
  },
  {
   "cell_type": "markdown",
   "metadata": {},
   "source": [
    "build relations"
   ]
  },
  {
   "cell_type": "code",
   "execution_count": 50,
   "metadata": {},
   "outputs": [],
   "source": [
    "dfr=dfr.append( df[df.references.map(lambda x: check_ref(x,783169))] ).reset_index(drop=True)"
   ]
  },
  {
   "cell_type": "code",
   "execution_count": null,
   "metadata": {},
   "outputs": [],
   "source": []
  },
  {
   "cell_type": "code",
   "execution_count": 53,
   "metadata": {},
   "outputs": [],
   "source": [
    "def check_intersect1d(x,y):\n",
    "    return np.intersect1d(x,y)"
   ]
  },
  {
   "cell_type": "code",
   "execution_count": 52,
   "metadata": {},
   "outputs": [
    {
     "data": {
      "text/plain": [
       "[783169, 370019, 817606, 1187563, 834316, 708944, 784952, 839772, 764799]"
      ]
     },
     "execution_count": 52,
     "metadata": {},
     "output_type": "execute_result"
    }
   ],
   "source": [
    "i=20\n",
    "dfr.loc[i,'references']"
   ]
  },
  {
   "cell_type": "code",
   "execution_count": 58,
   "metadata": {},
   "outputs": [],
   "source": [
    "np.equal?"
   ]
  },
  {
   "cell_type": "code",
   "execution_count": 75,
   "metadata": {},
   "outputs": [],
   "source": [
    "dfr=dfr.drop_duplicates(['title']).reset_index(drop=True)"
   ]
  },
  {
   "cell_type": "code",
   "execution_count": 76,
   "metadata": {},
   "outputs": [
    {
     "data": {
      "text/html": [
       "<div>\n",
       "<style>\n",
       "    .dataframe thead tr:only-child th {\n",
       "        text-align: right;\n",
       "    }\n",
       "\n",
       "    .dataframe thead th {\n",
       "        text-align: left;\n",
       "    }\n",
       "\n",
       "    .dataframe tbody tr th {\n",
       "        vertical-align: top;\n",
       "    }\n",
       "</style>\n",
       "<table border=\"1\" class=\"dataframe\">\n",
       "  <thead>\n",
       "    <tr style=\"text-align: right;\">\n",
       "      <th></th>\n",
       "      <th>abstract</th>\n",
       "      <th>authors</th>\n",
       "      <th>citations</th>\n",
       "      <th>co-authors</th>\n",
       "      <th>creation_date</th>\n",
       "      <th>free_keywords</th>\n",
       "      <th>recid</th>\n",
       "      <th>references</th>\n",
       "      <th>standardized_keywords</th>\n",
       "      <th>title</th>\n",
       "    </tr>\n",
       "  </thead>\n",
       "  <tbody>\n",
       "    <tr>\n",
       "      <th>20</th>\n",
       "      <td>A model is presented here that is capable of s...</td>\n",
       "      <td>[Shahmoradi, Amir]</td>\n",
       "      <td>[1639400, 1455762]</td>\n",
       "      <td>[]</td>\n",
       "      <td>2013-08-05</td>\n",
       "      <td>[]</td>\n",
       "      <td>1246726</td>\n",
       "      <td>[783169, 370019, 817606, 1187563, 834316, 7089...</td>\n",
       "      <td>[]</td>\n",
       "      <td>Gamma-Ray bursts: Energetics and Prompt Correl...</td>\n",
       "    </tr>\n",
       "  </tbody>\n",
       "</table>\n",
       "</div>"
      ],
      "text/plain": [
       "                                             abstract             authors  \\\n",
       "20  A model is presented here that is capable of s...  [Shahmoradi, Amir]   \n",
       "\n",
       "             citations co-authors creation_date free_keywords    recid  \\\n",
       "20  [1639400, 1455762]         []    2013-08-05            []  1246726   \n",
       "\n",
       "                                           references standardized_keywords  \\\n",
       "20  [783169, 370019, 817606, 1187563, 834316, 7089...                    []   \n",
       "\n",
       "                                                title  \n",
       "20  Gamma-Ray bursts: Energetics and Prompt Correl...  "
      ]
     },
     "execution_count": 76,
     "metadata": {},
     "output_type": "execute_result"
    }
   ],
   "source": [
    "dfr[ dfr.references.astype(str)==str(dfr.loc[i,'references']) ]"
   ]
  },
  {
   "cell_type": "code",
   "execution_count": 91,
   "metadata": {},
   "outputs": [],
   "source": [
    "dfr['intersect']=dfr.references.map(lambda x: check_intersect1d(x,dfr.loc[i,'references'])).map(len)"
   ]
  },
  {
   "cell_type": "code",
   "execution_count": null,
   "metadata": {},
   "outputs": [],
   "source": []
  },
  {
   "cell_type": "code",
   "execution_count": 83,
   "metadata": {},
   "outputs": [
    {
     "data": {
      "text/plain": [
       "20"
      ]
     },
     "execution_count": 83,
     "metadata": {},
     "output_type": "execute_result"
    }
   ],
   "source": [
    "i"
   ]
  },
  {
   "cell_type": "code",
   "execution_count": 89,
   "metadata": {},
   "outputs": [
    {
     "data": {
      "text/plain": [
       "'Gamma-Ray bursts: Energetics and Prompt Correlations'"
      ]
     },
     "execution_count": 89,
     "metadata": {},
     "output_type": "execute_result"
    }
   ],
   "source": [
    "dfr.loc[i,'title']"
   ]
  },
  {
   "cell_type": "code",
   "execution_count": 97,
   "metadata": {},
   "outputs": [
    {
     "data": {
      "text/plain": [
       "1246726"
      ]
     },
     "execution_count": 97,
     "metadata": {},
     "output_type": "execute_result"
    }
   ],
   "source": [
    "dfr.loc[i,'recid']"
   ]
  },
  {
   "cell_type": "code",
   "execution_count": 95,
   "metadata": {},
   "outputs": [],
   "source": [
    "rslt=dfr[dfr.intersect>4].drop( dfr.index[[i]] )\n",
    "rslt['node']=dfr.loc[i,'recid']"
   ]
  },
  {
   "cell_type": "code",
   "execution_count": 98,
   "metadata": {},
   "outputs": [],
   "source": [
    "rslt['node']=dfr.loc[i,'recid']"
   ]
  },
  {
   "cell_type": "code",
   "execution_count": 99,
   "metadata": {},
   "outputs": [
    {
     "data": {
      "text/html": [
       "<div>\n",
       "<style>\n",
       "    .dataframe thead tr:only-child th {\n",
       "        text-align: right;\n",
       "    }\n",
       "\n",
       "    .dataframe thead th {\n",
       "        text-align: left;\n",
       "    }\n",
       "\n",
       "    .dataframe tbody tr th {\n",
       "        vertical-align: top;\n",
       "    }\n",
       "</style>\n",
       "<table border=\"1\" class=\"dataframe\">\n",
       "  <thead>\n",
       "    <tr style=\"text-align: right;\">\n",
       "      <th></th>\n",
       "      <th>abstract</th>\n",
       "      <th>authors</th>\n",
       "      <th>citations</th>\n",
       "      <th>co-authors</th>\n",
       "      <th>creation_date</th>\n",
       "      <th>free_keywords</th>\n",
       "      <th>recid</th>\n",
       "      <th>references</th>\n",
       "      <th>standardized_keywords</th>\n",
       "      <th>title</th>\n",
       "      <th>intersect</th>\n",
       "      <th>node</th>\n",
       "    </tr>\n",
       "  </thead>\n",
       "  <tbody>\n",
       "    <tr>\n",
       "      <th>1016</th>\n",
       "      <td>We calculate durations and spectral parameters for 207 Swift bursts detected by the BAT instrument from April 2007 to August 2009, including 67 events with measured redshifts. This is the first su...</td>\n",
       "      <td>[Butler, Nathaniel R.]</td>\n",
       "      <td>[1298947, 1246726, 1193486, 884753, 1391635, 1357845, 1224726, 838916, 1631771, 1358366, 901151, 1351720, 839772, 1347114, 1321515, 842284, 1358897, 1358898, 1352762, 1340987, 1235004, 1467975, 12...</td>\n",
       "      <td>[Bloom, Joshua S., Poznanski, Dovi]</td>\n",
       "      <td>2009-10</td>\n",
       "      <td>[gamms rays: bursts, methods: statistical, Gamma-rays: general]</td>\n",
       "      <td>834316</td>\n",
       "      <td>[495617, 813313, 825357, 651281, 766484, 782869, 709144, 332317, 677410, 819237, 655793, 820785, 495670, 784952, 666682, 575551, 708161, 575556, 722501, 628295, 793165, 820311, 715870, 496735, 139...</td>\n",
       "      <td>[gamma ray: burst, correlation, luminosity: redshift, statistical analysis, trigger: threshold, X-ray, detector: satellite, experimental results, numerical calculations: Monte Carlo]</td>\n",
       "      <td>The Cosmic Rate, Luminosity Function and Intrinsic Correlations of Long GRBs</td>\n",
       "      <td>5</td>\n",
       "      <td>1246726</td>\n",
       "    </tr>\n",
       "    <tr>\n",
       "      <th>1043</th>\n",
       "      <td>It is proposed that the luminosity function, the rest-frame spectral correlations, and distributions of cosmological long-duration (Type-II) gamma-ray bursts (LGRBs) may be very well described as ...</td>\n",
       "      <td>[Shahmoradi, Amir]</td>\n",
       "      <td>[1512896, 1636736, 1377922, 1246726, 1420108, 1262281, 1318315, 1237644, 1639400, 1625715, 1265046, 1334874, 1305404]</td>\n",
       "      <td>[]</td>\n",
       "      <td>2012-09</td>\n",
       "      <td>[dark energy, gamma-ray burst: general, methods: statistical]</td>\n",
       "      <td>1187563</td>\n",
       "      <td>[723970, 913417, 243724, 87981, 651281, 496658, 847379, 502297, 332317, 668209, 855092, 946741, 784952, 575556, 782917, 839772, 445537, 574050, 884753, 752755, 573053, 519819, 830609, 1091224, 689...</td>\n",
       "      <td>[]</td>\n",
       "      <td>A Multivariate Fit Luminosity Function and World Model for Long GRBs</td>\n",
       "      <td>8</td>\n",
       "      <td>1246726</td>\n",
       "    </tr>\n",
       "    <tr>\n",
       "      <th>1062</th>\n",
       "      <td>Gamma-ray bursts (GRBs) are the most luminous electromagnetic explosions in the Universe, which emit up to $8.8\\times10^{54}$ erg isotropic equivalent energy in the hard X-ray band. The high lumin...</td>\n",
       "      <td>[Wang, F.Y.]</td>\n",
       "      <td>[1618317, 1395214, 1495951, 1645717, 1380119, 1636120, 1489306, 1504923, 1415709, 1358366, 1489059, 1637550, 1599804, 1474109, 1493826, 1427267, 1649997, 1510224, 1510226, 1510227, 1501454, 151023...</td>\n",
       "      <td>[Dai, Z.G., Liang, E.W.]</td>\n",
       "      <td>2015-04-02</td>\n",
       "      <td>[]</td>\n",
       "      <td>1357858</td>\n",
       "      <td>[611328, 857601, 1298947, 1115140, 835589, 864857, 415751, 733193, 781836, 822530, 686095, 712720, 651281, 713746, 698627, 842284, 699925, 675350, 681495, 709144, 720409, 1224726, 660508, 841306, ...</td>\n",
       "      <td>[]</td>\n",
       "      <td>Gamma-ray Burst Cosmology</td>\n",
       "      <td>6</td>\n",
       "      <td>1246726</td>\n",
       "    </tr>\n",
       "  </tbody>\n",
       "</table>\n",
       "</div>"
      ],
      "text/plain": [
       "                                                                                                                                                                                                     abstract  \\\n",
       "1016  We calculate durations and spectral parameters for 207 Swift bursts detected by the BAT instrument from April 2007 to August 2009, including 67 events with measured redshifts. This is the first su...   \n",
       "1043  It is proposed that the luminosity function, the rest-frame spectral correlations, and distributions of cosmological long-duration (Type-II) gamma-ray bursts (LGRBs) may be very well described as ...   \n",
       "1062  Gamma-ray bursts (GRBs) are the most luminous electromagnetic explosions in the Universe, which emit up to $8.8\\times10^{54}$ erg isotropic equivalent energy in the hard X-ray band. The high lumin...   \n",
       "\n",
       "                     authors  \\\n",
       "1016  [Butler, Nathaniel R.]   \n",
       "1043      [Shahmoradi, Amir]   \n",
       "1062            [Wang, F.Y.]   \n",
       "\n",
       "                                                                                                                                                                                                    citations  \\\n",
       "1016  [1298947, 1246726, 1193486, 884753, 1391635, 1357845, 1224726, 838916, 1631771, 1358366, 901151, 1351720, 839772, 1347114, 1321515, 842284, 1358897, 1358898, 1352762, 1340987, 1235004, 1467975, 12...   \n",
       "1043                                                                                    [1512896, 1636736, 1377922, 1246726, 1420108, 1262281, 1318315, 1237644, 1639400, 1625715, 1265046, 1334874, 1305404]   \n",
       "1062  [1618317, 1395214, 1495951, 1645717, 1380119, 1636120, 1489306, 1504923, 1415709, 1358366, 1489059, 1637550, 1599804, 1474109, 1493826, 1427267, 1649997, 1510224, 1510226, 1510227, 1501454, 151023...   \n",
       "\n",
       "                               co-authors creation_date  \\\n",
       "1016  [Bloom, Joshua S., Poznanski, Dovi]       2009-10   \n",
       "1043                                   []       2012-09   \n",
       "1062             [Dai, Z.G., Liang, E.W.]    2015-04-02   \n",
       "\n",
       "                                                        free_keywords  \\\n",
       "1016  [gamms rays: bursts, methods: statistical, Gamma-rays: general]   \n",
       "1043    [dark energy, gamma-ray burst: general, methods: statistical]   \n",
       "1062                                                               []   \n",
       "\n",
       "        recid  \\\n",
       "1016   834316   \n",
       "1043  1187563   \n",
       "1062  1357858   \n",
       "\n",
       "                                                                                                                                                                                                   references  \\\n",
       "1016  [495617, 813313, 825357, 651281, 766484, 782869, 709144, 332317, 677410, 819237, 655793, 820785, 495670, 784952, 666682, 575551, 708161, 575556, 722501, 628295, 793165, 820311, 715870, 496735, 139...   \n",
       "1043  [723970, 913417, 243724, 87981, 651281, 496658, 847379, 502297, 332317, 668209, 855092, 946741, 784952, 575556, 782917, 839772, 445537, 574050, 884753, 752755, 573053, 519819, 830609, 1091224, 689...   \n",
       "1062  [611328, 857601, 1298947, 1115140, 835589, 864857, 415751, 733193, 781836, 822530, 686095, 712720, 651281, 713746, 698627, 842284, 699925, 675350, 681495, 709144, 720409, 1224726, 660508, 841306, ...   \n",
       "\n",
       "                                                                                                                                                                       standardized_keywords  \\\n",
       "1016  [gamma ray: burst, correlation, luminosity: redshift, statistical analysis, trigger: threshold, X-ray, detector: satellite, experimental results, numerical calculations: Monte Carlo]   \n",
       "1043                                                                                                                                                                                      []   \n",
       "1062                                                                                                                                                                                      []   \n",
       "\n",
       "                                                                             title  \\\n",
       "1016  The Cosmic Rate, Luminosity Function and Intrinsic Correlations of Long GRBs   \n",
       "1043          A Multivariate Fit Luminosity Function and World Model for Long GRBs   \n",
       "1062                                                     Gamma-ray Burst Cosmology   \n",
       "\n",
       "      intersect     node  \n",
       "1016          5  1246726  \n",
       "1043          8  1246726  \n",
       "1062          6  1246726  "
      ]
     },
     "execution_count": 99,
     "metadata": {},
     "output_type": "execute_result"
    }
   ],
   "source": [
    "rslt"
   ]
  },
  {
   "cell_type": "code",
   "execution_count": 18,
   "metadata": {},
   "outputs": [
    {
     "data": {
      "text/html": [
       "<div>\n",
       "<style>\n",
       "    .dataframe thead tr:only-child th {\n",
       "        text-align: right;\n",
       "    }\n",
       "\n",
       "    .dataframe thead th {\n",
       "        text-align: left;\n",
       "    }\n",
       "\n",
       "    .dataframe tbody tr th {\n",
       "        vertical-align: top;\n",
       "    }\n",
       "</style>\n",
       "<table border=\"1\" class=\"dataframe\">\n",
       "  <thead>\n",
       "    <tr style=\"text-align: right;\">\n",
       "      <th></th>\n",
       "      <th>abstract</th>\n",
       "      <th>authors</th>\n",
       "      <th>citations</th>\n",
       "      <th>co-authors</th>\n",
       "      <th>creation_date</th>\n",
       "      <th>free_keywords</th>\n",
       "      <th>recid</th>\n",
       "      <th>references</th>\n",
       "      <th>standardized_keywords</th>\n",
       "      <th>title</th>\n",
       "    </tr>\n",
       "  </thead>\n",
       "  <tbody>\n",
       "    <tr>\n",
       "      <th>0</th>\n",
       "      <td>Introduction Part I. Isoclinic nn-planes in E2...</td>\n",
       "      <td>[Wong, Yung-Chow]</td>\n",
       "      <td>[452267, 1520868, 1614833, 275304, 524107, 762...</td>\n",
       "      <td>[]</td>\n",
       "      <td>1961</td>\n",
       "      <td>[]</td>\n",
       "      <td>1</td>\n",
       "      <td>[]</td>\n",
       "      <td>[]</td>\n",
       "      <td>Isoclinic N planes in Euclidean 2N space, Clif...</td>\n",
       "    </tr>\n",
       "    <tr>\n",
       "      <th>1</th>\n",
       "      <td></td>\n",
       "      <td>[Breymayer, K.E.]</td>\n",
       "      <td>[]</td>\n",
       "      <td>[Mallory, Kenneth B.]</td>\n",
       "      <td>1963-03</td>\n",
       "      <td>[]</td>\n",
       "      <td>17</td>\n",
       "      <td>[]</td>\n",
       "      <td>[]</td>\n",
       "      <td>SYSTEM INTERCONNECTION AND PROTECTION OF THE M...</td>\n",
       "    </tr>\n",
       "    <tr>\n",
       "      <th>2</th>\n",
       "      <td></td>\n",
       "      <td>[Johnston, Lawrence II.]</td>\n",
       "      <td>[1374812]</td>\n",
       "      <td>[Murray, Joseph J., Gearhart, Roger A., Hauser...</td>\n",
       "      <td>1977-08</td>\n",
       "      <td>[]</td>\n",
       "      <td>18</td>\n",
       "      <td>[48647]</td>\n",
       "      <td>[]</td>\n",
       "      <td>A target beam monitor using secondary electron...</td>\n",
       "    </tr>\n",
       "    <tr>\n",
       "      <th>3</th>\n",
       "      <td></td>\n",
       "      <td>[Muray, J.J.]</td>\n",
       "      <td>[1193744, 1320713]</td>\n",
       "      <td>[]</td>\n",
       "      <td>1963-06</td>\n",
       "      <td>[]</td>\n",
       "      <td>20</td>\n",
       "      <td>[]</td>\n",
       "      <td>[]</td>\n",
       "      <td>IRRADIATION OF A CERIUM - CONTAINING SILICATE ...</td>\n",
       "    </tr>\n",
       "    <tr>\n",
       "      <th>4</th>\n",
       "      <td></td>\n",
       "      <td>[Mozley, Robert F.]</td>\n",
       "      <td>[]</td>\n",
       "      <td>[]</td>\n",
       "      <td>1963-08</td>\n",
       "      <td>[]</td>\n",
       "      <td>23</td>\n",
       "      <td>[]</td>\n",
       "      <td>[]</td>\n",
       "      <td>PROPOSAL FOR A LARGE SOLID ANGLE PHOTON AND EL...</td>\n",
       "    </tr>\n",
       "    <tr>\n",
       "      <th>5</th>\n",
       "      <td></td>\n",
       "      <td>[Vakhrushin, Yu.P.]</td>\n",
       "      <td>[]</td>\n",
       "      <td>[Ryabov, V.V.]</td>\n",
       "      <td>1977</td>\n",
       "      <td>[]</td>\n",
       "      <td>24</td>\n",
       "      <td>[]</td>\n",
       "      <td>[]</td>\n",
       "      <td>Study of electron Induced Desorption from the ...</td>\n",
       "    </tr>\n",
       "    <tr>\n",
       "      <th>6</th>\n",
       "      <td></td>\n",
       "      <td>[Miller, Roger H.]</td>\n",
       "      <td>[322667]</td>\n",
       "      <td>[]</td>\n",
       "      <td>1963-08</td>\n",
       "      <td>[]</td>\n",
       "      <td>25</td>\n",
       "      <td>[]</td>\n",
       "      <td>[]</td>\n",
       "      <td>PROPOSED BUNCH MONITOR</td>\n",
       "    </tr>\n",
       "    <tr>\n",
       "      <th>7</th>\n",
       "      <td></td>\n",
       "      <td>[]</td>\n",
       "      <td>[899865]</td>\n",
       "      <td>[]</td>\n",
       "      <td>1977</td>\n",
       "      <td>[]</td>\n",
       "      <td>26</td>\n",
       "      <td>[]</td>\n",
       "      <td>[]</td>\n",
       "      <td>withdrawn or canceled</td>\n",
       "    </tr>\n",
       "    <tr>\n",
       "      <th>8</th>\n",
       "      <td></td>\n",
       "      <td>[]</td>\n",
       "      <td>[1208691, 1322317]</td>\n",
       "      <td>[]</td>\n",
       "      <td>1977</td>\n",
       "      <td>[]</td>\n",
       "      <td>27</td>\n",
       "      <td>[]</td>\n",
       "      <td>[]</td>\n",
       "      <td>withdrawn or canceled</td>\n",
       "    </tr>\n",
       "    <tr>\n",
       "      <th>9</th>\n",
       "      <td></td>\n",
       "      <td>[Helm, Richard H.]</td>\n",
       "      <td>[]</td>\n",
       "      <td>[]</td>\n",
       "      <td>1963-06</td>\n",
       "      <td>[]</td>\n",
       "      <td>28</td>\n",
       "      <td>[]</td>\n",
       "      <td>[]</td>\n",
       "      <td>CALCULATIONS ON CYLINDRICAL METAL VACUUM CHAMB...</td>\n",
       "    </tr>\n",
       "  </tbody>\n",
       "</table>\n",
       "</div>"
      ],
      "text/plain": [
       "                                            abstract  \\\n",
       "0  Introduction Part I. Isoclinic nn-planes in E2...   \n",
       "1                                                      \n",
       "2                                                      \n",
       "3                                                      \n",
       "4                                                      \n",
       "5                                                      \n",
       "6                                                      \n",
       "7                                                      \n",
       "8                                                      \n",
       "9                                                      \n",
       "\n",
       "                    authors  \\\n",
       "0         [Wong, Yung-Chow]   \n",
       "1         [Breymayer, K.E.]   \n",
       "2  [Johnston, Lawrence II.]   \n",
       "3             [Muray, J.J.]   \n",
       "4       [Mozley, Robert F.]   \n",
       "5       [Vakhrushin, Yu.P.]   \n",
       "6        [Miller, Roger H.]   \n",
       "7                        []   \n",
       "8                        []   \n",
       "9        [Helm, Richard H.]   \n",
       "\n",
       "                                           citations  \\\n",
       "0  [452267, 1520868, 1614833, 275304, 524107, 762...   \n",
       "1                                                 []   \n",
       "2                                          [1374812]   \n",
       "3                                 [1193744, 1320713]   \n",
       "4                                                 []   \n",
       "5                                                 []   \n",
       "6                                           [322667]   \n",
       "7                                           [899865]   \n",
       "8                                 [1208691, 1322317]   \n",
       "9                                                 []   \n",
       "\n",
       "                                          co-authors creation_date  \\\n",
       "0                                                 []          1961   \n",
       "1                              [Mallory, Kenneth B.]       1963-03   \n",
       "2  [Murray, Joseph J., Gearhart, Roger A., Hauser...       1977-08   \n",
       "3                                                 []       1963-06   \n",
       "4                                                 []       1963-08   \n",
       "5                                     [Ryabov, V.V.]          1977   \n",
       "6                                                 []       1963-08   \n",
       "7                                                 []          1977   \n",
       "8                                                 []          1977   \n",
       "9                                                 []       1963-06   \n",
       "\n",
       "  free_keywords  recid references standardized_keywords  \\\n",
       "0            []      1         []                    []   \n",
       "1            []     17         []                    []   \n",
       "2            []     18    [48647]                    []   \n",
       "3            []     20         []                    []   \n",
       "4            []     23         []                    []   \n",
       "5            []     24         []                    []   \n",
       "6            []     25         []                    []   \n",
       "7            []     26         []                    []   \n",
       "8            []     27         []                    []   \n",
       "9            []     28         []                    []   \n",
       "\n",
       "                                               title  \n",
       "0  Isoclinic N planes in Euclidean 2N space, Clif...  \n",
       "1  SYSTEM INTERCONNECTION AND PROTECTION OF THE M...  \n",
       "2  A target beam monitor using secondary electron...  \n",
       "3  IRRADIATION OF A CERIUM - CONTAINING SILICATE ...  \n",
       "4  PROPOSAL FOR A LARGE SOLID ANGLE PHOTON AND EL...  \n",
       "5  Study of electron Induced Desorption from the ...  \n",
       "6                             PROPOSED BUNCH MONITOR  \n",
       "7                              withdrawn or canceled  \n",
       "8                              withdrawn or canceled  \n",
       "9  CALCULATIONS ON CYLINDRICAL METAL VACUUM CHAMB...  "
      ]
     },
     "execution_count": 18,
     "metadata": {},
     "output_type": "execute_result"
    }
   ],
   "source": [
    "dff=df.read_json('')"
   ]
  },
  {
   "cell_type": "code",
   "execution_count": 25,
   "metadata": {},
   "outputs": [],
   "source": [
    "# df.to_excel('kk.xlsx',index=False)"
   ]
  },
  {
   "cell_type": "code",
   "execution_count": 547,
   "metadata": {},
   "outputs": [
    {
     "data": {
      "text/html": [
       "<div>\n",
       "<style>\n",
       "    .dataframe thead tr:only-child th {\n",
       "        text-align: right;\n",
       "    }\n",
       "\n",
       "    .dataframe thead th {\n",
       "        text-align: left;\n",
       "    }\n",
       "\n",
       "    .dataframe tbody tr th {\n",
       "        vertical-align: top;\n",
       "    }\n",
       "</style>\n",
       "<table border=\"1\" class=\"dataframe\">\n",
       "  <thead>\n",
       "    <tr style=\"text-align: right;\">\n",
       "      <th></th>\n",
       "      <th>recid</th>\n",
       "      <th>references</th>\n",
       "    </tr>\n",
       "  </thead>\n",
       "  <tbody>\n",
       "    <tr>\n",
       "      <th>0</th>\n",
       "      <td>1</td>\n",
       "      <td>[1, 2, 4, 5, 6, 7, 10, 12, 13, 15, 17, 18, 20, 21, 22, 25, 29, 30, 31, 33, 34, 36, 37, 38, 40, 41, 42, 44, 46, 49, 50, 51, 52, 53, 54, 55, 56, 58, 64, 66, 67, 70, 71, 77, 79, 80, 81, 82, 83, 84, 8...</td>\n",
       "    </tr>\n",
       "    <tr>\n",
       "      <th>1</th>\n",
       "      <td>2</td>\n",
       "      <td>[2, 3, 4, 9, 11, 18, 19, 20, 25, 26, 27, 28, 29, 31, 32, 33, 34, 36, 39, 40, 41, 47, 48, 51, 57, 60, 62, 64, 72, 73, 74, 75, 76, 81, 84, 86, 87, 89, 90, 91, 93, 94, 95, 96, 99]</td>\n",
       "    </tr>\n",
       "  </tbody>\n",
       "</table>\n",
       "</div>"
      ],
      "text/plain": [
       "   recid  \\\n",
       "0      1   \n",
       "1      2   \n",
       "\n",
       "                                                                                                                                                                                                references  \n",
       "0  [1, 2, 4, 5, 6, 7, 10, 12, 13, 15, 17, 18, 20, 21, 22, 25, 29, 30, 31, 33, 34, 36, 37, 38, 40, 41, 42, 44, 46, 49, 50, 51, 52, 53, 54, 55, 56, 58, 64, 66, 67, 70, 71, 77, 79, 80, 81, 82, 83, 84, 8...  \n",
       "1                         [2, 3, 4, 9, 11, 18, 19, 20, 25, 26, 27, 28, 29, 31, 32, 33, 34, 36, 39, 40, 41, 47, 48, 51, 57, 60, 62, 64, 72, 73, 74, 75, 76, 81, 84, 86, 87, 89, 90, 91, 93, 94, 95, 96, 99]  "
      ]
     },
     "execution_count": 547,
     "metadata": {},
     "output_type": "execute_result"
    }
   ],
   "source": [
    "n=100\n",
    "df=pd.DataFrame({'recid':np.arange(1,n+1)  })\n",
    "l=[]\n",
    "for i in df.index:\n",
    "    #print(i)\n",
    "    l.append(np.random.randint(1,df.recid.max(),np.random.randint(1,df.recid.max())))\n",
    "    \n",
    "df['references']=l\n",
    "df['references']=df.references.map(np.unique)\n",
    "df[:2]"
   ]
  },
  {
   "cell_type": "code",
   "execution_count": 396,
   "metadata": {},
   "outputs": [],
   "source": [
    "def check_not_ref(x,ref):\n",
    "    return x not in ref\n",
    "\n",
    "df=df.sort_values('recid').reset_index(drop=True)\n",
    "\n",
    "ed=pd.DataFrame()\n",
    "edges=[]"
   ]
  },
  {
   "cell_type": "code",
   "execution_count": 397,
   "metadata": {},
   "outputs": [
    {
     "data": {
      "text/html": [
       "<div>\n",
       "<style>\n",
       "    .dataframe thead tr:only-child th {\n",
       "        text-align: right;\n",
       "    }\n",
       "\n",
       "    .dataframe thead th {\n",
       "        text-align: left;\n",
       "    }\n",
       "\n",
       "    .dataframe tbody tr th {\n",
       "        vertical-align: top;\n",
       "    }\n",
       "</style>\n",
       "<table border=\"1\" class=\"dataframe\">\n",
       "  <thead>\n",
       "    <tr style=\"text-align: right;\">\n",
       "      <th></th>\n",
       "      <th>source</th>\n",
       "      <th>target</th>\n",
       "      <th>intersect</th>\n",
       "    </tr>\n",
       "  </thead>\n",
       "  <tbody>\n",
       "    <tr>\n",
       "      <th>0</th>\n",
       "      <td>1</td>\n",
       "      <td>2</td>\n",
       "      <td>[5, 8]</td>\n",
       "    </tr>\n",
       "    <tr>\n",
       "      <th>1</th>\n",
       "      <td>1</td>\n",
       "      <td>3</td>\n",
       "      <td>[5, 8]</td>\n",
       "    </tr>\n",
       "    <tr>\n",
       "      <th>2</th>\n",
       "      <td>1</td>\n",
       "      <td>6</td>\n",
       "      <td>[5]</td>\n",
       "    </tr>\n",
       "  </tbody>\n",
       "</table>\n",
       "</div>"
      ],
      "text/plain": [
       "   source  target intersect\n",
       "0       1       2    [5, 8]\n",
       "1       1       3    [5, 8]\n",
       "2       1       6       [5]"
      ]
     },
     "execution_count": 397,
     "metadata": {},
     "output_type": "execute_result"
    }
   ],
   "source": [
    "#DEBUG========\n",
    "if True:\n",
    "    i=0\n",
    "for i in df.index:\n",
    "#=============    \n",
    "    #remove i\n",
    "    df_not_i=df.drop(df.index[[i]])\n",
    "    df_not_i['intersect']=df_not_i.references.map(lambda x: check_intersect1d(x,df.loc[i,'references']))\n",
    "    df_not_i=df_not_i[df_not_i.intersect.map(len)>0]\n",
    "    df_not_i=df_not_i.rename_axis({'recid':'target'}, axis = 'columns')\n",
    "    df_not_i['source']=df.loc[i,'recid']\n",
    "    # switch source, target order and remove if already in edges\n",
    "    df_not_i=df_not_i[ ( df_not_i.target.map( lambda x: [x] )+df_not_i.source.map( lambda x: [x] )\n",
    "          ).map(lambda x: check_not_ref(x,edges) )]        \n",
    "    # list of edges: [ [source, target],... ]\n",
    "    edges=edges+np.stack(( df_not_i.source.values,df_not_i.target.values),axis=1 ).tolist()\n",
    "    #Store Edges DataFrame\n",
    "    ed=ed.append( df_not_i[['source','target','intersect']] ).reset_index(drop=True)\n",
    "\n",
    "ed[:3]"
   ]
  },
  {
   "cell_type": "code",
   "execution_count": 398,
   "metadata": {},
   "outputs": [
    {
     "data": {
      "text/html": [
       "<div>\n",
       "<style>\n",
       "    .dataframe thead tr:only-child th {\n",
       "        text-align: right;\n",
       "    }\n",
       "\n",
       "    .dataframe thead th {\n",
       "        text-align: left;\n",
       "    }\n",
       "\n",
       "    .dataframe tbody tr th {\n",
       "        vertical-align: top;\n",
       "    }\n",
       "</style>\n",
       "<table border=\"1\" class=\"dataframe\">\n",
       "  <thead>\n",
       "    <tr style=\"text-align: right;\">\n",
       "      <th></th>\n",
       "      <th>source</th>\n",
       "      <th>target</th>\n",
       "      <th>intersect</th>\n",
       "    </tr>\n",
       "  </thead>\n",
       "  <tbody>\n",
       "    <tr>\n",
       "      <th>7</th>\n",
       "      <td>2</td>\n",
       "      <td>3</td>\n",
       "      <td>[3, 5, 7, 8, 9, 10]</td>\n",
       "    </tr>\n",
       "    <tr>\n",
       "      <th>8</th>\n",
       "      <td>2</td>\n",
       "      <td>5</td>\n",
       "      <td>[1, 3, 11]</td>\n",
       "    </tr>\n",
       "    <tr>\n",
       "      <th>9</th>\n",
       "      <td>2</td>\n",
       "      <td>6</td>\n",
       "      <td>[4, 5, 7, 9, 10, 11]</td>\n",
       "    </tr>\n",
       "    <tr>\n",
       "      <th>10</th>\n",
       "      <td>2</td>\n",
       "      <td>7</td>\n",
       "      <td>[1, 3, 4, 10, 11]</td>\n",
       "    </tr>\n",
       "    <tr>\n",
       "      <th>11</th>\n",
       "      <td>2</td>\n",
       "      <td>8</td>\n",
       "      <td>[4, 5, 7, 8, 11]</td>\n",
       "    </tr>\n",
       "    <tr>\n",
       "      <th>12</th>\n",
       "      <td>2</td>\n",
       "      <td>9</td>\n",
       "      <td>[1]</td>\n",
       "    </tr>\n",
       "    <tr>\n",
       "      <th>13</th>\n",
       "      <td>2</td>\n",
       "      <td>10</td>\n",
       "      <td>[1, 3, 4, 8, 10]</td>\n",
       "    </tr>\n",
       "    <tr>\n",
       "      <th>14</th>\n",
       "      <td>2</td>\n",
       "      <td>11</td>\n",
       "      <td>[3, 4, 5, 7, 10, 11]</td>\n",
       "    </tr>\n",
       "    <tr>\n",
       "      <th>15</th>\n",
       "      <td>2</td>\n",
       "      <td>12</td>\n",
       "      <td>[3, 5, 10]</td>\n",
       "    </tr>\n",
       "    <tr>\n",
       "      <th>16</th>\n",
       "      <td>2</td>\n",
       "      <td>13</td>\n",
       "      <td>[11]</td>\n",
       "    </tr>\n",
       "  </tbody>\n",
       "</table>\n",
       "</div>"
      ],
      "text/plain": [
       "    source  target             intersect\n",
       "7        2       3   [3, 5, 7, 8, 9, 10]\n",
       "8        2       5            [1, 3, 11]\n",
       "9        2       6  [4, 5, 7, 9, 10, 11]\n",
       "10       2       7     [1, 3, 4, 10, 11]\n",
       "11       2       8      [4, 5, 7, 8, 11]\n",
       "12       2       9                   [1]\n",
       "13       2      10      [1, 3, 4, 8, 10]\n",
       "14       2      11  [3, 4, 5, 7, 10, 11]\n",
       "15       2      12            [3, 5, 10]\n",
       "16       2      13                  [11]"
      ]
     },
     "execution_count": 398,
     "metadata": {},
     "output_type": "execute_result"
    }
   ],
   "source": [
    "ed[ed.source==2]"
   ]
  },
  {
   "cell_type": "markdown",
   "metadata": {},
   "source": [
    "Fix edge"
   ]
  },
  {
   "cell_type": "code",
   "execution_count": 404,
   "metadata": {},
   "outputs": [
    {
     "data": {
      "text/html": [
       "<div>\n",
       "<style>\n",
       "    .dataframe thead tr:only-child th {\n",
       "        text-align: right;\n",
       "    }\n",
       "\n",
       "    .dataframe thead th {\n",
       "        text-align: left;\n",
       "    }\n",
       "\n",
       "    .dataframe tbody tr th {\n",
       "        vertical-align: top;\n",
       "    }\n",
       "</style>\n",
       "<table border=\"1\" class=\"dataframe\">\n",
       "  <thead>\n",
       "    <tr style=\"text-align: right;\">\n",
       "      <th></th>\n",
       "      <th>source</th>\n",
       "      <th>target</th>\n",
       "      <th>intersect</th>\n",
       "    </tr>\n",
       "  </thead>\n",
       "  <tbody>\n",
       "    <tr>\n",
       "      <th>0</th>\n",
       "      <td>2</td>\n",
       "      <td>3</td>\n",
       "      <td>[3, 5, 7, 8, 9, 10]</td>\n",
       "    </tr>\n",
       "    <tr>\n",
       "      <th>1</th>\n",
       "      <td>2</td>\n",
       "      <td>6</td>\n",
       "      <td>[4, 5, 7, 9, 10, 11]</td>\n",
       "    </tr>\n",
       "    <tr>\n",
       "      <th>2</th>\n",
       "      <td>2</td>\n",
       "      <td>7</td>\n",
       "      <td>[1, 3, 4, 10, 11]</td>\n",
       "    </tr>\n",
       "  </tbody>\n",
       "</table>\n",
       "</div>"
      ],
      "text/plain": [
       "   source  target             intersect\n",
       "0       2       3   [3, 5, 7, 8, 9, 10]\n",
       "1       2       6  [4, 5, 7, 9, 10, 11]\n",
       "2       2       7     [1, 3, 4, 10, 11]"
      ]
     },
     "execution_count": 404,
     "metadata": {},
     "output_type": "execute_result"
    }
   ],
   "source": [
    "edf=ed[ed.intersect.map(len)>3].reset_index(drop=True)\n",
    "edf[:3]"
   ]
  },
  {
   "cell_type": "code",
   "execution_count": 474,
   "metadata": {},
   "outputs": [
    {
     "data": {
      "text/html": [
       "<div>\n",
       "<style>\n",
       "    .dataframe thead tr:only-child th {\n",
       "        text-align: right;\n",
       "    }\n",
       "\n",
       "    .dataframe thead th {\n",
       "        text-align: left;\n",
       "    }\n",
       "\n",
       "    .dataframe tbody tr th {\n",
       "        vertical-align: top;\n",
       "    }\n",
       "</style>\n",
       "<table border=\"1\" class=\"dataframe\">\n",
       "  <thead>\n",
       "    <tr style=\"text-align: right;\">\n",
       "      <th></th>\n",
       "      <th>source</th>\n",
       "      <th>target</th>\n",
       "      <th>intersect</th>\n",
       "    </tr>\n",
       "  </thead>\n",
       "  <tbody>\n",
       "    <tr>\n",
       "      <th>0</th>\n",
       "      <td>2</td>\n",
       "      <td>3</td>\n",
       "      <td>[3, 5, 7, 8, 9, 10]</td>\n",
       "    </tr>\n",
       "    <tr>\n",
       "      <th>1</th>\n",
       "      <td>2</td>\n",
       "      <td>6</td>\n",
       "      <td>[4, 5, 7, 9, 10, 11]</td>\n",
       "    </tr>\n",
       "    <tr>\n",
       "      <th>2</th>\n",
       "      <td>2</td>\n",
       "      <td>7</td>\n",
       "      <td>[1, 3, 4, 10, 11]</td>\n",
       "    </tr>\n",
       "    <tr>\n",
       "      <th>3</th>\n",
       "      <td>2</td>\n",
       "      <td>8</td>\n",
       "      <td>[4, 5, 7, 8, 11]</td>\n",
       "    </tr>\n",
       "    <tr>\n",
       "      <th>4</th>\n",
       "      <td>2</td>\n",
       "      <td>10</td>\n",
       "      <td>[1, 3, 4, 8, 10]</td>\n",
       "    </tr>\n",
       "    <tr>\n",
       "      <th>5</th>\n",
       "      <td>2</td>\n",
       "      <td>11</td>\n",
       "      <td>[3, 4, 5, 7, 10, 11]</td>\n",
       "    </tr>\n",
       "    <tr>\n",
       "      <th>6</th>\n",
       "      <td>3</td>\n",
       "      <td>6</td>\n",
       "      <td>[5, 7, 9, 10, 12]</td>\n",
       "    </tr>\n",
       "    <tr>\n",
       "      <th>7</th>\n",
       "      <td>3</td>\n",
       "      <td>11</td>\n",
       "      <td>[3, 5, 7, 10]</td>\n",
       "    </tr>\n",
       "    <tr>\n",
       "      <th>8</th>\n",
       "      <td>3</td>\n",
       "      <td>12</td>\n",
       "      <td>[3, 5, 10, 12]</td>\n",
       "    </tr>\n",
       "    <tr>\n",
       "      <th>9</th>\n",
       "      <td>6</td>\n",
       "      <td>7</td>\n",
       "      <td>[2, 4, 10, 11, 12]</td>\n",
       "    </tr>\n",
       "    <tr>\n",
       "      <th>10</th>\n",
       "      <td>6</td>\n",
       "      <td>8</td>\n",
       "      <td>[2, 4, 5, 7, 11]</td>\n",
       "    </tr>\n",
       "    <tr>\n",
       "      <th>11</th>\n",
       "      <td>6</td>\n",
       "      <td>11</td>\n",
       "      <td>[4, 5, 7, 10, 11]</td>\n",
       "    </tr>\n",
       "    <tr>\n",
       "      <th>12</th>\n",
       "      <td>6</td>\n",
       "      <td>12</td>\n",
       "      <td>[2, 5, 10, 12]</td>\n",
       "    </tr>\n",
       "    <tr>\n",
       "      <th>13</th>\n",
       "      <td>7</td>\n",
       "      <td>10</td>\n",
       "      <td>[1, 3, 4, 10]</td>\n",
       "    </tr>\n",
       "    <tr>\n",
       "      <th>14</th>\n",
       "      <td>7</td>\n",
       "      <td>11</td>\n",
       "      <td>[3, 4, 10, 11]</td>\n",
       "    </tr>\n",
       "    <tr>\n",
       "      <th>15</th>\n",
       "      <td>7</td>\n",
       "      <td>12</td>\n",
       "      <td>[2, 3, 10, 12]</td>\n",
       "    </tr>\n",
       "    <tr>\n",
       "      <th>16</th>\n",
       "      <td>8</td>\n",
       "      <td>11</td>\n",
       "      <td>[4, 5, 6, 7, 11]</td>\n",
       "    </tr>\n",
       "    <tr>\n",
       "      <th>17</th>\n",
       "      <td>11</td>\n",
       "      <td>12</td>\n",
       "      <td>[3, 5, 6, 10]</td>\n",
       "    </tr>\n",
       "  </tbody>\n",
       "</table>\n",
       "</div>"
      ],
      "text/plain": [
       "    source  target             intersect\n",
       "0        2       3   [3, 5, 7, 8, 9, 10]\n",
       "1        2       6  [4, 5, 7, 9, 10, 11]\n",
       "2        2       7     [1, 3, 4, 10, 11]\n",
       "3        2       8      [4, 5, 7, 8, 11]\n",
       "4        2      10      [1, 3, 4, 8, 10]\n",
       "5        2      11  [3, 4, 5, 7, 10, 11]\n",
       "6        3       6     [5, 7, 9, 10, 12]\n",
       "7        3      11         [3, 5, 7, 10]\n",
       "8        3      12        [3, 5, 10, 12]\n",
       "9        6       7    [2, 4, 10, 11, 12]\n",
       "10       6       8      [2, 4, 5, 7, 11]\n",
       "11       6      11     [4, 5, 7, 10, 11]\n",
       "12       6      12        [2, 5, 10, 12]\n",
       "13       7      10         [1, 3, 4, 10]\n",
       "14       7      11        [3, 4, 10, 11]\n",
       "15       7      12        [2, 3, 10, 12]\n",
       "16       8      11      [4, 5, 6, 7, 11]\n",
       "17      11      12         [3, 5, 6, 10]"
      ]
     },
     "execution_count": 474,
     "metadata": {},
     "output_type": "execute_result"
    }
   ],
   "source": [
    "edf"
   ]
  },
  {
   "cell_type": "code",
   "execution_count": 541,
   "metadata": {},
   "outputs": [],
   "source": [
    "colegios=pd.DataFrame()\n",
    "\n",
    "#for i in edf.source:\n",
    "j=0\n",
    "col={}\n",
    "col[j]=[]\n",
    "if True:\n",
    "    if not i in col[j]: # new colegio!\n",
    "        cl=edf[edf.source==i]\n",
    "        if cl.target.values[0] not in col[j]: # neither source not target in old colegio:\n",
    "            j=i\n",
    "        \n",
    "        col[j] =list( np.unique( np.concatenate ( ( cl.source.values,cl.target.values )  ) )  )"
   ]
  },
  {
   "cell_type": "code",
   "execution_count": 544,
   "metadata": {},
   "outputs": [],
   "source": [
    "\n"
   ]
  },
  {
   "cell_type": "code",
   "execution_count": 545,
   "metadata": {},
   "outputs": [
    {
     "data": {
      "text/plain": [
       "{0: [], 2: [2, 3, 6, 7, 8, 10, 11], 15: [15, 16]}"
      ]
     },
     "execution_count": 545,
     "metadata": {},
     "output_type": "execute_result"
    }
   ],
   "source": [
    "col"
   ]
  },
  {
   "cell_type": "code",
   "execution_count": 524,
   "metadata": {},
   "outputs": [
    {
     "data": {
      "text/plain": [
       "array([15, 16])"
      ]
     },
     "execution_count": 524,
     "metadata": {},
     "output_type": "execute_result"
    }
   ],
   "source": [
    "np.unique( np.concatenate ( ( cl.source.values,cl.target.values )  ) )"
   ]
  },
  {
   "cell_type": "code",
   "execution_count": 501,
   "metadata": {},
   "outputs": [
    {
     "data": {
      "text/plain": [
       "True"
      ]
     },
     "execution_count": 501,
     "metadata": {},
     "output_type": "execute_result"
    }
   ],
   "source": [
    "i not in col[0]"
   ]
  },
  {
   "cell_type": "code",
   "execution_count": 520,
   "metadata": {},
   "outputs": [
    {
     "data": {
      "text/plain": [
       "True"
      ]
     },
     "execution_count": 520,
     "metadata": {},
     "output_type": "execute_result"
    }
   ],
   "source": []
  },
  {
   "cell_type": "code",
   "execution_count": 515,
   "metadata": {},
   "outputs": [
    {
     "ename": "KeyError",
     "evalue": "0",
     "output_type": "error",
     "traceback": [
      "\u001b[0;31m---------------------------------------------------------------------------\u001b[0m",
      "\u001b[0;31mKeyError\u001b[0m                                  Traceback (most recent call last)",
      "\u001b[0;32m/usr/local/lib/python3.5/dist-packages/pandas/core/indexes/base.py\u001b[0m in \u001b[0;36mget_loc\u001b[0;34m(self, key, method, tolerance)\u001b[0m\n\u001b[1;32m   2441\u001b[0m             \u001b[0;32mtry\u001b[0m\u001b[0;34m:\u001b[0m\u001b[0;34m\u001b[0m\u001b[0m\n\u001b[0;32m-> 2442\u001b[0;31m                 \u001b[0;32mreturn\u001b[0m \u001b[0mself\u001b[0m\u001b[0;34m.\u001b[0m\u001b[0m_engine\u001b[0m\u001b[0;34m.\u001b[0m\u001b[0mget_loc\u001b[0m\u001b[0;34m(\u001b[0m\u001b[0mkey\u001b[0m\u001b[0;34m)\u001b[0m\u001b[0;34m\u001b[0m\u001b[0m\n\u001b[0m\u001b[1;32m   2443\u001b[0m             \u001b[0;32mexcept\u001b[0m \u001b[0mKeyError\u001b[0m\u001b[0;34m:\u001b[0m\u001b[0;34m\u001b[0m\u001b[0m\n",
      "\u001b[0;32mpandas/_libs/index.pyx\u001b[0m in \u001b[0;36mpandas._libs.index.IndexEngine.get_loc (pandas/_libs/index.c:5280)\u001b[0;34m()\u001b[0m\n",
      "\u001b[0;32mpandas/_libs/index.pyx\u001b[0m in \u001b[0;36mpandas._libs.index.IndexEngine.get_loc (pandas/_libs/index.c:5126)\u001b[0;34m()\u001b[0m\n",
      "\u001b[0;32mpandas/_libs/hashtable_class_helper.pxi\u001b[0m in \u001b[0;36mpandas._libs.hashtable.PyObjectHashTable.get_item (pandas/_libs/hashtable.c:20523)\u001b[0;34m()\u001b[0m\n",
      "\u001b[0;32mpandas/_libs/hashtable_class_helper.pxi\u001b[0m in \u001b[0;36mpandas._libs.hashtable.PyObjectHashTable.get_item (pandas/_libs/hashtable.c:20477)\u001b[0;34m()\u001b[0m\n",
      "\u001b[0;31mKeyError\u001b[0m: 0",
      "\nDuring handling of the above exception, another exception occurred:\n",
      "\u001b[0;31mKeyError\u001b[0m                                  Traceback (most recent call last)",
      "\u001b[0;32m<ipython-input-515-df1ce16bbc01>\u001b[0m in \u001b[0;36m<module>\u001b[0;34m()\u001b[0m\n\u001b[0;32m----> 1\u001b[0;31m \u001b[0mcl\u001b[0m\u001b[0;34m.\u001b[0m\u001b[0mtarget\u001b[0m\u001b[0;34m.\u001b[0m\u001b[0mvalues\u001b[0m\u001b[0;34m[\u001b[0m\u001b[0;36m0\u001b[0m\u001b[0;34m]\u001b[0m \u001b[0;32mnot\u001b[0m \u001b[0;32min\u001b[0m \u001b[0mcl\u001b[0m\u001b[0;34m[\u001b[0m\u001b[0mj\u001b[0m\u001b[0;34m]\u001b[0m\u001b[0;34m\u001b[0m\u001b[0m\n\u001b[0m",
      "\u001b[0;32m/usr/local/lib/python3.5/dist-packages/pandas/core/frame.py\u001b[0m in \u001b[0;36m__getitem__\u001b[0;34m(self, key)\u001b[0m\n\u001b[1;32m   1962\u001b[0m             \u001b[0;32mreturn\u001b[0m \u001b[0mself\u001b[0m\u001b[0;34m.\u001b[0m\u001b[0m_getitem_multilevel\u001b[0m\u001b[0;34m(\u001b[0m\u001b[0mkey\u001b[0m\u001b[0;34m)\u001b[0m\u001b[0;34m\u001b[0m\u001b[0m\n\u001b[1;32m   1963\u001b[0m         \u001b[0;32melse\u001b[0m\u001b[0;34m:\u001b[0m\u001b[0;34m\u001b[0m\u001b[0m\n\u001b[0;32m-> 1964\u001b[0;31m             \u001b[0;32mreturn\u001b[0m \u001b[0mself\u001b[0m\u001b[0;34m.\u001b[0m\u001b[0m_getitem_column\u001b[0m\u001b[0;34m(\u001b[0m\u001b[0mkey\u001b[0m\u001b[0;34m)\u001b[0m\u001b[0;34m\u001b[0m\u001b[0m\n\u001b[0m\u001b[1;32m   1965\u001b[0m \u001b[0;34m\u001b[0m\u001b[0m\n\u001b[1;32m   1966\u001b[0m     \u001b[0;32mdef\u001b[0m \u001b[0m_getitem_column\u001b[0m\u001b[0;34m(\u001b[0m\u001b[0mself\u001b[0m\u001b[0;34m,\u001b[0m \u001b[0mkey\u001b[0m\u001b[0;34m)\u001b[0m\u001b[0;34m:\u001b[0m\u001b[0;34m\u001b[0m\u001b[0m\n",
      "\u001b[0;32m/usr/local/lib/python3.5/dist-packages/pandas/core/frame.py\u001b[0m in \u001b[0;36m_getitem_column\u001b[0;34m(self, key)\u001b[0m\n\u001b[1;32m   1969\u001b[0m         \u001b[0;31m# get column\u001b[0m\u001b[0;34m\u001b[0m\u001b[0;34m\u001b[0m\u001b[0m\n\u001b[1;32m   1970\u001b[0m         \u001b[0;32mif\u001b[0m \u001b[0mself\u001b[0m\u001b[0;34m.\u001b[0m\u001b[0mcolumns\u001b[0m\u001b[0;34m.\u001b[0m\u001b[0mis_unique\u001b[0m\u001b[0;34m:\u001b[0m\u001b[0;34m\u001b[0m\u001b[0m\n\u001b[0;32m-> 1971\u001b[0;31m             \u001b[0;32mreturn\u001b[0m \u001b[0mself\u001b[0m\u001b[0;34m.\u001b[0m\u001b[0m_get_item_cache\u001b[0m\u001b[0;34m(\u001b[0m\u001b[0mkey\u001b[0m\u001b[0;34m)\u001b[0m\u001b[0;34m\u001b[0m\u001b[0m\n\u001b[0m\u001b[1;32m   1972\u001b[0m \u001b[0;34m\u001b[0m\u001b[0m\n\u001b[1;32m   1973\u001b[0m         \u001b[0;31m# duplicate columns & possible reduce dimensionality\u001b[0m\u001b[0;34m\u001b[0m\u001b[0;34m\u001b[0m\u001b[0m\n",
      "\u001b[0;32m/usr/local/lib/python3.5/dist-packages/pandas/core/generic.py\u001b[0m in \u001b[0;36m_get_item_cache\u001b[0;34m(self, item)\u001b[0m\n\u001b[1;32m   1643\u001b[0m         \u001b[0mres\u001b[0m \u001b[0;34m=\u001b[0m \u001b[0mcache\u001b[0m\u001b[0;34m.\u001b[0m\u001b[0mget\u001b[0m\u001b[0;34m(\u001b[0m\u001b[0mitem\u001b[0m\u001b[0;34m)\u001b[0m\u001b[0;34m\u001b[0m\u001b[0m\n\u001b[1;32m   1644\u001b[0m         \u001b[0;32mif\u001b[0m \u001b[0mres\u001b[0m \u001b[0;32mis\u001b[0m \u001b[0;32mNone\u001b[0m\u001b[0;34m:\u001b[0m\u001b[0;34m\u001b[0m\u001b[0m\n\u001b[0;32m-> 1645\u001b[0;31m             \u001b[0mvalues\u001b[0m \u001b[0;34m=\u001b[0m \u001b[0mself\u001b[0m\u001b[0;34m.\u001b[0m\u001b[0m_data\u001b[0m\u001b[0;34m.\u001b[0m\u001b[0mget\u001b[0m\u001b[0;34m(\u001b[0m\u001b[0mitem\u001b[0m\u001b[0;34m)\u001b[0m\u001b[0;34m\u001b[0m\u001b[0m\n\u001b[0m\u001b[1;32m   1646\u001b[0m             \u001b[0mres\u001b[0m \u001b[0;34m=\u001b[0m \u001b[0mself\u001b[0m\u001b[0;34m.\u001b[0m\u001b[0m_box_item_values\u001b[0m\u001b[0;34m(\u001b[0m\u001b[0mitem\u001b[0m\u001b[0;34m,\u001b[0m \u001b[0mvalues\u001b[0m\u001b[0;34m)\u001b[0m\u001b[0;34m\u001b[0m\u001b[0m\n\u001b[1;32m   1647\u001b[0m             \u001b[0mcache\u001b[0m\u001b[0;34m[\u001b[0m\u001b[0mitem\u001b[0m\u001b[0;34m]\u001b[0m \u001b[0;34m=\u001b[0m \u001b[0mres\u001b[0m\u001b[0;34m\u001b[0m\u001b[0m\n",
      "\u001b[0;32m/usr/local/lib/python3.5/dist-packages/pandas/core/internals.py\u001b[0m in \u001b[0;36mget\u001b[0;34m(self, item, fastpath)\u001b[0m\n\u001b[1;32m   3588\u001b[0m \u001b[0;34m\u001b[0m\u001b[0m\n\u001b[1;32m   3589\u001b[0m             \u001b[0;32mif\u001b[0m \u001b[0;32mnot\u001b[0m \u001b[0misnull\u001b[0m\u001b[0;34m(\u001b[0m\u001b[0mitem\u001b[0m\u001b[0;34m)\u001b[0m\u001b[0;34m:\u001b[0m\u001b[0;34m\u001b[0m\u001b[0m\n\u001b[0;32m-> 3590\u001b[0;31m                 \u001b[0mloc\u001b[0m \u001b[0;34m=\u001b[0m \u001b[0mself\u001b[0m\u001b[0;34m.\u001b[0m\u001b[0mitems\u001b[0m\u001b[0;34m.\u001b[0m\u001b[0mget_loc\u001b[0m\u001b[0;34m(\u001b[0m\u001b[0mitem\u001b[0m\u001b[0;34m)\u001b[0m\u001b[0;34m\u001b[0m\u001b[0m\n\u001b[0m\u001b[1;32m   3591\u001b[0m             \u001b[0;32melse\u001b[0m\u001b[0;34m:\u001b[0m\u001b[0;34m\u001b[0m\u001b[0m\n\u001b[1;32m   3592\u001b[0m                 \u001b[0mindexer\u001b[0m \u001b[0;34m=\u001b[0m \u001b[0mnp\u001b[0m\u001b[0;34m.\u001b[0m\u001b[0marange\u001b[0m\u001b[0;34m(\u001b[0m\u001b[0mlen\u001b[0m\u001b[0;34m(\u001b[0m\u001b[0mself\u001b[0m\u001b[0;34m.\u001b[0m\u001b[0mitems\u001b[0m\u001b[0;34m)\u001b[0m\u001b[0;34m)\u001b[0m\u001b[0;34m[\u001b[0m\u001b[0misnull\u001b[0m\u001b[0;34m(\u001b[0m\u001b[0mself\u001b[0m\u001b[0;34m.\u001b[0m\u001b[0mitems\u001b[0m\u001b[0;34m)\u001b[0m\u001b[0;34m]\u001b[0m\u001b[0;34m\u001b[0m\u001b[0m\n",
      "\u001b[0;32m/usr/local/lib/python3.5/dist-packages/pandas/core/indexes/base.py\u001b[0m in \u001b[0;36mget_loc\u001b[0;34m(self, key, method, tolerance)\u001b[0m\n\u001b[1;32m   2442\u001b[0m                 \u001b[0;32mreturn\u001b[0m \u001b[0mself\u001b[0m\u001b[0;34m.\u001b[0m\u001b[0m_engine\u001b[0m\u001b[0;34m.\u001b[0m\u001b[0mget_loc\u001b[0m\u001b[0;34m(\u001b[0m\u001b[0mkey\u001b[0m\u001b[0;34m)\u001b[0m\u001b[0;34m\u001b[0m\u001b[0m\n\u001b[1;32m   2443\u001b[0m             \u001b[0;32mexcept\u001b[0m \u001b[0mKeyError\u001b[0m\u001b[0;34m:\u001b[0m\u001b[0;34m\u001b[0m\u001b[0m\n\u001b[0;32m-> 2444\u001b[0;31m                 \u001b[0;32mreturn\u001b[0m \u001b[0mself\u001b[0m\u001b[0;34m.\u001b[0m\u001b[0m_engine\u001b[0m\u001b[0;34m.\u001b[0m\u001b[0mget_loc\u001b[0m\u001b[0;34m(\u001b[0m\u001b[0mself\u001b[0m\u001b[0;34m.\u001b[0m\u001b[0m_maybe_cast_indexer\u001b[0m\u001b[0;34m(\u001b[0m\u001b[0mkey\u001b[0m\u001b[0;34m)\u001b[0m\u001b[0;34m)\u001b[0m\u001b[0;34m\u001b[0m\u001b[0m\n\u001b[0m\u001b[1;32m   2445\u001b[0m \u001b[0;34m\u001b[0m\u001b[0m\n\u001b[1;32m   2446\u001b[0m         \u001b[0mindexer\u001b[0m \u001b[0;34m=\u001b[0m \u001b[0mself\u001b[0m\u001b[0;34m.\u001b[0m\u001b[0mget_indexer\u001b[0m\u001b[0;34m(\u001b[0m\u001b[0;34m[\u001b[0m\u001b[0mkey\u001b[0m\u001b[0;34m]\u001b[0m\u001b[0;34m,\u001b[0m \u001b[0mmethod\u001b[0m\u001b[0;34m=\u001b[0m\u001b[0mmethod\u001b[0m\u001b[0;34m,\u001b[0m \u001b[0mtolerance\u001b[0m\u001b[0;34m=\u001b[0m\u001b[0mtolerance\u001b[0m\u001b[0;34m)\u001b[0m\u001b[0;34m\u001b[0m\u001b[0m\n",
      "\u001b[0;32mpandas/_libs/index.pyx\u001b[0m in \u001b[0;36mpandas._libs.index.IndexEngine.get_loc (pandas/_libs/index.c:5280)\u001b[0;34m()\u001b[0m\n",
      "\u001b[0;32mpandas/_libs/index.pyx\u001b[0m in \u001b[0;36mpandas._libs.index.IndexEngine.get_loc (pandas/_libs/index.c:5126)\u001b[0;34m()\u001b[0m\n",
      "\u001b[0;32mpandas/_libs/hashtable_class_helper.pxi\u001b[0m in \u001b[0;36mpandas._libs.hashtable.PyObjectHashTable.get_item (pandas/_libs/hashtable.c:20523)\u001b[0;34m()\u001b[0m\n",
      "\u001b[0;32mpandas/_libs/hashtable_class_helper.pxi\u001b[0m in \u001b[0;36mpandas._libs.hashtable.PyObjectHashTable.get_item (pandas/_libs/hashtable.c:20477)\u001b[0;34m()\u001b[0m\n",
      "\u001b[0;31mKeyError\u001b[0m: 0"
     ]
    }
   ],
   "source": [
    " not in cl[j]"
   ]
  },
  {
   "cell_type": "code",
   "execution_count": 480,
   "metadata": {},
   "outputs": [],
   "source": [
    "edf=edf.append({'source':15,'target':16},ignore_index=True)"
   ]
  },
  {
   "cell_type": "code",
   "execution_count": 484,
   "metadata": {},
   "outputs": [],
   "source": [
    "edf=edf[['source','target']].astype(int)"
   ]
  },
  {
   "cell_type": "code",
   "execution_count": 485,
   "metadata": {},
   "outputs": [
    {
     "data": {
      "text/html": [
       "<div>\n",
       "<style>\n",
       "    .dataframe thead tr:only-child th {\n",
       "        text-align: right;\n",
       "    }\n",
       "\n",
       "    .dataframe thead th {\n",
       "        text-align: left;\n",
       "    }\n",
       "\n",
       "    .dataframe tbody tr th {\n",
       "        vertical-align: top;\n",
       "    }\n",
       "</style>\n",
       "<table border=\"1\" class=\"dataframe\">\n",
       "  <thead>\n",
       "    <tr style=\"text-align: right;\">\n",
       "      <th></th>\n",
       "      <th>source</th>\n",
       "      <th>target</th>\n",
       "    </tr>\n",
       "  </thead>\n",
       "  <tbody>\n",
       "    <tr>\n",
       "      <th>0</th>\n",
       "      <td>2</td>\n",
       "      <td>3</td>\n",
       "    </tr>\n",
       "    <tr>\n",
       "      <th>1</th>\n",
       "      <td>2</td>\n",
       "      <td>6</td>\n",
       "    </tr>\n",
       "    <tr>\n",
       "      <th>2</th>\n",
       "      <td>2</td>\n",
       "      <td>7</td>\n",
       "    </tr>\n",
       "    <tr>\n",
       "      <th>3</th>\n",
       "      <td>2</td>\n",
       "      <td>8</td>\n",
       "    </tr>\n",
       "    <tr>\n",
       "      <th>4</th>\n",
       "      <td>2</td>\n",
       "      <td>10</td>\n",
       "    </tr>\n",
       "    <tr>\n",
       "      <th>5</th>\n",
       "      <td>2</td>\n",
       "      <td>11</td>\n",
       "    </tr>\n",
       "    <tr>\n",
       "      <th>6</th>\n",
       "      <td>3</td>\n",
       "      <td>6</td>\n",
       "    </tr>\n",
       "    <tr>\n",
       "      <th>7</th>\n",
       "      <td>3</td>\n",
       "      <td>11</td>\n",
       "    </tr>\n",
       "    <tr>\n",
       "      <th>8</th>\n",
       "      <td>3</td>\n",
       "      <td>12</td>\n",
       "    </tr>\n",
       "    <tr>\n",
       "      <th>9</th>\n",
       "      <td>6</td>\n",
       "      <td>7</td>\n",
       "    </tr>\n",
       "    <tr>\n",
       "      <th>10</th>\n",
       "      <td>6</td>\n",
       "      <td>8</td>\n",
       "    </tr>\n",
       "    <tr>\n",
       "      <th>11</th>\n",
       "      <td>6</td>\n",
       "      <td>11</td>\n",
       "    </tr>\n",
       "    <tr>\n",
       "      <th>12</th>\n",
       "      <td>6</td>\n",
       "      <td>12</td>\n",
       "    </tr>\n",
       "    <tr>\n",
       "      <th>13</th>\n",
       "      <td>7</td>\n",
       "      <td>10</td>\n",
       "    </tr>\n",
       "    <tr>\n",
       "      <th>14</th>\n",
       "      <td>7</td>\n",
       "      <td>11</td>\n",
       "    </tr>\n",
       "    <tr>\n",
       "      <th>15</th>\n",
       "      <td>7</td>\n",
       "      <td>12</td>\n",
       "    </tr>\n",
       "    <tr>\n",
       "      <th>16</th>\n",
       "      <td>8</td>\n",
       "      <td>11</td>\n",
       "    </tr>\n",
       "    <tr>\n",
       "      <th>17</th>\n",
       "      <td>11</td>\n",
       "      <td>12</td>\n",
       "    </tr>\n",
       "    <tr>\n",
       "      <th>18</th>\n",
       "      <td>15</td>\n",
       "      <td>16</td>\n",
       "    </tr>\n",
       "  </tbody>\n",
       "</table>\n",
       "</div>"
      ],
      "text/plain": [
       "    source  target\n",
       "0        2       3\n",
       "1        2       6\n",
       "2        2       7\n",
       "3        2       8\n",
       "4        2      10\n",
       "5        2      11\n",
       "6        3       6\n",
       "7        3      11\n",
       "8        3      12\n",
       "9        6       7\n",
       "10       6       8\n",
       "11       6      11\n",
       "12       6      12\n",
       "13       7      10\n",
       "14       7      11\n",
       "15       7      12\n",
       "16       8      11\n",
       "17      11      12\n",
       "18      15      16"
      ]
     },
     "execution_count": 485,
     "metadata": {},
     "output_type": "execute_result"
    }
   ],
   "source": [
    "edf"
   ]
  },
  {
   "cell_type": "code",
   "execution_count": 438,
   "metadata": {},
   "outputs": [],
   "source": [
    "col=0\n",
    "for j  in range( len([]) ):\n",
    "    print(j)"
   ]
  },
  {
   "cell_type": "code",
   "execution_count": 427,
   "metadata": {},
   "outputs": [],
   "source": [
    "i=3\n",
    "if True:\n",
    "    if i \n",
    "    cl=edf[edf.source==i]\n",
    "    #col.append( np.unique( np.concatenate ( ( cl.source.values,cl.target.values )  ) ) )"
   ]
  },
  {
   "cell_type": "code",
   "execution_count": 431,
   "metadata": {},
   "outputs": [
    {
     "data": {
      "text/plain": [
       "False"
      ]
     },
     "execution_count": 431,
     "metadata": {},
     "output_type": "execute_result"
    }
   ],
   "source": [
    "3 in [[3,2]]"
   ]
  },
  {
   "cell_type": "code",
   "execution_count": 415,
   "metadata": {},
   "outputs": [
    {
     "data": {
      "text/plain": [
       "array([ 1,  3,  4,  5,  7,  8,  9, 10, 11])"
      ]
     },
     "execution_count": 415,
     "metadata": {},
     "output_type": "execute_result"
    }
   ],
   "source": [
    "np.unique( np.concatenate( edf[edf.source==i].intersect.values ) )"
   ]
  },
  {
   "cell_type": "code",
   "execution_count": 401,
   "metadata": {},
   "outputs": [],
   "source": [
    "#df.to_csv('example_colegios.csv',index=False)"
   ]
  },
  {
   "cell_type": "code",
   "execution_count": 402,
   "metadata": {},
   "outputs": [
    {
     "data": {
      "text/plain": [
       "\"\\n# 'example_colegios.csv'\\nred               colegio 1             colegio 2\\n2\\n3,6,7,8,10,11 -> (2,3,6,7,8,10,11)      desconectados: 4,5,9\\n3 in colegio:\\n    True \\n    6,11 True\\n\\n    12 False -> (2,3,6,7,8,10,11,12)\\n6 in colegio:\\n    True\\n    7,8,11,12 True\\n7  in colegio:\\n    True:\\n    3,6,10,11,12 True\\n\\n8 in colegio:\\n    True:\\n    11,12\\n    \\n... \\n15 en colegio:\\n    False\\n    start colegio 3\\n\""
      ]
     },
     "execution_count": 402,
     "metadata": {},
     "output_type": "execute_result"
    }
   ],
   "source": [
    "'''\n",
    "# 'example_colegios.csv'\n",
    "red               colegio 1             colegio 2\n",
    "2\n",
    "3,6,7,8,10,11 -> (2,3,6,7,8,10,11)      desconectados: 1,4,5,9,13\n",
    "3 in colegio:\n",
    "    True \n",
    "    6,11 True\n",
    "\n",
    "    12 False -> (2,3,6,7,8,10,11,12)\n",
    "6 in colegio:\n",
    "    True\n",
    "    7,8,11,12 True\n",
    "7  in colegio:\n",
    "    True:\n",
    "    3,6,10,11,12 True\n",
    "\n",
    "8 in colegio:\n",
    "    True:\n",
    "    11,12\n",
    "    \n",
    "... \n",
    "15 en colegio:\n",
    "    False\n",
    "    start colegio 3\n",
    "'''"
   ]
  },
  {
   "cell_type": "code",
   "execution_count": 403,
   "metadata": {},
   "outputs": [
    {
     "data": {
      "text/html": [
       "<div>\n",
       "<style>\n",
       "    .dataframe thead tr:only-child th {\n",
       "        text-align: right;\n",
       "    }\n",
       "\n",
       "    .dataframe thead th {\n",
       "        text-align: left;\n",
       "    }\n",
       "\n",
       "    .dataframe tbody tr th {\n",
       "        vertical-align: top;\n",
       "    }\n",
       "</style>\n",
       "<table border=\"1\" class=\"dataframe\">\n",
       "  <thead>\n",
       "    <tr style=\"text-align: right;\">\n",
       "      <th></th>\n",
       "      <th>source</th>\n",
       "      <th>target</th>\n",
       "      <th>intersect</th>\n",
       "    </tr>\n",
       "  </thead>\n",
       "  <tbody>\n",
       "    <tr>\n",
       "      <th>0</th>\n",
       "      <td>1</td>\n",
       "      <td>2</td>\n",
       "      <td>[5, 8]</td>\n",
       "    </tr>\n",
       "    <tr>\n",
       "      <th>1</th>\n",
       "      <td>1</td>\n",
       "      <td>3</td>\n",
       "      <td>[5, 8]</td>\n",
       "    </tr>\n",
       "    <tr>\n",
       "      <th>2</th>\n",
       "      <td>1</td>\n",
       "      <td>6</td>\n",
       "      <td>[5]</td>\n",
       "    </tr>\n",
       "    <tr>\n",
       "      <th>3</th>\n",
       "      <td>1</td>\n",
       "      <td>8</td>\n",
       "      <td>[5, 8]</td>\n",
       "    </tr>\n",
       "    <tr>\n",
       "      <th>4</th>\n",
       "      <td>1</td>\n",
       "      <td>10</td>\n",
       "      <td>[8]</td>\n",
       "    </tr>\n",
       "    <tr>\n",
       "      <th>5</th>\n",
       "      <td>1</td>\n",
       "      <td>11</td>\n",
       "      <td>[5]</td>\n",
       "    </tr>\n",
       "    <tr>\n",
       "      <th>6</th>\n",
       "      <td>1</td>\n",
       "      <td>12</td>\n",
       "      <td>[5]</td>\n",
       "    </tr>\n",
       "    <tr>\n",
       "      <th>7</th>\n",
       "      <td>2</td>\n",
       "      <td>3</td>\n",
       "      <td>[3, 5, 7, 8, 9, 10]</td>\n",
       "    </tr>\n",
       "    <tr>\n",
       "      <th>8</th>\n",
       "      <td>2</td>\n",
       "      <td>5</td>\n",
       "      <td>[1, 3, 11]</td>\n",
       "    </tr>\n",
       "    <tr>\n",
       "      <th>9</th>\n",
       "      <td>2</td>\n",
       "      <td>6</td>\n",
       "      <td>[4, 5, 7, 9, 10, 11]</td>\n",
       "    </tr>\n",
       "    <tr>\n",
       "      <th>10</th>\n",
       "      <td>2</td>\n",
       "      <td>7</td>\n",
       "      <td>[1, 3, 4, 10, 11]</td>\n",
       "    </tr>\n",
       "    <tr>\n",
       "      <th>11</th>\n",
       "      <td>2</td>\n",
       "      <td>8</td>\n",
       "      <td>[4, 5, 7, 8, 11]</td>\n",
       "    </tr>\n",
       "    <tr>\n",
       "      <th>12</th>\n",
       "      <td>2</td>\n",
       "      <td>9</td>\n",
       "      <td>[1]</td>\n",
       "    </tr>\n",
       "    <tr>\n",
       "      <th>13</th>\n",
       "      <td>2</td>\n",
       "      <td>10</td>\n",
       "      <td>[1, 3, 4, 8, 10]</td>\n",
       "    </tr>\n",
       "    <tr>\n",
       "      <th>14</th>\n",
       "      <td>2</td>\n",
       "      <td>11</td>\n",
       "      <td>[3, 4, 5, 7, 10, 11]</td>\n",
       "    </tr>\n",
       "    <tr>\n",
       "      <th>15</th>\n",
       "      <td>2</td>\n",
       "      <td>12</td>\n",
       "      <td>[3, 5, 10]</td>\n",
       "    </tr>\n",
       "    <tr>\n",
       "      <th>16</th>\n",
       "      <td>2</td>\n",
       "      <td>13</td>\n",
       "      <td>[11]</td>\n",
       "    </tr>\n",
       "    <tr>\n",
       "      <th>17</th>\n",
       "      <td>3</td>\n",
       "      <td>5</td>\n",
       "      <td>[3]</td>\n",
       "    </tr>\n",
       "    <tr>\n",
       "      <th>18</th>\n",
       "      <td>3</td>\n",
       "      <td>6</td>\n",
       "      <td>[5, 7, 9, 10, 12]</td>\n",
       "    </tr>\n",
       "    <tr>\n",
       "      <th>19</th>\n",
       "      <td>3</td>\n",
       "      <td>7</td>\n",
       "      <td>[3, 10, 12]</td>\n",
       "    </tr>\n",
       "    <tr>\n",
       "      <th>20</th>\n",
       "      <td>3</td>\n",
       "      <td>8</td>\n",
       "      <td>[5, 7, 8]</td>\n",
       "    </tr>\n",
       "    <tr>\n",
       "      <th>21</th>\n",
       "      <td>3</td>\n",
       "      <td>10</td>\n",
       "      <td>[3, 8, 10]</td>\n",
       "    </tr>\n",
       "    <tr>\n",
       "      <th>22</th>\n",
       "      <td>3</td>\n",
       "      <td>11</td>\n",
       "      <td>[3, 5, 7, 10]</td>\n",
       "    </tr>\n",
       "    <tr>\n",
       "      <th>23</th>\n",
       "      <td>3</td>\n",
       "      <td>12</td>\n",
       "      <td>[3, 5, 10, 12]</td>\n",
       "    </tr>\n",
       "    <tr>\n",
       "      <th>24</th>\n",
       "      <td>4</td>\n",
       "      <td>6</td>\n",
       "      <td>[2]</td>\n",
       "    </tr>\n",
       "    <tr>\n",
       "      <th>25</th>\n",
       "      <td>4</td>\n",
       "      <td>7</td>\n",
       "      <td>[2]</td>\n",
       "    </tr>\n",
       "    <tr>\n",
       "      <th>26</th>\n",
       "      <td>4</td>\n",
       "      <td>8</td>\n",
       "      <td>[2]</td>\n",
       "    </tr>\n",
       "    <tr>\n",
       "      <th>27</th>\n",
       "      <td>4</td>\n",
       "      <td>12</td>\n",
       "      <td>[2]</td>\n",
       "    </tr>\n",
       "    <tr>\n",
       "      <th>28</th>\n",
       "      <td>5</td>\n",
       "      <td>6</td>\n",
       "      <td>[11]</td>\n",
       "    </tr>\n",
       "    <tr>\n",
       "      <th>29</th>\n",
       "      <td>5</td>\n",
       "      <td>7</td>\n",
       "      <td>[1, 3, 11]</td>\n",
       "    </tr>\n",
       "    <tr>\n",
       "      <th>30</th>\n",
       "      <td>5</td>\n",
       "      <td>8</td>\n",
       "      <td>[6, 11]</td>\n",
       "    </tr>\n",
       "    <tr>\n",
       "      <th>31</th>\n",
       "      <td>5</td>\n",
       "      <td>9</td>\n",
       "      <td>[1]</td>\n",
       "    </tr>\n",
       "    <tr>\n",
       "      <th>32</th>\n",
       "      <td>5</td>\n",
       "      <td>10</td>\n",
       "      <td>[1, 3]</td>\n",
       "    </tr>\n",
       "    <tr>\n",
       "      <th>33</th>\n",
       "      <td>5</td>\n",
       "      <td>11</td>\n",
       "      <td>[3, 6, 11]</td>\n",
       "    </tr>\n",
       "    <tr>\n",
       "      <th>34</th>\n",
       "      <td>5</td>\n",
       "      <td>12</td>\n",
       "      <td>[3, 6]</td>\n",
       "    </tr>\n",
       "    <tr>\n",
       "      <th>35</th>\n",
       "      <td>5</td>\n",
       "      <td>13</td>\n",
       "      <td>[11]</td>\n",
       "    </tr>\n",
       "    <tr>\n",
       "      <th>36</th>\n",
       "      <td>6</td>\n",
       "      <td>7</td>\n",
       "      <td>[2, 4, 10, 11, 12]</td>\n",
       "    </tr>\n",
       "    <tr>\n",
       "      <th>37</th>\n",
       "      <td>6</td>\n",
       "      <td>8</td>\n",
       "      <td>[2, 4, 5, 7, 11]</td>\n",
       "    </tr>\n",
       "    <tr>\n",
       "      <th>38</th>\n",
       "      <td>6</td>\n",
       "      <td>10</td>\n",
       "      <td>[4, 10]</td>\n",
       "    </tr>\n",
       "    <tr>\n",
       "      <th>39</th>\n",
       "      <td>6</td>\n",
       "      <td>11</td>\n",
       "      <td>[4, 5, 7, 10, 11]</td>\n",
       "    </tr>\n",
       "    <tr>\n",
       "      <th>40</th>\n",
       "      <td>6</td>\n",
       "      <td>12</td>\n",
       "      <td>[2, 5, 10, 12]</td>\n",
       "    </tr>\n",
       "    <tr>\n",
       "      <th>41</th>\n",
       "      <td>6</td>\n",
       "      <td>13</td>\n",
       "      <td>[11]</td>\n",
       "    </tr>\n",
       "    <tr>\n",
       "      <th>42</th>\n",
       "      <td>7</td>\n",
       "      <td>8</td>\n",
       "      <td>[2, 4, 11]</td>\n",
       "    </tr>\n",
       "    <tr>\n",
       "      <th>43</th>\n",
       "      <td>7</td>\n",
       "      <td>9</td>\n",
       "      <td>[1]</td>\n",
       "    </tr>\n",
       "    <tr>\n",
       "      <th>44</th>\n",
       "      <td>7</td>\n",
       "      <td>10</td>\n",
       "      <td>[1, 3, 4, 10]</td>\n",
       "    </tr>\n",
       "    <tr>\n",
       "      <th>45</th>\n",
       "      <td>7</td>\n",
       "      <td>11</td>\n",
       "      <td>[3, 4, 10, 11]</td>\n",
       "    </tr>\n",
       "    <tr>\n",
       "      <th>46</th>\n",
       "      <td>7</td>\n",
       "      <td>12</td>\n",
       "      <td>[2, 3, 10, 12]</td>\n",
       "    </tr>\n",
       "    <tr>\n",
       "      <th>47</th>\n",
       "      <td>7</td>\n",
       "      <td>13</td>\n",
       "      <td>[11]</td>\n",
       "    </tr>\n",
       "    <tr>\n",
       "      <th>48</th>\n",
       "      <td>8</td>\n",
       "      <td>10</td>\n",
       "      <td>[4, 8]</td>\n",
       "    </tr>\n",
       "    <tr>\n",
       "      <th>49</th>\n",
       "      <td>8</td>\n",
       "      <td>11</td>\n",
       "      <td>[4, 5, 6, 7, 11]</td>\n",
       "    </tr>\n",
       "    <tr>\n",
       "      <th>50</th>\n",
       "      <td>8</td>\n",
       "      <td>12</td>\n",
       "      <td>[2, 5, 6]</td>\n",
       "    </tr>\n",
       "    <tr>\n",
       "      <th>51</th>\n",
       "      <td>8</td>\n",
       "      <td>13</td>\n",
       "      <td>[11]</td>\n",
       "    </tr>\n",
       "    <tr>\n",
       "      <th>52</th>\n",
       "      <td>9</td>\n",
       "      <td>10</td>\n",
       "      <td>[1]</td>\n",
       "    </tr>\n",
       "    <tr>\n",
       "      <th>53</th>\n",
       "      <td>10</td>\n",
       "      <td>11</td>\n",
       "      <td>[3, 4, 10]</td>\n",
       "    </tr>\n",
       "    <tr>\n",
       "      <th>54</th>\n",
       "      <td>10</td>\n",
       "      <td>12</td>\n",
       "      <td>[3, 10]</td>\n",
       "    </tr>\n",
       "    <tr>\n",
       "      <th>55</th>\n",
       "      <td>11</td>\n",
       "      <td>12</td>\n",
       "      <td>[3, 5, 6, 10]</td>\n",
       "    </tr>\n",
       "    <tr>\n",
       "      <th>56</th>\n",
       "      <td>11</td>\n",
       "      <td>13</td>\n",
       "      <td>[11]</td>\n",
       "    </tr>\n",
       "  </tbody>\n",
       "</table>\n",
       "</div>"
      ],
      "text/plain": [
       "    source  target             intersect\n",
       "0        1       2                [5, 8]\n",
       "1        1       3                [5, 8]\n",
       "2        1       6                   [5]\n",
       "3        1       8                [5, 8]\n",
       "4        1      10                   [8]\n",
       "5        1      11                   [5]\n",
       "6        1      12                   [5]\n",
       "7        2       3   [3, 5, 7, 8, 9, 10]\n",
       "8        2       5            [1, 3, 11]\n",
       "9        2       6  [4, 5, 7, 9, 10, 11]\n",
       "10       2       7     [1, 3, 4, 10, 11]\n",
       "11       2       8      [4, 5, 7, 8, 11]\n",
       "12       2       9                   [1]\n",
       "13       2      10      [1, 3, 4, 8, 10]\n",
       "14       2      11  [3, 4, 5, 7, 10, 11]\n",
       "15       2      12            [3, 5, 10]\n",
       "16       2      13                  [11]\n",
       "17       3       5                   [3]\n",
       "18       3       6     [5, 7, 9, 10, 12]\n",
       "19       3       7           [3, 10, 12]\n",
       "20       3       8             [5, 7, 8]\n",
       "21       3      10            [3, 8, 10]\n",
       "22       3      11         [3, 5, 7, 10]\n",
       "23       3      12        [3, 5, 10, 12]\n",
       "24       4       6                   [2]\n",
       "25       4       7                   [2]\n",
       "26       4       8                   [2]\n",
       "27       4      12                   [2]\n",
       "28       5       6                  [11]\n",
       "29       5       7            [1, 3, 11]\n",
       "30       5       8               [6, 11]\n",
       "31       5       9                   [1]\n",
       "32       5      10                [1, 3]\n",
       "33       5      11            [3, 6, 11]\n",
       "34       5      12                [3, 6]\n",
       "35       5      13                  [11]\n",
       "36       6       7    [2, 4, 10, 11, 12]\n",
       "37       6       8      [2, 4, 5, 7, 11]\n",
       "38       6      10               [4, 10]\n",
       "39       6      11     [4, 5, 7, 10, 11]\n",
       "40       6      12        [2, 5, 10, 12]\n",
       "41       6      13                  [11]\n",
       "42       7       8            [2, 4, 11]\n",
       "43       7       9                   [1]\n",
       "44       7      10         [1, 3, 4, 10]\n",
       "45       7      11        [3, 4, 10, 11]\n",
       "46       7      12        [2, 3, 10, 12]\n",
       "47       7      13                  [11]\n",
       "48       8      10                [4, 8]\n",
       "49       8      11      [4, 5, 6, 7, 11]\n",
       "50       8      12             [2, 5, 6]\n",
       "51       8      13                  [11]\n",
       "52       9      10                   [1]\n",
       "53      10      11            [3, 4, 10]\n",
       "54      10      12               [3, 10]\n",
       "55      11      12         [3, 5, 6, 10]\n",
       "56      11      13                  [11]"
      ]
     },
     "execution_count": 403,
     "metadata": {},
     "output_type": "execute_result"
    }
   ],
   "source": [
    "ed"
   ]
  },
  {
   "cell_type": "code",
   "execution_count": 377,
   "metadata": {},
   "outputs": [
    {
     "data": {
      "text/html": [
       "<div>\n",
       "<style>\n",
       "    .dataframe thead tr:only-child th {\n",
       "        text-align: right;\n",
       "    }\n",
       "\n",
       "    .dataframe thead th {\n",
       "        text-align: left;\n",
       "    }\n",
       "\n",
       "    .dataframe tbody tr th {\n",
       "        vertical-align: top;\n",
       "    }\n",
       "</style>\n",
       "<table border=\"1\" class=\"dataframe\">\n",
       "  <thead>\n",
       "    <tr style=\"text-align: right;\">\n",
       "      <th></th>\n",
       "      <th>source</th>\n",
       "      <th>target</th>\n",
       "      <th>intersect</th>\n",
       "    </tr>\n",
       "  </thead>\n",
       "  <tbody>\n",
       "    <tr>\n",
       "      <th>0</th>\n",
       "      <td>1</td>\n",
       "      <td>2</td>\n",
       "      <td>[5, 8]</td>\n",
       "    </tr>\n",
       "    <tr>\n",
       "      <th>1</th>\n",
       "      <td>1</td>\n",
       "      <td>3</td>\n",
       "      <td>[5, 8]</td>\n",
       "    </tr>\n",
       "    <tr>\n",
       "      <th>2</th>\n",
       "      <td>1</td>\n",
       "      <td>6</td>\n",
       "      <td>[5]</td>\n",
       "    </tr>\n",
       "    <tr>\n",
       "      <th>3</th>\n",
       "      <td>1</td>\n",
       "      <td>8</td>\n",
       "      <td>[5, 8]</td>\n",
       "    </tr>\n",
       "    <tr>\n",
       "      <th>4</th>\n",
       "      <td>1</td>\n",
       "      <td>10</td>\n",
       "      <td>[8]</td>\n",
       "    </tr>\n",
       "    <tr>\n",
       "      <th>5</th>\n",
       "      <td>1</td>\n",
       "      <td>11</td>\n",
       "      <td>[5]</td>\n",
       "    </tr>\n",
       "    <tr>\n",
       "      <th>6</th>\n",
       "      <td>1</td>\n",
       "      <td>12</td>\n",
       "      <td>[5]</td>\n",
       "    </tr>\n",
       "    <tr>\n",
       "      <th>7</th>\n",
       "      <td>2</td>\n",
       "      <td>3</td>\n",
       "      <td>[3, 5, 7, 8, 9, 10]</td>\n",
       "    </tr>\n",
       "    <tr>\n",
       "      <th>8</th>\n",
       "      <td>2</td>\n",
       "      <td>5</td>\n",
       "      <td>[1, 3, 11]</td>\n",
       "    </tr>\n",
       "    <tr>\n",
       "      <th>9</th>\n",
       "      <td>2</td>\n",
       "      <td>6</td>\n",
       "      <td>[4, 5, 7, 9, 10, 11]</td>\n",
       "    </tr>\n",
       "    <tr>\n",
       "      <th>10</th>\n",
       "      <td>2</td>\n",
       "      <td>7</td>\n",
       "      <td>[1, 3, 4, 10, 11]</td>\n",
       "    </tr>\n",
       "    <tr>\n",
       "      <th>11</th>\n",
       "      <td>2</td>\n",
       "      <td>8</td>\n",
       "      <td>[4, 5, 7, 8, 11]</td>\n",
       "    </tr>\n",
       "    <tr>\n",
       "      <th>12</th>\n",
       "      <td>2</td>\n",
       "      <td>9</td>\n",
       "      <td>[1]</td>\n",
       "    </tr>\n",
       "    <tr>\n",
       "      <th>13</th>\n",
       "      <td>2</td>\n",
       "      <td>10</td>\n",
       "      <td>[1, 3, 4, 8, 10]</td>\n",
       "    </tr>\n",
       "    <tr>\n",
       "      <th>14</th>\n",
       "      <td>2</td>\n",
       "      <td>11</td>\n",
       "      <td>[3, 4, 5, 7, 10, 11]</td>\n",
       "    </tr>\n",
       "    <tr>\n",
       "      <th>15</th>\n",
       "      <td>2</td>\n",
       "      <td>12</td>\n",
       "      <td>[3, 5, 10]</td>\n",
       "    </tr>\n",
       "    <tr>\n",
       "      <th>16</th>\n",
       "      <td>2</td>\n",
       "      <td>13</td>\n",
       "      <td>[11]</td>\n",
       "    </tr>\n",
       "    <tr>\n",
       "      <th>17</th>\n",
       "      <td>3</td>\n",
       "      <td>5</td>\n",
       "      <td>[3]</td>\n",
       "    </tr>\n",
       "    <tr>\n",
       "      <th>18</th>\n",
       "      <td>3</td>\n",
       "      <td>6</td>\n",
       "      <td>[5, 7, 9, 10, 12]</td>\n",
       "    </tr>\n",
       "    <tr>\n",
       "      <th>19</th>\n",
       "      <td>3</td>\n",
       "      <td>7</td>\n",
       "      <td>[3, 10, 12]</td>\n",
       "    </tr>\n",
       "    <tr>\n",
       "      <th>20</th>\n",
       "      <td>3</td>\n",
       "      <td>8</td>\n",
       "      <td>[5, 7, 8]</td>\n",
       "    </tr>\n",
       "    <tr>\n",
       "      <th>21</th>\n",
       "      <td>3</td>\n",
       "      <td>10</td>\n",
       "      <td>[3, 8, 10]</td>\n",
       "    </tr>\n",
       "    <tr>\n",
       "      <th>22</th>\n",
       "      <td>3</td>\n",
       "      <td>11</td>\n",
       "      <td>[3, 5, 7, 10]</td>\n",
       "    </tr>\n",
       "    <tr>\n",
       "      <th>23</th>\n",
       "      <td>3</td>\n",
       "      <td>12</td>\n",
       "      <td>[3, 5, 10, 12]</td>\n",
       "    </tr>\n",
       "  </tbody>\n",
       "</table>\n",
       "</div>"
      ],
      "text/plain": [
       "    source  target             intersect\n",
       "0        1       2                [5, 8]\n",
       "1        1       3                [5, 8]\n",
       "2        1       6                   [5]\n",
       "3        1       8                [5, 8]\n",
       "4        1      10                   [8]\n",
       "5        1      11                   [5]\n",
       "6        1      12                   [5]\n",
       "7        2       3   [3, 5, 7, 8, 9, 10]\n",
       "8        2       5            [1, 3, 11]\n",
       "9        2       6  [4, 5, 7, 9, 10, 11]\n",
       "10       2       7     [1, 3, 4, 10, 11]\n",
       "11       2       8      [4, 5, 7, 8, 11]\n",
       "12       2       9                   [1]\n",
       "13       2      10      [1, 3, 4, 8, 10]\n",
       "14       2      11  [3, 4, 5, 7, 10, 11]\n",
       "15       2      12            [3, 5, 10]\n",
       "16       2      13                  [11]\n",
       "17       3       5                   [3]\n",
       "18       3       6     [5, 7, 9, 10, 12]\n",
       "19       3       7           [3, 10, 12]\n",
       "20       3       8             [5, 7, 8]\n",
       "21       3      10            [3, 8, 10]\n",
       "22       3      11         [3, 5, 7, 10]\n",
       "23       3      12        [3, 5, 10, 12]"
      ]
     },
     "execution_count": 377,
     "metadata": {},
     "output_type": "execute_result"
    }
   ],
   "source": [
    "if True:\n",
    "    i=2\n",
    "    #remove i=2\n",
    "    df_not_i=df.drop(df.index[[i]])\n",
    "    df_not_i['intersect']=df_not_i.references.map(lambda x: check_intersect1d(x,df.loc[i,'references']))\n",
    "    df_not_i=df_not_i[df_not_i.intersect.map(len)>0]\n",
    "    df_not_i=df_not_i.rename_axis({'recid':'target'}, axis = 'columns')\n",
    "    df_not_i['source']=df.loc[i,'recid']\n",
    "    # switch source, target order and remove if already in edges\n",
    "    df_not_i=df_not_i[ ( df_not_i.target.map( lambda x: [x] )+df_not_i.source.map( lambda x: [x] )\n",
    "          ).map(lambda x: check_not_ref(x,edges) )]    \n",
    "    \n",
    "    # list of edges: [ [source, target],... ]\n",
    "    edges=edges+np.stack(( df_not_i.source.values,df_not_i.target.values),axis=1 ).tolist()    \n",
    "    #Store Edges DataFrame\n",
    "    ed=ed.append( df_not_i[['source','target','intersect']] ).reset_index(drop=True)\n",
    "\n",
    "ed    "
   ]
  },
  {
   "cell_type": "code",
   "execution_count": 366,
   "metadata": {},
   "outputs": [
    {
     "data": {
      "text/plain": [
       "[[1, 2],\n",
       " [1, 3],\n",
       " [1, 6],\n",
       " [1, 8],\n",
       " [1, 10],\n",
       " [1, 11],\n",
       " [1, 12],\n",
       " [2, 3],\n",
       " [2, 5],\n",
       " [2, 6],\n",
       " [2, 7],\n",
       " [2, 8],\n",
       " [2, 9],\n",
       " [2, 10],\n",
       " [2, 11],\n",
       " [2, 12],\n",
       " [2, 13]]"
      ]
     },
     "execution_count": 366,
     "metadata": {},
     "output_type": "execute_result"
    }
   ],
   "source": [
    "edges"
   ]
  },
  {
   "cell_type": "code",
   "execution_count": 345,
   "metadata": {},
   "outputs": [
    {
     "data": {
      "text/html": [
       "<div>\n",
       "<style>\n",
       "    .dataframe thead tr:only-child th {\n",
       "        text-align: right;\n",
       "    }\n",
       "\n",
       "    .dataframe thead th {\n",
       "        text-align: left;\n",
       "    }\n",
       "\n",
       "    .dataframe tbody tr th {\n",
       "        vertical-align: top;\n",
       "    }\n",
       "</style>\n",
       "<table border=\"1\" class=\"dataframe\">\n",
       "  <thead>\n",
       "    <tr style=\"text-align: right;\">\n",
       "      <th></th>\n",
       "      <th>target</th>\n",
       "      <th>references</th>\n",
       "      <th>intersect</th>\n",
       "      <th>source</th>\n",
       "      <th>ST</th>\n",
       "    </tr>\n",
       "  </thead>\n",
       "  <tbody>\n",
       "    <tr>\n",
       "      <th>2</th>\n",
       "      <td>3</td>\n",
       "      <td>[3, 5, 7, 8, 9, 10, 12]</td>\n",
       "      <td>[3, 5, 7, 8, 9, 10]</td>\n",
       "      <td>2</td>\n",
       "      <td>[[1, 2], [1, 3], [1, 6], [1, 8], [1, 10], [1, 11], [1, 12]]</td>\n",
       "    </tr>\n",
       "    <tr>\n",
       "      <th>4</th>\n",
       "      <td>5</td>\n",
       "      <td>[1, 3, 6, 11]</td>\n",
       "      <td>[1, 3, 11]</td>\n",
       "      <td>2</td>\n",
       "      <td>[[1, 2], [1, 3], [1, 6], [1, 8], [1, 10], [1, 11], [1, 12]]</td>\n",
       "    </tr>\n",
       "    <tr>\n",
       "      <th>5</th>\n",
       "      <td>6</td>\n",
       "      <td>[2, 4, 5, 7, 9, 10, 11, 12]</td>\n",
       "      <td>[4, 5, 7, 9, 10, 11]</td>\n",
       "      <td>2</td>\n",
       "      <td>[[1, 2], [1, 3], [1, 6], [1, 8], [1, 10], [1, 11], [1, 12]]</td>\n",
       "    </tr>\n",
       "    <tr>\n",
       "      <th>6</th>\n",
       "      <td>7</td>\n",
       "      <td>[1, 2, 3, 4, 10, 11, 12]</td>\n",
       "      <td>[1, 3, 4, 10, 11]</td>\n",
       "      <td>2</td>\n",
       "      <td>[[1, 2], [1, 3], [1, 6], [1, 8], [1, 10], [1, 11], [1, 12]]</td>\n",
       "    </tr>\n",
       "    <tr>\n",
       "      <th>7</th>\n",
       "      <td>8</td>\n",
       "      <td>[2, 4, 5, 6, 7, 8, 11]</td>\n",
       "      <td>[4, 5, 7, 8, 11]</td>\n",
       "      <td>2</td>\n",
       "      <td>[[1, 2], [1, 3], [1, 6], [1, 8], [1, 10], [1, 11], [1, 12]]</td>\n",
       "    </tr>\n",
       "    <tr>\n",
       "      <th>8</th>\n",
       "      <td>9</td>\n",
       "      <td>[1]</td>\n",
       "      <td>[1]</td>\n",
       "      <td>2</td>\n",
       "      <td>[[1, 2], [1, 3], [1, 6], [1, 8], [1, 10], [1, 11], [1, 12]]</td>\n",
       "    </tr>\n",
       "    <tr>\n",
       "      <th>9</th>\n",
       "      <td>10</td>\n",
       "      <td>[1, 3, 4, 8, 10]</td>\n",
       "      <td>[1, 3, 4, 8, 10]</td>\n",
       "      <td>2</td>\n",
       "      <td>[[1, 2], [1, 3], [1, 6], [1, 8], [1, 10], [1, 11], [1, 12]]</td>\n",
       "    </tr>\n",
       "    <tr>\n",
       "      <th>10</th>\n",
       "      <td>11</td>\n",
       "      <td>[3, 4, 5, 6, 7, 10, 11]</td>\n",
       "      <td>[3, 4, 5, 7, 10, 11]</td>\n",
       "      <td>2</td>\n",
       "      <td>[[1, 2], [1, 3], [1, 6], [1, 8], [1, 10], [1, 11], [1, 12]]</td>\n",
       "    </tr>\n",
       "    <tr>\n",
       "      <th>11</th>\n",
       "      <td>12</td>\n",
       "      <td>[2, 3, 5, 6, 10, 12]</td>\n",
       "      <td>[3, 5, 10]</td>\n",
       "      <td>2</td>\n",
       "      <td>[[1, 2], [1, 3], [1, 6], [1, 8], [1, 10], [1, 11], [1, 12]]</td>\n",
       "    </tr>\n",
       "    <tr>\n",
       "      <th>12</th>\n",
       "      <td>13</td>\n",
       "      <td>[11]</td>\n",
       "      <td>[11]</td>\n",
       "      <td>2</td>\n",
       "      <td>[[1, 2], [1, 3], [1, 6], [1, 8], [1, 10], [1, 11], [1, 12]]</td>\n",
       "    </tr>\n",
       "  </tbody>\n",
       "</table>\n",
       "</div>"
      ],
      "text/plain": [
       "    target                   references             intersect  source  \\\n",
       "2        3      [3, 5, 7, 8, 9, 10, 12]   [3, 5, 7, 8, 9, 10]       2   \n",
       "4        5                [1, 3, 6, 11]            [1, 3, 11]       2   \n",
       "5        6  [2, 4, 5, 7, 9, 10, 11, 12]  [4, 5, 7, 9, 10, 11]       2   \n",
       "6        7     [1, 2, 3, 4, 10, 11, 12]     [1, 3, 4, 10, 11]       2   \n",
       "7        8       [2, 4, 5, 6, 7, 8, 11]      [4, 5, 7, 8, 11]       2   \n",
       "8        9                          [1]                   [1]       2   \n",
       "9       10             [1, 3, 4, 8, 10]      [1, 3, 4, 8, 10]       2   \n",
       "10      11      [3, 4, 5, 6, 7, 10, 11]  [3, 4, 5, 7, 10, 11]       2   \n",
       "11      12         [2, 3, 5, 6, 10, 12]            [3, 5, 10]       2   \n",
       "12      13                         [11]                  [11]       2   \n",
       "\n",
       "                                                             ST  \n",
       "2   [[1, 2], [1, 3], [1, 6], [1, 8], [1, 10], [1, 11], [1, 12]]  \n",
       "4   [[1, 2], [1, 3], [1, 6], [1, 8], [1, 10], [1, 11], [1, 12]]  \n",
       "5   [[1, 2], [1, 3], [1, 6], [1, 8], [1, 10], [1, 11], [1, 12]]  \n",
       "6   [[1, 2], [1, 3], [1, 6], [1, 8], [1, 10], [1, 11], [1, 12]]  \n",
       "7   [[1, 2], [1, 3], [1, 6], [1, 8], [1, 10], [1, 11], [1, 12]]  \n",
       "8   [[1, 2], [1, 3], [1, 6], [1, 8], [1, 10], [1, 11], [1, 12]]  \n",
       "9   [[1, 2], [1, 3], [1, 6], [1, 8], [1, 10], [1, 11], [1, 12]]  \n",
       "10  [[1, 2], [1, 3], [1, 6], [1, 8], [1, 10], [1, 11], [1, 12]]  \n",
       "11  [[1, 2], [1, 3], [1, 6], [1, 8], [1, 10], [1, 11], [1, 12]]  \n",
       "12  [[1, 2], [1, 3], [1, 6], [1, 8], [1, 10], [1, 11], [1, 12]]  "
      ]
     },
     "execution_count": 345,
     "metadata": {},
     "output_type": "execute_result"
    }
   ],
   "source": []
  },
  {
   "cell_type": "code",
   "execution_count": 318,
   "metadata": {},
   "outputs": [
    {
     "ename": "SyntaxError",
     "evalue": "unexpected EOF while parsing (<ipython-input-318-823e03b869c7>, line 1)",
     "output_type": "error",
     "traceback": [
      "\u001b[0;36m  File \u001b[0;32m\"<ipython-input-318-823e03b869c7>\"\u001b[0;36m, line \u001b[0;32m1\u001b[0m\n\u001b[0;31m    (df_not_i.target\u001b[0m\n\u001b[0m                    ^\u001b[0m\n\u001b[0;31mSyntaxError\u001b[0m\u001b[0;31m:\u001b[0m unexpected EOF while parsing\n"
     ]
    }
   ],
   "source": [
    "(df_not_i.target.astype(str)+'::'+df_not_i.source.astype(str) ).str.split('::')"
   ]
  },
  {
   "cell_type": "code",
   "execution_count": 312,
   "metadata": {},
   "outputs": [
    {
     "data": {
      "text/plain": [
       "array([list(['1', '2']), list(['3', '2']), list(['5', '2']),\n",
       "       list(['6', '2']), list(['7', '2']), list(['8', '2']),\n",
       "       list(['9', '2']), list(['10', '2']), list(['11', '2']),\n",
       "       list(['12', '2']), list(['13', '2'])], dtype=object)"
      ]
     },
     "execution_count": 312,
     "metadata": {},
     "output_type": "execute_result"
    }
   ],
   "source": [
    "( df_not_i.target.astype(str)+'::'+df_not_i.source.astype(str) ).str.split('::').values"
   ]
  },
  {
   "cell_type": "code",
   "execution_count": 308,
   "metadata": {},
   "outputs": [
    {
     "data": {
      "text/plain": [
       "0     False\n",
       "2     False\n",
       "4     False\n",
       "5     False\n",
       "6     False\n",
       "7     False\n",
       "8     False\n",
       "9     False\n",
       "10    False\n",
       "11    False\n",
       "12    False\n",
       "dtype: bool"
      ]
     },
     "execution_count": 308,
     "metadata": {},
     "output_type": "execute_result"
    }
   ],
   "source": [
    "def check_ref(x,ref):\n",
    "    return x in ref\n",
    "( df_not_i.target.astype(str)+'::'+df_not_i.source.astype(str) ).str.split('::').map(lambda x: check_ref(x,[[1,2]] ))\n",
    "           #np.stack(( ed.source.values,ed.target.values),axis=1 )          ))"
   ]
  },
  {
   "cell_type": "code",
   "execution_count": 310,
   "metadata": {},
   "outputs": [
    {
     "data": {
      "text/plain": [
       "True"
      ]
     },
     "execution_count": 310,
     "metadata": {},
     "output_type": "execute_result"
    }
   ],
   "source": [
    "check_ref([1,2] , [[1,2]])"
   ]
  },
  {
   "cell_type": "code",
   "execution_count": 287,
   "metadata": {},
   "outputs": [
    {
     "ename": "ValueError",
     "evalue": "Length of values does not match length of index",
     "output_type": "error",
     "traceback": [
      "\u001b[0;31m---------------------------------------------------------------------------\u001b[0m",
      "\u001b[0;31mValueError\u001b[0m                                Traceback (most recent call last)",
      "\u001b[0;32m<ipython-input-287-37f1b6ac83e5>\u001b[0m in \u001b[0;36m<module>\u001b[0;34m()\u001b[0m\n\u001b[0;32m----> 1\u001b[0;31m \u001b[0mdf_not_i\u001b[0m\u001b[0;34m.\u001b[0m\u001b[0massign\u001b[0m\u001b[0;34m(\u001b[0m  \u001b[0mTS\u001b[0m\u001b[0;34m=\u001b[0m \u001b[0mpd\u001b[0m\u001b[0;34m.\u001b[0m\u001b[0mSeries\u001b[0m\u001b[0;34m(\u001b[0m \u001b[0;34m{\u001b[0m\u001b[0;34m'TS'\u001b[0m\u001b[0;34m:\u001b[0m\u001b[0mnp\u001b[0m\u001b[0;34m.\u001b[0m\u001b[0mstack\u001b[0m\u001b[0;34m(\u001b[0m\u001b[0;34m(\u001b[0m \u001b[0mdf_not_i\u001b[0m\u001b[0;34m.\u001b[0m\u001b[0mtarget\u001b[0m\u001b[0;34m.\u001b[0m\u001b[0mvalues\u001b[0m\u001b[0;34m,\u001b[0m\u001b[0mdf_not_i\u001b[0m\u001b[0;34m.\u001b[0m\u001b[0msource\u001b[0m\u001b[0;34m.\u001b[0m\u001b[0mvalues\u001b[0m\u001b[0;34m)\u001b[0m\u001b[0;34m,\u001b[0m\u001b[0maxis\u001b[0m\u001b[0;34m=\u001b[0m\u001b[0;36m1\u001b[0m \u001b[0;34m)\u001b[0m\u001b[0;34m}\u001b[0m\u001b[0;34m)\u001b[0m\u001b[0;34m.\u001b[0m\u001b[0mvalues\u001b[0m \u001b[0;34m)\u001b[0m\u001b[0;34m\u001b[0m\u001b[0m\n\u001b[0m",
      "\u001b[0;32m/usr/local/lib/python3.5/dist-packages/pandas/core/frame.py\u001b[0m in \u001b[0;36massign\u001b[0;34m(self, **kwargs)\u001b[0m\n\u001b[1;32m   2499\u001b[0m         \u001b[0;31m# ... and then assign\u001b[0m\u001b[0;34m\u001b[0m\u001b[0;34m\u001b[0m\u001b[0m\n\u001b[1;32m   2500\u001b[0m         \u001b[0;32mfor\u001b[0m \u001b[0mk\u001b[0m\u001b[0;34m,\u001b[0m \u001b[0mv\u001b[0m \u001b[0;32min\u001b[0m \u001b[0msorted\u001b[0m\u001b[0;34m(\u001b[0m\u001b[0mresults\u001b[0m\u001b[0;34m.\u001b[0m\u001b[0mitems\u001b[0m\u001b[0;34m(\u001b[0m\u001b[0;34m)\u001b[0m\u001b[0;34m)\u001b[0m\u001b[0;34m:\u001b[0m\u001b[0;34m\u001b[0m\u001b[0m\n\u001b[0;32m-> 2501\u001b[0;31m             \u001b[0mdata\u001b[0m\u001b[0;34m[\u001b[0m\u001b[0mk\u001b[0m\u001b[0;34m]\u001b[0m \u001b[0;34m=\u001b[0m \u001b[0mv\u001b[0m\u001b[0;34m\u001b[0m\u001b[0m\n\u001b[0m\u001b[1;32m   2502\u001b[0m \u001b[0;34m\u001b[0m\u001b[0m\n\u001b[1;32m   2503\u001b[0m         \u001b[0;32mreturn\u001b[0m \u001b[0mdata\u001b[0m\u001b[0;34m\u001b[0m\u001b[0m\n",
      "\u001b[0;32m/usr/local/lib/python3.5/dist-packages/pandas/core/frame.py\u001b[0m in \u001b[0;36m__setitem__\u001b[0;34m(self, key, value)\u001b[0m\n\u001b[1;32m   2329\u001b[0m         \u001b[0;32melse\u001b[0m\u001b[0;34m:\u001b[0m\u001b[0;34m\u001b[0m\u001b[0m\n\u001b[1;32m   2330\u001b[0m             \u001b[0;31m# set column\u001b[0m\u001b[0;34m\u001b[0m\u001b[0;34m\u001b[0m\u001b[0m\n\u001b[0;32m-> 2331\u001b[0;31m             \u001b[0mself\u001b[0m\u001b[0;34m.\u001b[0m\u001b[0m_set_item\u001b[0m\u001b[0;34m(\u001b[0m\u001b[0mkey\u001b[0m\u001b[0;34m,\u001b[0m \u001b[0mvalue\u001b[0m\u001b[0;34m)\u001b[0m\u001b[0;34m\u001b[0m\u001b[0m\n\u001b[0m\u001b[1;32m   2332\u001b[0m \u001b[0;34m\u001b[0m\u001b[0m\n\u001b[1;32m   2333\u001b[0m     \u001b[0;32mdef\u001b[0m \u001b[0m_setitem_slice\u001b[0m\u001b[0;34m(\u001b[0m\u001b[0mself\u001b[0m\u001b[0;34m,\u001b[0m \u001b[0mkey\u001b[0m\u001b[0;34m,\u001b[0m \u001b[0mvalue\u001b[0m\u001b[0;34m)\u001b[0m\u001b[0;34m:\u001b[0m\u001b[0;34m\u001b[0m\u001b[0m\n",
      "\u001b[0;32m/usr/local/lib/python3.5/dist-packages/pandas/core/frame.py\u001b[0m in \u001b[0;36m_set_item\u001b[0;34m(self, key, value)\u001b[0m\n\u001b[1;32m   2395\u001b[0m \u001b[0;34m\u001b[0m\u001b[0m\n\u001b[1;32m   2396\u001b[0m         \u001b[0mself\u001b[0m\u001b[0;34m.\u001b[0m\u001b[0m_ensure_valid_index\u001b[0m\u001b[0;34m(\u001b[0m\u001b[0mvalue\u001b[0m\u001b[0;34m)\u001b[0m\u001b[0;34m\u001b[0m\u001b[0m\n\u001b[0;32m-> 2397\u001b[0;31m         \u001b[0mvalue\u001b[0m \u001b[0;34m=\u001b[0m \u001b[0mself\u001b[0m\u001b[0;34m.\u001b[0m\u001b[0m_sanitize_column\u001b[0m\u001b[0;34m(\u001b[0m\u001b[0mkey\u001b[0m\u001b[0;34m,\u001b[0m \u001b[0mvalue\u001b[0m\u001b[0;34m)\u001b[0m\u001b[0;34m\u001b[0m\u001b[0m\n\u001b[0m\u001b[1;32m   2398\u001b[0m         \u001b[0mNDFrame\u001b[0m\u001b[0;34m.\u001b[0m\u001b[0m_set_item\u001b[0m\u001b[0;34m(\u001b[0m\u001b[0mself\u001b[0m\u001b[0;34m,\u001b[0m \u001b[0mkey\u001b[0m\u001b[0;34m,\u001b[0m \u001b[0mvalue\u001b[0m\u001b[0;34m)\u001b[0m\u001b[0;34m\u001b[0m\u001b[0m\n\u001b[1;32m   2399\u001b[0m \u001b[0;34m\u001b[0m\u001b[0m\n",
      "\u001b[0;32m/usr/local/lib/python3.5/dist-packages/pandas/core/frame.py\u001b[0m in \u001b[0;36m_sanitize_column\u001b[0;34m(self, key, value, broadcast)\u001b[0m\n\u001b[1;32m   2566\u001b[0m \u001b[0;34m\u001b[0m\u001b[0m\n\u001b[1;32m   2567\u001b[0m             \u001b[0;31m# turn me into an ndarray\u001b[0m\u001b[0;34m\u001b[0m\u001b[0;34m\u001b[0m\u001b[0m\n\u001b[0;32m-> 2568\u001b[0;31m             \u001b[0mvalue\u001b[0m \u001b[0;34m=\u001b[0m \u001b[0m_sanitize_index\u001b[0m\u001b[0;34m(\u001b[0m\u001b[0mvalue\u001b[0m\u001b[0;34m,\u001b[0m \u001b[0mself\u001b[0m\u001b[0;34m.\u001b[0m\u001b[0mindex\u001b[0m\u001b[0;34m,\u001b[0m \u001b[0mcopy\u001b[0m\u001b[0;34m=\u001b[0m\u001b[0;32mFalse\u001b[0m\u001b[0;34m)\u001b[0m\u001b[0;34m\u001b[0m\u001b[0m\n\u001b[0m\u001b[1;32m   2569\u001b[0m             \u001b[0;32mif\u001b[0m \u001b[0;32mnot\u001b[0m \u001b[0misinstance\u001b[0m\u001b[0;34m(\u001b[0m\u001b[0mvalue\u001b[0m\u001b[0;34m,\u001b[0m \u001b[0;34m(\u001b[0m\u001b[0mnp\u001b[0m\u001b[0;34m.\u001b[0m\u001b[0mndarray\u001b[0m\u001b[0;34m,\u001b[0m \u001b[0mIndex\u001b[0m\u001b[0;34m)\u001b[0m\u001b[0;34m)\u001b[0m\u001b[0;34m:\u001b[0m\u001b[0;34m\u001b[0m\u001b[0m\n\u001b[1;32m   2570\u001b[0m                 \u001b[0;32mif\u001b[0m \u001b[0misinstance\u001b[0m\u001b[0;34m(\u001b[0m\u001b[0mvalue\u001b[0m\u001b[0;34m,\u001b[0m \u001b[0mlist\u001b[0m\u001b[0;34m)\u001b[0m \u001b[0;32mand\u001b[0m \u001b[0mlen\u001b[0m\u001b[0;34m(\u001b[0m\u001b[0mvalue\u001b[0m\u001b[0;34m)\u001b[0m \u001b[0;34m>\u001b[0m \u001b[0;36m0\u001b[0m\u001b[0;34m:\u001b[0m\u001b[0;34m\u001b[0m\u001b[0m\n",
      "\u001b[0;32m/usr/local/lib/python3.5/dist-packages/pandas/core/series.py\u001b[0m in \u001b[0;36m_sanitize_index\u001b[0;34m(data, index, copy)\u001b[0m\n\u001b[1;32m   2877\u001b[0m \u001b[0;34m\u001b[0m\u001b[0m\n\u001b[1;32m   2878\u001b[0m     \u001b[0;32mif\u001b[0m \u001b[0mlen\u001b[0m\u001b[0;34m(\u001b[0m\u001b[0mdata\u001b[0m\u001b[0;34m)\u001b[0m \u001b[0;34m!=\u001b[0m \u001b[0mlen\u001b[0m\u001b[0;34m(\u001b[0m\u001b[0mindex\u001b[0m\u001b[0;34m)\u001b[0m\u001b[0;34m:\u001b[0m\u001b[0;34m\u001b[0m\u001b[0m\n\u001b[0;32m-> 2879\u001b[0;31m         \u001b[0;32mraise\u001b[0m \u001b[0mValueError\u001b[0m\u001b[0;34m(\u001b[0m\u001b[0;34m'Length of values does not match length of '\u001b[0m \u001b[0;34m'index'\u001b[0m\u001b[0;34m)\u001b[0m\u001b[0;34m\u001b[0m\u001b[0m\n\u001b[0m\u001b[1;32m   2880\u001b[0m \u001b[0;34m\u001b[0m\u001b[0m\n\u001b[1;32m   2881\u001b[0m     \u001b[0;32mif\u001b[0m \u001b[0misinstance\u001b[0m\u001b[0;34m(\u001b[0m\u001b[0mdata\u001b[0m\u001b[0;34m,\u001b[0m \u001b[0mPeriodIndex\u001b[0m\u001b[0;34m)\u001b[0m\u001b[0;34m:\u001b[0m\u001b[0;34m\u001b[0m\u001b[0m\n",
      "\u001b[0;31mValueError\u001b[0m: Length of values does not match length of index"
     ]
    }
   ],
   "source": [
    "df_not_i.assign(  TS= pd.Series( {'TS':np.stack(( df_not_i.target.values,df_not_i.source.values),axis=1 )}).values )"
   ]
  },
  {
   "cell_type": "code",
   "execution_count": 242,
   "metadata": {},
   "outputs": [
    {
     "data": {
      "text/plain": [
       "2"
      ]
     },
     "execution_count": 242,
     "metadata": {},
     "output_type": "execute_result"
    }
   ],
   "source": [
    "1+1"
   ]
  },
  {
   "cell_type": "code",
   "execution_count": 240,
   "metadata": {},
   "outputs": [],
   "source": [
    "np.stack?"
   ]
  },
  {
   "cell_type": "code",
   "execution_count": null,
   "metadata": {},
   "outputs": [],
   "source": []
  }
 ],
 "metadata": {
  "celltoolbar": "Raw Cell Format",
  "kernelspec": {
   "display_name": "Python 3",
   "language": "python",
   "name": "python3"
  },
  "language_info": {
   "codemirror_mode": {
    "name": "ipython",
    "version": 3
   },
   "file_extension": ".py",
   "mimetype": "text/x-python",
   "name": "python",
   "nbconvert_exporter": "python",
   "pygments_lexer": "ipython3",
   "version": "3.5.3"
  }
 },
 "nbformat": 4,
 "nbformat_minor": 2
}
