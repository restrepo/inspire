{
 "cells": [
  {
   "cell_type": "markdown",
   "id": "fbc9f311-316c-46c5-b86b-8d826e79539a",
   "metadata": {
    "tags": []
   },
   "source": [
    "# Construction of JSON object Authors from INSPIRE-HEP\n",
    "<img src=\"https://raw.githubusercontent.com/restrepo/inspire/master/img/authors.svg\" width=700>"
   ]
  },
  {
   "cell_type": "markdown",
   "id": "de99f801-177d-4744-9d18-8af2cf7b55bd",
   "metadata": {},
   "source": [
    "## Design of the object-oriented alghorithm\n",
    "each object must be initialized with the relevant part of the JSON from the INSPIRE-HEP api, and must have a method to obtain the relevant part of the \"auhtor\" object.\n",
    "\n",
    "For example. The basic class must be `profile` and the input must be the JSON, `p`, from the profile API response\n",
    "```\n",
    ">>> au=profile(p)\n",
    ">>> au.get_author()\n",
    "```\n",
    "`au` has the attributes accoding to the previous diagram"
   ]
  },
  {
   "cell_type": "code",
   "execution_count": 1,
   "id": "8eccbafc-f3b4-42e7-ad0d-764755fe0411",
   "metadata": {},
   "outputs": [],
   "source": [
    "import pandas as pd\n",
    "import sys\n",
    "from IPython.display import JSON\n",
    "import pickle"
   ]
  },
  {
   "cell_type": "code",
   "execution_count": 2,
   "id": "01be3c96-0ec9-49bf-8325-3cd811349cf1",
   "metadata": {},
   "outputs": [],
   "source": [
    "import json\n",
    "import requests\n",
    "import time\n",
    "import copy\n",
    "#https://towardsdatascience.com/do-not-use-if-else-for-validating-data-objects-in-python-anymore-17203e1d65fe\n",
    "from cerberus import Validator\n",
    "import pycountry\n",
    "\n",
    "global timeout\n",
    "timeout=5\n",
    "global countries\n",
    "countries=[x.name for x in pycountry.countries]\n",
    "\n",
    "global _excluded_keys\n",
    "_excluded_keys=['get_author','author','sample_profile','schema_profile','to_dict','to_json',\n",
    "               'get_authors','db','sample_author', 'schema_author', 'sleep','profile',\n",
    "                'sample_work', 'schema_work', 'work',\n",
    "               'institutions_list', 'literature_size','not_collaboration','q', 'q_inst', 'size', 'size_inst', 'work_list',\n",
    "               'cache','cacheco','institution_ids']\n",
    "\n",
    "class empty_json:\n",
    "    status_code=0\n",
    "    def json(self):\n",
    "        return {}\n",
    "\n",
    "class profile:\n",
    "    #Default behaviour: if key exists must be 'type'\n",
    "    schema_profile={\"name\":{'type':'dict','required':True},\n",
    "            \"email_addresses\":{'type':'list'},\n",
    "            \"positions\":{'type':'list'},\n",
    "            \"ids\":{'type':'list'},\n",
    "            }        \n",
    "    sample_profile={\"advisors\":[{\"ids\":[{\"value\":\"INSPIRE-00133260\",\n",
    "                                    \"schema\":\"INSPIRE ID\"}],\n",
    "                \"name\":\"Valle, Jose W.F.\",\n",
    "                \"hidden\":False,\n",
    "                \"record\":{\"$ref\":\"https://inspirehep.net/api/authors/985058\"},\n",
    "                \"degree_type\":\"phd\",\"curated_relation\":False},\n",
    "               {\"name\":\"Ponce, William A.\",\"hidden\":False,\n",
    "                \"degree_type\":\"master\",\n",
    "                \"curated_relation\":False}],\n",
    "                \"email_addresses\":[{\"value\":\"restrepo@udea.edu.co\",\"current\":True}],\n",
    "    \"positions\":[{\"rank\":\"SENIOR\",\n",
    "                  \"hidden\":False,\n",
    "                  \"record\":{\"$ref\":\"https://inspirehep.net/api/institutions/903906\"},\n",
    "                  \"current\":True,\n",
    "                  \"start_date\":\"2004\",\n",
    "                  \"institution\":\"Antioquia U.\",\n",
    "                  \"curated_relation\":True},\n",
    "                 {\"rank\":\"PHD\",\n",
    "                  \"hidden\":False,\n",
    "                  \"record\":{\"$ref\":\"https://inspirehep.net/api/institutions/907907\"},\n",
    "                  \"current\":False,\n",
    "                  \"end_date\":\"2001\",\"start_date\":\"1997\",\n",
    "                  \"institution\":\"Valencia U., IFIC\",\"curated_relation\":True}],\n",
    "    \"ids\":[{\"value\":\"D.Restrepo.1\",\"schema\":\"INSPIRE BAI\"},\n",
    "           {\"value\":\"INSPIRE-00119748\",\"schema\":\"INSPIRE ID\"},\n",
    "           {\"value\":\"0000-0001-6455-5564\",\"schema\":\"ORCID\"},\n",
    "           {\"value\":\"diego-restrepo-209b7927\",\"schema\":\"LINKEDIN\"}],\n",
    "    \"name\":{\"value\":\"Restrepo Quintero, Diego Alejandro\",\n",
    "            \"preferred_name\":\"Diego Restrepo\"},\n",
    "    \"stub\":False,\n",
    "    \"urls\":[{\"value\":\"http://gfif.udea.edu.co\"},\n",
    "            {\"value\":\"https://scholar.google.com/citations?user=1sKULCoAAAAJ\"},\n",
    "            {\"value\":\"https://www.researchgate.net/profile/Diego_Restrepo2\"}],\n",
    "    \"status\":\"active\",\n",
    "    \"$schema\":\"https://inspirehep.net/schemas/records/authors.json\",\n",
    "    \"deleted\":False,\n",
    "    \"control_number\":991924,\n",
    "    \"legacy_version\":\"20210323213044.0\",\n",
    "    \"arxiv_categories\":[\"hep-ph\"],\n",
    "    \"legacy_creation_date\":\"1999-08-23\"}\n",
    "    def __init__(self,p):\n",
    "        if p:\n",
    "            v=Validator(self.schema_profile,allow_unknown=True)\n",
    "            if not v.validate(p):\n",
    "                raise Exception(f'''\n",
    "                    Input is not an INSPIRE-HEP profile dictionary:\n",
    "                    {v.errors}                    \n",
    "                    See `self.sample_profile`'''\n",
    "                               )\n",
    "        self.profile=p\n",
    "            \n",
    "    def get_author(self):\n",
    "        '''\n",
    "        Select:\n",
    "        * current position\n",
    "        * non-INSPIRE ids\n",
    "        * name\n",
    "        * control_number\n",
    "        * arxiv_categories\n",
    "        '''        \n",
    "        if not hasattr(self,'profile'):\n",
    "            return {}\n",
    "        p=self.profile\n",
    "        self.name=p.get('name')\n",
    "        self.positions=p.get('positions')\n",
    "        self.email_addresses=p.get('email_addresses')\n",
    "        self.ids=p.get('ids')\n",
    "        \n",
    "        return self\n",
    "    def to_dict(self):\n",
    "        l=[]\n",
    "        for x in dir(self):\n",
    "            if x.find('__')==-1 and x not in _excluded_keys:\n",
    "                l.append((x,eval( f'self.{x}')) )\n",
    "        return dict(l)\n",
    "        #return dict( [(x,eval( f'self.{x}')) for x in dir(self) \n",
    "        #  if x.find('__')==-1 and x not in _excluded_keys] )\n",
    "    \n",
    "class author(profile):\n",
    "    sleep=0.4\n",
    "    #`ids → [{\"schema\": \"INSPIRE BAI\"}]` required for author_id\n",
    "    #`affiliations → [{...}] required for institution_id\n",
    "    schema_author={\"ids\": {'type':'list',\n",
    "                           'schema':{'type':'dict',\n",
    "                                     'schema':{'schema':{'type':'string'},\n",
    "                                               'value': {'type':'string'}\n",
    "                                              }\n",
    "                                    }\n",
    "                          }, \n",
    "            \"record\":{'type':'dict'}, \n",
    "            \"full_name\": {'type':'string'}, \n",
    "            \"affiliations\":{'type':'list',\n",
    "                           'schema':{'type':'dict','required':True}}\n",
    "           }\n",
    "    sample_author={\"ids\":[{\"value\": \"D.Restrepo.1\", \n",
    "                            \"schema\": \"INSPIRE BAI\"}\n",
    "                          ], \n",
    "                   \"uuid\": \"300c9b2c-15b0-4937-ad36-8ccff33fd09d\", \n",
    "                   \"emails\": [\"restrepo@udea.edu.co\"], \n",
    "                   \"record\": {\"$ref\": \"https://inspirehep.net/api/authors/991924\"}, \n",
    "                   \"full_name\": \"Restrepo, Diego\", \n",
    "                   \"affiliations\": [{\"value\": \"Antioquia U.\", \n",
    "                                     \"record\": {\"$ref\": \"https://inspirehep.net/api/institutions/903906\"}},\n",
    "                                   {\"value\":\"Campinas State U.\",\n",
    "                                    \"record\":{\"$ref\":\"https://inspirehep.net/api/institutions/902714\"}}], \n",
    "                   \"signature_block\": \"RASTRAPd\", \n",
    "                   \"raw_affiliations\": [{\"value\": \"Instituto de Física, Universidad de Antioquia, Calle 70 No 52-21, Medellín, Colombia\"}, \n",
    "                                        {\"value\": \"Instituto de Física Gleb Wataghin, UNICAMP, 13083-859, Campinas, SP, Brazil\"}]}\n",
    "    def __init__(self,a,db=[]):\n",
    "        self.author=a\n",
    "        self.db=db\n",
    "        if a:\n",
    "            v=Validator(self.schema_author,allow_unknown=True)\n",
    "            if not v.validate(a):\n",
    "                raise Exception(f'''\n",
    "                    Input is not an INSPIRE-HEP author dictionary:\n",
    "                    {v.errors}\n",
    "                    See `self.sample_author`''')\n",
    "        #if not hasattr(self,'cache'):\n",
    "        #    self.cache={}\n",
    "        #if not hasattr(self,'cachecho'):\n",
    "        #    self.cacheco={}                        \n",
    "        #super(author, self).__init__(p)\n",
    "    def get_authors(self):\n",
    "        #TODO: Check previous analysis for more metadata\n",
    "        #use requests\n",
    "        a=self.author\n",
    "        r=empty_json()\n",
    "        self.full_name=a.get('full_name')\n",
    "        try:\n",
    "            self.author_id=[i for i  in a.get('ids') if i.get('schema')=='INSPIRE BAI'\n",
    "                  ][0].get('value')\n",
    "        except:\n",
    "            self.author_id=None\n",
    "\n",
    "        #a.get('affiliations') is not always there\n",
    "        try:\n",
    "            affiliations=[dict([(k,d.get(k)) for k in d if k in ['value','record']]) \n",
    "                               for d in a.get('affiliations') ]\n",
    "        except TypeError:\n",
    "            affiliations=[]\n",
    "            \n",
    "        #Profile\n",
    "        try:\n",
    "            url=a.get('record').get(\"$ref\")\n",
    "        except AttributeError:\n",
    "            url=''\n",
    "        if url and isinstance(url,str):\n",
    "            if not hasattr(self,\"status\"):\n",
    "                self.status=True\n",
    "            self.profile_id=url.split('/')[-1]\n",
    "            try:\n",
    "                r=requests.get(url,timeout=timeout)\n",
    "                time.sleep(self.sleep)\n",
    "            except:\n",
    "                self.status=False\n",
    "        if r.status_code==200:\n",
    "            p=r.json().get('metadata')\n",
    "        else:\n",
    "            p={}#{'status_code':r.status_code}\n",
    "            #return self.db #author without affilitions are not considered\n",
    "            \n",
    "        #We assume that the affilition is defined at least for\n",
    "        #one of the authors of the paper\n",
    "        #Authos without affiliations to get their institution are not considered\n",
    "        super(author, self).__init__(p)             \n",
    "        d=super(author, self).get_author() #→ self.profile\n",
    "        if self.author_id is None:\n",
    "            try:\n",
    "                self.author_id=[i for i  in self.profile.get('ids') if i.get('schema')=='INSPIRE BAI'\n",
    "                  ][0].get('value')\n",
    "            except:\n",
    "                self.author_id=None            \n",
    "            \n",
    "        \n",
    "        #self.to_dict=super(author, self).to_dict\n",
    "        ll=[x for x in self.db if hasattr(x,'author_id') and hasattr(x,'institution_id')]\n",
    "        #self.db[i] affiliation not in affiliation are not touched\n",
    "        self.institution=''\n",
    "        self.institution_id=None\n",
    "        self.institution_ids=[]\n",
    "        for aff in affiliations:\n",
    "            #We assumme that aff have at least the institution infomation\n",
    "            self.institution=aff.get('value')\n",
    "            if not self.institution:\n",
    "                self.institution_id=None\n",
    "                self.country=None\n",
    "                continue\n",
    "            try:\n",
    "                aff_url=aff.get('record').get('$ref')            \n",
    "                self.institution_id=aff_url.split('/')[-1]\n",
    "                self.institution_ids.append(self.institution_id)\n",
    "                #self.cache[self.institution]=self.institution_id\n",
    "            except AttributeError:\n",
    "                self.institution_id=None#self.cache.get(self.institution) #None if not key\n",
    "                aff_url=None\n",
    "            \n",
    "            #if self.cacheco.get(self.institution):\n",
    "            #    self.country=self.cacheco.get(self.institution)\n",
    "            self.country=None\n",
    "            if not hasattr(self,\"status\"):\n",
    "                self.status=True\n",
    "            if aff_url:\n",
    "                try:\n",
    "                    rr=requests.get(aff_url,timeout=timeout)\n",
    "                    time.sleep(self.sleep)\n",
    "                except:\n",
    "                    self.status=False\n",
    "                    continue\n",
    "                if rr.status_code==200:\n",
    "                    try:\n",
    "                        self.country=rr.json().get('metadata').get('addresses')[0].get('country')\n",
    "                        if self.country:\n",
    "                            self.cacheco[self.institution]=self.country\n",
    "                    except:\n",
    "                        self.country=None\n",
    "            else:\n",
    "                self.country=None\n",
    "                \n",
    "            \n",
    "            filtered_db=[x for x in ll if x.author_id==self.author_id \n",
    "                         and x.institution_id==self.institution_id]\n",
    "            if filtered_db:\n",
    "                au=filtered_db[0] #must be unique!\n",
    "            else: #aff not in self.db → New affiliation\n",
    "                ai=copy.copy(self)#deepcopy(self)\n",
    "                self.db.append(ai)\n",
    "                del ai #be sure that ai will not be modified\n",
    "        return self.db\n",
    "    def to_json(self):\n",
    "        return [d.to_dict() for d in self.db]\n",
    "        \n",
    "class work(author):\n",
    "    schema_work={'citation_count':{'type':'integer'},\n",
    "            'control_number':{'type':'integer','required':True},\n",
    "            'primary_arxiv_category':{'type':'list'},\n",
    "            'preprint_data':{'type':'string'},\n",
    "            'legacy_creation_date':{'type':'string'}\n",
    "            }\n",
    "    def __init__(self,w,db=[]):\n",
    "        self.sample_work={'citation_count': 0,\n",
    "                          'control_number':2080612,\n",
    "                          'publication_info':[\n",
    "                                              {'year':2022,\n",
    "                                              'journal_record': {'$ref': 'https://inspirehep.net/api/journals/1613946'}\n",
    "                                              }\n",
    "                                             ],\n",
    "                          'primary_arxiv_category':['hep-ph'],\n",
    "                          'authors':[self.sample_author]#publication_info,preprint_date,legacy_creation_date\n",
    "                                }\n",
    "        if w:\n",
    "            v=Validator(self.schema_work,allow_unknown=True)\n",
    "            if not v.validate(w):\n",
    "                raise Exception(f'''\n",
    "                    Input is not an INSPIRE-HEP work dictionary:\n",
    "                    {v.errors}\n",
    "                    See `self.sample_work`''')\n",
    "        \n",
    "        self.db=db\n",
    "        self.work=w\n",
    "    def get_authors(self):\n",
    "        '''\n",
    "        l: list of author objects\n",
    "        '''\n",
    "        l=self.work\n",
    "        print(l.get('control_number'),end='\\r')\n",
    "        #TODO: Check previous analysis for more metadata\n",
    "        primary_arxiv_category=l.get('primary_arxiv_category')\n",
    "        if not primary_arxiv_category:\n",
    "            try:\n",
    "                primary_arxiv_category=l.get('arxiv_eprints')[0].get('categories')\n",
    "            except TypeError:\n",
    "                primary_arxiv_category=[]\n",
    "        #if not primary_arxiv_category:\n",
    "        #    primary_arxiv_category=[]\n",
    "        try:\n",
    "            journal_id=l.get('publication_info')[0].get('journal_record'\n",
    "                                    ).get('$ref').split('/')[-1]\n",
    "        except:\n",
    "            journal_id='None'\n",
    "\n",
    "        try:\n",
    "            year=str(l.get('publication_info')[0].get('year')) #scheme validate\n",
    "        except TypeError:\n",
    "            year=0\n",
    "        if not year:\n",
    "            try:\n",
    "                year=l.get('preprint_date').split('-')[0]\n",
    "            except:\n",
    "                year=0\n",
    "        if not year:\n",
    "            try:\n",
    "                year=l.get('legacy_creation_date').split('-')[0]\n",
    "            except:\n",
    "                year=0\n",
    "        if not year:\n",
    "                year='0000'\n",
    "        #'inst_id':aff_id\n",
    "        paper={'recid':l.get('control_number'),'year':year,\n",
    "               'citation_count':l.get('citation_count'),\n",
    "               'primary_arxiv_category':primary_arxiv_category,\n",
    "               'journal_id':journal_id}\n",
    "        #In update\n",
    "        #'primary_arxiv_category':primary_arxiv_category\n",
    "        #super(work, self).__init__(w.get('authors')[0])\n",
    "               \n",
    "        aus=l.get('authors')\n",
    "        for a in aus: #same self.author_id but several institute_ids for several affiliations\n",
    "            super(work, self).__init__(a,self.db)\n",
    "            super(work, self).get_authors() #add and replace self attributes → author*..., institution*..\n",
    "            paper['author_id']=self.author_id\n",
    "            #Each d object keeps its RAM memory space independent of reasignation list from db to adb\n",
    "            adb=[d for d in self.db if d.author_id==self.author_id]\n",
    "\n",
    "            papers=[]\n",
    "            for d in adb:\n",
    "                if hasattr(d,'papers'):\n",
    "                    papers=d.papers\n",
    "                    break #found papers for self.author_id\n",
    "            for d in adb:\n",
    "                d.papers=papers #reatach papers if already have\n",
    "                if not self.institution_ids:\n",
    "                    self.institution_ids.append(None)\n",
    "                for iid in self.institution_ids: #creates a paper per affiliation\n",
    "                    paper['instituion_id']=iid\n",
    "                    if paper not in d.papers:\n",
    "                        #detach from RAM!\n",
    "                        cppaper=copy.copy(paper)\n",
    "                        d.papers.append(cppaper)\n",
    "                        del cppaper\n",
    "            #break                \n",
    "        return self.db     \n",
    "\n",
    "class literature(work):\n",
    "    def __init__(self,q,db=[],size=25):\n",
    "        self.q=q\n",
    "        self.db=db\n",
    "        self.size=size\n",
    "    def get_authors(self):\n",
    "        NEXT=True\n",
    "        i=0\n",
    "        if not hasattr(self,\"status\"):\n",
    "            self.status=True\n",
    "        while NEXT:\n",
    "            if i==0:\n",
    "                url=f'https://inspirehep.net/api/literature?size={self.size}&page=1&q={self.q}'\n",
    "            try:\n",
    "                r=requests.get(url,timeout=timeout)\n",
    "                time.sleep(self.sleep)\n",
    "            except:\n",
    "                self.status=False\n",
    "                break\n",
    "            if r.status_code!=200:\n",
    "                print(f'WARNING → bad request for q={self.q}')\n",
    "                return self.db\n",
    "            try:\n",
    "                self.work_list=r.json().get('hits').get('hits')\n",
    "            except:\n",
    "                print(f'WARNING → bad request for q={self.q}')\n",
    "                return self.db\n",
    "            #We assume here that r.json().get('links') exists\n",
    "            if r.json().get('links').get('next'):\n",
    "                url=r.json().get('links').get('next')\n",
    "            else:\n",
    "                NEXT=False\n",
    "            #An exisiting db is updated against this query. Check old recids:\n",
    "            t=[[p.get('recid') for p in d.papers if isinstance(p.get('recid'),int)] for d in self.db]\n",
    "            tt=list(set([item for sublist in t for item in sublist if item is not None]))\n",
    "            for l in self.work_list:\n",
    "                w=l.get('metadata')\n",
    "                if w.get('control_number') in tt:\n",
    "                    print(f'WARNING: {w.get(\"control_number\")} already analized',end='\\r')\n",
    "                    continue\n",
    "                #else:\n",
    "                #    print(f'new → {w.get(\"control_number\")}')\n",
    "                    \n",
    "                super(literature, self).__init__(w,self.db)\n",
    "                super(literature, self).get_authors() #add and replace self attributes → author*..., institution*..\n",
    "            #EMERGENCY EXIT: We assume here that r.json().get('total') exists\n",
    "            if i>r.json().get('hits').get('total')//self.size+1:\n",
    "                NEXT=False\n",
    "            i+=1\n",
    "        return self.db\n",
    "    \n",
    "class institutions(literature):\n",
    "    def __init__(self,q,not_collaboration=True,db=[],size=25,literature_size=25):\n",
    "        self.q_inst=q\n",
    "        self.db=db\n",
    "        self.size_inst=size\n",
    "        self.literature_size=literature_size\n",
    "        self.not_collaboration=not_collaboration\n",
    "    def get_authors(self):\n",
    "        if self.not_collaboration:\n",
    "            ac='ac 1->10'\n",
    "        else:\n",
    "            ac=''\n",
    "        NEXT=True\n",
    "        i=0\n",
    "        self.status=True\n",
    "        while NEXT:\n",
    "            if i==0:\n",
    "                #TODO: add author number restriction\n",
    "                url=f'https://inspirehep.net/api/institutions/?q={self.q_inst}&size={self.size_inst}&page=1'\n",
    "            try:\n",
    "                r=requests.get(url,timeout=timeout)\n",
    "                time.sleep(self.sleep)\n",
    "            except:\n",
    "                self.status=False\n",
    "                break\n",
    "            if r.status_code!=200:\n",
    "                print(f'WARNING → bad request for q={self.q_inst}')\n",
    "                return self.db\n",
    "            try:\n",
    "                self.institutions_list=r.json().get('hits').get('hits')\n",
    "            except:\n",
    "                print(f'WARNING → bad request for q={self.q_inst}')\n",
    "                return self.db\n",
    "            #We assume from here that r.json() is just OK\n",
    "            links=r.json().get('links')\n",
    "            total=r.json().get('hits').get('total')\n",
    "            COUNTRY=False\n",
    "            if self.q_inst in countries:\n",
    "                COUNTRY=True\n",
    "            #get aff_legacy name and aff realy belongs to country: https://stackoverflow.com/a/46249796\n",
    "            #fix q=aff_legacy\n",
    "            for ist in self.institutions_list:\n",
    "                if COUNTRY:\n",
    "                    try:\n",
    "                        country=ist.get('metadata').get('addresses')[0].get('country')\n",
    "                    except:\n",
    "                        country=''\n",
    "                    if self.q_inst!=country:\n",
    "                        print(f'WARNING: affiliation is in {country}, not in {self.q_inst}')\n",
    "                        continue\n",
    "                    else:\n",
    "                        self.country=country #if the extraction of affiliation fails\n",
    "                aff=ist.get('metadata').get('control_number')#('legacy_ICN')\n",
    "                #TODO: check old code for encoding\n",
    "                q_aff=f'affid:{aff}'\n",
    "                if ac:\n",
    "                    q_aff=f'{q_aff} and {ac}'\n",
    "                print(q_aff,'\\r')                                    \n",
    "                #q_aff=requests.utils.quote(q_aff)\n",
    "                super(institutions, self).__init__(q_aff,self.db,size=self.literature_size) #WARNING → self.q and self.size produced\n",
    "                super(institutions, self).get_authors() #add and replace self attributes → author*..., institution*..\n",
    "            #We assume here that r.json().get('links') exists\n",
    "            if links.get('next'):\n",
    "                url=links.get('next')\n",
    "            else:\n",
    "                NEXT=False\n",
    "            #EMERGENCY EXIT: We assume here that r.json().get('total') exists\n",
    "            if i > total//self.size_inst+1:\n",
    "                NEXT=False\n",
    "            i+=1\n",
    "            print(f'page: {i} of {total-1} → {url}')            \n",
    "        return self.db    "
   ]
  },
  {
   "cell_type": "markdown",
   "id": "304a8a56-e0ee-4213-af0c-b2007de2e309",
   "metadata": {},
   "source": [
    "## Tests"
   ]
  },
  {
   "cell_type": "code",
   "execution_count": 4,
   "id": "7ae5cbf5-8c83-4b06-9494-fd8b27b7e323",
   "metadata": {},
   "outputs": [],
   "source": [
    "au=profile({})\n",
    "p=au.sample_profile\n",
    "au=profile(p)\n",
    "P=au.get_author()\n",
    "assert P.name.get('value') =='Restrepo Quintero, Diego Alejandro'\n",
    "assert au.name.get('value')=='Restrepo Quintero, Diego Alejandro'\n",
    "assert au.to_dict().get('name').get('value')=='Restrepo Quintero, Diego Alejandro'"
   ]
  },
  {
   "cell_type": "code",
   "execution_count": 5,
   "id": "d33ed488-50dc-49f9-8a45-a4a31e0c81ec",
   "metadata": {},
   "outputs": [],
   "source": [
    "AU=author({})\n",
    "a=AU.sample_author\n",
    "AU=author(a,db=[])\n",
    "db=AU.get_authors()\n",
    "au=db[0]\n",
    "assert au.profile_id=='991924'\n",
    "assert au.author_id =='D.Restrepo.1'\n",
    "assert au.email_addresses[0]['value']=='restrepo@udea.edu.co'\n",
    "assert au.full_name=='Restrepo, Diego'\n",
    "assert [ d.get('value') for d in au.ids if d.get('schema')=='ORCID'\n",
    "   ][0]=='0000-0001-6455-5564'\n",
    "assert au.institution=='Antioquia U.'\n",
    "assert au.institution_id=='903906'\n",
    "assert au.name.get('value')=='Restrepo Quintero, Diego Alejandro'\n",
    "assert au.positions[0].get('rank')=='SENIOR'\n",
    "assert db[1].institution=='Campinas State U.'\n",
    "assert db[1].profile_id==db[0].profile_id\n",
    "#add a third value to db\n",
    "new_au=copy.copy(db[0])\n",
    "new_au.profile_id='991925'\n",
    "db.append(new_au)\n",
    "del new_au\n",
    "AU=author(a,db) #TODO →Check update scenarios\n",
    "ll=AU.get_authors()\n",
    "assert ll[2].profile_id=='991925'\n",
    "assert AU.to_json()[1].get('institution')=='Campinas State U.'\n",
    "assert AU.to_json()[0].get('profile_id')==AU.to_json()[1].get('profile_id')"
   ]
  },
  {
   "cell_type": "code",
   "execution_count": 6,
   "id": "be8d6e42-09eb-4fa5-bfec-caeb1184ffae",
   "metadata": {},
   "outputs": [
    {
     "name": "stdout",
     "output_type": "stream",
     "text": [
      "2080612\r"
     ]
    }
   ],
   "source": [
    "W=work({})\n",
    "w=W.sample_work\n",
    "W=work(w)\n",
    "db=W.get_authors()\n",
    "assert db[1].papers[0]['recid']==2080612\n",
    "W=work(w,db)\n",
    "db=W.get_authors()\n",
    "assert len(db)==2\n",
    "assert W.to_json()[1].get('papers')[0]['recid']==2080612\n",
    "assert W.to_json()[1].get('papers')[0]['journal_id']=='1613946'"
   ]
  },
  {
   "cell_type": "code",
   "execution_count": 7,
   "id": "f34c9785-82a2-4948-8fc3-9311e279c3a9",
   "metadata": {},
   "outputs": [
    {
     "name": "stdout",
     "output_type": "stream",
     "text": [
      "1904961\r"
     ]
    }
   ],
   "source": [
    "f=open('data/work.json','r')\n",
    "w=json.load(f)\n",
    "f.close()\n",
    "W=work(w,[])\n",
    "db=W.get_authors()\n",
    "assert len(db[0].papers)==1 and db[0].papers[0].get('author_id')=='N.Bernal.1'\n",
    "assert len(db[1].papers)==1 and db[1].papers[0].get('author_id')=='D.Restrepo.1'\n",
    "assert len(W.to_json()[0].get('papers'))==1 and W.to_json()[0].get('papers')[0].get('author_id')=='N.Bernal.1'\n",
    "assert len(W.to_json()[1].get('papers'))==1 and W.to_json()[1].get('papers')[0].get('author_id')=='D.Restrepo.1'"
   ]
  },
  {
   "cell_type": "code",
   "execution_count": 8,
   "id": "914a5667-7f88-4d7c-8a51-20f96b0172c0",
   "metadata": {},
   "outputs": [
    {
     "name": "stdout",
     "output_type": "stream",
     "text": [
      "1904961\r"
     ]
    }
   ],
   "source": [
    "#db is update only if necessary\n",
    "W=work(w,db)\n",
    "db=W.get_authors()\n",
    "assert len(db[0].papers)==1 and db[0].papers[0].get('author_id')=='N.Bernal.1'\n",
    "assert len(db[1].papers)==1 and db[1].papers[0].get('author_id')=='D.Restrepo.1'\n",
    "assert len(W.to_json()[0].get('papers'))==1 and W.to_json()[0].get('papers')[0].get('author_id')=='N.Bernal.1'\n",
    "assert len(W.to_json()[1].get('papers'))==1 and W.to_json()[1].get('papers')[0].get('author_id')=='D.Restrepo.1'"
   ]
  },
  {
   "cell_type": "code",
   "execution_count": 9,
   "id": "e95f563d-3f0a-46aa-adce-2352beca1b00",
   "metadata": {},
   "outputs": [
    {
     "name": "stdout",
     "output_type": "stream",
     "text": [
      "2080612\r"
     ]
    }
   ],
   "source": [
    "#db only updated with new papers\n",
    "w=W.sample_work\n",
    "for i in range(2):\n",
    "    W=work(w,db)\n",
    "    db=W.get_authors()\n",
    "    assert len(db[1].papers)==3\n",
    "    assert len( W.to_json()[1].get('papers') )==3"
   ]
  },
  {
   "cell_type": "markdown",
   "id": "1000aaa8-1309-45fb-8292-92e4612ead86",
   "metadata": {},
   "source": [
    "test with author without profile"
   ]
  },
  {
   "cell_type": "code",
   "execution_count": 10,
   "id": "f587fb54-4fca-4be1-8eef-28d2ecd6cfb5",
   "metadata": {},
   "outputs": [],
   "source": [
    "a={\"full_name\":\"Terezón, Brisa\",\n",
    "   \"affiliations\":[{\"record\":{\"$ref\":\"https://inspirehep.net/api/institutions/907440\"},\n",
    "                    \"value\":\"El Salvador U.\"}],\n",
    "   \"ids\":[{\"schema\":\"INSPIRE BAI\",\"value\":\"B.Terezon.1\"}]\n",
    "  }\n",
    "A=author(a)\n",
    "A.get_authors()\n",
    "assert A.db[0].author_id=='B.Terezon.1'\n",
    "assert A.db[0].institution_id=='907440'\n",
    "assert A.to_json()[0].get('author_id')=='B.Terezon.1'\n",
    "assert A.to_json()[0].get('institution_id')=='907440'"
   ]
  },
  {
   "cell_type": "markdown",
   "id": "eed9a0be-f1d3-4c15-bd86-fcaf603de242",
   "metadata": {},
   "source": [
    "### Test large author:"
   ]
  },
  {
   "cell_type": "code",
   "execution_count": 26,
   "id": "ad41c8a6-5aed-43ad-9d8c-9c332e945400",
   "metadata": {},
   "outputs": [],
   "source": [
    "TEST=False #Very slow test\n",
    "if TEST:\n",
    "    db=[]\n",
    "    U=literature('ea L.Tomio.1 and ac 1->10',db,size=250)\n",
    "    db=U.get_authors()\n",
    "\n",
    "    kk=[d for d in  U.db if d.author_id=='L.Tomio.1'][0]\n",
    "    papers=kk.papers\n",
    "\n",
    "    assert len([p for p in papers if p.get('recid')==1966593 and \n",
    "                                       p.get('author_id')=='L.Tomio.1'])==1"
   ]
  },
  {
   "cell_type": "markdown",
   "id": "34e6befb-c222-47f0-9ece-319b95ed2d85",
   "metadata": {},
   "source": [
    "### Test large institution"
   ]
  },
  {
   "cell_type": "code",
   "execution_count": 32,
   "id": "d671abbb-bf2e-45ec-b857-e5f25b6eb462",
   "metadata": {},
   "outputs": [],
   "source": [
    "TEST=False\n",
    "if TEST:\n",
    "    db=[]\n",
    "    U=literature('affid:907598 and ac 1->10',db,size=250)\n",
    "    db=U.get_authors()\n",
    "\n",
    "    db=pd.DataFrame( U.to_json() )\n",
    "\n",
    "    db['N']=db.papers.apply(len)\n",
    "\n",
    "    db=db.sort_values('N',ascending=False).iloc[1]\n",
    "\n",
    "    pd.DataFrame(db.papers).drop_duplicates(subset=['recid']).shape\n",
    "\n",
    "    dp=pd.DataFrame(db.papers)\n",
    "    #dp[dp.recid==1966593]\n",
    "    dp.recid.value_counts()"
   ]
  },
  {
   "cell_type": "markdown",
   "id": "8ce0614c-0bb9-4b2b-bc6d-fb7eaaad249b",
   "metadata": {},
   "source": [
    "## Latin America Countries"
   ]
  },
  {
   "cell_type": "code",
   "execution_count": 3,
   "id": "2652184f-6522-4c9a-b5e6-c0a79d431c1f",
   "metadata": {},
   "outputs": [],
   "source": [
    "LA_countries=['Brazil', 'Mexico', 'Argentina','Chile', 'Colombia','Bolivia','Cuba', #5\n",
    "              'Costa Rica', 'Ecuador', 'El Salvador', 'Guatemala', 'Honduras', #10\n",
    "               'Nicaragua', 'Panama', 'Paraguay', 'Peru', #15\n",
    "              'Dominican Republic','Uruguay','Venezuela']"
   ]
  },
  {
   "cell_type": "code",
   "execution_count": 4,
   "id": "fb76b3e0-6391-43d2-8638-00e8a9d6ccbc",
   "metadata": {},
   "outputs": [],
   "source": [
    "db=[]"
   ]
  },
  {
   "cell_type": "code",
   "execution_count": 3,
   "id": "5ae8eeb5-ab14-49a9-b82d-f1a5a259a17c",
   "metadata": {},
   "outputs": [],
   "source": [
    "f=open('inspire_LA.pickle','rb')\n",
    "db=pickle.load(f)\n",
    "f.close()"
   ]
  },
  {
   "cell_type": "code",
   "execution_count": 9,
   "id": "5185d4f7-1adf-4a64-843f-39729ecb7186",
   "metadata": {},
   "outputs": [],
   "source": [
    "db=C.db[:-1]"
   ]
  },
  {
   "cell_type": "code",
   "execution_count": 4,
   "id": "9c95d74f-16fa-41b5-97f0-70ddec880168",
   "metadata": {},
   "outputs": [
    {
     "data": {
      "text/plain": [
       "474"
      ]
     },
     "execution_count": 4,
     "metadata": {},
     "output_type": "execute_result"
    }
   ],
   "source": [
    "len(db)"
   ]
  },
  {
   "cell_type": "code",
   "execution_count": null,
   "id": "9b2082eb-0cee-4c26-96c4-501a86350c7b",
   "metadata": {},
   "outputs": [
    {
     "name": "stdout",
     "output_type": "stream",
     "text": [
      "==================== Venezuela ====================\n",
      "affid:912061 \n",
      "affid:902716 \n",
      "8173093\r"
     ]
    }
   ],
   "source": [
    "db_json=[]\n",
    "for c in LA_countries[::-1]:\n",
    "    print('='*20,c,'='*20)\n",
    "    C=institutions(c,db,size=250,literature_size=250)\n",
    "    db=C.get_authors()\n",
    "    f=open('inspire_LA.pickle','wb')\n",
    "    db=pickle.dump(db,f)\n",
    "    f.close()\n",
    "    db_json=C.to_json()\n",
    "    f=open('inspire_LA.json','w')\n",
    "    db=json.dump(db_json,f)\n",
    "    f.close()"
   ]
  },
  {
   "cell_type": "code",
   "execution_count": null,
   "id": "2134d5c0-8508-4279-8002-9fa1313804fe",
   "metadata": {},
   "outputs": [],
   "source": [
    "9447573"
   ]
  },
  {
   "cell_type": "code",
   "execution_count": 12,
   "id": "c665a97a-99fd-42bd-9f85-ba5d9845ed3e",
   "metadata": {},
   "outputs": [],
   "source": [
    "f=open('inspire_LA.pickle','wb')\n",
    "db=pickle.dump(C.db[:-1],f)\n",
    "f.close()"
   ]
  },
  {
   "cell_type": "code",
   "execution_count": 35,
   "id": "0d6b95c9-8064-417a-bbfe-d5de7efa72c1",
   "metadata": {},
   "outputs": [],
   "source": [
    "f=open('inspire_LA.json','w')\n",
    "json.dump(C.to_json(),f)\n",
    "f.close()"
   ]
  },
  {
   "cell_type": "code",
   "execution_count": 12,
   "id": "c62b4e2c-d0e2-470a-80a0-a39816617fb2",
   "metadata": {},
   "outputs": [
    {
     "data": {
      "text/plain": [
       "{'ids': [{'schema': 'INSPIRE BAI', 'value': 'C.Furtado.1'}],\n",
       " 'affiliations': [{'value': 'Paraiba U.'}],\n",
       " 'uuid': 'c0d431ef-b646-44df-955e-f5e712746265',\n",
       " 'bai': 'C.Furtado.1',\n",
       " 'recid': 1031520,\n",
       " 'full_name': 'Furtado, C.',\n",
       " 'first_name': 'C.',\n",
       " 'last_name': 'Furtado',\n",
       " 'raw_affiliations': [{'value': 'Departamento de Física - Universidade Federal da Paraíba - Caixa Postal 5008 - João Pessoa-PB - 58051-900 - Brazil'}],\n",
       " 'record': {'$ref': 'https://inspirehep.net/api/authors/1031520'},\n",
       " 'signature_block': 'FARTADc',\n",
       " 'full_name_unicode_normalized': 'furtado, c.'}"
      ]
     },
     "execution_count": 12,
     "metadata": {},
     "output_type": "execute_result"
    }
   ],
   "source": [
    "C.author"
   ]
  },
  {
   "cell_type": "markdown",
   "id": "0aa4af23-035d-4142-93d5-2ff9cddf6da8",
   "metadata": {},
   "source": [
    "## Apendix\n",
    "Other tests"
   ]
  },
  {
   "cell_type": "markdown",
   "id": "fc0c3c43-0cd1-434e-938d-24db031767f2",
   "metadata": {},
   "source": [
    "test with small institution"
   ]
  },
  {
   "cell_type": "code",
   "execution_count": 10,
   "id": "f57a3097-f0aa-4702-95e5-125575816d0c",
   "metadata": {},
   "outputs": [
    {
     "data": {
      "text/plain": [
       "True"
      ]
     },
     "execution_count": 10,
     "metadata": {},
     "output_type": "execute_result"
    }
   ],
   "source": [
    "'El Salvador' in countries"
   ]
  },
  {
   "cell_type": "code",
   "execution_count": 46,
   "id": "eef6d1e3-52e7-48de-ae8f-838f68ff34f4",
   "metadata": {},
   "outputs": [],
   "source": [
    "db=[]"
   ]
  },
  {
   "cell_type": "code",
   "execution_count": null,
   "id": "c0d40378-2e03-4ea6-a2e5-78bbd4cc7932",
   "metadata": {},
   "outputs": [],
   "source": []
  },
  {
   "cell_type": "code",
   "execution_count": 47,
   "id": "966b9822-c21e-4fc0-9f63-47c4608cd652",
   "metadata": {},
   "outputs": [],
   "source": [
    "U=literature('affid:903906 and ac 1->10',db,size=250)"
   ]
  },
  {
   "cell_type": "code",
   "execution_count": 48,
   "id": "3cb499d2-54ec-419d-8972-e57d3fbd856d",
   "metadata": {},
   "outputs": [
    {
     "name": "stdout",
     "output_type": "stream",
     "text": [
      "1517423\r"
     ]
    }
   ],
   "source": [
    "db=U.get_authors()"
   ]
  },
  {
   "cell_type": "code",
   "execution_count": 49,
   "id": "8cd689a7-39c1-4776-a90c-f3f5ac33d537",
   "metadata": {},
   "outputs": [
    {
     "data": {
      "text/plain": [
       "4216"
      ]
     },
     "execution_count": 49,
     "metadata": {},
     "output_type": "execute_result"
    }
   ],
   "source": [
    "sys.getsizeof(U.to_json())"
   ]
  },
  {
   "cell_type": "code",
   "execution_count": 50,
   "id": "6bdbea99-d278-47a1-b6f3-667f9502a43f",
   "metadata": {},
   "outputs": [],
   "source": [
    "df=pd.DataFrame(U.to_json())"
   ]
  },
  {
   "cell_type": "code",
   "execution_count": 51,
   "id": "09607e4e-f9a8-4b6a-9f7e-414129316df5",
   "metadata": {},
   "outputs": [
    {
     "data": {
      "text/plain": [
       "(478, 11)"
      ]
     },
     "execution_count": 51,
     "metadata": {},
     "output_type": "execute_result"
    }
   ],
   "source": [
    "df.shape"
   ]
  },
  {
   "cell_type": "code",
   "execution_count": 52,
   "id": "9fb0044b-852d-4242-8527-22fcfd4f5039",
   "metadata": {},
   "outputs": [],
   "source": [
    "dp=pd.DataFrame( df.papers.apply(pd.Series).stack().to_list() ).drop_duplicates(subset='recid').reset_index(drop=True)"
   ]
  },
  {
   "cell_type": "code",
   "execution_count": 53,
   "id": "bfdf3bbc-2934-4c4f-ab62-16a254b858cf",
   "metadata": {},
   "outputs": [
    {
     "data": {
      "text/plain": [
       "(302, 6)"
      ]
     },
     "execution_count": 53,
     "metadata": {},
     "output_type": "execute_result"
    }
   ],
   "source": [
    "dp.shape"
   ]
  },
  {
   "cell_type": "code",
   "execution_count": 65,
   "id": "8e708350-2115-4ea3-a6bb-5a9d551cba6f",
   "metadata": {},
   "outputs": [
    {
     "data": {
      "text/plain": [
       "<AxesSubplot:>"
      ]
     },
     "execution_count": 65,
     "metadata": {},
     "output_type": "execute_result"
    },
    {
     "data": {
      "image/png": "[encoded data removed]",
      "text/plain": [
       "<Figure size 432x288 with 1 Axes>"
      ]
     },
     "metadata": {
      "needs_background": "light"
     },
     "output_type": "display_data"
    }
   ],
   "source": [
    "dp[dp['year']!='None']['year'].value_counts().sort_index().plot(kind='bar')"
   ]
  },
  {
   "cell_type": "code",
   "execution_count": 80,
   "id": "79ae1ba1-4c10-4e12-a4b3-061e0465c249",
   "metadata": {},
   "outputs": [
    {
     "data": {
      "text/plain": [
       "(274, 6)"
      ]
     },
     "execution_count": 80,
     "metadata": {},
     "output_type": "execute_result"
    }
   ],
   "source": [
    "dp.shape"
   ]
  },
  {
   "cell_type": "code",
   "execution_count": 94,
   "id": "8a16d1a5-b007-4d72-8335-11cf1a000c85",
   "metadata": {},
   "outputs": [],
   "source": [
    "L=literature('recid:698881',[])"
   ]
  },
  {
   "cell_type": "code",
   "execution_count": 95,
   "id": "f9f14c65-b6c0-454e-a531-5c5220c3c060",
   "metadata": {},
   "outputs": [
    {
     "name": "stdout",
     "output_type": "stream",
     "text": [
      "698881\n",
      "698881\r"
     ]
    },
    {
     "data": {
      "text/plain": [
       "[<__main__.literature at 0x7f45b7567eb0>]"
      ]
     },
     "execution_count": 95,
     "metadata": {},
     "output_type": "execute_result"
    }
   ],
   "source": [
    "L.get_authors()"
   ]
  },
  {
   "cell_type": "code",
   "execution_count": 97,
   "id": "501c6153-169e-4573-9abd-8beab41e04a7",
   "metadata": {},
   "outputs": [],
   "source": [
    "d=db[0]"
   ]
  },
  {
   "cell_type": "markdown",
   "id": "6bc46c93-201a-46bc-9eca-8265f3e8c8a9",
   "metadata": {},
   "source": [
    "one author is missing"
   ]
  },
  {
   "cell_type": "code",
   "execution_count": 66,
   "id": "66af9f48-d534-4ed1-a9bf-c4abc319ed64",
   "metadata": {},
   "outputs": [],
   "source": [
    "W=literature('2080612',[])#('recid:2062672',[])"
   ]
  },
  {
   "cell_type": "code",
   "execution_count": 67,
   "id": "d5e68908-d6ac-44c2-bacd-dbd704b483fc",
   "metadata": {},
   "outputs": [
    {
     "name": "stdout",
     "output_type": "stream",
     "text": [
      "2080612\r"
     ]
    },
    {
     "data": {
      "text/plain": [
       "[<__main__.literature at 0x7fc17058be50>,\n",
       " <__main__.literature at 0x7fc1737f8880>,\n",
       " <__main__.literature at 0x7fc1707dba90>,\n",
       " <__main__.literature at 0x7fc16fc2f100>]"
      ]
     },
     "execution_count": 67,
     "metadata": {},
     "output_type": "execute_result"
    }
   ],
   "source": [
    "W.get_authors()"
   ]
  },
  {
   "cell_type": "code",
   "execution_count": 68,
   "id": "5889ca86-4244-445e-9d72-763f9f2be9ad",
   "metadata": {},
   "outputs": [
    {
     "data": {
      "text/html": [
       "<div>\n",
       "<style scoped>\n",
       "    .dataframe tbody tr th:only-of-type {\n",
       "        vertical-align: middle;\n",
       "    }\n",
       "\n",
       "    .dataframe tbody tr th {\n",
       "        vertical-align: top;\n",
       "    }\n",
       "\n",
       "    .dataframe thead th {\n",
       "        text-align: right;\n",
       "    }\n",
       "</style>\n",
       "<table border=\"1\" class=\"dataframe\">\n",
       "  <thead>\n",
       "    <tr style=\"text-align: right;\">\n",
       "      <th></th>\n",
       "      <th>author_id</th>\n",
       "      <th>country</th>\n",
       "      <th>email_addresses</th>\n",
       "      <th>full_name</th>\n",
       "      <th>ids</th>\n",
       "      <th>institution</th>\n",
       "      <th>institution_id</th>\n",
       "      <th>name</th>\n",
       "      <th>papers</th>\n",
       "      <th>positions</th>\n",
       "      <th>profile_id</th>\n",
       "    </tr>\n",
       "  </thead>\n",
       "  <tbody>\n",
       "    <tr>\n",
       "      <th>0</th>\n",
       "      <td>D.Restrepo.1</td>\n",
       "      <td>Colombia</td>\n",
       "      <td>[{'value': 'restrepo@udea.edu.co', 'current': ...</td>\n",
       "      <td>Restrepo, Diego</td>\n",
       "      <td>[{'value': 'D.Restrepo.1', 'schema': 'INSPIRE ...</td>\n",
       "      <td>Antioquia U.</td>\n",
       "      <td>903906</td>\n",
       "      <td>{'value': 'Restrepo Quintero, Diego Alejandro'...</td>\n",
       "      <td>[{'recid': 2080612, 'year': '2022', 'citation_...</td>\n",
       "      <td>[{'rank': 'SENIOR', 'hidden': False, 'record':...</td>\n",
       "      <td>991924</td>\n",
       "    </tr>\n",
       "    <tr>\n",
       "      <th>1</th>\n",
       "      <td>D.Restrepo.1</td>\n",
       "      <td>Brazil</td>\n",
       "      <td>[{'value': 'restrepo@udea.edu.co', 'current': ...</td>\n",
       "      <td>Restrepo, Diego</td>\n",
       "      <td>[{'value': 'D.Restrepo.1', 'schema': 'INSPIRE ...</td>\n",
       "      <td>Campinas State U.</td>\n",
       "      <td>902714</td>\n",
       "      <td>{'value': 'Restrepo Quintero, Diego Alejandro'...</td>\n",
       "      <td>[{'recid': 2080612, 'year': '2022', 'citation_...</td>\n",
       "      <td>[{'rank': 'SENIOR', 'hidden': False, 'record':...</td>\n",
       "      <td>991924</td>\n",
       "    </tr>\n",
       "    <tr>\n",
       "      <th>2</th>\n",
       "      <td>A.Rivera.1</td>\n",
       "      <td>Colombia</td>\n",
       "      <td>[{'value': 'afelipe.rivera@udea.edu.co', 'curr...</td>\n",
       "      <td>Rivera, Andrés</td>\n",
       "      <td>[{'value': 'A.Rivera.1', 'schema': 'INSPIRE BA...</td>\n",
       "      <td>Antioquia U.</td>\n",
       "      <td>903906</td>\n",
       "      <td>{'value': 'Rivera, Andrés', 'name_variants': [...</td>\n",
       "      <td>[{'recid': 2080612, 'year': '2022', 'citation_...</td>\n",
       "      <td>[{'rank': 'POSTDOC', 'record': {'$ref': 'https...</td>\n",
       "      <td>1744378</td>\n",
       "    </tr>\n",
       "    <tr>\n",
       "      <th>3</th>\n",
       "      <td>W.Tangarife.Garcia.1</td>\n",
       "      <td>United States</td>\n",
       "      <td>[{'value': 'wtangarife@luc.edu', 'current': Tr...</td>\n",
       "      <td>Tangarife, Walter</td>\n",
       "      <td>[{'value': '0000-0002-4808-3277', 'schema': 'O...</td>\n",
       "      <td>Loyola U., Chicago</td>\n",
       "      <td>904763</td>\n",
       "      <td>{'value': 'Tangarife Garcia, Walter', 'name_va...</td>\n",
       "      <td>[{'recid': 2080612, 'year': '2022', 'citation_...</td>\n",
       "      <td>[{'rank': 'JUNIOR', 'record': {'$ref': 'https:...</td>\n",
       "      <td>1073186</td>\n",
       "    </tr>\n",
       "  </tbody>\n",
       "</table>\n",
       "</div>"
      ],
      "text/plain": [
       "              author_id        country  \\\n",
       "0          D.Restrepo.1       Colombia   \n",
       "1          D.Restrepo.1         Brazil   \n",
       "2            A.Rivera.1       Colombia   \n",
       "3  W.Tangarife.Garcia.1  United States   \n",
       "\n",
       "                                     email_addresses          full_name  \\\n",
       "0  [{'value': 'restrepo@udea.edu.co', 'current': ...    Restrepo, Diego   \n",
       "1  [{'value': 'restrepo@udea.edu.co', 'current': ...    Restrepo, Diego   \n",
       "2  [{'value': 'afelipe.rivera@udea.edu.co', 'curr...     Rivera, Andrés   \n",
       "3  [{'value': 'wtangarife@luc.edu', 'current': Tr...  Tangarife, Walter   \n",
       "\n",
       "                                                 ids         institution  \\\n",
       "0  [{'value': 'D.Restrepo.1', 'schema': 'INSPIRE ...        Antioquia U.   \n",
       "1  [{'value': 'D.Restrepo.1', 'schema': 'INSPIRE ...   Campinas State U.   \n",
       "2  [{'value': 'A.Rivera.1', 'schema': 'INSPIRE BA...        Antioquia U.   \n",
       "3  [{'value': '0000-0002-4808-3277', 'schema': 'O...  Loyola U., Chicago   \n",
       "\n",
       "  institution_id                                               name  \\\n",
       "0         903906  {'value': 'Restrepo Quintero, Diego Alejandro'...   \n",
       "1         902714  {'value': 'Restrepo Quintero, Diego Alejandro'...   \n",
       "2         903906  {'value': 'Rivera, Andrés', 'name_variants': [...   \n",
       "3         904763  {'value': 'Tangarife Garcia, Walter', 'name_va...   \n",
       "\n",
       "                                              papers  \\\n",
       "0  [{'recid': 2080612, 'year': '2022', 'citation_...   \n",
       "1  [{'recid': 2080612, 'year': '2022', 'citation_...   \n",
       "2  [{'recid': 2080612, 'year': '2022', 'citation_...   \n",
       "3  [{'recid': 2080612, 'year': '2022', 'citation_...   \n",
       "\n",
       "                                           positions profile_id  \n",
       "0  [{'rank': 'SENIOR', 'hidden': False, 'record':...     991924  \n",
       "1  [{'rank': 'SENIOR', 'hidden': False, 'record':...     991924  \n",
       "2  [{'rank': 'POSTDOC', 'record': {'$ref': 'https...    1744378  \n",
       "3  [{'rank': 'JUNIOR', 'record': {'$ref': 'https:...    1073186  "
      ]
     },
     "execution_count": 68,
     "metadata": {},
     "output_type": "execute_result"
    }
   ],
   "source": [
    "pd.DataFrame(W.to_json())"
   ]
  },
  {
   "cell_type": "markdown",
   "id": "91be5996-dc79-4ae6-8db4-532d6754b000",
   "metadata": {},
   "source": [
    "test with medium institution (one-page)"
   ]
  },
  {
   "cell_type": "markdown",
   "id": "92304ae0-3e62-4868-a874-907d04a60c40",
   "metadata": {},
   "source": [
    "test with large institution (several-pages)"
   ]
  },
  {
   "cell_type": "markdown",
   "id": "191b9f49-79df-499a-a04d-fc4a9ac1a859",
   "metadata": {},
   "source": [
    "test with small country"
   ]
  },
  {
   "cell_type": "code",
   "execution_count": 11,
   "id": "772968e0-6520-43ae-95ad-2dc7e5c58a0b",
   "metadata": {},
   "outputs": [
    {
     "name": "stdout",
     "output_type": "stream",
     "text": [
      "affid:907440\n",
      "affid:912090\n",
      "page: 1 of 1 → https://inspirehep.net/api/institutions/?q=El Salvador&size=250&page=1\n"
     ]
    }
   ],
   "source": [
    "C=institutions('El Salvador',[],size=250)\n",
    "\n",
    "db=C.get_authors()"
   ]
  },
  {
   "cell_type": "code",
   "execution_count": 14,
   "id": "8e6ccfc9-46cc-4e96-b3e7-1a756caf718b",
   "metadata": {},
   "outputs": [
    {
     "data": {
      "text/plain": [
       "184"
      ]
     },
     "execution_count": 14,
     "metadata": {},
     "output_type": "execute_result"
    }
   ],
   "source": [
    "sys.getsizeof(db)"
   ]
  },
  {
   "cell_type": "code",
   "execution_count": null,
   "id": "c3761dd0-e6ae-4482-969b-2ea58e4fd20a",
   "metadata": {},
   "outputs": [],
   "source": []
  },
  {
   "cell_type": "code",
   "execution_count": 18,
   "id": "b902dc7a-5beb-44e8-b1ad-e098f5f2f4d1",
   "metadata": {},
   "outputs": [],
   "source": [
    "f=open('inspire_LA.json','w')\n",
    "json.dump(C.to_json(),f)\n",
    "f.close()"
   ]
  },
  {
   "cell_type": "code",
   "execution_count": 19,
   "id": "b942225d-32e8-4c54-961e-5330098c902b",
   "metadata": {},
   "outputs": [],
   "source": [
    "f=open('inspire_LA.json','r')\n",
    "J=json.load(f)\n",
    "f.close()"
   ]
  },
  {
   "cell_type": "code",
   "execution_count": 15,
   "id": "fd498bc6-452d-439c-a7be-9b0cb34b7902",
   "metadata": {},
   "outputs": [],
   "source": [
    "df=pd.DataFrame(C.to_json())"
   ]
  },
  {
   "cell_type": "code",
   "execution_count": 16,
   "id": "a8ca2126-8a79-4853-83ab-269359de878c",
   "metadata": {},
   "outputs": [
    {
     "data": {
      "text/plain": [
       "(16, 11)"
      ]
     },
     "execution_count": 16,
     "metadata": {},
     "output_type": "execute_result"
    }
   ],
   "source": [
    "df.shape"
   ]
  },
  {
   "cell_type": "code",
   "execution_count": 17,
   "id": "aa2d2fe6-ef08-4763-86f3-4327faf58a41",
   "metadata": {},
   "outputs": [
    {
     "data": {
      "text/html": [
       "<div>\n",
       "<style scoped>\n",
       "    .dataframe tbody tr th:only-of-type {\n",
       "        vertical-align: middle;\n",
       "    }\n",
       "\n",
       "    .dataframe tbody tr th {\n",
       "        vertical-align: top;\n",
       "    }\n",
       "\n",
       "    .dataframe thead th {\n",
       "        text-align: right;\n",
       "    }\n",
       "</style>\n",
       "<table border=\"1\" class=\"dataframe\">\n",
       "  <thead>\n",
       "    <tr style=\"text-align: right;\">\n",
       "      <th></th>\n",
       "      <th>recid</th>\n",
       "      <th>year</th>\n",
       "      <th>citation_count</th>\n",
       "      <th>primary_arxiv_category</th>\n",
       "      <th>journal_id</th>\n",
       "      <th>author_id</th>\n",
       "      <th>instituion_id</th>\n",
       "    </tr>\n",
       "  </thead>\n",
       "  <tbody>\n",
       "    <tr>\n",
       "      <th>0</th>\n",
       "      <td>1646671</td>\n",
       "      <td>2021</td>\n",
       "      <td>0</td>\n",
       "      <td>[gr-qc]</td>\n",
       "      <td>1212411</td>\n",
       "      <td>B.Terezon.1</td>\n",
       "      <td>907440</td>\n",
       "    </tr>\n",
       "    <tr>\n",
       "      <th>1</th>\n",
       "      <td>1616581</td>\n",
       "      <td>2017</td>\n",
       "      <td>0</td>\n",
       "      <td>[]</td>\n",
       "      <td>1211646</td>\n",
       "      <td>B.Terezon.1</td>\n",
       "      <td>907440</td>\n",
       "    </tr>\n",
       "    <tr>\n",
       "      <th>4</th>\n",
       "      <td>59169</td>\n",
       "      <td>1969</td>\n",
       "      <td>3</td>\n",
       "      <td>[]</td>\n",
       "      <td>None</td>\n",
       "      <td>W.J.M.Cloetens.1</td>\n",
       "      <td>907440</td>\n",
       "    </tr>\n",
       "    <tr>\n",
       "      <th>13</th>\n",
       "      <td>448297</td>\n",
       "      <td>1997</td>\n",
       "      <td>6</td>\n",
       "      <td>[nucl-th]</td>\n",
       "      <td>1214119</td>\n",
       "      <td>P.M.Gensini.1</td>\n",
       "      <td>904144</td>\n",
       "    </tr>\n",
       "    <tr>\n",
       "      <th>15</th>\n",
       "      <td>448298</td>\n",
       "      <td>1997</td>\n",
       "      <td>11</td>\n",
       "      <td>[nucl-th]</td>\n",
       "      <td>1214119</td>\n",
       "      <td>P.M.Gensini.1</td>\n",
       "      <td>904144</td>\n",
       "    </tr>\n",
       "    <tr>\n",
       "      <th>17</th>\n",
       "      <td>469153</td>\n",
       "      <td>1998</td>\n",
       "      <td>6</td>\n",
       "      <td>[nucl-th]</td>\n",
       "      <td>None</td>\n",
       "      <td>P.M.Gensini.1</td>\n",
       "      <td>904144</td>\n",
       "    </tr>\n",
       "  </tbody>\n",
       "</table>\n",
       "</div>"
      ],
      "text/plain": [
       "      recid  year  citation_count primary_arxiv_category journal_id  \\\n",
       "0   1646671  2021               0                [gr-qc]    1212411   \n",
       "1   1616581  2017               0                     []    1211646   \n",
       "4     59169  1969               3                     []       None   \n",
       "13   448297  1997               6              [nucl-th]    1214119   \n",
       "15   448298  1997              11              [nucl-th]    1214119   \n",
       "17   469153  1998               6              [nucl-th]       None   \n",
       "\n",
       "           author_id instituion_id  \n",
       "0        B.Terezon.1        907440  \n",
       "1        B.Terezon.1        907440  \n",
       "4   W.J.M.Cloetens.1        907440  \n",
       "13     P.M.Gensini.1        904144  \n",
       "15     P.M.Gensini.1        904144  \n",
       "17     P.M.Gensini.1        904144  "
      ]
     },
     "execution_count": 17,
     "metadata": {},
     "output_type": "execute_result"
    }
   ],
   "source": [
    "pd.DataFrame( df.papers.apply(pd.Series).stack().to_list() ).drop_duplicates(subset='recid')"
   ]
  },
  {
   "cell_type": "code",
   "execution_count": 36,
   "id": "400bb5e1-ebd3-4c99-8686-48ad016ee7cc",
   "metadata": {},
   "outputs": [
    {
     "data": {
      "text/plain": [
       "[{'recid': 448297,\n",
       "  'year': '1997',\n",
       "  'citation_count': 6,\n",
       "  'primary_arxiv_category': ['nucl-th'],\n",
       "  'author_id': 'P.M.Gensini.1',\n",
       "  'instituion_id': '904144'},\n",
       " {'recid': 448297,\n",
       "  'year': '1997',\n",
       "  'citation_count': 6,\n",
       "  'primary_arxiv_category': ['nucl-th'],\n",
       "  'author_id': 'P.M.Gensini.1',\n",
       "  'instituion_id': '904996'},\n",
       " {'recid': 448298,\n",
       "  'year': '1997',\n",
       "  'citation_count': 11,\n",
       "  'primary_arxiv_category': ['nucl-th'],\n",
       "  'author_id': 'P.M.Gensini.1',\n",
       "  'instituion_id': '904144'},\n",
       " {'recid': 448298,\n",
       "  'year': '1997',\n",
       "  'citation_count': 11,\n",
       "  'primary_arxiv_category': ['nucl-th'],\n",
       "  'author_id': 'P.M.Gensini.1',\n",
       "  'instituion_id': '904996'},\n",
       " {'recid': 469153,\n",
       "  'year': '1998',\n",
       "  'citation_count': 6,\n",
       "  'primary_arxiv_category': ['nucl-th'],\n",
       "  'author_id': 'P.M.Gensini.1',\n",
       "  'instituion_id': '904144'},\n",
       " {'recid': 469153,\n",
       "  'year': '1998',\n",
       "  'citation_count': 6,\n",
       "  'primary_arxiv_category': ['nucl-th'],\n",
       "  'author_id': 'P.M.Gensini.1',\n",
       "  'instituion_id': '904996'}]"
      ]
     },
     "execution_count": 36,
     "metadata": {},
     "output_type": "execute_result"
    }
   ],
   "source": [
    "df[df.author_id=='P.M.Gensini.1'].papers.iloc[0]"
   ]
  },
  {
   "cell_type": "code",
   "execution_count": 19,
   "id": "c0c23df9-6328-497b-8742-3d6b8058c853",
   "metadata": {},
   "outputs": [
    {
     "name": "stdout",
     "output_type": "stream",
     "text": [
      "Old list: [[1, 1, 1], [2, 'AA', 2], [3, 3, 3]]\n",
      "New list: [[1, 1, 1], [2, 'AA', 2], [3, 3, 3]]\n"
     ]
    }
   ],
   "source": [
    "import copy\n",
    "l=[]\n",
    "old_list = [[1, 1, 1], [2, 2, 2], [3, 3, 3]]\n",
    "new_list = copy.copy(old_list)\n",
    "l.append(new_list)\n",
    "del new_list\n",
    "new_list=[]\n",
    "old_list[1][1] = 'AA'\n",
    "\n",
    "print(\"Old list:\", old_list)\n",
    "print(\"New list:\", l[0])"
   ]
  },
  {
   "cell_type": "markdown",
   "id": "609af9db-3a76-48f6-9782-b136e771a9c5",
   "metadata": {},
   "source": [
    "test with medium country (one-page)"
   ]
  },
  {
   "cell_type": "markdown",
   "id": "d11aa5e8-8252-469d-89e8-bb04e98f5dfc",
   "metadata": {},
   "source": [
    "test with large country (several-pages)"
   ]
  },
  {
   "cell_type": "markdown",
   "id": "dca9f4c0-c2a3-42bf-aa20-dd40988b4a35",
   "metadata": {},
   "source": [
    "authors → list of authors object\n",
    "```\n",
    "[a_1,a_2,...a_n]\n",
    "```\n",
    "where `a_i` is just a dictionary which is either created or updated"
   ]
  },
  {
   "cell_type": "code",
   "execution_count": null,
   "id": "fe5817f7-6196-46d0-b13e-27e56ca6c650",
   "metadata": {},
   "outputs": [],
   "source": [
    "institution"
   ]
  },
  {
   "cell_type": "code",
   "execution_count": null,
   "id": "b1779340-8e8b-4c78-a889-066bce61aa67",
   "metadata": {},
   "outputs": [],
   "source": [
    "aus=inspire.country(country)\n",
    "aus=inspire.legacy_instituion(legacy_instituion)\n",
    "aus=inspire.literature(inspire_authors)\n",
    "#TODO\n",
    "aus=inspire.author(inspire_author) #A author with severeal affiliations generates several au → self.paper is the only different (add email to paper)"
   ]
  },
  {
   "cell_type": "code",
   "execution_count": null,
   "id": "508ba27b-b330-41aa-87ae-3651d2fc21c6",
   "metadata": {},
   "outputs": [],
   "source": [
    "au =inspire.profile(profile) # → a_i"
   ]
  },
  {
   "cell_type": "markdown",
   "id": "26f951b8-5ae1-430d-8206-06333c935de3",
   "metadata": {},
   "source": [
    "Input:"
   ]
  },
  {
   "cell_type": "code",
   "execution_count": null,
   "id": "325f2a35-25f4-4479-9c99-a5b73a584836",
   "metadata": {},
   "outputs": [],
   "source": [
    "authors=inspire.read_json('authors.json')\n",
    "authors=inspire.read_list(author_list)"
   ]
  },
  {
   "cell_type": "code",
   "execution_count": 17,
   "id": "a6fd9115-0513-4942-a109-672e9db7a1bc",
   "metadata": {},
   "outputs": [],
   "source": [
    "import requests"
   ]
  },
  {
   "cell_type": "code",
   "execution_count": 18,
   "id": "75639fc7-9093-4a48-9819-225a8aef79e0",
   "metadata": {},
   "outputs": [],
   "source": [
    "r=requests.get('https://inspirehep.net/api/literature/2080612')"
   ]
  },
  {
   "cell_type": "code",
   "execution_count": 115,
   "id": "eacf33ae-0b0c-458b-8784-a05ed2811d33",
   "metadata": {},
   "outputs": [],
   "source": []
  },
  {
   "cell_type": "code",
   "execution_count": 19,
   "id": "ddd42d9e-77c2-460e-b48d-3c70fa313e71",
   "metadata": {},
   "outputs": [
    {
     "data": {
      "application/json": {
       "$schema": "https://inspirehep.net/schemas/records/hep.json",
       "abstracts": [
        {
         "source": "arXiv",
         "value": "We present a gauged baryon number model as an example of models where all new fermions required to cancel out the anomalies help to solve phenomenological problems of the standard model (SM). Dark fermion doublets, along with the iso-singlet charged fermions, in conjunction with a set of SM-singlet fermions, participate in the generation of small neutrino masses through the Dirac-dark Zee mechanism. The other SM-singlets explain the dark matter in the Universe, while their coupling to an inert singlet scalar is the source of the $CP$ violation. In the presence of a strong first-order electroweak phase transition, this \"dark\" $CP$ violation allows for a successful electroweak baryogenesis mechanism."
        }
       ],
       "arxiv_eprints": [
        {
         "categories": [
          "hep-ph"
         ],
         "value": "2205.05762"
        }
       ],
       "authors": [
        {
         "affiliations": [
          {
           "record": {
            "$ref": "https://inspirehep.net/api/institutions/903906"
           },
           "value": "Antioquia U."
          },
          {
           "record": {
            "$ref": "https://inspirehep.net/api/institutions/902714"
           },
           "value": "Campinas State U."
          }
         ],
         "emails": [
          "restrepo@udea.edu.co"
         ],
         "full_name": "Restrepo, Diego",
         "ids": [
          {
           "schema": "ORCID",
           "value": "0000-0001-6455-5564"
          },
          {
           "schema": "INSPIRE BAI",
           "value": "D.Restrepo.1"
          }
         ],
         "raw_affiliations": [
          {
           "value": "Instituto de Física, Universidad de Antioquia, Calle 70 No 52-21, Medellín, Colombia"
          },
          {
           "value": "Instituto de Física Gleb Wataghin, UNICAMP, 13083-859, Campinas, SP, Brazil"
          }
         ],
         "record": {
          "$ref": "https://inspirehep.net/api/authors/991924"
         },
         "signature_block": "RASTRAPd",
         "uuid": "300c9b2c-15b0-4937-ad36-8ccff33fd09d"
        },
        {
         "affiliations": [
          {
           "curated_relation": true,
           "record": {
            "$ref": "https://inspirehep.net/api/institutions/903906"
           },
           "value": "Antioquia U."
          }
         ],
         "emails": [
          "afelipe.rivera@udea.edu.co"
         ],
         "full_name": "Rivera, Andrés",
         "ids": [
          {
           "schema": "ORCID",
           "value": "0000-0002-6256-8545"
          },
          {
           "schema": "INSPIRE BAI",
           "value": "A.Rivera.1"
          }
         ],
         "raw_affiliations": [
          {
           "value": "Instituto de Física, Universidad de Antioquia, Calle 70 No 52-21, Medellín, Colombia"
          }
         ],
         "record": {
          "$ref": "https://inspirehep.net/api/authors/1744378"
         },
         "signature_block": "RAVARa",
         "uuid": "6c7aac55-0895-43a2-b068-9e5bc905012d"
        },
        {
         "affiliations": [
          {
           "record": {
            "$ref": "https://inspirehep.net/api/institutions/904763"
           },
           "value": "Loyola U., Chicago"
          }
         ],
         "emails": [
          "wtangarife@luc.edu"
         ],
         "full_name": "Tangarife, Walter",
         "ids": [
          {
           "schema": "ORCID",
           "value": "0000-0002-4808-3277"
          },
          {
           "schema": "INSPIRE BAI",
           "value": "W.Tangarife.Garcia.1"
          }
         ],
         "raw_affiliations": [
          {
           "value": "Department of Physics, Loyola University Chicago, 1032 W. Sheridan Road, Chicago, IL, 60660, USA"
          }
         ],
         "record": {
          "$ref": "https://inspirehep.net/api/authors/1073186"
         },
         "signature_block": "TANGARAFw",
         "uuid": "14cb527b-70fc-40ba-9df0-f34e2919b9e9"
        }
       ],
       "citation_count": 0,
       "citation_count_without_self_citations": 0,
       "citeable": true,
       "control_number": 2080612,
       "core": true,
       "curated": false,
       "document_type": [
        "article"
       ],
       "figures": [
        {
         "caption": "Diagram for the Dirac-dark Zee model.",
         "filename": "zee.png",
         "key": "74133afcd4d40a1c66b513d2bd817e1f",
         "label": "fig:zee",
         "material": "preprint",
         "source": "arxiv",
         "url": "https://inspirehep.net/files/74133afcd4d40a1c66b513d2bd817e1f"
        },
        {
         "caption": "SI independent DM-nucleon interactions: Vector(left) and scalar (right) portals.",
         "filename": "vector-SI.png",
         "key": "2b6683b6b224d6496f1df41d0051474c",
         "label": "fig:SI-diagram",
         "material": "preprint",
         "source": "arxiv",
         "url": "https://inspirehep.net/files/2b6683b6b224d6496f1df41d0051474c"
        },
        {
         "caption": "SI independent DM-nucleon interactions: Vector(left) and scalar (right) portals.",
         "filename": "scalar-SI.png",
         "key": "a0b7d25cdb900f531973d6abdac560bf",
         "label": "fig:SI-diagram",
         "material": "preprint",
         "source": "arxiv",
         "url": "https://inspirehep.net/files/a0b7d25cdb900f531973d6abdac560bf"
        },
        {
         "caption": "The SI cross-section (blue dots) and the current experimental constraints from PandaX-4T~\\cite{PandaX-4T:2021bab}, XENON1T~\\cite{Aprile:2018dbl}, and prospects from LZ~\\cite{Akerib:2018lyp} and DARWIN~\\cite{Aalbers:2016jon}. We also show the Neutrino Coherent Scattering (NCS)~\\cite{Cushman:2013zza, Billard:2013qya, Billard:2021uyg, OHare:2021utq}.",
         "filename": "SI.png",
         "key": "6cb11beaa8bfdf5749d119cd3d082a48",
         "label": "fig:SI",
         "material": "preprint",
         "source": "arxiv",
         "url": "https://inspirehep.net/files/6cb11beaa8bfdf5749d119cd3d082a48"
        },
        {
         "caption": "The blue points are the models shown in Fig.~\\ref{fig:SI} that fulfill the relic abundance of DM and the neutrino masses. The black points are those that are not excluded by direct detection of DM and give the observed baryon asymmetry at the Universe. The green-shaded region is in tension with the measured number of relativistic degrees of freedom~\\cite{PhysRevD.101.035004}. The other shaded areas show the exclusions coming from meson decays~\\cite{Dror:2017nsg} (yellow), the hadronic widths of $\\Upsilon$ and $J/\\psi$ (purple and orange), LHC dijet searches~\\cite{FileviezPerez:2018jmr} (red), and from non-detection of the anomaly-cancelling fermions~\\cite{Dobrescu:2014fca} (gray).",
         "filename": "g1_MZp.png",
         "key": "f17504abc95a7f9deff793454a0bc594",
         "label": "fig:gB-vs-MZp",
         "material": "preprint",
         "source": "arxiv",
         "url": "https://inspirehep.net/files/f17504abc95a7f9deff793454a0bc594"
        }
       ],
       "inspire_categories": [
        {
         "source": "arxiv",
         "term": "Phenomenology-HEP"
        }
       ],
       "keywords": [
        {
         "schema": "INSPIRE",
         "source": "classifier",
         "value": "neutrino, mass"
        },
        {
         "schema": "INSPIRE",
         "source": "classifier",
         "value": "fermion, doublet"
        },
        {
         "schema": "INSPIRE",
         "source": "classifier",
         "value": "electroweak interaction, critical phenomena"
        },
        {
         "schema": "INSPIRE",
         "source": "classifier",
         "value": "singlet, scalar"
        },
        {
         "schema": "INSPIRE",
         "source": "classifier",
         "value": "dark matter"
        },
        {
         "schema": "INSPIRE",
         "source": "classifier",
         "value": "baryogenesis"
        },
        {
         "schema": "INSPIRE",
         "source": "classifier",
         "value": "anomaly"
        },
        {
         "schema": "INSPIRE",
         "source": "classifier",
         "value": "baryon number"
        }
       ],
       "license": [
        {
         "license": "CC BY 4.0",
         "material": "preprint",
         "url": "http://creativecommons.org/licenses/by/4.0/"
        }
       ],
       "number_of_pages": 20,
       "preprint_date": "2022-05-11",
       "public_notes": [
        {
         "source": "arXiv",
         "value": "20 pages, 4 figures. Comments are welcome! v.2: Added references,\n changed baryon number normalization, added meson decay constraints"
        }
       ],
       "references": [
        {
         "raw_refs": [
          {
           "schema": "text",
           "source": "arXiv",
           "value": "[1] Christopher D. Carone and Hitoshi Murayama, “Possible light U(1) gauge boson coupled to baryon number,” Phys. Rev. Lett. 74, 3122–3125 (1995), arXiv:hep-ph/9411256"
          }
         ],
         "record": {
          "$ref": "https://inspirehep.net/api/literature/379775"
         },
         "reference": {
          "arxiv_eprint": "hep-ph/9411256",
          "authors": [
           {
            "full_name": "Carone, Christopher D."
           }
          ],
          "label": "1",
          "misc": [
           "and Hitoshi Murayama",
           "arXiv:"
          ],
          "publication_info": {
           "journal_title": "Phys.Rev.Lett.",
           "journal_volume": "74",
           "page_end": "3125",
           "page_start": "3122",
           "year": 1995
          },
          "title": {
           "title": "Possible light U(1) gauge boson coupled to baryon number"
          }
         }
        },
        {
         "raw_refs": [
          {
           "schema": "text",
           "source": "arXiv",
           "value": "[2] Christopher D. Carone and Hitoshi Murayama, “Realistic models with a light U(1) gauge boson coupled to baryon number,” Phys. Rev. D 52, 484–493 (1995), arXiv:hep-ph/9501220"
          }
         ],
         "record": {
          "$ref": "https://inspirehep.net/api/literature/392065"
         },
         "reference": {
          "arxiv_eprint": "hep-ph/9501220",
          "authors": [
           {
            "full_name": "Carone, Christopher D."
           }
          ],
          "label": "2",
          "misc": [
           "and Hitoshi Murayama",
           "arXiv:"
          ],
          "publication_info": {
           "journal_title": "Phys.Rev.D",
           "journal_volume": "52",
           "page_end": "493",
           "page_start": "484",
           "year": 1995
          },
          "title": {
           "title": "Realistic models with a light U(1) gauge boson coupled to baryon number"
          }
         }
        },
        {
         "raw_refs": [
          {
           "schema": "text",
           "source": "arXiv",
           "value": "[3] Marcela Carena, Mariano Quir´ os, and Yue Zhang, “Electroweak Baryogenesis from DarkSector CP Violation,” Phys. Rev. Lett. 122, 201802 (2019), arXiv:1811.09719 [hep-ph]"
          }
         ],
         "record": {
          "$ref": "https://inspirehep.net/api/literature/1704944"
         },
         "reference": {
          "arxiv_eprint": "1811.09719",
          "label": "3",
          "misc": [
           "Marcela Carena, Mariano Quirós, and Yue Zhang"
          ],
          "publication_info": {
           "artid": "201802",
           "journal_title": "Phys.Rev.Lett.",
           "journal_volume": "122",
           "year": 2019
          },
          "title": {
           "title": "Electroweak Baryogenesis from DarkSector CP Violation"
          }
         }
        },
        {
         "raw_refs": [
          {
           "schema": "text",
           "source": "arXiv",
           "value": "[4] Marcela Carena, Mariano Quir´ os, and Yue Zhang, “Dark CP violation and gauged lepton or baryon number for electroweak baryogenesis,” Phys. Rev. D 101, 055014 (2020), arXiv:1908.04818 [hep-ph]"
          }
         ],
         "record": {
          "$ref": "https://inspirehep.net/api/literature/1749565"
         },
         "reference": {
          "arxiv_eprint": "1908.04818",
          "label": "4",
          "misc": [
           "Marcela Carena, Mariano Quirós, and Yue Zhang"
          ],
          "publication_info": {
           "artid": "055014",
           "journal_title": "Phys.Rev.D",
           "journal_volume": "101",
           "year": 2020
          },
          "title": {
           "title": "Dark CP violation and gauged lepton or baryon number for electroweak baryogenesis"
          }
         }
        },
        {
         "raw_refs": [
          {
           "schema": "text",
           "source": "arXiv",
           "value": "[5] Pavel Fileviez Perez and Mark B. Wise, “Baryon and lepton number as local gauge symmetries,” Phys. Rev. D 82, 011901 (2010), [Erratum: Phys.Rev.D 82, 079901 (2010)], arXiv:1002.1754 [hep-ph]"
          }
         ],
         "record": {
          "$ref": "https://inspirehep.net/api/literature/845452"
         },
         "reference": {
          "label": "5",
          "misc": [
           "Pavel Fileviez Perez and Mark B. Wise"
          ],
          "publication_info": {
           "artid": "011901",
           "journal_title": "Phys.Rev.D",
           "journal_volume": "82",
           "year": 2010
          },
          "title": {
           "title": "Baryon and lepton number as local gauge symmetries"
          }
         }
        },
        {
         "raw_refs": [
          {
           "schema": "text",
           "source": "arXiv",
           "value": "[5] Pavel Fileviez Perez and Mark B. Wise, “Baryon and lepton number as local gauge symmetries,” Phys. Rev. D 82, 011901 (2010), [Erratum: Phys.Rev.D 82, 079901 (2010)], arXiv:1002.1754 [hep-ph]"
          }
         ],
         "record": {
          "$ref": "https://inspirehep.net/api/literature/845452"
         },
         "reference": {
          "arxiv_eprint": "1002.1754",
          "label": "5",
          "misc": [
           "[Erratum:"
          ],
          "publication_info": {
           "artid": "079901",
           "journal_title": "Phys.Rev.D",
           "journal_volume": "82",
           "year": 2010
          }
         }
        },
        {
         "raw_refs": [
          {
           "schema": "text",
           "source": "arXiv",
           "value": "[6] Pavel Fileviez Perez and Mark B. Wise, “Breaking Local Baryon and Lepton Number at the TeV Scale,” JHEP 08, 068 (2011), arXiv:1106.0343 [hep-ph]"
          }
         ],
         "record": {
          "$ref": "https://inspirehep.net/api/literature/902485"
         },
         "reference": {
          "arxiv_eprint": "1106.0343",
          "label": "6",
          "misc": [
           "Pavel Fileviez Perez and Mark B. Wise"
          ],
          "publication_info": {
           "artid": "068",
           "journal_title": "JHEP",
           "journal_volume": "08",
           "page_start": "068",
           "year": 2011
          },
          "title": {
           "title": "Breaking Local Baryon and Lepton Number at the TeV Scale"
          }
         }
        },
        {
         "raw_refs": [
          {
           "schema": "text",
           "source": "arXiv",
           "value": "[7] Ernest Ma, “Gauged baryon number and dibaryonic dark matter,” Phys. Lett. B 813, 136066 (2021), arXiv:2011.13887 [hep-ph]"
          }
         ],
         "record": {
          "$ref": "https://inspirehep.net/api/literature/1833656"
         },
         "reference": {
          "arxiv_eprint": "2011.13887",
          "label": "7",
          "misc": [
           "Ernest Ma"
          ],
          "publication_info": {
           "artid": "136066",
           "journal_title": "Phys.Lett.B",
           "journal_volume": "813",
           "year": 2021
          },
          "title": {
           "title": "Gauged baryon number and dibaryonic dark matter"
          }
         }
        },
        {
         "raw_refs": [
          {
           "schema": "text",
           "source": "arXiv",
           "value": "[8] Diego Restrepo and David Suarez, “Effective Dirac neutrino mass operator in the Standard Model with a local Abelian extension,” (12 2021), arXiv:2112.09524 [hep-ph]"
          }
         ],
         "record": {
          "$ref": "https://inspirehep.net/api/literature/1992971"
         },
         "reference": {
          "arxiv_eprint": "2112.09524",
          "label": "8",
          "misc": [
           "Diego Restrepo and David Suarez",
           "(12)"
          ],
          "publication_info": {
           "year": 2021
          },
          "title": {
           "title": "Effective Dirac neutrino mass operator in the Standard Model with a local Abelian extension"
          }
         }
        },
        {
         "raw_refs": [
          {
           "schema": "text",
           "source": "arXiv",
           "value": "[9] C. Boehm, Pierre Fayet, and J. Silk, “Light and heavy dark matter particles,” Phys. Rev. D 69, 101302 (2004), arXiv:hep-ph/0311143"
          }
         ],
         "record": {
          "$ref": "https://inspirehep.net/api/literature/632960"
         },
         "reference": {
          "arxiv_eprint": "hep-ph/0311143",
          "authors": [
           {
            "full_name": "Boehm, C."
           }
          ],
          "label": "9",
          "misc": [
           "Pierre Fayet, and J. Silk",
           "arXiv:"
          ],
          "publication_info": {
           "artid": "101302",
           "journal_title": "Phys.Rev.D",
           "journal_volume": "69",
           "year": 2004
          },
          "title": {
           "title": "Light and heavy dark matter particles"
          }
         }
        },
        {
         "raw_refs": [
          {
           "schema": "text",
           "source": "arXiv",
           "value": "[10] Johannes Herms and Alejandro Ibarra, “Production and signatures of multi-flavour dark matter scenarios with t-channel mediators,” JCAP 10, 026 (2021), arXiv:2103.10392 [hep-ph]"
          }
         ],
         "record": {
          "$ref": "https://inspirehep.net/api/literature/1852287"
         },
         "reference": {
          "arxiv_eprint": "2103.10392",
          "label": "10",
          "misc": [
           "Johannes Herms and Alejandro Ibarra"
          ],
          "publication_info": {
           "artid": "026",
           "journal_title": "JCAP",
           "journal_volume": "10",
           "page_start": "026",
           "year": 2021
          },
          "title": {
           "title": "Production and signatures of multi-flavour dark matter scenarios with t-channel mediators"
          }
         }
        },
        {
         "raw_refs": [
          {
           "schema": "text",
           "source": "arXiv",
           "value": "[11] James M. Cline, Kimmo Kainulainen, and David Tucker-Smith, “Electroweak baryogenesis from a dark sector,” Phys. Rev. D 95, 115006 (2017), arXiv:1702.08909 [hep-ph]"
          }
         ],
         "record": {
          "$ref": "https://inspirehep.net/api/literature/1515356"
         },
         "reference": {
          "arxiv_eprint": "1702.08909",
          "authors": [
           {
            "full_name": "Cline, James M."
           }
          ],
          "label": "11",
          "misc": [
           "Kimmo Kainulainen, and David Tucker-Smith"
          ],
          "publication_info": {
           "artid": "115006",
           "journal_title": "Phys.Rev.D",
           "journal_volume": "95",
           "year": 2017
          },
          "title": {
           "title": "Electroweak baryogenesis from a dark sector"
          }
         }
        },
        {
         "raw_refs": [
          {
           "schema": "text",
           "source": "arXiv",
           "value": "[12] Salah Nasri and Sherif Moussa, “Model for small neutrino masses at the TeV scale,” Mod. Phys. Lett. A 17, 771–778 (2002), arXiv:hep-ph/0106107"
          }
         ],
         "record": {
          "$ref": "https://inspirehep.net/api/literature/558155"
         },
         "reference": {
          "arxiv_eprint": "hep-ph/0106107",
          "label": "12",
          "misc": [
           "Salah Nasri and Sherif Moussa",
           "arXiv:"
          ],
          "publication_info": {
           "journal_title": "Mod.Phys.Lett.A",
           "journal_volume": "17",
           "page_end": "778",
           "page_start": "771",
           "year": 2002
          },
          "title": {
           "title": "Model for small neutrino masses at the TeV scale"
          }
         }
        },
        {
         "raw_refs": [
          {
           "schema": "text",
           "source": "arXiv",
           "value": "[13] A. D. Dolgov, “Neutrinos in cosmology,” Phys. Rept. 370, 333–535 (2002), arXiv:hepph/0202122"
          }
         ],
         "record": {
          "$ref": "https://inspirehep.net/api/literature/582918"
         },
         "reference": {
          "authors": [
           {
            "full_name": "Dolgov, A.D."
           }
          ],
          "label": "13",
          "misc": [
           "arXiv:",
           "</cds.ARXIV>"
          ],
          "publication_info": {
           "journal_title": "Phys.Rept.",
           "journal_volume": "370",
           "page_end": "535",
           "page_start": "333",
           "year": 2002
          },
          "report_numbers": [
           "<cds.ARXIV>hep-ph/0202122"
          ],
          "title": {
           "title": "Neutrinos in cosmology"
          }
         }
        },
        {
         "raw_refs": [
          {
           "schema": "text",
           "source": "arXiv",
           "value": "[14] Nicol´ as Bernal, Juli´ an Calle, and Diego Restrepo, “Anomaly-free Abelian gauge symmetries with Dirac scotogenic models,” Phys. Rev. D 103, 095032 (2021), arXiv:2102.06211 [hep-ph]"
          }
         ],
         "record": {
          "$ref": "https://inspirehep.net/api/literature/1846554"
         },
         "reference": {
          "arxiv_eprint": "2102.06211",
          "label": "14",
          "misc": [
           "Nicolás Bernal, Julí an Calle, and Diego Restrepo"
          ],
          "publication_info": {
           "artid": "095032",
           "journal_title": "Phys.Rev.D",
           "journal_volume": "103",
           "year": 2021
          },
          "title": {
           "title": "Anomaly-free Abelian gauge symmetries with Dirac scotogenic models"
          }
         }
        },
        {
         "raw_refs": [
          {
           "schema": "text",
           "source": "arXiv",
           "value": "[15] Ernest Ma, “Gauged lepton number, Dirac neutrinos, dark matter, and muon g−2,” Phys. Lett. B 819, 136402 (2021), arXiv:2104.10324 [hep-ph]"
          }
         ],
         "record": {
          "$ref": "https://inspirehep.net/api/literature/1859534"
         },
         "reference": {
          "arxiv_eprint": "2104.10324",
          "label": "15",
          "misc": [
           "Ernest Ma"
          ],
          "publication_info": {
           "artid": "136402",
           "journal_title": "Phys.Lett.B",
           "journal_volume": "819",
           "year": 2021
          },
          "title": {
           "title": "Gauged lepton number, Dirac neutrinos, dark matter, and muon g-2"
          }
         }
        },
        {
         "raw_refs": [
          {
           "schema": "text",
           "source": "arXiv",
           "value": "[16] Davi B. Costa, Bogdan A. Dobrescu, and Patrick J. Fox, “General Solution to the U(1) Anomaly Equations,” Phys. Rev. Lett. 123, 151601 (2019), arXiv:1905.13729 [hep-th]"
          }
         ],
         "record": {
          "$ref": "https://inspirehep.net/api/literature/1737609"
         },
         "reference": {
          "arxiv_eprint": "1905.13729",
          "authors": [
           {
            "full_name": "Costa, Davi B."
           },
           {
            "full_name": "Dobrescu, Bogdan A."
           },
           {
            "full_name": "Fox, Patrick J."
           }
          ],
          "label": "16",
          "publication_info": {
           "artid": "151601",
           "journal_title": "Phys.Rev.Lett.",
           "journal_volume": "123",
           "year": 2019
          },
          "title": {
           "title": "General Solution to the U(1) Anomaly Equations"
          }
         }
        },
        {
         "raw_refs": [
          {
           "schema": "text",
           "source": "arXiv",
           "value": "[17] Chang-Yuan Yao and Gui-Jun Ding, “Systematic analysis of Dirac neutrino masses from a dimension five operator,” Phys. Rev. D 97, 095042 (2018), arXiv:1802.05231 [hep-ph]"
          }
         ],
         "record": {
          "$ref": "https://inspirehep.net/api/literature/1654953"
         },
         "reference": {
          "arxiv_eprint": "1802.05231",
          "label": "17",
          "misc": [
           "Chang-Yuan Yao and Gui-Jun Ding"
          ],
          "publication_info": {
           "artid": "095042",
           "journal_title": "Phys.Rev.D",
           "journal_volume": "97",
           "year": 2018
          },
          "title": {
           "title": "Systematic analysis of Dirac neutrino masses from a dimension five operator"
          }
         }
        },
        {
         "raw_refs": [
          {
           "schema": "text",
           "source": "arXiv",
           "value": "[18] P. F. de Salas, D. V. Forero, C. A. Ternes, M. Tortola, and J. W. F. Valle, “Status of neutrino oscillations 2018: 3σ hint for normal mass ordering and improved CP sensitivity,” Phys. Lett. B 782, 633–640 (2018), arXiv:1708.01186 [hep-ph]"
          }
         ],
         "record": {
          "$ref": "https://inspirehep.net/api/literature/1614321"
         },
         "reference": {
          "arxiv_eprint": "1708.01186",
          "authors": [
           {
            "full_name": "de Salas, P.F."
           },
           {
            "full_name": "Forero, D.V."
           },
           {
            "full_name": "Ternes, C.A."
           },
           {
            "full_name": "Tortola, M."
           },
           {
            "full_name": "Valle, J.W.F."
           }
          ],
          "label": "18",
          "publication_info": {
           "journal_title": "Phys.Lett.B",
           "journal_volume": "782",
           "page_end": "640",
           "page_start": "633",
           "year": 2018
          },
          "title": {
           "title": "Status of neutrino oscillations 2018: 3σ hint for normal mass ordering and improved CP sensitivity"
          }
         }
        },
        {
         "raw_refs": [
          {
           "schema": "text",
           "source": "arXiv",
           "value": "[19] Shinya Kanemura, Takehiro Nabeshima, and Hiroaki Sugiyama, “Neutrino Masses from LoopInduced Dirac Yukawa Couplings,” Phys. Lett. B 703, 66–70 (2011), arXiv:1106.2480 [hep-ph]"
          }
         ],
         "record": {
          "$ref": "https://inspirehep.net/api/literature/913413"
         },
         "reference": {
          "arxiv_eprint": "1106.2480",
          "label": "19",
          "misc": [
           "Shinya Kanemura, Takehiro Nabeshima, and Hiroaki Sugiyama"
          ],
          "publication_info": {
           "journal_title": "Phys.Lett.B",
           "journal_volume": "703",
           "page_end": "70",
           "page_start": "66",
           "year": 2011
          },
          "title": {
           "title": "Neutrino Masses from LoopInduced Dirac Yukawa Couplings"
          }
         }
        },
        {
         "raw_refs": [
          {
           "schema": "text",
           "source": "arXiv",
           "value": "[20] Ziro Maki, Masami Nakagawa, and Shoichi Sakata, “Remarks on the unified model of elementary particles,” Prog. Theor. Phys. 28, 870–880 (1962)"
          }
         ],
         "record": {
          "$ref": "https://inspirehep.net/api/literature/3540"
         },
         "reference": {
          "label": "20",
          "misc": [
           "Ziro Maki, Masami Nakagawa, and Shoichi Sakata"
          ],
          "publication_info": {
           "journal_title": "Prog.Theor.Phys.",
           "journal_volume": "28",
           "page_end": "880",
           "page_start": "870",
           "year": 1962
          },
          "title": {
           "title": "Remarks on the unified model of elementary particles"
          }
         }
        },
        {
         "raw_refs": [
          {
           "schema": "text",
           "source": "arXiv",
           "value": "[21] Edward W. Kolb and Michael S. Turner, The Early Universe, Vol. 69 (1990) ISBN 978-0-20162674-2"
          }
         ],
         "record": {
          "$ref": "https://inspirehep.net/api/literature/299778"
         },
         "reference": {
          "authors": [
           {
            "full_name": "Kolb, Edward W."
           },
           {
            "full_name": "Turner, Michael S."
           }
          ],
          "isbn": "9780201626742",
          "label": "21",
          "misc": [
           "The Early Universe, Vol. 69"
          ],
          "publication_info": {
           "year": 1990
          }
         }
        },
        {
         "raw_refs": [
          {
           "schema": "text",
           "source": "arXiv",
           "value": "[22] Mark Srednicki, Richard Watkins, and Keith A. Olive, “Calculations of Relic Densities in the Early Universe,” Nucl. Phys. B 310, 693 (1988)"
          }
         ],
         "record": {
          "$ref": "https://inspirehep.net/api/literature/261944"
         },
         "reference": {
          "label": "22",
          "misc": [
           "Mark Srednicki, Richard Watkins, and Keith A. Olive"
          ],
          "publication_info": {
           "artid": "693",
           "journal_title": "Nucl.Phys.B",
           "journal_volume": "310",
           "page_start": "693",
           "year": 1988
          },
          "title": {
           "title": "Calculations of Relic Densities in the Early Universe"
          }
         }
        },
        {
         "raw_refs": [
          {
           "schema": "text",
           "source": "arXiv",
           "value": "[23] Michael Duerr and Pavel Fileviez Perez, “Theory for Baryon Number and Dark Matter at the LHC,” Phys. Rev. D 91, 095001 (2015), arXiv:1409.8165 [hep-ph]"
          }
         ],
         "record": {
          "$ref": "https://inspirehep.net/api/literature/1319340"
         },
         "reference": {
          "arxiv_eprint": "1409.8165",
          "label": "23",
          "misc": [
           "Michael Duerr and Pavel Fileviez Perez"
          ],
          "publication_info": {
           "artid": "095001",
           "journal_title": "Phys.Rev.D",
           "journal_volume": "91",
           "year": 2015
          },
          "title": {
           "title": "Theory for Baryon Number and Dark Matter at the LHC"
          }
         }
        },
        {
         "raw_refs": [
          {
           "schema": "text",
           "source": "arXiv",
           "value": "[24] F. Staub, “SARAH,” (6 2008), arXiv:0806.0538 [hep-ph]"
          }
         ],
         "record": {
          "$ref": "https://inspirehep.net/api/literature/787204"
         },
         "reference": {
          "arxiv_eprint": "0806.0538",
          "authors": [
           {
            "full_name": "Staub, F."
           }
          ],
          "label": "24",
          "misc": [
           "(6)"
          ],
          "publication_info": {
           "year": 2008
          },
          "title": {
           "title": "SARAH"
          }
         }
        },
        {
         "raw_refs": [
          {
           "schema": "text",
           "source": "arXiv",
           "value": "[25] Florian Staub, “From Superpotential to Model Files for FeynArts and CalcHep/CompHep,” Comput. Phys. Commun. 181, 1077–1086 (2010), arXiv:0909.2863 [hep-ph]"
          }
         ],
         "record": {
          "$ref": "https://inspirehep.net/api/literature/831371"
         },
         "reference": {
          "arxiv_eprint": "0909.2863",
          "label": "25",
          "misc": [
           "Florian Staub"
          ],
          "publication_info": {
           "journal_title": "Comput.Phys.Commun.",
           "journal_volume": "181",
           "page_end": "1086",
           "page_start": "1077",
           "year": 2010
          },
          "title": {
           "title": "From Superpotential to Model Files for FeynArts and CalcHep/CompHep"
          }
         }
        },
        {
         "raw_refs": [
          {
           "schema": "text",
           "source": "arXiv",
           "value": "[26] Florian Staub, “Automatic Calculation of supersymmetric Renormalization Group Equations and Self Energies,” Comput. Phys. Commun. 182, 808–833 (2011), arXiv:1002.0840 [hep-ph]"
          }
         ],
         "record": {
          "$ref": "https://inspirehep.net/api/literature/845241"
         },
         "reference": {
          "arxiv_eprint": "1002.0840",
          "label": "26",
          "misc": [
           "Florian Staub"
          ],
          "publication_info": {
           "journal_title": "Comput.Phys.Commun.",
           "journal_volume": "182",
           "page_end": "833",
           "page_start": "808",
           "year": 2011
          },
          "title": {
           "title": "Automatic Calculation of supersymmetric Renormalization Group Equations and Self Energies"
          }
         }
        },
        {
         "raw_refs": [
          {
           "schema": "text",
           "source": "arXiv",
           "value": "[27] Florian Staub, “SARAH 3.2: Dirac Gauginos, UFO output, and more,” Comput. Phys. Commun. 184, 1792–1809 (2013), arXiv:1207.0906 [hep-ph]"
          }
         ],
         "record": {
          "$ref": "https://inspirehep.net/api/literature/1121136"
         },
         "reference": {
          "arxiv_eprint": "1207.0906",
          "label": "27",
          "misc": [
           "Florian Staub"
          ],
          "publication_info": {
           "journal_title": "Comput.Phys.Commun.",
           "journal_volume": "184",
           "page_end": "1809",
           "page_start": "1792",
           "year": 2013
          },
          "title": {
           "title": "SARAH 3.2: Dirac Gauginos, UFO output, and more"
          }
         }
        },
        {
         "raw_refs": [
          {
           "schema": "text",
           "source": "arXiv",
           "value": "[28] Florian Staub, “SARAH 4 : A tool for (not only SUSY) model builders,” Comput. Phys. Commun. 185, 1773–1790 (2014), arXiv:1309.7223 [hep-ph]"
          }
         ],
         "record": {
          "$ref": "https://inspirehep.net/api/literature/1255845"
         },
         "reference": {
          "arxiv_eprint": "1309.7223",
          "label": "28",
          "misc": [
           "Florian Staub"
          ],
          "publication_info": {
           "journal_title": "Comput.Phys.Commun.",
           "journal_volume": "185",
           "page_end": "1790",
           "page_start": "1773",
           "year": 2014
          },
          "title": {
           "title": "SARAH 4 : A tool for (not only SUSY) model builders"
          }
         }
        },
        {
         "raw_refs": [
          {
           "schema": "text",
           "source": "arXiv",
           "value": "[29] Werner Porod, “SPheno, a program for calculating supersymmetric spectra, SUSY particle decays and SUSY particle production at e+ e- colliders,” Comput. Phys. Commun. 153, 275–315 (2003), arXiv:hep-ph/0301101"
          }
         ],
         "record": {
          "$ref": "https://inspirehep.net/api/literature/611662"
         },
         "reference": {
          "arxiv_eprint": "hep-ph/0301101",
          "label": "29",
          "misc": [
           "Werner Porod",
           "arXiv:"
          ],
          "publication_info": {
           "journal_title": "Comput.Phys.Commun.",
           "journal_volume": "153",
           "page_end": "315",
           "page_start": "275",
           "year": 2003
          },
          "title": {
           "title": "SPheno, a program for calculating supersymmetric spectra, SUSY particle decays and SUSY particle production at e+ e- colliders"
          }
         }
        },
        {
         "raw_refs": [
          {
           "schema": "text",
           "source": "arXiv",
           "value": "[30] W. Porod and F. Staub, “SPheno 3.1: Extensions including flavour, CP-phases and models beyond the MSSM,” Comput. Phys. Commun. 183, 2458–2469 (2012), arXiv:1104.1573 [hepph]"
          }
         ],
         "record": {
          "$ref": "https://inspirehep.net/api/literature/895595"
         },
         "reference": {
          "arxiv_eprint": "1104.1573",
          "authors": [
           {
            "full_name": "Porod, W."
           },
           {
            "full_name": "Staub, F."
           }
          ],
          "label": "30",
          "publication_info": {
           "journal_title": "Comput.Phys.Commun.",
           "journal_volume": "183",
           "page_end": "2469",
           "page_start": "2458",
           "year": 2012
          },
          "title": {
           "title": "SPheno 3.1: Extensions including flavour, CP-phases and models beyond the MSSM"
          }
         }
        },
        {
         "raw_refs": [
          {
           "schema": "text",
           "source": "arXiv",
           "value": "[31] G. Belanger, F. Boudjema, A. Pukhov, and A. Semenov, “MicrOMEGAs 2.0: A Program to calculate the relic density of dark matter in a generic model,” Comput. Phys. Commun. 176, 367–382 (2007), arXiv:hep-ph/0607059"
          }
         ],
         "record": {
          "$ref": "https://inspirehep.net/api/literature/720876"
         },
         "reference": {
          "arxiv_eprint": "hep-ph/0607059",
          "authors": [
           {
            "full_name": "Belanger, G."
           },
           {
            "full_name": "Boudjema, F."
           },
           {
            "full_name": "Pukhov, A."
           },
           {
            "full_name": "Semenov, A."
           }
          ],
          "label": "31",
          "misc": [
           "arXiv:"
          ],
          "publication_info": {
           "journal_title": "Comput.Phys.Commun.",
           "journal_volume": "176",
           "page_end": "382",
           "page_start": "367",
           "year": 2007
          },
          "title": {
           "title": "MicrOMEGAs 2.0: A Program to calculate the relic density of dark matter in a generic model"
          }
         }
        },
        {
         "raw_refs": [
          {
           "schema": "text",
           "source": "arXiv",
           "value": "[32] Kim Griest and David Seckel, “Three exceptions in the calculation of relic abundances,” Phys. Rev. D 43, 3191–3203 (1991)"
          }
         ],
         "record": {
          "$ref": "https://inspirehep.net/api/literature/300447"
         },
         "reference": {
          "label": "32",
          "misc": [
           "Kim Griest and David Seckel"
          ],
          "publication_info": {
           "journal_title": "Phys.Rev.D",
           "journal_volume": "43",
           "page_end": "3203",
           "page_start": "3191",
           "year": 1991
          },
          "title": {
           "title": "Three exceptions in the calculation of relic abundances"
          }
         }
        },
        {
         "raw_refs": [
          {
           "schema": "text",
           "source": "arXiv",
           "value": "[33] N. Aghanim et al. (Planck), “Planck 2018 results. VI. Cosmological parameters,” Astron. Astrophys. 641, A6 (2020), [Erratum: Astron.Astrophys. 652, C4 (2021)], arXiv:1807.06209 [astro-ph.CO]"
          }
         ],
         "record": {
          "$ref": "https://inspirehep.net/api/literature/1682902"
         },
         "reference": {
          "authors": [
           {
            "full_name": "Aghanim, N."
           }
          ],
          "label": "33",
          "misc": [
           "(Planck)"
          ],
          "publication_info": {
           "artid": "A6",
           "journal_title": "Astron.Astrophys.",
           "journal_volume": "641",
           "page_start": "A6",
           "year": 2020
          },
          "title": {
           "title": "Planck 2018 results. VI. Cosmological parameters"
          }
         }
        },
        {
         "raw_refs": [
          {
           "schema": "text",
           "source": "arXiv",
           "value": "[33] N. Aghanim et al. (Planck), “Planck 2018 results. VI. Cosmological parameters,” Astron. Astrophys. 641, A6 (2020), [Erratum: Astron.Astrophys. 652, C4 (2021)], arXiv:1807.06209 [astro-ph.CO]"
          }
         ],
         "record": {
          "$ref": "https://inspirehep.net/api/literature/1682902"
         },
         "reference": {
          "arxiv_eprint": "1807.06209",
          "authors": [
           {
            "full_name": "Aghanim, N."
           }
          ],
          "label": "33",
          "misc": [
           "[Erratum:"
          ],
          "publication_info": {
           "artid": "C4",
           "journal_title": "Astron.Astrophys.",
           "journal_volume": "652",
           "page_start": "C4",
           "year": 2021
          }
         }
        },
        {
         "raw_refs": [
          {
           "schema": "text",
           "source": "arXiv",
           "value": "[34] Yue Meng et al. (PandaX-4T), “Dark Matter Search Results from the PandaX-4T Commissioning Run,” Phys. Rev. Lett. 127, 261802 (2021), arXiv:2107.13438 [hep-ex]"
          }
         ],
         "record": {
          "$ref": "https://inspirehep.net/api/literature/1894664"
         },
         "reference": {
          "arxiv_eprint": "2107.13438",
          "authors": [
           {
            "full_name": "Meng"
           }
          ],
          "label": "34",
          "misc": [
           "Yue",
           "(PandaX-4T)"
          ],
          "publication_info": {
           "artid": "261802",
           "journal_title": "Phys.Rev.Lett.",
           "journal_volume": "127",
           "year": 2021
          },
          "title": {
           "title": "Dark Matter Search Results from the PandaX-4T Commissioning Run"
          }
         }
        },
        {
         "raw_refs": [
          {
           "schema": "text",
           "source": "arXiv",
           "value": "[35] E. Aprile et al. (XENON), “Dark Matter Search Results from a One Ton-Year Exposure of XENON1T,” Phys. Rev. Lett. 121, 111302 (2018), arXiv:1805.12562 [astro-ph.CO]"
          }
         ],
         "record": {
          "$ref": "https://inspirehep.net/api/literature/1675772"
         },
         "reference": {
          "arxiv_eprint": "1805.12562",
          "authors": [
           {
            "full_name": "Aprile, E."
           }
          ],
          "label": "35",
          "misc": [
           "(XENON)"
          ],
          "publication_info": {
           "artid": "111302",
           "journal_title": "Phys.Rev.Lett.",
           "journal_volume": "121",
           "year": 2018
          },
          "title": {
           "title": "Dark Matter Search Results from a One Ton-Year Exposure of XENON1T"
          }
         }
        },
        {
         "raw_refs": [
          {
           "schema": "text",
           "source": "arXiv",
           "value": "[36] D. S. Akerib et al. (LUX-ZEPLIN), “Projected WIMP sensitivity of the LUX-ZEPLIN dark matter experiment,” Phys. Rev. D 101, 052002 (2020), arXiv:1802.06039 [astro-ph.IM]"
          }
         ],
         "record": {
          "$ref": "https://inspirehep.net/api/literature/1655569"
         },
         "reference": {
          "arxiv_eprint": "1802.06039",
          "authors": [
           {
            "full_name": "Akerib, D.S."
           }
          ],
          "label": "36",
          "misc": [
           "(LUX-ZEPLIN)"
          ],
          "publication_info": {
           "artid": "052002",
           "journal_title": "Phys.Rev.D",
           "journal_volume": "101",
           "year": 2020
          },
          "title": {
           "title": "Projected WIMP sensitivity of the LUX-ZEPLIN dark matter experiment"
          }
         }
        },
        {
         "raw_refs": [
          {
           "schema": "text",
           "source": "arXiv",
           "value": "[37] J. Aalbers et al. (DARWIN), “DARWIN: towards the ultimate dark matter detector,” JCAP 11, 017 (2016), arXiv:1606.07001 [astro-ph.IM]"
          }
         ],
         "record": {
          "$ref": "https://inspirehep.net/api/literature/1471703"
         },
         "reference": {
          "arxiv_eprint": "1606.07001",
          "authors": [
           {
            "full_name": "Aalbers, J."
           }
          ],
          "label": "37",
          "misc": [
           "(DARWIN)"
          ],
          "publication_info": {
           "artid": "017",
           "journal_title": "JCAP",
           "journal_volume": "11",
           "page_start": "017",
           "year": 2016
          },
          "title": {
           "title": "DARWIN: towards the ultimate dark matter detector"
          }
         }
        },
        {
         "raw_refs": [
          {
           "schema": "text",
           "source": "arXiv",
           "value": "[38] Albert M Sirunyan et al. (CMS), “Search for dark matter produced with an energetic jet or a hadronically decaying W or Z boson at √ s = 13 TeV,” JHEP 07, 014 (2017), arXiv:1703.01651 [hep-ex]"
          }
         ],
         "record": {
          "$ref": "https://inspirehep.net/api/literature/1516193"
         },
         "reference": {
          "arxiv_eprint": "1703.01651",
          "authors": [
           {
            "full_name": "Sirunyan, Albert M."
           }
          ],
          "label": "38",
          "misc": [
           "(CMS)"
          ],
          "publication_info": {
           "artid": "014",
           "journal_title": "JHEP",
           "journal_volume": "07",
           "page_start": "014",
           "year": 2017
          },
          "title": {
           "title": "Search for dark matter produced with an energetic jet or a hadronically decaying W or Z boson at √ s = 13 TeV"
          }
         }
        },
        {
         "raw_refs": [
          {
           "schema": "text",
           "source": "arXiv",
           "value": "[39] P. Cushman et al., “Working Group Report: WIMP Dark Matter Direct Detection,” in Community Summer Study 2013: Snowmass on the Mississippi (2013) arXiv:1310.8327 [hep-ex]"
          }
         ],
         "record": {
          "$ref": "https://inspirehep.net/api/literature/1262767"
         },
         "reference": {
          "arxiv_eprint": "1310.8327",
          "authors": [
           {
            "full_name": "Cushman, P."
           }
          ],
          "label": "39",
          "misc": [
           "in Community Summer Study: Snowmass on the Mississippi"
          ],
          "publication_info": {
           "year": 2013
          },
          "title": {
           "title": "Working Group Report: WIMP Dark Matter Direct Detection"
          }
         }
        },
        {
         "raw_refs": [
          {
           "schema": "text",
           "source": "arXiv",
           "value": "[40] J. Billard, L. Strigari, and E. Figueroa-Feliciano, “Implication of neutrino backgrounds on the reach of next generation dark matter direct detection experiments,” Phys. Rev. D 89, 023524 (2014), arXiv:1307.5458 [hep-ph]"
          }
         ],
         "record": {
          "$ref": "https://inspirehep.net/api/literature/1243804"
         },
         "reference": {
          "arxiv_eprint": "1307.5458",
          "authors": [
           {
            "full_name": "Billard, J."
           },
           {
            "full_name": "Strigari, L."
           },
           {
            "full_name": "Figueroa-Feliciano, E."
           }
          ],
          "label": "40",
          "publication_info": {
           "artid": "023524",
           "journal_title": "Phys.Rev.D",
           "journal_volume": "89",
           "year": 2014
          },
          "title": {
           "title": "Implication of neutrino backgrounds on the reach of next generation dark matter direct detection experiments"
          }
         }
        },
        {
         "raw_refs": [
          {
           "schema": "text",
           "source": "arXiv",
           "value": "[41] Julien Billard et al., “Direct Detection of Dark Matter – APPEC Committee Report,” (4 2021), arXiv:2104.07634 [hep-ex]"
          }
         ],
         "record": {
          "$ref": "https://inspirehep.net/api/literature/1858426"
         },
         "reference": {
          "arxiv_eprint": "2104.07634",
          "authors": [
           {
            "full_name": "Billard"
           }
          ],
          "label": "41",
          "misc": [
           "Julien",
           "(4)"
          ],
          "publication_info": {
           "year": 2021
          },
          "title": {
           "title": "Direct Detection of Dark Matter - APPEC Committee Report"
          }
         }
        },
        {
         "raw_refs": [
          {
           "schema": "text",
           "source": "arXiv",
           "value": "[42] Ciaran A. J. O’Hare, “New Definition of the Neutrino Floor for Direct Dark Matter Searches,” Phys. Rev. Lett. 127, 251802 (2021), arXiv:2109.03116 [hep-ph]"
          }
         ],
         "record": {
          "$ref": "https://inspirehep.net/api/literature/1918102"
         },
         "reference": {
          "arxiv_eprint": "2109.03116",
          "authors": [
           {
            "full_name": "O'Hare, Ciaran A.J."
           }
          ],
          "label": "42",
          "publication_info": {
           "artid": "251802",
           "journal_title": "Phys.Rev.Lett.",
           "journal_volume": "127",
           "year": 2021
          },
          "title": {
           "title": "New Definition of the Neutrino Floor for Direct Dark Matter Searches"
          }
         }
        },
        {
         "raw_refs": [
          {
           "schema": "text",
           "source": "arXiv",
           "value": "[43] E. Aprile et al. (XENON), “Constraining the spin-dependent WIMP-nucleon cross sections with XENON1T,” Phys. Rev. Lett. 122, 141301 (2019), arXiv:1902.03234 [astro-ph.CO]"
          }
         ],
         "record": {
          "$ref": "https://inspirehep.net/api/literature/1719184"
         },
         "reference": {
          "arxiv_eprint": "1902.03234",
          "authors": [
           {
            "full_name": "Aprile, E."
           }
          ],
          "label": "43",
          "misc": [
           "(XENON)"
          ],
          "publication_info": {
           "artid": "141301",
           "journal_title": "Phys.Rev.Lett.",
           "journal_volume": "122",
           "year": 2019
          },
          "title": {
           "title": "Constraining the spin-dependent WIMP-nucleon cross sections with XENON1T"
          }
         }
        },
        {
         "raw_refs": [
          {
           "schema": "text",
           "source": "arXiv",
           "value": "[44] A. D. Sakharov, “Violation of CP Invariance, C asymmetry, and baryon asymmetry of the universe,” Pisma Zh. Eksp. Teor. Fiz. 5, 32–35 (1967)"
          }
         ],
         "record": {
          "$ref": "https://inspirehep.net/api/literature/51345"
         },
         "reference": {
          "authors": [
           {
            "full_name": "Sakharov, A.D."
           }
          ],
          "label": "44",
          "publication_info": {
           "journal_title": "Pisma Zh.Eksp.Teor.Fiz.",
           "journal_volume": "5",
           "page_end": "35",
           "page_start": "32",
           "year": 1967
          },
          "title": {
           "title": "Violation of CP Invariance, C asymmetry, and baryon asymmetry of the universe"
          }
         }
        },
        {
         "raw_refs": [
          {
           "schema": "text",
           "source": "arXiv",
           "value": "[45] Jose R. Espinosa, Thomas Konstandin, and Francesco Riva, “Strong Electroweak Phase Transitions in the Standard Model with a Singlet,” Nucl. Phys. B 854, 592–630 (2012), arXiv:1107.5441 [hep-ph]"
          }
         ],
         "record": {
          "$ref": "https://inspirehep.net/api/literature/920578"
         },
         "reference": {
          "arxiv_eprint": "1107.5441",
          "authors": [
           {
            "full_name": "Espinosa, Jose R."
           }
          ],
          "label": "45",
          "misc": [
           "Thomas Konstandin, and Francesco Riva"
          ],
          "publication_info": {
           "journal_title": "Nucl.Phys.B",
           "journal_volume": "854",
           "page_end": "630",
           "page_start": "592",
           "year": 2012
          },
          "title": {
           "title": "Strong Electroweak Phase Transitions in the Standard Model with a Singlet"
          }
         }
        },
        {
         "raw_refs": [
          {
           "schema": "text",
           "source": "arXiv",
           "value": "[46] Sidney R. Coleman, “The Fate of the False Vacuum. 1. Semiclassical Theory,” Phys. Rev. D 15, 2929–2936 (1977), [Erratum: Phys.Rev.D 16, 1248 (1977)]"
          }
         ],
         "record": {
          "$ref": "https://inspirehep.net/api/literature/118681"
         },
         "reference": {
          "authors": [
           {
            "full_name": "Coleman, Sidney R."
           }
          ],
          "label": "46",
          "publication_info": {
           "journal_title": "Phys.Rev.D",
           "journal_volume": "15",
           "page_end": "2936",
           "page_start": "2929",
           "year": 1977
          },
          "title": {
           "title": "The Fate of the False Vacuum. 1. Semiclassical Theory"
          }
         }
        },
        {
         "raw_refs": [
          {
           "schema": "text",
           "source": "arXiv",
           "value": "[46] Sidney R. Coleman, “The Fate of the False Vacuum. 1. Semiclassical Theory,” Phys. Rev. D 15, 2929–2936 (1977), [Erratum: Phys.Rev.D 16, 1248 (1977)]"
          }
         ],
         "record": {
          "$ref": "https://inspirehep.net/api/literature/118681"
         },
         "reference": {
          "authors": [
           {
            "full_name": "Coleman, Sidney R."
           }
          ],
          "label": "46",
          "misc": [
           "[Erratum:"
          ],
          "publication_info": {
           "artid": "1248",
           "journal_title": "Phys.Rev.D",
           "journal_volume": "16",
           "page_start": "1248",
           "year": 1977
          }
         }
        },
        {
         "raw_refs": [
          {
           "schema": "text",
           "source": "arXiv",
           "value": "[47] James M. Cline, Michael Joyce, and Kimmo Kainulainen, “Supersymmetric electroweak baryogenesis,” JHEP 07, 018 (2000), arXiv:hep-ph/0006119"
          }
         ],
         "record": {
          "$ref": "https://inspirehep.net/api/literature/528614"
         },
         "reference": {
          "arxiv_eprint": "hep-ph/0006119",
          "authors": [
           {
            "full_name": "Cline, James M."
           }
          ],
          "label": "47",
          "misc": [
           "Michael Joyce, and Kimmo Kainulainen",
           "arXiv:"
          ],
          "publication_info": {
           "artid": "018",
           "journal_title": "JHEP",
           "journal_volume": "07",
           "page_start": "018",
           "year": 2000
          },
          "title": {
           "title": "Supersymmetric electroweak baryogenesis"
          }
         }
        },
        {
         "raw_refs": [
          {
           "schema": "text",
           "source": "arXiv",
           "value": "[48] P. A. Zyla et al. (Particle Data Group), “Review of Particle Physics,” PTEP 2020, 083C01 (2020)"
          }
         ],
         "reference": {
          "authors": [
           {
            "full_name": "Zyla, P.A."
           }
          ],
          "label": "48",
          "misc": [
           "(Particle Data Group)",
           "1"
          ],
          "publication_info": {
           "artid": "083C",
           "journal_title": "PTEP",
           "journal_volume": "2020",
           "page_start": "083C",
           "year": 2020
          },
          "title": {
           "title": "Review of Particle Physics"
          }
         }
        },
        {
         "raw_refs": [
          {
           "schema": "text",
           "source": "arXiv",
           "value": "[49] Julian Calle, Diego Restrepo, and ´ Oscar Zapata, “Dirac neutrino mass generation from a majorana messenger,” Phys. Rev. D 101, 035004 (Feb 2020), https://link.aps.org/doi/ 10.1103/PhysRevD.101.035004"
          }
         ],
         "record": {
          "$ref": "https://inspirehep.net/api/literature/1755250"
         },
         "reference": {
          "dois": [
           "10.1103/PhysRevD.101.035004"
          ],
          "label": "49",
          "misc": [
           "Julian Calle, Diego Restrepo, and Óscar Zapata"
          ],
          "publication_info": {
           "artid": "035004",
           "journal_title": "Phys.Rev.D",
           "journal_volume": "101",
           "year": 2020
          },
          "title": {
           "title": "Dirac neutrino mass generation from a majorana messenger"
          },
          "urls": [
           {
            "value": "https://link.aps.org/doi/"
           }
          ]
         }
        },
        {
         "raw_refs": [
          {
           "schema": "text",
           "source": "arXiv",
           "value": "[50] Jeff A. Dror, Robert Lasenby, and Maxim Pospelov, “Dark forces coupled to nonconserved currents,” Phys. Rev. D 96, 075036 (2017), arXiv:1707.01503 [hep-ph]"
          }
         ],
         "record": {
          "$ref": "https://inspirehep.net/api/literature/1608877"
         },
         "reference": {
          "arxiv_eprint": "1707.01503",
          "authors": [
           {
            "full_name": "Dror, Jeff A."
           }
          ],
          "label": "50",
          "misc": [
           "Robert Lasenby, and Maxim Pospelov"
          ],
          "publication_info": {
           "artid": "075036",
           "journal_title": "Phys.Rev.D",
           "journal_volume": "96",
           "year": 2017
          },
          "title": {
           "title": "Dark forces coupled to nonconserved currents"
          }
         }
        },
        {
         "raw_refs": [
          {
           "schema": "text",
           "source": "arXiv",
           "value": "[51] Pavel Fileviez P´ erez, Elliot Golias, Rui-Hao Li, and Clara Murgui, “Leptophobic Dark Matter and the Baryon Number Violation Scale,” Phys. Rev. D 99, 035009 (2019), arXiv:1810.06646 [hep-ph]"
          }
         ],
         "record": {
          "$ref": "https://inspirehep.net/api/literature/1698964"
         },
         "reference": {
          "arxiv_eprint": "1810.06646",
          "label": "51",
          "misc": [
           "Pavel Fileviez Pérez, Elliot Golias, Rui-Hao Li, and Clara Murgui"
          ],
          "publication_info": {
           "artid": "035009",
           "journal_title": "Phys.Rev.D",
           "journal_volume": "99",
           "year": 2019
          },
          "title": {
           "title": "Leptophobic Dark Matter and the Baryon Number Violation Scale"
          }
         }
        },
        {
         "raw_refs": [
          {
           "schema": "text",
           "source": "arXiv",
           "value": "[52] Bogdan A. Dobrescu and Claudia Frugiuele, “Hidden GeV-scale interactions of quarks,” Phys. Rev. Lett. 113, 061801 (2014), arXiv:1404.3947 [hep-ph]"
          }
         ],
         "record": {
          "$ref": "https://inspirehep.net/api/literature/1290541"
         },
         "reference": {
          "arxiv_eprint": "1404.3947",
          "authors": [
           {
            "full_name": "Dobrescu, Bogdan A."
           }
          ],
          "label": "52",
          "misc": [
           "and Claudia Frugiuele"
          ],
          "publication_info": {
           "artid": "061801",
           "journal_title": "Phys.Rev.Lett.",
           "journal_volume": "113",
           "year": 2014
          },
          "title": {
           "title": "Hidden GeV-scale interactions of quarks"
          }
         }
        }
       ],
       "texkeys": [
        "Restrepo:2022cpq"
       ],
       "titles": [
        {
         "source": "arXiv",
         "title": "Dirac dark matter, neutrino masses, and dark baryogenesis"
        }
       ]
      },
      "text/plain": [
       "<IPython.core.display.JSON object>"
      ]
     },
     "execution_count": 19,
     "metadata": {
      "application/json": {
       "expanded": false,
       "root": "root"
      }
     },
     "output_type": "execute_result"
    }
   ],
   "source": [
    "JSON(r.json().get('metadata'))"
   ]
  },
  {
   "cell_type": "code",
   "execution_count": 45,
   "id": "b429c2a4-d261-4af5-b880-f25b697a3023",
   "metadata": {},
   "outputs": [],
   "source": [
    "import requests"
   ]
  },
  {
   "cell_type": "code",
   "execution_count": null,
   "id": "3f0bc437-5d6d-47c2-bb09-ec51451d40c9",
   "metadata": {},
   "outputs": [],
   "source": [
    "Can be exported to JSON or Excel"
   ]
  },
  {
   "cell_type": "code",
   "execution_count": null,
   "id": "c1d944f3-d8d1-4a1d-9819-34f72e91aa3b",
   "metadata": {},
   "outputs": [],
   "source": []
  }
 ],
 "metadata": {
  "kernelspec": {
   "display_name": "Python 3 (ipykernel)",
   "language": "python",
   "name": "python3"
  },
  "language_info": {
   "codemirror_mode": {
    "name": "ipython",
    "version": 3
   },
   "file_extension": ".py",
   "mimetype": "text/x-python",
   "name": "python",
   "nbconvert_exporter": "python",
   "pygments_lexer": "ipython3",
   "version": "3.9.2"
  }
 },
 "nbformat": 4,
 "nbformat_minor": 5
}
