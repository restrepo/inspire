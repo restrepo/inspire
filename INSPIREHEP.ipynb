{
 "cells": [
  {
   "cell_type": "markdown",
   "id": "fbc9f311-316c-46c5-b86b-8d826e79539a",
   "metadata": {
    "tags": []
   },
   "source": [
    "# Construction of JSON object Authors from INSPIRE-HEP\n",
    "<img src=\"https://raw.githubusercontent.com/restrepo/inspire/master/img/authors.svg\" width=700>"
   ]
  },
  {
   "cell_type": "markdown",
   "id": "de99f801-177d-4744-9d18-8af2cf7b55bd",
   "metadata": {},
   "source": [
    "## Design of the object-oriented alghorithm\n",
    "each object must be initialized with the relevant part of the JSON from the INSPIRE-HEP api, and must has a method to obtain the relevant part of the \"author\" object.\n",
    "\n",
    "For example. The basic class must be `profile` and the input must be the JSON, `p`, from the profile API response\n",
    "```\n",
    ">>> au=profile(p)\n",
    ">>> au.get_author()\n",
    "```\n",
    "`au` has the attributes according to the previous scheme"
   ]
  },
  {
   "cell_type": "code",
   "execution_count": 1,
   "id": "8eccbafc-f3b4-42e7-ad0d-764755fe0411",
   "metadata": {},
   "outputs": [],
   "source": [
    "import pandas as pd\n",
    "import sys\n",
    "from IPython.display import JSON\n",
    "import pickle"
   ]
  },
  {
   "cell_type": "code",
   "execution_count": 2,
   "id": "01be3c96-0ec9-49bf-8325-3cd811349cf1",
   "metadata": {},
   "outputs": [],
   "source": [
    "import json\n",
    "import requests\n",
    "import time\n",
    "import copy\n",
    "#https://towardsdatascience.com/do-not-use-if-else-for-validating-data-objects-in-python-anymore-17203e1d65fe\n",
    "from cerberus import Validator\n",
    "import pycountry\n",
    "\n",
    "global timeout\n",
    "timeout=5\n",
    "global countries\n",
    "countries=[x.name for x in pycountry.countries]\n",
    "\n",
    "global _excluded_keys\n",
    "_excluded_keys=['get_author','author','sample_profile','schema_profile','to_dict','to_json',\n",
    "               'get_authors','db','sample_author', 'schema_author', 'sleep','profile',\n",
    "                'sample_work', 'schema_work', 'work',\n",
    "               'institutions_list', 'literature_size','not_collaboration','q', 'q_inst', 'size', 'size_inst', 'work_list',\n",
    "               'cache','cacheco','institution_ids']\n",
    "\n",
    "class empty_json:\n",
    "    status_code=0\n",
    "    def json(self):\n",
    "        return {}\n",
    "\n",
    "class profile:\n",
    "    #Default behaviour: if key exists must be 'type'\n",
    "    schema_profile={\"name\":{'type':'dict','required':True},\n",
    "            \"email_addresses\":{'type':'list'},\n",
    "            \"positions\":{'type':'list'},\n",
    "            \"ids\":{'type':'list'},\n",
    "            }        \n",
    "    sample_profile={\"advisors\":[{\"ids\":[{\"value\":\"INSPIRE-00133260\",\n",
    "                                    \"schema\":\"INSPIRE ID\"}],\n",
    "                \"name\":\"Valle, Jose W.F.\",\n",
    "                \"hidden\":False,\n",
    "                \"record\":{\"$ref\":\"https://inspirehep.net/api/authors/985058\"},\n",
    "                \"degree_type\":\"phd\",\"curated_relation\":False},\n",
    "               {\"name\":\"Ponce, William A.\",\"hidden\":False,\n",
    "                \"degree_type\":\"master\",\n",
    "                \"curated_relation\":False}],\n",
    "                \"email_addresses\":[{\"value\":\"restrepo@udea.edu.co\",\"current\":True}],\n",
    "    \"positions\":[{\"rank\":\"SENIOR\",\n",
    "                  \"hidden\":False,\n",
    "                  \"record\":{\"$ref\":\"https://inspirehep.net/api/institutions/903906\"},\n",
    "                  \"current\":True,\n",
    "                  \"start_date\":\"2004\",\n",
    "                  \"institution\":\"Antioquia U.\",\n",
    "                  \"curated_relation\":True},\n",
    "                 {\"rank\":\"PHD\",\n",
    "                  \"hidden\":False,\n",
    "                  \"record\":{\"$ref\":\"https://inspirehep.net/api/institutions/907907\"},\n",
    "                  \"current\":False,\n",
    "                  \"end_date\":\"2001\",\"start_date\":\"1997\",\n",
    "                  \"institution\":\"Valencia U., IFIC\",\"curated_relation\":True}],\n",
    "    \"ids\":[{\"value\":\"D.Restrepo.1\",\"schema\":\"INSPIRE BAI\"},\n",
    "           {\"value\":\"INSPIRE-00119748\",\"schema\":\"INSPIRE ID\"},\n",
    "           {\"value\":\"0000-0001-6455-5564\",\"schema\":\"ORCID\"},\n",
    "           {\"value\":\"diego-restrepo-209b7927\",\"schema\":\"LINKEDIN\"}],\n",
    "    \"name\":{\"value\":\"Restrepo Quintero, Diego Alejandro\",\n",
    "            \"preferred_name\":\"Diego Restrepo\"},\n",
    "    \"stub\":False,\n",
    "    \"urls\":[{\"value\":\"http://gfif.udea.edu.co\"},\n",
    "            {\"value\":\"https://scholar.google.com/citations?user=1sKULCoAAAAJ\"},\n",
    "            {\"value\":\"https://www.researchgate.net/profile/Diego_Restrepo2\"}],\n",
    "    \"status\":\"active\",\n",
    "    \"$schema\":\"https://inspirehep.net/schemas/records/authors.json\",\n",
    "    \"deleted\":False,\n",
    "    \"control_number\":991924,\n",
    "    \"legacy_version\":\"20210323213044.0\",\n",
    "    \"arxiv_categories\":[\"hep-ph\"],\n",
    "    \"legacy_creation_date\":\"1999-08-23\"}\n",
    "    def __init__(self,p):\n",
    "        if p:\n",
    "            v=Validator(self.schema_profile,allow_unknown=True)\n",
    "            if not v.validate(p):\n",
    "                raise Exception(f'''\n",
    "                    Input is not an INSPIRE-HEP profile dictionary:\n",
    "                    {v.errors}                    \n",
    "                    See `self.sample_profile`'''\n",
    "                               )\n",
    "        self.profile=p\n",
    "            \n",
    "    def get_author(self):\n",
    "        '''\n",
    "        Select:\n",
    "        * current position\n",
    "        * non-INSPIRE ids\n",
    "        * name\n",
    "        * control_number\n",
    "        * arxiv_categories\n",
    "        '''        \n",
    "        if not hasattr(self,'profile'):\n",
    "            return {}\n",
    "        p=self.profile\n",
    "        self.name=p.get('name')\n",
    "        self.positions=p.get('positions')\n",
    "        self.email_addresses=p.get('email_addresses')\n",
    "        self.ids=p.get('ids')\n",
    "        \n",
    "        return self\n",
    "    def to_dict(self):\n",
    "        l=[]\n",
    "        for x in dir(self):\n",
    "            if x.find('__')==-1 and x not in _excluded_keys:\n",
    "                l.append((x,eval( f'self.{x}')) )\n",
    "        return dict(l)\n",
    "        #return dict( [(x,eval( f'self.{x}')) for x in dir(self) \n",
    "        #  if x.find('__')==-1 and x not in _excluded_keys] )\n",
    "    \n",
    "class author(profile):\n",
    "    sleep=0.4\n",
    "    #`ids → [{\"schema\": \"INSPIRE BAI\"}]` required for author_id\n",
    "    #`affiliations → [{...}] required for institution_id\n",
    "    schema_author={\"ids\": {'type':'list',\n",
    "                           'schema':{'type':'dict',\n",
    "                                     'schema':{'schema':{'type':'string'},\n",
    "                                               'value': {'type':'string'}\n",
    "                                              }\n",
    "                                    }\n",
    "                          }, \n",
    "            \"record\":{'type':'dict'}, \n",
    "            \"full_name\": {'type':'string'}, \n",
    "            \"affiliations\":{'type':'list',\n",
    "                           'schema':{'type':'dict','required':True}}\n",
    "           }\n",
    "    sample_author={\"ids\":[{\"value\": \"D.Restrepo.1\", \n",
    "                            \"schema\": \"INSPIRE BAI\"}\n",
    "                          ], \n",
    "                   \"uuid\": \"300c9b2c-15b0-4937-ad36-8ccff33fd09d\", \n",
    "                   \"emails\": [\"restrepo@udea.edu.co\"], \n",
    "                   \"record\": {\"$ref\": \"https://inspirehep.net/api/authors/991924\"}, \n",
    "                   \"full_name\": \"Restrepo, Diego\", \n",
    "                   \"affiliations\": [{\"value\": \"Antioquia U.\", \n",
    "                                     \"record\": {\"$ref\": \"https://inspirehep.net/api/institutions/903906\"}},\n",
    "                                   {\"value\":\"Campinas State U.\",\n",
    "                                    \"record\":{\"$ref\":\"https://inspirehep.net/api/institutions/902714\"}}], \n",
    "                   \"signature_block\": \"RASTRAPd\", \n",
    "                   \"raw_affiliations\": [{\"value\": \"Instituto de Física, Universidad de Antioquia, Calle 70 No 52-21, Medellín, Colombia\"}, \n",
    "                                        {\"value\": \"Instituto de Física Gleb Wataghin, UNICAMP, 13083-859, Campinas, SP, Brazil\"}]}\n",
    "    def __init__(self,a,db=[]):\n",
    "        self.author=a\n",
    "        self.db=db\n",
    "        if a:\n",
    "            v=Validator(self.schema_author,allow_unknown=True)\n",
    "            if not v.validate(a):\n",
    "                raise Exception(f'''\n",
    "                    Input is not an INSPIRE-HEP author dictionary:\n",
    "                    {v.errors}\n",
    "                    See `self.sample_author`''')\n",
    "        #if not hasattr(self,'cache'):\n",
    "        #    self.cache={}\n",
    "        #if not hasattr(self,'cachecho'):\n",
    "        #    self.cacheco={}                        \n",
    "        #super(author, self).__init__(p)\n",
    "    def get_authors(self):\n",
    "        #TODO: Check previous analysis for more metadata\n",
    "        #use requests\n",
    "        a=self.author\n",
    "        r=empty_json()\n",
    "        self.full_name=a.get('full_name')\n",
    "        try:\n",
    "            self.author_id=[i for i  in a.get('ids') if i.get('schema')=='INSPIRE BAI'\n",
    "                  ][0].get('value')\n",
    "        except:\n",
    "            self.author_id=None\n",
    "\n",
    "        #a.get('affiliations') is not always there\n",
    "        try:\n",
    "            affiliations=[dict([(k,d.get(k)) for k in d if k in ['value','record']]) \n",
    "                               for d in a.get('affiliations') ]\n",
    "        except TypeError:\n",
    "            affiliations=[]\n",
    "            \n",
    "        #Profile\n",
    "        try:\n",
    "            url=a.get('record').get(\"$ref\")\n",
    "        except AttributeError:\n",
    "            url=''\n",
    "        if url and isinstance(url,str):\n",
    "            self.profile_id=url.split('/')[-1]\n",
    "            r=empty_json()\n",
    "            try:\n",
    "                r=requests.get(url,timeout=timeout)\n",
    "                time.sleep(self.sleep)\n",
    "            except:\n",
    "                r.status_code=-1\n",
    "        if r.status_code==200:\n",
    "            p=r.json().get('metadata')\n",
    "        else:\n",
    "            p={}#{'status_code':r.status_code}\n",
    "            #return self.db #author without affilitions are not considered\n",
    "            \n",
    "        #We assume that the affilition is defined at least for\n",
    "        #one of the authors of the paper\n",
    "        #Authos without affiliations to get their institution are not considered\n",
    "        super(author, self).__init__(p)             \n",
    "        d=super(author, self).get_author() #→ self.profile\n",
    "        if self.author_id is None:\n",
    "            try:\n",
    "                self.author_id=[i for i  in self.profile.get('ids') if i.get('schema')=='INSPIRE BAI'\n",
    "                  ][0].get('value')\n",
    "            except:\n",
    "                self.author_id=None            \n",
    "            \n",
    "        \n",
    "        #self.to_dict=super(author, self).to_dict\n",
    "        ll=[x for x in self.db if hasattr(x,'author_id') and hasattr(x,'institution_id')]\n",
    "        #self.db[i] affiliation not in affiliation are not touched\n",
    "        self.institution=''\n",
    "        self.institution_id=None\n",
    "        self.institution_ids=[]\n",
    "        for aff in affiliations:\n",
    "            #We assumme that aff have at least the institution infomation\n",
    "            self.institution=aff.get('value')\n",
    "            if not self.institution:\n",
    "                self.institution_id=None\n",
    "                self.country=None\n",
    "                continue\n",
    "            try:\n",
    "                aff_url=aff.get('record').get('$ref')            \n",
    "                self.institution_id=aff_url.split('/')[-1]\n",
    "                self.institution_ids.append(self.institution_id)\n",
    "                #self.cache[self.institution]=self.institution_id\n",
    "            except AttributeError:\n",
    "                self.institution_id=None#self.cache.get(self.institution) #None if not key\n",
    "                aff_url=None\n",
    "            \n",
    "            #if self.cacheco.get(self.institution):\n",
    "            #    self.country=self.cacheco.get(self.institution)\n",
    "            self.country=None\n",
    "            if aff_url:\n",
    "                rr=empty_json()\n",
    "                try:\n",
    "                    rr=requests.get(aff_url,timeout=timeout)\n",
    "                    time.sleep(self.sleep)\n",
    "                except:\n",
    "                    rr.status_code=-1\n",
    "                if rr.status_code==200:\n",
    "                    try:\n",
    "                        self.country=rr.json().get('metadata').get('addresses')[0].get('country')\n",
    "                        #if self.country:\n",
    "                        #    self.cacheco[self.institution]=self.country\n",
    "                    except:\n",
    "                        self.country=None\n",
    "            else:\n",
    "                self.country=None\n",
    "                \n",
    "            \n",
    "            filtered_db=[x for x in ll if x.author_id==self.author_id \n",
    "                         and x.institution_id==self.institution_id]\n",
    "            if filtered_db:\n",
    "                au=filtered_db[0] #must be unique!\n",
    "            else: #aff not in self.db → New affiliation\n",
    "                ai=copy.copy(self)#deepcopy(self)\n",
    "                self.db.append(ai)\n",
    "                del ai #be sure that ai will not be modified\n",
    "        return self.db\n",
    "    def to_json(self):\n",
    "        return [d.to_dict() for d in self.db]\n",
    "        \n",
    "class work(author):\n",
    "    schema_work={'citation_count':{'type':'integer'},\n",
    "            'control_number':{'type':'integer','required':True},\n",
    "            'primary_arxiv_category':{'type':'list'},\n",
    "            'preprint_data':{'type':'string'},\n",
    "            'legacy_creation_date':{'type':'string'}\n",
    "            }\n",
    "    def __init__(self,w,db=[]):\n",
    "        self.sample_work={'citation_count': 0,\n",
    "                          'control_number':2080612,\n",
    "                          'publication_info':[\n",
    "                                              {'year':2022,\n",
    "                                              'journal_record': {'$ref': 'https://inspirehep.net/api/journals/1613946'}\n",
    "                                              }\n",
    "                                             ],\n",
    "                          'primary_arxiv_category':['hep-ph'],\n",
    "                          'authors':[self.sample_author]#publication_info,preprint_date,legacy_creation_date\n",
    "                                }\n",
    "        if w:\n",
    "            v=Validator(self.schema_work,allow_unknown=True)\n",
    "            if not v.validate(w):\n",
    "                raise Exception(f'''\n",
    "                    Input is not an INSPIRE-HEP work dictionary:\n",
    "                    {v.errors}\n",
    "                    See `self.sample_work`''')\n",
    "        \n",
    "        self.db=db\n",
    "        self.work=w\n",
    "    def get_authors(self):\n",
    "        '''\n",
    "        l: list of author objects\n",
    "        '''\n",
    "        l=self.work\n",
    "        print(l.get('control_number'),end='\\r')\n",
    "        #TODO: Check previous analysis for more metadata\n",
    "        primary_arxiv_category=l.get('primary_arxiv_category')\n",
    "        if not primary_arxiv_category:\n",
    "            try:\n",
    "                primary_arxiv_category=l.get('arxiv_eprints')[0].get('categories')\n",
    "            except TypeError:\n",
    "                primary_arxiv_category=[]\n",
    "        #if not primary_arxiv_category:\n",
    "        #    primary_arxiv_category=[]\n",
    "        try:\n",
    "            journal_id=l.get('publication_info')[0].get('journal_record'\n",
    "                                    ).get('$ref').split('/')[-1]\n",
    "        except:\n",
    "            journal_id='None'\n",
    "\n",
    "        try:\n",
    "            year=str(l.get('publication_info')[0].get('year')) #scheme validate\n",
    "        except TypeError:\n",
    "            year=0\n",
    "        if not year:\n",
    "            try:\n",
    "                year=l.get('preprint_date').split('-')[0]\n",
    "            except:\n",
    "                year=0\n",
    "        if not year:\n",
    "            try:\n",
    "                year=l.get('legacy_creation_date').split('-')[0]\n",
    "            except:\n",
    "                year=0\n",
    "        if not year:\n",
    "                year='0000'\n",
    "        #'inst_id':aff_id\n",
    "        paper={'recid':l.get('control_number'),'year':year,\n",
    "               'citation_count':l.get('citation_count'),\n",
    "               'primary_arxiv_category':primary_arxiv_category,\n",
    "               'journal_id':journal_id}\n",
    "        #In update\n",
    "        #'primary_arxiv_category':primary_arxiv_category\n",
    "        #super(work, self).__init__(w.get('authors')[0])\n",
    "               \n",
    "        aus=l.get('authors')\n",
    "        for a in aus: #same self.author_id but several institute_ids for several affiliations\n",
    "            super(work, self).__init__(a,self.db)\n",
    "            super(work, self).get_authors() #add and replace self attributes → author*..., institution*..\n",
    "            paper['author_id']=self.author_id\n",
    "            #Each d object keeps its RAM memory space independent of reasignation list from db to adb\n",
    "            adb=[d for d in self.db if d.author_id==self.author_id]\n",
    "\n",
    "            papers=[]\n",
    "            for d in adb:\n",
    "                if hasattr(d,'papers'):\n",
    "                    papers=d.papers\n",
    "                    break #found papers for self.author_id\n",
    "            for d in adb:\n",
    "                d.papers=papers #reatach papers if already have\n",
    "                if not self.institution_ids:\n",
    "                    self.institution_ids.append(None)\n",
    "                for iid in self.institution_ids: #creates a paper per affiliation\n",
    "                    paper['instituion_id']=iid\n",
    "                    if paper not in d.papers:\n",
    "                        #detach from RAM!\n",
    "                        cppaper=copy.copy(paper)\n",
    "                        d.papers.append(cppaper)\n",
    "                        del cppaper\n",
    "            #break                \n",
    "        return self.db     \n",
    "\n",
    "class literature(work):\n",
    "    def __init__(self,q,db=[],size=25):\n",
    "        self.q=q\n",
    "        self.db=db\n",
    "        self.size=size\n",
    "        print(f'*** {len(self.db)}***')\n",
    "    def get_authors(self):\n",
    "        NEXT=True\n",
    "        i=0\n",
    "        while NEXT:\n",
    "            if i==0:\n",
    "                url=f'https://inspirehep.net/api/literature?size={self.size}&page=1&q={self.q}'\n",
    "            r=empty_json()\n",
    "            try:\n",
    "                r=requests.get(url,timeout=timeout)\n",
    "                time.sleep(self.sleep)\n",
    "            except:\n",
    "                r.status_code=-1\n",
    "            if r.status_code!=200:\n",
    "                print(f'WARNING → bad request for q={self.q}')\n",
    "                return self.db\n",
    "            try:\n",
    "                self.work_list=r.json().get('hits').get('hits')\n",
    "            except:\n",
    "                print(f'WARNING → bad request for q={self.q}')\n",
    "                return self.db\n",
    "            #We assume here that r.json().get('links') exists\n",
    "            if r.json().get('links').get('next'):\n",
    "                url=r.json().get('links').get('next')\n",
    "            else:\n",
    "                NEXT=False\n",
    "            #An exisiting db is updated against this query. Check old recids:\n",
    "            t=[[p.get('recid') for p in d.papers if isinstance(p.get('recid'),int)] for d in self.db]\n",
    "            tt=list(set([item for sublist in t for item in sublist if item is not None]))\n",
    "            for l in self.work_list:\n",
    "                w=l.get('metadata')\n",
    "                if w.get('control_number') in tt:\n",
    "                    print(f'WARNING: {w.get(\"control_number\")} already analized',end='\\r')\n",
    "                    continue\n",
    "                #else:\n",
    "                #    print(f'new → {w.get(\"control_number\")}')\n",
    "                    \n",
    "                super(literature, self).__init__(w,self.db)\n",
    "                super(literature, self).get_authors() #add and replace self attributes → author*..., institution*..\n",
    "            #EMERGENCY EXIT: We assume here that r.json().get('total') exists\n",
    "            if i>r.json().get('hits').get('total')//self.size+1:\n",
    "                NEXT=False\n",
    "            i+=1\n",
    "        return self.db\n",
    "    \n",
    "class institutions(literature):\n",
    "    def __init__(self,q,db=[],not_collaboration=True,size=25,literature_size=25):\n",
    "        self.q_inst=q\n",
    "        self.db=db\n",
    "        self.size_inst=size\n",
    "        self.literature_size=literature_size\n",
    "        self.not_collaboration=not_collaboration\n",
    "    def get_authors(self):\n",
    "        if self.not_collaboration:\n",
    "            ac='ac 1->10'\n",
    "        else:\n",
    "            ac=''\n",
    "        NEXT=True\n",
    "        i=0\n",
    "        while NEXT:\n",
    "            if i==0:\n",
    "                #TODO: add author number restriction\n",
    "                url=f'https://inspirehep.net/api/institutions/?q={self.q_inst}&size={self.size_inst}&page=1'\n",
    "            r=empty_json()\n",
    "            try:\n",
    "                r=requests.get(url,timeout=timeout)\n",
    "                time.sleep(self.sleep)        \n",
    "            except:\n",
    "                r.status_code=-1\n",
    "            if r.status_code!=200:\n",
    "                print(f'WARNING → bad request for q={self.q_inst}')\n",
    "                return self.db\n",
    "            try:\n",
    "                self.institutions_list=r.json().get('hits').get('hits')\n",
    "            except:\n",
    "                print(f'WARNING → bad request for q={self.q_inst}')\n",
    "                return self.db\n",
    "            #We assume from here that r.json() is just OK\n",
    "            links=r.json().get('links')\n",
    "            total=r.json().get('hits').get('total')\n",
    "            COUNTRY=False\n",
    "            if self.q_inst in countries:\n",
    "                COUNTRY=True\n",
    "            #get aff_legacy name and aff realy belongs to country: https://stackoverflow.com/a/46249796\n",
    "            #fix q=aff_legacy\n",
    "            for ist in self.institutions_list:\n",
    "                if COUNTRY:\n",
    "                    try:\n",
    "                        country=ist.get('metadata').get('addresses')[0].get('country')\n",
    "                    except:\n",
    "                        country=''\n",
    "                    if self.q_inst!=country:\n",
    "                        print(f'WARNING: affiliation is in {country}, not in {self.q_inst}')\n",
    "                        continue\n",
    "                    else:\n",
    "                        self.country=country #if the extraction of affiliation fails\n",
    "                aff=ist.get('metadata').get('control_number')#('legacy_ICN')\n",
    "                #TODO: check old code for encoding\n",
    "                q_aff=f'affid:{aff}'\n",
    "                if ac:\n",
    "                    q_aff=f'{q_aff} and {ac}'\n",
    "                print(q_aff,'\\r')                                    \n",
    "                #q_aff=requests.utils.quote(q_aff)\n",
    "                super(institutions, self).__init__(q_aff,self.db,size=self.literature_size) #WARNING → self.q and self.size produced\n",
    "                super(institutions, self).get_authors() #add and replace self attributes → author*..., institution*..\n",
    "            #We assume here that r.json().get('links') exists\n",
    "            if links.get('next'):\n",
    "                url=links.get('next')\n",
    "            else:\n",
    "                NEXT=False\n",
    "            #EMERGENCY EXIT: We assume here that r.json().get('total') exists\n",
    "            if i > total//self.size_inst+1:\n",
    "                NEXT=False\n",
    "            i+=1\n",
    "            print(f'page: {i} of {total-1} → {url}')            \n",
    "        return self.db "
   ]
  },
  {
   "cell_type": "markdown",
   "id": "304a8a56-e0ee-4213-af0c-b2007de2e309",
   "metadata": {},
   "source": [
    "## Tests"
   ]
  },
  {
   "cell_type": "code",
   "execution_count": 4,
   "id": "7ae5cbf5-8c83-4b06-9494-fd8b27b7e323",
   "metadata": {},
   "outputs": [],
   "source": [
    "au=profile({})\n",
    "p=au.sample_profile\n",
    "au=profile(p)\n",
    "P=au.get_author()\n",
    "assert P.name.get('value') =='Restrepo Quintero, Diego Alejandro'\n",
    "assert au.name.get('value')=='Restrepo Quintero, Diego Alejandro'\n",
    "assert au.to_dict().get('name').get('value')=='Restrepo Quintero, Diego Alejandro'"
   ]
  },
  {
   "cell_type": "code",
   "execution_count": 5,
   "id": "d33ed488-50dc-49f9-8a45-a4a31e0c81ec",
   "metadata": {},
   "outputs": [],
   "source": [
    "AU=author({})\n",
    "a=AU.sample_author\n",
    "AU=author(a,db=[])\n",
    "db=AU.get_authors()\n",
    "au=db[0]\n",
    "assert au.profile_id=='991924'\n",
    "assert au.author_id =='D.Restrepo.1'\n",
    "assert au.email_addresses[0]['value']=='restrepo@udea.edu.co'\n",
    "assert au.full_name=='Restrepo, Diego'\n",
    "assert [ d.get('value') for d in au.ids if d.get('schema')=='ORCID'\n",
    "   ][0]=='0000-0001-6455-5564'\n",
    "assert au.institution=='Antioquia U.'\n",
    "assert au.institution_id=='903906'\n",
    "assert au.name.get('value')=='Restrepo Quintero, Diego Alejandro'\n",
    "assert au.positions[0].get('rank')=='SENIOR'\n",
    "assert db[1].institution=='Campinas State U.'\n",
    "assert db[1].profile_id==db[0].profile_id\n",
    "#add a third value to db\n",
    "new_au=copy.copy(db[0])\n",
    "new_au.profile_id='991925'\n",
    "db.append(new_au)\n",
    "del new_au\n",
    "AU=author(a,db) #TODO →Check update scenarios\n",
    "ll=AU.get_authors()\n",
    "assert ll[2].profile_id=='991925'\n",
    "assert AU.to_json()[1].get('institution')=='Campinas State U.'\n",
    "assert AU.to_json()[0].get('profile_id')==AU.to_json()[1].get('profile_id')"
   ]
  },
  {
   "cell_type": "code",
   "execution_count": 6,
   "id": "be8d6e42-09eb-4fa5-bfec-caeb1184ffae",
   "metadata": {},
   "outputs": [
    {
     "name": "stdout",
     "output_type": "stream",
     "text": [
      "2080612\r"
     ]
    }
   ],
   "source": [
    "W=work({})\n",
    "w=W.sample_work\n",
    "W=work(w)\n",
    "db=W.get_authors()\n",
    "assert db[1].papers[0]['recid']==2080612\n",
    "W=work(w,db)\n",
    "db=W.get_authors()\n",
    "assert len(db)==2\n",
    "assert W.to_json()[1].get('papers')[0]['recid']==2080612\n",
    "assert W.to_json()[1].get('papers')[0]['journal_id']=='1613946'"
   ]
  },
  {
   "cell_type": "code",
   "execution_count": 7,
   "id": "f34c9785-82a2-4948-8fc3-9311e279c3a9",
   "metadata": {},
   "outputs": [
    {
     "name": "stdout",
     "output_type": "stream",
     "text": [
      "1904961\r"
     ]
    }
   ],
   "source": [
    "f=open('data/work.json','r')\n",
    "w=json.load(f)\n",
    "f.close()\n",
    "W=work(w,[])\n",
    "db=W.get_authors()\n",
    "assert len(db[0].papers)==1 and db[0].papers[0].get('author_id')=='N.Bernal.1'\n",
    "assert len(db[1].papers)==1 and db[1].papers[0].get('author_id')=='D.Restrepo.1'\n",
    "assert len(W.to_json()[0].get('papers'))==1 and W.to_json()[0].get('papers')[0].get('author_id')=='N.Bernal.1'\n",
    "assert len(W.to_json()[1].get('papers'))==1 and W.to_json()[1].get('papers')[0].get('author_id')=='D.Restrepo.1'"
   ]
  },
  {
   "cell_type": "code",
   "execution_count": 8,
   "id": "914a5667-7f88-4d7c-8a51-20f96b0172c0",
   "metadata": {},
   "outputs": [
    {
     "name": "stdout",
     "output_type": "stream",
     "text": [
      "1904961\r"
     ]
    }
   ],
   "source": [
    "#db is update only if necessary\n",
    "W=work(w,db)\n",
    "db=W.get_authors()\n",
    "assert len(db[0].papers)==1 and db[0].papers[0].get('author_id')=='N.Bernal.1'\n",
    "assert len(db[1].papers)==1 and db[1].papers[0].get('author_id')=='D.Restrepo.1'\n",
    "assert len(W.to_json()[0].get('papers'))==1 and W.to_json()[0].get('papers')[0].get('author_id')=='N.Bernal.1'\n",
    "assert len(W.to_json()[1].get('papers'))==1 and W.to_json()[1].get('papers')[0].get('author_id')=='D.Restrepo.1'"
   ]
  },
  {
   "cell_type": "code",
   "execution_count": 9,
   "id": "e95f563d-3f0a-46aa-adce-2352beca1b00",
   "metadata": {},
   "outputs": [
    {
     "name": "stdout",
     "output_type": "stream",
     "text": [
      "2080612\r"
     ]
    }
   ],
   "source": [
    "#db only updated with new papers\n",
    "w=W.sample_work\n",
    "for i in range(2):\n",
    "    W=work(w,db)\n",
    "    db=W.get_authors()\n",
    "    assert len(db[1].papers)==3\n",
    "    assert len( W.to_json()[1].get('papers') )==3"
   ]
  },
  {
   "cell_type": "markdown",
   "id": "1000aaa8-1309-45fb-8292-92e4612ead86",
   "metadata": {},
   "source": [
    "test with author without profile"
   ]
  },
  {
   "cell_type": "code",
   "execution_count": 10,
   "id": "f587fb54-4fca-4be1-8eef-28d2ecd6cfb5",
   "metadata": {},
   "outputs": [],
   "source": [
    "a={\"full_name\":\"Terezón, Brisa\",\n",
    "   \"affiliations\":[{\"record\":{\"$ref\":\"https://inspirehep.net/api/institutions/907440\"},\n",
    "                    \"value\":\"El Salvador U.\"}],\n",
    "   \"ids\":[{\"schema\":\"INSPIRE BAI\",\"value\":\"B.Terezon.1\"}]\n",
    "  }\n",
    "A=author(a)\n",
    "A.get_authors()\n",
    "assert A.db[0].author_id=='B.Terezon.1'\n",
    "assert A.db[0].institution_id=='907440'\n",
    "assert A.to_json()[0].get('author_id')=='B.Terezon.1'\n",
    "assert A.to_json()[0].get('institution_id')=='907440'"
   ]
  },
  {
   "cell_type": "markdown",
   "id": "eed9a0be-f1d3-4c15-bd86-fcaf603de242",
   "metadata": {},
   "source": [
    "### Test large author:"
   ]
  },
  {
   "cell_type": "code",
   "execution_count": 26,
   "id": "ad41c8a6-5aed-43ad-9d8c-9c332e945400",
   "metadata": {},
   "outputs": [],
   "source": [
    "TEST=False #Very slow test\n",
    "if TEST:\n",
    "    db=[]\n",
    "    U=literature('ea L.Tomio.1 and ac 1->10',db,size=250)\n",
    "    db=U.get_authors()\n",
    "\n",
    "    kk=[d for d in  U.db if d.author_id=='L.Tomio.1'][0]\n",
    "    papers=kk.papers\n",
    "\n",
    "    assert len([p for p in papers if p.get('recid')==1966593 and \n",
    "                                       p.get('author_id')=='L.Tomio.1'])==1"
   ]
  },
  {
   "cell_type": "markdown",
   "id": "34e6befb-c222-47f0-9ece-319b95ed2d85",
   "metadata": {},
   "source": [
    "### Test large institution"
   ]
  },
  {
   "cell_type": "code",
   "execution_count": 32,
   "id": "d671abbb-bf2e-45ec-b857-e5f25b6eb462",
   "metadata": {},
   "outputs": [],
   "source": [
    "TEST=False\n",
    "if TEST:\n",
    "    db=[]\n",
    "    U=literature('affid:907598 and ac 1->10',db,size=250)\n",
    "    db=U.get_authors()\n",
    "\n",
    "    db=pd.DataFrame( U.to_json() )\n",
    "\n",
    "    db['N']=db.papers.apply(len)\n",
    "\n",
    "    db=db.sort_values('N',ascending=False).iloc[1]\n",
    "\n",
    "    pd.DataFrame(db.papers).drop_duplicates(subset=['recid']).shape\n",
    "\n",
    "    dp=pd.DataFrame(db.papers)\n",
    "    #dp[dp.recid==1966593]\n",
    "    dp.recid.value_counts()"
   ]
  },
  {
   "cell_type": "markdown",
   "id": "8ce0614c-0bb9-4b2b-bc6d-fb7eaaad249b",
   "metadata": {},
   "source": [
    "## Latin America Countries"
   ]
  },
  {
   "cell_type": "code",
   "execution_count": 3,
   "id": "2652184f-6522-4c9a-b5e6-c0a79d431c1f",
   "metadata": {},
   "outputs": [],
   "source": [
    "LA_countries=['Brazil', 'Mexico', 'Argentina','Chile', 'Colombia','Bolivia','Cuba', #5\n",
    "              'Costa Rica', 'Ecuador', 'El Salvador', 'Guatemala', 'Honduras', #10\n",
    "               'Nicaragua', 'Panama', 'Paraguay', 'Peru', #15\n",
    "              'Dominican Republic','Uruguay','Venezuela']"
   ]
  },
  {
   "cell_type": "code",
   "execution_count": 4,
   "id": "fb76b3e0-6391-43d2-8638-00e8a9d6ccbc",
   "metadata": {},
   "outputs": [],
   "source": [
    "db=[]"
   ]
  },
  {
   "cell_type": "code",
   "execution_count": 3,
   "id": "c8b9c7e5-407c-41ae-bd5e-db66710c938d",
   "metadata": {},
   "outputs": [],
   "source": [
    "f=open('inspire_LA.pickle','rb')\n",
    "db=pickle.load(f)\n",
    "f.close()"
   ]
  },
  {
   "cell_type": "code",
   "execution_count": 4,
   "id": "9c95d74f-16fa-41b5-97f0-70ddec880168",
   "metadata": {},
   "outputs": [
    {
     "data": {
      "text/plain": [
       "57588"
      ]
     },
     "execution_count": 4,
     "metadata": {},
     "output_type": "execute_result"
    }
   ],
   "source": [
    "old_len=len(db)\n",
    "old_len"
   ]
  },
  {
   "cell_type": "code",
   "execution_count": 5,
   "id": "5ec00a62-b99c-4974-8d6d-5777fd6837c0",
   "metadata": {},
   "outputs": [],
   "source": [
    "del db"
   ]
  },
  {
   "cell_type": "code",
   "execution_count": null,
   "id": "9b2082eb-0cee-4c26-96c4-501a86350c7b",
   "metadata": {},
   "outputs": [],
   "source": [
    "for c in LA_countries[::-1]:\n",
    "    print('='*20,c,'='*20)\n",
    "    C=institutions(c,db,size=250,literature_size=250)\n",
    "    db=C.get_authors()\n",
    "    f=open('inspire_LA.pickle','wb')\n",
    "    pickle.dump(db,f)\n",
    "    f.close()\n",
    "    db_json=C.to_json()\n",
    "    f=open('inspire_LA.json','w')\n",
    "    json.dump(db_json,f)\n",
    "    f.close()"
   ]
  },
  {
   "cell_type": "code",
   "execution_count": null,
   "id": "559c31f7-74b4-4896-83ae-1f4a140c8c81",
   "metadata": {},
   "outputs": [],
   "source": [
    "if True:    \n",
    "    f=open('inspire_LA.pickle','wb')\n",
    "    pickle.dump(db,f)\n",
    "    f.close()\n",
    "    db_json=C.to_json()\n",
    "    f=open('inspire_LA.json','w')\n",
    "    json.dump(db_json,f)\n",
    "    f.close()"
   ]
  },
  {
   "cell_type": "markdown",
   "id": "0aa4af23-035d-4142-93d5-2ff9cddf6da8",
   "metadata": {},
   "source": [
    "## Example"
   ]
  },
  {
   "cell_type": "code",
   "execution_count": 17,
   "id": "f57a3097-f0aa-4702-95e5-125575816d0c",
   "metadata": {},
   "outputs": [],
   "source": [
    "import pandas as pd"
   ]
  },
  {
   "cell_type": "code",
   "execution_count": 18,
   "id": "bfed5679-ea32-4f50-90af-10c7b1fb1d58",
   "metadata": {},
   "outputs": [],
   "source": [
    "db=pd.read_json('inspire_LA.json',dtype={'institution_id':int})"
   ]
  },
  {
   "cell_type": "code",
   "execution_count": 20,
   "id": "fe48806b-d255-481b-abf6-0ee69ce90030",
   "metadata": {},
   "outputs": [],
   "source": [
    "db=db[db['country']=='Venezuela'].reset_index(drop=True)"
   ]
  },
  {
   "cell_type": "code",
   "execution_count": 21,
   "id": "9fb0044b-852d-4242-8527-22fcfd4f5039",
   "metadata": {},
   "outputs": [],
   "source": [
    "dp=pd.DataFrame( db.papers.apply(pd.Series).stack().to_list() ).drop_duplicates(subset='recid').reset_index(drop=True)"
   ]
  },
  {
   "cell_type": "code",
   "execution_count": 32,
   "id": "f5785ffe-6a95-4a47-82de-b742dc8cfe3b",
   "metadata": {},
   "outputs": [
    {
     "name": "stdout",
     "output_type": "stream",
     "text": [
      "Populating the interactive namespace from numpy and matplotlib\n"
     ]
    }
   ],
   "source": [
    "%pylab inline"
   ]
  },
  {
   "cell_type": "code",
   "execution_count": 36,
   "id": "8e708350-2115-4ea3-a6bb-5a9d551cba6f",
   "metadata": {},
   "outputs": [
    {
     "data": {
      "text/plain": [
       "<AxesSubplot:>"
      ]
     },
     "execution_count": 36,
     "metadata": {},
     "output_type": "execute_result"
    },
    {
     "data": {
      "image/png": "[encoded data removed]",
      "text/plain": [
       "<Figure size 720x216 with 1 Axes>"
      ]
     },
     "metadata": {
      "needs_background": "light"
     },
     "output_type": "display_data"
    }
   ],
   "source": [
    "plt.figure(figsize=(10,3))\n",
    "dp[dp['year']!='None']['year'].value_counts().sort_index().plot(kind='bar')"
   ]
  },
  {
   "cell_type": "code",
   "execution_count": 38,
   "id": "a631c2e1-212f-4e86-b90d-9127b310f6ea",
   "metadata": {},
   "outputs": [],
   "source": [
    "def hIndex(citations):\n",
    "    \"\"\"\n",
    "    https://github.com/kamyu104/LeetCode/blob/master/Python/h-index.py\n",
    "    :type citations: List[int]\n",
    "    :rtype: int\n",
    "    \n",
    "    # Given an array of citations (each citation is a non-negative integer)\n",
    "    # of a researcher, write a function to compute the researcher's h-index.\n",
    "    #\n",
    "    # According to the definition of h-index on Wikipedia: \n",
    "    # \"A scientist has index h if h of his/her N papers have\n",
    "    # at least h citations each, and the other N − h papers have\n",
    "    # no more than h citations each.\"\n",
    "    #\n",
    "    # For example, given citations = [3, 0, 6, 1, 5], \n",
    "    # which means the researcher has 5 papers in total\n",
    "    # and each of them had received 3, 0, 6, 1, 5 citations respectively. \n",
    "    # Since the researcher has 3 papers with at least 3 citations each and \n",
    "    # the remaining two with no more than 3 citations each, his h-index is 3.\n",
    "    #\n",
    "    # Note: If there are several possible values for h, the maximum one is taken as the h-index.\n",
    "    \"\"\"\n",
    "    import builtins\n",
    "    sum=builtins.sum\n",
    "    return sum(x >= i + 1 for i, x in enumerate(sorted(  list(citations), reverse=True)))"
   ]
  },
  {
   "cell_type": "markdown",
   "id": "3c92bbc8-0c67-4534-8f73-71399a66cf52",
   "metadata": {},
   "source": [
    "h-Index"
   ]
  },
  {
   "cell_type": "code",
   "execution_count": 41,
   "id": "e97db2fc-1f72-410e-bfff-9ce39655baa4",
   "metadata": {},
   "outputs": [
    {
     "data": {
      "text/plain": [
       "104"
      ]
     },
     "execution_count": 41,
     "metadata": {},
     "output_type": "execute_result"
    }
   ],
   "source": [
    "hIndex(dp.citation_count)"
   ]
  },
  {
   "cell_type": "code",
   "execution_count": 43,
   "id": "37aaad1a-a2b5-4bcd-bbb4-36783f7db863",
   "metadata": {},
   "outputs": [],
   "source": [
    "import time"
   ]
  },
  {
   "cell_type": "markdown",
   "id": "ff47285e-78ae-4728-9e5f-096505cfed7e",
   "metadata": {},
   "source": [
    "h5-Index"
   ]
  },
  {
   "cell_type": "code",
   "execution_count": 77,
   "id": "a110ea2d-019f-4dca-986a-0dc8ad4391cc",
   "metadata": {},
   "outputs": [
    {
     "data": {
      "text/plain": [
       "32"
      ]
     },
     "execution_count": 77,
     "metadata": {},
     "output_type": "execute_result"
    }
   ],
   "source": [
    "hIndex( dp[dp.year.apply(lambda y: eval(y) if y else 0\n",
    "            ).apply(lambda y: y>time.localtime().tm_year-6 and\n",
    "                               y<time.localtime().tm_year-1)\n",
    "           ].citation_count)"
   ]
  },
  {
   "cell_type": "code",
   "execution_count": null,
   "id": "0fbd52d1-1c6c-4723-87d8-d4a93ee2abce",
   "metadata": {},
   "outputs": [],
   "source": []
  }
 ],
 "metadata": {
  "kernelspec": {
   "display_name": "Python 3 (ipykernel)",
   "language": "python",
   "name": "python3"
  },
  "language_info": {
   "codemirror_mode": {
    "name": "ipython",
    "version": 3
   },
   "file_extension": ".py",
   "mimetype": "text/x-python",
   "name": "python",
   "nbconvert_exporter": "python",
   "pygments_lexer": "ipython3",
   "version": "3.9.2"
  }
 },
 "nbformat": 4,
 "nbformat_minor": 5
}
