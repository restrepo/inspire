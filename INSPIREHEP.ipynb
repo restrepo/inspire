{
 "cells": [
  {
   "cell_type": "markdown",
   "id": "fbc9f311-316c-46c5-b86b-8d826e79539a",
   "metadata": {},
   "source": [
    "# Construction of JSON object Authors from INSPIRE-HEP\n",
    "<img src=\"https://raw.githubusercontent.com/restrepo/inspire/master/img/authors.svg\" width=700>"
   ]
  },
  {
   "cell_type": "markdown",
   "id": "de99f801-177d-4744-9d18-8af2cf7b55bd",
   "metadata": {},
   "source": [
    "## Design of the object-oriented alghorithm\n",
    "each object must be initialized with the relevant part of the JSON from the INSPIRE-HEP api, and must have a method to obtain the relevant part of the \"auhtor\" object.\n",
    "\n",
    "For example. The basic class must be `profile` and the input must be the JSON, `p`, from the profile API response\n",
    "```\n",
    ">>> au=profile(p)\n",
    ">>> au.get_author()\n",
    "```\n",
    "`au` has the attributes accoding to the previous diagram"
   ]
  },
  {
   "cell_type": "code",
   "execution_count": 1,
   "id": "8eccbafc-f3b4-42e7-ad0d-764755fe0411",
   "metadata": {},
   "outputs": [],
   "source": [
    "import pandas as pd"
   ]
  },
  {
   "cell_type": "code",
   "execution_count": 49,
   "id": "01be3c96-0ec9-49bf-8325-3cd811349cf1",
   "metadata": {},
   "outputs": [],
   "source": [
    "import json\n",
    "import requests\n",
    "import time\n",
    "import copy\n",
    "#https://towardsdatascience.com/do-not-use-if-else-for-validating-data-objects-in-python-anymore-17203e1d65fe\n",
    "from cerberus import Validator\n",
    "\n",
    "class empty_json:\n",
    "    status_code=0\n",
    "    def json(self):\n",
    "        return {}\n",
    "\n",
    "class profile:\n",
    "    #Default behaviour: if key exists must be 'type'\n",
    "    schema_profile={\"name\":{'type':'dict','required':True},\n",
    "            \"email_addresses\":{'type':'list'},\n",
    "            \"positions\":{'type':'list'},\n",
    "            \"ids\":{'type':'list'},\n",
    "            }        \n",
    "    sample_profile={\"advisors\":[{\"ids\":[{\"value\":\"INSPIRE-00133260\",\n",
    "                                    \"schema\":\"INSPIRE ID\"}],\n",
    "                \"name\":\"Valle, Jose W.F.\",\n",
    "                \"hidden\":False,\n",
    "                \"record\":{\"$ref\":\"https://inspirehep.net/api/authors/985058\"},\n",
    "                \"degree_type\":\"phd\",\"curated_relation\":False},\n",
    "               {\"name\":\"Ponce, William A.\",\"hidden\":False,\n",
    "                \"degree_type\":\"master\",\n",
    "                \"curated_relation\":False}],\n",
    "                \"email_addresses\":[{\"value\":\"restrepo@udea.edu.co\",\"current\":True}],\n",
    "    \"positions\":[{\"rank\":\"SENIOR\",\n",
    "                  \"hidden\":False,\n",
    "                  \"record\":{\"$ref\":\"https://inspirehep.net/api/institutions/903906\"},\n",
    "                  \"current\":True,\n",
    "                  \"start_date\":\"2004\",\n",
    "                  \"institution\":\"Antioquia U.\",\n",
    "                  \"curated_relation\":True},\n",
    "                 {\"rank\":\"PHD\",\n",
    "                  \"hidden\":False,\n",
    "                  \"record\":{\"$ref\":\"https://inspirehep.net/api/institutions/907907\"},\n",
    "                  \"current\":False,\n",
    "                  \"end_date\":\"2001\",\"start_date\":\"1997\",\n",
    "                  \"institution\":\"Valencia U., IFIC\",\"curated_relation\":True}],\n",
    "    \"ids\":[{\"value\":\"D.Restrepo.1\",\"schema\":\"INSPIRE BAI\"},\n",
    "           {\"value\":\"INSPIRE-00119748\",\"schema\":\"INSPIRE ID\"},\n",
    "           {\"value\":\"0000-0001-6455-5564\",\"schema\":\"ORCID\"},\n",
    "           {\"value\":\"diego-restrepo-209b7927\",\"schema\":\"LINKEDIN\"}],\n",
    "    \"name\":{\"value\":\"Restrepo Quintero, Diego Alejandro\",\n",
    "            \"preferred_name\":\"Diego Restrepo\"},\n",
    "    \"stub\":False,\n",
    "    \"urls\":[{\"value\":\"http://gfif.udea.edu.co\"},\n",
    "            {\"value\":\"https://scholar.google.com/citations?user=1sKULCoAAAAJ\"},\n",
    "            {\"value\":\"https://www.researchgate.net/profile/Diego_Restrepo2\"}],\n",
    "    \"status\":\"active\",\n",
    "    \"$schema\":\"https://inspirehep.net/schemas/records/authors.json\",\n",
    "    \"deleted\":False,\n",
    "    \"control_number\":991924,\n",
    "    \"legacy_version\":\"20210323213044.0\",\n",
    "    \"arxiv_categories\":[\"hep-ph\"],\n",
    "    \"legacy_creation_date\":\"1999-08-23\"}\n",
    "    def __init__(self,p):\n",
    "        if p:\n",
    "            v=Validator(self.schema_profile,allow_unknown=True)\n",
    "            if not v.validate(p):\n",
    "                raise Exception(f'''\n",
    "                    Input is not an INSPIRE-HEP profile dictionary:\n",
    "                    {v.errors}                    \n",
    "                    See `self.sample_profile`'''\n",
    "                               )\n",
    "        self.profile=p\n",
    "            \n",
    "    def get_author(self):\n",
    "        '''\n",
    "        Select:\n",
    "        * current position\n",
    "        * non-INSPIRE ids\n",
    "        * name\n",
    "        * control_number\n",
    "        * arxiv_categories\n",
    "        '''\n",
    "        p=self.profile\n",
    "        self.is_profile=True\n",
    "        self.name=p.get('name')\n",
    "        self.positions=p.get('positions')\n",
    "        self.email_addresses=p.get('email_addresses')\n",
    "        self.ids=p.get('ids')\n",
    "        \n",
    "        return {'name':self.name,\n",
    "                'positions':self.positions,\n",
    "                'email_addresses':self.email_addresses,\n",
    "                'ids':self.ids}\n",
    "    \n",
    "class author(profile):\n",
    "    sleep=0.4\n",
    "    #`ids → [{\"schema\": \"INSPIRE BAI\"}]` required for author_id\n",
    "    #`affiliations → [{...}] required for institution_id\n",
    "    schema_author={\"ids\": {'type':'list','required':True,\n",
    "                           'schema':{'type':'dict','required':True,\n",
    "                                     'schema':{'schema':{'type':'string',\n",
    "                                                         'required':True}\n",
    "                                              }\n",
    "                                    }\n",
    "                          }, \n",
    "            \"record\":{'type':'dict'}, \n",
    "            \"full_name\": {'type':'string'}, \n",
    "            \"affiliations\":{'type':'list',\n",
    "                           'schema':{'type':'dict','required':True}}\n",
    "           }\n",
    "    sample_author={\"ids\":[{\"value\": \"D.Restrepo.1\", \n",
    "                            \"schema\": \"INSPIRE BAI\"}\n",
    "                          ], \n",
    "                   \"uuid\": \"300c9b2c-15b0-4937-ad36-8ccff33fd09d\", \n",
    "                   \"emails\": [\"restrepo@udea.edu.co\"], \n",
    "                   \"record\": {\"$ref\": \"https://inspirehep.net/api/authors/991924\"}, \n",
    "                   \"full_name\": \"Restrepo, Diego\", \n",
    "                   \"affiliations\": [{\"value\": \"Antioquia U.\", \n",
    "                                     \"record\": {\"$ref\": \"https://inspirehep.net/api/institutions/903906\"}},\n",
    "                                   {\"value\":\"Campinas State U.\",\n",
    "                                    \"record\":{\"$ref\":\"https://inspirehep.net/api/institutions/902714\"}}], \n",
    "                   \"signature_block\": \"RASTRAPd\", \n",
    "                   \"raw_affiliations\": [{\"value\": \"Instituto de Física, Universidad de Antioquia, Calle 70 No 52-21, Medellín, Colombia\"}, \n",
    "                                        {\"value\": \"Instituto de Física Gleb Wataghin, UNICAMP, 13083-859, Campinas, SP, Brazil\"}]}\n",
    "    def __init__(self,a,db=[]):\n",
    "        self.author=a\n",
    "        self.db=db\n",
    "        if a:\n",
    "            v=Validator(self.schema_author,allow_unknown=True)\n",
    "            if not v.validate(a):\n",
    "                raise Exception(f'''\n",
    "                    Input is not an INSPIRE-HEP author dictionary:\n",
    "                    {v.errors}\n",
    "                    See `self.sample_author`''')\n",
    "        #super(author, self).__init__(p)\n",
    "    def get_authors(self):\n",
    "        #TODO: Check previous analysis for more metadata\n",
    "        #use requests\n",
    "        a=self.author\n",
    "        db=self.db\n",
    "        r=empty_json()\n",
    "        self.author_id=[i for i  in a.get('ids') if i.get('schema')=='INSPIRE BAI'\n",
    "                  ][0].get('value')\n",
    "\n",
    "        self.profile_id=''\n",
    "        affiliations=[dict([(k,d.get(k)) for k in d if k in ['value','record']]) \n",
    "                               for d in a.get('affiliations') ]\n",
    "        url=a.get('record').get(\"$ref\")\n",
    "        if url and isinstance(url,str):\n",
    "            self.profile_id=url.split('/')[-1]\n",
    "            r=requests.get(url)\n",
    "            time.sleep(self.sleep)\n",
    "        if r.status_code==200:\n",
    "            self.profile=r.json().get('metadata')\n",
    "        d=super(author, self).get_author()\n",
    "        self.full_name=a.get('full_name')\n",
    "        ll=[x for x in db if hasattr(x,'author_id') and hasattr(x,'institution_id')]\n",
    "        #db[i] affiliation not in affiliation are not touched \n",
    "        for aff in affiliations:\n",
    "            #We assumme that aff have at least the institution infomation\n",
    "            self.institution=aff.get('value')\n",
    "            self.institution_id=aff.get('record').get('$ref').split('/')[-1]\n",
    "            filtered_db=[x for x in ll if x.profile_id==self.profile_id and x.institution_id==self.institution_id]\n",
    "            if filtered_db:\n",
    "                au=filtered_db[0] #must be unique!\n",
    "                au.new_attribute=True\n",
    "            else: #aff not in db → New affiliation\n",
    "                ai=copy.deepcopy(self)\n",
    "                db.append(ai)\n",
    "        return db        "
   ]
  },
  {
   "cell_type": "code",
   "execution_count": 50,
   "id": "7ae5cbf5-8c83-4b06-9494-fd8b27b7e323",
   "metadata": {},
   "outputs": [],
   "source": [
    "au=profile({})\n",
    "p=au.sample_profile\n",
    "au=profile(p)\n",
    "d=au.get_author()\n",
    "assert d['name']['value']=='Restrepo Quintero, Diego Alejandro'\n",
    "assert au.name.get('value')=='Restrepo Quintero, Diego Alejandro'"
   ]
  },
  {
   "cell_type": "code",
   "execution_count": 276,
   "id": "d33ed488-50dc-49f9-8a45-a4a31e0c81ec",
   "metadata": {},
   "outputs": [],
   "source": [
    "AU=author({})\n",
    "a=AU.sample_author\n",
    "AU=author(a,db=[])\n",
    "db=AU.get_authors()\n",
    "au=db[0]\n",
    "assert au.profile_id=='991924'\n",
    "assert au.author_id =='D.Restrepo.1'\n",
    "assert au.email_addresses[0]['value']=='restrepo@udea.edu.co'\n",
    "assert au.full_name=='Restrepo, Diego'\n",
    "assert [ d.get('value') for d in au.ids if d.get('schema')=='ORCID'\n",
    "   ][0]=='0000-0001-6455-5564'\n",
    "assert au.institution=='Antioquia U.'\n",
    "assert au.institution_id=='903906'\n",
    "assert au.name.get('value')=='Restrepo Quintero, Diego Alejandro'\n",
    "assert au.positions[0].get('rank')=='SENIOR'\n",
    "assert db[1].institution=='Campinas State U.'\n",
    "assert db[1].profile_id==db[0].profile_id\n",
    "#add a third value to db\n",
    "new_au=copy.deepcopy(db[0])\n",
    "new_au.profile_id='991925'\n",
    "db.append(new_au)\n",
    "AU=author(a,db) #TODO →Check update scenarios\n",
    "ll=AU.get_authors()\n",
    "assert ll[2].profile_id=='991925'"
   ]
  },
  {
   "cell_type": "code",
   "execution_count": 298,
   "id": "a098678a-8715-49ec-a7c8-3dd8b42bed7f",
   "metadata": {},
   "outputs": [],
   "source": [
    "class work(author):\n",
    "    schema_work={'citation_count':{'type':'integer'},\n",
    "            'control_number':{'type':'integer','required':True},\n",
    "            'primary_arxiv_category':{'type':'list'},\n",
    "            'preprint_data':{'type':'string'},\n",
    "            'legacy_creation_date':{'type':'string'}\n",
    "            }\n",
    "    def __init__(self,w,db=[]):\n",
    "        self.sample_work={'citation_count': 0,\n",
    "                          'control_number':2080612,\n",
    "                          'publication_info':[{'year':2022}],\n",
    "                          'primary_arxiv_category':['hep-ph'],\n",
    "                          'authors':[self.sample_author]#publication_info,preprint_date,legacy_creation_date\n",
    "                                }\n",
    "        if w:\n",
    "            v=Validator(self.schema_work,allow_unknown=True)\n",
    "            if not v.validate(w):\n",
    "                raise Exception(f'''\n",
    "                    Input is not an INSPIRE-HEP work dictionary:\n",
    "                    {v.errors}\n",
    "                    See `self.sample_work`''')\n",
    "        \n",
    "        self.db=db\n",
    "        self.work=w\n",
    "    def get_authors(self):\n",
    "        '''\n",
    "        l: list of author objects\n",
    "        '''\n",
    "        l=self.work\n",
    "        #TODO: Check previous analysis for more metadata\n",
    "        primary_arxiv_category=l.get('primary_arxiv_category')\n",
    "        if not primary_arxiv_category:\n",
    "            primary_arxiv_category=l.get('arxiv_eprints')[0].get('categories')\n",
    "        if not primary_arxiv_category:\n",
    "            primary_arxiv_category=[]\n",
    "        year=str(l.get('publication_info')[0].get('year')) #scheme validate\n",
    "        if not year:\n",
    "             year=l.get('preprint_date').split('-')[0]\n",
    "        if not year:\n",
    "            year=l.get('legacy_creation_date').split('-')[0]\n",
    "        if not year:\n",
    "                year='0000'\n",
    "        #'inst_id':aff_id\n",
    "        paper={'recid':l.get('control_number'),'year':year,\n",
    "               'citation_count':l.get('citation_count'),\n",
    "               'primary_arxiv_category':primary_arxiv_category}\n",
    "        #In update\n",
    "        #'primary_arxiv_category':primary_arxiv_category\n",
    "        #super(work, self).__init__(w.get('authors')[0])\n",
    "               \n",
    "        aus=l.get('authors')\n",
    "        for a in aus: #same self.author_id but several institute_ids for several affiliations\n",
    "            super(work, self).__init__(a,self.db)\n",
    "            super(work, self).get_authors() #add and replace self attributes → author*..., institution*..\n",
    "            paper['author_id']=self.author_id\n",
    "            #Each d object keeps its RAM memory space independent of reasignation list from db to adb\n",
    "            adb=[d for d in self.db if d.author_id==self.author_id]\n",
    "            print(self.author_id,len(adb))\n",
    "            papers=[]\n",
    "            for d in adb:\n",
    "                if hasattr(d,'papers'):\n",
    "                    papers=d.papers\n",
    "                    break #found papers for self.author_id\n",
    "            for d in adb:\n",
    "                d.papers=papers #reatach papers if already have\n",
    "                print(self.db[0].papers,paper)\n",
    "                paper['instituion_id']=d.institution_id\n",
    "                if paper not in d.papers:\n",
    "                    #detach from RAM!\n",
    "                    d.papers.append(copy.deepcopy(paper))\n",
    "            #break\n",
    "                \n",
    "        return self.db"
   ]
  },
  {
   "cell_type": "code",
   "execution_count": 299,
   "id": "3daaa86b-bdf7-4065-99b1-37ccc3aea622",
   "metadata": {},
   "outputs": [],
   "source": [
    "f=open('data/work.json','r')\n",
    "w=json.load(f)\n",
    "f.close()"
   ]
  },
  {
   "cell_type": "code",
   "execution_count": 283,
   "id": "6933fca7-8be5-41e2-977f-68a78df856d6",
   "metadata": {},
   "outputs": [],
   "source": [
    "A=author(w['authors'][0],[])"
   ]
  },
  {
   "cell_type": "code",
   "execution_count": 164,
   "id": "e23d988a-519c-4413-b13c-13a5040be637",
   "metadata": {},
   "outputs": [],
   "source": [
    "db=A.get_authors()"
   ]
  },
  {
   "cell_type": "code",
   "execution_count": 302,
   "id": "be8d6e42-09eb-4fa5-bfec-caeb1184ffae",
   "metadata": {},
   "outputs": [
    {
     "name": "stdout",
     "output_type": "stream",
     "text": [
      "D.Restrepo.1 2\n",
      "[] {'recid': 2080612, 'year': '2022', 'citation_count': 0, 'primary_arxiv_category': ['hep-ph'], 'author_id': 'D.Restrepo.1'}\n",
      "[{'recid': 2080612, 'year': '2022', 'citation_count': 0, 'primary_arxiv_category': ['hep-ph'], 'author_id': 'D.Restrepo.1', 'instituion_id': '903906'}] {'recid': 2080612, 'year': '2022', 'citation_count': 0, 'primary_arxiv_category': ['hep-ph'], 'author_id': 'D.Restrepo.1', 'instituion_id': '903906'}\n",
      "D.Restrepo.1 2\n",
      "[{'recid': 2080612, 'year': '2022', 'citation_count': 0, 'primary_arxiv_category': ['hep-ph'], 'author_id': 'D.Restrepo.1', 'instituion_id': '903906'}, {'recid': 2080612, 'year': '2022', 'citation_count': 0, 'primary_arxiv_category': ['hep-ph'], 'author_id': 'D.Restrepo.1', 'instituion_id': '902714'}] {'recid': 2080612, 'year': '2022', 'citation_count': 0, 'primary_arxiv_category': ['hep-ph'], 'author_id': 'D.Restrepo.1'}\n",
      "[{'recid': 2080612, 'year': '2022', 'citation_count': 0, 'primary_arxiv_category': ['hep-ph'], 'author_id': 'D.Restrepo.1', 'instituion_id': '903906'}, {'recid': 2080612, 'year': '2022', 'citation_count': 0, 'primary_arxiv_category': ['hep-ph'], 'author_id': 'D.Restrepo.1', 'instituion_id': '902714'}] {'recid': 2080612, 'year': '2022', 'citation_count': 0, 'primary_arxiv_category': ['hep-ph'], 'author_id': 'D.Restrepo.1', 'instituion_id': '903906'}\n"
     ]
    }
   ],
   "source": [
    "W=work({})\n",
    "w=W.sample_work\n",
    "W=work(w)\n",
    "db=W.get_authors()\n",
    "assert db[1].papers[0]['recid']==2080612\n",
    "W=work(w,db)\n",
    "db=W.get_authors()\n",
    "assert len(db)==2"
   ]
  },
  {
   "cell_type": "code",
   "execution_count": 300,
   "id": "bb8d7435-30fe-46e8-9021-a5a2f3da0f19",
   "metadata": {},
   "outputs": [
    {
     "name": "stdout",
     "output_type": "stream",
     "text": [
      "N.Bernal.1 1\n",
      "[] {'recid': 1904961, 'year': '2021', 'citation_count': 4, 'primary_arxiv_category': ['hep-ph'], 'author_id': 'N.Bernal.1'}\n",
      "D.Restrepo.1 1\n",
      "[{'recid': 1904961, 'year': '2021', 'citation_count': 4, 'primary_arxiv_category': ['hep-ph'], 'author_id': 'N.Bernal.1', 'instituion_id': '908168'}] {'recid': 1904961, 'year': '2021', 'citation_count': 4, 'primary_arxiv_category': ['hep-ph'], 'author_id': 'D.Restrepo.1', 'instituion_id': '908168'}\n"
     ]
    }
   ],
   "source": [
    "W=work(w,[])\n",
    "db=W.get_authors()\n",
    "assert len(db[0].papers)==1 and db[0].papers[0].get('author_id')=='N.Bernal.1'\n",
    "assert len(db[1].papers)==1 and db[1].papers[0].get('author_id')=='D.Restrepo.1'"
   ]
  },
  {
   "cell_type": "code",
   "execution_count": 301,
   "id": "914a5667-7f88-4d7c-8a51-20f96b0172c0",
   "metadata": {},
   "outputs": [
    {
     "name": "stdout",
     "output_type": "stream",
     "text": [
      "N.Bernal.1 1\n",
      "[{'recid': 1904961, 'year': '2021', 'citation_count': 4, 'primary_arxiv_category': ['hep-ph'], 'author_id': 'N.Bernal.1', 'instituion_id': '908168'}] {'recid': 1904961, 'year': '2021', 'citation_count': 4, 'primary_arxiv_category': ['hep-ph'], 'author_id': 'N.Bernal.1'}\n",
      "D.Restrepo.1 1\n",
      "[{'recid': 1904961, 'year': '2021', 'citation_count': 4, 'primary_arxiv_category': ['hep-ph'], 'author_id': 'N.Bernal.1', 'instituion_id': '908168'}] {'recid': 1904961, 'year': '2021', 'citation_count': 4, 'primary_arxiv_category': ['hep-ph'], 'author_id': 'D.Restrepo.1', 'instituion_id': '908168'}\n"
     ]
    }
   ],
   "source": [
    "W=work(w,db)\n",
    "db=W.get_authors()\n",
    "assert len(db[0].papers)==1 and db[0].papers[0].get('author_id')=='N.Bernal.1'\n",
    "assert len(db[1].papers)==1 and db[1].papers[0].get('author_id')=='D.Restrepo.1'"
   ]
  },
  {
   "cell_type": "code",
   "execution_count": 291,
   "id": "3737a430-b2c5-4f19-b4f6-670f62ac380c",
   "metadata": {},
   "outputs": [
    {
     "data": {
      "text/plain": [
       "'N.Bernal.1'"
      ]
     },
     "execution_count": 291,
     "metadata": {},
     "output_type": "execute_result"
    }
   ],
   "source": [
    "db[0].papers[0].get('author_id')"
   ]
  },
  {
   "cell_type": "code",
   "execution_count": 292,
   "id": "a22952b4-6bcc-46f7-ab42-a87c92b1a498",
   "metadata": {},
   "outputs": [
    {
     "data": {
      "text/plain": [
       "'D.Restrepo.1'"
      ]
     },
     "execution_count": 292,
     "metadata": {},
     "output_type": "execute_result"
    }
   ],
   "source": [
    "db[1].papers[0].get('author_id')"
   ]
  },
  {
   "cell_type": "code",
   "execution_count": 294,
   "id": "e95f563d-3f0a-46aa-adce-2352beca1b00",
   "metadata": {},
   "outputs": [
    {
     "name": "stdout",
     "output_type": "stream",
     "text": [
      "D.Restrepo.1 2\n",
      "[{'recid': 1904961, 'year': '2021', 'citation_count': 4, 'primary_arxiv_category': ['hep-ph'], 'author_id': 'N.Bernal.1', 'instituion_id': '908168'}] {'recid': 2080612, 'year': '2022', 'citation_count': 0, 'primary_arxiv_category': ['hep-ph'], 'author_id': 'D.Restrepo.1'}\n",
      "[{'recid': 1904961, 'year': '2021', 'citation_count': 4, 'primary_arxiv_category': ['hep-ph'], 'author_id': 'N.Bernal.1', 'instituion_id': '908168'}] {'recid': 2080612, 'year': '2022', 'citation_count': 0, 'primary_arxiv_category': ['hep-ph'], 'author_id': 'D.Restrepo.1', 'instituion_id': '903906'}\n"
     ]
    }
   ],
   "source": [
    "w=W.sample_work\n",
    "W=work(w,db)\n",
    "db=W.get_authors()"
   ]
  },
  {
   "cell_type": "code",
   "execution_count": 295,
   "id": "c153ccdf-2d8a-45f5-ad8b-0467c3dc61b2",
   "metadata": {},
   "outputs": [
    {
     "data": {
      "text/plain": [
       "[{'recid': 1904961,\n",
       "  'year': '2021',\n",
       "  'citation_count': 4,\n",
       "  'primary_arxiv_category': ['hep-ph'],\n",
       "  'author_id': 'N.Bernal.1',\n",
       "  'instituion_id': '908168'}]"
      ]
     },
     "execution_count": 295,
     "metadata": {},
     "output_type": "execute_result"
    }
   ],
   "source": [
    "db[0].papers"
   ]
  },
  {
   "cell_type": "code",
   "execution_count": 296,
   "id": "2803b4b7-18aa-4e26-b3f3-a68a988a45e6",
   "metadata": {},
   "outputs": [
    {
     "data": {
      "text/plain": [
       "[{'recid': 1904961,\n",
       "  'year': '2021',\n",
       "  'citation_count': 4,\n",
       "  'primary_arxiv_category': ['hep-ph'],\n",
       "  'author_id': 'D.Restrepo.1',\n",
       "  'instituion_id': '903906'},\n",
       " {'recid': 2080612,\n",
       "  'year': '2022',\n",
       "  'citation_count': 0,\n",
       "  'primary_arxiv_category': ['hep-ph'],\n",
       "  'author_id': 'D.Restrepo.1',\n",
       "  'instituion_id': '903906'},\n",
       " {'recid': 2080612,\n",
       "  'year': '2022',\n",
       "  'citation_count': 0,\n",
       "  'primary_arxiv_category': ['hep-ph'],\n",
       "  'author_id': 'D.Restrepo.1',\n",
       "  'instituion_id': '902714'}]"
      ]
     },
     "execution_count": 296,
     "metadata": {},
     "output_type": "execute_result"
    }
   ],
   "source": [
    "db[1].papers"
   ]
  },
  {
   "cell_type": "code",
   "execution_count": 297,
   "id": "753b84b3-7bf4-4bee-a86d-b6764e7a5ba5",
   "metadata": {},
   "outputs": [
    {
     "data": {
      "text/plain": [
       "[{'recid': 1904961,\n",
       "  'year': '2021',\n",
       "  'citation_count': 4,\n",
       "  'primary_arxiv_category': ['hep-ph'],\n",
       "  'author_id': 'D.Restrepo.1',\n",
       "  'instituion_id': '903906'},\n",
       " {'recid': 2080612,\n",
       "  'year': '2022',\n",
       "  'citation_count': 0,\n",
       "  'primary_arxiv_category': ['hep-ph'],\n",
       "  'author_id': 'D.Restrepo.1',\n",
       "  'instituion_id': '903906'},\n",
       " {'recid': 2080612,\n",
       "  'year': '2022',\n",
       "  'citation_count': 0,\n",
       "  'primary_arxiv_category': ['hep-ph'],\n",
       "  'author_id': 'D.Restrepo.1',\n",
       "  'instituion_id': '902714'}]"
      ]
     },
     "execution_count": 297,
     "metadata": {},
     "output_type": "execute_result"
    }
   ],
   "source": [
    "db[2].papers"
   ]
  },
  {
   "cell_type": "code",
   "execution_count": 128,
   "id": "f121737f-4e18-401a-8c14-39f63aee306a",
   "metadata": {},
   "outputs": [
    {
     "data": {
      "text/plain": [
       "('N.Bernal.1', 'D.Restrepo.1')"
      ]
     },
     "execution_count": 128,
     "metadata": {},
     "output_type": "execute_result"
    }
   ],
   "source": [
    "db[0].author_id,db[1].author_id"
   ]
  },
  {
   "cell_type": "code",
   "execution_count": 131,
   "id": "a8513fe6-2f60-4966-bcdf-65f77e5f548f",
   "metadata": {},
   "outputs": [],
   "source": [
    "d=db[1]"
   ]
  },
  {
   "cell_type": "code",
   "execution_count": 132,
   "id": "38bfb4f9-3ab1-4642-80bd-1496e65861cf",
   "metadata": {},
   "outputs": [
    {
     "data": {
      "text/plain": [
       "[{'recid': 1904961,\n",
       "  'year': '2021',\n",
       "  'citation_count': 4,\n",
       "  'primary_arxiv_category': ['hep-ph'],\n",
       "  'institution_id': '908168',\n",
       "  'author_id': 'N.Bernal.1'},\n",
       " {'recid': 1904961,\n",
       "  'year': '2021',\n",
       "  'citation_count': 4,\n",
       "  'primary_arxiv_category': ['hep-ph'],\n",
       "  'institution_id': '903906',\n",
       "  'author_id': 'D.Restrepo.1'}]"
      ]
     },
     "execution_count": 132,
     "metadata": {},
     "output_type": "execute_result"
    }
   ],
   "source": [
    "d.papers"
   ]
  },
  {
   "cell_type": "code",
   "execution_count": 305,
   "id": "4869c9af-d297-4bee-92a1-cb2345dc5db2",
   "metadata": {},
   "outputs": [],
   "source": [
    "q='recid:2080612+or+recid:1904961'\n",
    "r=requests.get(f'https://inspirehep.net/api/literature?size=25&page=1&q={q}')"
   ]
  },
  {
   "cell_type": "code",
   "execution_count": 311,
   "id": "01dc094e-e4b8-47fe-9a2c-bda4145c6b03",
   "metadata": {},
   "outputs": [
    {
     "data": {
      "text/plain": [
       "{'citation_count': 0,\n",
       " 'citation_count_without_self_citations': 0,\n",
       " 'authors': [{'uuid': '300c9b2c-15b0-4937-ad36-8ccff33fd09d',\n",
       "   'recid': 991924,\n",
       "   'ids': [{'value': 'D.Restrepo.1', 'schema': 'INSPIRE BAI'}],\n",
       "   'raw_affiliations': [{'value': 'Instituto de Física, Universidad de Antioquia, Calle 70 No 52-21, Medellín, Colombia'},\n",
       "    {'value': 'Instituto de Física Gleb Wataghin, UNICAMP, 13083-859, Campinas, SP, Brazil'}],\n",
       "   'record': {'$ref': 'https://inspirehep.net/api/authors/991924'},\n",
       "   'bai': 'D.Restrepo.1',\n",
       "   'first_name': 'Diego',\n",
       "   'full_name': 'Restrepo, Diego',\n",
       "   'last_name': 'Restrepo',\n",
       "   'affiliations': [{'record': {'$ref': 'https://inspirehep.net/api/institutions/903906'},\n",
       "     'value': 'Antioquia U.'},\n",
       "    {'record': {'$ref': 'https://inspirehep.net/api/institutions/902714'},\n",
       "     'value': 'Campinas State U.'}],\n",
       "   'full_name_unicode_normalized': 'restrepo, diego',\n",
       "   'signature_block': 'RASTRAPd'},\n",
       "  {'uuid': '6c7aac55-0895-43a2-b068-9e5bc905012d',\n",
       "   'recid': 1744378,\n",
       "   'ids': [{'value': 'A.Rivera.1', 'schema': 'INSPIRE BAI'}],\n",
       "   'record': {'$ref': 'https://inspirehep.net/api/authors/1744378'},\n",
       "   'bai': 'A.Rivera.1',\n",
       "   'first_name': 'Andrés',\n",
       "   'full_name': 'Rivera, Andrés',\n",
       "   'last_name': 'Rivera',\n",
       "   'full_name_unicode_normalized': 'rivera, andrés',\n",
       "   'signature_block': 'RAVARa'},\n",
       "  {'uuid': '14cb527b-70fc-40ba-9df0-f34e2919b9e9',\n",
       "   'recid': 1073186,\n",
       "   'ids': [{'value': 'W.Tangarife.Garcia.1', 'schema': 'INSPIRE BAI'}],\n",
       "   'raw_affiliations': [{'value': 'Department of Physics, Loyola University Chicago, 1032 W. Sheridan Road, Chicago, IL, 60660, USA'}],\n",
       "   'record': {'$ref': 'https://inspirehep.net/api/authors/1073186'},\n",
       "   'bai': 'W.Tangarife.Garcia.1',\n",
       "   'first_name': 'Walter',\n",
       "   'full_name': 'Tangarife, Walter',\n",
       "   'last_name': 'Tangarife',\n",
       "   'affiliations': [{'record': {'$ref': 'https://inspirehep.net/api/institutions/904763'},\n",
       "     'value': 'Loyola U., Chicago'}],\n",
       "   'full_name_unicode_normalized': 'tangarife, walter',\n",
       "   'signature_block': 'TANGARAFw'}],\n",
       " 'first_author': {'recid': 991924,\n",
       "  'ids': [{'value': 'D.Restrepo.1', 'schema': 'INSPIRE BAI'}],\n",
       "  'first_name': 'Diego',\n",
       "  'full_name': 'Restrepo, Diego',\n",
       "  'last_name': 'Restrepo',\n",
       "  'emails': ['restrepo@udea.edu.co']},\n",
       " 'referenced_authors_bais': ['A.A.Abdelalim.1',\n",
       "  'A.A.Anuar.1',\n",
       "  'A.Abdukerim.1',\n",
       "  'A.Abdulsalam.2',\n",
       "  'A.A.Bylinkin.1',\n",
       "  'A.Ackert.1',\n",
       "  'A.Adair.1',\n",
       "  'A.Adiguzel.1',\n",
       "  'A.A.Fraisse.1',\n",
       "  'A.Agapitos.1',\n",
       "  'A.A.Grebenyuk.1',\n",
       "  'A.Al.Bataineh.1',\n",
       "  'A.Aleksandrov.1',\n",
       "  'A.A.Lobanov.1',\n",
       "  'A.Apresyan.1',\n",
       "  'A.Apyan.1',\n",
       "  'Aaron.Manalaysay.1',\n",
       "  'A.A.Savin.1',\n",
       "  'A.Askew.1',\n",
       "  'A.A.Spiridonov.1',\n",
       "  'A.Attikis.1',\n",
       "  'A.Avetisyan.2',\n",
       "  'A.A.Volkov.1',\n",
       "  'A.Baden.1',\n",
       "  'A.Banday.2',\n",
       "  'A.Baty.1',\n",
       "  'Abdollah.Mohammadi.1',\n",
       "  'A.Belloni.1',\n",
       "  'A.Belyaev.1',\n",
       "  'A.B.Meyer.1',\n",
       "  'A.Bocci.1',\n",
       "  'A.Bodek.2',\n",
       "  'A.Boletti.1',\n",
       "  'A.Bornheim.2',\n",
       "  'A.Borzou.1',\n",
       "  'A.Braghieri.1',\n",
       "  'A.Breskin.1',\n",
       "  'A.Brinkerhoff.1',\n",
       "  'A.Buccilli.1',\n",
       "  'A.Bundock.1',\n",
       "  'A.Byszuk.1',\n",
       "  'A.Cakir.1',\n",
       "  'A.Carnes.2',\n",
       "  'A.Carvalho.Antunes.de.Oliveira.1',\n",
       "  'A.Castro.1',\n",
       "  'A.C.Benvenuti.1',\n",
       "  'A.Celik.1',\n",
       "  'A.Challinor.1',\n",
       "  'Achim.Stahl.1',\n",
       "  'A.C.Kaboth.1',\n",
       "  'A.C.Le.Bihan.1',\n",
       "  'A.C.Marini.1',\n",
       "  'A.C.Mignerey.1',\n",
       "  'A.Colaleo.1',\n",
       "  'A.Colijn.2',\n",
       "  'A.Cottle.1',\n",
       "  'A.Custodio.1',\n",
       "  'A.Dabrowski.1',\n",
       "  'Adam.Brown.1',\n",
       "  'Adam.Elwood.1',\n",
       "  'Adam.J.Bailey.1',\n",
       "  'A.Dasgupta.6',\n",
       "  'A.David.Tinoco.Mendes.1',\n",
       "  'A.D.Dolgov.1',\n",
       "  'A.de.Cosa.1',\n",
       "  'A.Degano.1',\n",
       "  'A.Delgado.3',\n",
       "  'A.Dermenev.1',\n",
       "  'A.De.Roeck.1',\n",
       "  'A.De.Wit.1',\n",
       "  'A.D.Ferella.1',\n",
       "  'A.Dierlamm.1',\n",
       "  'A.Di.Francesco.2',\n",
       "  'A.Di.giovanni.1',\n",
       "  'A.Di.Mattia.1',\n",
       "  'A.Dimitrov.1',\n",
       "  'A.Diozcora.Vargas.Trevino.1',\n",
       "  'A.Dishaw.1',\n",
       "  'A.D.Panagiotou.1',\n",
       "  'A.D.Peris.1',\n",
       "  'Adrien.Caudron.1',\n",
       "  'A.D.Sakharov.1',\n",
       "  'A.D.Tapper.1',\n",
       "  'A.Ducout.1',\n",
       "  'A.Elliott.Peisert.1',\n",
       "  'A.Elykov.1',\n",
       "  'A.Ershov.1',\n",
       "  'A.Escalante.del.valle.1',\n",
       "  'A.Fagot.1',\n",
       "  'A.Fan.1',\n",
       "  'A.Fanfani.1',\n",
       "  'A.F.Beretvas.1',\n",
       "  'A.Fieguth.1',\n",
       "  'A.Florent.1',\n",
       "  'A.Gallo.Rosso.12',\n",
       "  'A.Gallo.Rosso.18',\n",
       "  'A.Garabedian.1',\n",
       "  'A.Garcia.Bellido.1',\n",
       "  'A.G.Brown.1',\n",
       "  'A.G.Delannoy.1',\n",
       "  'A.Geiser.1',\n",
       "  'A.Ghezzi.1',\n",
       "  'A.Giammanco.1',\n",
       "  'A.Giassi.1',\n",
       "  'A.Givernaud.1',\n",
       "  'A.Gizhko.1',\n",
       "  'A.Godshalk.1',\n",
       "  'A.Gozzelino.2',\n",
       "  'A.Gribushin.1',\n",
       "  'A.Grohsjean.1',\n",
       "  'A.G.Rosso.1',\n",
       "  'A.Gruppuso.2',\n",
       "  'A.G.Stahl.Leiton.1',\n",
       "  'A.Gurrola.1',\n",
       "  'A.Harb.1',\n",
       "  'A.Hart.1',\n",
       "  'A.H.Ball.1',\n",
       "  'A.Hernandez.Almada.1',\n",
       "  'A.Herve.1',\n",
       "  'A.Hime.1',\n",
       "  'A.Hinzmann.1',\n",
       "  'A.H.Jaffe.1',\n",
       "  'A.Holzner.1',\n",
       "  'A.Hortiangtham.1',\n",
       "  'A.I.Malakhov.1',\n",
       "  'A.Ivanov.2',\n",
       "  'A.Jafari.2',\n",
       "  'A.James.2',\n",
       "  'Ajay.Kumar.1',\n",
       "  'A.J.Campbell.1',\n",
       "  'A.J.Richards.1',\n",
       "  'A.Junkes.1',\n",
       "  'A.Juodagalvis.1',\n",
       "  'A.J.Zsigmond.1',\n",
       "  'A.Kalinin.1',\n",
       "  'A.Kalinowski.1',\n",
       "  'A.Kalogeropoulos.1',\n",
       "  'A.Kamenev.1',\n",
       "  'A.Kapoor.1',\n",
       "  'A.Karakci.2',\n",
       "  'A.Karneyeu.1',\n",
       "  'A.Khan.2',\n",
       "  'A.Khatiwada.1',\n",
       "  'A.Khukhunaishvili.1',\n",
       "  'A.K.Kalsi.1',\n",
       "  'A.K.Mohanty.1',\n",
       "  'A.Koenig.1',\n",
       "  'A.Kopec.1',\n",
       "  'A.Kornmayer.1',\n",
       "  'A.Korytov.1',\n",
       "  'A.Kropivnitskaya.1',\n",
       "  'A.Kumar.5',\n",
       "  'A.Kunsken.1',\n",
       "  'A.Kyriakis.1',\n",
       "  'A.Lanaro.1',\n",
       "  'A.Lanev.1',\n",
       "  'Alastair.Currie.1',\n",
       "  'A.Lath.1',\n",
       "  'Alberto.Ruiz.Jimeno.1',\n",
       "  'Alberto.Sanchez.Hernandez.1',\n",
       "  'A.Ledovskoy.2',\n",
       "  'A.Lee.5',\n",
       "  'Alejandro.Ibarra.1',\n",
       "  'A.Lelek.1',\n",
       "  'Alessandro.Manfredini.1',\n",
       "  'Alessandro.Montanari.1',\n",
       "  'A.Levin.1',\n",
       "  'A.Levine.2',\n",
       "  'Alexander.Kish.1',\n",
       "  'Alexey.Baskakov.1',\n",
       "  'Alice.L.Bean.1',\n",
       "  'Alicia.Calderon.1',\n",
       "  'A.Lindote.1',\n",
       "  'Allison.Hall.1',\n",
       "  'A.L.onard.4',\n",
       "  'A.Lopez.Virto.1',\n",
       "  'A.L.Pequegnot.1',\n",
       "  'A.Magitteri.1',\n",
       "  'A.Magnani.1',\n",
       "  'A.Makovec.1',\n",
       "  'A.Mangilli.2',\n",
       "  'A.Marcos.Caballero.1',\n",
       "  'A.Marinov.1',\n",
       "  'A.Martelli.1',\n",
       "  'A.Massironi.1',\n",
       "  'A.M.Brown.1',\n",
       "  'A.Mehta.4',\n",
       "  'A.Melchiorri.1',\n",
       "  'A.Melo.1',\n",
       "  'A.Meneguzzo.1',\n",
       "  'A.Mennella.1',\n",
       "  'A.Mertens.2',\n",
       "  'A.Messineo.1',\n",
       "  'A.Mestvirishvili.1',\n",
       "  'A.Meyer.1',\n",
       "  'A.M.Frolov.1',\n",
       "  'A.M.Green.2',\n",
       "  'A.M.Khvedelidze.1',\n",
       "  'A.M.Lewis.1',\n",
       "  'A.M.Magnan.1',\n",
       "  'A.Modak.1',\n",
       "  'A.Moeller.1',\n",
       "  'A.Molinario.1',\n",
       "  'A.Moraes.1',\n",
       "  'A.Morelos.Pineda.1',\n",
       "  'A.Moss.1',\n",
       "  'A.Mott.1',\n",
       "  'A.M.Rossi.1',\n",
       "  'A.M.Sirunyan.1',\n",
       "  'A.M.Snigirev.1',\n",
       "  'A.Mussgiller.1',\n",
       "  'A.M.Zanetti.1',\n",
       "  'Andreas.Albert.1',\n",
       "  'Andreas.Guth.1',\n",
       "  'Andrei.Khazov.1',\n",
       "  'Andrew.A.Cole.1',\n",
       "  'Andrew.Evans.1',\n",
       "  'Andrew.Gilbert.1',\n",
       "  'Andrew.Rose.1',\n",
       "  'A.Nehrkorn.1',\n",
       "  'A.Nikitenko.1',\n",
       "  'A.N.Lasenby.1',\n",
       "  'Anna.Cimmino.1',\n",
       "  'Anna.E.Woodard.1',\n",
       "  'A.Nowack.1',\n",
       "  'A.N.Safonov.1',\n",
       "  'Anterpreet.Kaur.1',\n",
       "  'Antonin.Vacheret.1',\n",
       "  'A.Olbrechts.2',\n",
       "  'A.O.M.Iorio.1',\n",
       "  'A.Ovcharova.1',\n",
       "  'A.Parker.2',\n",
       "  'A.Pashenkov.1',\n",
       "  'A.P.Colijn.2',\n",
       "  'A.Penzo.1',\n",
       "  'A.Perez.Calero.Yzquierdo.1',\n",
       "  'A.Perieanu.1',\n",
       "  'A.Perloff.2',\n",
       "  'A.Perrotta.1',\n",
       "  'A.Petrilli.1',\n",
       "  'A.Pfeiffer.1',\n",
       "  'A.Piepke.1',\n",
       "  'A.Poll.2',\n",
       "  'A.Pompili.1',\n",
       "  'A.Popov.15',\n",
       "  'A.Pozdnyakov.1',\n",
       "  'A.Psallidas.2',\n",
       "  'A.Pukhov.1',\n",
       "  'A.Quintario.olmeda.1',\n",
       "  'A.Racz.1',\n",
       "  'A.Randle.Conde.1',\n",
       "  'A.Rane.3',\n",
       "  'A.Ranieri.1',\n",
       "  'A.Raspereza.1',\n",
       "  'Archana.Sharma.2',\n",
       "  'A.R.Drager.1',\n",
       "  'A.R.D.Rodrigues.1',\n",
       "  'A.Renzi.4',\n",
       "  'A.Richards.4',\n",
       "  'A.Rinkevicius.1',\n",
       "  'A.Rizzi.1',\n",
       "  'A.Rizzo.1',\n",
       "  'Arka.Santra.1',\n",
       "  'Arnab.Purohit.1',\n",
       "  'A.Rocchetti.1',\n",
       "  'A.Romero.1',\n",
       "  'A.Rosowsky.1',\n",
       "  'A.Roy.5',\n",
       "  'Aruna.Nayak.1',\n",
       "  'Arun.Kumar.1',\n",
       "  'A.Ryd.1',\n",
       "  'A.Saddique.1',\n",
       "  'A.Sady.1',\n",
       "  'A.Saha.2',\n",
       "  'A.Santocchia.1',\n",
       "  'A.Santoro.1',\n",
       "  'A.Savoy.Navarro.1',\n",
       "  'A.S.Belyaev.1',\n",
       "  'A.S.Cabrera.1',\n",
       "  'A.Schmidt.2',\n",
       "  'A.Semenov.1',\n",
       "  'Ashfaq.Ahmad.1',\n",
       "  'A.Shrinivas.1',\n",
       "  'Ashutosh.Bhardwaj.1',\n",
       "  'A.S.Johnson.2',\n",
       "  'A.Skuja.1',\n",
       "  'A.Sobol.2',\n",
       "  'A.Soha.1',\n",
       "  'A.Solano.1',\n",
       "  'A.Sonnenschein.1',\n",
       "  'A.Spiezia.1',\n",
       "  'A.S.Suur.Uski.1',\n",
       "  'A.Staiano.1',\n",
       "  'A.Starodumov.1',\n",
       "  'A.St.J.Murphy.1',\n",
       "  'A.Svyatkovskiy.1',\n",
       "  'A.Sznajder.1',\n",
       "  'A.Tan.1',\n",
       "  'A.Tatarinov.1',\n",
       "  'A.Terkulov.1',\n",
       "  'A.Thea.1',\n",
       "  'A.Tiko.2',\n",
       "  'A.Tiseni.1',\n",
       "  'A.Tomas.3',\n",
       "  'A.Topkar.1',\n",
       "  'A.Toropin.1',\n",
       "  'A.Tricomi.1',\n",
       "  'A.Triossi.1',\n",
       "  'A.Tsirou.1',\n",
       "  'Attila.Dobi.1',\n",
       "  'A.Tumasyan.1',\n",
       "  'A.Vanhoefer.1',\n",
       "  'A.Van.Spilbeeck.6',\n",
       "  'A.Vartak.1',\n",
       "  'A.Venturi.1',\n",
       "  'A.V.Gritsan.1',\n",
       "  'A.Vilela.Pereira.1',\n",
       "  'A.V.Leonidov.1',\n",
       "  'A.Vorobyev.2',\n",
       "  'A.V.Uzunian.1',\n",
       "  'A.V.Zarubin.1',\n",
       "  'A.Wang.3',\n",
       "  'A.W.Barker.1',\n",
       "  'A.W.Borgland.1',\n",
       "  'A.Whitbeck.1',\n",
       "  'A.W.Jung.1',\n",
       "  'A.Yagil.1',\n",
       "  'A.Zabi.1',\n",
       "  'A.Zacchei.1',\n",
       "  'A.Zagozdzinska.1',\n",
       "  'A.Zghiche.1',\n",
       "  'A.Zhokin.1',\n",
       "  'A.Zonca.1',\n",
       "  'A.Zucchetta.2',\n",
       "  'B.A.Dobrescu.1',\n",
       "  'B.Akgun.1',\n",
       "  'B.Asavapibhop.1',\n",
       "  'B.Bauermeister.1',\n",
       "  'B.Beskers.2',\n",
       "  'B.Betchart.1',\n",
       "  'B.Bhawandeep.1',\n",
       "  'B.Bilki.2',\n",
       "  'B.Boimska.1',\n",
       "  'B.Boxer.1',\n",
       "  'B.Bylsma.1',\n",
       "  'B.Cabrera.2',\n",
       "  'B.Calpas.1',\n",
       "  'B.Calvert.1',\n",
       "  'B.Carlson.3',\n",
       "  'B.Casal.Larana.2',\n",
       "  'B.C.Choudhary.1',\n",
       "  'B.Clerbaux.1',\n",
       "  'B.Courbon.1',\n",
       "  'B.Cox.1',\n",
       "  'B.C.Radburn.Smith.1',\n",
       "  'B.De.La.Cruz.1',\n",
       "  'B.Dorney.1',\n",
       "  'B.D.Wandelt.1',\n",
       "  'B.E.Krikler.1',\n",
       "  'B.Fabbro.1',\n",
       "  'B.Francis.1',\n",
       "  'B.Francois.1',\n",
       "  'B.Freund.2',\n",
       "  'Bhawna.Gomber.1',\n",
       "  'B.Hong.1',\n",
       "  'B.Ille.1',\n",
       "  'Bingxuan.Liu.1',\n",
       "  'B.Isildak.1',\n",
       "  'B.Jayatilaka.1',\n",
       "  'B.J.Blumenfeld.1',\n",
       "  'B.J.Mount.4',\n",
       "  'B.Kaminsky.1',\n",
       "  'B.Kargoll.1',\n",
       "  'B.Kiani.2',\n",
       "  'B.Kilminster.1',\n",
       "  'B.Klima.1',\n",
       "  'B.Kreis.1',\n",
       "  'B.Loer.1',\n",
       "  'B.Lopez.Paredes.4',\n",
       "  'B.L.Winer.1',\n",
       "  'B.Mahakud.1',\n",
       "  'B.Maier.2',\n",
       "  'B.Majorovits.1',\n",
       "  'B.Mangano.1',\n",
       "  'B.Marzocchi.1',\n",
       "  'B.Mesic.1',\n",
       "  'B.Michlin.1',\n",
       "  'B.N.Ratcliff.1',\n",
       "  'B.Parida.1',\n",
       "  'B.Partridge.1',\n",
       "  'B.Pavlov.1',\n",
       "  'B.P.Crill.1',\n",
       "  'B.Pelssers.1',\n",
       "  'B.Penning.1',\n",
       "  'B.Pollack.1',\n",
       "  'B.P.Padley.1',\n",
       "  'B.Rahbaran.2',\n",
       "  'Brandon.Allen.1',\n",
       "  'Brian.G.Lenardo.1',\n",
       "  'B.Riedel.1',\n",
       "  'B.Roland.1',\n",
       "  'B.Roozbahani.1',\n",
       "  'B.Ruiz.Granados.1',\n",
       "  'B.Sadoulet.1',\n",
       "  'B.Safarzadeh.1',\n",
       "  'B.Stieger.1',\n",
       "  'B.Sutar.1',\n",
       "  'B.Tali.1',\n",
       "  'Bugra.Bilin.1',\n",
       "  'B.Ujvari.1',\n",
       "  'B.Van.Tent.3',\n",
       "  'B.V.Grinyov.2',\n",
       "  'B.Vormwald.1',\n",
       "  'B.Wyslouch.1',\n",
       "  'B.Yan.1',\n",
       "  'B.Yates.1',\n",
       "  'C.A.Bernardes.1',\n",
       "  'C.A.George.1',\n",
       "  'C.A.J.Brew.1',\n",
       "  'C.A.J.Ohare.1',\n",
       "  'C.Amsler.1',\n",
       "  'C.Amsler.2',\n",
       "  'C.Andres.Carrillo.Montoya.1',\n",
       "  'C.Anelli.1',\n",
       "  'C.A.Rhyne.1',\n",
       "  'Carl.Eric.Dahl.1',\n",
       "  'Carl.W.Akerlof.1',\n",
       "  'Carter.R.Hall.1',\n",
       "  'C.Asawatangtrakuldee.1',\n",
       "  'C.A.Ternes.1',\n",
       "  'C.Autermann.1',\n",
       "  'C.Avila.1',\n",
       "  'C.A.West.1',\n",
       "  'C.Baccigalupi.2',\n",
       "  'C.Barth.1',\n",
       "  'C.Battilana.1',\n",
       "  'C.Baus.1',\n",
       "  'C.Beirao.da.Cruz.e.Silva.1',\n",
       "  'C.Beluffi.1',\n",
       "  'C.Bernet.1',\n",
       "  'C.Biino.1',\n",
       "  'C.Botta.1',\n",
       "  'C.Bravo.1',\n",
       "  'C.Burigana.2',\n",
       "  'C.Caillol.1',\n",
       "  'C.Calabria.1',\n",
       "  'C.Campagnari.1',\n",
       "  'C.Caputo.2',\n",
       "  'C.Carels.1',\n",
       "  'C.Charlot.1',\n",
       "  'C.Cheng.7',\n",
       "  'C.Civinini.1',\n",
       "  'C.C.Neu.1',\n",
       "  'C.Collard.1',\n",
       "  'C.Combet.1',\n",
       "  'C.Contreras.Campana.1',\n",
       "  'C.D.Carone.1',\n",
       "  'C.Delaere.1',\n",
       "  'C.De.Oliveira.Martins.1',\n",
       "  'C.Diez.Pardos.1',\n",
       "  'C.D.Kocher.1',\n",
       "  'C.Dozen.1',\n",
       "  'C.Dragoiu.1',\n",
       "  'C.D.Tunnell.1',\n",
       "  'Cecilia.Elena.Gerber.1',\n",
       "  'Cecilia.Levy.1',\n",
       "  'Celine.Boehm.1',\n",
       "  'Cesar.Luiz.da.Silva.1',\n",
       "  'C.Fangmeier.1',\n",
       "  'C.Favaro.1',\n",
       "  'C.Fernandez.Bedoya.1',\n",
       "  'C.Ferraioli.1',\n",
       "  'C.F.Gonzalez.Hernandez.1',\n",
       "  'C.Flores.2',\n",
       "  'C.Florez.1',\n",
       "  'C.F.Maguire.1',\n",
       "  'C.Foudas.1',\n",
       "  'C.Frugiuele.1',\n",
       "  'C.Galbiati.1',\n",
       "  'C.Galloni.1',\n",
       "  'C.Geis.1',\n",
       "  'C.Grandi.1',\n",
       "  'C.Grignon.1',\n",
       "  'C.Hajdu.1',\n",
       "  'Chamkaur.Ghag.1',\n",
       "  'Chang.Bo.Fu.1',\n",
       "  'Chang.Yuan.Yao.1',\n",
       "  'Charles.Mueller.1',\n",
       "  'C.Harrington.1',\n",
       "  'C.Hartl.1',\n",
       "  'C.He.1',\n",
       "  'C.Heidegger.1',\n",
       "  'C.Heidemann.1',\n",
       "  'C.Henderson.1',\n",
       "  'C.Hensel.1',\n",
       "  'Chiara.Capelli.1',\n",
       "  'Chiara.Rovelli.1',\n",
       "  'Chiara.Sirignano.1',\n",
       "  'C.Hils.1',\n",
       "  'C.Hjemfelt.1',\n",
       "  'C.H.Q.Ingram.1',\n",
       "  'Christian.Scharf.1',\n",
       "  'Christina.M.Ignarra.1',\n",
       "  'Christine.A.McLean.1',\n",
       "  'Christoph.Grab.1',\n",
       "  'C.H.Shepherd.Themistocleous.1',\n",
       "  'Chun.Hua.Jiang.1',\n",
       "  'Chun.Jie.Wang.1',\n",
       "  'C.Hwang.3',\n",
       "  'C.J.Clarke.2',\n",
       "  'C.J.Seez.1',\n",
       "  'C.Kleinwort.1',\n",
       "  'C.Laner.2',\n",
       "  'C.Lange.1',\n",
       "  'Claudia.Elisabeth.Wulz.1',\n",
       "  'Clemencia.Mora.Herrera.1',\n",
       "  'C.Li.10',\n",
       "  'C.Lourenco.1',\n",
       "  'C.Lucas.1',\n",
       "  'C.Macolino.1',\n",
       "  'C.Mariotti.1',\n",
       "  'C.Martinez.Rivero.1',\n",
       "  'C.Maupin.1',\n",
       "  'C.Mcginn.1',\n",
       "  'C.M.E.Paus.1',\n",
       "  'C.Mironov.1',\n",
       "  'C.M.Kuo.1',\n",
       "  'C.Murgui.1',\n",
       "  'C.Nicolaou.1',\n",
       "  'C.O.Barrera.1',\n",
       "  'C.Ochando.1',\n",
       "  'Constanze.Hasterok.1',\n",
       "  'C.Palmer.1',\n",
       "  'C.Pistone.1',\n",
       "  'C.P.Jessop.1',\n",
       "  'Craig.E.Tull.1',\n",
       "  'C.Reuter.1',\n",
       "  'C.Riccardi.1',\n",
       "  'C.Richardson.1',\n",
       "  'Cristian.Pena.1',\n",
       "  'C.R.Lawrence.1',\n",
       "  'C.Roland.1',\n",
       "  'C.Rosset.1',\n",
       "  'C.Schafer.1',\n",
       "  'C.S.Chan.1',\n",
       "  'C.Schnaible.1',\n",
       "  'C.Schomakers.1',\n",
       "  'C.Schwick.1',\n",
       "  'C.Sciacca.1',\n",
       "  'C.Seitz.3',\n",
       "  'C.Shang.1',\n",
       "  'C.S.Hill.1',\n",
       "  'C.S.Moon.1',\n",
       "  'C.Snyder.1',\n",
       "  'C.Therreau.1',\n",
       "  'C.Tully.1',\n",
       "  'C.Tuve.1',\n",
       "  'C.Uribe.Estrada.1',\n",
       "  'C.Vander.Velde.1',\n",
       "  'C.Veelken.1',\n",
       "  'C.Vernieri.1',\n",
       "  'C.Weinheimer.1',\n",
       "  'C.Welke.1',\n",
       "  'C.Wissing.1',\n",
       "  'C.Wittweg.1',\n",
       "  'C.Woehrmann.1',\n",
       "  'C.You.1',\n",
       "  'C.Yu.4',\n",
       "  'C.Zorbilmez.1',\n",
       "  'D.Abbaneo.1',\n",
       "  'D.Abercrombie.1',\n",
       "  'D.Acosta.1',\n",
       "  'D.A.Hangal.1',\n",
       "  'D.A.M.Dominguez.1',\n",
       "  'D.Anderson.2',\n",
       "  'Daniel.A.Bauer.1',\n",
       "  'Daniela.U.Bauer.1',\n",
       "  'Daniel.Gastler.1',\n",
       "  'Daniel.Klein.1',\n",
       "  'Daniel.N.McKinsey.1',\n",
       "  'Daniel.Raymond.Green.1',\n",
       "  'Daniel.S.Akerib.1',\n",
       "  'Daniel.Salerno.1',\n",
       "  'Daniel.Schulte.1',\n",
       "  'D.Arcaro.1',\n",
       "  'D.A.Shtol.1',\n",
       "  'D.A.Suarez.Roldan.1',\n",
       "  'David.Masson.1',\n",
       "  'Da.Yong.Wang.1',\n",
       "  'D.Barney.1',\n",
       "  'D.B.Costa.1',\n",
       "  'D.Belknap.1',\n",
       "  'D.Berry.1',\n",
       "  'D.Bisello.1',\n",
       "  'D.Bloch.1',\n",
       "  'D.Bonacorsi.1',\n",
       "  'D.Burton.1',\n",
       "  'D.Ciangottini.1',\n",
       "  'D.Cichon.1',\n",
       "  'D.Cieri.1',\n",
       "  'D.Claes.1',\n",
       "  'D.Coderre.1',\n",
       "  'D.Contardo.1',\n",
       "  'D.Contreras.1',\n",
       "  'D.Creanza.1',\n",
       "  'D.Curry.2',\n",
       "  'D.Cutts.1',\n",
       "  'D.De.Jesus.Damiao.1',\n",
       "  'D.del.Re.1',\n",
       "  'D.Denegri.1',\n",
       "  'D.Devetak.1',\n",
       "  'D.Dobur.1',\n",
       "  'D.Duggan.1',\n",
       "  'Deborah.Duchardt.1',\n",
       "  'D.Eckstein.1',\n",
       "  'D.Elumakhov.1',\n",
       "  'D.E.Pellett.1',\n",
       "  'De.Qing.Fang.1',\n",
       "  'Derek.A.Strom.1',\n",
       "  'Devin.Nathaniel.Taylor.1',\n",
       "  'Dezso.Horvath.1',\n",
       "  'D.Fasanella.1',\n",
       "  'D.Fehling.1',\n",
       "  'D.Ferencek.1',\n",
       "  'D.Figueiredo.2',\n",
       "  'D.G.Cussans.1',\n",
       "  'D.G.d.Enterria.1',\n",
       "  'D.Gele.1',\n",
       "  'D.G.Hsu.1',\n",
       "  'D.Gigi.1',\n",
       "  'D.Gonzalez.2',\n",
       "  'D.Gulhan.1',\n",
       "  'D.Gyun.2',\n",
       "  'D.Haitz.1',\n",
       "  'D.Hare.1',\n",
       "  'D.Herranz.1',\n",
       "  'D.Hilk.1',\n",
       "  'D.Hits.1',\n",
       "  'D.H.Miller.1',\n",
       "  'D.H.Nguyen.3',\n",
       "  'D.I.Futyan.1',\n",
       "  'Dipanwita.Dutta.1',\n",
       "  'D.J.A.Cockerill.1',\n",
       "  'D.J.Colling.1',\n",
       "  'D.J.Hernandez.Orduna.1',\n",
       "  'D.J.Hofman.1',\n",
       "  'D.J.Karmgard.1',\n",
       "  'D.J.Lange.1',\n",
       "  'D.J.Tapia.Takaki.2',\n",
       "  'D.Khaitan.1',\n",
       "  'D.Konstantinov.1',\n",
       "  'D.Kotlinski.1',\n",
       "  'D.Kovalskyi.1',\n",
       "  'D.Krcker.1',\n",
       "  'D.Krofcheck.1',\n",
       "  'D.K.Sahoo.1',\n",
       "  'D.Leggat.1',\n",
       "  'D.Lelas.1',\n",
       "  'D.Liko.1',\n",
       "  'D.Loukas.1',\n",
       "  'D.Maino.1',\n",
       "  'D.Majumder.1',\n",
       "  'D.Marconi.1',\n",
       "  'D.Mason.1',\n",
       "  'D.Mayani.1',\n",
       "  'D.Mckinsey.1',\n",
       "  'D.Meister.1',\n",
       "  'D.Menasce.1',\n",
       "  'D.M.Morse.1',\n",
       "  'D.M.Newbold.1',\n",
       "  'D.Molinari.3',\n",
       "  'D.Moran.1',\n",
       "  'D.M.Raymond.1',\n",
       "  'D.M.Wright.1',\n",
       "  'D.Nash.1',\n",
       "  'D.Noonan.1',\n",
       "  'D.Nowatschin.1',\n",
       "  'D.Olivito.1',\n",
       "  'Dominic.Smith.1',\n",
       "  'Dong.Chul.Son.1',\n",
       "  'Dong.Hee.Kim.1',\n",
       "  'Dongqing.Huang.1',\n",
       "  'Douglas.Burns.1',\n",
       "  'D.Paoletti.1',\n",
       "  'D.Pedrini.1',\n",
       "  'D.Petyt.1',\n",
       "  'D.Piccolo.1',\n",
       "  'D.Pinna.1',\n",
       "  'D.Pitzl.1',\n",
       "  'D.Poyraz.2',\n",
       "  'D.P.Saltzberg.1',\n",
       "  'D.P.Stickland.1',\n",
       "  'D.Puigh.1',\n",
       "  'D.Rabady.2',\n",
       "  'D.Ramirez.Garcia.5',\n",
       "  'D.Ramirez.Garcia.8',\n",
       "  'D.Rank.2',\n",
       "  'D.Rankin.1',\n",
       "  'D.Rathjens.1',\n",
       "  'D.Restrepo.1',\n",
       "  'D.R.Marlow.1',\n",
       "  'D.Romero.Abad.1',\n",
       "  'D.Roy.1',\n",
       "  'D.R.Wood.1',\n",
       "  'D.Seckel.1',\n",
       "  'D.Sheffield.1',\n",
       "  'D.S.Leonard.1',\n",
       "  'D.Sperka.1',\n",
       "  'D.Stolp.2',\n",
       "  'D.Stuart.1',\n",
       "  'D.Sunar.1',\n",
       "  'D.Tavagnacco.1',\n",
       "  'D.T.Bourilkov.1',\n",
       "  'D.Temples.1',\n",
       "  'D.Teyssier.1',\n",
       "  'D.Thers.1',\n",
       "  'D.Tlisov.1',\n",
       "  'D.Treille.1',\n",
       "  'D.Trocino.1',\n",
       "  'D.Troendle.1',\n",
       "  'D.Tucker.Smith.1',\n",
       "  'D.T.White.1',\n",
       "  'Duncan.J.Scott.1',\n",
       "  'Duncan.L.Carlsmith.1',\n",
       "  'Dustin.Burns.1',\n",
       "  'D.Vadruccio.1',\n",
       "  'D.Vannerom.1',\n",
       "  'D.Velicanu.1',\n",
       "  'D.V.Forero.1',\n",
       "  'D.Wenz.1',\n",
       "  'D.Winn.1',\n",
       "  'D.W.Lincoln.1',\n",
       "  'D.Woodward.1',\n",
       "  'D.Zhang.9',\n",
       "  'D.Zou.2',\n",
       "  'E.A.De.Wolf.1',\n",
       "  'E.Asilar.1',\n",
       "  'E.Auffray.1',\n",
       "  'E.Barberis.1',\n",
       "  'E.Belchior.Batista.Das.Chagas.1',\n",
       "  'E.Bouvier.1',\n",
       "  'E.Brondolin.1',\n",
       "  'E.Brown.3',\n",
       "  'E.Butz.1',\n",
       "  'E.Calabrese.1',\n",
       "  'E.Calvo.Alamillo.1',\n",
       "  'E.Carrera.Jarrin.1',\n",
       "  'E.C.Chabert.1',\n",
       "  'E.Chapon.1',\n",
       "  'E.Conte.1',\n",
       "  'E.Curras.2',\n",
       "  'E.De.La.Cruz.Burelo.1',\n",
       "  'E.Dietz.Laursonn.1',\n",
       "  'E.Di.Marco.1',\n",
       "  'E.Di.Valentino.1',\n",
       "  'Eduard.E.Boos.1',\n",
       "  'E.Duchovni.1',\n",
       "  'Edward.Scott.1',\n",
       "  'E.E.Eren.1',\n",
       "  'E.E.Kangal.1',\n",
       "  'E.Erdal.1',\n",
       "  'E.Eskandari.Tadavani.1',\n",
       "  'E.F.Hivon.1',\n",
       "  'E.Figueroa.Feliciano.1',\n",
       "  'E.Focardi.1',\n",
       "  'E.Franceschi.1',\n",
       "  'E.Gallo.1',\n",
       "  'E.Garutti.1',\n",
       "  'E.G.Avdeeva.1',\n",
       "  'E.Golias.1',\n",
       "  'E.Gulmez.1',\n",
       "  'E.Gurpinar.1',\n",
       "  'E.Halkiadakis.1',\n",
       "  'E.Hogenbirk.1',\n",
       "  'E.Hughes.1',\n",
       "  'E.J.Tonelli.manganote.1',\n",
       "  'E.Juska.1',\n",
       "  'E.Keihaenen.2',\n",
       "  'E.Kuznetsova.1',\n",
       "  'E.Laird.1',\n",
       "  'Elena.G.Aprile.1',\n",
       "  'Elena.V.Korolkova.1',\n",
       "  'Elif.Asli.Yetkin.1',\n",
       "  'Elizabeth.Kennedy.1',\n",
       "  'E.Locci.1',\n",
       "  'E.Longo.1',\n",
       "  'E.Lopez.Fune.1',\n",
       "  'E.Martinez.Gonzalez.7',\n",
       "  'E.Melo.Da.Costa.1',\n",
       "  'E.Meschi.1',\n",
       "  'E.M.Gregores.1',\n",
       "  'E.Migliore.1',\n",
       "  'E.Monteil.1',\n",
       "  'E.Morrison.1',\n",
       "  'E.Morteau.1',\n",
       "  'Emyr.Clement.1',\n",
       "  'E.Navarro.de.Martino.1',\n",
       "  'E.O.Olaiya.1',\n",
       "  'E.Paganis.1',\n",
       "  'E.Palencia.Cortezon.1',\n",
       "  'E.Pantic.1',\n",
       "  'E.Paradas.1',\n",
       "  'E.Perez.2',\n",
       "  'E.P.S.Shellard.2',\n",
       "  'Eric.H.Miller.1',\n",
       "  'Eric.W.Hoppe.1',\n",
       "  'Erik.E.Gottschalk.1',\n",
       "  'Ernest.Ma.1',\n",
       "  'E.Robutti.1',\n",
       "  'Eryk.Druszkiewicz.1',\n",
       "  'E.Salama.1',\n",
       "  'E.Sexton.Kennedy.1',\n",
       "  'E.Shockley.1',\n",
       "  'E.Spencer.2',\n",
       "  'Ethan.P.Bernard.1',\n",
       "  'E.Tiras.1',\n",
       "  'E.Torassa.1',\n",
       "  'E.Tuovinen.1',\n",
       "  'E.Tziaferi.1',\n",
       "  'E.Usai.2',\n",
       "  'Evan.K.Pease.1',\n",
       "  'E.V.Hungerford.1',\n",
       "  'E.Vlasov.1',\n",
       "  'E.Voirin.1',\n",
       "  'E.V.Zhemchugov.1',\n",
       "  'E.W.Kolb.1',\n",
       "  'E.Wolfe.1',\n",
       "  'E.W.Vaandering.1',\n",
       "  'E.Yazgan.1',\n",
       "  'Fan.Bo.Meng.1',\n",
       "  'F.Arneodo.1',\n",
       "  'F.Bachmair.1',\n",
       "  'F.Ball.2',\n",
       "  'F.Beaudette.1',\n",
       "  'F.Boudjema.1',\n",
       "  'F.Boulanger.2',\n",
       "  'F.Brivio.2',\n",
       "  'F.Calaprice.1',\n",
       "  'F.Cavallari.1',\n",
       "  'F.Cenna.2',\n",
       "  'F.Colombo.2',\n",
       "  'F.Cossutti.1',\n",
       "  'F.Costanza.1',\n",
       "  'F.Couderc.1',\n",
       "  'F.Cuttaia.1',\n",
       "  'F.D.Amaro.1',\n",
       "  'F.De.Guio.1',\n",
       "  'Federica.Agostini.1',\n",
       "  'Fei.Gao.2',\n",
       "  'Felice.Pantaleo.1',\n",
       "  'F.Elsner.1',\n",
       "  'F.Fabbri.1',\n",
       "  'F.Fabozzi.1',\n",
       "  'F.Fallavollita.1',\n",
       "  'F.Ferri.1',\n",
       "  'F.Ferro.2',\n",
       "  'F.Fienga.1',\n",
       "  'F.Finelli.2',\n",
       "  'F.Forastieri.2',\n",
       "  'F.Gasparini.1',\n",
       "  'F.Geurts.1',\n",
       "  'F.Giordano.1',\n",
       "  'F.Glege.1',\n",
       "  'F.Glueck.1',\n",
       "  'F.Golf.1',\n",
       "  'F.Hartmann.1',\n",
       "  'F.Jensen.1',\n",
       "  'F.Joerg.1',\n",
       "  'F.Kassel.2',\n",
       "  'F.K.Hansen.1',\n",
       "  'F.K.Wuerthwein.1',\n",
       "  'F.Lacroix.1',\n",
       "  'F.Lagarde.1',\n",
       "  'F.L.Alves.1',\n",
       "  'F.Levrier.1',\n",
       "  'F.L.Fabbri.1',\n",
       "  'F.Ligabue.1',\n",
       "  'F.L.Linde.1',\n",
       "  'F.L.Navarria.1',\n",
       "  'F.Lombardi.1',\n",
       "  'Florian.R.A.Staub.1',\n",
       "  'F.Margaroli.1',\n",
       "  'F.Marignetti.2',\n",
       "  'F.Matorras.1',\n",
       "  'F.Meijers.1',\n",
       "  'F.M.H.Stober.1',\n",
       "  'F.Micheli.2',\n",
       "  'F.Moortgat.1',\n",
       "  'F.Nessi.Tedaldi.1',\n",
       "  'F.Ozok.1',\n",
       "  'F.Palla.1',\n",
       "  'F.Pandolfi.1',\n",
       "  'F.Pauss.1',\n",
       "  'F.Perrotta.1',\n",
       "  'F.Petricca.1',\n",
       "  'F.Piacentini.1',\n",
       "  'F.Piastra.1',\n",
       "  'F.Preiato.1',\n",
       "  'F.Primavera.1',\n",
       "  'F.Ptohos.1',\n",
       "  'Francesco.Fiori.1',\n",
       "  'Francisco.Neves.1',\n",
       "  'Frank.L.H.Wolfs.1',\n",
       "  'F.Ravera.1',\n",
       "  'F.R.Bouchet.1',\n",
       "  'F.R.Cavallo.1',\n",
       "  'F.Rebassoo.1',\n",
       "  'Freya.Blekman.1',\n",
       "  'F.Rezaei.Hosseinabadi.1',\n",
       "  'F.Ricci.Tam.1',\n",
       "  'F.Riva.2',\n",
       "  'F.Romeo.1',\n",
       "  'F.Roscher.1',\n",
       "  'F.Santanastasio.1',\n",
       "  'F.Scheuch.1',\n",
       "  'F.S.Chlebana.1',\n",
       "  'F.Sikler.1',\n",
       "  'F.Simonetto.1',\n",
       "  'F.Thyssen.1',\n",
       "  'F.T.Liao.1',\n",
       "  'F.Torres.Da.Silva.De.Araujo.1',\n",
       "  'F.Toschi.2',\n",
       "  'Fu.Qiang.Wang.1',\n",
       "  'F.Vazquez.2',\n",
       "  'F.Villa.1',\n",
       "  'F.V.Massoli.1',\n",
       "  'F.Xia.2',\n",
       "  'F.X.Yumiceva.1',\n",
       "  'F.Zenoni.1',\n",
       "  'F.Zhang.4',\n",
       "  'G.Abbiendi.1',\n",
       "  'Gagan.Bihari.Mohanty.1',\n",
       "  'G.Alverson.1',\n",
       "  'G.Anagnostou.1',\n",
       "  'G.A.Pierro.1',\n",
       "  'G.Apollinari.1',\n",
       "  'G.Auzinger.1',\n",
       "  'Gavin.J.Davies.1',\n",
       "  'G.Bagliesi.1',\n",
       "  'G.Barbagli.1',\n",
       "  'G.B.Cerati.1',\n",
       "  'G.Belanger.1',\n",
       "  'G.Bencze.1',\n",
       "  'G.Benelli.1',\n",
       "  'G.Bolla.2',\n",
       "  'G.Boudoul.1',\n",
       "  'G.Bruno.1',\n",
       "  'G.Bruno.2',\n",
       "  'G.B.Safronov.1',\n",
       "  'G.Cerminara.1',\n",
       "  'G.Codispoti.1',\n",
       "  'G.C.Trinchero.1',\n",
       "  'G.Daskalakis.1',\n",
       "  'G.De.Lentdecker.1',\n",
       "  'G.Della.Ricca.1',\n",
       "  'G.De.Nardo.1',\n",
       "  'G.De.Zotti.3',\n",
       "  'G.Dissertori.1',\n",
       "  'G.Dolinska.1',\n",
       "  'G.Drexlin.1',\n",
       "  'G.Eckerlin.1',\n",
       "  'Geng.Chen.1',\n",
       "  'Geum.Bong.Yu.1',\n",
       "  'G.Eurin.1',\n",
       "  'G.Fasanella.1',\n",
       "  'G.Fedi.1',\n",
       "  'G.Fiorillo.1',\n",
       "  'G.Flouris.1',\n",
       "  'G.Flugge.1',\n",
       "  'G.Franzoni.1',\n",
       "  'G.Funk.3',\n",
       "  'G.G.da.Silveira.1',\n",
       "  'G.G.Hanson.1',\n",
       "  'G.Gokbulut.1',\n",
       "  'G.Gomez.1',\n",
       "  'G.Gomez.Ceballos.1',\n",
       "  'G.Hall.2',\n",
       "  'G.Hamel.de.Monchenault.1',\n",
       "  'G.Iaselli.1',\n",
       "  'G.Iles.1',\n",
       "  'Gilvan.A.Alves.1',\n",
       "  'G.Istvan.Veres.1',\n",
       "  'G.J.Grenier.1',\n",
       "  'G.Karapinar.1',\n",
       "  'G.Karapostoli.1',\n",
       "  'G.Kasieczka.1',\n",
       "  'G.Kole.1',\n",
       "  'G.Koltman.1',\n",
       "  'G.Krintiras.1',\n",
       "  'G.Lagache.1',\n",
       "  'G.Lanza.3',\n",
       "  'G.L.Pinna.angioni.1',\n",
       "  'G.Maggi.1',\n",
       "  'G.Maggio.1',\n",
       "  'G.Majumder.1',\n",
       "  'G.Mantovani.1',\n",
       "  'G.Martinez.2',\n",
       "  'G.Masetti.1',\n",
       "  'G.Mavromanolakis.1',\n",
       "  'G.M.Bilei.1',\n",
       "  ...],\n",
       " 'author_count': 3,\n",
       " 'earliest_date': '2022-05-11',\n",
       " 'primary_arxiv_category': ['hep-ph'],\n",
       " 'facet_author_name': ['1744378_Andrés Rivera',\n",
       "  '991924_Diego Restrepo',\n",
       "  '1073186_Walter Tangarife Garcia'],\n",
       " 'abstracts': [{'source': 'arXiv',\n",
       "   'abstract_source_suggest': {'input': 'arXiv'},\n",
       "   'value': 'We present a gauged baryon number model as an example of models where all new fermions required to cancel out the anomalies help to solve phenomenological problems of the standard model (SM). Dark fermion doublets, along with the iso-singlet charged fermions, in conjunction with a set of SM-singlet fermions, participate in the generation of small neutrino masses through the Dirac-dark Zee mechanism. The other SM-singlets explain the dark matter in the Universe, while their coupling to an inert singlet scalar is the source of the $CP$ violation. In the presence of a strong first-order electroweak phase transition, this \"dark\" $CP$ violation allows for a successful electroweak baryogenesis mechanism.'}],\n",
       " 'preprint_date': '2022-05-11',\n",
       " 'public_notes': [{'source': 'arXiv',\n",
       "   'value': '20 pages, 4 figures. Comments are welcome! v.2: Added references,\\n changed baryon number normalization, added meson decay constraints'}],\n",
       " 'titles': [{'source': 'arXiv',\n",
       "   'title': 'Dirac dark matter, neutrino masses, and dark baryogenesis'}],\n",
       " 'references': [{'record': {'$ref': 'https://inspirehep.net/api/literature/379775'},\n",
       "   'reference': {'title': {'title': 'Possible light U(1) gauge boson coupled to baryon number'},\n",
       "    'misc': ['and Hitoshi Murayama', 'arXiv:'],\n",
       "    'arxiv_eprint': 'hep-ph/9411256',\n",
       "    'authors': [{'full_name': 'Carone, Christopher D.'}],\n",
       "    'publication_info': {'journal_volume': '74',\n",
       "     'page_start': '3122',\n",
       "     'page_end': '3125',\n",
       "     'year': 1995,\n",
       "     'journal_title': 'Phys.Rev.Lett.'},\n",
       "    'label': '1'},\n",
       "   'raw_refs': [{'source': 'arXiv',\n",
       "     'value': '[1] Christopher D. Carone and Hitoshi Murayama, “Possible light U(1) gauge boson coupled to baryon number,” Phys. Rev. Lett. 74, 3122–3125 (1995), arXiv:hep-ph/9411256',\n",
       "     'schema': 'text'}]},\n",
       "  {'record': {'$ref': 'https://inspirehep.net/api/literature/392065'},\n",
       "   'reference': {'title': {'title': 'Realistic models with a light U(1) gauge boson coupled to baryon number'},\n",
       "    'misc': ['and Hitoshi Murayama', 'arXiv:'],\n",
       "    'arxiv_eprint': 'hep-ph/9501220',\n",
       "    'authors': [{'full_name': 'Carone, Christopher D.'}],\n",
       "    'publication_info': {'journal_volume': '52',\n",
       "     'page_start': '484',\n",
       "     'page_end': '493',\n",
       "     'year': 1995,\n",
       "     'journal_title': 'Phys.Rev.D'},\n",
       "    'label': '2'},\n",
       "   'raw_refs': [{'source': 'arXiv',\n",
       "     'value': '[2] Christopher D. Carone and Hitoshi Murayama, “Realistic models with a light U(1) gauge boson coupled to baryon number,” Phys. Rev. D 52, 484–493 (1995), arXiv:hep-ph/9501220',\n",
       "     'schema': 'text'}]},\n",
       "  {'record': {'$ref': 'https://inspirehep.net/api/literature/1704944'},\n",
       "   'reference': {'publication_info': {'journal_volume': '122',\n",
       "     'year': 2019,\n",
       "     'artid': '201802',\n",
       "     'journal_title': 'Phys.Rev.Lett.'},\n",
       "    'title': {'title': 'Electroweak Baryogenesis from DarkSector CP Violation'},\n",
       "    'misc': ['Marcela Carena, Mariano Quirós, and Yue Zhang'],\n",
       "    'label': '3',\n",
       "    'arxiv_eprint': '1811.09719'},\n",
       "   'raw_refs': [{'source': 'arXiv',\n",
       "     'value': '[3] Marcela Carena, Mariano Quir´ os, and Yue Zhang, “Electroweak Baryogenesis from DarkSector CP Violation,” Phys. Rev. Lett. 122, 201802 (2019), arXiv:1811.09719 [hep-ph]',\n",
       "     'schema': 'text'}]},\n",
       "  {'record': {'$ref': 'https://inspirehep.net/api/literature/1749565'},\n",
       "   'reference': {'publication_info': {'journal_volume': '101',\n",
       "     'year': 2020,\n",
       "     'artid': '055014',\n",
       "     'journal_title': 'Phys.Rev.D'},\n",
       "    'title': {'title': 'Dark CP violation and gauged lepton or baryon number for electroweak baryogenesis'},\n",
       "    'misc': ['Marcela Carena, Mariano Quirós, and Yue Zhang'],\n",
       "    'label': '4',\n",
       "    'arxiv_eprint': '1908.04818'},\n",
       "   'raw_refs': [{'source': 'arXiv',\n",
       "     'value': '[4] Marcela Carena, Mariano Quir´ os, and Yue Zhang, “Dark CP violation and gauged lepton or baryon number for electroweak baryogenesis,” Phys. Rev. D 101, 055014 (2020), arXiv:1908.04818 [hep-ph]',\n",
       "     'schema': 'text'}]},\n",
       "  {'record': {'$ref': 'https://inspirehep.net/api/literature/845452'},\n",
       "   'reference': {'publication_info': {'journal_volume': '82',\n",
       "     'year': 2010,\n",
       "     'artid': '011901',\n",
       "     'journal_title': 'Phys.Rev.D'},\n",
       "    'title': {'title': 'Baryon and lepton number as local gauge symmetries'},\n",
       "    'misc': ['Pavel Fileviez Perez and Mark B. Wise'],\n",
       "    'label': '5'},\n",
       "   'raw_refs': [{'source': 'arXiv',\n",
       "     'value': '[5] Pavel Fileviez Perez and Mark B. Wise, “Baryon and lepton number as local gauge symmetries,” Phys. Rev. D 82, 011901 (2010), [Erratum: Phys.Rev.D 82, 079901 (2010)], arXiv:1002.1754 [hep-ph]',\n",
       "     'schema': 'text'}]},\n",
       "  {'record': {'$ref': 'https://inspirehep.net/api/literature/845452'},\n",
       "   'reference': {'publication_info': {'journal_volume': '82',\n",
       "     'year': 2010,\n",
       "     'artid': '079901',\n",
       "     'journal_title': 'Phys.Rev.D'},\n",
       "    'label': '5',\n",
       "    'misc': ['[Erratum:'],\n",
       "    'arxiv_eprint': '1002.1754'},\n",
       "   'raw_refs': [{'source': 'arXiv',\n",
       "     'value': '[5] Pavel Fileviez Perez and Mark B. Wise, “Baryon and lepton number as local gauge symmetries,” Phys. Rev. D 82, 011901 (2010), [Erratum: Phys.Rev.D 82, 079901 (2010)], arXiv:1002.1754 [hep-ph]',\n",
       "     'schema': 'text'}]},\n",
       "  {'record': {'$ref': 'https://inspirehep.net/api/literature/902485'},\n",
       "   'reference': {'publication_info': {'journal_volume': '08',\n",
       "     'page_start': '068',\n",
       "     'year': 2011,\n",
       "     'artid': '068',\n",
       "     'journal_title': 'JHEP'},\n",
       "    'title': {'title': 'Breaking Local Baryon and Lepton Number at the TeV Scale'},\n",
       "    'misc': ['Pavel Fileviez Perez and Mark B. Wise'],\n",
       "    'label': '6',\n",
       "    'arxiv_eprint': '1106.0343'},\n",
       "   'raw_refs': [{'source': 'arXiv',\n",
       "     'value': '[6] Pavel Fileviez Perez and Mark B. Wise, “Breaking Local Baryon and Lepton Number at the TeV Scale,” JHEP 08, 068 (2011), arXiv:1106.0343 [hep-ph]',\n",
       "     'schema': 'text'}]},\n",
       "  {'record': {'$ref': 'https://inspirehep.net/api/literature/1833656'},\n",
       "   'reference': {'publication_info': {'journal_volume': '813',\n",
       "     'year': 2021,\n",
       "     'artid': '136066',\n",
       "     'journal_title': 'Phys.Lett.B'},\n",
       "    'title': {'title': 'Gauged baryon number and dibaryonic dark matter'},\n",
       "    'misc': ['Ernest Ma'],\n",
       "    'label': '7',\n",
       "    'arxiv_eprint': '2011.13887'},\n",
       "   'raw_refs': [{'source': 'arXiv',\n",
       "     'value': '[7] Ernest Ma, “Gauged baryon number and dibaryonic dark matter,” Phys. Lett. B 813, 136066 (2021), arXiv:2011.13887 [hep-ph]',\n",
       "     'schema': 'text'}]},\n",
       "  {'record': {'$ref': 'https://inspirehep.net/api/literature/1992971'},\n",
       "   'reference': {'publication_info': {'year': 2021},\n",
       "    'title': {'title': 'Effective Dirac neutrino mass operator in the Standard Model with a local Abelian extension'},\n",
       "    'misc': ['Diego Restrepo and David Suarez', '(12)'],\n",
       "    'label': '8',\n",
       "    'arxiv_eprint': '2112.09524'},\n",
       "   'raw_refs': [{'source': 'arXiv',\n",
       "     'value': '[8] Diego Restrepo and David Suarez, “Effective Dirac neutrino mass operator in the Standard Model with a local Abelian extension,” (12 2021), arXiv:2112.09524 [hep-ph]',\n",
       "     'schema': 'text'}]},\n",
       "  {'record': {'$ref': 'https://inspirehep.net/api/literature/632960'},\n",
       "   'reference': {'title': {'title': 'Light and heavy dark matter particles'},\n",
       "    'misc': ['Pierre Fayet, and J. Silk', 'arXiv:'],\n",
       "    'arxiv_eprint': 'hep-ph/0311143',\n",
       "    'authors': [{'full_name': 'Boehm, C.'}],\n",
       "    'publication_info': {'journal_volume': '69',\n",
       "     'year': 2004,\n",
       "     'artid': '101302',\n",
       "     'journal_title': 'Phys.Rev.D'},\n",
       "    'label': '9'},\n",
       "   'raw_refs': [{'source': 'arXiv',\n",
       "     'value': '[9] C. Boehm, Pierre Fayet, and J. Silk, “Light and heavy dark matter particles,” Phys. Rev. D 69, 101302 (2004), arXiv:hep-ph/0311143',\n",
       "     'schema': 'text'}]},\n",
       "  {'record': {'$ref': 'https://inspirehep.net/api/literature/1852287'},\n",
       "   'reference': {'publication_info': {'journal_volume': '10',\n",
       "     'page_start': '026',\n",
       "     'year': 2021,\n",
       "     'artid': '026',\n",
       "     'journal_title': 'JCAP'},\n",
       "    'title': {'title': 'Production and signatures of multi-flavour dark matter scenarios with t-channel mediators'},\n",
       "    'misc': ['Johannes Herms and Alejandro Ibarra'],\n",
       "    'label': '10',\n",
       "    'arxiv_eprint': '2103.10392'},\n",
       "   'raw_refs': [{'source': 'arXiv',\n",
       "     'value': '[10] Johannes Herms and Alejandro Ibarra, “Production and signatures of multi-flavour dark matter scenarios with t-channel mediators,” JCAP 10, 026 (2021), arXiv:2103.10392 [hep-ph]',\n",
       "     'schema': 'text'}]},\n",
       "  {'record': {'$ref': 'https://inspirehep.net/api/literature/1515356'},\n",
       "   'reference': {'title': {'title': 'Electroweak baryogenesis from a dark sector'},\n",
       "    'misc': ['Kimmo Kainulainen, and David Tucker-Smith'],\n",
       "    'arxiv_eprint': '1702.08909',\n",
       "    'authors': [{'full_name': 'Cline, James M.'}],\n",
       "    'publication_info': {'journal_volume': '95',\n",
       "     'year': 2017,\n",
       "     'artid': '115006',\n",
       "     'journal_title': 'Phys.Rev.D'},\n",
       "    'label': '11'},\n",
       "   'raw_refs': [{'source': 'arXiv',\n",
       "     'value': '[11] James M. Cline, Kimmo Kainulainen, and David Tucker-Smith, “Electroweak baryogenesis from a dark sector,” Phys. Rev. D 95, 115006 (2017), arXiv:1702.08909 [hep-ph]',\n",
       "     'schema': 'text'}]},\n",
       "  {'record': {'$ref': 'https://inspirehep.net/api/literature/558155'},\n",
       "   'reference': {'publication_info': {'journal_volume': '17',\n",
       "     'page_start': '771',\n",
       "     'page_end': '778',\n",
       "     'year': 2002,\n",
       "     'journal_title': 'Mod.Phys.Lett.A'},\n",
       "    'title': {'title': 'Model for small neutrino masses at the TeV scale'},\n",
       "    'misc': ['Salah Nasri and Sherif Moussa', 'arXiv:'],\n",
       "    'label': '12',\n",
       "    'arxiv_eprint': 'hep-ph/0106107'},\n",
       "   'raw_refs': [{'source': 'arXiv',\n",
       "     'value': '[12] Salah Nasri and Sherif Moussa, “Model for small neutrino masses at the TeV scale,” Mod. Phys. Lett. A 17, 771–778 (2002), arXiv:hep-ph/0106107',\n",
       "     'schema': 'text'}]},\n",
       "  {'record': {'$ref': 'https://inspirehep.net/api/literature/582918'},\n",
       "   'reference': {'report_numbers': ['<cds.ARXIV>hep-ph/0202122'],\n",
       "    'title': {'title': 'Neutrinos in cosmology'},\n",
       "    'misc': ['arXiv:', '</cds.ARXIV>'],\n",
       "    'label': '13',\n",
       "    'authors': [{'full_name': 'Dolgov, A.D.'}],\n",
       "    'publication_info': {'journal_volume': '370',\n",
       "     'page_start': '333',\n",
       "     'page_end': '535',\n",
       "     'year': 2002,\n",
       "     'journal_title': 'Phys.Rept.'}},\n",
       "   'raw_refs': [{'source': 'arXiv',\n",
       "     'value': '[13] A. D. Dolgov, “Neutrinos in cosmology,” Phys. Rept. 370, 333–535 (2002), arXiv:hepph/0202122',\n",
       "     'schema': 'text'}]},\n",
       "  {'record': {'$ref': 'https://inspirehep.net/api/literature/1846554'},\n",
       "   'reference': {'publication_info': {'journal_volume': '103',\n",
       "     'year': 2021,\n",
       "     'artid': '095032',\n",
       "     'journal_title': 'Phys.Rev.D'},\n",
       "    'title': {'title': 'Anomaly-free Abelian gauge symmetries with Dirac scotogenic models'},\n",
       "    'misc': ['Nicolás Bernal, Julí an Calle, and Diego Restrepo'],\n",
       "    'label': '14',\n",
       "    'arxiv_eprint': '2102.06211'},\n",
       "   'raw_refs': [{'source': 'arXiv',\n",
       "     'value': '[14] Nicol´ as Bernal, Juli´ an Calle, and Diego Restrepo, “Anomaly-free Abelian gauge symmetries with Dirac scotogenic models,” Phys. Rev. D 103, 095032 (2021), arXiv:2102.06211 [hep-ph]',\n",
       "     'schema': 'text'}]},\n",
       "  {'record': {'$ref': 'https://inspirehep.net/api/literature/1859534'},\n",
       "   'reference': {'publication_info': {'journal_volume': '819',\n",
       "     'year': 2021,\n",
       "     'artid': '136402',\n",
       "     'journal_title': 'Phys.Lett.B'},\n",
       "    'title': {'title': 'Gauged lepton number, Dirac neutrinos, dark matter, and muon g-2'},\n",
       "    'misc': ['Ernest Ma'],\n",
       "    'label': '15',\n",
       "    'arxiv_eprint': '2104.10324'},\n",
       "   'raw_refs': [{'source': 'arXiv',\n",
       "     'value': '[15] Ernest Ma, “Gauged lepton number, Dirac neutrinos, dark matter, and muon g−2,” Phys. Lett. B 819, 136402 (2021), arXiv:2104.10324 [hep-ph]',\n",
       "     'schema': 'text'}]},\n",
       "  {'record': {'$ref': 'https://inspirehep.net/api/literature/1737609'},\n",
       "   'reference': {'publication_info': {'journal_volume': '123',\n",
       "     'year': 2019,\n",
       "     'artid': '151601',\n",
       "     'journal_title': 'Phys.Rev.Lett.'},\n",
       "    'authors': [{'full_name': 'Costa, Davi B.'},\n",
       "     {'full_name': 'Dobrescu, Bogdan A.'},\n",
       "     {'full_name': 'Fox, Patrick J.'}],\n",
       "    'arxiv_eprint': '1905.13729',\n",
       "    'label': '16',\n",
       "    'title': {'title': 'General Solution to the U(1) Anomaly Equations'}},\n",
       "   'raw_refs': [{'source': 'arXiv',\n",
       "     'value': '[16] Davi B. Costa, Bogdan A. Dobrescu, and Patrick J. Fox, “General Solution to the U(1) Anomaly Equations,” Phys. Rev. Lett. 123, 151601 (2019), arXiv:1905.13729 [hep-th]',\n",
       "     'schema': 'text'}]},\n",
       "  {'record': {'$ref': 'https://inspirehep.net/api/literature/1654953'},\n",
       "   'reference': {'publication_info': {'journal_volume': '97',\n",
       "     'year': 2018,\n",
       "     'artid': '095042',\n",
       "     'journal_title': 'Phys.Rev.D'},\n",
       "    'title': {'title': 'Systematic analysis of Dirac neutrino masses from a dimension five operator'},\n",
       "    'misc': ['Chang-Yuan Yao and Gui-Jun Ding'],\n",
       "    'label': '17',\n",
       "    'arxiv_eprint': '1802.05231'},\n",
       "   'raw_refs': [{'source': 'arXiv',\n",
       "     'value': '[17] Chang-Yuan Yao and Gui-Jun Ding, “Systematic analysis of Dirac neutrino masses from a dimension five operator,” Phys. Rev. D 97, 095042 (2018), arXiv:1802.05231 [hep-ph]',\n",
       "     'schema': 'text'}]},\n",
       "  {'record': {'$ref': 'https://inspirehep.net/api/literature/1614321'},\n",
       "   'reference': {'publication_info': {'journal_volume': '782',\n",
       "     'page_start': '633',\n",
       "     'page_end': '640',\n",
       "     'year': 2018,\n",
       "     'journal_title': 'Phys.Lett.B'},\n",
       "    'authors': [{'full_name': 'de Salas, P.F.'},\n",
       "     {'full_name': 'Forero, D.V.'},\n",
       "     {'full_name': 'Ternes, C.A.'},\n",
       "     {'full_name': 'Tortola, M.'},\n",
       "     {'full_name': 'Valle, J.W.F.'}],\n",
       "    'arxiv_eprint': '1708.01186',\n",
       "    'label': '18',\n",
       "    'title': {'title': 'Status of neutrino oscillations 2018: 3σ hint for normal mass ordering and improved CP sensitivity'}},\n",
       "   'raw_refs': [{'source': 'arXiv',\n",
       "     'value': '[18] P. F. de Salas, D. V. Forero, C. A. Ternes, M. Tortola, and J. W. F. Valle, “Status of neutrino oscillations 2018: 3σ hint for normal mass ordering and improved CP sensitivity,” Phys. Lett. B 782, 633–640 (2018), arXiv:1708.01186 [hep-ph]',\n",
       "     'schema': 'text'}]},\n",
       "  {'record': {'$ref': 'https://inspirehep.net/api/literature/913413'},\n",
       "   'reference': {'publication_info': {'journal_volume': '703',\n",
       "     'page_start': '66',\n",
       "     'page_end': '70',\n",
       "     'year': 2011,\n",
       "     'journal_title': 'Phys.Lett.B'},\n",
       "    'title': {'title': 'Neutrino Masses from LoopInduced Dirac Yukawa Couplings'},\n",
       "    'misc': ['Shinya Kanemura, Takehiro Nabeshima, and Hiroaki Sugiyama'],\n",
       "    'label': '19',\n",
       "    'arxiv_eprint': '1106.2480'},\n",
       "   'raw_refs': [{'source': 'arXiv',\n",
       "     'value': '[19] Shinya Kanemura, Takehiro Nabeshima, and Hiroaki Sugiyama, “Neutrino Masses from LoopInduced Dirac Yukawa Couplings,” Phys. Lett. B 703, 66–70 (2011), arXiv:1106.2480 [hep-ph]',\n",
       "     'schema': 'text'}]},\n",
       "  {'record': {'$ref': 'https://inspirehep.net/api/literature/3540'},\n",
       "   'reference': {'publication_info': {'journal_volume': '28',\n",
       "     'page_start': '870',\n",
       "     'page_end': '880',\n",
       "     'year': 1962,\n",
       "     'journal_title': 'Prog.Theor.Phys.'},\n",
       "    'title': {'title': 'Remarks on the unified model of elementary particles'},\n",
       "    'misc': ['Ziro Maki, Masami Nakagawa, and Shoichi Sakata'],\n",
       "    'label': '20'},\n",
       "   'raw_refs': [{'source': 'arXiv',\n",
       "     'value': '[20] Ziro Maki, Masami Nakagawa, and Shoichi Sakata, “Remarks on the unified model of elementary particles,” Prog. Theor. Phys. 28, 870–880 (1962)',\n",
       "     'schema': 'text'}]},\n",
       "  {'record': {'$ref': 'https://inspirehep.net/api/literature/299778'},\n",
       "   'reference': {'misc': ['The Early Universe, Vol. 69'],\n",
       "    'label': '21',\n",
       "    'isbn': '9780201626742',\n",
       "    'publication_info': {'year': 1990},\n",
       "    'authors': [{'full_name': 'Kolb, Edward W.'},\n",
       "     {'full_name': 'Turner, Michael S.'}]},\n",
       "   'raw_refs': [{'source': 'arXiv',\n",
       "     'value': '[21] Edward W. Kolb and Michael S. Turner, The Early Universe, Vol. 69 (1990) ISBN 978-0-20162674-2',\n",
       "     'schema': 'text'}]},\n",
       "  {'record': {'$ref': 'https://inspirehep.net/api/literature/261944'},\n",
       "   'reference': {'publication_info': {'journal_volume': '310',\n",
       "     'page_start': '693',\n",
       "     'year': 1988,\n",
       "     'artid': '693',\n",
       "     'journal_title': 'Nucl.Phys.B'},\n",
       "    'title': {'title': 'Calculations of Relic Densities in the Early Universe'},\n",
       "    'misc': ['Mark Srednicki, Richard Watkins, and Keith A. Olive'],\n",
       "    'label': '22'},\n",
       "   'raw_refs': [{'source': 'arXiv',\n",
       "     'value': '[22] Mark Srednicki, Richard Watkins, and Keith A. Olive, “Calculations of Relic Densities in the Early Universe,” Nucl. Phys. B 310, 693 (1988)',\n",
       "     'schema': 'text'}]},\n",
       "  {'record': {'$ref': 'https://inspirehep.net/api/literature/1319340'},\n",
       "   'reference': {'publication_info': {'journal_volume': '91',\n",
       "     'year': 2015,\n",
       "     'artid': '095001',\n",
       "     'journal_title': 'Phys.Rev.D'},\n",
       "    'title': {'title': 'Theory for Baryon Number and Dark Matter at the LHC'},\n",
       "    'misc': ['Michael Duerr and Pavel Fileviez Perez'],\n",
       "    'label': '23',\n",
       "    'arxiv_eprint': '1409.8165'},\n",
       "   'raw_refs': [{'source': 'arXiv',\n",
       "     'value': '[23] Michael Duerr and Pavel Fileviez Perez, “Theory for Baryon Number and Dark Matter at the LHC,” Phys. Rev. D 91, 095001 (2015), arXiv:1409.8165 [hep-ph]',\n",
       "     'schema': 'text'}]},\n",
       "  {'record': {'$ref': 'https://inspirehep.net/api/literature/787204'},\n",
       "   'reference': {'title': {'title': 'SARAH'},\n",
       "    'misc': ['(6)'],\n",
       "    'arxiv_eprint': '0806.0538',\n",
       "    'authors': [{'full_name': 'Staub, F.'}],\n",
       "    'publication_info': {'year': 2008},\n",
       "    'label': '24'},\n",
       "   'raw_refs': [{'source': 'arXiv',\n",
       "     'value': '[24] F. Staub, “SARAH,” (6 2008), arXiv:0806.0538 [hep-ph]',\n",
       "     'schema': 'text'}]},\n",
       "  {'record': {'$ref': 'https://inspirehep.net/api/literature/831371'},\n",
       "   'reference': {'publication_info': {'journal_volume': '181',\n",
       "     'page_start': '1077',\n",
       "     'page_end': '1086',\n",
       "     'year': 2010,\n",
       "     'journal_title': 'Comput.Phys.Commun.'},\n",
       "    'title': {'title': 'From Superpotential to Model Files for FeynArts and CalcHep/CompHep'},\n",
       "    'misc': ['Florian Staub'],\n",
       "    'label': '25',\n",
       "    'arxiv_eprint': '0909.2863'},\n",
       "   'raw_refs': [{'source': 'arXiv',\n",
       "     'value': '[25] Florian Staub, “From Superpotential to Model Files for FeynArts and CalcHep/CompHep,” Comput. Phys. Commun. 181, 1077–1086 (2010), arXiv:0909.2863 [hep-ph]',\n",
       "     'schema': 'text'}]},\n",
       "  {'record': {'$ref': 'https://inspirehep.net/api/literature/845241'},\n",
       "   'reference': {'publication_info': {'journal_volume': '182',\n",
       "     'page_start': '808',\n",
       "     'page_end': '833',\n",
       "     'year': 2011,\n",
       "     'journal_title': 'Comput.Phys.Commun.'},\n",
       "    'title': {'title': 'Automatic Calculation of supersymmetric Renormalization Group Equations and Self Energies'},\n",
       "    'misc': ['Florian Staub'],\n",
       "    'label': '26',\n",
       "    'arxiv_eprint': '1002.0840'},\n",
       "   'raw_refs': [{'source': 'arXiv',\n",
       "     'value': '[26] Florian Staub, “Automatic Calculation of supersymmetric Renormalization Group Equations and Self Energies,” Comput. Phys. Commun. 182, 808–833 (2011), arXiv:1002.0840 [hep-ph]',\n",
       "     'schema': 'text'}]},\n",
       "  {'record': {'$ref': 'https://inspirehep.net/api/literature/1121136'},\n",
       "   'reference': {'publication_info': {'journal_volume': '184',\n",
       "     'page_start': '1792',\n",
       "     'page_end': '1809',\n",
       "     'year': 2013,\n",
       "     'journal_title': 'Comput.Phys.Commun.'},\n",
       "    'title': {'title': 'SARAH 3.2: Dirac Gauginos, UFO output, and more'},\n",
       "    'misc': ['Florian Staub'],\n",
       "    'label': '27',\n",
       "    'arxiv_eprint': '1207.0906'},\n",
       "   'raw_refs': [{'source': 'arXiv',\n",
       "     'value': '[27] Florian Staub, “SARAH 3.2: Dirac Gauginos, UFO output, and more,” Comput. Phys. Commun. 184, 1792–1809 (2013), arXiv:1207.0906 [hep-ph]',\n",
       "     'schema': 'text'}]},\n",
       "  {'record': {'$ref': 'https://inspirehep.net/api/literature/1255845'},\n",
       "   'reference': {'publication_info': {'journal_volume': '185',\n",
       "     'page_start': '1773',\n",
       "     'page_end': '1790',\n",
       "     'year': 2014,\n",
       "     'journal_title': 'Comput.Phys.Commun.'},\n",
       "    'title': {'title': 'SARAH 4 : A tool for (not only SUSY) model builders'},\n",
       "    'misc': ['Florian Staub'],\n",
       "    'label': '28',\n",
       "    'arxiv_eprint': '1309.7223'},\n",
       "   'raw_refs': [{'source': 'arXiv',\n",
       "     'value': '[28] Florian Staub, “SARAH 4 : A tool for (not only SUSY) model builders,” Comput. Phys. Commun. 185, 1773–1790 (2014), arXiv:1309.7223 [hep-ph]',\n",
       "     'schema': 'text'}]},\n",
       "  {'record': {'$ref': 'https://inspirehep.net/api/literature/611662'},\n",
       "   'reference': {'publication_info': {'journal_volume': '153',\n",
       "     'page_start': '275',\n",
       "     'page_end': '315',\n",
       "     'year': 2003,\n",
       "     'journal_title': 'Comput.Phys.Commun.'},\n",
       "    'title': {'title': 'SPheno, a program for calculating supersymmetric spectra, SUSY particle decays and SUSY particle production at e+ e- colliders'},\n",
       "    'misc': ['Werner Porod', 'arXiv:'],\n",
       "    'label': '29',\n",
       "    'arxiv_eprint': 'hep-ph/0301101'},\n",
       "   'raw_refs': [{'source': 'arXiv',\n",
       "     'value': '[29] Werner Porod, “SPheno, a program for calculating supersymmetric spectra, SUSY particle decays and SUSY particle production at e+ e- colliders,” Comput. Phys. Commun. 153, 275–315 (2003), arXiv:hep-ph/0301101',\n",
       "     'schema': 'text'}]},\n",
       "  {'record': {'$ref': 'https://inspirehep.net/api/literature/895595'},\n",
       "   'reference': {'publication_info': {'journal_volume': '183',\n",
       "     'page_start': '2458',\n",
       "     'page_end': '2469',\n",
       "     'year': 2012,\n",
       "     'journal_title': 'Comput.Phys.Commun.'},\n",
       "    'authors': [{'full_name': 'Porod, W.'}, {'full_name': 'Staub, F.'}],\n",
       "    'arxiv_eprint': '1104.1573',\n",
       "    'label': '30',\n",
       "    'title': {'title': 'SPheno 3.1: Extensions including flavour, CP-phases and models beyond the MSSM'}},\n",
       "   'raw_refs': [{'source': 'arXiv',\n",
       "     'value': '[30] W. Porod and F. Staub, “SPheno 3.1: Extensions including flavour, CP-phases and models beyond the MSSM,” Comput. Phys. Commun. 183, 2458–2469 (2012), arXiv:1104.1573 [hepph]',\n",
       "     'schema': 'text'}]},\n",
       "  {'record': {'$ref': 'https://inspirehep.net/api/literature/720876'},\n",
       "   'reference': {'title': {'title': 'MicrOMEGAs 2.0: A Program to calculate the relic density of dark matter in a generic model'},\n",
       "    'misc': ['arXiv:'],\n",
       "    'arxiv_eprint': 'hep-ph/0607059',\n",
       "    'authors': [{'full_name': 'Belanger, G.'},\n",
       "     {'full_name': 'Boudjema, F.'},\n",
       "     {'full_name': 'Pukhov, A.'},\n",
       "     {'full_name': 'Semenov, A.'}],\n",
       "    'publication_info': {'journal_volume': '176',\n",
       "     'page_start': '367',\n",
       "     'page_end': '382',\n",
       "     'year': 2007,\n",
       "     'journal_title': 'Comput.Phys.Commun.'},\n",
       "    'label': '31'},\n",
       "   'raw_refs': [{'source': 'arXiv',\n",
       "     'value': '[31] G. Belanger, F. Boudjema, A. Pukhov, and A. Semenov, “MicrOMEGAs 2.0: A Program to calculate the relic density of dark matter in a generic model,” Comput. Phys. Commun. 176, 367–382 (2007), arXiv:hep-ph/0607059',\n",
       "     'schema': 'text'}]},\n",
       "  {'record': {'$ref': 'https://inspirehep.net/api/literature/300447'},\n",
       "   'reference': {'publication_info': {'journal_volume': '43',\n",
       "     'page_start': '3191',\n",
       "     'page_end': '3203',\n",
       "     'year': 1991,\n",
       "     'journal_title': 'Phys.Rev.D'},\n",
       "    'title': {'title': 'Three exceptions in the calculation of relic abundances'},\n",
       "    'misc': ['Kim Griest and David Seckel'],\n",
       "    'label': '32'},\n",
       "   'raw_refs': [{'source': 'arXiv',\n",
       "     'value': '[32] Kim Griest and David Seckel, “Three exceptions in the calculation of relic abundances,” Phys. Rev. D 43, 3191–3203 (1991)',\n",
       "     'schema': 'text'}]},\n",
       "  {'record': {'$ref': 'https://inspirehep.net/api/literature/1682902'},\n",
       "   'reference': {'publication_info': {'journal_volume': '641',\n",
       "     'page_start': 'A6',\n",
       "     'year': 2020,\n",
       "     'artid': 'A6',\n",
       "     'journal_title': 'Astron.Astrophys.'},\n",
       "    'title': {'title': 'Planck 2018 results. VI. Cosmological parameters'},\n",
       "    'misc': ['(Planck)'],\n",
       "    'label': '33',\n",
       "    'authors': [{'full_name': 'Aghanim, N.'}]},\n",
       "   'raw_refs': [{'source': 'arXiv',\n",
       "     'value': '[33] N. Aghanim et al. (Planck), “Planck 2018 results. VI. Cosmological parameters,” Astron. Astrophys. 641, A6 (2020), [Erratum: Astron.Astrophys. 652, C4 (2021)], arXiv:1807.06209 [astro-ph.CO]',\n",
       "     'schema': 'text'}]},\n",
       "  {'record': {'$ref': 'https://inspirehep.net/api/literature/1682902'},\n",
       "   'reference': {'publication_info': {'journal_volume': '652',\n",
       "     'page_start': 'C4',\n",
       "     'year': 2021,\n",
       "     'artid': 'C4',\n",
       "     'journal_title': 'Astron.Astrophys.'},\n",
       "    'authors': [{'full_name': 'Aghanim, N.'}],\n",
       "    'label': '33',\n",
       "    'misc': ['[Erratum:'],\n",
       "    'arxiv_eprint': '1807.06209'},\n",
       "   'raw_refs': [{'source': 'arXiv',\n",
       "     'value': '[33] N. Aghanim et al. (Planck), “Planck 2018 results. VI. Cosmological parameters,” Astron. Astrophys. 641, A6 (2020), [Erratum: Astron.Astrophys. 652, C4 (2021)], arXiv:1807.06209 [astro-ph.CO]',\n",
       "     'schema': 'text'}]},\n",
       "  {'record': {'$ref': 'https://inspirehep.net/api/literature/1894664'},\n",
       "   'reference': {'title': {'title': 'Dark Matter Search Results from the PandaX-4T Commissioning Run'},\n",
       "    'misc': ['Yue', '(PandaX-4T)'],\n",
       "    'arxiv_eprint': '2107.13438',\n",
       "    'authors': [{'full_name': 'Meng'}],\n",
       "    'publication_info': {'journal_volume': '127',\n",
       "     'year': 2021,\n",
       "     'artid': '261802',\n",
       "     'journal_title': 'Phys.Rev.Lett.'},\n",
       "    'label': '34'},\n",
       "   'raw_refs': [{'source': 'arXiv',\n",
       "     'value': '[34] Yue Meng et al. (PandaX-4T), “Dark Matter Search Results from the PandaX-4T Commissioning Run,” Phys. Rev. Lett. 127, 261802 (2021), arXiv:2107.13438 [hep-ex]',\n",
       "     'schema': 'text'}]},\n",
       "  {'record': {'$ref': 'https://inspirehep.net/api/literature/1675772'},\n",
       "   'reference': {'title': {'title': 'Dark Matter Search Results from a One Ton-Year Exposure of XENON1T'},\n",
       "    'misc': ['(XENON)'],\n",
       "    'arxiv_eprint': '1805.12562',\n",
       "    'authors': [{'full_name': 'Aprile, E.'}],\n",
       "    'publication_info': {'journal_volume': '121',\n",
       "     'year': 2018,\n",
       "     'artid': '111302',\n",
       "     'journal_title': 'Phys.Rev.Lett.'},\n",
       "    'label': '35'},\n",
       "   'raw_refs': [{'source': 'arXiv',\n",
       "     'value': '[35] E. Aprile et al. (XENON), “Dark Matter Search Results from a One Ton-Year Exposure of XENON1T,” Phys. Rev. Lett. 121, 111302 (2018), arXiv:1805.12562 [astro-ph.CO]',\n",
       "     'schema': 'text'}]},\n",
       "  {'record': {'$ref': 'https://inspirehep.net/api/literature/1655569'},\n",
       "   'reference': {'title': {'title': 'Projected WIMP sensitivity of the LUX-ZEPLIN dark matter experiment'},\n",
       "    'misc': ['(LUX-ZEPLIN)'],\n",
       "    'arxiv_eprint': '1802.06039',\n",
       "    'authors': [{'full_name': 'Akerib, D.S.'}],\n",
       "    'publication_info': {'journal_volume': '101',\n",
       "     'year': 2020,\n",
       "     'artid': '052002',\n",
       "     'journal_title': 'Phys.Rev.D'},\n",
       "    'label': '36'},\n",
       "   'raw_refs': [{'source': 'arXiv',\n",
       "     'value': '[36] D. S. Akerib et al. (LUX-ZEPLIN), “Projected WIMP sensitivity of the LUX-ZEPLIN dark matter experiment,” Phys. Rev. D 101, 052002 (2020), arXiv:1802.06039 [astro-ph.IM]',\n",
       "     'schema': 'text'}]},\n",
       "  {'record': {'$ref': 'https://inspirehep.net/api/literature/1471703'},\n",
       "   'reference': {'title': {'title': 'DARWIN: towards the ultimate dark matter detector'},\n",
       "    'misc': ['(DARWIN)'],\n",
       "    'arxiv_eprint': '1606.07001',\n",
       "    'authors': [{'full_name': 'Aalbers, J.'}],\n",
       "    'publication_info': {'journal_volume': '11',\n",
       "     'page_start': '017',\n",
       "     'year': 2016,\n",
       "     'artid': '017',\n",
       "     'journal_title': 'JCAP'},\n",
       "    'label': '37'},\n",
       "   'raw_refs': [{'source': 'arXiv',\n",
       "     'value': '[37] J. Aalbers et al. (DARWIN), “DARWIN: towards the ultimate dark matter detector,” JCAP 11, 017 (2016), arXiv:1606.07001 [astro-ph.IM]',\n",
       "     'schema': 'text'}]},\n",
       "  {'record': {'$ref': 'https://inspirehep.net/api/literature/1516193'},\n",
       "   'reference': {'title': {'title': 'Search for dark matter produced with an energetic jet or a hadronically decaying W or Z boson at √ s = 13 TeV'},\n",
       "    'misc': ['(CMS)'],\n",
       "    'arxiv_eprint': '1703.01651',\n",
       "    'authors': [{'full_name': 'Sirunyan, Albert M.'}],\n",
       "    'publication_info': {'journal_volume': '07',\n",
       "     'page_start': '014',\n",
       "     'year': 2017,\n",
       "     'artid': '014',\n",
       "     'journal_title': 'JHEP'},\n",
       "    'label': '38'},\n",
       "   'raw_refs': [{'source': 'arXiv',\n",
       "     'value': '[38] Albert M Sirunyan et al. (CMS), “Search for dark matter produced with an energetic jet or a hadronically decaying W or Z boson at √ s = 13 TeV,” JHEP 07, 014 (2017), arXiv:1703.01651 [hep-ex]',\n",
       "     'schema': 'text'}]},\n",
       "  {'record': {'$ref': 'https://inspirehep.net/api/literature/1262767'},\n",
       "   'reference': {'title': {'title': 'Working Group Report: WIMP Dark Matter Direct Detection'},\n",
       "    'misc': ['in Community Summer Study: Snowmass on the Mississippi'],\n",
       "    'arxiv_eprint': '1310.8327',\n",
       "    'authors': [{'full_name': 'Cushman, P.'}],\n",
       "    'publication_info': {'year': 2013},\n",
       "    'label': '39'},\n",
       "   'raw_refs': [{'source': 'arXiv',\n",
       "     'value': '[39] P. Cushman et al., “Working Group Report: WIMP Dark Matter Direct Detection,” in Community Summer Study 2013: Snowmass on the Mississippi (2013) arXiv:1310.8327 [hep-ex]',\n",
       "     'schema': 'text'}]},\n",
       "  {'record': {'$ref': 'https://inspirehep.net/api/literature/1243804'},\n",
       "   'reference': {'publication_info': {'journal_volume': '89',\n",
       "     'year': 2014,\n",
       "     'artid': '023524',\n",
       "     'journal_title': 'Phys.Rev.D'},\n",
       "    'authors': [{'full_name': 'Billard, J.'},\n",
       "     {'full_name': 'Strigari, L.'},\n",
       "     {'full_name': 'Figueroa-Feliciano, E.'}],\n",
       "    'arxiv_eprint': '1307.5458',\n",
       "    'label': '40',\n",
       "    'title': {'title': 'Implication of neutrino backgrounds on the reach of next generation dark matter direct detection experiments'}},\n",
       "   'raw_refs': [{'source': 'arXiv',\n",
       "     'value': '[40] J. Billard, L. Strigari, and E. Figueroa-Feliciano, “Implication of neutrino backgrounds on the reach of next generation dark matter direct detection experiments,” Phys. Rev. D 89, 023524 (2014), arXiv:1307.5458 [hep-ph]',\n",
       "     'schema': 'text'}]},\n",
       "  {'record': {'$ref': 'https://inspirehep.net/api/literature/1858426'},\n",
       "   'reference': {'title': {'title': 'Direct Detection of Dark Matter - APPEC Committee Report'},\n",
       "    'misc': ['Julien', '(4)'],\n",
       "    'arxiv_eprint': '2104.07634',\n",
       "    'authors': [{'full_name': 'Billard'}],\n",
       "    'publication_info': {'year': 2021},\n",
       "    'label': '41'},\n",
       "   'raw_refs': [{'source': 'arXiv',\n",
       "     'value': '[41] Julien Billard et al., “Direct Detection of Dark Matter – APPEC Committee Report,” (4 2021), arXiv:2104.07634 [hep-ex]',\n",
       "     'schema': 'text'}]},\n",
       "  {'record': {'$ref': 'https://inspirehep.net/api/literature/1918102'},\n",
       "   'reference': {'publication_info': {'journal_volume': '127',\n",
       "     'year': 2021,\n",
       "     'artid': '251802',\n",
       "     'journal_title': 'Phys.Rev.Lett.'},\n",
       "    'authors': [{'full_name': \"O'Hare, Ciaran A.J.\"}],\n",
       "    'arxiv_eprint': '2109.03116',\n",
       "    'label': '42',\n",
       "    'title': {'title': 'New Definition of the Neutrino Floor for Direct Dark Matter Searches'}},\n",
       "   'raw_refs': [{'source': 'arXiv',\n",
       "     'value': '[42] Ciaran A. J. O’Hare, “New Definition of the Neutrino Floor for Direct Dark Matter Searches,” Phys. Rev. Lett. 127, 251802 (2021), arXiv:2109.03116 [hep-ph]',\n",
       "     'schema': 'text'}]},\n",
       "  {'record': {'$ref': 'https://inspirehep.net/api/literature/1719184'},\n",
       "   'reference': {'title': {'title': 'Constraining the spin-dependent WIMP-nucleon cross sections with XENON1T'},\n",
       "    'misc': ['(XENON)'],\n",
       "    'arxiv_eprint': '1902.03234',\n",
       "    'authors': [{'full_name': 'Aprile, E.'}],\n",
       "    'publication_info': {'journal_volume': '122',\n",
       "     'year': 2019,\n",
       "     'artid': '141301',\n",
       "     'journal_title': 'Phys.Rev.Lett.'},\n",
       "    'label': '43'},\n",
       "   'raw_refs': [{'source': 'arXiv',\n",
       "     'value': '[43] E. Aprile et al. (XENON), “Constraining the spin-dependent WIMP-nucleon cross sections with XENON1T,” Phys. Rev. Lett. 122, 141301 (2019), arXiv:1902.03234 [astro-ph.CO]',\n",
       "     'schema': 'text'}]},\n",
       "  {'record': {'$ref': 'https://inspirehep.net/api/literature/51345'},\n",
       "   'reference': {'publication_info': {'journal_volume': '5',\n",
       "     'page_start': '32',\n",
       "     'page_end': '35',\n",
       "     'year': 1967,\n",
       "     'journal_title': 'Pisma Zh.Eksp.Teor.Fiz.'},\n",
       "    'title': {'title': 'Violation of CP Invariance, C asymmetry, and baryon asymmetry of the universe'},\n",
       "    'label': '44',\n",
       "    'authors': [{'full_name': 'Sakharov, A.D.'}]},\n",
       "   'raw_refs': [{'source': 'arXiv',\n",
       "     'value': '[44] A. D. Sakharov, “Violation of CP Invariance, C asymmetry, and baryon asymmetry of the universe,” Pisma Zh. Eksp. Teor. Fiz. 5, 32–35 (1967)',\n",
       "     'schema': 'text'}]},\n",
       "  {'record': {'$ref': 'https://inspirehep.net/api/literature/920578'},\n",
       "   'reference': {'title': {'title': 'Strong Electroweak Phase Transitions in the Standard Model with a Singlet'},\n",
       "    'misc': ['Thomas Konstandin, and Francesco Riva'],\n",
       "    'arxiv_eprint': '1107.5441',\n",
       "    'authors': [{'full_name': 'Espinosa, Jose R.'}],\n",
       "    'publication_info': {'journal_volume': '854',\n",
       "     'page_start': '592',\n",
       "     'page_end': '630',\n",
       "     'year': 2012,\n",
       "     'journal_title': 'Nucl.Phys.B'},\n",
       "    'label': '45'},\n",
       "   'raw_refs': [{'source': 'arXiv',\n",
       "     'value': '[45] Jose R. Espinosa, Thomas Konstandin, and Francesco Riva, “Strong Electroweak Phase Transitions in the Standard Model with a Singlet,” Nucl. Phys. B 854, 592–630 (2012), arXiv:1107.5441 [hep-ph]',\n",
       "     'schema': 'text'}]},\n",
       "  {'record': {'$ref': 'https://inspirehep.net/api/literature/118681'},\n",
       "   'reference': {'publication_info': {'journal_volume': '15',\n",
       "     'page_start': '2929',\n",
       "     'page_end': '2936',\n",
       "     'year': 1977,\n",
       "     'journal_title': 'Phys.Rev.D'},\n",
       "    'title': {'title': 'The Fate of the False Vacuum. 1. Semiclassical Theory'},\n",
       "    'label': '46',\n",
       "    'authors': [{'full_name': 'Coleman, Sidney R.'}]},\n",
       "   'raw_refs': [{'source': 'arXiv',\n",
       "     'value': '[46] Sidney R. Coleman, “The Fate of the False Vacuum. 1. Semiclassical Theory,” Phys. Rev. D 15, 2929–2936 (1977), [Erratum: Phys.Rev.D 16, 1248 (1977)]',\n",
       "     'schema': 'text'}]},\n",
       "  {'record': {'$ref': 'https://inspirehep.net/api/literature/118681'},\n",
       "   'reference': {'publication_info': {'journal_volume': '16',\n",
       "     'page_start': '1248',\n",
       "     'year': 1977,\n",
       "     'artid': '1248',\n",
       "     'journal_title': 'Phys.Rev.D'},\n",
       "    'label': '46',\n",
       "    'misc': ['[Erratum:'],\n",
       "    'authors': [{'full_name': 'Coleman, Sidney R.'}]},\n",
       "   'raw_refs': [{'source': 'arXiv',\n",
       "     'value': '[46] Sidney R. Coleman, “The Fate of the False Vacuum. 1. Semiclassical Theory,” Phys. Rev. D 15, 2929–2936 (1977), [Erratum: Phys.Rev.D 16, 1248 (1977)]',\n",
       "     'schema': 'text'}]},\n",
       "  {'record': {'$ref': 'https://inspirehep.net/api/literature/528614'},\n",
       "   'reference': {'title': {'title': 'Supersymmetric electroweak baryogenesis'},\n",
       "    'misc': ['Michael Joyce, and Kimmo Kainulainen', 'arXiv:'],\n",
       "    'arxiv_eprint': 'hep-ph/0006119',\n",
       "    'authors': [{'full_name': 'Cline, James M.'}],\n",
       "    'publication_info': {'journal_volume': '07',\n",
       "     'page_start': '018',\n",
       "     'year': 2000,\n",
       "     'artid': '018',\n",
       "     'journal_title': 'JHEP'},\n",
       "    'label': '47'},\n",
       "   'raw_refs': [{'source': 'arXiv',\n",
       "     'value': '[47] James M. Cline, Michael Joyce, and Kimmo Kainulainen, “Supersymmetric electroweak baryogenesis,” JHEP 07, 018 (2000), arXiv:hep-ph/0006119',\n",
       "     'schema': 'text'}]},\n",
       "  {'reference': {'publication_info': {'journal_volume': '2020',\n",
       "     'page_start': '083C',\n",
       "     'year': 2020,\n",
       "     'artid': '083C',\n",
       "     'journal_title': 'PTEP'},\n",
       "    'title': {'title': 'Review of Particle Physics'},\n",
       "    'misc': ['(Particle Data Group)', '1'],\n",
       "    'label': '48',\n",
       "    'authors': [{'full_name': 'Zyla, P.A.'}]},\n",
       "   'raw_refs': [{'source': 'arXiv',\n",
       "     'value': '[48] P. A. Zyla et al. (Particle Data Group), “Review of Particle Physics,” PTEP 2020, 083C01 (2020)',\n",
       "     'schema': 'text'}]},\n",
       "  {'record': {'$ref': 'https://inspirehep.net/api/literature/1755250'},\n",
       "   'reference': {'title': {'title': 'Dirac neutrino mass generation from a majorana messenger'},\n",
       "    'misc': ['Julian Calle, Diego Restrepo, and Óscar Zapata'],\n",
       "    'label': '49',\n",
       "    'urls': [{'value': 'https://link.aps.org/doi/'}],\n",
       "    'dois': ['10.1103/PhysRevD.101.035004'],\n",
       "    'publication_info': {'journal_volume': '101',\n",
       "     'year': 2020,\n",
       "     'artid': '035004',\n",
       "     'journal_title': 'Phys.Rev.D'}},\n",
       "   'raw_refs': [{'source': 'arXiv',\n",
       "     'value': '[49] Julian Calle, Diego Restrepo, and ´ Oscar Zapata, “Dirac neutrino mass generation from a majorana messenger,” Phys. Rev. D 101, 035004 (Feb 2020), https://link.aps.org/doi/ 10.1103/PhysRevD.101.035004',\n",
       "     'schema': 'text'}]},\n",
       "  {'record': {'$ref': 'https://inspirehep.net/api/literature/1608877'},\n",
       "   'reference': {'title': {'title': 'Dark forces coupled to nonconserved currents'},\n",
       "    'misc': ['Robert Lasenby, and Maxim Pospelov'],\n",
       "    'arxiv_eprint': '1707.01503',\n",
       "    'authors': [{'full_name': 'Dror, Jeff A.'}],\n",
       "    'publication_info': {'journal_volume': '96',\n",
       "     'year': 2017,\n",
       "     'artid': '075036',\n",
       "     'journal_title': 'Phys.Rev.D'},\n",
       "    'label': '50'},\n",
       "   'raw_refs': [{'source': 'arXiv',\n",
       "     'value': '[50] Jeff A. Dror, Robert Lasenby, and Maxim Pospelov, “Dark forces coupled to nonconserved currents,” Phys. Rev. D 96, 075036 (2017), arXiv:1707.01503 [hep-ph]',\n",
       "     'schema': 'text'}]},\n",
       "  {'record': {'$ref': 'https://inspirehep.net/api/literature/1698964'},\n",
       "   'reference': {'publication_info': {'journal_volume': '99',\n",
       "     'year': 2019,\n",
       "     'artid': '035009',\n",
       "     'journal_title': 'Phys.Rev.D'},\n",
       "    'title': {'title': 'Leptophobic Dark Matter and the Baryon Number Violation Scale'},\n",
       "    'misc': ['Pavel Fileviez Pérez, Elliot Golias, Rui-Hao Li, and Clara Murgui'],\n",
       "    'label': '51',\n",
       "    'arxiv_eprint': '1810.06646'},\n",
       "   'raw_refs': [{'source': 'arXiv',\n",
       "     'value': '[51] Pavel Fileviez P´ erez, Elliot Golias, Rui-Hao Li, and Clara Murgui, “Leptophobic Dark Matter and the Baryon Number Violation Scale,” Phys. Rev. D 99, 035009 (2019), arXiv:1810.06646 [hep-ph]',\n",
       "     'schema': 'text'}]},\n",
       "  {'record': {'$ref': 'https://inspirehep.net/api/literature/1290541'},\n",
       "   'reference': {'title': {'title': 'Hidden GeV-scale interactions of quarks'},\n",
       "    'misc': ['and Claudia Frugiuele'],\n",
       "    'arxiv_eprint': '1404.3947',\n",
       "    'authors': [{'full_name': 'Dobrescu, Bogdan A.'}],\n",
       "    'publication_info': {'journal_volume': '113',\n",
       "     'year': 2014,\n",
       "     'artid': '061801',\n",
       "     'journal_title': 'Phys.Rev.Lett.'},\n",
       "    'label': '52'},\n",
       "   'raw_refs': [{'source': 'arXiv',\n",
       "     'value': '[52] Bogdan A. Dobrescu and Claudia Frugiuele, “Hidden GeV-scale interactions of quarks,” Phys. Rev. Lett. 113, 061801 (2014), arXiv:1404.3947 [hep-ph]',\n",
       "     'schema': 'text'}]}],\n",
       " 'keywords': [{'source': 'classifier',\n",
       "   'value': 'neutrino, mass',\n",
       "   'schema': 'INSPIRE'},\n",
       "  {'source': 'classifier', 'value': 'fermion, doublet', 'schema': 'INSPIRE'},\n",
       "  {'source': 'classifier',\n",
       "   'value': 'electroweak interaction, critical phenomena',\n",
       "   'schema': 'INSPIRE'},\n",
       "  {'source': 'classifier', 'value': 'singlet, scalar', 'schema': 'INSPIRE'},\n",
       "  {'source': 'classifier', 'value': 'dark matter', 'schema': 'INSPIRE'},\n",
       "  {'source': 'classifier', 'value': 'baryogenesis', 'schema': 'INSPIRE'},\n",
       "  {'source': 'classifier', 'value': 'anomaly', 'schema': 'INSPIRE'},\n",
       "  {'source': 'classifier', 'value': 'baryon number', 'schema': 'INSPIRE'}],\n",
       " '$schema': 'https://inspirehep.net/schemas/records/hep.json',\n",
       " 'citeable': True,\n",
       " 'control_number': 2080612,\n",
       " 'inspire_categories': [{'source': 'arxiv', 'term': 'Phenomenology-HEP'}],\n",
       " 'texkeys': ['Restrepo:2022cpq'],\n",
       " 'arxiv_eprints': [{'value': '2205.05762', 'categories': ['hep-ph']}],\n",
       " 'core': True,\n",
       " 'document_type': ['article'],\n",
       " 'curated': False,\n",
       " 'license': [{'url': 'http://creativecommons.org/licenses/by/4.0/',\n",
       "   'material': 'preprint',\n",
       "   'license': 'CC BY 4.0'}],\n",
       " 'number_of_pages': 20,\n",
       " 'figures': [{'source': 'arxiv',\n",
       "   'key': 'd01d4817f3b2f5ec143c8ccc245a3a13',\n",
       "   'url': 'https://inspirehep.net/files/d01d4817f3b2f5ec143c8ccc245a3a13',\n",
       "   'caption': 'Diagram for the Dirac-dark Zee model.',\n",
       "   'label': 'fig:zee',\n",
       "   'material': 'preprint',\n",
       "   'filename': 'zee.png'},\n",
       "  {'source': 'arxiv',\n",
       "   'key': '544f0a6604a90238f027747e4b63afa1',\n",
       "   'url': 'https://inspirehep.net/files/544f0a6604a90238f027747e4b63afa1',\n",
       "   'caption': 'SI independent DM-nucleon interactions: Vector(left) and scalar (right) portals.',\n",
       "   'label': 'fig:SI-diagram',\n",
       "   'material': 'preprint',\n",
       "   'filename': 'vector-SI.png'},\n",
       "  {'source': 'arxiv',\n",
       "   'key': '695b376299888c936f7cf435411cc355',\n",
       "   'url': 'https://inspirehep.net/files/695b376299888c936f7cf435411cc355',\n",
       "   'caption': 'SI independent DM-nucleon interactions: Vector(left) and scalar (right) portals.',\n",
       "   'label': 'fig:SI-diagram',\n",
       "   'material': 'preprint',\n",
       "   'filename': 'scalar-SI.png'},\n",
       "  {'source': 'arxiv',\n",
       "   'key': 'e1fb44aaeb10a9b611d33fe57ab000e7',\n",
       "   'url': 'https://inspirehep.net/files/e1fb44aaeb10a9b611d33fe57ab000e7',\n",
       "   'caption': 'The SI cross-section (blue dots) and the current experimental constraints from PandaX-4T~\\\\cite{PandaX-4T:2021bab}, XENON1T~\\\\cite{Aprile:2018dbl}, and prospects from LZ~\\\\cite{Akerib:2018lyp} and DARWIN~\\\\cite{Aalbers:2016jon}. We also show the Neutrino Coherent Scattering (NCS)~\\\\cite{Cushman:2013zza, Billard:2013qya, Billard:2021uyg, OHare:2021utq}.',\n",
       "   'label': 'fig:SI',\n",
       "   'material': 'preprint',\n",
       "   'filename': 'SI.png'},\n",
       "  {'source': 'arxiv',\n",
       "   'key': '927d47cf11fb17a0fea2b204cc269022',\n",
       "   'url': 'https://inspirehep.net/files/927d47cf11fb17a0fea2b204cc269022',\n",
       "   'caption': 'The blue points are the models shown in Fig.~\\\\ref{fig:SI} that fulfill the relic abundance of DM and the neutrino masses. The black points are those that are not excluded by direct detection of DM and give the observed baryon asymmetry at the Universe. The green-shaded region is in tension with the measured number of relativistic degrees of freedom~\\\\cite{PhysRevD.101.035004}. The other shaded areas show the exclusions coming from meson decays~\\\\cite{Dror:2017nsg} (yellow), the hadronic widths of $\\\\Upsilon$ and $J/\\\\psi$ (purple and orange), LHC dijet searches~\\\\cite{FileviezPerez:2018jmr} (red), and from non-detection of the anomaly-cancelling fermions~\\\\cite{Dobrescu:2014fca} (gray).',\n",
       "   'label': 'fig:gB-vs-MZp',\n",
       "   'material': 'preprint',\n",
       "   'filename': 'g1_MZp.png'}]}"
      ]
     },
     "execution_count": 311,
     "metadata": {},
     "output_type": "execute_result"
    }
   ],
   "source": [
    "r.json().get('hits').get('hits')[1].get('metadata')"
   ]
  },
  {
   "cell_type": "code",
   "execution_count": null,
   "id": "93cf9ad4-ff90-4c03-9060-04d482d1c892",
   "metadata": {},
   "outputs": [],
   "source": [
    "#in general len(l)!=0\n",
    "authors=inspire.literature(l)"
   ]
  },
  {
   "cell_type": "markdown",
   "id": "dca9f4c0-c2a3-42bf-aa20-dd40988b4a35",
   "metadata": {},
   "source": [
    "authors → list of authors object\n",
    "```\n",
    "[a_1,a_2,...a_n]\n",
    "```\n",
    "where `a_i` is just a dictionary which is either created or updated"
   ]
  },
  {
   "cell_type": "code",
   "execution_count": null,
   "id": "b1779340-8e8b-4c78-a889-066bce61aa67",
   "metadata": {},
   "outputs": [],
   "source": [
    "aus=inspire.country(country)\n",
    "aus=inspire.legacy_instituion(legacy_instituion)\n",
    "aus=inspire.literature(inspire_authors)\n",
    "#TODO\n",
    "aus=inspire.author(inspire_author) #A author with severeal affiliations generates several au → self.paper is the only different (add email to paper)"
   ]
  },
  {
   "cell_type": "code",
   "execution_count": null,
   "id": "508ba27b-b330-41aa-87ae-3651d2fc21c6",
   "metadata": {},
   "outputs": [],
   "source": [
    "au =inspire.profile(profile) # → a_i"
   ]
  },
  {
   "cell_type": "markdown",
   "id": "26f951b8-5ae1-430d-8206-06333c935de3",
   "metadata": {},
   "source": [
    "Input:"
   ]
  },
  {
   "cell_type": "code",
   "execution_count": null,
   "id": "325f2a35-25f4-4479-9c99-a5b73a584836",
   "metadata": {},
   "outputs": [],
   "source": [
    "authors=inspire.read_json('authors.json')\n",
    "authors=inspire.read_list(author_list)"
   ]
  },
  {
   "cell_type": "code",
   "execution_count": 102,
   "id": "75639fc7-9093-4a48-9819-225a8aef79e0",
   "metadata": {},
   "outputs": [],
   "source": [
    "r=requests.get('https://inspirehep.net/api/literature/2080612')"
   ]
  },
  {
   "cell_type": "code",
   "execution_count": 115,
   "id": "eacf33ae-0b0c-458b-8784-a05ed2811d33",
   "metadata": {},
   "outputs": [],
   "source": [
    "from IPython.display import JSON"
   ]
  },
  {
   "cell_type": "code",
   "execution_count": 116,
   "id": "ddd42d9e-77c2-460e-b48d-3c70fa313e71",
   "metadata": {},
   "outputs": [
    {
     "data": {
      "application/json": {
       "$schema": "https://inspirehep.net/schemas/records/hep.json",
       "abstracts": [
        {
         "source": "arXiv",
         "value": "We present a gauged baryon number model as an example of models where all new fermions required to cancel out the anomalies help to solve phenomenological problems of the standard model (SM). Dark fermion doublets, along with the iso-singlet charged fermions, in conjunction with a set of SM-singlet fermions, participate in the generation of small neutrino masses through the Dirac-dark Zee mechanism. The other SM-singlets explain the dark matter in the Universe, while their coupling to an inert singlet scalar is the source of the $CP$ violation. In the presence of a strong first-order electroweak phase transition, this \"dark\" $CP$ violation allows for a successful electroweak baryogenesis mechanism."
        }
       ],
       "arxiv_eprints": [
        {
         "categories": [
          "hep-ph"
         ],
         "value": "2205.05762"
        }
       ],
       "authors": [
        {
         "affiliations": [
          {
           "record": {
            "$ref": "https://inspirehep.net/api/institutions/903906"
           },
           "value": "Antioquia U."
          },
          {
           "record": {
            "$ref": "https://inspirehep.net/api/institutions/902714"
           },
           "value": "Campinas State U."
          }
         ],
         "emails": [
          "restrepo@udea.edu.co"
         ],
         "full_name": "Restrepo, Diego",
         "ids": [
          {
           "schema": "INSPIRE BAI",
           "value": "D.Restrepo.1"
          }
         ],
         "raw_affiliations": [
          {
           "value": "Instituto de Física, Universidad de Antioquia, Calle 70 No 52-21, Medellín, Colombia"
          },
          {
           "value": "Instituto de Física Gleb Wataghin, UNICAMP, 13083-859, Campinas, SP, Brazil"
          }
         ],
         "record": {
          "$ref": "https://inspirehep.net/api/authors/991924"
         },
         "signature_block": "RASTRAPd",
         "uuid": "300c9b2c-15b0-4937-ad36-8ccff33fd09d"
        },
        {
         "full_name": "Rivera, Andrés",
         "ids": [
          {
           "schema": "INSPIRE BAI",
           "value": "A.Rivera.1"
          }
         ],
         "record": {
          "$ref": "https://inspirehep.net/api/authors/1744378"
         },
         "signature_block": "RAVARa",
         "uuid": "6c7aac55-0895-43a2-b068-9e5bc905012d"
        },
        {
         "affiliations": [
          {
           "record": {
            "$ref": "https://inspirehep.net/api/institutions/904763"
           },
           "value": "Loyola U., Chicago"
          }
         ],
         "emails": [
          "wtangarife@luc.edu"
         ],
         "full_name": "Tangarife, Walter",
         "ids": [
          {
           "schema": "INSPIRE BAI",
           "value": "W.Tangarife.Garcia.1"
          }
         ],
         "raw_affiliations": [
          {
           "value": "Department of Physics, Loyola University Chicago, 1032 W. Sheridan Road, Chicago, IL, 60660, USA"
          }
         ],
         "record": {
          "$ref": "https://inspirehep.net/api/authors/1073186"
         },
         "signature_block": "TANGARAFw",
         "uuid": "14cb527b-70fc-40ba-9df0-f34e2919b9e9"
        }
       ],
       "citation_count": 0,
       "citation_count_without_self_citations": 0,
       "citeable": true,
       "control_number": 2080612,
       "core": true,
       "curated": false,
       "document_type": [
        "article"
       ],
       "figures": [
        {
         "caption": "Diagram for the Dirac-dark Zee model.",
         "filename": "zee.png",
         "key": "adec99ce75a4b1e62af23c609b412de9",
         "label": "fig:zee",
         "material": "preprint",
         "source": "arxiv",
         "url": "https://inspirehep.net/files/adec99ce75a4b1e62af23c609b412de9"
        },
        {
         "caption": "SI independent DM-nucleon interactions: Vector(left) and scalar (right) portals.",
         "filename": "vector-SI.png",
         "key": "22c17e37b553a093812cfcf83835733a",
         "label": "fig:SI-diagram",
         "material": "preprint",
         "source": "arxiv",
         "url": "https://inspirehep.net/files/22c17e37b553a093812cfcf83835733a"
        },
        {
         "caption": "SI independent DM-nucleon interactions: Vector(left) and scalar (right) portals.",
         "filename": "scalar-SI.png",
         "key": "87b7d307e0947da6f342f3ad105f1bb4",
         "label": "fig:SI-diagram",
         "material": "preprint",
         "source": "arxiv",
         "url": "https://inspirehep.net/files/87b7d307e0947da6f342f3ad105f1bb4"
        },
        {
         "caption": "The SI cross-section (blue dots) and the current experimental constraints from PandaX-4T~\\cite{PandaX-4T:2021bab}, XENON1T~\\cite{Aprile:2018dbl}, and prospects from LZ~\\cite{Akerib:2018lyp} and DARWIN~\\cite{Aalbers:2016jon}. We also show the Neutrino Coherent Scattering (NCS)~\\cite{Cushman:2013zza, Billard:2013qya}.",
         "filename": "SI.png",
         "key": "51262e68b6d6315ed6040b4196f92ec0",
         "label": "fig:SI",
         "material": "preprint",
         "source": "arxiv",
         "url": "https://inspirehep.net/files/51262e68b6d6315ed6040b4196f92ec0"
        },
        {
         "caption": "The blue points are the models shown in Fig.~\\ref{fig:SI} that fulfill the relic abundance of DM and the neutrino masses. The black points are those that are not excluded by direct detection of DM and give the observed baryon asymmetry at the Universe.",
         "filename": "g1_MZp.png",
         "key": "377fe90907a4b88c430c856735dfde5e",
         "label": "fig:gB-vs-MZp",
         "material": "preprint",
         "source": "arxiv",
         "url": "https://inspirehep.net/files/377fe90907a4b88c430c856735dfde5e"
        }
       ],
       "inspire_categories": [
        {
         "source": "arxiv",
         "term": "Phenomenology-HEP"
        }
       ],
       "keywords": [
        {
         "schema": "INSPIRE",
         "source": "classifier",
         "value": "neutrino, mass"
        },
        {
         "schema": "INSPIRE",
         "source": "classifier",
         "value": "fermion, doublet"
        },
        {
         "schema": "INSPIRE",
         "source": "classifier",
         "value": "electroweak interaction, critical phenomena"
        },
        {
         "schema": "INSPIRE",
         "source": "classifier",
         "value": "singlet, scalar"
        },
        {
         "schema": "INSPIRE",
         "source": "classifier",
         "value": "dark matter"
        },
        {
         "schema": "INSPIRE",
         "source": "classifier",
         "value": "baryogenesis"
        },
        {
         "schema": "INSPIRE",
         "source": "classifier",
         "value": "anomaly"
        },
        {
         "schema": "INSPIRE",
         "source": "classifier",
         "value": "baryon number"
        }
       ],
       "license": [
        {
         "license": "CC BY 4.0",
         "material": "preprint",
         "url": "http://creativecommons.org/licenses/by/4.0/"
        }
       ],
       "number_of_pages": 19,
       "preprint_date": "2022-05-11",
       "public_notes": [
        {
         "source": "arXiv",
         "value": "19 pages, 4 figures. Comments are welcome"
        }
       ],
       "references": [
        {
         "raw_refs": [
          {
           "schema": "text",
           "source": "arXiv",
           "value": "[1] Marcela Carena, Mariano Quir´ os, and Yue Zhang, “Electroweak Baryogenesis from DarkSector CP Violation,” Phys. Rev. Lett. 122, 201802 (2019), arXiv:1811.09719 [hep-ph]"
          }
         ],
         "record": {
          "$ref": "https://inspirehep.net/api/literature/1704944"
         },
         "reference": {
          "arxiv_eprint": "1811.09719",
          "label": "1",
          "misc": [
           "Marcela Carena, Mariano Quirós, and Yue Zhang"
          ],
          "publication_info": {
           "artid": "201802",
           "journal_title": "Phys.Rev.Lett.",
           "journal_volume": "122",
           "year": 2019
          },
          "title": {
           "title": "Electroweak Baryogenesis from DarkSector CP Violation"
          }
         }
        },
        {
         "raw_refs": [
          {
           "schema": "text",
           "source": "arXiv",
           "value": "[2] Marcela Carena, Mariano Quir´ os, and Yue Zhang, “Dark CP violation and gauged lepton or baryon number for electroweak baryogenesis,” Phys. Rev. D 101, 055014 (2020), arXiv:1908.04818 [hep-ph]"
          }
         ],
         "record": {
          "$ref": "https://inspirehep.net/api/literature/1749565"
         },
         "reference": {
          "arxiv_eprint": "1908.04818",
          "label": "2",
          "misc": [
           "Marcela Carena, Mariano Quirós, and Yue Zhang"
          ],
          "publication_info": {
           "artid": "055014",
           "journal_title": "Phys.Rev.D",
           "journal_volume": "101",
           "year": 2020
          },
          "title": {
           "title": "Dark CP violation and gauged lepton or baryon number for electroweak baryogenesis"
          }
         }
        },
        {
         "raw_refs": [
          {
           "schema": "text",
           "source": "arXiv",
           "value": "[3] Pavel Fileviez Perez and Mark B. Wise, “Baryon and lepton number as local gauge symmetries,” Phys. Rev. D 82, 011901 (2010), [Erratum: Phys.Rev.D 82, 079901 (2010)], arXiv:1002.1754 [hep-ph]"
          }
         ],
         "record": {
          "$ref": "https://inspirehep.net/api/literature/845452"
         },
         "reference": {
          "label": "3",
          "misc": [
           "Pavel Fileviez Perez and Mark B. Wise"
          ],
          "publication_info": {
           "artid": "011901",
           "journal_title": "Phys.Rev.D",
           "journal_volume": "82",
           "year": 2010
          },
          "title": {
           "title": "Baryon and lepton number as local gauge symmetries"
          }
         }
        },
        {
         "raw_refs": [
          {
           "schema": "text",
           "source": "arXiv",
           "value": "[3] Pavel Fileviez Perez and Mark B. Wise, “Baryon and lepton number as local gauge symmetries,” Phys. Rev. D 82, 011901 (2010), [Erratum: Phys.Rev.D 82, 079901 (2010)], arXiv:1002.1754 [hep-ph]"
          }
         ],
         "record": {
          "$ref": "https://inspirehep.net/api/literature/845452"
         },
         "reference": {
          "arxiv_eprint": "1002.1754",
          "label": "3",
          "misc": [
           "[Erratum:"
          ],
          "publication_info": {
           "artid": "079901",
           "journal_title": "Phys.Rev.D",
           "journal_volume": "82",
           "year": 2010
          }
         }
        },
        {
         "raw_refs": [
          {
           "schema": "text",
           "source": "arXiv",
           "value": "[4] Ernest Ma, “Gauged baryon number and dibaryonic dark matter,” Phys. Lett. B 813, 136066 (2021), arXiv:2011.13887 [hep-ph]"
          }
         ],
         "record": {
          "$ref": "https://inspirehep.net/api/literature/1833656"
         },
         "reference": {
          "arxiv_eprint": "2011.13887",
          "label": "4",
          "misc": [
           "Ernest Ma"
          ],
          "publication_info": {
           "artid": "136066",
           "journal_title": "Phys.Lett.B",
           "journal_volume": "813",
           "year": 2021
          },
          "title": {
           "title": "Gauged baryon number and dibaryonic dark matter"
          }
         }
        },
        {
         "raw_refs": [
          {
           "schema": "text",
           "source": "arXiv",
           "value": "[5] Diego Restrepo and David Suarez, “Effective Dirac neutrino mass operator in the Standard Model with a local Abelian extension,” (12 2021), arXiv:2112.09524 [hep-ph]"
          }
         ],
         "record": {
          "$ref": "https://inspirehep.net/api/literature/1992971"
         },
         "reference": {
          "arxiv_eprint": "2112.09524",
          "label": "5",
          "misc": [
           "Diego Restrepo and David Suarez",
           "(12)"
          ],
          "publication_info": {
           "year": 2021
          },
          "title": {
           "title": "Effective Dirac neutrino mass operator in the Standard Model with a local Abelian extension"
          }
         }
        },
        {
         "raw_refs": [
          {
           "schema": "text",
           "source": "arXiv",
           "value": "[6] C. Boehm, Pierre Fayet, and J. Silk, “Light and heavy dark matter particles,” Phys. Rev. D 69, 101302 (2004), arXiv:hep-ph/0311143"
          }
         ],
         "record": {
          "$ref": "https://inspirehep.net/api/literature/632960"
         },
         "reference": {
          "arxiv_eprint": "hep-ph/0311143",
          "authors": [
           {
            "full_name": "Boehm, C."
           }
          ],
          "label": "6",
          "misc": [
           "Pierre Fayet, and J. Silk",
           "arXiv:"
          ],
          "publication_info": {
           "artid": "101302",
           "journal_title": "Phys.Rev.D",
           "journal_volume": "69",
           "year": 2004
          },
          "title": {
           "title": "Light and heavy dark matter particles"
          }
         }
        },
        {
         "raw_refs": [
          {
           "schema": "text",
           "source": "arXiv",
           "value": "[7] Johannes Herms and Alejandro Ibarra, “Production and signatures of multi-flavour dark matter scenarios with t-channel mediators,” JCAP 10, 026 (2021), arXiv:2103.10392 [hep-ph]"
          }
         ],
         "record": {
          "$ref": "https://inspirehep.net/api/literature/1852287"
         },
         "reference": {
          "arxiv_eprint": "2103.10392",
          "label": "7",
          "misc": [
           "Johannes Herms and Alejandro Ibarra"
          ],
          "publication_info": {
           "artid": "026",
           "journal_title": "JCAP",
           "journal_volume": "10",
           "page_start": "026",
           "year": 2021
          },
          "title": {
           "title": "Production and signatures of multi-flavour dark matter scenarios with t-channel mediators"
          }
         }
        },
        {
         "raw_refs": [
          {
           "schema": "text",
           "source": "arXiv",
           "value": "[8] James M. Cline, Kimmo Kainulainen, and David Tucker-Smith, “Electroweak baryogenesis from a dark sector,” Phys. Rev. D 95, 115006 (2017), arXiv:1702.08909 [hep-ph]"
          }
         ],
         "record": {
          "$ref": "https://inspirehep.net/api/literature/1515356"
         },
         "reference": {
          "arxiv_eprint": "1702.08909",
          "authors": [
           {
            "full_name": "Cline, James M."
           }
          ],
          "label": "8",
          "misc": [
           "Kimmo Kainulainen, and David Tucker-Smith"
          ],
          "publication_info": {
           "artid": "115006",
           "journal_title": "Phys.Rev.D",
           "journal_volume": "95",
           "year": 2017
          },
          "title": {
           "title": "Electroweak baryogenesis from a dark sector"
          }
         }
        },
        {
         "raw_refs": [
          {
           "schema": "text",
           "source": "arXiv",
           "value": "[9] Salah Nasri and Sherif Moussa, “Model for small neutrino masses at the TeV scale,” Mod. Phys. Lett. A 17, 771–778 (2002), arXiv:hep-ph/0106107"
          }
         ],
         "record": {
          "$ref": "https://inspirehep.net/api/literature/558155"
         },
         "reference": {
          "arxiv_eprint": "hep-ph/0106107",
          "label": "9",
          "misc": [
           "Salah Nasri and Sherif Moussa",
           "arXiv:"
          ],
          "publication_info": {
           "journal_title": "Mod.Phys.Lett.A",
           "journal_volume": "17",
           "page_end": "778",
           "page_start": "771",
           "year": 2002
          },
          "title": {
           "title": "Model for small neutrino masses at the TeV scale"
          }
         }
        },
        {
         "raw_refs": [
          {
           "schema": "text",
           "source": "arXiv",
           "value": "[10] A. D. Dolgov, “Neutrinos in cosmology,” Phys. Rept. 370, 333–535 (2002), arXiv:hepph/0202122"
          }
         ],
         "record": {
          "$ref": "https://inspirehep.net/api/literature/582918"
         },
         "reference": {
          "authors": [
           {
            "full_name": "Dolgov, A.D."
           }
          ],
          "label": "10",
          "misc": [
           "arXiv:",
           "</cds.ARXIV>"
          ],
          "publication_info": {
           "journal_title": "Phys.Rept.",
           "journal_volume": "370",
           "page_end": "535",
           "page_start": "333",
           "year": 2002
          },
          "report_numbers": [
           "<cds.ARXIV>hep-ph/0202122"
          ],
          "title": {
           "title": "Neutrinos in cosmology"
          }
         }
        },
        {
         "raw_refs": [
          {
           "schema": "text",
           "source": "arXiv",
           "value": "[11] Nicol´ as Bernal, Juli´ an Calle, and Diego Restrepo, “Anomaly-free Abelian gauge symmetries with Dirac scotogenic models,” Phys. Rev. D 103, 095032 (2021), arXiv:2102.06211 [hep-ph]"
          }
         ],
         "record": {
          "$ref": "https://inspirehep.net/api/literature/1846554"
         },
         "reference": {
          "arxiv_eprint": "2102.06211",
          "label": "11",
          "misc": [
           "Nicolás Bernal, Julí an Calle, and Diego Restrepo"
          ],
          "publication_info": {
           "artid": "095032",
           "journal_title": "Phys.Rev.D",
           "journal_volume": "103",
           "year": 2021
          },
          "title": {
           "title": "Anomaly-free Abelian gauge symmetries with Dirac scotogenic models"
          }
         }
        },
        {
         "raw_refs": [
          {
           "schema": "text",
           "source": "arXiv",
           "value": "[12] Ernest Ma, “Gauged lepton number, Dirac neutrinos, dark matter, and muon g−2,” Phys. Lett. B 819, 136402 (2021), arXiv:2104.10324 [hep-ph]"
          }
         ],
         "record": {
          "$ref": "https://inspirehep.net/api/literature/1859534"
         },
         "reference": {
          "arxiv_eprint": "2104.10324",
          "label": "12",
          "misc": [
           "Ernest Ma"
          ],
          "publication_info": {
           "artid": "136402",
           "journal_title": "Phys.Lett.B",
           "journal_volume": "819",
           "year": 2021
          },
          "title": {
           "title": "Gauged lepton number, Dirac neutrinos, dark matter, and muon g-2"
          }
         }
        },
        {
         "raw_refs": [
          {
           "schema": "text",
           "source": "arXiv",
           "value": "[13] Davi B. Costa, Bogdan A. Dobrescu, and Patrick J. Fox, “General Solution to the U(1) Anomaly Equations,” Phys. Rev. Lett. 123, 151601 (2019), arXiv:1905.13729 [hep-th]"
          }
         ],
         "record": {
          "$ref": "https://inspirehep.net/api/literature/1737609"
         },
         "reference": {
          "arxiv_eprint": "1905.13729",
          "authors": [
           {
            "full_name": "Costa, Davi B."
           },
           {
            "full_name": "Dobrescu, Bogdan A."
           },
           {
            "full_name": "Fox, Patrick J."
           }
          ],
          "label": "13",
          "publication_info": {
           "artid": "151601",
           "journal_title": "Phys.Rev.Lett.",
           "journal_volume": "123",
           "year": 2019
          },
          "title": {
           "title": "General Solution to the U(1) Anomaly Equations"
          }
         }
        },
        {
         "raw_refs": [
          {
           "schema": "text",
           "source": "arXiv",
           "value": "[14] Chang-Yuan Yao and Gui-Jun Ding, “Systematic analysis of Dirac neutrino masses from a dimension five operator,” Phys. Rev. D 97, 095042 (2018), arXiv:1802.05231 [hep-ph]"
          }
         ],
         "record": {
          "$ref": "https://inspirehep.net/api/literature/1654953"
         },
         "reference": {
          "arxiv_eprint": "1802.05231",
          "label": "14",
          "misc": [
           "Chang-Yuan Yao and Gui-Jun Ding"
          ],
          "publication_info": {
           "artid": "095042",
           "journal_title": "Phys.Rev.D",
           "journal_volume": "97",
           "year": 2018
          },
          "title": {
           "title": "Systematic analysis of Dirac neutrino masses from a dimension five operator"
          }
         }
        },
        {
         "raw_refs": [
          {
           "schema": "text",
           "source": "arXiv",
           "value": "[15] P. F. de Salas, D. V. Forero, C. A. Ternes, M. Tortola, and J. W. F. Valle, “Status of neutrino oscillations 2018: 3σ hint for normal mass ordering and improved CP sensitivity,” Phys. Lett. B 782, 633–640 (2018), arXiv:1708.01186 [hep-ph]"
          }
         ],
         "record": {
          "$ref": "https://inspirehep.net/api/literature/1614321"
         },
         "reference": {
          "arxiv_eprint": "1708.01186",
          "authors": [
           {
            "full_name": "de Salas, P.F."
           },
           {
            "full_name": "Forero, D.V."
           },
           {
            "full_name": "Ternes, C.A."
           },
           {
            "full_name": "Tortola, M."
           },
           {
            "full_name": "Valle, J.W.F."
           }
          ],
          "label": "15",
          "publication_info": {
           "journal_title": "Phys.Lett.B",
           "journal_volume": "782",
           "page_end": "640",
           "page_start": "633",
           "year": 2018
          },
          "title": {
           "title": "Status of neutrino oscillations 2018: 3σ hint for normal mass ordering and improved CP sensitivity"
          }
         }
        },
        {
         "raw_refs": [
          {
           "schema": "text",
           "source": "arXiv",
           "value": "[16] Shinya Kanemura, Takehiro Nabeshima, and Hiroaki Sugiyama, “Neutrino Masses from LoopInduced Dirac Yukawa Couplings,” Phys. Lett. B 703, 66–70 (2011), arXiv:1106.2480 [hep-ph]"
          }
         ],
         "record": {
          "$ref": "https://inspirehep.net/api/literature/913413"
         },
         "reference": {
          "arxiv_eprint": "1106.2480",
          "label": "16",
          "misc": [
           "Shinya Kanemura, Takehiro Nabeshima, and Hiroaki Sugiyama"
          ],
          "publication_info": {
           "journal_title": "Phys.Lett.B",
           "journal_volume": "703",
           "page_end": "70",
           "page_start": "66",
           "year": 2011
          },
          "title": {
           "title": "Neutrino Masses from LoopInduced Dirac Yukawa Couplings"
          }
         }
        },
        {
         "raw_refs": [
          {
           "schema": "text",
           "source": "arXiv",
           "value": "[17] Ziro Maki, Masami Nakagawa, and Shoichi Sakata, “Remarks on the unified model of elementary particles,” Prog. Theor. Phys. 28, 870–880 (1962)"
          }
         ],
         "record": {
          "$ref": "https://inspirehep.net/api/literature/3540"
         },
         "reference": {
          "label": "17",
          "misc": [
           "Ziro Maki, Masami Nakagawa, and Shoichi Sakata"
          ],
          "publication_info": {
           "journal_title": "Prog.Theor.Phys.",
           "journal_volume": "28",
           "page_end": "880",
           "page_start": "870",
           "year": 1962
          },
          "title": {
           "title": "Remarks on the unified model of elementary particles"
          }
         }
        },
        {
         "raw_refs": [
          {
           "schema": "text",
           "source": "arXiv",
           "value": "[18] Edward W. Kolb and Michael S. Turner, The Early Universe, Vol. 69 (1990) ISBN 978-0-20162674-2"
          }
         ],
         "record": {
          "$ref": "https://inspirehep.net/api/literature/299778"
         },
         "reference": {
          "authors": [
           {
            "full_name": "Kolb, Edward W."
           },
           {
            "full_name": "Turner, Michael S."
           }
          ],
          "isbn": "9780201626742",
          "label": "18",
          "misc": [
           "The Early Universe, Vol. 69"
          ],
          "publication_info": {
           "year": 1990
          }
         }
        },
        {
         "raw_refs": [
          {
           "schema": "text",
           "source": "arXiv",
           "value": "[19] Mark Srednicki, Richard Watkins, and Keith A. Olive, “Calculations of Relic Densities in the Early Universe,” Nucl. Phys. B 310, 693 (1988)"
          }
         ],
         "record": {
          "$ref": "https://inspirehep.net/api/literature/261944"
         },
         "reference": {
          "label": "19",
          "misc": [
           "Mark Srednicki, Richard Watkins, and Keith A. Olive"
          ],
          "publication_info": {
           "artid": "693",
           "journal_title": "Nucl.Phys.B",
           "journal_volume": "310",
           "page_start": "693",
           "year": 1988
          },
          "title": {
           "title": "Calculations of Relic Densities in the Early Universe"
          }
         }
        },
        {
         "raw_refs": [
          {
           "schema": "text",
           "source": "arXiv",
           "value": "[20] Michael Duerr and Pavel Fileviez Perez, “Theory for Baryon Number and Dark Matter at the LHC,” Phys. Rev. D 91, 095001 (2015), arXiv:1409.8165 [hep-ph]"
          }
         ],
         "record": {
          "$ref": "https://inspirehep.net/api/literature/1319340"
         },
         "reference": {
          "arxiv_eprint": "1409.8165",
          "label": "20",
          "misc": [
           "Michael Duerr and Pavel Fileviez Perez"
          ],
          "publication_info": {
           "artid": "095001",
           "journal_title": "Phys.Rev.D",
           "journal_volume": "91",
           "year": 2015
          },
          "title": {
           "title": "Theory for Baryon Number and Dark Matter at the LHC"
          }
         }
        },
        {
         "raw_refs": [
          {
           "schema": "text",
           "source": "arXiv",
           "value": "[21] F. Staub, “SARAH,” (6 2008), arXiv:0806.0538 [hep-ph]"
          }
         ],
         "record": {
          "$ref": "https://inspirehep.net/api/literature/787204"
         },
         "reference": {
          "arxiv_eprint": "0806.0538",
          "authors": [
           {
            "full_name": "Staub, F."
           }
          ],
          "label": "21",
          "misc": [
           "(6)"
          ],
          "publication_info": {
           "year": 2008
          },
          "title": {
           "title": "SARAH"
          }
         }
        },
        {
         "raw_refs": [
          {
           "schema": "text",
           "source": "arXiv",
           "value": "[22] Florian Staub, “From Superpotential to Model Files for FeynArts and CalcHep/CompHep,” Comput. Phys. Commun. 181, 1077–1086 (2010), arXiv:0909.2863 [hep-ph]"
          }
         ],
         "record": {
          "$ref": "https://inspirehep.net/api/literature/831371"
         },
         "reference": {
          "arxiv_eprint": "0909.2863",
          "label": "22",
          "misc": [
           "Florian Staub"
          ],
          "publication_info": {
           "journal_title": "Comput.Phys.Commun.",
           "journal_volume": "181",
           "page_end": "1086",
           "page_start": "1077",
           "year": 2010
          },
          "title": {
           "title": "From Superpotential to Model Files for FeynArts and CalcHep/CompHep"
          }
         }
        },
        {
         "raw_refs": [
          {
           "schema": "text",
           "source": "arXiv",
           "value": "[23] Florian Staub, “Automatic Calculation of supersymmetric Renormalization Group Equations and Self Energies,” Comput. Phys. Commun. 182, 808–833 (2011), arXiv:1002.0840 [hep-ph]"
          }
         ],
         "record": {
          "$ref": "https://inspirehep.net/api/literature/845241"
         },
         "reference": {
          "arxiv_eprint": "1002.0840",
          "label": "23",
          "misc": [
           "Florian Staub"
          ],
          "publication_info": {
           "journal_title": "Comput.Phys.Commun.",
           "journal_volume": "182",
           "page_end": "833",
           "page_start": "808",
           "year": 2011
          },
          "title": {
           "title": "Automatic Calculation of supersymmetric Renormalization Group Equations and Self Energies"
          }
         }
        },
        {
         "raw_refs": [
          {
           "schema": "text",
           "source": "arXiv",
           "value": "[24] Florian Staub, “SARAH 3.2: Dirac Gauginos, UFO output, and more,” Comput. Phys. Commun. 184, 1792–1809 (2013), arXiv:1207.0906 [hep-ph]"
          }
         ],
         "record": {
          "$ref": "https://inspirehep.net/api/literature/1121136"
         },
         "reference": {
          "arxiv_eprint": "1207.0906",
          "label": "24",
          "misc": [
           "Florian Staub"
          ],
          "publication_info": {
           "journal_title": "Comput.Phys.Commun.",
           "journal_volume": "184",
           "page_end": "1809",
           "page_start": "1792",
           "year": 2013
          },
          "title": {
           "title": "SARAH 3.2: Dirac Gauginos, UFO output, and more"
          }
         }
        },
        {
         "raw_refs": [
          {
           "schema": "text",
           "source": "arXiv",
           "value": "[25] Florian Staub, “SARAH 4 : A tool for (not only SUSY) model builders,” Comput. Phys. Commun. 185, 1773–1790 (2014), arXiv:1309.7223 [hep-ph]"
          }
         ],
         "record": {
          "$ref": "https://inspirehep.net/api/literature/1255845"
         },
         "reference": {
          "arxiv_eprint": "1309.7223",
          "label": "25",
          "misc": [
           "Florian Staub"
          ],
          "publication_info": {
           "journal_title": "Comput.Phys.Commun.",
           "journal_volume": "185",
           "page_end": "1790",
           "page_start": "1773",
           "year": 2014
          },
          "title": {
           "title": "SARAH 4 : A tool for (not only SUSY) model builders"
          }
         }
        },
        {
         "raw_refs": [
          {
           "schema": "text",
           "source": "arXiv",
           "value": "[26] Werner Porod, “SPheno, a program for calculating supersymmetric spectra, SUSY particle decays and SUSY particle production at e+ e- colliders,” Comput. Phys. Commun. 153, 275–315 (2003), arXiv:hep-ph/0301101"
          }
         ],
         "record": {
          "$ref": "https://inspirehep.net/api/literature/611662"
         },
         "reference": {
          "arxiv_eprint": "hep-ph/0301101",
          "label": "26",
          "misc": [
           "Werner Porod",
           "arXiv:"
          ],
          "publication_info": {
           "journal_title": "Comput.Phys.Commun.",
           "journal_volume": "153",
           "page_end": "315",
           "page_start": "275",
           "year": 2003
          },
          "title": {
           "title": "SPheno, a program for calculating supersymmetric spectra, SUSY particle decays and SUSY particle production at e+ e- colliders"
          }
         }
        },
        {
         "raw_refs": [
          {
           "schema": "text",
           "source": "arXiv",
           "value": "[27] W. Porod and F. Staub, “SPheno 3.1: Extensions including flavour, CP-phases and models beyond the MSSM,” Comput. Phys. Commun. 183, 2458–2469 (2012), arXiv:1104.1573 [hepph]"
          }
         ],
         "record": {
          "$ref": "https://inspirehep.net/api/literature/895595"
         },
         "reference": {
          "arxiv_eprint": "1104.1573",
          "authors": [
           {
            "full_name": "Porod, W."
           },
           {
            "full_name": "Staub, F."
           }
          ],
          "label": "27",
          "publication_info": {
           "journal_title": "Comput.Phys.Commun.",
           "journal_volume": "183",
           "page_end": "2469",
           "page_start": "2458",
           "year": 2012
          },
          "title": {
           "title": "SPheno 3.1: Extensions including flavour, CP-phases and models beyond the MSSM"
          }
         }
        },
        {
         "raw_refs": [
          {
           "schema": "text",
           "source": "arXiv",
           "value": "[28] G. Belanger, F. Boudjema, A. Pukhov, and A. Semenov, “MicrOMEGAs 2.0: A Program to calculate the relic density of dark matter in a generic model,” Comput. Phys. Commun. 176, 367–382 (2007), arXiv:hep-ph/0607059"
          }
         ],
         "record": {
          "$ref": "https://inspirehep.net/api/literature/720876"
         },
         "reference": {
          "arxiv_eprint": "hep-ph/0607059",
          "authors": [
           {
            "full_name": "Belanger, G."
           },
           {
            "full_name": "Boudjema, F."
           },
           {
            "full_name": "Pukhov, A."
           },
           {
            "full_name": "Semenov, A."
           }
          ],
          "label": "28",
          "misc": [
           "arXiv:"
          ],
          "publication_info": {
           "journal_title": "Comput.Phys.Commun.",
           "journal_volume": "176",
           "page_end": "382",
           "page_start": "367",
           "year": 2007
          },
          "title": {
           "title": "MicrOMEGAs 2.0: A Program to calculate the relic density of dark matter in a generic model"
          }
         }
        },
        {
         "raw_refs": [
          {
           "schema": "text",
           "source": "arXiv",
           "value": "[29] Kim Griest and David Seckel, “Three exceptions in the calculation of relic abundances,” Phys. Rev. D 43, 3191–3203 (1991)"
          }
         ],
         "record": {
          "$ref": "https://inspirehep.net/api/literature/300447"
         },
         "reference": {
          "label": "29",
          "misc": [
           "Kim Griest and David Seckel"
          ],
          "publication_info": {
           "journal_title": "Phys.Rev.D",
           "journal_volume": "43",
           "page_end": "3203",
           "page_start": "3191",
           "year": 1991
          },
          "title": {
           "title": "Three exceptions in the calculation of relic abundances"
          }
         }
        },
        {
         "raw_refs": [
          {
           "schema": "text",
           "source": "arXiv",
           "value": "[30] N. Aghanim et al. (Planck), “Planck 2018 results. VI. Cosmological parameters,” Astron. Astrophys. 641, A6 (2020), [Erratum: Astron.Astrophys. 652, C4 (2021)], arXiv:1807.06209 [astro-ph.CO]"
          }
         ],
         "record": {
          "$ref": "https://inspirehep.net/api/literature/1682902"
         },
         "reference": {
          "authors": [
           {
            "full_name": "Aghanim, N."
           }
          ],
          "label": "30",
          "misc": [
           "(Planck)"
          ],
          "publication_info": {
           "artid": "A6",
           "journal_title": "Astron.Astrophys.",
           "journal_volume": "641",
           "page_start": "A6",
           "year": 2020
          },
          "title": {
           "title": "Planck 2018 results. VI. Cosmological parameters"
          }
         }
        },
        {
         "raw_refs": [
          {
           "schema": "text",
           "source": "arXiv",
           "value": "[30] N. Aghanim et al. (Planck), “Planck 2018 results. VI. Cosmological parameters,” Astron. Astrophys. 641, A6 (2020), [Erratum: Astron.Astrophys. 652, C4 (2021)], arXiv:1807.06209 [astro-ph.CO]"
          }
         ],
         "record": {
          "$ref": "https://inspirehep.net/api/literature/1682902"
         },
         "reference": {
          "arxiv_eprint": "1807.06209",
          "authors": [
           {
            "full_name": "Aghanim, N."
           }
          ],
          "label": "30",
          "misc": [
           "[Erratum:"
          ],
          "publication_info": {
           "artid": "C4",
           "journal_title": "Astron.Astrophys.",
           "journal_volume": "652",
           "page_start": "C4",
           "year": 2021
          }
         }
        },
        {
         "raw_refs": [
          {
           "schema": "text",
           "source": "arXiv",
           "value": "[31] Yue Meng et al. (PandaX-4T), “Dark Matter Search Results from the PandaX-4T Commissioning Run,” Phys. Rev. Lett. 127, 261802 (2021), arXiv:2107.13438 [hep-ex]"
          }
         ],
         "record": {
          "$ref": "https://inspirehep.net/api/literature/1894664"
         },
         "reference": {
          "arxiv_eprint": "2107.13438",
          "authors": [
           {
            "full_name": "Meng"
           }
          ],
          "label": "31",
          "misc": [
           "Yue",
           "(PandaX-4T)"
          ],
          "publication_info": {
           "artid": "261802",
           "journal_title": "Phys.Rev.Lett.",
           "journal_volume": "127",
           "year": 2021
          },
          "title": {
           "title": "Dark Matter Search Results from the PandaX-4T Commissioning Run"
          }
         }
        },
        {
         "raw_refs": [
          {
           "schema": "text",
           "source": "arXiv",
           "value": "[32] E. Aprile et al. (XENON), “Dark Matter Search Results from a One Ton-Year Exposure of XENON1T,” Phys. Rev. Lett. 121, 111302 (2018), arXiv:1805.12562 [astro-ph.CO]"
          }
         ],
         "record": {
          "$ref": "https://inspirehep.net/api/literature/1675772"
         },
         "reference": {
          "arxiv_eprint": "1805.12562",
          "authors": [
           {
            "full_name": "Aprile, E."
           }
          ],
          "label": "32",
          "misc": [
           "(XENON)"
          ],
          "publication_info": {
           "artid": "111302",
           "journal_title": "Phys.Rev.Lett.",
           "journal_volume": "121",
           "year": 2018
          },
          "title": {
           "title": "Dark Matter Search Results from a One Ton-Year Exposure of XENON1T"
          }
         }
        },
        {
         "raw_refs": [
          {
           "schema": "text",
           "source": "arXiv",
           "value": "[33] D. S. Akerib et al. (LUX-ZEPLIN), “Projected WIMP sensitivity of the LUX-ZEPLIN dark matter experiment,” Phys. Rev. D 101, 052002 (2020), arXiv:1802.06039 [astro-ph.IM]"
          }
         ],
         "record": {
          "$ref": "https://inspirehep.net/api/literature/1655569"
         },
         "reference": {
          "arxiv_eprint": "1802.06039",
          "authors": [
           {
            "full_name": "Akerib, D.S."
           }
          ],
          "label": "33",
          "misc": [
           "(LUX-ZEPLIN)"
          ],
          "publication_info": {
           "artid": "052002",
           "journal_title": "Phys.Rev.D",
           "journal_volume": "101",
           "year": 2020
          },
          "title": {
           "title": "Projected WIMP sensitivity of the LUX-ZEPLIN dark matter experiment"
          }
         }
        },
        {
         "raw_refs": [
          {
           "schema": "text",
           "source": "arXiv",
           "value": "[34] J. Aalbers et al. (DARWIN), “DARWIN: towards the ultimate dark matter detector,” JCAP 11, 017 (2016), arXiv:1606.07001 [astro-ph.IM]"
          }
         ],
         "record": {
          "$ref": "https://inspirehep.net/api/literature/1471703"
         },
         "reference": {
          "arxiv_eprint": "1606.07001",
          "authors": [
           {
            "full_name": "Aalbers, J."
           }
          ],
          "label": "34",
          "misc": [
           "(DARWIN)"
          ],
          "publication_info": {
           "artid": "017",
           "journal_title": "JCAP",
           "journal_volume": "11",
           "page_start": "017",
           "year": 2016
          },
          "title": {
           "title": "DARWIN: towards the ultimate dark matter detector"
          }
         }
        },
        {
         "raw_refs": [
          {
           "schema": "text",
           "source": "arXiv",
           "value": "[35] P. Cushman et al., “Working Group Report: WIMP Dark Matter Direct Detection,” in Community Summer Study 2013: Snowmass on the Mississippi (2013) arXiv:1310.8327 [hep-ex]"
          }
         ],
         "record": {
          "$ref": "https://inspirehep.net/api/literature/1262767"
         },
         "reference": {
          "arxiv_eprint": "1310.8327",
          "authors": [
           {
            "full_name": "Cushman, P."
           }
          ],
          "label": "35",
          "misc": [
           "in Community Summer Study: Snowmass on the Mississippi"
          ],
          "publication_info": {
           "year": 2013
          },
          "title": {
           "title": "Working Group Report: WIMP Dark Matter Direct Detection"
          }
         }
        },
        {
         "raw_refs": [
          {
           "schema": "text",
           "source": "arXiv",
           "value": "[36] J. Billard, L. Strigari, and E. Figueroa-Feliciano, “Implication of neutrino backgrounds on the reach of next generation dark matter direct detection experiments,” Phys. Rev. D 89, 023524 (2014), arXiv:1307.5458 [hep-ph]"
          }
         ],
         "record": {
          "$ref": "https://inspirehep.net/api/literature/1243804"
         },
         "reference": {
          "arxiv_eprint": "1307.5458",
          "authors": [
           {
            "full_name": "Billard, J."
           },
           {
            "full_name": "Strigari, L."
           },
           {
            "full_name": "Figueroa-Feliciano, E."
           }
          ],
          "label": "36",
          "publication_info": {
           "artid": "023524",
           "journal_title": "Phys.Rev.D",
           "journal_volume": "89",
           "year": 2014
          },
          "title": {
           "title": "Implication of neutrino backgrounds on the reach of next generation dark matter direct detection experiments"
          }
         }
        },
        {
         "raw_refs": [
          {
           "schema": "text",
           "source": "arXiv",
           "value": "[37] E. Aprile et al. (XENON), “Constraining the spin-dependent WIMP-nucleon cross sections with XENON1T,” Phys. Rev. Lett. 122, 141301 (2019), arXiv:1902.03234 [astro-ph.CO]"
          }
         ],
         "record": {
          "$ref": "https://inspirehep.net/api/literature/1719184"
         },
         "reference": {
          "arxiv_eprint": "1902.03234",
          "authors": [
           {
            "full_name": "Aprile, E."
           }
          ],
          "label": "37",
          "misc": [
           "(XENON)"
          ],
          "publication_info": {
           "artid": "141301",
           "journal_title": "Phys.Rev.Lett.",
           "journal_volume": "122",
           "year": 2019
          },
          "title": {
           "title": "Constraining the spin-dependent WIMP-nucleon cross sections with XENON1T"
          }
         }
        },
        {
         "raw_refs": [
          {
           "schema": "text",
           "source": "arXiv",
           "value": "[38] A. D. Sakharov, “Violation of CP Invariance, C asymmetry, and baryon asymmetry of the universe,” Pisma Zh. Eksp. Teor. Fiz. 5, 32–35 (1967)"
          }
         ],
         "record": {
          "$ref": "https://inspirehep.net/api/literature/51345"
         },
         "reference": {
          "authors": [
           {
            "full_name": "Sakharov, A.D."
           }
          ],
          "label": "38",
          "publication_info": {
           "journal_title": "Pisma Zh.Eksp.Teor.Fiz.",
           "journal_volume": "5",
           "page_end": "35",
           "page_start": "32",
           "year": 1967
          },
          "title": {
           "title": "Violation of CP Invariance, C asymmetry, and baryon asymmetry of the universe"
          }
         }
        },
        {
         "raw_refs": [
          {
           "schema": "text",
           "source": "arXiv",
           "value": "[39] Jose R. Espinosa, Thomas Konstandin, and Francesco Riva, “Strong Electroweak Phase Transitions in the Standard Model with a Singlet,” Nucl. Phys. B 854, 592–630 (2012), arXiv:1107.5441 [hep-ph]"
          }
         ],
         "record": {
          "$ref": "https://inspirehep.net/api/literature/920578"
         },
         "reference": {
          "arxiv_eprint": "1107.5441",
          "authors": [
           {
            "full_name": "Espinosa, Jose R."
           }
          ],
          "label": "39",
          "misc": [
           "Thomas Konstandin, and Francesco Riva"
          ],
          "publication_info": {
           "journal_title": "Nucl.Phys.B",
           "journal_volume": "854",
           "page_end": "630",
           "page_start": "592",
           "year": 2012
          },
          "title": {
           "title": "Strong Electroweak Phase Transitions in the Standard Model with a Singlet"
          }
         }
        },
        {
         "raw_refs": [
          {
           "schema": "text",
           "source": "arXiv",
           "value": "[40] Sidney R. Coleman, “The Fate of the False Vacuum. 1. Semiclassical Theory,” Phys. Rev. D 15, 2929–2936 (1977), [Erratum: Phys.Rev.D 16, 1248 (1977)]"
          }
         ],
         "record": {
          "$ref": "https://inspirehep.net/api/literature/118681"
         },
         "reference": {
          "authors": [
           {
            "full_name": "Coleman, Sidney R."
           }
          ],
          "label": "40",
          "publication_info": {
           "journal_title": "Phys.Rev.D",
           "journal_volume": "15",
           "page_end": "2936",
           "page_start": "2929",
           "year": 1977
          },
          "title": {
           "title": "The Fate of the False Vacuum. 1. Semiclassical Theory"
          }
         }
        },
        {
         "raw_refs": [
          {
           "schema": "text",
           "source": "arXiv",
           "value": "[40] Sidney R. Coleman, “The Fate of the False Vacuum. 1. Semiclassical Theory,” Phys. Rev. D 15, 2929–2936 (1977), [Erratum: Phys.Rev.D 16, 1248 (1977)]"
          }
         ],
         "record": {
          "$ref": "https://inspirehep.net/api/literature/118681"
         },
         "reference": {
          "authors": [
           {
            "full_name": "Coleman, Sidney R."
           }
          ],
          "label": "40",
          "misc": [
           "[Erratum:"
          ],
          "publication_info": {
           "artid": "1248",
           "journal_title": "Phys.Rev.D",
           "journal_volume": "16",
           "page_start": "1248",
           "year": 1977
          }
         }
        },
        {
         "raw_refs": [
          {
           "schema": "text",
           "source": "arXiv",
           "value": "[41] James M. Cline, Michael Joyce, and Kimmo Kainulainen, “Supersymmetric electroweak baryogenesis,” JHEP 07, 018 (2000), arXiv:hep-ph/0006119"
          }
         ],
         "record": {
          "$ref": "https://inspirehep.net/api/literature/528614"
         },
         "reference": {
          "arxiv_eprint": "hep-ph/0006119",
          "authors": [
           {
            "full_name": "Cline, James M."
           }
          ],
          "label": "41",
          "misc": [
           "Michael Joyce, and Kimmo Kainulainen",
           "arXiv:"
          ],
          "publication_info": {
           "artid": "018",
           "journal_title": "JHEP",
           "journal_volume": "07",
           "page_start": "018",
           "year": 2000
          },
          "title": {
           "title": "Supersymmetric electroweak baryogenesis"
          }
         }
        },
        {
         "raw_refs": [
          {
           "schema": "text",
           "source": "arXiv",
           "value": "[42] P. A. Zyla et al. (Particle Data Group), “Review of Particle Physics,” PTEP 2020, 083C01 (2020)"
          }
         ],
         "reference": {
          "authors": [
           {
            "full_name": "Zyla, P.A."
           }
          ],
          "label": "42",
          "misc": [
           "(Particle Data Group)",
           "1"
          ],
          "publication_info": {
           "artid": "083C",
           "journal_title": "PTEP",
           "journal_volume": "2020",
           "page_start": "083C",
           "year": 2020
          },
          "title": {
           "title": "Review of Particle Physics"
          }
         }
        },
        {
         "raw_refs": [
          {
           "schema": "text",
           "source": "arXiv",
           "value": "[43] Pavel Fileviez P´ erez, Elliot Golias, Rui-Hao Li, and Clara Murgui, “Leptophobic Dark Matter and the Baryon Number Violation Scale,” Phys. Rev. D 99, 035009 (2019), arXiv:1810.06646 [hep-ph]"
          }
         ],
         "record": {
          "$ref": "https://inspirehep.net/api/literature/1698964"
         },
         "reference": {
          "arxiv_eprint": "1810.06646",
          "label": "43",
          "misc": [
           "Pavel Fileviez Pérez, Elliot Golias, Rui-Hao Li, and Clara Murgui"
          ],
          "publication_info": {
           "artid": "035009",
           "journal_title": "Phys.Rev.D",
           "journal_volume": "99",
           "year": 2019
          },
          "title": {
           "title": "Leptophobic Dark Matter and the Baryon Number Violation Scale"
          }
         }
        },
        {
         "raw_refs": [
          {
           "schema": "text",
           "source": "arXiv",
           "value": "[44] Julian Calle, Diego Restrepo, and ´ Oscar Zapata, “Dirac neutrino mass generation from a majorana messenger,” Phys. Rev. D 101, 035004 (Feb 2020), https://link.aps.org/doi/ 10.1103/PhysRevD.101.035004"
          }
         ],
         "record": {
          "$ref": "https://inspirehep.net/api/literature/1755250"
         },
         "reference": {
          "dois": [
           "10.1103/PhysRevD.101.035004"
          ],
          "label": "44",
          "misc": [
           "Julian Calle, Diego Restrepo, and Óscar Zapata"
          ],
          "publication_info": {
           "artid": "035004",
           "journal_title": "Phys.Rev.D",
           "journal_volume": "101",
           "year": 2020
          },
          "title": {
           "title": "Dirac neutrino mass generation from a majorana messenger"
          },
          "urls": [
           {
            "value": "https://link.aps.org/doi/"
           }
          ]
         }
        }
       ],
       "texkeys": [
        "Restrepo:2022cpq"
       ],
       "titles": [
        {
         "source": "arXiv",
         "title": "Dirac dark matter, neutrino masses, and dark baryogenesis"
        }
       ]
      },
      "text/plain": [
       "<IPython.core.display.JSON object>"
      ]
     },
     "execution_count": 116,
     "metadata": {
      "application/json": {
       "expanded": false,
       "root": "root"
      }
     },
     "output_type": "execute_result"
    }
   ],
   "source": [
    "JSON(r.json().get('metadata'))"
   ]
  },
  {
   "cell_type": "code",
   "execution_count": 45,
   "id": "b429c2a4-d261-4af5-b880-f25b697a3023",
   "metadata": {},
   "outputs": [],
   "source": [
    "import requests"
   ]
  },
  {
   "cell_type": "code",
   "execution_count": null,
   "id": "3f0bc437-5d6d-47c2-bb09-ec51451d40c9",
   "metadata": {},
   "outputs": [],
   "source": [
    "Can be exported to JSON or Excel"
   ]
  },
  {
   "cell_type": "code",
   "execution_count": null,
   "id": "c1d944f3-d8d1-4a1d-9819-34f72e91aa3b",
   "metadata": {},
   "outputs": [],
   "source": []
  }
 ],
 "metadata": {
  "kernelspec": {
   "display_name": "Python 3 (ipykernel)",
   "language": "python",
   "name": "python3"
  },
  "language_info": {
   "codemirror_mode": {
    "name": "ipython",
    "version": 3
   },
   "file_extension": ".py",
   "mimetype": "text/x-python",
   "name": "python",
   "nbconvert_exporter": "python",
   "pygments_lexer": "ipython3",
   "version": "3.9.2"
  }
 },
 "nbformat": 4,
 "nbformat_minor": 5
}
