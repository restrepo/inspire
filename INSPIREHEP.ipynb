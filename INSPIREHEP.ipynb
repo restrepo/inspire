{
 "cells": [
  {
   "cell_type": "code",
   "execution_count": 26,
   "id": "a48a81a2-c893-4eb7-bf0e-5762f5c4dd29",
   "metadata": {},
   "outputs": [],
   "source": [
    "class test:\n",
    "    def __init__(self,*args):\n",
    "        if args:\n",
    "            print(args[0])\n",
    "        pass\n",
    "        #return self.call()\n",
    "    def call(self):\n",
    "        return {'hola':'mundo'}"
   ]
  },
  {
   "cell_type": "code",
   "execution_count": 28,
   "id": "a6e3f974-659f-4192-9fb8-e25f48eee012",
   "metadata": {},
   "outputs": [],
   "source": [
    "h=test()"
   ]
  },
  {
   "cell_type": "code",
   "execution_count": 21,
   "id": "91e0f0a0-8ab1-4651-93b4-2e52288d3083",
   "metadata": {},
   "outputs": [
    {
     "data": {
      "text/plain": [
       "{'hola': 'mundo'}"
      ]
     },
     "execution_count": 21,
     "metadata": {},
     "output_type": "execute_result"
    }
   ],
   "source": [
    "h.call()"
   ]
  },
  {
   "cell_type": "code",
   "execution_count": 120,
   "id": "1e049b6d-013e-470c-86ec-ce16ab335f4c",
   "metadata": {},
   "outputs": [],
   "source": [
    "class profile:\n",
    "    sample={\"advisors\":[{\"ids\":[{\"value\":\"INSPIRE-00133260\",\n",
    "                                    \"schema\":\"INSPIRE ID\"}],\n",
    "                \"name\":\"Valle, Jose W.F.\",\n",
    "                \"hidden\":False,\n",
    "                \"record\":{\"$ref\":\"https://inspirehep.net/api/authors/985058\"},\n",
    "                \"degree_type\":\"phd\",\"curated_relation\":False},\n",
    "               {\"name\":\"Ponce, William A.\",\"hidden\":False,\n",
    "                \"degree_type\":\"master\",\n",
    "                \"curated_relation\":False}],\n",
    "                \"email_addresses\":[{\"value\":\"restrepo@udea.edu.co\",\"current\":True}],\n",
    "    \"positions\":[{\"rank\":\"SENIOR\",\n",
    "                  \"hidden\":False,\n",
    "                  \"record\":{\"$ref\":\"https://inspirehep.net/api/institutions/903906\"},\n",
    "                  \"current\":True,\n",
    "                  \"start_date\":\"2004\",\n",
    "                  \"institution\":\"Antioquia U.\",\n",
    "                  \"curated_relation\":True},\n",
    "                 {\"rank\":\"PHD\",\n",
    "                  \"hidden\":False,\n",
    "                  \"record\":{\"$ref\":\"https://inspirehep.net/api/institutions/907907\"},\n",
    "                  \"current\":False,\n",
    "                  \"end_date\":\"2001\",\"start_date\":\"1997\",\n",
    "                  \"institution\":\"Valencia U., IFIC\",\"curated_relation\":True}],\n",
    "    \"ids\":[{\"value\":\"D.Restrepo.1\",\"schema\":\"INSPIRE BAI\"},\n",
    "           {\"value\":\"INSPIRE-00119748\",\"schema\":\"INSPIRE ID\"},\n",
    "           {\"value\":\"0000-0001-6455-5564\",\"schema\":\"ORCID\"},\n",
    "           {\"value\":\"diego-restrepo-209b7927\",\"schema\":\"LINKEDIN\"}],\n",
    "    \"name\":{\"value\":\"Restrepo Quintero, Diego Alejandro\",\n",
    "            \"preferred_name\":\"Diego Restrepo\"},\n",
    "    \"stub\":False,\n",
    "    \"urls\":[{\"value\":\"http://gfif.udea.edu.co\"},\n",
    "            {\"value\":\"https://scholar.google.com/citations?user=1sKULCoAAAAJ\"},\n",
    "            {\"value\":\"https://www.researchgate.net/profile/Diego_Restrepo2\"}],\n",
    "    \"status\":\"active\",\n",
    "    \"$schema\":\"https://inspirehep.net/schemas/records/authors.json\",\n",
    "    \"deleted\":False,\n",
    "    \"control_number\":991924,\n",
    "    \"legacy_version\":\"20210323213044.0\",\n",
    "    \"arxiv_categories\":[\"hep-ph\"],\n",
    "    \"legacy_creation_date\":\"1999-08-23\"}\n",
    "    def __init__(self,*args):\n",
    "        if args:\n",
    "            if args[0].is_author:\n",
    "                self.is_author=True\n",
    "                self.name=args[0].name\n",
    "        else:\n",
    "            self.name=''            \n",
    "            \n",
    "    def author(self,p):\n",
    "        '''\n",
    "        Select:\n",
    "        * current position\n",
    "        * non-INSPIRE ids\n",
    "        * name\n",
    "        * control_number\n",
    "        * arxiv_categories\n",
    "        '''\n",
    "        self.is_author=True\n",
    "        self.name=p.get('name')\n",
    "        return {'name':self.name}\n",
    "        \n",
    "        "
   ]
  },
  {
   "cell_type": "code",
   "execution_count": 121,
   "id": "8af7d236-7482-4c68-8997-de2c35a85d27",
   "metadata": {},
   "outputs": [],
   "source": [
    "au=profile()"
   ]
  },
  {
   "cell_type": "code",
   "execution_count": 122,
   "id": "9865add5-208d-448e-88df-329c372ac567",
   "metadata": {},
   "outputs": [
    {
     "data": {
      "text/plain": [
       "''"
      ]
     },
     "execution_count": 122,
     "metadata": {},
     "output_type": "execute_result"
    }
   ],
   "source": [
    "au.name"
   ]
  },
  {
   "cell_type": "code",
   "execution_count": 123,
   "id": "644bf618-6cfe-490c-9b6b-0d65b49eb7d8",
   "metadata": {},
   "outputs": [],
   "source": [
    "p=au.sample"
   ]
  },
  {
   "cell_type": "code",
   "execution_count": 124,
   "id": "726f526d-8e75-4c22-b226-d5e8c7877a34",
   "metadata": {},
   "outputs": [
    {
     "data": {
      "text/plain": [
       "{'name': {'value': 'Restrepo Quintero, Diego Alejandro',\n",
       "  'preferred_name': 'Diego Restrepo'}}"
      ]
     },
     "execution_count": 124,
     "metadata": {},
     "output_type": "execute_result"
    }
   ],
   "source": [
    "au.author(p)"
   ]
  },
  {
   "cell_type": "code",
   "execution_count": 125,
   "id": "1b49f1ce-ac81-40be-8e3f-ed493d040176",
   "metadata": {},
   "outputs": [
    {
     "data": {
      "text/plain": [
       "True"
      ]
     },
     "execution_count": 125,
     "metadata": {},
     "output_type": "execute_result"
    }
   ],
   "source": [
    "au.is_author"
   ]
  },
  {
   "cell_type": "code",
   "execution_count": 126,
   "id": "ddfdbc70-cdb5-4131-9da6-2cdb720ea7a1",
   "metadata": {},
   "outputs": [
    {
     "data": {
      "text/plain": [
       "{'value': 'Restrepo Quintero, Diego Alejandro',\n",
       " 'preferred_name': 'Diego Restrepo'}"
      ]
     },
     "execution_count": 126,
     "metadata": {},
     "output_type": "execute_result"
    }
   ],
   "source": [
    "au.name"
   ]
  },
  {
   "cell_type": "code",
   "execution_count": 127,
   "id": "13413ccc-e5e0-4720-aa2c-35d9f2c96528",
   "metadata": {},
   "outputs": [],
   "source": [
    "nau=profile(au)"
   ]
  },
  {
   "cell_type": "code",
   "execution_count": 128,
   "id": "8af755eb-51e9-48e1-8515-b0381512ff03",
   "metadata": {},
   "outputs": [
    {
     "data": {
      "text/plain": [
       "{'value': 'Restrepo Quintero, Diego Alejandro',\n",
       " 'preferred_name': 'Diego Restrepo'}"
      ]
     },
     "execution_count": 128,
     "metadata": {},
     "output_type": "execute_result"
    }
   ],
   "source": [
    "nau.name"
   ]
  },
  {
   "cell_type": "code",
   "execution_count": 6,
   "id": "93cf9ad4-ff90-4c03-9060-04d482d1c892",
   "metadata": {},
   "outputs": [],
   "source": [
    "#in general len(l)!=0\n",
    "authors=inspire.literature(l)"
   ]
  },
  {
   "cell_type": "markdown",
   "id": "dca9f4c0-c2a3-42bf-aa20-dd40988b4a35",
   "metadata": {},
   "source": [
    "authors → list of authors object\n",
    "```\n",
    "[a_1,a_2,...a_n]\n",
    "```\n",
    "where `a_i` is just a dictionary which is either created or updated"
   ]
  },
  {
   "cell_type": "code",
   "execution_count": null,
   "id": "b1779340-8e8b-4c78-a889-066bce61aa67",
   "metadata": {},
   "outputs": [],
   "source": [
    "aus=inspire.legacy_instituion(legacy_instituion)\n",
    "aus=inspire.country(country)\n",
    "aus=inspire.authors(inspire_authors)\n",
    "au=inspire.author(inspire_author)"
   ]
  },
  {
   "cell_type": "code",
   "execution_count": null,
   "id": "508ba27b-b330-41aa-87ae-3651d2fc21c6",
   "metadata": {},
   "outputs": [],
   "source": [
    "au =inspire.profile(profile) # → a_i"
   ]
  },
  {
   "cell_type": "markdown",
   "id": "26f951b8-5ae1-430d-8206-06333c935de3",
   "metadata": {},
   "source": [
    "Input:"
   ]
  },
  {
   "cell_type": "code",
   "execution_count": null,
   "id": "325f2a35-25f4-4479-9c99-a5b73a584836",
   "metadata": {},
   "outputs": [],
   "source": [
    "authors=inspire.read_json('authors.json')\n",
    "authors=inspire.read_list(author_list)"
   ]
  },
  {
   "cell_type": "code",
   "execution_count": 4,
   "id": "3f0bc437-5d6d-47c2-bb09-ec51451d40c9",
   "metadata": {},
   "outputs": [
    {
     "data": {
      "text/plain": [
       "{'id': '991924',\n",
       " 'uuid': 'c233167c-7187-4235-979d-0f5bb68aab97',\n",
       " 'metadata': {'advisors': [{'ids': [{'value': 'INSPIRE-00133260',\n",
       "      'schema': 'INSPIRE ID'}],\n",
       "    'name': 'Valle, Jose W.F.',\n",
       "    'hidden': False,\n",
       "    'record': {'$ref': 'https://inspirehep.net/api/authors/985058'},\n",
       "    'degree_type': 'other',\n",
       "    'curated_relation': False},\n",
       "   {'name': 'Ponce, William A.',\n",
       "    'hidden': False,\n",
       "    'degree_type': 'master',\n",
       "    'curated_relation': False}],\n",
       "  'email_addresses': [{'value': 'restrepo@udea.edu.co', 'current': True}],\n",
       "  'positions': [{'rank': 'SENIOR',\n",
       "    'hidden': False,\n",
       "    'record': {'$ref': 'https://inspirehep.net/api/institutions/903906'},\n",
       "    'current': True,\n",
       "    'start_date': '2004',\n",
       "    'institution': 'Antioquia U.',\n",
       "    'curated_relation': True},\n",
       "   {'rank': 'VISITOR',\n",
       "    'hidden': False,\n",
       "    'record': {'$ref': 'https://inspirehep.net/api/institutions/902714'},\n",
       "    'current': False,\n",
       "    'end_date': '2022',\n",
       "    'start_date': '2022',\n",
       "    'institution': 'Campinas State U.',\n",
       "    'curated_relation': False},\n",
       "   {'rank': 'VISITOR',\n",
       "    'hidden': False,\n",
       "    'record': {'$ref': 'https://inspirehep.net/api/institutions/912344'},\n",
       "    'current': False,\n",
       "    'end_date': '2019',\n",
       "    'start_date': '2019',\n",
       "    'institution': 'IIP, Brazil',\n",
       "    'curated_relation': True},\n",
       "   {'rank': 'VISITOR',\n",
       "    'hidden': False,\n",
       "    'record': {'$ref': 'https://inspirehep.net/api/institutions/902861'},\n",
       "    'current': False,\n",
       "    'end_date': '2019',\n",
       "    'start_date': '2014',\n",
       "    'institution': 'ICTP, Trieste',\n",
       "    'curated_relation': True},\n",
       "   {'rank': 'POSTDOC',\n",
       "    'hidden': False,\n",
       "    'record': {'$ref': 'https://inspirehep.net/api/institutions/907907'},\n",
       "    'current': False,\n",
       "    'end_date': '2004',\n",
       "    'start_date': '2003',\n",
       "    'institution': 'Valencia U., IFIC',\n",
       "    'curated_relation': True},\n",
       "   {'rank': 'JUNIOR',\n",
       "    'hidden': False,\n",
       "    'record': {'$ref': 'https://inspirehep.net/api/institutions/903906'},\n",
       "    'current': False,\n",
       "    'end_date': '2003',\n",
       "    'start_date': '2002',\n",
       "    'institution': 'Antioquia U.',\n",
       "    'curated_relation': True},\n",
       "   {'rank': 'PHD',\n",
       "    'hidden': False,\n",
       "    'record': {'$ref': 'https://inspirehep.net/api/institutions/907907'},\n",
       "    'current': False,\n",
       "    'end_date': '2001',\n",
       "    'start_date': '1997',\n",
       "    'institution': 'Valencia U., IFIC',\n",
       "    'curated_relation': True},\n",
       "   {'rank': 'MASTER',\n",
       "    'hidden': False,\n",
       "    'record': {'$ref': 'https://inspirehep.net/api/institutions/903906'},\n",
       "    'current': False,\n",
       "    'end_date': '1997',\n",
       "    'start_date': '1995',\n",
       "    'institution': 'Antioquia U.',\n",
       "    'curated_relation': True},\n",
       "   {'rank': 'UNDERGRADUATE',\n",
       "    'hidden': False,\n",
       "    'record': {'$ref': 'https://inspirehep.net/api/institutions/903906'},\n",
       "    'current': False,\n",
       "    'end_date': '1994',\n",
       "    'start_date': '1989',\n",
       "    'institution': 'Antioquia U.',\n",
       "    'curated_relation': True}],\n",
       "  'ids': [{'value': 'D.Restrepo.1', 'schema': 'INSPIRE BAI'},\n",
       "   {'value': 'INSPIRE-00119748', 'schema': 'INSPIRE ID'},\n",
       "   {'value': '0000-0001-6455-5564', 'schema': 'ORCID'},\n",
       "   {'value': 'diego-restrepo-209b7927', 'schema': 'LINKEDIN'}],\n",
       "  'name': {'value': 'Restrepo Quintero, Diego Alejandro',\n",
       "   'preferred_name': 'Diego Restrepo'},\n",
       "  'stub': False,\n",
       "  'urls': [{'value': 'http://gfif.udea.edu.co'},\n",
       "   {'value': 'https://scholar.google.com/citations?user=1sKULCoAAAAJ'},\n",
       "   {'value': 'https://www.researchgate.net/profile/Diego_Restrepo2'}],\n",
       "  'status': 'active',\n",
       "  '$schema': 'https://inspirehep.net/schemas/records/authors.json',\n",
       "  'deleted': False,\n",
       "  'control_number': 991924,\n",
       "  'legacy_version': '20210323213044.0',\n",
       "  'arxiv_categories': ['hep-ph'],\n",
       "  'legacy_creation_date': '1999-08-23'},\n",
       " 'created': '1999-08-23T00:00:00+00:00',\n",
       " 'updated': '2022-04-02T17:07:44.862241+00:00',\n",
       " 'revision_id': 146,\n",
       " 'links': {'json': 'https://inspirehep.net/api/authors/991924?format=json'}}"
      ]
     },
     "execution_count": 4,
     "metadata": {},
     "output_type": "execute_result"
    }
   ],
   "source": [
    "Can be exported to JSON or Excel"
   ]
  },
  {
   "cell_type": "code",
   "execution_count": null,
   "id": "c1d944f3-d8d1-4a1d-9819-34f72e91aa3b",
   "metadata": {},
   "outputs": [],
   "source": []
  }
 ],
 "metadata": {
  "kernelspec": {
   "display_name": "Python 3 (ipykernel)",
   "language": "python",
   "name": "python3"
  },
  "language_info": {
   "codemirror_mode": {
    "name": "ipython",
    "version": 3
   },
   "file_extension": ".py",
   "mimetype": "text/x-python",
   "name": "python",
   "nbconvert_exporter": "python",
   "pygments_lexer": "ipython3",
   "version": "3.9.2"
  }
 },
 "nbformat": 4,
 "nbformat_minor": 5
}
