{
 "cells": [
  {
   "cell_type": "markdown",
   "metadata": {},
   "source": [
    "## LHC papers\n",
    "Resources:\n",
    "* https://github.com/kamyu104/LeetCode-Solutions/blob/master/Python/h-index.py\n",
    "* https://www.analyticsvidhya.com/blog/2017/09/building-machine-learning-model-fun-using-orange/\n",
    "* https://orange.biolab.si/blog/2016/07/18/network-analysis-with-orange/"
   ]
  },
  {
   "cell_type": "code",
   "execution_count": 5,
   "metadata": {},
   "outputs": [],
   "source": [
    "import pandas as pd\n",
    "import time\n",
    "import random"
   ]
  },
  {
   "cell_type": "markdown",
   "metadata": {},
   "source": [
    "## Functions"
   ]
  },
  {
   "cell_type": "code",
   "execution_count": 6,
   "metadata": {},
   "outputs": [],
   "source": [
    "def normalize(df,nd={'title':'title_TeX',\n",
    "                     'doi':'DOI'}):\n",
    "    for k in nd.keys():\n",
    "        if k in df:\n",
    "            df[nd[k]]=df[k].apply(\n",
    "                    lambda d: d[0] if isinstance(d,list) else d\n",
    "                )\n",
    "            #special cases\n",
    "            if k=='title':\n",
    "                df[nd[k]]=df[nd[k]].apply(\n",
    "                    lambda d: d.get(k) if isinstance(d,dict) else d)\n",
    "    return df"
   ]
  },
  {
   "cell_type": "code",
   "execution_count": 7,
   "metadata": {},
   "outputs": [],
   "source": [
    "lhc_query='cn cms or cn atlas or cn lhcb or cn alice'"
   ]
  },
  {
   "cell_type": "markdown",
   "metadata": {},
   "source": [
    "## Get query results"
   ]
  },
  {
   "cell_type": "code",
   "execution_count": 8,
   "metadata": {},
   "outputs": [],
   "source": [
    "q='{} and collection:published'.format(lhc_query)\n",
    "q=q.replace(' ','+')\n",
    "#df=pd.read_json(\n",
    "#    'https://inspirehep.net/search?p=find+{}&rg=250&of=recjson'.format(q))"
   ]
  },
  {
   "cell_type": "code",
   "execution_count": 9,
   "metadata": {},
   "outputs": [],
   "source": [
    "from urllib.error import HTTPError\n",
    "def to_json_append(df,file):\n",
    "    '''\n",
    "    Load the file with\n",
    "    pd.read_json(file,orient='records',lines=True)\n",
    "    '''\n",
    "    df.to_json('tmp.json',orient='records',lines=True)\n",
    "    #append\n",
    "    f=open('tmp.json','r')\n",
    "    k=f.read()\n",
    "    f.close()\n",
    "    f=open(file,'a')\n",
    "    f.write('\\n') #Prepare next data entry\n",
    "    f.write(k)\n",
    "    f.close()\n",
    "    \n",
    "def get_query(q):\n",
    "    cc=pd.DataFrame()\n",
    "    jrec=cc.shape[0]\n",
    "    while jrec%250==0:\n",
    "        query='http://inspirehep.net/search?ln=en&p={}&rg=250&jrec={}&of=recjson'.format(\n",
    "              q,jrec+1)\n",
    "        try:\n",
    "            c=pd.read_json(query)\n",
    "        except:# HTTPError:\n",
    "            print('WARNING → May be HTTPError: HTTP Error 404: Not Found')\n",
    "            c=pd.DataFrame()\n",
    "        c=normalize(c)\n",
    "        if not c.empty:\n",
    "            cc=(cc.append(c,sort=True)).reset_index(drop=True)\n",
    "            jrec=cc.shape[0]\n",
    "        else:\n",
    "            jrec=jrec+1 # To exit the loop\n",
    "        print('jrec',jrec)\n",
    "        time.sleep(1)\n",
    "    return cc\n",
    "\n",
    "def get_citations(recid,sleep=3):\n",
    "    cc=pd.DataFrame()\n",
    "    jrec=cc.shape[0]\n",
    "    while jrec%250==0:\n",
    "        qcites='http://inspirehep.net/search?ln=en&p=refersto:recid:{}&rg=250&jrec={}&of=recjson'.format(\n",
    "              recid,jrec+1)\n",
    "        try:\n",
    "            c=pd.read_json(qcites)\n",
    "        except:# HTTPError:\n",
    "            print('WARNING → May be HTTPError: HTTP Error 404: Not Found')\n",
    "            c=pd.DataFrame()\n",
    "        c=normalize(c)\n",
    "        for k in ['recid','authors','DOI','publication_info']:\n",
    "            if k not in c:\n",
    "                c[k]=None\n",
    "\n",
    "        if not c.empty:\n",
    "            c['cites']=c.apply(lambda row: \n",
    "                               {'recid':row['recid'],\n",
    "                                'authors':row['authors'],\n",
    "                                'DOI'    :row['DOI'], #Year info:\n",
    "                                'publication_info':row['publication_info'],\n",
    "                                'imprint': row['imprint'],\n",
    "                                'primary_report_number':row['primary_report_number'],\n",
    "                                'creation_date':row['creation_date']\n",
    "                               },   axis=1)\n",
    "        if not c.empty:\n",
    "            cc=(cc.append(c,sort=True)).reset_index(drop=True)\n",
    "            #Temporal storage\n",
    "            if 'cites' in cc:\n",
    "                try:\n",
    "                    tmpdf=cc.drop('cites',axis='columns')\n",
    "                    #Be sure to start with empty 'tmp_cites.json'\n",
    "                    to_json_append(tmpdf,'tmp_cites.json')\n",
    "                except:\n",
    "                    pass\n",
    "\n",
    "            jrec=cc.shape[0]\n",
    "        else:\n",
    "            jrec=jrec+1 # To exit the loop\n",
    "        time.sleep(sleep)\n",
    "    return cc\n",
    "def get_citations_list(recid):\n",
    "    c=get_citations(recid)\n",
    "    print(recid,c.shape[0])\n",
    "    time.sleep(random.randint(1,5))\n",
    "    if not c.empty:\n",
    "        c[['cites']]\n",
    "        return list(c['cites'].values)\n",
    "    else:\n",
    "        return None"
   ]
  },
  {
   "cell_type": "code",
   "execution_count": 10,
   "metadata": {},
   "outputs": [],
   "source": [
    "RELOAD=False\n",
    "if RELOAD:\n",
    "    lhc=get_query(q)"
   ]
  },
  {
   "cell_type": "code",
   "execution_count": 7,
   "metadata": {},
   "outputs": [],
   "source": [
    "if RELOAD:\n",
    "    lhc.to_json('lhc.json.gz',compression='gzip')"
   ]
  },
  {
   "cell_type": "code",
   "execution_count": 11,
   "metadata": {},
   "outputs": [],
   "source": [
    "lhc=pd.read_json('lhc.json.gz',compression='gzip')"
   ]
  },
  {
   "cell_type": "code",
   "execution_count": 12,
   "metadata": {},
   "outputs": [
    {
     "data": {
      "text/plain": [
       "(3584, 45)"
      ]
     },
     "execution_count": 12,
     "metadata": {},
     "output_type": "execute_result"
    }
   ],
   "source": [
    "lhc.shape"
   ]
  },
  {
   "cell_type": "code",
   "execution_count": 13,
   "metadata": {},
   "outputs": [],
   "source": [
    "df=lhc.copy()"
   ]
  },
  {
   "cell_type": "markdown",
   "metadata": {},
   "source": [
    "## Add citations metadata"
   ]
  },
  {
   "cell_type": "markdown",
   "metadata": {},
   "source": [
    "Add citations column"
   ]
  },
  {
   "cell_type": "code",
   "execution_count": 14,
   "metadata": {},
   "outputs": [],
   "source": [
    "df=df.sort_values('number_of_citations').reset_index(drop=True)"
   ]
  },
  {
   "cell_type": "code",
   "execution_count": 15,
   "metadata": {},
   "outputs": [],
   "source": [
    "dff=df[df['number_of_citations']==0].reset_index(drop=True)\n",
    "dfc=df[df['number_of_citations'] >0].reset_index(drop=True)"
   ]
  },
  {
   "cell_type": "code",
   "execution_count": 16,
   "metadata": {},
   "outputs": [
    {
     "data": {
      "text/plain": [
       "(3292, 45)"
      ]
     },
     "execution_count": 16,
     "metadata": {},
     "output_type": "execute_result"
    }
   ],
   "source": [
    "dfc.shape"
   ]
  },
  {
   "cell_type": "code",
   "execution_count": 17,
   "metadata": {
    "scrolled": true
   },
   "outputs": [],
   "source": [
    "nstr=500;nend=501\n",
    "qq=dfc[nstr:nend].reset_index(drop=True)"
   ]
  },
  {
   "cell_type": "code",
   "execution_count": 18,
   "metadata": {},
   "outputs": [
    {
     "name": "stdout",
     "output_type": "stream",
     "text": [
      "637781 5\n",
      "18.548848628997803\n"
     ]
    }
   ],
   "source": [
    "s=time.time()\n",
    "#df['cites']=df['recid'].apply(get_citations_list)\n",
    "qq['cites']=qq['recid'].apply(get_citations_list)\n",
    "tot=time.time()-s\n",
    "print(tot)"
   ]
  },
  {
   "cell_type": "code",
   "execution_count": 42,
   "metadata": {},
   "outputs": [
    {
     "data": {
      "text/plain": [
       "(2, 6, 3584)"
      ]
     },
     "execution_count": 42,
     "metadata": {},
     "output_type": "execute_result"
    }
   ],
   "source": [
    "kk=qq.copy()\n",
    "kk['nc']=kk['cites'].apply(lambda l: len(l) if isinstance(l,list) else 0)\n",
    "dfy=kk[kk.apply(lambda row: row['number_of_citations']<=row['nc'],axis=1)].reset_index(drop=True)\n",
    "dfn=kk[kk.apply(lambda row: row['number_of_citations']>row['nc'],axis=1)].reset_index(drop=True)\n",
    "dfn.shape[0],dfn.shape[0]+dfy.shape[0],df.shape[0]"
   ]
  },
  {
   "cell_type": "code",
   "execution_count": 44,
   "metadata": {},
   "outputs": [],
   "source": [
    "FIX=False\n",
    "if FIX:\n",
    "    dff=(dff.append(qq,sort=True)).reset_index(drop=True)"
   ]
  },
  {
   "cell_type": "code",
   "execution_count": 39,
   "metadata": {},
   "outputs": [
    {
     "name": "stdout",
     "output_type": "stream",
     "text": [
      "some failed: 6\n"
     ]
    }
   ],
   "source": [
    "sh=dff.shape[0]\n",
    "if dfn.shape[0]==0:\n",
    "    dff=(dff.append(qq,sort=True)).reset_index(drop=True)\n",
    "    shend=dff.shape[0]\n",
    "    print(sh,shend)\n",
    "elif dfn.shape[0]>0:\n",
    "    dff=(dff.append(dfy,sort=True)).reset_index(drop=True)\n",
    "    qq=dfn.copy()\n",
    "    print('some failed:',qq.shape[0])"
   ]
  },
  {
   "cell_type": "code",
   "execution_count": 45,
   "metadata": {},
   "outputs": [
    {
     "data": {
      "text/html": [
       "<div>\n",
       "<style scoped>\n",
       "    .dataframe tbody tr th:only-of-type {\n",
       "        vertical-align: middle;\n",
       "    }\n",
       "\n",
       "    .dataframe tbody tr th {\n",
       "        vertical-align: top;\n",
       "    }\n",
       "\n",
       "    .dataframe thead th {\n",
       "        text-align: right;\n",
       "    }\n",
       "</style>\n",
       "<table border=\"1\" class=\"dataframe\">\n",
       "  <thead>\n",
       "    <tr style=\"text-align: right;\">\n",
       "      <th></th>\n",
       "      <th>nc</th>\n",
       "      <th>number_of_citations</th>\n",
       "    </tr>\n",
       "  </thead>\n",
       "  <tbody>\n",
       "    <tr>\n",
       "      <th>0</th>\n",
       "      <td>0</td>\n",
       "      <td>199</td>\n",
       "    </tr>\n",
       "    <tr>\n",
       "      <th>1</th>\n",
       "      <td>0</td>\n",
       "      <td>201</td>\n",
       "    </tr>\n",
       "    <tr>\n",
       "      <th>2</th>\n",
       "      <td>313</td>\n",
       "      <td>314</td>\n",
       "    </tr>\n",
       "    <tr>\n",
       "      <th>3</th>\n",
       "      <td>706</td>\n",
       "      <td>707</td>\n",
       "    </tr>\n",
       "    <tr>\n",
       "      <th>4</th>\n",
       "      <td>500</td>\n",
       "      <td>949</td>\n",
       "    </tr>\n",
       "    <tr>\n",
       "      <th>5</th>\n",
       "      <td>0</td>\n",
       "      <td>975</td>\n",
       "    </tr>\n",
       "  </tbody>\n",
       "</table>\n",
       "</div>"
      ],
      "text/plain": [
       "    nc  number_of_citations\n",
       "0    0                  199\n",
       "1    0                  201\n",
       "2  313                  314\n",
       "3  706                  707\n",
       "4  500                  949\n",
       "5    0                  975"
      ]
     },
     "execution_count": 45,
     "metadata": {},
     "output_type": "execute_result"
    }
   ],
   "source": [
    "qq[qq.apply(lambda row: row['number_of_citations']>row['nc'],axis=1)][['nc','number_of_citations']]"
   ]
  },
  {
   "cell_type": "code",
   "execution_count": 46,
   "metadata": {},
   "outputs": [],
   "source": [
    "dff.to_json('dff_preliminar.json.gz',compression='gzip')"
   ]
  },
  {
   "cell_type": "code",
   "execution_count": null,
   "metadata": {},
   "outputs": [],
   "source": [
    "del dff"
   ]
  },
  {
   "cell_type": "code",
   "execution_count": 13,
   "metadata": {},
   "outputs": [],
   "source": [
    "#dff=pd.read_json('dff_preliminar.json.gz',compression='gzip')"
   ]
  },
  {
   "cell_type": "code",
   "execution_count": 15,
   "metadata": {},
   "outputs": [
    {
     "data": {
      "text/plain": [
       "(2799, 46)"
      ]
     },
     "execution_count": 15,
     "metadata": {},
     "output_type": "execute_result"
    }
   ],
   "source": [
    "dff.shape"
   ]
  },
  {
   "cell_type": "code",
   "execution_count": 1,
   "metadata": {},
   "outputs": [],
   "source": [
    "journal={}"
   ]
  },
  {
   "cell_type": "code",
   "execution_count": 2,
   "metadata": {},
   "outputs": [],
   "source": [
    "import time\n",
    "def get_journal_info(row,journal=journal,abrv_journal='publication_info'\n",
    "                                        ,abrv_journal_title='title'\n",
    "                                        ,doi='doi'\n",
    "                                        ,container_title='container_title'\n",
    "                                        ,issn='ISSN'):\n",
    "    \n",
    "    try:\n",
    "        j=row.get(abrv_journal).get(abrv_journal_title)\n",
    "    except:\n",
    "        j=None\n",
    "    if j and not journal.get(j):\n",
    "        journal.update( {j:{}} )\n",
    "    \n",
    "    if not journal.get(j) and row.get(doi):\n",
    "        strdoi=row.get(doi)\n",
    "        try:\n",
    "            di=pd.read_json( 'https://api.crossref.org/works/{}'.format( strdoi  ) )\n",
    "        except:\n",
    "            di=pd.DataFrame()\n",
    "        if j in journal and not journal.get(j).get(container_title):\n",
    "            try:\n",
    "                ct=di.loc['container-title'][0][0]\n",
    "                journal[j].update({container_title:ct})\n",
    "\n",
    "            except:\n",
    "                pass\n",
    "        if j in journal and not journal.get(j).get(issn):\n",
    "            try:\n",
    "                gis=di.loc['ISSN'].get('message')[0]\n",
    "                journal[j].update({issn:gis})\n",
    "            except:\n",
    "                pass\n",
    "        #Get a new journal crossref metadata here\n",
    "\n",
    "        time.sleep(1)\n",
    "        return di"
   ]
  },
  {
   "cell_type": "code",
   "execution_count": 75,
   "metadata": {},
   "outputs": [],
   "source": [
    "di=dfp.apply(get_journal_info,axis=1)"
   ]
  },
  {
   "cell_type": "code",
   "execution_count": 76,
   "metadata": {},
   "outputs": [
    {
     "data": {
      "text/plain": [
       "{'Eur.Phys.J.': {'ISSN': '1434-6044',\n",
       "  'container_title': 'The European Physical Journal C'},\n",
       " 'Europhys.Lett.': {'ISSN': '0295-5075',\n",
       "  'container_title': 'Europhysics Letters (EPL)'},\n",
       " 'Int.J.Mod.Phys.': {'ISSN': '0217-751X',\n",
       "  'container_title': 'International Journal of Modern Physics A'},\n",
       " 'J.Phys.': {'ISSN': '0954-3899',\n",
       "  'container_title': 'Journal of Physics G: Nuclear and Particle Physics'},\n",
       " 'JCAP': {'ISSN': '1475-7516',\n",
       "  'container_title': 'Journal of Cosmology and Astroparticle Physics'},\n",
       " 'JHEP': {'ISSN': '1029-8479',\n",
       "  'container_title': 'Journal of High Energy Physics'},\n",
       " 'JINST': {'ISSN': '1748-0221',\n",
       "  'container_title': 'Journal of Instrumentation'},\n",
       " 'Mod.Phys.Lett.': {'ISSN': '0217-7323',\n",
       "  'container_title': 'Modern Physics Letters A'},\n",
       " 'Nucl.Phys.': {'ISSN': '0550-3213', 'container_title': 'Nuclear Physics B'},\n",
       " 'Phys.Lett.': {'ISSN': '0370-2693', 'container_title': 'Physics Letters B'},\n",
       " 'Phys.Rept.': {'ISSN': '0370-1573', 'container_title': 'Physics Reports'},\n",
       " 'Phys.Rev.': {'ISSN': '2470-0010', 'container_title': 'Physical Review D'},\n",
       " 'Phys.Rev.Lett.': {'ISSN': '0031-9007',\n",
       "  'container_title': 'Physical Review Letters'},\n",
       " 'Rev.Mex.Fis.': {},\n",
       " 'Z.Phys.': {'ISSN': '0170-9739',\n",
       "  'container_title': 'Zeitschrift f�r Physik C Particles and Fields'}}"
      ]
     },
     "execution_count": 76,
     "metadata": {},
     "output_type": "execute_result"
    }
   ],
   "source": [
    "journal"
   ]
  },
  {
   "cell_type": "markdown",
   "metadata": {},
   "source": [
    "Normalize data"
   ]
  },
  {
   "cell_type": "code",
   "execution_count": 81,
   "metadata": {},
   "outputs": [
    {
     "name": "stdout",
     "output_type": "stream",
     "text": [
      "[master ba8b47f] lc\n",
      " 1 file changed, 348 insertions(+), 6 deletions(-)\n"
     ]
    },
    {
     "name": "stderr",
     "output_type": "stream",
     "text": [
      "To github.com:restrepo/inspire.git\n",
      "   0448bba..ba8b47f  master -> master\n"
     ]
    }
   ],
   "source": [
    "%%bash\n",
    "git commit -am 'lc'\n",
    "git push origin master"
   ]
  },
  {
   "cell_type": "code",
   "execution_count": null,
   "metadata": {},
   "outputs": [],
   "source": []
  }
 ],
 "metadata": {
  "kernelspec": {
   "display_name": "Python 3",
   "language": "python",
   "name": "python3"
  },
  "language_info": {
   "codemirror_mode": {
    "name": "ipython",
    "version": 3
   },
   "file_extension": ".py",
   "mimetype": "text/x-python",
   "name": "python",
   "nbconvert_exporter": "python",
   "pygments_lexer": "ipython3",
   "version": "3.5.3"
  },
  "latex_envs": {
   "LaTeX_envs_menu_present": true,
   "autoclose": false,
   "autocomplete": true,
   "bibliofile": "biblio.bib",
   "cite_by": "apalike",
   "current_citInitial": 1,
   "eqLabelWithNumbers": true,
   "eqNumInitial": 1,
   "hotkeys": {
    "equation": "Ctrl-E",
    "itemize": "Ctrl-I"
   },
   "labels_anchors": false,
   "latex_user_defs": false,
   "report_style_numbering": false,
   "user_envs_cfg": false
  }
 },
 "nbformat": 4,
 "nbformat_minor": 2
}
