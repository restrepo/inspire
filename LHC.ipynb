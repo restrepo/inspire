{
 "cells": [
  {
   "cell_type": "markdown",
   "metadata": {},
   "source": [
    "## LHC papers\n",
    "Resources:\n",
    "* https://github.com/kamyu104/LeetCode-Solutions/blob/master/Python/h-index.py\n",
    "* https://www.analyticsvidhya.com/blog/2017/09/building-machine-learning-model-fun-using-orange/\n",
    "* https://orange.biolab.si/blog/2016/07/18/network-analysis-with-orange/"
   ]
  },
  {
   "cell_type": "code",
   "execution_count": 6,
   "metadata": {},
   "outputs": [],
   "source": [
    "import pandas as pd\n",
    "import time\n",
    "import random"
   ]
  },
  {
   "cell_type": "markdown",
   "metadata": {},
   "source": [
    "## Functions"
   ]
  },
  {
   "cell_type": "code",
   "execution_count": 2,
   "metadata": {},
   "outputs": [],
   "source": [
    "def normalize(df,nd={'title':'title_TeX',\n",
    "                     'doi':'DOI'}):\n",
    "    for k in nd.keys():\n",
    "        if k in df:\n",
    "            df[nd[k]]=df[k].apply(\n",
    "                    lambda d: d[0] if isinstance(d,list) else d\n",
    "                )\n",
    "            #special cases\n",
    "            if k=='title':\n",
    "                df[nd[k]]=df[nd[k]].apply(\n",
    "                    lambda d: d.get(k) if isinstance(d,dict) else d)\n",
    "    return df"
   ]
  },
  {
   "cell_type": "code",
   "execution_count": 3,
   "metadata": {},
   "outputs": [],
   "source": [
    "lhc_query='cn cms or cn atlas or cn lhcb or cn alice'"
   ]
  },
  {
   "cell_type": "markdown",
   "metadata": {},
   "source": [
    "## Get query results"
   ]
  },
  {
   "cell_type": "code",
   "execution_count": 4,
   "metadata": {},
   "outputs": [],
   "source": [
    "q='{} and collection:published'.format(lhc_query)\n",
    "q=q.replace(' ','+')\n",
    "#df=pd.read_json(\n",
    "#    'https://inspirehep.net/search?p=find+{}&rg=250&of=recjson'.format(q))"
   ]
  },
  {
   "cell_type": "code",
   "execution_count": 9,
   "metadata": {},
   "outputs": [],
   "source": [
    "def get_query(q):\n",
    "    cc=pd.DataFrame()\n",
    "    jrec=cc.shape[0]\n",
    "    while jrec%250==0:\n",
    "        query='http://inspirehep.net/search?ln=en&p={}&rg=250&jrec={}&of=recjson'.format(\n",
    "              q,jrec+1)\n",
    "        try:\n",
    "            c=pd.read_json(query)\n",
    "        except:\n",
    "            c=pd.DataFrame()\n",
    "        c=normalize(c)\n",
    "        if not c.empty:\n",
    "            cc=(cc.append(c)).reset_index(drop=True)\n",
    "            jrec=cc.shape[0]\n",
    "        else:\n",
    "            jrec=jrec+1 # To exit the loop\n",
    "        print('jrec',jrec)\n",
    "        time.sleep(1)\n",
    "    return cc\n",
    "\n",
    "def get_citations(recid):\n",
    "    cc=pd.DataFrame()\n",
    "    jrec=cc.shape[0]\n",
    "    while jrec%250==0:\n",
    "        qcites='http://inspirehep.net/search?ln=en&p=refersto:recid:{}&rg=250&jrec={}&of=recjson'.format(\n",
    "              recid,jrec+1)\n",
    "        try:\n",
    "            c=pd.read_json(qcites)\n",
    "        except:\n",
    "            c=pd.DataFrame()\n",
    "        c=normalize(c)\n",
    "        for k in ['recid','authors','DOI','publication_info']:\n",
    "            if k not in c:\n",
    "                c[k]=None\n",
    "\n",
    "        if not c.empty:\n",
    "            c['cites']=c.apply(lambda row: \n",
    "                               {'recid':row['recid'],\n",
    "                                'authors':row['authors'],\n",
    "                                'publication_info':row['publication_info'],\n",
    "                                'DOI'    :row['DOI']\n",
    "                               },   axis=1)\n",
    "        if not c.empty:\n",
    "            cc=(cc.append(c)).reset_index(drop=True)\n",
    "            jrec=cc.shape[0]\n",
    "        else:\n",
    "            jrec=jrec+1 # To exit the loop\n",
    "        print('jrec',jrec)\n",
    "        time.sleep(1)\n",
    "    return cc\n",
    "def get_citations_list(recid):\n",
    "    c=get_citations(recid)\n",
    "    print(recid)\n",
    "    time.sleep(random.randint(1,5))\n",
    "    if not c.empty:\n",
    "        return list(c['cites'].values)\n",
    "    else:\n",
    "        return None"
   ]
  },
  {
   "cell_type": "code",
   "execution_count": 10,
   "metadata": {},
   "outputs": [
    {
     "name": "stdout",
     "output_type": "stream",
     "text": [
      "jrec 250\n"
     ]
    },
    {
     "name": "stderr",
     "output_type": "stream",
     "text": [
      "/usr/local/lib/python3.5/dist-packages/pandas/core/frame.py:6211: FutureWarning: Sorting because non-concatenation axis is not aligned. A future version\n",
      "of pandas will change to not sort by default.\n",
      "\n",
      "To accept the future behavior, pass 'sort=False'.\n",
      "\n",
      "To retain the current behavior and silence the warning, pass 'sort=True'.\n",
      "\n",
      "  sort=sort)\n"
     ]
    },
    {
     "name": "stdout",
     "output_type": "stream",
     "text": [
      "jrec 500\n"
     ]
    },
    {
     "name": "stderr",
     "output_type": "stream",
     "text": [
      "/usr/local/lib/python3.5/dist-packages/pandas/core/frame.py:6211: FutureWarning: Sorting because non-concatenation axis is not aligned. A future version\n",
      "of pandas will change to not sort by default.\n",
      "\n",
      "To accept the future behavior, pass 'sort=False'.\n",
      "\n",
      "To retain the current behavior and silence the warning, pass 'sort=True'.\n",
      "\n",
      "  sort=sort)\n"
     ]
    },
    {
     "name": "stdout",
     "output_type": "stream",
     "text": [
      "jrec 750\n"
     ]
    },
    {
     "name": "stderr",
     "output_type": "stream",
     "text": [
      "/usr/local/lib/python3.5/dist-packages/pandas/core/frame.py:6211: FutureWarning: Sorting because non-concatenation axis is not aligned. A future version\n",
      "of pandas will change to not sort by default.\n",
      "\n",
      "To accept the future behavior, pass 'sort=False'.\n",
      "\n",
      "To retain the current behavior and silence the warning, pass 'sort=True'.\n",
      "\n",
      "  sort=sort)\n"
     ]
    },
    {
     "name": "stdout",
     "output_type": "stream",
     "text": [
      "jrec 1000\n"
     ]
    },
    {
     "name": "stderr",
     "output_type": "stream",
     "text": [
      "/usr/local/lib/python3.5/dist-packages/pandas/core/frame.py:6211: FutureWarning: Sorting because non-concatenation axis is not aligned. A future version\n",
      "of pandas will change to not sort by default.\n",
      "\n",
      "To accept the future behavior, pass 'sort=False'.\n",
      "\n",
      "To retain the current behavior and silence the warning, pass 'sort=True'.\n",
      "\n",
      "  sort=sort)\n"
     ]
    },
    {
     "name": "stdout",
     "output_type": "stream",
     "text": [
      "jrec 1250\n"
     ]
    },
    {
     "name": "stderr",
     "output_type": "stream",
     "text": [
      "/usr/local/lib/python3.5/dist-packages/pandas/core/frame.py:6211: FutureWarning: Sorting because non-concatenation axis is not aligned. A future version\n",
      "of pandas will change to not sort by default.\n",
      "\n",
      "To accept the future behavior, pass 'sort=False'.\n",
      "\n",
      "To retain the current behavior and silence the warning, pass 'sort=True'.\n",
      "\n",
      "  sort=sort)\n"
     ]
    },
    {
     "name": "stdout",
     "output_type": "stream",
     "text": [
      "jrec 1500\n"
     ]
    },
    {
     "name": "stderr",
     "output_type": "stream",
     "text": [
      "/usr/local/lib/python3.5/dist-packages/pandas/core/frame.py:6211: FutureWarning: Sorting because non-concatenation axis is not aligned. A future version\n",
      "of pandas will change to not sort by default.\n",
      "\n",
      "To accept the future behavior, pass 'sort=False'.\n",
      "\n",
      "To retain the current behavior and silence the warning, pass 'sort=True'.\n",
      "\n",
      "  sort=sort)\n"
     ]
    },
    {
     "name": "stdout",
     "output_type": "stream",
     "text": [
      "jrec 1750\n"
     ]
    },
    {
     "name": "stderr",
     "output_type": "stream",
     "text": [
      "/usr/local/lib/python3.5/dist-packages/pandas/core/frame.py:6211: FutureWarning: Sorting because non-concatenation axis is not aligned. A future version\n",
      "of pandas will change to not sort by default.\n",
      "\n",
      "To accept the future behavior, pass 'sort=False'.\n",
      "\n",
      "To retain the current behavior and silence the warning, pass 'sort=True'.\n",
      "\n",
      "  sort=sort)\n"
     ]
    },
    {
     "name": "stdout",
     "output_type": "stream",
     "text": [
      "jrec 2000\n"
     ]
    },
    {
     "name": "stderr",
     "output_type": "stream",
     "text": [
      "/usr/local/lib/python3.5/dist-packages/pandas/core/frame.py:6211: FutureWarning: Sorting because non-concatenation axis is not aligned. A future version\n",
      "of pandas will change to not sort by default.\n",
      "\n",
      "To accept the future behavior, pass 'sort=False'.\n",
      "\n",
      "To retain the current behavior and silence the warning, pass 'sort=True'.\n",
      "\n",
      "  sort=sort)\n"
     ]
    },
    {
     "name": "stdout",
     "output_type": "stream",
     "text": [
      "jrec 2250\n"
     ]
    },
    {
     "name": "stderr",
     "output_type": "stream",
     "text": [
      "/usr/local/lib/python3.5/dist-packages/pandas/core/frame.py:6211: FutureWarning: Sorting because non-concatenation axis is not aligned. A future version\n",
      "of pandas will change to not sort by default.\n",
      "\n",
      "To accept the future behavior, pass 'sort=False'.\n",
      "\n",
      "To retain the current behavior and silence the warning, pass 'sort=True'.\n",
      "\n",
      "  sort=sort)\n"
     ]
    },
    {
     "name": "stdout",
     "output_type": "stream",
     "text": [
      "jrec 2500\n"
     ]
    },
    {
     "name": "stderr",
     "output_type": "stream",
     "text": [
      "/usr/local/lib/python3.5/dist-packages/pandas/core/frame.py:6211: FutureWarning: Sorting because non-concatenation axis is not aligned. A future version\n",
      "of pandas will change to not sort by default.\n",
      "\n",
      "To accept the future behavior, pass 'sort=False'.\n",
      "\n",
      "To retain the current behavior and silence the warning, pass 'sort=True'.\n",
      "\n",
      "  sort=sort)\n"
     ]
    },
    {
     "name": "stdout",
     "output_type": "stream",
     "text": [
      "jrec 2750\n"
     ]
    },
    {
     "name": "stderr",
     "output_type": "stream",
     "text": [
      "/usr/local/lib/python3.5/dist-packages/pandas/core/frame.py:6211: FutureWarning: Sorting because non-concatenation axis is not aligned. A future version\n",
      "of pandas will change to not sort by default.\n",
      "\n",
      "To accept the future behavior, pass 'sort=False'.\n",
      "\n",
      "To retain the current behavior and silence the warning, pass 'sort=True'.\n",
      "\n",
      "  sort=sort)\n"
     ]
    },
    {
     "name": "stdout",
     "output_type": "stream",
     "text": [
      "jrec 3000\n"
     ]
    },
    {
     "name": "stderr",
     "output_type": "stream",
     "text": [
      "/usr/local/lib/python3.5/dist-packages/pandas/core/frame.py:6211: FutureWarning: Sorting because non-concatenation axis is not aligned. A future version\n",
      "of pandas will change to not sort by default.\n",
      "\n",
      "To accept the future behavior, pass 'sort=False'.\n",
      "\n",
      "To retain the current behavior and silence the warning, pass 'sort=True'.\n",
      "\n",
      "  sort=sort)\n"
     ]
    },
    {
     "name": "stdout",
     "output_type": "stream",
     "text": [
      "jrec 3250\n"
     ]
    },
    {
     "name": "stderr",
     "output_type": "stream",
     "text": [
      "/usr/local/lib/python3.5/dist-packages/pandas/core/frame.py:6211: FutureWarning: Sorting because non-concatenation axis is not aligned. A future version\n",
      "of pandas will change to not sort by default.\n",
      "\n",
      "To accept the future behavior, pass 'sort=False'.\n",
      "\n",
      "To retain the current behavior and silence the warning, pass 'sort=True'.\n",
      "\n",
      "  sort=sort)\n"
     ]
    },
    {
     "name": "stdout",
     "output_type": "stream",
     "text": [
      "jrec 3500\n"
     ]
    },
    {
     "name": "stderr",
     "output_type": "stream",
     "text": [
      "/usr/local/lib/python3.5/dist-packages/pandas/core/frame.py:6211: FutureWarning: Sorting because non-concatenation axis is not aligned. A future version\n",
      "of pandas will change to not sort by default.\n",
      "\n",
      "To accept the future behavior, pass 'sort=False'.\n",
      "\n",
      "To retain the current behavior and silence the warning, pass 'sort=True'.\n",
      "\n",
      "  sort=sort)\n"
     ]
    },
    {
     "name": "stdout",
     "output_type": "stream",
     "text": [
      "jrec 3584\n"
     ]
    }
   ],
   "source": [
    "lhc=get_query(q)"
   ]
  },
  {
   "cell_type": "code",
   "execution_count": null,
   "metadata": {},
   "outputs": [],
   "source": [
    "lhc.to_json('lhc.json.gz',compression='gzip')"
   ]
  },
  {
   "cell_type": "code",
   "execution_count": 11,
   "metadata": {},
   "outputs": [],
   "source": [
    "df=lhc.copy()"
   ]
  },
  {
   "cell_type": "markdown",
   "metadata": {},
   "source": [
    "## Add citations metadata"
   ]
  },
  {
   "cell_type": "markdown",
   "metadata": {},
   "source": [
    "Add citations column"
   ]
  },
  {
   "cell_type": "code",
   "execution_count": null,
   "metadata": {
    "scrolled": true
   },
   "outputs": [
    {
     "name": "stdout",
     "output_type": "stream",
     "text": [
      "jrec 1\n",
      "1764794\n",
      "jrec 3\n",
      "1757579\n",
      "jrec 1\n",
      "1755250\n",
      "jrec 2\n",
      "1754075\n",
      "jrec 5\n",
      "1753976\n",
      "jrec 6\n",
      "1753680\n",
      "jrec 2\n",
      "1753375\n",
      "jrec 5\n",
      "1753215\n",
      "jrec 6\n",
      "1751230\n",
      "jrec 2\n",
      "1750601\n",
      "jrec 12\n",
      "1750186\n",
      "jrec 7\n",
      "1749379\n",
      "jrec 2\n",
      "1748735\n",
      "jrec 1\n",
      "1747892\n",
      "jrec 5\n",
      "1744608\n",
      "jrec 3\n",
      "1744603\n",
      "jrec 6\n",
      "1744267\n",
      "jrec 1\n",
      "1743890\n",
      "jrec 3\n",
      "1743799\n",
      "jrec 9\n",
      "1742786\n",
      "jrec 4\n",
      "1742776\n",
      "jrec 2\n",
      "1742608\n",
      "jrec 1\n",
      "1742099\n",
      "jrec 12\n",
      "1741996\n",
      "jrec 4\n",
      "1741056\n",
      "jrec 7\n",
      "1740108\n",
      "jrec 11\n",
      "1738833\n",
      "jrec 9\n",
      "1737508\n",
      "jrec 5\n",
      "1736896\n",
      "jrec 3\n",
      "1736895\n",
      "jrec 5\n",
      "1736729\n",
      "jrec 11\n",
      "1735737\n",
      "jrec 3\n",
      "1735729\n",
      "jrec 4\n",
      "1734235\n",
      "jrec 7\n",
      "1725476\n",
      "jrec 8\n",
      "1724439\n",
      "jrec 29\n",
      "1718338\n",
      "jrec 1\n",
      "1717867\n",
      "jrec 7\n",
      "1709434\n",
      "jrec 15\n",
      "1709180\n",
      "jrec 18\n",
      "1708907\n",
      "jrec 28\n",
      "1704316\n",
      "jrec 87\n",
      "1694380\n",
      "jrec 9\n",
      "1693823\n",
      "jrec 1\n",
      "1692605\n",
      "jrec 15\n",
      "1686334\n",
      "jrec 9\n",
      "1682904\n",
      "jrec 9\n",
      "1679809\n",
      "jrec 16\n",
      "1671831\n",
      "jrec 16\n",
      "1663960\n",
      "jrec 1\n",
      "1655573\n",
      "jrec 14\n",
      "1654830\n",
      "jrec 9\n",
      "1654572\n",
      "jrec 3\n",
      "1651511\n",
      "jrec 8\n",
      "1627633\n",
      "jrec 5\n",
      "1620051\n",
      "jrec 10\n",
      "1615477\n",
      "jrec 1\n",
      "1609450\n",
      "jrec 32\n",
      "1608166\n",
      "jrec 9\n",
      "1607572\n",
      "jrec 34\n",
      "1605750\n",
      "jrec 17\n",
      "1605749\n",
      "jrec 250\n",
      "jrec 251\n",
      "1605397\n",
      "jrec 40\n",
      "1604886\n",
      "jrec 1\n",
      "1603635\n",
      "jrec 51\n",
      "1598467\n",
      "jrec 26\n",
      "1598460\n",
      "jrec 9\n",
      "1597149\n",
      "jrec 3\n",
      "1597138\n",
      "jrec 25\n",
      "1593762\n",
      "jrec 49\n",
      "1591147\n",
      "jrec 4\n",
      "1589847\n",
      "jrec 14\n",
      "1589287\n",
      "jrec 9\n",
      "1518959\n",
      "jrec 15\n",
      "1518400\n",
      "jrec 39\n",
      "1518145\n",
      "jrec 59\n",
      "1517496\n",
      "jrec 91\n",
      "1517191\n",
      "jrec 127\n",
      "1516193\n",
      "jrec 53\n",
      "1516191\n",
      "jrec 5\n",
      "1505621\n",
      "jrec 10\n",
      "1500217\n",
      "jrec 1\n",
      "1484690\n",
      "jrec 27\n",
      "1471845\n",
      "jrec 15\n",
      "1455793\n",
      "jrec 8\n",
      "1454245\n",
      "jrec 9\n",
      "1444511\n",
      "jrec 23\n",
      "1421624\n"
     ]
    }
   ],
   "source": [
    "s=time.time()\n",
    "df['cites']=df['recid'].apply(get_citations_list)\n",
    "tot=time.time()-s\n",
    "print(tot)"
   ]
  },
  {
   "cell_type": "code",
   "execution_count": 90,
   "metadata": {},
   "outputs": [
    {
     "data": {
      "text/plain": [
       "(0, 195, 195)"
      ]
     },
     "execution_count": 90,
     "metadata": {},
     "output_type": "execute_result"
    }
   ],
   "source": [
    "kk=df.copy()\n",
    "kk['nc']=kk['cites'].apply(lambda l: len(l) if isinstance(l,list) else 0)\n",
    "dfy=kk[kk.apply(lambda row: row['number_of_citations']==row['nc'],axis=1)].reset_index(drop=True)\n",
    "dfn=kk[kk.apply(lambda row: row['number_of_citations']!=row['nc'],axis=1)].reset_index(drop=True)\n",
    "dfn.shape[0],dfn.shape[0]+dfy.shape[0],df.shape[0]"
   ]
  },
  {
   "cell_type": "code",
   "execution_count": 69,
   "metadata": {},
   "outputs": [
    {
     "name": "stdout",
     "output_type": "stream",
     "text": [
      "jrec 250\n"
     ]
    },
    {
     "name": "stderr",
     "output_type": "stream",
     "text": [
      "/usr/local/lib/python3.5/dist-packages/pandas/core/frame.py:6211: FutureWarning: Sorting because non-concatenation axis is not aligned. A future version\n",
      "of pandas will change to not sort by default.\n",
      "\n",
      "To accept the future behavior, pass 'sort=False'.\n",
      "\n",
      "To retain the current behavior and silence the warning, pass 'sort=True'.\n",
      "\n",
      "  sort=sort)\n"
     ]
    },
    {
     "name": "stdout",
     "output_type": "stream",
     "text": [
      "jrec 500\n"
     ]
    },
    {
     "name": "stderr",
     "output_type": "stream",
     "text": [
      "/usr/local/lib/python3.5/dist-packages/pandas/core/frame.py:6211: FutureWarning: Sorting because non-concatenation axis is not aligned. A future version\n",
      "of pandas will change to not sort by default.\n",
      "\n",
      "To accept the future behavior, pass 'sort=False'.\n",
      "\n",
      "To retain the current behavior and silence the warning, pass 'sort=True'.\n",
      "\n",
      "  sort=sort)\n"
     ]
    },
    {
     "name": "stdout",
     "output_type": "stream",
     "text": [
      "jrec 677\n",
      "1605397\n",
      "jrec 44\n",
      "1603635\n",
      "jrec 250\n"
     ]
    },
    {
     "name": "stderr",
     "output_type": "stream",
     "text": [
      "/usr/local/lib/python3.5/dist-packages/pandas/core/frame.py:6211: FutureWarning: Sorting because non-concatenation axis is not aligned. A future version\n",
      "of pandas will change to not sort by default.\n",
      "\n",
      "To accept the future behavior, pass 'sort=False'.\n",
      "\n",
      "To retain the current behavior and silence the warning, pass 'sort=True'.\n",
      "\n",
      "  sort=sort)\n"
     ]
    },
    {
     "name": "stdout",
     "output_type": "stream",
     "text": [
      "jrec 412\n",
      "1267508\n",
      "jrec 114\n",
      "1265220\n"
     ]
    }
   ],
   "source": [
    "dfn['cites']=dfn['recid'].apply(get_citations_list)"
   ]
  },
  {
   "cell_type": "code",
   "execution_count": 71,
   "metadata": {},
   "outputs": [],
   "source": [
    "df=(dfy.append(dfn)).reset_index(drop=True)"
   ]
  },
  {
   "cell_type": "markdown",
   "metadata": {},
   "source": [
    "## Filter published papers (query already filtered!)"
   ]
  },
  {
   "cell_type": "code",
   "execution_count": 72,
   "metadata": {},
   "outputs": [],
   "source": [
    "dfp=df[~df['publication_info'].isna()].reset_index(drop=True)"
   ]
  },
  {
   "cell_type": "markdown",
   "metadata": {},
   "source": [
    "Get the Journal info from crossref api"
   ]
  },
  {
   "cell_type": "code",
   "execution_count": 73,
   "metadata": {},
   "outputs": [],
   "source": [
    "journal={}"
   ]
  },
  {
   "cell_type": "code",
   "execution_count": 74,
   "metadata": {},
   "outputs": [],
   "source": [
    "import time\n",
    "def get_journal_info(row,journal=journal,abrv_journal='publication_info'\n",
    "                                        ,abrv_journal_title='title'\n",
    "                                        ,doi='doi'\n",
    "                                        ,container_title='container_title'\n",
    "                                        ,issn='ISSN'):\n",
    "    \n",
    "    try:\n",
    "        j=row.get(abrv_journal).get(abrv_journal_title)\n",
    "    except:\n",
    "        j=None\n",
    "    if j and not journal.get(j):\n",
    "        journal.update( {j:{}} )\n",
    "    \n",
    "    if not journal.get(j) and row.get(doi):\n",
    "        strdoi=row.get(doi)\n",
    "        try:\n",
    "            di=pd.read_json( 'https://api.crossref.org/works/{}'.format( strdoi  ) )\n",
    "        except:\n",
    "            di=pd.DataFrame()\n",
    "        if j in journal and not journal.get(j).get(container_title):\n",
    "            try:\n",
    "                ct=di.loc['container-title'][0][0]\n",
    "                journal[j].update({container_title:ct})\n",
    "\n",
    "            except:\n",
    "                pass\n",
    "        if j in journal and not journal.get(j).get(issn):\n",
    "            try:\n",
    "                gis=di.loc['ISSN'].get('message')[0]\n",
    "                journal[j].update({issn:gis})\n",
    "            except:\n",
    "                pass\n",
    "        #Get a new journal crossref metadata here\n",
    "\n",
    "        time.sleep(1)\n",
    "        return di"
   ]
  },
  {
   "cell_type": "code",
   "execution_count": 75,
   "metadata": {},
   "outputs": [],
   "source": [
    "di=dfp.apply(get_journal_info,axis=1)"
   ]
  },
  {
   "cell_type": "code",
   "execution_count": 76,
   "metadata": {},
   "outputs": [
    {
     "data": {
      "text/plain": [
       "{'Eur.Phys.J.': {'ISSN': '1434-6044',\n",
       "  'container_title': 'The European Physical Journal C'},\n",
       " 'Europhys.Lett.': {'ISSN': '0295-5075',\n",
       "  'container_title': 'Europhysics Letters (EPL)'},\n",
       " 'Int.J.Mod.Phys.': {'ISSN': '0217-751X',\n",
       "  'container_title': 'International Journal of Modern Physics A'},\n",
       " 'J.Phys.': {'ISSN': '0954-3899',\n",
       "  'container_title': 'Journal of Physics G: Nuclear and Particle Physics'},\n",
       " 'JCAP': {'ISSN': '1475-7516',\n",
       "  'container_title': 'Journal of Cosmology and Astroparticle Physics'},\n",
       " 'JHEP': {'ISSN': '1029-8479',\n",
       "  'container_title': 'Journal of High Energy Physics'},\n",
       " 'JINST': {'ISSN': '1748-0221',\n",
       "  'container_title': 'Journal of Instrumentation'},\n",
       " 'Mod.Phys.Lett.': {'ISSN': '0217-7323',\n",
       "  'container_title': 'Modern Physics Letters A'},\n",
       " 'Nucl.Phys.': {'ISSN': '0550-3213', 'container_title': 'Nuclear Physics B'},\n",
       " 'Phys.Lett.': {'ISSN': '0370-2693', 'container_title': 'Physics Letters B'},\n",
       " 'Phys.Rept.': {'ISSN': '0370-1573', 'container_title': 'Physics Reports'},\n",
       " 'Phys.Rev.': {'ISSN': '2470-0010', 'container_title': 'Physical Review D'},\n",
       " 'Phys.Rev.Lett.': {'ISSN': '0031-9007',\n",
       "  'container_title': 'Physical Review Letters'},\n",
       " 'Rev.Mex.Fis.': {},\n",
       " 'Z.Phys.': {'ISSN': '0170-9739',\n",
       "  'container_title': 'Zeitschrift f�r Physik C Particles and Fields'}}"
      ]
     },
     "execution_count": 76,
     "metadata": {},
     "output_type": "execute_result"
    }
   ],
   "source": [
    "journal"
   ]
  },
  {
   "cell_type": "markdown",
   "metadata": {},
   "source": [
    "Normalize data"
   ]
  },
  {
   "cell_type": "code",
   "execution_count": 77,
   "metadata": {},
   "outputs": [],
   "source": [
    "dfp=normalize(dfp)"
   ]
  },
  {
   "cell_type": "markdown",
   "metadata": {},
   "source": [
    "Add Journal metadata"
   ]
  },
  {
   "cell_type": "code",
   "execution_count": 78,
   "metadata": {},
   "outputs": [],
   "source": [
    "dfp['Year']=dfp['publication_info'].apply(\n",
    "    lambda d: d.get('year') if isinstance(d,dict) else None).apply(\n",
    "    lambda y: int(y) if isinstance(y,str) else 0)\n",
    "\n",
    "dfp['Journal_name']=dfp['publication_info'].apply(lambda d: journal.get( \n",
    "                                        d.get('title') ).get('container_title') \n",
    "                                        if isinstance(d,dict) \n",
    "                                        else None)\n",
    "dfp['ISSN']=dfp['publication_info'].apply(lambda d: journal.get( \n",
    "                                        d.get('title') ).get('ISSN') \n",
    "                                        if isinstance(d,dict) \n",
    "                                        else None)"
   ]
  },
  {
   "cell_type": "markdown",
   "metadata": {},
   "source": [
    "Extract author metadata for affiliation UdeA"
   ]
  },
  {
   "cell_type": "code",
   "execution_count": 79,
   "metadata": {},
   "outputs": [],
   "source": [
    "dfp['udea_authors']=dfp['authors'].apply(lambda l: [ #loop for each author in the list\n",
    "        '{} {}'.format(d.get('first_name'), d.get('last_name')) #Extract full name \n",
    "         for d in l \n",
    "           if str(d.get('affiliation')).find('Antioquia U.')>-1 #For UdeA authors\n",
    "                               ])\n",
    "dfp['first_udea_author']=dfp['udea_authors'].str[0]"
   ]
  },
  {
   "cell_type": "markdown",
   "metadata": {},
   "source": [
    "Prepare \"Sostenibilidad\" output"
   ]
  },
  {
   "cell_type": "code",
   "execution_count": 86,
   "metadata": {},
   "outputs": [],
   "source": [
    "dfp.to_json('gfif.json.gz',compression='gzip')"
   ]
  },
  {
   "cell_type": "code",
   "execution_count": 87,
   "metadata": {},
   "outputs": [],
   "source": [
    "kk=pd.read_json('gfif.json.gz',compression='gzip')"
   ]
  },
  {
   "cell_type": "code",
   "execution_count": null,
   "metadata": {},
   "outputs": [],
   "source": [
    "sost=dfp[['title_TeX','Journal_name','first_udea_author','Year','ISSN','DOI']]"
   ]
  },
  {
   "cell_type": "code",
   "execution_count": null,
   "metadata": {},
   "outputs": [],
   "source": [
    "sost[sost.Year>2017]#.to_excel('sost.xlsx',index=False)"
   ]
  },
  {
   "cell_type": "code",
   "execution_count": 81,
   "metadata": {},
   "outputs": [
    {
     "name": "stdout",
     "output_type": "stream",
     "text": [
      "[master ba8b47f] lc\n",
      " 1 file changed, 348 insertions(+), 6 deletions(-)\n"
     ]
    },
    {
     "name": "stderr",
     "output_type": "stream",
     "text": [
      "To github.com:restrepo/inspire.git\n",
      "   0448bba..ba8b47f  master -> master\n"
     ]
    }
   ],
   "source": [
    "%%bash\n",
    "git commit -am 'lc'\n",
    "git push origin master"
   ]
  },
  {
   "cell_type": "code",
   "execution_count": null,
   "metadata": {},
   "outputs": [],
   "source": []
  }
 ],
 "metadata": {
  "kernelspec": {
   "display_name": "Python 3",
   "language": "python",
   "name": "python3"
  },
  "language_info": {
   "codemirror_mode": {
    "name": "ipython",
    "version": 3
   },
   "file_extension": ".py",
   "mimetype": "text/x-python",
   "name": "python",
   "nbconvert_exporter": "python",
   "pygments_lexer": "ipython3",
   "version": "3.5.3"
  },
  "latex_envs": {
   "LaTeX_envs_menu_present": true,
   "autoclose": false,
   "autocomplete": true,
   "bibliofile": "biblio.bib",
   "cite_by": "apalike",
   "current_citInitial": 1,
   "eqLabelWithNumbers": true,
   "eqNumInitial": 1,
   "hotkeys": {
    "equation": "Ctrl-E",
    "itemize": "Ctrl-I"
   },
   "labels_anchors": false,
   "latex_user_defs": false,
   "report_style_numbering": false,
   "user_envs_cfg": false
  }
 },
 "nbformat": 4,
 "nbformat_minor": 2
}
