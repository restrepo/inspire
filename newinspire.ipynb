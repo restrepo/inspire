{
  "nbformat": 4,
  "nbformat_minor": 0,
  "metadata": {
    "kernelspec": {
      "display_name": "Python 3",
      "language": "python",
      "name": "python3"
    },
    "language_info": {
      "codemirror_mode": {
        "name": "ipython",
        "version": 3
      },
      "file_extension": ".py",
      "mimetype": "text/x-python",
      "name": "python",
      "nbconvert_exporter": "python",
      "pygments_lexer": "ipython3",
      "version": "3.7.3"
    },
    "colab": {
      "name": "newinspire.ipynb",
      "provenance": [],
      "include_colab_link": true
    }
  },
  "cells": [
    {
      "cell_type": "markdown",
      "metadata": {
        "id": "view-in-github",
        "colab_type": "text"
      },
      "source": [
        "<a href=\"https://colab.research.google.com/github/restrepo/inspire/blob/master/newinspire.ipynb\" target=\"_parent\"><img src=\"https://colab.research.google.com/assets/colab-badge.svg\" alt=\"Open In Colab\"/></a>"
      ]
    },
    {
      "cell_type": "markdown",
      "metadata": {
        "id": "vh4vCR8IvODc"
      },
      "source": [
        "## New inspire hep\n",
        "Use the API of [inspirehep.net](https://inspirehep.net/) to get the CMS articles with UDEA authors.\n",
        "\n",
        "> In order to avoid overwhelming the server, we enforce rate limits per IP address: every IP address is allowed 50 requests, then at most 2 requests per second. If you exceed those limits, you will receive a response with HTTP status code 429 and a x-retry-in header telling you how long to wait before retrying."
      ]
    },
    {
      "cell_type": "code",
      "metadata": {
        "id": "XPv1n3MMvODk",
        "outputId": "765c1e3a-5f04-4ac1-8249-caa654a8500f",
        "colab": {
          "base_uri": "https://localhost:8080/"
        }
      },
      "source": [
        "import pandas as pd\n",
        "import time\n",
        "\n",
        "# Search formula for CMS articles with UDEA authors:\n",
        "q='cn cms and aff antioquia u.'\n",
        "size=10 # must be low for articles from collaborations\n",
        "page=1\n",
        "def query(q,size,page):\n",
        "    return 'https://inspirehep.net/api/literature?q={}&size={}&page={}&doc_type=published'.format(\n",
        "            q.replace(' ','+'),size,page)\n",
        "df=pd.read_json( query(q,size,page) )\n",
        "ih=pd.DataFrame( [d.get('metadata') for d in df.loc['hits'].get('hits') ] )\n",
        "total=df.loc['total'].get('hits')\n",
        "for page in range(2,total//size+2):\n",
        "    time.sleep(1)\n",
        "    df=pd.read_json( query(q,size,page) )\n",
        "    #Get the real hep json → https://inspirehep.net/schemas/records/hep.json\n",
        "    ih=ih.append( pd.DataFrame( [d.get('metadata') for d in df.loc['hits'].get('hits') ] ),\n",
        "                 sort=False  ).reset_index(drop=True)\n",
        "del(df)\n",
        "print('Number of articles → '.format(ih.shape[0]))"
      ],
      "execution_count": 1,
      "outputs": [
        {
          "output_type": "stream",
          "text": [
            "Number of articles → \n"
          ],
          "name": "stdout"
        }
      ]
    },
    {
      "cell_type": "markdown",
      "metadata": {
        "id": "QS9M2tUbvOD1"
      },
      "source": [
        "Extract UDEA authors from each article"
      ]
    },
    {
      "cell_type": "code",
      "metadata": {
        "id": "jfXlZBQBvOD4"
      },
      "source": [
        "ih['authors_udea']=ih['authors'].apply(lambda l: [  [d.get('full_name') for dd in d.get('affiliations')  if dd.get('value')=='Antioquia U.'  ]  \n",
        "                                  for d in l if d.get('affiliations')  ]  \n",
        "             ).apply(lambda l: [ll[0] for ll in l if ll]).apply('; '.join )"
      ],
      "execution_count": null,
      "outputs": []
    },
    {
      "cell_type": "markdown",
      "metadata": {
        "id": "hPuVcVwVvOEB"
      },
      "source": [
        "Simplify main columns"
      ]
    },
    {
      "cell_type": "code",
      "metadata": {
        "id": "khBlVdTYvOEC"
      },
      "source": [
        "ih['doi']=ih['dois'].apply(lambda l: [d.get('value') for d in l if d.get('value')]).str[0]\n",
        "ih['title']=ih['titles'].apply(lambda l:  [d.get('title') for d in l if d.get('title')]).str[0]\n",
        "ih['journal']=ih['publication_info'].apply(  lambda l:  [d.get('journal_title') for d in l \n",
        "                                                         if d.get('journal_title')]).str[0]       "
      ],
      "execution_count": null,
      "outputs": []
    },
    {
      "cell_type": "markdown",
      "metadata": {
        "id": "3G3n087QvOET"
      },
      "source": [
        "Export to excel"
      ]
    },
    {
      "cell_type": "code",
      "metadata": {
        "id": "8m7l2cCTvvnx"
      },
      "source": [
        "!mkdir -p data"
      ],
      "execution_count": 2,
      "outputs": []
    },
    {
      "cell_type": "code",
      "metadata": {
        "id": "OHMQdqjNvOEV"
      },
      "source": [
        "ih[['title', 'authors_udea', 'doi','journal','author_count','citation_count', 'citation_count_without_self_citations']\n",
        "   ].to_excel('data/cms.xlsx',index=False)"
      ],
      "execution_count": null,
      "outputs": []
    },
    {
      "cell_type": "markdown",
      "metadata": {
        "id": "57KlRDbSvOEa"
      },
      "source": [
        "Check excel file:"
      ]
    },
    {
      "cell_type": "code",
      "metadata": {
        "id": "iAYXKQXmvOEb",
        "outputId": "729d7ee5-d03b-4a0c-8ae8-87deb2f92317"
      },
      "source": [
        "pd.read_excel('data/cms.xlsx')[:2]"
      ],
      "execution_count": null,
      "outputs": [
        {
          "output_type": "execute_result",
          "data": {
            "text/html": [
              "<div>\n",
              "<style scoped>\n",
              "    .dataframe tbody tr th:only-of-type {\n",
              "        vertical-align: middle;\n",
              "    }\n",
              "\n",
              "    .dataframe tbody tr th {\n",
              "        vertical-align: top;\n",
              "    }\n",
              "\n",
              "    .dataframe thead th {\n",
              "        text-align: right;\n",
              "    }\n",
              "</style>\n",
              "<table border=\"1\" class=\"dataframe\">\n",
              "  <thead>\n",
              "    <tr style=\"text-align: right;\">\n",
              "      <th></th>\n",
              "      <th>title</th>\n",
              "      <th>authors_udea</th>\n",
              "      <th>doi</th>\n",
              "      <th>journal</th>\n",
              "      <th>author_count</th>\n",
              "      <th>citation_count</th>\n",
              "      <th>citation_count_without_self_citations</th>\n",
              "    </tr>\n",
              "  </thead>\n",
              "  <tbody>\n",
              "    <tr>\n",
              "      <th>0</th>\n",
              "      <td>Search for a heavy resonance decaying to a top...</td>\n",
              "      <td>Ruiz Alvarez, José David</td>\n",
              "      <td>10.1007/JHEP09(2017)053</td>\n",
              "      <td>JHEP</td>\n",
              "      <td>2230</td>\n",
              "      <td>15</td>\n",
              "      <td>4</td>\n",
              "    </tr>\n",
              "    <tr>\n",
              "      <th>1</th>\n",
              "      <td>Search for New Physics in Events with Same-Sig...</td>\n",
              "      <td>Ruiz Alvarez, José David</td>\n",
              "      <td>10.1007/JHEP01(2014)163</td>\n",
              "      <td>JHEP</td>\n",
              "      <td>2210</td>\n",
              "      <td>181</td>\n",
              "      <td>107</td>\n",
              "    </tr>\n",
              "  </tbody>\n",
              "</table>\n",
              "</div>"
            ],
            "text/plain": [
              "                                               title  \\\n",
              "0  Search for a heavy resonance decaying to a top...   \n",
              "1  Search for New Physics in Events with Same-Sig...   \n",
              "\n",
              "               authors_udea                      doi journal  author_count  \\\n",
              "0  Ruiz Alvarez, José David  10.1007/JHEP09(2017)053    JHEP          2230   \n",
              "1  Ruiz Alvarez, José David  10.1007/JHEP01(2014)163    JHEP          2210   \n",
              "\n",
              "   citation_count  citation_count_without_self_citations  \n",
              "0              15                                      4  \n",
              "1             181                                    107  "
            ]
          },
          "metadata": {
            "tags": []
          },
          "execution_count": 9
        }
      ]
    }
  ]
}