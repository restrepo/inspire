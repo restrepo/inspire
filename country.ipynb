{
 "cells": [
  {
   "cell_type": "code",
   "execution_count": 1,
   "id": "42cd78e1-3837-4b9e-af8a-7db0a6ba5717",
   "metadata": {},
   "outputs": [
    {
     "name": "stdout",
     "output_type": "stream",
     "text": [
      "https://inspirehep.net/literature?q=texkey+Useche:2021wjg+or+texkey+Garcia-Duque:2021qmg+or+texkey+Bernal:2021bbv+or+texkey+Rivera-Agudelo:2020orh+or+texkey+Cardozo:2020uol+or+texkey+Castro:2021gdf+or+texkey+Gomez:2020sfz+or+texkey+Bernal:2021ppq+or+texkey+Garcia:2020sjl+or+texkey+RojasC:2021kws+or+texkey+Larranaga:2014uca+or+texkey+Gomez:2020vat+or+texkey+Yaguna:2021vhb+or+texkey+Bernal:2021ezl+or+texkey+Betancur:2020fdl\n"
     ]
    }
   ],
   "source": [
    "#Find articles from Colombia with at least two Colombian Institutions at with until 10 authors\n",
    "import requests\n",
    "import time\n",
    "\n",
    "country=\"colombia\"\n",
    "\n",
    "r=requests.get(f'https://inspirehep.net/api/institutions?size=250&q={country}')\n",
    "\n",
    "#Institution names list\n",
    "ins=[ d.get('metadata').get('legacy_ICN') for d in r.json().get('hits').get('hits') if d.get('metadata').get('number_of_papers')>0]\n",
    "\n",
    "#Search articles for each institutuion published in 2021 (not collaborations)\n",
    "l=[]\n",
    "for i in ins:\n",
    "    q=f'date > 2020 and ac 1->10 and aff {i} and ps p'.replace(' ','+')\n",
    "    j=requests.get(f'https://inspirehep.net/api/literature?q={q}')\n",
    "    l.append([d.get('metadata').get('texkeys')[0] for d in j.json().get('hits').get('hits')])\n",
    "    time.sleep(0.2)\n",
    "\n",
    "#How to make a flat list out of a list of lists\n",
    "l=[item for sublist in l for item in sublist]\n",
    "\n",
    "#Get a unique list of items that occur more than once in a list → https://stackoverflow.com/a/26773149/2268280\n",
    "ll=set([x for x in l if l.count(x)>1])\n",
    "ll=list(ll)\n",
    "\n",
    "#prepare inspire query \n",
    "q='texkey+'\n",
    "for k in range(len(ll)):\n",
    "    q=q+ll[k]\n",
    "    if k<len(ll)-1:\n",
    "        q=q+'+or+texkey+'\n",
    "\n",
    "print( f'https://inspirehep.net/literature?q={q}' )"
   ]
  }
 ],
 "metadata": {
  "kernelspec": {
   "display_name": "Python 3 (ipykernel)",
   "language": "python",
   "name": "python3"
  },
  "language_info": {
   "codemirror_mode": {
    "name": "ipython",
    "version": 3
   },
   "file_extension": ".py",
   "mimetype": "text/x-python",
   "name": "python",
   "nbconvert_exporter": "python",
   "pygments_lexer": "ipython3",
   "version": "3.9.2"
  }
 },
 "nbformat": 4,
 "nbformat_minor": 5
}
