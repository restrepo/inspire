{
 "cells": [
  {
   "cell_type": "code",
   "execution_count": 1,
   "id": "42cd78e1-3837-4b9e-af8a-7db0a6ba5717",
   "metadata": {},
   "outputs": [
    {
     "name": "stdout",
     "output_type": "stream",
     "text": [
      "https://inspirehep.net/literature?q=texkey+Useche:2021wjg+or+texkey+Garcia-Duque:2021qmg+or+texkey+Bernal:2021bbv+or+texkey+Rivera-Agudelo:2020orh+or+texkey+Cardozo:2020uol+or+texkey+Castro:2021gdf+or+texkey+Gomez:2020sfz+or+texkey+Bernal:2021ppq+or+texkey+Garcia:2020sjl+or+texkey+RojasC:2021kws+or+texkey+Larranaga:2014uca+or+texkey+Gomez:2020vat+or+texkey+Yaguna:2021vhb+or+texkey+Bernal:2021ezl+or+texkey+Betancur:2020fdl\n"
     ]
    }
   ],
   "source": [
    "#Find articles from Colombia with at least two Colombian Institutions at with until 10 authors\n",
    "import requests\n",
    "import time\n",
    "\n",
    "country=\"colombia\"\n",
    "\n",
    "r=requests.get(f'https://inspirehep.net/api/institutions?size=250&q={country}')\n",
    "\n",
    "#Institution names list\n",
    "ins=[ d.get('metadata').get('legacy_ICN') for d in r.json().get('hits').get('hits') if d.get('metadata').get('number_of_papers')>0]\n",
    "\n",
    "#Search articles for each institutuion published in 2021 (not collaborations)\n",
    "l=[]\n",
    "for i in ins:\n",
    "    q=f'date > 2020 and ac 1->10 and aff {i} and ps p'.replace(' ','+')\n",
    "    j=requests.get(f'https://inspirehep.net/api/literature?q={q}')\n",
    "    l.append([d.get('metadata').get('texkeys')[0] for d in j.json().get('hits').get('hits')])\n",
    "    time.sleep(0.2)\n",
    "\n",
    "#How to make a flat list out of a list of lists\n",
    "l=[item for sublist in l for item in sublist]\n",
    "\n",
    "#Get a unique list of items that occur more than once in a list → https://stackoverflow.com/a/26773149/2268280\n",
    "ll=set([x for x in l if l.count(x)>1])\n",
    "ll=list(ll)\n",
    "\n",
    "#prepare inspire query \n",
    "q='texkey+'\n",
    "for k in range(len(ll)):\n",
    "    q=q+ll[k]\n",
    "    if k<len(ll)-1:\n",
    "        q=q+'+or+texkey+'\n",
    "\n",
    "print( f'https://inspirehep.net/literature?q={q}' )"
   ]
  },
  {
   "cell_type": "code",
   "execution_count": null,
   "id": "cead1bea-2041-4fc2-b409-c6b4f7255eee",
   "metadata": {},
   "outputs": [],
   "source": [
    "bs[len(bs)-1]=bs[len(bs)-1].replace('+or+','')"
   ]
  },
  {
   "cell_type": "code",
   "execution_count": 90,
   "id": "1e642e33-77a1-453c-8564-cb4a20bfd94c",
   "metadata": {},
   "outputs": [],
   "source": [
    "q='texkey+'+'texkey+'.join(bs)"
   ]
  },
  {
   "cell_type": "code",
   "execution_count": 91,
   "id": "e60f2f9c-319b-4904-9670-13edf5ff6275",
   "metadata": {},
   "outputs": [
    {
     "data": {
      "text/plain": [
       "'https://inspirehep.net/literature?q=texkey+Larranaga:2014uca+or+texkey+Betancur:2020fdl+or+texkey+Garcia:2020sjl+or+texkey+Bernal:2021ppq+or+texkey+Useche:2021wjg+or+texkey+Yaguna:2021vhb+or+texkey+Cardozo:2020uol+or+texkey+Bernal:2021ezl+or+texkey+Garcia-Duque:2021qmg+or+texkey+RojasC:2021kws+or+texkey+Rivera-Agudelo:2020orh+or+texkey+Gomez:2020sfz+or+texkey+Bernal:2021bbv+or+texkey+Castro:2021gdf+or+texkey+Gomez:2020vat'"
      ]
     },
     "execution_count": 91,
     "metadata": {},
     "output_type": "execute_result"
    }
   ],
   "source": [
    "f'https://inspirehep.net/literature?q={q}'"
   ]
  },
  {
   "cell_type": "code",
   "execution_count": 93,
   "id": "3a2b9aaf-fc0d-476c-995a-a0bb446adb32",
   "metadata": {},
   "outputs": [],
   "source": [
    "b=requests.get(f'https://inspirehep.net/api/literature/{k}')"
   ]
  },
  {
   "cell_type": "code",
   "execution_count": 94,
   "id": "dfa96e3b-587e-4ae7-a40e-d91ac35c0758",
   "metadata": {},
   "outputs": [
    {
     "data": {
      "text/plain": [
       "<bound method Response.json of <Response [200]>>"
      ]
     },
     "execution_count": 94,
     "metadata": {},
     "output_type": "execute_result"
    }
   ],
   "source": [
    "b.json"
   ]
  },
  {
   "cell_type": "code",
   "execution_count": 101,
   "id": "7747a44d-79dc-439e-a47a-c15bb6c6f36c",
   "metadata": {},
   "outputs": [],
   "source": [
    "d=j.json().get('hits').get('hits')[0]"
   ]
  },
  {
   "cell_type": "code",
   "execution_count": 105,
   "id": "22daa886-4112-4231-b69e-62989700c5a1",
   "metadata": {},
   "outputs": [
    {
     "data": {
      "text/plain": [
       "'Gomez:2021shh'"
      ]
     },
     "execution_count": 105,
     "metadata": {},
     "output_type": "execute_result"
    }
   ],
   "source": []
  },
  {
   "cell_type": "code",
   "execution_count": null,
   "id": "d733cc83-0284-42e3-a781-6e99813c3bda",
   "metadata": {},
   "outputs": [],
   "source": []
  }
 ],
 "metadata": {
  "kernelspec": {
   "display_name": "Python 3 (ipykernel)",
   "language": "python",
   "name": "python3"
  },
  "language_info": {
   "codemirror_mode": {
    "name": "ipython",
    "version": 3
   },
   "file_extension": ".py",
   "mimetype": "text/x-python",
   "name": "python",
   "nbconvert_exporter": "python",
   "pygments_lexer": "ipython3",
   "version": "3.9.2"
  }
 },
 "nbformat": 4,
 "nbformat_minor": 5
}
