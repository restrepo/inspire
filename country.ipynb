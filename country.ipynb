{
 "cells": [
  {
   "cell_type": "code",
   "execution_count": 1,
   "id": "0def83a0-fc78-48d1-8e21-02efd13a5b0c",
   "metadata": {},
   "outputs": [
    {
     "name": "stdout",
     "output_type": "stream",
     "text": [
      "https://inspirehep.net/literature?q=texkey+Cardozo:2020uol+or+texkey+Bernal:2021ppq+or+texkey+Garcia:2020sjl+or+texkey+Gomez:2020vat+or+texkey+Rivera-Agudelo:2020orh+or+texkey+RojasC:2021kws+or+texkey+Betancur:2020fdl+or+texkey+Bernal:2021ezl+or+texkey+Gomez:2020sfz+or+texkey+Useche:2021wjg+or+texkey+Larranaga:2014uca+or+texkey+Yaguna:2021vhb+or+texkey+Garcia-Duque:2021qmg+or+texkey+Bernal:2021bbv+or+texkey+Castro:2021gdf\n"
     ]
    }
   ],
   "source": [
    "#Find articles from 2021 with at least two Colombian institutions, and with until 10 authors\n",
    "import requests\n",
    "import time\n",
    "\n",
    "country=\"colombia\"\n",
    "\n",
    "r=requests.get(f'https://inspirehep.net/api/institutions?size=250&q={country}')\n",
    "\n",
    "#Institution names list\n",
    "ins=[ d.get('metadata').get('legacy_ICN') for d in r.json().get('hits').get('hits') if d.get('metadata').get('number_of_papers')>0]\n",
    "\n",
    "#Search articles for each institutuion published in 2021 (not collaborations)\n",
    "l=[]\n",
    "for i in ins:\n",
    "    q=f'date > 2020 and ac 1->10 and aff {i} and ps p'.replace(' ','+')\n",
    "    j=requests.get(f'https://inspirehep.net/api/literature?q={q}')\n",
    "    lj=[d.get('metadata').get('texkeys')[0] for d in j.json().get('hits').get('hits')]\n",
    "    if lj:\n",
    "        l=l+lj\n",
    "    time.sleep(0.2)\n",
    "\n",
    "#Get a unique list of items that occur more than once in a list → https://stackoverflow.com/a/26773149/2268280\n",
    "ll=set([x for x in l if l.count(x)>1])\n",
    "ll=list(ll)\n",
    "\n",
    "#prepare inspire query \n",
    "q='texkey+'\n",
    "for k in range(len(ll)):\n",
    "    q=q+ll[k]\n",
    "    if k<len(ll)-1:\n",
    "        q=q+'+or+texkey+'\n",
    "\n",
    "print( f'https://inspirehep.net/literature?q={q}' )"
   ]
  }
 ],
 "metadata": {
  "kernelspec": {
   "display_name": "Python 3 (ipykernel)",
   "language": "python",
   "name": "python3"
  },
  "language_info": {
   "codemirror_mode": {
    "name": "ipython",
    "version": 3
   },
   "file_extension": ".py",
   "mimetype": "text/x-python",
   "name": "python",
   "nbconvert_exporter": "python",
   "pygments_lexer": "ipython3",
   "version": "3.9.2"
  }
 },
 "nbformat": 4,
 "nbformat_minor": 5
}
