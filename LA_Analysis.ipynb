{
 "cells": [
  {
   "cell_type": "markdown",
   "id": "97a8f521-27e5-4516-a7f0-f6d146e0472a",
   "metadata": {},
   "source": [
    "# Analysis of Latin America authors\n",
    "## For papers with less than 10 authors"
   ]
  },
  {
   "cell_type": "markdown",
   "id": "d3094344-91d4-4976-a489-98033561fefb",
   "metadata": {},
   "source": [
    "<img src=\"https://raw.githubusercontent.com/restrepo/inspire/master/img/authors.svg\" width=700>"
   ]
  },
  {
   "cell_type": "code",
   "execution_count": 106,
   "id": "b7c4b703-c576-4800-9c08-a82be108c4c9",
   "metadata": {},
   "outputs": [
    {
     "name": "stdout",
     "output_type": "stream",
     "text": [
      "Populating the interactive namespace from numpy and matplotlib\n"
     ]
    }
   ],
   "source": [
    "%pylab inline\n",
    "plt.rc('axes', axisbelow=True)"
   ]
  },
  {
   "cell_type": "markdown",
   "id": "db8d3765-45d0-4091-9f7b-fbf2b75a7afe",
   "metadata": {},
   "source": [
    "Load the data"
   ]
  },
  {
   "cell_type": "code",
   "execution_count": 165,
   "id": "c57fccbf-6c73-4aee-8020-e658045514be",
   "metadata": {},
   "outputs": [],
   "source": [
    "import pandas as pd\n",
    "from inspirehep import hIndex\n",
    "df=pd.read_json('data/inspire_LA.json')\n",
    "#df=df.rename( dict(zip(df.columns,[c.replace('LA_','') for c in df.columns])) ,axis='columns')"
   ]
  },
  {
   "cell_type": "code",
   "execution_count": 166,
   "id": "efdc3325-d815-49b6-9e9b-a1b89ce6902f",
   "metadata": {},
   "outputs": [
    {
     "data": {
      "text/plain": [
       "(6793, 12)"
      ]
     },
     "execution_count": 166,
     "metadata": {},
     "output_type": "execute_result"
    }
   ],
   "source": [
    "df.shape"
   ]
  },
  {
   "cell_type": "markdown",
   "id": "7633dbc5-3cf1-4084-b717-317a9ec6d7a6",
   "metadata": {},
   "source": [
    "Prepare the data"
   ]
  },
  {
   "cell_type": "code",
   "execution_count": 167,
   "id": "a025e68b-1e9b-413a-91db-d442bbfeaf0e",
   "metadata": {},
   "outputs": [],
   "source": [
    "c='Colombia'\n",
    "#c=''\n",
    "if c:\n",
    "    dc=df[df['country']==c].reset_index(drop=True)\n",
    "else:\n",
    "    dc=df.copy()\n",
    "#Obtain the unique list of institution of a country\n",
    "ic=set(dc['institution_id'].to_list())\n",
    "#Filter the papers of a country for each author\n",
    "dc['country_papers']=dc['papers'].apply(lambda l: [d for d in l if d.get('inst_id') in ic])\n",
    "# Extract years of the list of country papers of each author\n",
    "dc['years']=dc['country_papers'].apply(lambda l: [eval(d.get('year')) for d in l if d.get('year')!='None'])\n",
    "dc['year_max']=dc['years'].apply(lambda l: max(l) if l else 0)\n",
    "dc['year_min']=dc['years'].apply(lambda l: min(l) if l else 0)\n",
    "year_min=dc[dc['year_min']>0]['year_min'].min()\n",
    "year_max=dc['year_max'].max()"
   ]
  },
  {
   "cell_type": "markdown",
   "id": "429ccdb6-642f-4a22-bcbf-4a81593e52b5",
   "metadata": {
    "tags": []
   },
   "source": [
    "## Visualizations\n",
    "1. Number of active researchers of country per year"
   ]
  },
  {
   "cell_type": "code",
   "execution_count": 168,
   "id": "5692970f-1947-40ef-b45d-110b9f79c81e",
   "metadata": {},
   "outputs": [
    {
     "data": {
      "image/png": "[encoded data removed]",
      "text/plain": [
       "<Figure size 432x288 with 1 Axes>"
      ]
     },
     "metadata": {
      "needs_background": "light"
     },
     "output_type": "display_data"
    }
   ],
   "source": [
    "rs=[]\n",
    "for y in range(year_min,year_max+1):\n",
    "    rs.append( {'year':y, 'authors':dc[dc['years'].apply(lambda l: y in l)].shape[0]} )\n",
    "\n",
    "rs=pd.DataFrame(rs)\n",
    "rs=rs[rs['year']<year_max]\n",
    "\n",
    "plt.bar(rs['year'],rs['authors'])\n",
    "plt.ylabel('Number of active researchers',size=15)\n",
    "plt.xlabel('year',size=15)\n",
    "plt.title(f'Country: {c}',size=15)\n",
    "plt.grid()"
   ]
  },
  {
   "cell_type": "markdown",
   "id": "db51a86e-cf80-4208-a0ff-2237fdf5fefa",
   "metadata": {},
   "source": [
    "2. Number of papers of country per year and h-index of country"
   ]
  },
  {
   "cell_type": "code",
   "execution_count": 169,
   "id": "6b1dfd59-7942-4ca2-a26d-b336eb6813bf",
   "metadata": {},
   "outputs": [],
   "source": [
    "ctp=pd.DataFrame( list(dc['country_papers'].apply(pd.Series).stack().values) ).drop_duplicates().reset_index(drop=True)"
   ]
  },
  {
   "cell_type": "code",
   "execution_count": 170,
   "id": "2edbc290-1573-40d3-9cea-13b2961c3410",
   "metadata": {},
   "outputs": [
    {
     "data": {
      "image/png": "[encoded data removed]",
      "text/plain": [
       "<Figure size 432x288 with 1 Axes>"
      ]
     },
     "metadata": {
      "needs_background": "light"
     },
     "output_type": "display_data"
    }
   ],
   "source": [
    "kk=ctp[ctp['year'].apply(eval)>1990]['year'].value_counts().sort_index().plot(kind='bar')\n",
    "plt.grid()\n",
    "plt.title(f'{c} → h-index={hIndex(ctp.citation_count)}')\n",
    "plt.ylabel('Number of papers',size=15)\n",
    "plt.savefig('brazil.png')"
   ]
  },
  {
   "cell_type": "code",
   "execution_count": null,
   "id": "bb8278ca-3bd7-4ff3-968e-11a2f665b83c",
   "metadata": {},
   "outputs": [],
   "source": []
  },
  {
   "cell_type": "code",
   "execution_count": 153,
   "id": "36fde85e-3793-4f22-a1a6-471946a4d1ad",
   "metadata": {},
   "outputs": [],
   "source": [
    "import pandas as pd\n",
    "from inspirehep import hIndex\n",
    "df=pd.read_json('inspire_LA.json')\n",
    "#df=df.rename( dict(zip(df.columns,[c.replace('LA_','') for c in df.columns])) ,axis='columns')"
   ]
  },
  {
   "cell_type": "code",
   "execution_count": 154,
   "id": "c6b4ba89-deaa-46fe-8c30-15b217fdca47",
   "metadata": {},
   "outputs": [
    {
     "data": {
      "text/plain": [
       "(6841, 11)"
      ]
     },
     "execution_count": 154,
     "metadata": {},
     "output_type": "execute_result"
    }
   ],
   "source": [
    "df.shape"
   ]
  },
  {
   "cell_type": "code",
   "execution_count": 132,
   "id": "28a73239-d62c-4285-a64f-5e56647076fc",
   "metadata": {},
   "outputs": [
    {
     "data": {
      "text/plain": [
       "(11, 11)"
      ]
     },
     "execution_count": 132,
     "metadata": {},
     "output_type": "execute_result"
    }
   ],
   "source": [
    "df[df.papers.str[0].str['year']=='0000'].shape"
   ]
  },
  {
   "cell_type": "code",
   "execution_count": 133,
   "id": "7d3d15dc-c748-43df-820f-6930853dc50a",
   "metadata": {},
   "outputs": [
    {
     "data": {
      "text/html": [
       "<div>\n",
       "<style scoped>\n",
       "    .dataframe tbody tr th:only-of-type {\n",
       "        vertical-align: middle;\n",
       "    }\n",
       "\n",
       "    .dataframe tbody tr th {\n",
       "        vertical-align: top;\n",
       "    }\n",
       "\n",
       "    .dataframe thead th {\n",
       "        text-align: right;\n",
       "    }\n",
       "</style>\n",
       "<table border=\"1\" class=\"dataframe\">\n",
       "  <thead>\n",
       "    <tr style=\"text-align: right;\">\n",
       "      <th></th>\n",
       "      <th>author_id</th>\n",
       "      <th>name</th>\n",
       "      <th>institution_id</th>\n",
       "      <th>external_system_identifiers</th>\n",
       "      <th>country</th>\n",
       "      <th>institution</th>\n",
       "      <th>email_addresses</th>\n",
       "      <th>positions</th>\n",
       "      <th>ids</th>\n",
       "      <th>Fields of Study</th>\n",
       "      <th>papers</th>\n",
       "    </tr>\n",
       "  </thead>\n",
       "  <tbody>\n",
       "    <tr>\n",
       "      <th>0</th>\n",
       "      <td>1030697</td>\n",
       "      <td>{'value': 'Vasconcellos, Cesar Augusto Zen', '...</td>\n",
       "      <td>903161</td>\n",
       "      <td>[{'value': 'grid.8532.c', 'schema': 'GRID'}, {...</td>\n",
       "      <td>Brazil</td>\n",
       "      <td>Rio Grande do Sul U.</td>\n",
       "      <td>[]</td>\n",
       "      <td>[{'record': {'$ref': 'https://inspirehep.net/a...</td>\n",
       "      <td>[{'value': 'C.A.Z.Vasconcellos.1', 'schema': '...</td>\n",
       "      <td>[]</td>\n",
       "      <td>[{'inst_id': 911369, 'recid': 1863786, 'year':...</td>\n",
       "    </tr>\n",
       "  </tbody>\n",
       "</table>\n",
       "</div>"
      ],
      "text/plain": [
       "   author_id                                               name  \\\n",
       "0    1030697  {'value': 'Vasconcellos, Cesar Augusto Zen', '...   \n",
       "\n",
       "   institution_id                        external_system_identifiers country  \\\n",
       "0          903161  [{'value': 'grid.8532.c', 'schema': 'GRID'}, {...  Brazil   \n",
       "\n",
       "            institution email_addresses  \\\n",
       "0  Rio Grande do Sul U.              []   \n",
       "\n",
       "                                           positions  \\\n",
       "0  [{'record': {'$ref': 'https://inspirehep.net/a...   \n",
       "\n",
       "                                                 ids Fields of Study  \\\n",
       "0  [{'value': 'C.A.Z.Vasconcellos.1', 'schema': '...              []   \n",
       "\n",
       "                                              papers  \n",
       "0  [{'inst_id': 911369, 'recid': 1863786, 'year':...  "
      ]
     },
     "execution_count": 133,
     "metadata": {},
     "output_type": "execute_result"
    }
   ],
   "source": [
    "df[:1]"
   ]
  },
  {
   "cell_type": "code",
   "execution_count": 146,
   "id": "8f08ff6e-9a51-462c-b100-2fdf32ff1ec9",
   "metadata": {},
   "outputs": [
    {
     "data": {
      "text/plain": [
       "(6303, 11)"
      ]
     },
     "execution_count": 146,
     "metadata": {},
     "output_type": "execute_result"
    }
   ],
   "source": [
    "df.shape"
   ]
  },
  {
   "cell_type": "code",
   "execution_count": 150,
   "id": "2934b4cc-c93b-4bb4-9df9-85c3f8049160",
   "metadata": {},
   "outputs": [
    {
     "data": {
      "text/plain": [
       "{'value': 'Vasconcellos, Cesar Augusto Zen',\n",
       " 'preferred_name': 'Cesar Augusto Zen Vasconcellos'}"
      ]
     },
     "execution_count": 150,
     "metadata": {},
     "output_type": "execute_result"
    }
   ],
   "source": [
    "df.name.iloc[0]"
   ]
  },
  {
   "cell_type": "markdown",
   "id": "bdafe9bd-ece3-4176-a279-4186e7c508c8",
   "metadata": {},
   "source": [
    "Prepare the data"
   ]
  },
  {
   "cell_type": "code",
   "execution_count": 155,
   "id": "0387172f-0aba-4ce2-8c5f-32ecc4d3909e",
   "metadata": {},
   "outputs": [],
   "source": [
    "c='Colombia'\n",
    "#c=''\n",
    "if c:\n",
    "    dc=df[df['country']==c].reset_index(drop=True)\n",
    "else:\n",
    "    dc=df.copy()\n",
    "#Obtain the unique list of institution of a country\n",
    "ic=set(dc['institution_id'].to_list())\n",
    "#Filter the papers of a country for each author\n",
    "dc['country_papers']=dc['papers'].apply(lambda l: [d for d in l if d.get('inst_id') in ic])\n",
    "# Extract years of the list of country papers of each author\n",
    "dc['years']=dc['country_papers'].apply(lambda l: [eval(d.get('year')) for d in l if d.get('year')!='None'])\n",
    "dc['year_max']=dc['years'].apply(lambda l: max(l) if l else 0)\n",
    "dc['year_min']=dc['years'].apply(lambda l: min(l) if l else 0)\n",
    "year_min=dc[dc['year_min']>0]['year_min'].min()\n",
    "year_max=dc['year_max'].max()"
   ]
  },
  {
   "cell_type": "markdown",
   "id": "d246a655-d9e2-447c-b597-ff841537529d",
   "metadata": {
    "tags": []
   },
   "source": [
    "## Visualizations\n",
    "1. Number of active researchers of country per year"
   ]
  },
  {
   "cell_type": "code",
   "execution_count": 156,
   "id": "dff60a55-fb23-452b-8df7-ad6ac25b3f1c",
   "metadata": {},
   "outputs": [
    {
     "data": {
      "image/png": "[encoded data removed]",
      "text/plain": [
       "<Figure size 432x288 with 1 Axes>"
      ]
     },
     "metadata": {
      "needs_background": "light"
     },
     "output_type": "display_data"
    }
   ],
   "source": [
    "rs=[]\n",
    "for y in range(year_min,year_max+1):\n",
    "    rs.append( {'year':y, 'authors':dc[dc['years'].apply(lambda l: y in l)].shape[0]} )\n",
    "\n",
    "rs=pd.DataFrame(rs)\n",
    "rs=rs[rs['year']<year_max]\n",
    "\n",
    "plt.bar(rs['year'],rs['authors'])\n",
    "plt.ylabel('Number of active researchers',size=15)\n",
    "plt.xlabel('year',size=15)\n",
    "plt.title(f'Country: {c}',size=15)\n",
    "plt.grid()"
   ]
  },
  {
   "cell_type": "markdown",
   "id": "dcc90e55-3a78-4203-8656-e1bf57ceaf55",
   "metadata": {},
   "source": [
    "2. Number of papers of country per year and h-index of country"
   ]
  },
  {
   "cell_type": "code",
   "execution_count": 157,
   "id": "3d8286d9-7d47-494e-9eab-eee46984416d",
   "metadata": {},
   "outputs": [],
   "source": [
    "ctp=pd.DataFrame( list(dc['country_papers'].apply(pd.Series).stack().values) )#.drop_duplicates().reset_index(drop=True)"
   ]
  },
  {
   "cell_type": "code",
   "execution_count": 158,
   "id": "450b092e-87ae-4656-9fd8-b87b67b05d10",
   "metadata": {},
   "outputs": [
    {
     "data": {
      "text/plain": [
       "Text(0, 0.5, 'Number of papers')"
      ]
     },
     "execution_count": 158,
     "metadata": {},
     "output_type": "execute_result"
    },
    {
     "data": {
      "image/png": "[encoded data removed]",
      "text/plain": [
       "<Figure size 432x288 with 1 Axes>"
      ]
     },
     "metadata": {
      "needs_background": "light"
     },
     "output_type": "display_data"
    }
   ],
   "source": [
    "kk=ctp[ctp['year'].apply(eval)>1990]['year'].value_counts().sort_index().plot(kind='bar')\n",
    "plt.grid()\n",
    "plt.title(f'{c} → h-index={hIndex(ctp.citation_count)}')\n",
    "plt.ylabel('Number of papers',size=15)"
   ]
  },
  {
   "cell_type": "code",
   "execution_count": null,
   "id": "c0ffca16-7614-4233-94af-493ee21b6940",
   "metadata": {},
   "outputs": [],
   "source": [
    "#Obtain the unique list of institution of a country\n",
    "ic=set(dc['institution_id'].to_list())\n",
    "#Filter the papers of a country for each author\n",
    "dc['country_papers']=dc['papers'].apply(lambda l: [d for d in l if d.get('inst_id') in ic])\n"
   ]
  },
  {
   "cell_type": "markdown",
   "id": "74ccf520-a405-42f5-894b-73cd82f3e7fb",
   "metadata": {},
   "source": [
    "By institution"
   ]
  },
  {
   "cell_type": "code",
   "execution_count": 85,
   "id": "591db317-93c0-4417-b7ef-9502743022f8",
   "metadata": {},
   "outputs": [],
   "source": [
    "i='Sao Paulo U.'\n",
    "di=df[df['institution']=='Sao Paulo U.'].reset_index(drop=True)"
   ]
  },
  {
   "cell_type": "code",
   "execution_count": 86,
   "id": "a4b63e44-4a6e-4e34-b39c-bcf5bb65817d",
   "metadata": {},
   "outputs": [],
   "source": [
    "ii=di['institution_id'].unique()"
   ]
  },
  {
   "cell_type": "code",
   "execution_count": 87,
   "id": "add0fcad-364e-4751-9d00-dd5ed0bc6c84",
   "metadata": {},
   "outputs": [],
   "source": [
    "di['institution_papers']=di['papers'].apply(lambda l: [d for d in l if d.get('inst_id') in ii])"
   ]
  },
  {
   "cell_type": "code",
   "execution_count": 88,
   "id": "29c956b1-7b28-4455-8a99-f89883a1383b",
   "metadata": {},
   "outputs": [],
   "source": [
    "itp=pd.DataFrame( list(di['institution_papers'].apply(pd.Series).stack().values) )#.drop_duplicates().reset_index(drop=True)"
   ]
  },
  {
   "cell_type": "code",
   "execution_count": 89,
   "id": "07f018d1-b4c8-4a9b-ba05-eac5cbf66bfe",
   "metadata": {},
   "outputs": [
    {
     "data": {
      "text/plain": [
       "(2898, 5)"
      ]
     },
     "execution_count": 89,
     "metadata": {},
     "output_type": "execute_result"
    }
   ],
   "source": [
    "itp=itp.drop_duplicates(subset=['recid'])\n",
    "itp.shape"
   ]
  },
  {
   "cell_type": "code",
   "execution_count": 90,
   "id": "2ff9616c-26f3-4c19-901e-da8426243586",
   "metadata": {},
   "outputs": [
    {
     "data": {
      "text/plain": [
       "Text(0, 0.5, 'Number of papers')"
      ]
     },
     "execution_count": 90,
     "metadata": {},
     "output_type": "execute_result"
    },
    {
     "data": {
      "image/png": "[encoded data removed]",
      "text/plain": [
       "<Figure size 432x288 with 1 Axes>"
      ]
     },
     "metadata": {
      "needs_background": "light"
     },
     "output_type": "display_data"
    }
   ],
   "source": [
    "kk=itp['year'].value_counts().sort_index().plot(kind='bar')\n",
    "plt.grid()\n",
    "plt.title(f'{i} → h-index={hIndex(ctp.citation_count)}')\n",
    "plt.ylabel('Number of papers',size=15)"
   ]
  },
  {
   "cell_type": "code",
   "execution_count": 1,
   "id": "1090ca0e-303d-489e-93f4-3897a651861e",
   "metadata": {},
   "outputs": [],
   "source": [
    "import json"
   ]
  },
  {
   "cell_type": "code",
   "execution_count": 4,
   "id": "7d38271e-983e-487d-a59e-7a393a177471",
   "metadata": {},
   "outputs": [],
   "source": [
    "import pickle"
   ]
  },
  {
   "cell_type": "code",
   "execution_count": 5,
   "id": "8b9b4e47-f18e-4c2d-9722-ea229f01ea73",
   "metadata": {},
   "outputs": [
    {
     "ename": "AttributeError",
     "evalue": "Can't get attribute 'institutions' on <module '__main__'>",
     "output_type": "error",
     "traceback": [
      "\u001b[0;31m---------------------------------------------------------------------------\u001b[0m",
      "\u001b[0;31mAttributeError\u001b[0m                            Traceback (most recent call last)",
      "\u001b[0;32m/tmp/ipykernel_930672/2079399321.py\u001b[0m in \u001b[0;36m<module>\u001b[0;34m\u001b[0m\n\u001b[1;32m      1\u001b[0m \u001b[0mf\u001b[0m\u001b[0;34m=\u001b[0m\u001b[0mopen\u001b[0m\u001b[0;34m(\u001b[0m\u001b[0;34m'inspire_LA.pickle'\u001b[0m\u001b[0;34m,\u001b[0m\u001b[0;34m'rb'\u001b[0m\u001b[0;34m)\u001b[0m\u001b[0;34m\u001b[0m\u001b[0;34m\u001b[0m\u001b[0m\n\u001b[0;32m----> 2\u001b[0;31m \u001b[0mdb\u001b[0m\u001b[0;34m=\u001b[0m\u001b[0mpickle\u001b[0m\u001b[0;34m.\u001b[0m\u001b[0mload\u001b[0m\u001b[0;34m(\u001b[0m\u001b[0mf\u001b[0m\u001b[0;34m)\u001b[0m\u001b[0;34m\u001b[0m\u001b[0;34m\u001b[0m\u001b[0m\n\u001b[0m\u001b[1;32m      3\u001b[0m \u001b[0mf\u001b[0m\u001b[0;34m.\u001b[0m\u001b[0mclose\u001b[0m\u001b[0;34m(\u001b[0m\u001b[0;34m)\u001b[0m\u001b[0;34m\u001b[0m\u001b[0;34m\u001b[0m\u001b[0m\n",
      "\u001b[0;31mAttributeError\u001b[0m: Can't get attribute 'institutions' on <module '__main__'>"
     ]
    }
   ],
   "source": [
    "f=open('inspire_LA.pickle','rb')\n",
    "db=pickle.load(f)\n",
    "f.close()"
   ]
  },
  {
   "cell_type": "code",
   "execution_count": null,
   "id": "eb0e99f1-cffc-4fc1-9134-09da1f68c121",
   "metadata": {},
   "outputs": [],
   "source": []
  }
 ],
 "metadata": {
  "kernelspec": {
   "display_name": "Python 3 (ipykernel)",
   "language": "python",
   "name": "python3"
  },
  "language_info": {
   "codemirror_mode": {
    "name": "ipython",
    "version": 3
   },
   "file_extension": ".py",
   "mimetype": "text/x-python",
   "name": "python",
   "nbconvert_exporter": "python",
   "pygments_lexer": "ipython3",
   "version": "3.9.2"
  }
 },
 "nbformat": 4,
 "nbformat_minor": 5
}
