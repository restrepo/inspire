{
 "cells": [
  {
   "cell_type": "markdown",
   "metadata": {
    "colab_type": "text",
    "id": "view-in-github"
   },
   "source": [
    "<a href=\"https://colab.research.google.com/github/restrepo/inspire/blob/master/newinspire.ipynb\" target=\"_parent\"><img src=\"https://colab.research.google.com/assets/colab-badge.svg\" alt=\"Open In Colab\"/></a>"
   ]
  },
  {
   "cell_type": "markdown",
   "metadata": {
    "id": "vh4vCR8IvODc"
   },
   "source": [
    "## New inspire hep\n",
    "Use the API of [inspirehep.net](https://inspirehep.net/) to get the CMS articles with UDEA authors.\n",
    "\n",
    "> In order to avoid overwhelming the server, we enforce rate limits per IP address: every IP address is allowed 50 requests, then at most 2 requests per second. If you exceed those limits, you will receive a response with HTTP status code 429 and a x-retry-in header telling you how long to wait before retrying."
   ]
  },
  {
   "cell_type": "code",
   "execution_count": 1,
   "metadata": {
    "colab": {
     "base_uri": "https://localhost:8080/"
    },
    "id": "XPv1n3MMvODk",
    "outputId": "765c1e3a-5f04-4ac1-8249-caa654a8500f"
   },
   "outputs": [
    {
     "name": "stdout",
     "output_type": "stream",
     "text": [
      "Number of articles → 327\n"
     ]
    }
   ],
   "source": [
    "import pandas as pd\n",
    "import time\n",
    "\n",
    "# Search formula for CMS articles with UDEA authors:\n",
    "q='(cn cms and aff antioquia u.) or aff antioquia u.'\n",
    "size=10 # must be low for articles from collaborations\n",
    "page=1\n",
    "def query(q,size,page):\n",
    "    return 'https://inspirehep.net/api/literature?q={}&size={}&page={}&doc_type=published'.format(\n",
    "            q.replace(' ','+'),size,page)\n",
    "df=pd.read_json( query(q,size,page) )\n",
    "ih=pd.DataFrame( [d.get('metadata') for d in df.loc['hits'].get('hits') ] )\n",
    "total=df.loc['total'].get('hits')\n",
    "for page in range(2,total//size+2):\n",
    "    time.sleep(1)\n",
    "    df=pd.read_json( query(q,size,page) )\n",
    "    #Get the real hep json → https://inspirehep.net/schemas/records/hep.json\n",
    "    ih=ih.append( pd.DataFrame( [d.get('metadata') for d in df.loc['hits'].get('hits') ] ),\n",
    "                 sort=False  ).reset_index(drop=True)\n",
    "del(df)\n",
    "print('Number of articles → {}'.format(ih.shape[0]))"
   ]
  },
  {
   "cell_type": "markdown",
   "metadata": {
    "id": "QS9M2tUbvOD1"
   },
   "source": [
    "Extract UDEA authors from each article"
   ]
  },
  {
   "cell_type": "code",
   "execution_count": 2,
   "metadata": {
    "id": "jfXlZBQBvOD4"
   },
   "outputs": [],
   "source": [
    "ih['authors_udea']=ih['authors'].apply(lambda l: [  [d.get('full_name') for dd in d.get('affiliations')  if dd.get('value')=='Antioquia U.'  ]  \n",
    "                                  for d in l if d.get('affiliations')  ]  \n",
    "             ).apply(lambda l: [ll[0] for ll in l if ll]).apply('; '.join )"
   ]
  },
  {
   "cell_type": "markdown",
   "metadata": {
    "id": "hPuVcVwVvOEB"
   },
   "source": [
    "Simplify main columns"
   ]
  },
  {
   "cell_type": "code",
   "execution_count": 21,
   "metadata": {
    "id": "khBlVdTYvOEC"
   },
   "outputs": [],
   "source": [
    "ih['doi']=ih['dois'].apply(lambda l: [d.get('value') for d in l  if d.get('value')] if isinstance(l,list) else ['']).str[0]\n",
    "ih['title']=ih['titles'].apply(lambda l:  [d.get('title') for d in l if d.get('title')]).str[0]\n",
    "ih['journal']=ih['publication_info'].apply(  lambda l:  [d.get('journal_title') for d in l \n",
    "                                                         if d.get('journal_title')]).str[0]\n",
    "ih['year']=ih['publication_info'].apply(  lambda l:  [d.get('year') for d in l \n",
    "                                                         if d.get('year')]).str[0]"
   ]
  },
  {
   "cell_type": "markdown",
   "metadata": {
    "id": "3G3n087QvOET"
   },
   "source": [
    "Export to excel"
   ]
  },
  {
   "cell_type": "code",
   "execution_count": 28,
   "metadata": {},
   "outputs": [
    {
     "data": {
      "text/plain": [
       "(327, 51)"
      ]
     },
     "execution_count": 28,
     "metadata": {},
     "output_type": "execute_result"
    }
   ],
   "source": [
    "ih.shape"
   ]
  },
  {
   "cell_type": "code",
   "execution_count": 29,
   "metadata": {},
   "outputs": [
    {
     "data": {
      "text/plain": [
       "0      2017\n",
       "1      2014\n",
       "2      2014\n",
       "3      2019\n",
       "4      2019\n",
       "       ... \n",
       "322    1998\n",
       "323    1980\n",
       "324    2008\n",
       "325    2019\n",
       "326    2013\n",
       "Name: year, Length: 327, dtype: int64"
      ]
     },
     "execution_count": 29,
     "metadata": {},
     "output_type": "execute_result"
    }
   ],
   "source": [
    "ih.year"
   ]
  },
  {
   "cell_type": "code",
   "execution_count": 51,
   "metadata": {},
   "outputs": [],
   "source": [
    "pb=ih[(ih['doi']!='') & (ih['year']>2016) & (ih['year']<2020)].sort_values('year',ascending=False).reset_index(drop=True)"
   ]
  },
  {
   "cell_type": "code",
   "execution_count": 52,
   "metadata": {},
   "outputs": [],
   "source": [
    "pb['author_udea']=pb['authors_udea'].str.split(';').str[0]"
   ]
  },
  {
   "cell_type": "code",
   "execution_count": 42,
   "metadata": {},
   "outputs": [],
   "source": [
    "pb[['title', 'authors_udea', 'doi','journal','author_count','citation_count', 'citation_count_without_self_citations']\n",
    "   ].to_excel('data/cms.xlsx',index=False)"
   ]
  },
  {
   "cell_type": "code",
   "execution_count": 61,
   "metadata": {},
   "outputs": [],
   "source": [
    "pb['journal']=pb['journal'].str.replace('^Phys.Rev.Lett.','Physical Review Letters'\n",
    "            ).str.replace('^Phys.Rev.D','Physical Review D'\n",
    "            ).str.replace('^Phys.Lett.B','Pysics Letters B'\n",
    "            ).str.replace('^JHEP','Journl of High Energy Physics'\n",
    "            ).str.replace('^JCAP','Journal of Cosmology and Astrpoarticle Physics'\n",
    "            ).str.replace('^Eur.Phys.J.C','European Journal of Physics C'\n",
    "            ).str.replace('^J.Phys.G','Journal of Physics G'\n",
    "                         )"
   ]
  },
  {
   "cell_type": "code",
   "execution_count": 62,
   "metadata": {},
   "outputs": [
    {
     "data": {
      "text/plain": [
       "array(['Physical Review Letters', 'Physical Review D', 'Pysics Letters B',\n",
       "       'Journl of High Energy Physics',\n",
       "       'Journal of Cosmology and Astrpoarticle Physics',\n",
       "       'European Journal of Physics C', 'Class.Quant.Grav.',\n",
       "       'Mod.Phys.Lett.A', 'Int.J.Mod.Phys.A', 'Int.J.Mod.Phys.D', 'JINST',\n",
       "       'Journal of Physics G'], dtype=object)"
      ]
     },
     "execution_count": 62,
     "metadata": {},
     "output_type": "execute_result"
    }
   ],
   "source": [
    "pb.journal.unique()"
   ]
  },
  {
   "cell_type": "code",
   "execution_count": 64,
   "metadata": {},
   "outputs": [],
   "source": [
    "pb[['title','author_udea','journal','year','authors_udea']].to_excel('data/gfif.xlsx',index=False)"
   ]
  },
  {
   "cell_type": "code",
   "execution_count": 6,
   "metadata": {
    "id": "8m7l2cCTvvnx"
   },
   "outputs": [],
   "source": [
    "!mkdir -p data"
   ]
  },
  {
   "cell_type": "code",
   "execution_count": 7,
   "metadata": {
    "id": "OHMQdqjNvOEV"
   },
   "outputs": [],
   "source": [
    "ih[['title', 'authors_udea', 'doi','journal','author_count','citation_count', 'citation_count_without_self_citations']\n",
    "   ].to_excel('data/cms.xlsx',index=False)"
   ]
  },
  {
   "cell_type": "markdown",
   "metadata": {
    "id": "57KlRDbSvOEa"
   },
   "source": [
    "Check excel file:"
   ]
  },
  {
   "cell_type": "code",
   "execution_count": 8,
   "metadata": {
    "colab": {
     "base_uri": "https://localhost:8080/",
     "height": 112
    },
    "id": "iAYXKQXmvOEb",
    "outputId": "d6dd94b3-7802-4ff4-ec5d-364ea33ea5cb"
   },
   "outputs": [
    {
     "data": {
      "text/html": [
       "<div>\n",
       "<style scoped>\n",
       "    .dataframe tbody tr th:only-of-type {\n",
       "        vertical-align: middle;\n",
       "    }\n",
       "\n",
       "    .dataframe tbody tr th {\n",
       "        vertical-align: top;\n",
       "    }\n",
       "\n",
       "    .dataframe thead th {\n",
       "        text-align: right;\n",
       "    }\n",
       "</style>\n",
       "<table border=\"1\" class=\"dataframe\">\n",
       "  <thead>\n",
       "    <tr style=\"text-align: right;\">\n",
       "      <th></th>\n",
       "      <th>title</th>\n",
       "      <th>authors_udea</th>\n",
       "      <th>doi</th>\n",
       "      <th>journal</th>\n",
       "      <th>author_count</th>\n",
       "      <th>citation_count</th>\n",
       "      <th>citation_count_without_self_citations</th>\n",
       "    </tr>\n",
       "  </thead>\n",
       "  <tbody>\n",
       "    <tr>\n",
       "      <th>0</th>\n",
       "      <td>Search for a heavy resonance decaying to a top...</td>\n",
       "      <td>Ruiz Alvarez, José David</td>\n",
       "      <td>10.1007/JHEP09(2017)053</td>\n",
       "      <td>JHEP</td>\n",
       "      <td>2230</td>\n",
       "      <td>15</td>\n",
       "      <td>4</td>\n",
       "    </tr>\n",
       "    <tr>\n",
       "      <th>1</th>\n",
       "      <td>Search for New Physics in Events with Same-Sig...</td>\n",
       "      <td>Ruiz Alvarez, José David</td>\n",
       "      <td>10.1007/JHEP01(2014)163</td>\n",
       "      <td>JHEP</td>\n",
       "      <td>2210</td>\n",
       "      <td>181</td>\n",
       "      <td>107</td>\n",
       "    </tr>\n",
       "  </tbody>\n",
       "</table>\n",
       "</div>"
      ],
      "text/plain": [
       "                                               title  ... citation_count_without_self_citations\n",
       "0  Search for a heavy resonance decaying to a top...  ...                                     4\n",
       "1  Search for New Physics in Events with Same-Sig...  ...                                   107\n",
       "\n",
       "[2 rows x 7 columns]"
      ]
     },
     "execution_count": 8,
     "metadata": {
      "tags": []
     },
     "output_type": "execute_result"
    }
   ],
   "source": [
    "pd.read_excel('data/cms.xlsx')[:2]"
   ]
  }
 ],
 "metadata": {
  "colab": {
   "include_colab_link": true,
   "name": "newinspire.ipynb",
   "provenance": []
  },
  "kernelspec": {
   "display_name": "Python 3",
   "language": "python",
   "name": "python3"
  },
  "language_info": {
   "codemirror_mode": {
    "name": "ipython",
    "version": 3
   },
   "file_extension": ".py",
   "mimetype": "text/x-python",
   "name": "python",
   "nbconvert_exporter": "python",
   "pygments_lexer": "ipython3",
   "version": "3.7.3"
  }
 },
 "nbformat": 4,
 "nbformat_minor": 4
}
