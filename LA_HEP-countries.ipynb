{
 "cells": [
  {
   "cell_type": "markdown",
   "id": "ffa71bff-8b6d-4913-b07e-f3c5e4355cba",
   "metadata": {},
   "source": [
    "# Get INSPIRE-HEP info for authors of a set of countries:\n",
    "## from Latin America:"
   ]
  },
  {
   "cell_type": "code",
   "execution_count": 1,
   "id": "fd3302c2-9a58-4f87-97c0-7c277c029d7f",
   "metadata": {},
   "outputs": [],
   "source": [
    "import pandas as pd\n",
    "import requests\n",
    "import time\n",
    "import json"
   ]
  },
  {
   "cell_type": "code",
   "execution_count": 2,
   "id": "37b10aff-0281-4f7f-918d-0535a84bd102",
   "metadata": {},
   "outputs": [],
   "source": [
    "#From https://github.com/inspirehep/rest-api-doc#rate-limiting\n",
    "#every IP address is allowed 15 requests in a 5s window.\n",
    "collaborations=['STAR', 'MicroBooNE', 'CLAS', 'DUNE', 'NA62', 'PHENIX', 'BESIII', 'DES', 'Super-Kamiokande', 'LIGO Scientific', 'KM3NeT', 'HAWC', \n",
    "                'Pierre Auger', 'IceCube', 'CTA Observatory', 'Telescope Array', 'MAGIC', 'SuperCDMS', 'CUPID', 'CUORE', 'KATRIN', 'REDTOP', 'KAGRA', \n",
    "                'Muon Collider', 'Mu2e-II', 'ILC International Development Team', 'Daya Bay', 'Virgo', 'NEMO-3', 'ATLAS', 'Euclid', 'LHCb', 'CMS', \n",
    "                'ANTARES', 'GERDA', 'HADES', 'n_TOF', 'PANDA', 'Jefferson Lab Hall A', 'LUX-ZEPLIN', 'Belle', 'LHAASO', 'H.E.S.S.', 'JUNO', 'AMS', \n",
    "                'XENON', 'SHiP', 'ALICE', 'NA61/SHINE', 'DAMPE', 'H1', 'NOvA', 'CTA LST Project', 'OPERA', 'COMPASS', 'GlueX', 'LEGEND', \n",
    "                'Event Horizon Telescope', 'MPD', 'LiteBIRD', 'Double Chooz', 'Fermi-LAT', 'nEXO', 'SDSS-IV', 'NEXT', 'CREX', 'BaBar', \n",
    "                'CDF', 'DarkSide', 'EXO-200', 'Tibet ASγ', 'SPT-3G', 'Mice', 'CTA Consortium', 'SNO+', 'CSNS Back-n', 'WA105', 'NA48/2', \n",
    "                'Muon g-2', 'DEAP', 'T2K', 'Charm', 'HESS', 'ICARUS', 'Hess', 'CTA', 'Mu3e', 'Planck', 'Hyper-Kamiokande', 'MOONS Consortium', \n",
    "                'HEP Software Foundation', 'LSPE', 'CMB-S4', 'TianQin', 'QUBIC', 'KLF', 'Particle Data Group', 'DARWIN', 'LZ', 'Insight-HXMT Team', \n",
    "                'WASA-at-COSY', 'BOREXINO', 'TOTEM', 'SBND', 'RD42', 'SPTpol', 'IAXO', 'aLIGO', 'LIGO', 'LHeC', 'D0', 'ACT', 'LHC Reinterpretation Forum', \n",
    "                'ILD Concept Group', 'RD53', 'Insight-HXMT', 'CPEDM', 'ILD', 'LArIAT', 'Rd42', 'BDX', 'Jefferson Lab E97-110', 'AEDGE', 'AMEGO', 'Simons Observatory', \n",
    "                'LUX', 'LISA Pathfinder', 'MSE Science Team', 'CALICE', 'ZEUS', 'E97-110', 'PREX', 'SPD proto', 'AdvLIGO', 'HERMES-SP']\n",
    "sleep=0.4"
   ]
  },
  {
   "cell_type": "markdown",
   "id": "4e0cca44-e14c-4ce6-8db2-42f75b9337db",
   "metadata": {},
   "source": [
    "Scheme: dicts and lists are the same than in INSPIRE-HEP\n",
    "```python\n",
    "{'author_id':str,\n",
    " 'name':dict, #of author\n",
    " 'LA_institution_id':str,\n",
    " 'external_system_identifiers':list, #of institution\n",
    " 'LA_country':str,\n",
    " 'LA_institution':str,\n",
    " 'email_addresses':list, #of author\n",
    " 'positions':list, #of author\n",
    " 'ids':list, #of author\n",
    " 'primary_arxiv_category', list # literature\n",
    " 'Fields of Study': list # in ['Particle physics','Cosmology','Astrophysics','Mathematical physics']+collaborations\n",
    "}\n",
    "```"
   ]
  },
  {
   "cell_type": "markdown",
   "id": "6bce6c49-cb5c-4b05-88a0-fe7ed5a373e8",
   "metadata": {},
   "source": [
    "Sort by Publication Year to get the last affiliations"
   ]
  },
  {
   "cell_type": "code",
   "execution_count": 3,
   "id": "ff5577c3-b6bc-4d20-b18c-f0f90180147f",
   "metadata": {},
   "outputs": [
    {
     "name": "stdout",
     "output_type": "stream",
     "text": [
      "Overwriting inspirehep.py\n"
     ]
    }
   ],
   "source": [
    "%%writefile inspirehep.py\n",
    "import time\n",
    "import requests\n",
    "import json\n",
    "\n",
    "global db,db,LA_countries,fields_of_study,sep,sleep\n",
    "LA_countries=('Argentina', 'Bolivia', 'Brazil', 'Chile', 'Colombia', 'Cuba', #5\n",
    "              'Costa Rica', 'Ecuador', 'El Salvador', 'Guatemala', 'Honduras', #10\n",
    "              'Mexico', 'Nicaragua', 'Panama', 'Paraguay', 'Peru', #15\n",
    "              'Dominican Republic','Uruguay','Venezuela') #18\n",
    "fields_of_study={'Particle physics','Cosmology','Astrophysics','Mathematical physics'}\n",
    "sep='arxiv.org/abs/'\n",
    "#From https://github.com/inspirehep/rest-api-doc#rate-limiting\n",
    "#every IP address is allowed 15 requests in a 5s window.\n",
    "sleep=0.4\n",
    "\n",
    "def get_index(db,index='author_id'):\n",
    "    i=0\n",
    "    d_index={}\n",
    "    for d in db:\n",
    "        d_index[ d.get(index) ]=i\n",
    "        i=i+1\n",
    "    return d_index\n",
    "\n",
    "def get_work(db,a,idsLA,idsAU,db_index,FoS,PAC):\n",
    "    \"\"\"\n",
    "    Use author dictionary from INSPIRE-HEP literature API 'authors list, to get author info:\n",
    "    * author_id\n",
    "    * url_author\n",
    "    and update 'Fields of Study' and 'primary_arxiv_category' if author alread in db\n",
    "    \"\"\"\n",
    "    author_id=None\n",
    "    url_author=None        \n",
    "    try:\n",
    "        url_author=a.get('record').get('$ref')\n",
    "    except:\n",
    "        return True,author_id,url_author,FoS,PAC #next author (Not author Profile)\n",
    "    if isinstance(url_author,str):\n",
    "        author_id=url_author.split('/')[-1]\n",
    "    else:\n",
    "        return True,author_id,url_author,FoS,PAC #next author\n",
    "    if author_id in idsAU:\n",
    "        try:\n",
    "            FoS=list(set(db[db_index[author_id]].get('Fields of Study')).union(FoS))\n",
    "            try: #update db\n",
    "                db[db_index[author_id]]['Fields of Study']=FoS\n",
    "            except:\n",
    "                pass\n",
    "        except:\n",
    "            pass\n",
    "        try:\n",
    "            PAC=list(set(db[db_index[author_id]].get('primary_arxiv_category')).union(PAC))\n",
    "            try: #update db\n",
    "                db[db_index[author_id]]['primary_arxiv_category']=PAC\n",
    "            except:\n",
    "                pass                \n",
    "        except:\n",
    "            pass\n",
    "\n",
    "        #print('DEBUG:already there')\n",
    "        return True,author_id,url_author,FoS,PAC #next author\n",
    "    return False,author_id,url_author,FoS,PAC\n",
    "    \n",
    "def get_institutions(db,i,idsLA,idsAU,db_index,FoS,sleep):\n",
    "    \"\"\"\n",
    "    * Use affiliation dictionary from affilitions list of author dictionary to get:\n",
    "     `inst_name`\n",
    "     `inst_url`\n",
    "    * Use INSPIRE-HEP insitution API to get: \n",
    "      `country`\n",
    "      'external_system_identifiers'\n",
    "    \"\"\"\n",
    "    CONTINUE=True\n",
    "    country=None\n",
    "    esi=None\n",
    "    inst_id=None\n",
    "    inst_name=None\n",
    "    try:\n",
    "        inst_name=i.get('value')\n",
    "        inst_url=i.get('record').get('$ref')\n",
    "    except:\n",
    "        #Next institution\n",
    "        return CONTINUE,inst_id,inst_name,country,esi\n",
    "    inst_id=inst_url.split('/')[-1]\n",
    "\n",
    "    if inst_id in idsLA:\n",
    "        #print('DEBUG: Institution already there')\n",
    "        country=[ d.get('LA_country') for d in db \n",
    "                  if d.get('LA_institution_id')==inst_id ][0]                \n",
    "        esi=[ d.get('external_system_identifiers') for d in db \n",
    "                  if d.get('LA_institution_id')==inst_id ][0]\n",
    "        CONTINUE=False\n",
    "        return CONTINUE,inst_id,inst_name,country,esi        \n",
    "    else:\n",
    "        #new institution\n",
    "        time.sleep(sleep)\n",
    "        ri=requests.get(inst_url)\n",
    "        if ri.status_code==200:\n",
    "            di=ri.json()\n",
    "        else:\n",
    "            return CONTINUE,inst_id,inst_name,country,esi\n",
    "\n",
    "        try:\n",
    "            country=di.get('metadata').get('addresses')[0].get('country')\n",
    "        except:\n",
    "            country=None\n",
    "        if country not in LA_countries:\n",
    "            return CONTINUE,inst_id,inst_name,country,esi\n",
    "        else:\n",
    "            #Get insitution metada from inspire\n",
    "            esi=di.get('metadata').get('external_system_identifiers')\n",
    "            if not esi:\n",
    "                esi=[]\n",
    "            CONTINUE=False\n",
    "            return CONTINUE,inst_id,inst_name,country,esi\n",
    "        \n",
    "def get_author(url_author):\n",
    "    \"\"\"\n",
    "    Get author profile from INSPIRE-HEP author API\n",
    "    \"\"\"\n",
    "    if isinstance(url_author,str):\n",
    "        time.sleep(sleep)\n",
    "        epa=requests.get(url_author)\n",
    "\n",
    "    if epa.status_code==200:\n",
    "        epa=epa.json()\n",
    "\n",
    "    positions=epa.get('metadata').get('positions')\n",
    "    if not positions:\n",
    "        positions=[]\n",
    "\n",
    "    email_addresses=epa.get('metadata').get('email_addresses')\n",
    "\n",
    "    if not email_addresses:\n",
    "        email_addresses=[]\n",
    "\n",
    "    name=epa.get('metadata').get('name')\n",
    "    if not name:\n",
    "        name={}\n",
    "\n",
    "    aids=epa.get('metadata').get('ids')\n",
    "    if not aids:\n",
    "        aids=[]\n",
    "    return positions,email_addresses,name,aids            "
   ]
  },
  {
   "cell_type": "code",
   "execution_count": 4,
   "id": "60c700e6-4e0c-4abe-b490-9c41e846040b",
   "metadata": {},
   "outputs": [],
   "source": [
    "from inspirehep import *"
   ]
  },
  {
   "cell_type": "code",
   "execution_count": 5,
   "id": "dc1ff676-343b-4523-8eaa-fccee1ad5c36",
   "metadata": {},
   "outputs": [],
   "source": [
    "db=[]"
   ]
  },
  {
   "cell_type": "markdown",
   "id": "f68a5cc9-4864-425a-96a4-fc427fbacb7c",
   "metadata": {},
   "source": [
    "### INSPIRE-HEP APIs:\n",
    "For each DOI or arXiv identifier:\n",
    "* (1) From literature API→ get authors info\n",
    "    * `if` author info not already in db `for` each author:\n",
    "        * (2) institution API → get institutions info\n",
    "            * `if` institution is from Latin America `for` each one of the author's institutions:\n",
    "                * (3) author API → get author profile\n",
    "  * `else` autor already in db: update `'Field of Study'` and `'primary_arXiv_category'`"
   ]
  },
  {
   "cell_type": "code",
   "execution_count": 6,
   "id": "a0f60c91-2276-4e78-8a0a-10a71ff24fd2",
   "metadata": {},
   "outputs": [
    {
     "data": {
      "text/plain": [
       "('Honduras',)"
      ]
     },
     "execution_count": 6,
     "metadata": {},
     "output_type": "execute_result"
    }
   ],
   "source": [
    "LA_countries[10:11]"
   ]
  },
  {
   "cell_type": "code",
   "execution_count": 7,
   "id": "86fb565d-b9f5-4cd9-a341-320cc6893f35",
   "metadata": {},
   "outputs": [
    {
     "name": "stdout",
     "output_type": "stream",
     "text": [
      "https://inspirehep.net/api/literature?size=250&page=1&q=aff+Honduras+U.+and+ac+1->+10\n",
      "https://inspirehep.net/api/literature?size=250&page=1&q=aff+Zamorano,+San+Antonio+de+Oriente+and+ac+1->+10\n"
     ]
    }
   ],
   "source": [
    "ii=0\n",
    "len_db_old=0\n",
    "store=1000\n",
    "for c in LA_countries[10:11]:\n",
    "    url=f'https://inspirehep.net/api/institutions?q={c}'\n",
    "    r=requests.get(url)\n",
    "    time.sleep(sleep)\n",
    "\n",
    "    if r.status_code!=200 or not isinstance(r.json(),dict):\n",
    "        print(f'WARNING: {c} failed')\n",
    "        continue\n",
    "\n",
    "    #Institutions of each country\n",
    "    for l in r.json().get('hits').get('hits'):\n",
    "        #============Prepare Output files===========\n",
    "        if ii>0 and ii%store==0 and len(db)!=len_db_old:\n",
    "            len_db_old=len(db)\n",
    "            print('')\n",
    "            print(f'{ii} → db_LA.json updated with size: {len(db)}')\n",
    "            f=open('db_LA.json','w')\n",
    "            json.dump(db,f)\n",
    "            f.close()    \n",
    "        #==================================\n",
    "        #UPDATE LISTS\n",
    "        if db:\n",
    "            idsLA=[d.get('LA_institution_id') for d in db]\n",
    "            idsAU=[d.get('author_id') for d in db]\n",
    "            db_index=get_index(db)\n",
    "        else:\n",
    "            idsLA=[]\n",
    "            idsAU=[]\n",
    "            db_index={}\n",
    "        \n",
    "        if l.get('metadata').get('number_of_papers')==0:\n",
    "            continue\n",
    "        aff=l.get('metadata').get('legacy_ICN').replace(' ','+')\n",
    "        urlaff=f'https://inspirehep.net/api/literature?size=250&page=1&q=aff+{aff}+and+ac+1->+10'\n",
    "        rl=requests.get( urlaff  )\n",
    "        time.sleep(sleep)\n",
    "        \n",
    "        if rl.status_code!=200 or not isinstance(rl.json(),dict):\n",
    "            print(f'WARNING: {c}→{aff} failed')\n",
    "            continue\n",
    "        if not rl.json().get('hits').get('hits'):\n",
    "            continue\n",
    "            \n",
    "        for ll in rl.json().get('hits').get('hits'):\n",
    "            ii=ii+1\n",
    "            print(ii,end='\\r')\n",
    "            lit=ll.get('metadata')\n",
    "\n",
    "            la=lit.get('authors')\n",
    "            FoS=[]\n",
    "            try:\n",
    "                PAC=lit['primary_arxiv_category']\n",
    "            except:\n",
    "                PAC=[]\n",
    "            for a in la:\n",
    "                CONTINUE,author_id,url_author,FoS,PAC=get_work(db,a,idsLA,idsAU,db_index,FoS,PAC)\n",
    "                if CONTINUE:\n",
    "                    continue #Next author\n",
    "                #affiliations... → LA required\n",
    "                li=a.get('affiliations')\n",
    "                if not li:\n",
    "                    continue #Next author\n",
    "                for i in li:\n",
    "                    #(2) institutions API\n",
    "                    CONTINUE,inst_id,inst_name,country,esi=get_institutions(db,i,idsLA,idsAU,db_index,FoS,sleep)\n",
    "                    if CONTINUE: #Not LA institutiion\n",
    "                        continue #next institution\n",
    "                    #(3) author API\n",
    "                    positions,email_addresses,name,aids=get_author(url_author)\n",
    "                    db.append(\n",
    "                        {'author_id':author_id,\n",
    "                         'name':name,\n",
    "                         'LA_institution_id':inst_id,\n",
    "                         'external_system_identifiers':esi,\n",
    "                         'LA_country':country,\n",
    "                         'LA_institution':inst_name,\n",
    "                         'email_addresses':email_addresses,\n",
    "                         'positions':positions,\n",
    "                         'ids':aids,\n",
    "                         'primary_arxiv_category':PAC,\n",
    "                         'Fields of Study': FoS # in ['Particle physics','Cosmology','Astrophysics','Mathematical physics']\n",
    "                        }\n",
    "                    )\n",
    "            #raise Exception('stop')"
   ]
  },
  {
   "cell_type": "code",
   "execution_count": 9,
   "id": "c328d049-880c-4562-85d2-c0fb7b811bb9",
   "metadata": {},
   "outputs": [
    {
     "data": {
      "text/html": [
       "<div>\n",
       "<style scoped>\n",
       "    .dataframe tbody tr th:only-of-type {\n",
       "        vertical-align: middle;\n",
       "    }\n",
       "\n",
       "    .dataframe tbody tr th {\n",
       "        vertical-align: top;\n",
       "    }\n",
       "\n",
       "    .dataframe thead th {\n",
       "        text-align: right;\n",
       "    }\n",
       "</style>\n",
       "<table border=\"1\" class=\"dataframe\">\n",
       "  <thead>\n",
       "    <tr style=\"text-align: right;\">\n",
       "      <th></th>\n",
       "      <th>author_id</th>\n",
       "      <th>name</th>\n",
       "      <th>LA_institution_id</th>\n",
       "      <th>external_system_identifiers</th>\n",
       "      <th>LA_country</th>\n",
       "      <th>LA_institution</th>\n",
       "      <th>email_addresses</th>\n",
       "      <th>positions</th>\n",
       "      <th>ids</th>\n",
       "      <th>primary_arxiv_category</th>\n",
       "      <th>Fields of Study</th>\n",
       "    </tr>\n",
       "  </thead>\n",
       "  <tbody>\n",
       "    <tr>\n",
       "      <th>0</th>\n",
       "      <td>1262260</td>\n",
       "      <td>{'value': 'Cruz Torres, Melissa Maria', 'name_...</td>\n",
       "      <td>904629</td>\n",
       "      <td>[{'value': 'INST-26174', 'schema': 'SPIRES'}]</td>\n",
       "      <td>Honduras</td>\n",
       "      <td>Honduras U.</td>\n",
       "      <td>[{'value': 'melissa.maria.cruz.torres@cern.ch'...</td>\n",
       "      <td>[{'record': {'$ref': 'https://inspirehep.net/a...</td>\n",
       "      <td>[{'value': '0000-0003-2607-131X', 'schema': 'O...</td>\n",
       "      <td>[]</td>\n",
       "      <td>[]</td>\n",
       "    </tr>\n",
       "    <tr>\n",
       "      <th>1</th>\n",
       "      <td>1010084</td>\n",
       "      <td>{'value': 'Ferreira, Erasmo', 'preferred_name'...</td>\n",
       "      <td>903159</td>\n",
       "      <td>[{'value': 'grid.4839.6', 'schema': 'GRID'}, {...</td>\n",
       "      <td>Brazil</td>\n",
       "      <td>Rio de Janeiro, Pont. U. Catol.</td>\n",
       "      <td>[{'value': 'erasmo@if.ufrj.br', 'current': True}]</td>\n",
       "      <td>[{'rank': 'SENIOR', 'record': {'$ref': 'https:...</td>\n",
       "      <td>[{'value': '0000-0002-3126-2500', 'schema': 'O...</td>\n",
       "      <td>[]</td>\n",
       "      <td>[]</td>\n",
       "    </tr>\n",
       "    <tr>\n",
       "      <th>2</th>\n",
       "      <td>1010084</td>\n",
       "      <td>{'value': 'Ferreira, Erasmo', 'preferred_name'...</td>\n",
       "      <td>903159</td>\n",
       "      <td>[{'value': 'grid.4839.6', 'schema': 'GRID'}, {...</td>\n",
       "      <td>Brazil</td>\n",
       "      <td>Rio de Janeiro, Pont. U. Catol.</td>\n",
       "      <td>[{'value': 'erasmo@if.ufrj.br', 'current': True}]</td>\n",
       "      <td>[{'rank': 'SENIOR', 'record': {'$ref': 'https:...</td>\n",
       "      <td>[{'value': '0000-0002-3126-2500', 'schema': 'O...</td>\n",
       "      <td>[]</td>\n",
       "      <td>[]</td>\n",
       "    </tr>\n",
       "    <tr>\n",
       "      <th>3</th>\n",
       "      <td>1074631</td>\n",
       "      <td>{'value': 'Agón, César Alfonso', 'name_variant...</td>\n",
       "      <td>904287</td>\n",
       "      <td>[{'value': 'grid.9486.3', 'schema': 'GRID'}, {...</td>\n",
       "      <td>Mexico</td>\n",
       "      <td>Mexico U., ICN</td>\n",
       "      <td>[{'value': 'cesar.agon@stonybrook.edu', 'curre...</td>\n",
       "      <td>[{'rank': 'POSTDOC', 'record': {'$ref': 'https...</td>\n",
       "      <td>[{'value': '0000-0002-8903-7074', 'schema': 'O...</td>\n",
       "      <td>[hep-th]</td>\n",
       "      <td>[]</td>\n",
       "    </tr>\n",
       "    <tr>\n",
       "      <th>4</th>\n",
       "      <td>1007297</td>\n",
       "      <td>{'value': 'Guijosa, Alberto', 'preferred_name'...</td>\n",
       "      <td>904287</td>\n",
       "      <td>[{'value': 'grid.9486.3', 'schema': 'GRID'}, {...</td>\n",
       "      <td>Mexico</td>\n",
       "      <td>Mexico U., ICN</td>\n",
       "      <td>[{'value': 'alberto@nucleares.unam.mx', 'curre...</td>\n",
       "      <td>[{'rank': 'SENIOR', 'record': {'$ref': 'https:...</td>\n",
       "      <td>[{'value': '0000-0003-2754-8394', 'schema': 'O...</td>\n",
       "      <td>[hep-th]</td>\n",
       "      <td>[]</td>\n",
       "    </tr>\n",
       "    <tr>\n",
       "      <th>5</th>\n",
       "      <td>1273983</td>\n",
       "      <td>{'value': 'Larios-López, Bryan O.', 'name_vari...</td>\n",
       "      <td>904629</td>\n",
       "      <td>[{'value': 'INST-26174', 'schema': 'SPIRES'}]</td>\n",
       "      <td>Honduras</td>\n",
       "      <td>Honduras U.</td>\n",
       "      <td>[]</td>\n",
       "      <td>[{'rank': 'SENIOR', 'record': {'$ref': 'https:...</td>\n",
       "      <td>[{'value': '0000-0001-5368-5566', 'schema': 'O...</td>\n",
       "      <td>[hep-th]</td>\n",
       "      <td>[]</td>\n",
       "    </tr>\n",
       "    <tr>\n",
       "      <th>6</th>\n",
       "      <td>1835921</td>\n",
       "      <td>{'value': 'Flores-Alfonso, Daniel', 'name_vari...</td>\n",
       "      <td>905319</td>\n",
       "      <td>[{'value': 'grid.7220.7', 'schema': 'GRID'}, {...</td>\n",
       "      <td>Mexico</td>\n",
       "      <td>Mexico City U., Iztapalapa</td>\n",
       "      <td>[{'value': 'daniel.flores@cinvestav.mx', 'curr...</td>\n",
       "      <td>[{'rank': 'POSTDOC', 'record': {'$ref': 'https...</td>\n",
       "      <td>[{'value': 'D.Flores.Alfonso.1', 'schema': 'IN...</td>\n",
       "      <td>[gr-qc]</td>\n",
       "      <td>[]</td>\n",
       "    </tr>\n",
       "    <tr>\n",
       "      <th>7</th>\n",
       "      <td>1273983</td>\n",
       "      <td>{'value': 'Larios-López, Bryan O.', 'name_vari...</td>\n",
       "      <td>904629</td>\n",
       "      <td>[{'value': 'INST-26174', 'schema': 'SPIRES'}]</td>\n",
       "      <td>Honduras</td>\n",
       "      <td>Honduras U.</td>\n",
       "      <td>[]</td>\n",
       "      <td>[{'rank': 'SENIOR', 'record': {'$ref': 'https:...</td>\n",
       "      <td>[{'value': '0000-0001-5368-5566', 'schema': 'O...</td>\n",
       "      <td>[gr-qc]</td>\n",
       "      <td>[]</td>\n",
       "    </tr>\n",
       "    <tr>\n",
       "      <th>8</th>\n",
       "      <td>1273983</td>\n",
       "      <td>{'value': 'Larios-López, Bryan O.', 'name_vari...</td>\n",
       "      <td>910964</td>\n",
       "      <td>[{'value': 'grid.440446.6', 'schema': 'GRID'},...</td>\n",
       "      <td>Mexico</td>\n",
       "      <td>Chiapas Autonoma U.</td>\n",
       "      <td>[]</td>\n",
       "      <td>[{'rank': 'SENIOR', 'record': {'$ref': 'https:...</td>\n",
       "      <td>[{'value': '0000-0001-5368-5566', 'schema': 'O...</td>\n",
       "      <td>[gr-qc]</td>\n",
       "      <td>[]</td>\n",
       "    </tr>\n",
       "    <tr>\n",
       "      <th>9</th>\n",
       "      <td>1065381</td>\n",
       "      <td>{'value': 'Avilez, Ana A.', 'name_variants': [...</td>\n",
       "      <td>908048</td>\n",
       "      <td>[{'value': 'grid.411659.e', 'schema': 'GRID'},...</td>\n",
       "      <td>Mexico</td>\n",
       "      <td>Puebla U., Inst. Fis.</td>\n",
       "      <td>[]</td>\n",
       "      <td>[{'rank': 'PHD', 'record': {'$ref': 'https://i...</td>\n",
       "      <td>[{'value': 'A.Avilez.1', 'schema': 'INSPIRE BA...</td>\n",
       "      <td>[hep-th]</td>\n",
       "      <td>[]</td>\n",
       "    </tr>\n",
       "    <tr>\n",
       "      <th>10</th>\n",
       "      <td>1065381</td>\n",
       "      <td>{'value': 'Avilez, Ana A.', 'name_variants': [...</td>\n",
       "      <td>904394</td>\n",
       "      <td>[{'value': 'grid.411659.e', 'schema': 'GRID'},...</td>\n",
       "      <td>Mexico</td>\n",
       "      <td>Puebla U., Mexico</td>\n",
       "      <td>[]</td>\n",
       "      <td>[{'rank': 'PHD', 'record': {'$ref': 'https://i...</td>\n",
       "      <td>[{'value': 'A.Avilez.1', 'schema': 'INSPIRE BA...</td>\n",
       "      <td>[hep-th]</td>\n",
       "      <td>[]</td>\n",
       "    </tr>\n",
       "    <tr>\n",
       "      <th>11</th>\n",
       "      <td>1273983</td>\n",
       "      <td>{'value': 'Larios-López, Bryan O.', 'name_vari...</td>\n",
       "      <td>904629</td>\n",
       "      <td>[{'value': 'INST-26174', 'schema': 'SPIRES'}]</td>\n",
       "      <td>Honduras</td>\n",
       "      <td>Honduras U.</td>\n",
       "      <td>[]</td>\n",
       "      <td>[{'rank': 'SENIOR', 'record': {'$ref': 'https:...</td>\n",
       "      <td>[{'value': '0000-0001-5368-5566', 'schema': 'O...</td>\n",
       "      <td>[hep-th]</td>\n",
       "      <td>[]</td>\n",
       "    </tr>\n",
       "    <tr>\n",
       "      <th>12</th>\n",
       "      <td>1273983</td>\n",
       "      <td>{'value': 'Larios-López, Bryan O.', 'name_vari...</td>\n",
       "      <td>908048</td>\n",
       "      <td>[{'value': 'grid.411659.e', 'schema': 'GRID'},...</td>\n",
       "      <td>Mexico</td>\n",
       "      <td>Puebla U., Inst. Fis.</td>\n",
       "      <td>[]</td>\n",
       "      <td>[{'rank': 'SENIOR', 'record': {'$ref': 'https:...</td>\n",
       "      <td>[{'value': '0000-0001-5368-5566', 'schema': 'O...</td>\n",
       "      <td>[hep-th]</td>\n",
       "      <td>[]</td>\n",
       "    </tr>\n",
       "    <tr>\n",
       "      <th>13</th>\n",
       "      <td>1010084</td>\n",
       "      <td>{'value': 'Ferreira, Erasmo', 'preferred_name'...</td>\n",
       "      <td>903159</td>\n",
       "      <td>[{'value': 'grid.4839.6', 'schema': 'GRID'}, {...</td>\n",
       "      <td>Brazil</td>\n",
       "      <td>Rio de Janeiro, Pont. U. Catol.</td>\n",
       "      <td>[{'value': 'erasmo@if.ufrj.br', 'current': True}]</td>\n",
       "      <td>[{'rank': 'SENIOR', 'record': {'$ref': 'https:...</td>\n",
       "      <td>[{'value': '0000-0002-3126-2500', 'schema': 'O...</td>\n",
       "      <td>[]</td>\n",
       "      <td>[]</td>\n",
       "    </tr>\n",
       "    <tr>\n",
       "      <th>14</th>\n",
       "      <td>1010084</td>\n",
       "      <td>{'value': 'Ferreira, Erasmo', 'preferred_name'...</td>\n",
       "      <td>903160</td>\n",
       "      <td>[{'value': 'grid.8536.8', 'schema': 'GRID'}, {...</td>\n",
       "      <td>Brazil</td>\n",
       "      <td>Rio de Janeiro Federal U.</td>\n",
       "      <td>[{'value': 'erasmo@if.ufrj.br', 'current': True}]</td>\n",
       "      <td>[{'rank': 'SENIOR', 'record': {'$ref': 'https:...</td>\n",
       "      <td>[{'value': '0000-0002-3126-2500', 'schema': 'O...</td>\n",
       "      <td>[]</td>\n",
       "      <td>[]</td>\n",
       "    </tr>\n",
       "    <tr>\n",
       "      <th>15</th>\n",
       "      <td>1056763</td>\n",
       "      <td>{'value': 'Pereira, Flavio Irineu Mendes', 'na...</td>\n",
       "      <td>904810</td>\n",
       "      <td>[{'value': 'grid.440576.4', 'schema': 'GRID'},...</td>\n",
       "      <td>Brazil</td>\n",
       "      <td>Rio de Janeiro Observ.</td>\n",
       "      <td>[{'value': 'flavio@on.br', 'current': True}]</td>\n",
       "      <td>[{'rank': 'STAFF', 'record': {'$ref': 'https:/...</td>\n",
       "      <td>[{'value': '0000-0002-2150-5740', 'schema': 'O...</td>\n",
       "      <td>[]</td>\n",
       "      <td>[]</td>\n",
       "    </tr>\n",
       "  </tbody>\n",
       "</table>\n",
       "</div>"
      ],
      "text/plain": [
       "   author_id                                               name  \\\n",
       "0    1262260  {'value': 'Cruz Torres, Melissa Maria', 'name_...   \n",
       "1    1010084  {'value': 'Ferreira, Erasmo', 'preferred_name'...   \n",
       "2    1010084  {'value': 'Ferreira, Erasmo', 'preferred_name'...   \n",
       "3    1074631  {'value': 'Agón, César Alfonso', 'name_variant...   \n",
       "4    1007297  {'value': 'Guijosa, Alberto', 'preferred_name'...   \n",
       "5    1273983  {'value': 'Larios-López, Bryan O.', 'name_vari...   \n",
       "6    1835921  {'value': 'Flores-Alfonso, Daniel', 'name_vari...   \n",
       "7    1273983  {'value': 'Larios-López, Bryan O.', 'name_vari...   \n",
       "8    1273983  {'value': 'Larios-López, Bryan O.', 'name_vari...   \n",
       "9    1065381  {'value': 'Avilez, Ana A.', 'name_variants': [...   \n",
       "10   1065381  {'value': 'Avilez, Ana A.', 'name_variants': [...   \n",
       "11   1273983  {'value': 'Larios-López, Bryan O.', 'name_vari...   \n",
       "12   1273983  {'value': 'Larios-López, Bryan O.', 'name_vari...   \n",
       "13   1010084  {'value': 'Ferreira, Erasmo', 'preferred_name'...   \n",
       "14   1010084  {'value': 'Ferreira, Erasmo', 'preferred_name'...   \n",
       "15   1056763  {'value': 'Pereira, Flavio Irineu Mendes', 'na...   \n",
       "\n",
       "   LA_institution_id                        external_system_identifiers  \\\n",
       "0             904629      [{'value': 'INST-26174', 'schema': 'SPIRES'}]   \n",
       "1             903159  [{'value': 'grid.4839.6', 'schema': 'GRID'}, {...   \n",
       "2             903159  [{'value': 'grid.4839.6', 'schema': 'GRID'}, {...   \n",
       "3             904287  [{'value': 'grid.9486.3', 'schema': 'GRID'}, {...   \n",
       "4             904287  [{'value': 'grid.9486.3', 'schema': 'GRID'}, {...   \n",
       "5             904629      [{'value': 'INST-26174', 'schema': 'SPIRES'}]   \n",
       "6             905319  [{'value': 'grid.7220.7', 'schema': 'GRID'}, {...   \n",
       "7             904629      [{'value': 'INST-26174', 'schema': 'SPIRES'}]   \n",
       "8             910964  [{'value': 'grid.440446.6', 'schema': 'GRID'},...   \n",
       "9             908048  [{'value': 'grid.411659.e', 'schema': 'GRID'},...   \n",
       "10            904394  [{'value': 'grid.411659.e', 'schema': 'GRID'},...   \n",
       "11            904629      [{'value': 'INST-26174', 'schema': 'SPIRES'}]   \n",
       "12            908048  [{'value': 'grid.411659.e', 'schema': 'GRID'},...   \n",
       "13            903159  [{'value': 'grid.4839.6', 'schema': 'GRID'}, {...   \n",
       "14            903160  [{'value': 'grid.8536.8', 'schema': 'GRID'}, {...   \n",
       "15            904810  [{'value': 'grid.440576.4', 'schema': 'GRID'},...   \n",
       "\n",
       "   LA_country                   LA_institution  \\\n",
       "0    Honduras                      Honduras U.   \n",
       "1      Brazil  Rio de Janeiro, Pont. U. Catol.   \n",
       "2      Brazil  Rio de Janeiro, Pont. U. Catol.   \n",
       "3      Mexico                   Mexico U., ICN   \n",
       "4      Mexico                   Mexico U., ICN   \n",
       "5    Honduras                      Honduras U.   \n",
       "6      Mexico       Mexico City U., Iztapalapa   \n",
       "7    Honduras                      Honduras U.   \n",
       "8      Mexico              Chiapas Autonoma U.   \n",
       "9      Mexico            Puebla U., Inst. Fis.   \n",
       "10     Mexico                Puebla U., Mexico   \n",
       "11   Honduras                      Honduras U.   \n",
       "12     Mexico            Puebla U., Inst. Fis.   \n",
       "13     Brazil  Rio de Janeiro, Pont. U. Catol.   \n",
       "14     Brazil        Rio de Janeiro Federal U.   \n",
       "15     Brazil           Rio de Janeiro Observ.   \n",
       "\n",
       "                                      email_addresses  \\\n",
       "0   [{'value': 'melissa.maria.cruz.torres@cern.ch'...   \n",
       "1   [{'value': 'erasmo@if.ufrj.br', 'current': True}]   \n",
       "2   [{'value': 'erasmo@if.ufrj.br', 'current': True}]   \n",
       "3   [{'value': 'cesar.agon@stonybrook.edu', 'curre...   \n",
       "4   [{'value': 'alberto@nucleares.unam.mx', 'curre...   \n",
       "5                                                  []   \n",
       "6   [{'value': 'daniel.flores@cinvestav.mx', 'curr...   \n",
       "7                                                  []   \n",
       "8                                                  []   \n",
       "9                                                  []   \n",
       "10                                                 []   \n",
       "11                                                 []   \n",
       "12                                                 []   \n",
       "13  [{'value': 'erasmo@if.ufrj.br', 'current': True}]   \n",
       "14  [{'value': 'erasmo@if.ufrj.br', 'current': True}]   \n",
       "15       [{'value': 'flavio@on.br', 'current': True}]   \n",
       "\n",
       "                                            positions  \\\n",
       "0   [{'record': {'$ref': 'https://inspirehep.net/a...   \n",
       "1   [{'rank': 'SENIOR', 'record': {'$ref': 'https:...   \n",
       "2   [{'rank': 'SENIOR', 'record': {'$ref': 'https:...   \n",
       "3   [{'rank': 'POSTDOC', 'record': {'$ref': 'https...   \n",
       "4   [{'rank': 'SENIOR', 'record': {'$ref': 'https:...   \n",
       "5   [{'rank': 'SENIOR', 'record': {'$ref': 'https:...   \n",
       "6   [{'rank': 'POSTDOC', 'record': {'$ref': 'https...   \n",
       "7   [{'rank': 'SENIOR', 'record': {'$ref': 'https:...   \n",
       "8   [{'rank': 'SENIOR', 'record': {'$ref': 'https:...   \n",
       "9   [{'rank': 'PHD', 'record': {'$ref': 'https://i...   \n",
       "10  [{'rank': 'PHD', 'record': {'$ref': 'https://i...   \n",
       "11  [{'rank': 'SENIOR', 'record': {'$ref': 'https:...   \n",
       "12  [{'rank': 'SENIOR', 'record': {'$ref': 'https:...   \n",
       "13  [{'rank': 'SENIOR', 'record': {'$ref': 'https:...   \n",
       "14  [{'rank': 'SENIOR', 'record': {'$ref': 'https:...   \n",
       "15  [{'rank': 'STAFF', 'record': {'$ref': 'https:/...   \n",
       "\n",
       "                                                  ids primary_arxiv_category  \\\n",
       "0   [{'value': '0000-0003-2607-131X', 'schema': 'O...                     []   \n",
       "1   [{'value': '0000-0002-3126-2500', 'schema': 'O...                     []   \n",
       "2   [{'value': '0000-0002-3126-2500', 'schema': 'O...                     []   \n",
       "3   [{'value': '0000-0002-8903-7074', 'schema': 'O...               [hep-th]   \n",
       "4   [{'value': '0000-0003-2754-8394', 'schema': 'O...               [hep-th]   \n",
       "5   [{'value': '0000-0001-5368-5566', 'schema': 'O...               [hep-th]   \n",
       "6   [{'value': 'D.Flores.Alfonso.1', 'schema': 'IN...                [gr-qc]   \n",
       "7   [{'value': '0000-0001-5368-5566', 'schema': 'O...                [gr-qc]   \n",
       "8   [{'value': '0000-0001-5368-5566', 'schema': 'O...                [gr-qc]   \n",
       "9   [{'value': 'A.Avilez.1', 'schema': 'INSPIRE BA...               [hep-th]   \n",
       "10  [{'value': 'A.Avilez.1', 'schema': 'INSPIRE BA...               [hep-th]   \n",
       "11  [{'value': '0000-0001-5368-5566', 'schema': 'O...               [hep-th]   \n",
       "12  [{'value': '0000-0001-5368-5566', 'schema': 'O...               [hep-th]   \n",
       "13  [{'value': '0000-0002-3126-2500', 'schema': 'O...                     []   \n",
       "14  [{'value': '0000-0002-3126-2500', 'schema': 'O...                     []   \n",
       "15  [{'value': '0000-0002-2150-5740', 'schema': 'O...                     []   \n",
       "\n",
       "   Fields of Study  \n",
       "0               []  \n",
       "1               []  \n",
       "2               []  \n",
       "3               []  \n",
       "4               []  \n",
       "5               []  \n",
       "6               []  \n",
       "7               []  \n",
       "8               []  \n",
       "9               []  \n",
       "10              []  \n",
       "11              []  \n",
       "12              []  \n",
       "13              []  \n",
       "14              []  \n",
       "15              []  "
      ]
     },
     "execution_count": 9,
     "metadata": {},
     "output_type": "execute_result"
    }
   ],
   "source": [
    "pd.DataFrame(db)"
   ]
  },
  {
   "cell_type": "markdown",
   "id": "4c31afbf-d0f7-4a6d-b1ef-5e44c0e5b039",
   "metadata": {},
   "source": [
    "## Search for collaborations\n",
    "* https://inspirehep.net/literature?sort=mostrecent&q=ac%3E10\n",
    "* Search athors from db and get check if institution is froma LA\n",
    "\n",
    "### [collaborations.ipynb](./collaborations.ipynb)"
   ]
  },
  {
   "cell_type": "markdown",
   "id": "0a645a65-488b-4469-85fd-b9cd0eccc789",
   "metadata": {},
   "source": [
    "## Other countries\n",
    "https://inspirehep.net/institutions?sort=mostrecent&size=25&page=1&q=Dominican+Republic"
   ]
  },
  {
   "cell_type": "markdown",
   "id": "be32fbd0-6afc-410d-ba8a-79a2b2828918",
   "metadata": {},
   "source": [
    "## Load database and simplify fields"
   ]
  },
  {
   "cell_type": "code",
   "execution_count": 358,
   "id": "0943f2cd-f8ef-4e5e-929b-19b5abb414b9",
   "metadata": {},
   "outputs": [],
   "source": [
    "import pandas as pd"
   ]
  },
  {
   "cell_type": "code",
   "execution_count": 359,
   "id": "618e3f88-0e61-4838-b1f8-c5bf19aa7cbe",
   "metadata": {},
   "outputs": [],
   "source": [
    "df=pd.read_json('data/db_LA.json',dtype={'author_id':str, 'LA_institution_id':str})"
   ]
  },
  {
   "cell_type": "code",
   "execution_count": 360,
   "id": "6df6e474-b0f5-41b5-b928-b5e54605f333",
   "metadata": {},
   "outputs": [
    {
     "data": {
      "text/plain": [
       "(3105, 11)"
      ]
     },
     "execution_count": 360,
     "metadata": {},
     "output_type": "execute_result"
    }
   ],
   "source": [
    "df.shape"
   ]
  },
  {
   "cell_type": "code",
   "execution_count": 361,
   "id": "a8752d04-cb99-4dbd-97eb-190093ab2889",
   "metadata": {},
   "outputs": [],
   "source": [
    "df=df[df['email_addresses'].apply(len)>0].reset_index(drop=True)"
   ]
  },
  {
   "cell_type": "code",
   "execution_count": 362,
   "id": "6596e71d-9604-4ff3-b9d0-c1551f1d2095",
   "metadata": {},
   "outputs": [
    {
     "data": {
      "text/plain": [
       "(1960, 11)"
      ]
     },
     "execution_count": 362,
     "metadata": {},
     "output_type": "execute_result"
    }
   ],
   "source": [
    "df.shape"
   ]
  },
  {
   "cell_type": "code",
   "execution_count": 363,
   "id": "78c7579f-a528-41dd-8f47-f60435ae0239",
   "metadata": {},
   "outputs": [
    {
     "data": {
      "text/plain": [
       "(1669,)"
      ]
     },
     "execution_count": 363,
     "metadata": {},
     "output_type": "execute_result"
    }
   ],
   "source": [
    "df['author_id'].drop_duplicates().shape"
   ]
  },
  {
   "cell_type": "code",
   "execution_count": 364,
   "id": "d086992e-aa4c-4b85-b095-0867dac0f2d2",
   "metadata": {},
   "outputs": [],
   "source": [
    "df['full_name']=df['name'].str.get('value')"
   ]
  },
  {
   "cell_type": "code",
   "execution_count": 365,
   "id": "0ce222bd-083c-416e-b8b6-f3e886ddb2ef",
   "metadata": {},
   "outputs": [],
   "source": [
    "def get_email(l):\n",
    "    current=False\n",
    "    for d in l:\n",
    "        if d.get('current'):\n",
    "            email=d.get('value')\n",
    "            current=True\n",
    "    if l and not current:\n",
    "        email=l[0].get('value')\n",
    "    return email"
   ]
  },
  {
   "cell_type": "code",
   "execution_count": 366,
   "id": "b6a30196-92f6-4204-892e-f9f6934c197f",
   "metadata": {},
   "outputs": [],
   "source": [
    "df['email']=df['email_addresses'].apply(get_email)"
   ]
  },
  {
   "cell_type": "code",
   "execution_count": 367,
   "id": "4b6cfbb2-6960-4e67-8383-9b5c01a26369",
   "metadata": {},
   "outputs": [],
   "source": [
    "df['current_position']=df['positions'].apply(lambda l: [d.get('rank') for d in l if d.get('rank') and d.get('current')]).str[0].fillna('Unknown')"
   ]
  },
  {
   "cell_type": "code",
   "execution_count": 368,
   "id": "32c033a1-be36-42bd-bebd-0ee45bdd76bf",
   "metadata": {},
   "outputs": [
    {
     "data": {
      "text/plain": [
       "Index(['author_id', 'name', 'LA_institution_id', 'external_system_identifiers',\n",
       "       'LA_country', 'LA_institution', 'email_addresses', 'positions', 'ids',\n",
       "       'primary_arxiv_category', 'Fields of Study', 'full_name', 'email',\n",
       "       'current_position'],\n",
       "      dtype='object')"
      ]
     },
     "execution_count": 368,
     "metadata": {},
     "output_type": "execute_result"
    }
   ],
   "source": [
    "df.columns"
   ]
  },
  {
   "cell_type": "code",
   "execution_count": 369,
   "id": "aad115dd-2070-40ce-be15-c1f68b13a373",
   "metadata": {},
   "outputs": [],
   "source": [
    "def get_institution(row):\n",
    "    instituion=''\n",
    "    l=[d.get('institution') for d in row.get('positions') if d.get('rank') and d.get('current')]\n",
    "    if l:\n",
    "        instituion=l[0]\n",
    "    else:\n",
    "        instituion=row.get('LA_institution')\n",
    "    return instituion"
   ]
  },
  {
   "cell_type": "code",
   "execution_count": 370,
   "id": "f97d7f87-ff50-47e3-9a18-ceef37970f1e",
   "metadata": {},
   "outputs": [],
   "source": [
    "df['current_institution']=df.apply(get_institution, axis='columns')"
   ]
  },
  {
   "cell_type": "code",
   "execution_count": 371,
   "id": "29a946bf-e03b-48f3-9b9c-0f317ec74883",
   "metadata": {},
   "outputs": [],
   "source": [
    "df['ORCID']=df['ids'].apply(lambda l: [d.get('value') for d in l if d.get('schema')=='ORCID']).str[0].fillna('')"
   ]
  },
  {
   "cell_type": "code",
   "execution_count": 372,
   "id": "09a3d6ce-b65f-487d-b1a6-1bb0f781af15",
   "metadata": {
    "tags": []
   },
   "outputs": [],
   "source": [
    "df['Fields_of_Study']=df['Fields of Study'].apply(lambda l: '; '.join(l))"
   ]
  },
  {
   "cell_type": "code",
   "execution_count": 373,
   "id": "52b25b0a-c7b3-4fbf-b6e5-02d0128dcce9",
   "metadata": {},
   "outputs": [],
   "source": [
    "df['primary_arXiv_category']=df['primary_arxiv_category'].apply(lambda l: '; '.join(l))"
   ]
  },
  {
   "cell_type": "code",
   "execution_count": 374,
   "id": "8e417ca4-57a1-4365-b200-fbfd5a28e744",
   "metadata": {},
   "outputs": [],
   "source": [
    "pd.set_option('display.max_rows', 50)"
   ]
  },
  {
   "cell_type": "code",
   "execution_count": 378,
   "id": "2a7d1b7d-e7a8-4392-a29c-904f35c8da05",
   "metadata": {},
   "outputs": [],
   "source": [
    "#df[:1]"
   ]
  },
  {
   "cell_type": "code",
   "execution_count": 379,
   "id": "3ca8e1e5-0b53-4857-867e-fe6e6b610122",
   "metadata": {},
   "outputs": [],
   "source": [
    "dfx=df[['author_id', 'full_name', 'email','LA_institution_id', \n",
    "       'LA_country', 'LA_institution', 'current_institution',  'current_position', 'ORCID',\n",
    "       'Fields_of_Study','primary_arXiv_category']]\n",
    "dfx.to_csv('data/db_LA.csv',index=False)\n",
    "dfx.to_excel('data/db_LA.xlsx',index=False)"
   ]
  },
  {
   "cell_type": "code",
   "execution_count": null,
   "id": "5009b2d2-2779-47f1-990d-a3e1e1c259f8",
   "metadata": {},
   "outputs": [],
   "source": [
    "from IPython import display"
   ]
  },
  {
   "cell_type": "code",
   "execution_count": 380,
   "id": "53c49e8b-13c6-49cb-a1f0-ce1abcedce24",
   "metadata": {},
   "outputs": [
    {
     "data": {
      "application/json": {
       "Fields_of_Study": "Mathematical physics; Cosmology; DES; Astrophysics; Particle physics",
       "LA_country": "Brazil",
       "LA_institution": "LIneA, Rio de Janeiro",
       "LA_institution_id": "1373228",
       "ORCID": "",
       "author_id": "991245",
       "current_institution": "Sao Paulo, IFT",
       "current_position": "SENIOR",
       "email": "rosenfel@ift.unesp.br",
       "full_name": "Rosenfeld, Rogerio",
       "primary_arXiv_category": "hep-ph; astro-ph.CO; gr-qc"
      },
      "text/plain": [
       "<IPython.core.display.JSON object>"
      ]
     },
     "execution_count": 380,
     "metadata": {
      "application/json": {
       "expanded": false,
       "root": "root"
      }
     },
     "output_type": "execute_result"
    }
   ],
   "source": [
    "display.JSON(dfx[dfx.full_name.str.contains('Rosenfeld')].iloc[-1].to_dict())"
   ]
  },
  {
   "cell_type": "code",
   "execution_count": 381,
   "id": "92680660-f849-467d-9bed-cb1cdae2b62c",
   "metadata": {},
   "outputs": [
    {
     "data": {
      "text/plain": [
       "{'ACT',\n",
       " 'AEDGE',\n",
       " 'ALICE',\n",
       " 'AMS',\n",
       " 'ANTARES',\n",
       " 'ATLAS',\n",
       " 'AdvLIGO',\n",
       " 'BDX',\n",
       " 'CDF',\n",
       " 'CMS',\n",
       " 'COMPASS',\n",
       " 'CTA',\n",
       " 'CTA Consortium',\n",
       " 'CTA LST Project',\n",
       " 'CTA Observatory',\n",
       " 'CUPID',\n",
       " 'D0',\n",
       " 'DEAP',\n",
       " 'DES',\n",
       " 'DUNE',\n",
       " 'DarkSide',\n",
       " 'Daya Bay',\n",
       " 'Double Chooz',\n",
       " 'Euclid',\n",
       " 'Event Horizon Telescope',\n",
       " 'Fermi-LAT',\n",
       " 'GlueX',\n",
       " 'H1',\n",
       " 'HADES',\n",
       " 'HAWC',\n",
       " 'HERMES-SP',\n",
       " 'HESS',\n",
       " 'Hess',\n",
       " 'Hyper-Kamiokande',\n",
       " 'IAXO',\n",
       " 'ILC International Development Team',\n",
       " 'IceCube',\n",
       " 'JUNO',\n",
       " 'KAGRA',\n",
       " 'KLF',\n",
       " 'KM3NeT',\n",
       " 'LArIAT',\n",
       " 'LHC Reinterpretation Forum',\n",
       " 'LHCb',\n",
       " 'LHeC',\n",
       " 'LSPE',\n",
       " 'LUX-ZEPLIN',\n",
       " 'LiteBIRD',\n",
       " 'MAGIC',\n",
       " 'MOONS Consortium',\n",
       " 'MPD',\n",
       " 'MSE Science Team',\n",
       " 'Muon Collider',\n",
       " 'NA62',\n",
       " 'NEXT',\n",
       " 'NOvA',\n",
       " 'PHENIX',\n",
       " 'Particle Data Group',\n",
       " 'Pierre Auger',\n",
       " 'QUBIC',\n",
       " 'RD42',\n",
       " 'REDTOP',\n",
       " 'SBND',\n",
       " 'SDSS-IV',\n",
       " 'SHiP',\n",
       " 'SNO+',\n",
       " 'SPT-3G',\n",
       " 'STAR',\n",
       " 'Simons Observatory',\n",
       " 'Super-Kamiokande',\n",
       " 'T2K',\n",
       " 'TOTEM',\n",
       " 'Virgo',\n",
       " 'WA105',\n",
       " 'XENON'}"
      ]
     },
     "execution_count": 381,
     "metadata": {},
     "output_type": "execute_result"
    }
   ],
   "source": [
    "set(collaborations).intersection(df['Fields of Study'].apply(pd.Series).stack().unique())"
   ]
  },
  {
   "cell_type": "code",
   "execution_count": 382,
   "id": "22e25083-6098-4020-a41c-b192b5678305",
   "metadata": {},
   "outputs": [
    {
     "data": {
      "text/plain": [
       "{'ATLAS',\n",
       " 'CMS',\n",
       " 'D0',\n",
       " 'DUNE',\n",
       " 'LHCb',\n",
       " 'LHeC',\n",
       " 'LSPE',\n",
       " 'NEXT',\n",
       " 'NOvA',\n",
       " 'Pierre Auger',\n",
       " 'TOTEM'}"
      ]
     },
     "execution_count": 382,
     "metadata": {},
     "output_type": "execute_result"
    }
   ],
   "source": [
    "set(collaborations).intersection(df[df['LA_country']=='Colombia']['Fields of Study'].apply(pd.Series).stack().unique())"
   ]
  },
  {
   "cell_type": "code",
   "execution_count": 383,
   "id": "0b2721da-35c9-49e0-b4b5-53245d66c3a3",
   "metadata": {},
   "outputs": [
    {
     "data": {
      "text/plain": [
       "{'CMS', 'CTA Observatory', 'D0', 'TOTEM'}"
      ]
     },
     "execution_count": 383,
     "metadata": {},
     "output_type": "execute_result"
    }
   ],
   "source": [
    "set(collaborations).intersection(df[df['LA_country']=='Ecuador']['Fields of Study'].apply(pd.Series).stack().unique())"
   ]
  },
  {
   "cell_type": "code",
   "execution_count": 385,
   "id": "661e0a5e-8bd6-4b32-90d7-0bb0c3cf3c0d",
   "metadata": {},
   "outputs": [
    {
     "data": {
      "text/plain": [
       "{'ALICE', 'DUNE', 'Simons Observatory'}"
      ]
     },
     "execution_count": 385,
     "metadata": {},
     "output_type": "execute_result"
    }
   ],
   "source": [
    "set(collaborations).intersection(df[df['LA_country']=='Peru']['Fields of Study'].apply(pd.Series).stack().unique())"
   ]
  }
 ],
 "metadata": {
  "kernelspec": {
   "display_name": "Python 3 (ipykernel)",
   "language": "python",
   "name": "python3"
  },
  "language_info": {
   "codemirror_mode": {
    "name": "ipython",
    "version": 3
   },
   "file_extension": ".py",
   "mimetype": "text/x-python",
   "name": "python",
   "nbconvert_exporter": "python",
   "pygments_lexer": "ipython3",
   "version": "3.9.2"
  }
 },
 "nbformat": 4,
 "nbformat_minor": 5
}
