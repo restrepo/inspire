{
 "cells": [
  {
   "cell_type": "code",
   "execution_count": 5,
   "id": "fef5f743-ecc6-462a-949c-99c7157ed876",
   "metadata": {},
   "outputs": [],
   "source": [
    "import requests\n",
    "import time\n",
    "import json\n",
    "\n",
    "from inspirehep import *"
   ]
  },
  {
   "cell_type": "code",
   "execution_count": 6,
   "id": "ec27479c-5be7-43cb-83e6-509f4bb400d2",
   "metadata": {},
   "outputs": [],
   "source": [
    "f=open('db_LA.json','r')\n",
    "db=json.load(f)\n",
    "f.close()\n",
    "idsLA=[d.get('LA_institution_id') for d in db]\n",
    "idsAU=[d.get('author_id') for d in db]\n",
    "db_index=get_index(db)"
   ]
  },
  {
   "cell_type": "code",
   "execution_count": 7,
   "id": "9edc1e65-8b5c-4df0-9021-a3210da809ad",
   "metadata": {},
   "outputs": [],
   "source": [
    "db_inst_index=get_index(db,index='LA_institution_id')"
   ]
  },
  {
   "cell_type": "code",
   "execution_count": 8,
   "id": "3159ec65-abc0-4c47-b1fe-5221bd25392e",
   "metadata": {},
   "outputs": [],
   "source": [
    "collaborations=[]\n",
    "collaborations_old=[]"
   ]
  },
  {
   "cell_type": "markdown",
   "id": "ba6fea27-d595-4a6c-b5fd-c161f54671b3",
   "metadata": {},
   "source": [
    "Pagination"
   ]
  },
  {
   "cell_type": "code",
   "execution_count": 9,
   "id": "108ee47b-6ddc-4e48-8171-8204b1499bbe",
   "metadata": {},
   "outputs": [],
   "source": [
    "page=0\n",
    "if len(collaborations)>0 and  collaborations_old!=collaborations:\n",
    "    cn_search='https://inspirehep.net/api/literature?sort=mostrecent&size=25&page=1&q=ac>100+and+de>2018'\n",
    "    cn=f\"{cn_search}+and+not+cn+{'+and+not+cn+'.join(collaborations)}\"\n",
    "else:\n",
    "    #increase pagination\n",
    "    if page==0:\n",
    "        extra=''\n",
    "    else:\n",
    "        extra='+and+not+cn+'\n",
    "    page=page+1\n",
    "    cn_search=f'https://inspirehep.net/api/literature?sort=mostrecent&size=25&page={page}&q=ac>100+and+de>2018'\n",
    "    cn=f\"{cn_search}{extra}{'+and+not+cn+'.join(collaborations)}\""
   ]
  },
  {
   "cell_type": "code",
   "execution_count": 10,
   "id": "cef0a9ed-7c34-498a-a4e3-9f86b71bbafa",
   "metadata": {},
   "outputs": [],
   "source": [
    "r=requests.get(cn)"
   ]
  },
  {
   "cell_type": "code",
   "execution_count": 11,
   "id": "29f0f152-8f15-4d29-be52-29e68dd0ed31",
   "metadata": {},
   "outputs": [],
   "source": [
    "d=r.json()"
   ]
  },
  {
   "cell_type": "code",
   "execution_count": 12,
   "id": "d1e76d6e-9092-4c93-b098-70dca4d10df2",
   "metadata": {},
   "outputs": [
    {
     "data": {
      "text/plain": [
       "2520"
      ]
     },
     "execution_count": 12,
     "metadata": {},
     "output_type": "execute_result"
    }
   ],
   "source": [
    "d.get('hits').get('total')"
   ]
  },
  {
   "cell_type": "code",
   "execution_count": 13,
   "id": "2cb04b3f-4c8e-442c-abd2-919310d72098",
   "metadata": {},
   "outputs": [],
   "source": [
    "l=d.get('hits').get('hits')"
   ]
  },
  {
   "cell_type": "markdown",
   "id": "f4271457-7a1a-4a28-a88e-46b38ba78b90",
   "metadata": {},
   "source": [
    "Not affilation in `'authors'` list for collaborations!"
   ]
  },
  {
   "cell_type": "code",
   "execution_count": 14,
   "id": "8d1d5d84-e730-413e-a569-1bd4f81faa8a",
   "metadata": {},
   "outputs": [],
   "source": [
    "l=l[1:]"
   ]
  },
  {
   "cell_type": "code",
   "execution_count": 15,
   "id": "dd4b53e4-b5ff-4e81-8c77-fd9c401abb34",
   "metadata": {},
   "outputs": [
    {
     "ename": "NameError",
     "evalue": "name 'time' is not defined",
     "output_type": "error",
     "traceback": [
      "\u001b[0;31m---------------------------------------------------------------------------\u001b[0m",
      "\u001b[0;31mNameError\u001b[0m                                 Traceback (most recent call last)",
      "\u001b[0;32m/tmp/ipykernel_1284981/2496759784.py\u001b[0m in \u001b[0;36m<module>\u001b[0;34m\u001b[0m\n\u001b[1;32m     22\u001b[0m         \u001b[0;32mif\u001b[0m \u001b[0mCONTINUE\u001b[0m\u001b[0;34m:\u001b[0m\u001b[0;34m\u001b[0m\u001b[0;34m\u001b[0m\u001b[0m\n\u001b[1;32m     23\u001b[0m             \u001b[0;32mcontinue\u001b[0m \u001b[0;31m#next author\u001b[0m\u001b[0;34m\u001b[0m\u001b[0;34m\u001b[0m\u001b[0m\n\u001b[0;32m---> 24\u001b[0;31m         \u001b[0mpositions\u001b[0m\u001b[0;34m,\u001b[0m\u001b[0memail_addresses\u001b[0m\u001b[0;34m,\u001b[0m\u001b[0mname\u001b[0m\u001b[0;34m,\u001b[0m\u001b[0maids\u001b[0m\u001b[0;34m=\u001b[0m\u001b[0mget_author\u001b[0m\u001b[0;34m(\u001b[0m\u001b[0murl_author\u001b[0m\u001b[0;34m)\u001b[0m \u001b[0;31m#USES API!\u001b[0m\u001b[0;34m\u001b[0m\u001b[0;34m\u001b[0m\u001b[0m\n\u001b[0m\u001b[1;32m     25\u001b[0m         \u001b[0;32mtry\u001b[0m\u001b[0;34m:\u001b[0m\u001b[0;34m\u001b[0m\u001b[0;34m\u001b[0m\u001b[0m\n\u001b[1;32m     26\u001b[0m             inst_id=[d.get('record').get('$ref').split('/')[-1] \n",
      "\u001b[0;32m~/prog/cienciometria/inspire/inspirehep.py\u001b[0m in \u001b[0;36mget_author\u001b[0;34m(url_author)\u001b[0m\n\u001b[1;32m    104\u001b[0m     \"\"\"\n\u001b[1;32m    105\u001b[0m     \u001b[0;32mif\u001b[0m \u001b[0misinstance\u001b[0m\u001b[0;34m(\u001b[0m\u001b[0murl_author\u001b[0m\u001b[0;34m,\u001b[0m\u001b[0mstr\u001b[0m\u001b[0;34m)\u001b[0m\u001b[0;34m:\u001b[0m\u001b[0;34m\u001b[0m\u001b[0;34m\u001b[0m\u001b[0m\n\u001b[0;32m--> 106\u001b[0;31m         \u001b[0mtime\u001b[0m\u001b[0;34m.\u001b[0m\u001b[0msleep\u001b[0m\u001b[0;34m(\u001b[0m\u001b[0msleep\u001b[0m\u001b[0;34m)\u001b[0m\u001b[0;34m\u001b[0m\u001b[0;34m\u001b[0m\u001b[0m\n\u001b[0m\u001b[1;32m    107\u001b[0m         \u001b[0mepa\u001b[0m\u001b[0;34m=\u001b[0m\u001b[0mrequests\u001b[0m\u001b[0;34m.\u001b[0m\u001b[0mget\u001b[0m\u001b[0;34m(\u001b[0m\u001b[0murl_author\u001b[0m\u001b[0;34m)\u001b[0m\u001b[0;34m\u001b[0m\u001b[0;34m\u001b[0m\u001b[0m\n\u001b[1;32m    108\u001b[0m \u001b[0;34m\u001b[0m\u001b[0m\n",
      "\u001b[0;31mNameError\u001b[0m: name 'time' is not defined"
     ]
    }
   ],
   "source": [
    "for ld in l:\n",
    "    lit=ld.get('metadata')\n",
    "    if not lit.get('collaborations'):\n",
    "        continue # next paper\n",
    "    try:\n",
    "        collaboration=lit.get('collaborations')[0].get('value')\n",
    "        FoS=[collaboration]\n",
    "    except:\n",
    "        collaboration=''\n",
    "        FoS=[]\n",
    "\n",
    "    if collaboration in collaborations:\n",
    "        continue #next paper\n",
    "        \n",
    "    try:\n",
    "        PAC=lit['primary_arxiv_category']\n",
    "    except:\n",
    "        PAC=[]\n",
    "    la=lit.get('authors')\n",
    "    for a in la:   \n",
    "        CONTINUE,author_id,url_author,FoS,PAC=get_work(a,idsLA,idsAU,db_index,FoS,PAC)\n",
    "        if CONTINUE:\n",
    "            continue #next author\n",
    "        positions,email_addresses,name,aids=get_author(url_author) #USES API!\n",
    "        try:\n",
    "            inst_id=[d.get('record').get('$ref').split('/')[-1] \n",
    "                 for d in positions if d.get('record') and d.get('current')][0]\n",
    "        except:\n",
    "            inst_id=None\n",
    "        if inst_id not in idsLA:\n",
    "            continue #next author\n",
    "        di=db[db_inst_index[inst_id]]\n",
    "        \n",
    "        new={'author_id':author_id,\n",
    "                 'name':name,\n",
    "                 'LA_institution_id':inst_id,\n",
    "                 'external_system_identifiers':di.get('external_system_identifiers'),\n",
    "                 'LA_country':di.get('LA_country'),\n",
    "                 'LA_institution':di.get('LA_institution'),\n",
    "                 'email_addresses':email_addresses,\n",
    "                 'positions':positions,\n",
    "                 'ids':aids,\n",
    "                 'primary_arxiv_category':PAC,\n",
    "                 'Fields of Study': FoS # in ['Particle physics','Cosmology','Astrophysics','Mathematical physics']\n",
    "                }\n",
    "        db.append(new)\n",
    "        break\n",
    "    collaborations.append(collaboration) #Only after search for all the authors        \n",
    "    break"
   ]
  },
  {
   "cell_type": "code",
   "execution_count": 217,
   "id": "81de7280-cc31-4b49-91fb-43799e5859e5",
   "metadata": {},
   "outputs": [],
   "source": []
  },
  {
   "cell_type": "code",
   "execution_count": null,
   "id": "93c342da-af0b-45ee-bd4d-6885697c1975",
   "metadata": {},
   "outputs": [],
   "source": []
  }
 ],
 "metadata": {
  "kernelspec": {
   "display_name": "Python 3 (ipykernel)",
   "language": "python",
   "name": "python3"
  },
  "language_info": {
   "codemirror_mode": {
    "name": "ipython",
    "version": 3
   },
   "file_extension": ".py",
   "mimetype": "text/x-python",
   "name": "python",
   "nbconvert_exporter": "python",
   "pygments_lexer": "ipython3",
   "version": "3.9.2"
  }
 },
 "nbformat": 4,
 "nbformat_minor": 5
}
