{
 "cells": [
  {
   "cell_type": "code",
   "execution_count": 1,
   "id": "fef5f743-ecc6-462a-949c-99c7157ed876",
   "metadata": {},
   "outputs": [],
   "source": [
    "import requests\n",
    "import time\n",
    "import json\n",
    "\n",
    "from inspirehep import *"
   ]
  },
  {
   "cell_type": "code",
   "execution_count": 2,
   "id": "ec27479c-5be7-43cb-83e6-509f4bb400d2",
   "metadata": {},
   "outputs": [],
   "source": [
    "f=open('data/db_LA.json','r')\n",
    "db=json.load(f)\n",
    "f.close()\n",
    "idsLA=[d.get('LA_institution_id') for d in db]\n",
    "idsAU=[d.get('author_id') for d in db]\n",
    "db_index=get_index(db)"
   ]
  },
  {
   "cell_type": "code",
   "execution_count": 3,
   "id": "9edc1e65-8b5c-4df0-9021-a3210da809ad",
   "metadata": {},
   "outputs": [],
   "source": [
    "db_inst_index=get_index(db,index='LA_institution_id')"
   ]
  },
  {
   "cell_type": "code",
   "execution_count": 4,
   "id": "3159ec65-abc0-4c47-b1fe-5221bd25392e",
   "metadata": {},
   "outputs": [],
   "source": [
    "collaborations=[]\n",
    "collaborations_old=[]"
   ]
  },
  {
   "cell_type": "markdown",
   "id": "ba6fea27-d595-4a6c-b5fd-c161f54671b3",
   "metadata": {},
   "source": [
    "Pagination"
   ]
  },
  {
   "cell_type": "code",
   "execution_count": 5,
   "id": "108ee47b-6ddc-4e48-8171-8204b1499bbe",
   "metadata": {},
   "outputs": [
    {
     "name": "stdout",
     "output_type": "stream",
     "text": [
      "https://inspirehep.net/api/literature?sort=mostrecent&size=25&page=1&q=ac>100+and+de>2018\n",
      "collaborarion → STAR\n",
      "collaborarion → MicroBooNE\n",
      "collaborarion → CLAS\n",
      "collaborarion → DUNE\n",
      "collaborarion → NA62\n",
      "collaborarion → PHENIX\n",
      "collaborarion → BESIII\n",
      "collaborarion → DES\n",
      "collaborarion → Super-Kamiokande\n",
      "160\r"
     ]
    },
    {
     "ename": "KeyboardInterrupt",
     "evalue": "",
     "output_type": "error",
     "traceback": [
      "\u001b[0;31m---------------------------------------------------------------------------\u001b[0m",
      "\u001b[0;31mKeyboardInterrupt\u001b[0m                         Traceback (most recent call last)",
      "\u001b[0;32m/tmp/ipykernel_1319790/661695757.py\u001b[0m in \u001b[0;36m<module>\u001b[0;34m\u001b[0m\n\u001b[1;32m     61\u001b[0m             \u001b[0;32mif\u001b[0m \u001b[0mCONTINUE\u001b[0m\u001b[0;34m:\u001b[0m\u001b[0;34m\u001b[0m\u001b[0;34m\u001b[0m\u001b[0m\n\u001b[1;32m     62\u001b[0m                 \u001b[0;32mcontinue\u001b[0m \u001b[0;31m#next author\u001b[0m\u001b[0;34m\u001b[0m\u001b[0;34m\u001b[0m\u001b[0m\n\u001b[0;32m---> 63\u001b[0;31m             \u001b[0mpositions\u001b[0m\u001b[0;34m,\u001b[0m\u001b[0memail_addresses\u001b[0m\u001b[0;34m,\u001b[0m\u001b[0mname\u001b[0m\u001b[0;34m,\u001b[0m\u001b[0maids\u001b[0m\u001b[0;34m=\u001b[0m\u001b[0mget_author\u001b[0m\u001b[0;34m(\u001b[0m\u001b[0murl_author\u001b[0m\u001b[0;34m)\u001b[0m \u001b[0;31m#USES API!\u001b[0m\u001b[0;34m\u001b[0m\u001b[0;34m\u001b[0m\u001b[0m\n\u001b[0m\u001b[1;32m     64\u001b[0m             \u001b[0;32mtry\u001b[0m\u001b[0;34m:\u001b[0m\u001b[0;34m\u001b[0m\u001b[0;34m\u001b[0m\u001b[0m\n\u001b[1;32m     65\u001b[0m                 inst_id=[d.get('record').get('$ref').split('/')[-1] \n",
      "\u001b[0;32m~/prog/cienciometria/inspire/inspirehep.py\u001b[0m in \u001b[0;36mget_author\u001b[0;34m(url_author)\u001b[0m\n\u001b[1;32m    118\u001b[0m     \u001b[0;32mif\u001b[0m \u001b[0misinstance\u001b[0m\u001b[0;34m(\u001b[0m\u001b[0murl_author\u001b[0m\u001b[0;34m,\u001b[0m\u001b[0mstr\u001b[0m\u001b[0;34m)\u001b[0m\u001b[0;34m:\u001b[0m\u001b[0;34m\u001b[0m\u001b[0;34m\u001b[0m\u001b[0m\n\u001b[1;32m    119\u001b[0m         \u001b[0mtime\u001b[0m\u001b[0;34m.\u001b[0m\u001b[0msleep\u001b[0m\u001b[0;34m(\u001b[0m\u001b[0msleep\u001b[0m\u001b[0;34m)\u001b[0m\u001b[0;34m\u001b[0m\u001b[0;34m\u001b[0m\u001b[0m\n\u001b[0;32m--> 120\u001b[0;31m         \u001b[0mepa\u001b[0m\u001b[0;34m=\u001b[0m\u001b[0mrequests\u001b[0m\u001b[0;34m.\u001b[0m\u001b[0mget\u001b[0m\u001b[0;34m(\u001b[0m\u001b[0murl_author\u001b[0m\u001b[0;34m)\u001b[0m\u001b[0;34m\u001b[0m\u001b[0;34m\u001b[0m\u001b[0m\n\u001b[0m\u001b[1;32m    121\u001b[0m \u001b[0;34m\u001b[0m\u001b[0m\n\u001b[1;32m    122\u001b[0m     \u001b[0;32mif\u001b[0m \u001b[0mepa\u001b[0m\u001b[0;34m.\u001b[0m\u001b[0mstatus_code\u001b[0m\u001b[0;34m==\u001b[0m\u001b[0;36m200\u001b[0m\u001b[0;34m:\u001b[0m\u001b[0;34m\u001b[0m\u001b[0;34m\u001b[0m\u001b[0m\n",
      "\u001b[0;32m/usr/lib/python3/dist-packages/requests/api.py\u001b[0m in \u001b[0;36mget\u001b[0;34m(url, params, **kwargs)\u001b[0m\n\u001b[1;32m     74\u001b[0m \u001b[0;34m\u001b[0m\u001b[0m\n\u001b[1;32m     75\u001b[0m     \u001b[0mkwargs\u001b[0m\u001b[0;34m.\u001b[0m\u001b[0msetdefault\u001b[0m\u001b[0;34m(\u001b[0m\u001b[0;34m'allow_redirects'\u001b[0m\u001b[0;34m,\u001b[0m \u001b[0;32mTrue\u001b[0m\u001b[0;34m)\u001b[0m\u001b[0;34m\u001b[0m\u001b[0;34m\u001b[0m\u001b[0m\n\u001b[0;32m---> 76\u001b[0;31m     \u001b[0;32mreturn\u001b[0m \u001b[0mrequest\u001b[0m\u001b[0;34m(\u001b[0m\u001b[0;34m'get'\u001b[0m\u001b[0;34m,\u001b[0m \u001b[0murl\u001b[0m\u001b[0;34m,\u001b[0m \u001b[0mparams\u001b[0m\u001b[0;34m=\u001b[0m\u001b[0mparams\u001b[0m\u001b[0;34m,\u001b[0m \u001b[0;34m**\u001b[0m\u001b[0mkwargs\u001b[0m\u001b[0;34m)\u001b[0m\u001b[0;34m\u001b[0m\u001b[0;34m\u001b[0m\u001b[0m\n\u001b[0m\u001b[1;32m     77\u001b[0m \u001b[0;34m\u001b[0m\u001b[0m\n\u001b[1;32m     78\u001b[0m \u001b[0;34m\u001b[0m\u001b[0m\n",
      "\u001b[0;32m/usr/lib/python3/dist-packages/requests/api.py\u001b[0m in \u001b[0;36mrequest\u001b[0;34m(method, url, **kwargs)\u001b[0m\n\u001b[1;32m     59\u001b[0m     \u001b[0;31m# cases, and look like a memory leak in others.\u001b[0m\u001b[0;34m\u001b[0m\u001b[0;34m\u001b[0m\u001b[0;34m\u001b[0m\u001b[0m\n\u001b[1;32m     60\u001b[0m     \u001b[0;32mwith\u001b[0m \u001b[0msessions\u001b[0m\u001b[0;34m.\u001b[0m\u001b[0mSession\u001b[0m\u001b[0;34m(\u001b[0m\u001b[0;34m)\u001b[0m \u001b[0;32mas\u001b[0m \u001b[0msession\u001b[0m\u001b[0;34m:\u001b[0m\u001b[0;34m\u001b[0m\u001b[0;34m\u001b[0m\u001b[0m\n\u001b[0;32m---> 61\u001b[0;31m         \u001b[0;32mreturn\u001b[0m \u001b[0msession\u001b[0m\u001b[0;34m.\u001b[0m\u001b[0mrequest\u001b[0m\u001b[0;34m(\u001b[0m\u001b[0mmethod\u001b[0m\u001b[0;34m=\u001b[0m\u001b[0mmethod\u001b[0m\u001b[0;34m,\u001b[0m \u001b[0murl\u001b[0m\u001b[0;34m=\u001b[0m\u001b[0murl\u001b[0m\u001b[0;34m,\u001b[0m \u001b[0;34m**\u001b[0m\u001b[0mkwargs\u001b[0m\u001b[0;34m)\u001b[0m\u001b[0;34m\u001b[0m\u001b[0;34m\u001b[0m\u001b[0m\n\u001b[0m\u001b[1;32m     62\u001b[0m \u001b[0;34m\u001b[0m\u001b[0m\n\u001b[1;32m     63\u001b[0m \u001b[0;34m\u001b[0m\u001b[0m\n",
      "\u001b[0;32m/usr/lib/python3/dist-packages/requests/sessions.py\u001b[0m in \u001b[0;36mrequest\u001b[0;34m(self, method, url, params, data, headers, cookies, files, auth, timeout, allow_redirects, proxies, hooks, stream, verify, cert, json)\u001b[0m\n\u001b[1;32m    540\u001b[0m         }\n\u001b[1;32m    541\u001b[0m         \u001b[0msend_kwargs\u001b[0m\u001b[0;34m.\u001b[0m\u001b[0mupdate\u001b[0m\u001b[0;34m(\u001b[0m\u001b[0msettings\u001b[0m\u001b[0;34m)\u001b[0m\u001b[0;34m\u001b[0m\u001b[0;34m\u001b[0m\u001b[0m\n\u001b[0;32m--> 542\u001b[0;31m         \u001b[0mresp\u001b[0m \u001b[0;34m=\u001b[0m \u001b[0mself\u001b[0m\u001b[0;34m.\u001b[0m\u001b[0msend\u001b[0m\u001b[0;34m(\u001b[0m\u001b[0mprep\u001b[0m\u001b[0;34m,\u001b[0m \u001b[0;34m**\u001b[0m\u001b[0msend_kwargs\u001b[0m\u001b[0;34m)\u001b[0m\u001b[0;34m\u001b[0m\u001b[0;34m\u001b[0m\u001b[0m\n\u001b[0m\u001b[1;32m    543\u001b[0m \u001b[0;34m\u001b[0m\u001b[0m\n\u001b[1;32m    544\u001b[0m         \u001b[0;32mreturn\u001b[0m \u001b[0mresp\u001b[0m\u001b[0;34m\u001b[0m\u001b[0;34m\u001b[0m\u001b[0m\n",
      "\u001b[0;32m/usr/lib/python3/dist-packages/requests/sessions.py\u001b[0m in \u001b[0;36msend\u001b[0;34m(self, request, **kwargs)\u001b[0m\n\u001b[1;32m    653\u001b[0m \u001b[0;34m\u001b[0m\u001b[0m\n\u001b[1;32m    654\u001b[0m         \u001b[0;31m# Send the request\u001b[0m\u001b[0;34m\u001b[0m\u001b[0;34m\u001b[0m\u001b[0;34m\u001b[0m\u001b[0m\n\u001b[0;32m--> 655\u001b[0;31m         \u001b[0mr\u001b[0m \u001b[0;34m=\u001b[0m \u001b[0madapter\u001b[0m\u001b[0;34m.\u001b[0m\u001b[0msend\u001b[0m\u001b[0;34m(\u001b[0m\u001b[0mrequest\u001b[0m\u001b[0;34m,\u001b[0m \u001b[0;34m**\u001b[0m\u001b[0mkwargs\u001b[0m\u001b[0;34m)\u001b[0m\u001b[0;34m\u001b[0m\u001b[0;34m\u001b[0m\u001b[0m\n\u001b[0m\u001b[1;32m    656\u001b[0m \u001b[0;34m\u001b[0m\u001b[0m\n\u001b[1;32m    657\u001b[0m         \u001b[0;31m# Total elapsed time of the request (approximately)\u001b[0m\u001b[0;34m\u001b[0m\u001b[0;34m\u001b[0m\u001b[0;34m\u001b[0m\u001b[0m\n",
      "\u001b[0;32m/usr/lib/python3/dist-packages/requests/adapters.py\u001b[0m in \u001b[0;36msend\u001b[0;34m(self, request, stream, timeout, verify, cert, proxies)\u001b[0m\n\u001b[1;32m    437\u001b[0m         \u001b[0;32mtry\u001b[0m\u001b[0;34m:\u001b[0m\u001b[0;34m\u001b[0m\u001b[0;34m\u001b[0m\u001b[0m\n\u001b[1;32m    438\u001b[0m             \u001b[0;32mif\u001b[0m \u001b[0;32mnot\u001b[0m \u001b[0mchunked\u001b[0m\u001b[0;34m:\u001b[0m\u001b[0;34m\u001b[0m\u001b[0;34m\u001b[0m\u001b[0m\n\u001b[0;32m--> 439\u001b[0;31m                 resp = conn.urlopen(\n\u001b[0m\u001b[1;32m    440\u001b[0m                     \u001b[0mmethod\u001b[0m\u001b[0;34m=\u001b[0m\u001b[0mrequest\u001b[0m\u001b[0;34m.\u001b[0m\u001b[0mmethod\u001b[0m\u001b[0;34m,\u001b[0m\u001b[0;34m\u001b[0m\u001b[0;34m\u001b[0m\u001b[0m\n\u001b[1;32m    441\u001b[0m                     \u001b[0murl\u001b[0m\u001b[0;34m=\u001b[0m\u001b[0murl\u001b[0m\u001b[0;34m,\u001b[0m\u001b[0;34m\u001b[0m\u001b[0;34m\u001b[0m\u001b[0m\n",
      "\u001b[0;32m/usr/lib/python3/dist-packages/urllib3/connectionpool.py\u001b[0m in \u001b[0;36murlopen\u001b[0;34m(self, method, url, body, headers, retries, redirect, assert_same_host, timeout, pool_timeout, release_conn, chunked, body_pos, **response_kw)\u001b[0m\n\u001b[1;32m    697\u001b[0m \u001b[0;34m\u001b[0m\u001b[0m\n\u001b[1;32m    698\u001b[0m             \u001b[0;31m# Make the request on the httplib connection object.\u001b[0m\u001b[0;34m\u001b[0m\u001b[0;34m\u001b[0m\u001b[0;34m\u001b[0m\u001b[0m\n\u001b[0;32m--> 699\u001b[0;31m             httplib_response = self._make_request(\n\u001b[0m\u001b[1;32m    700\u001b[0m                 \u001b[0mconn\u001b[0m\u001b[0;34m,\u001b[0m\u001b[0;34m\u001b[0m\u001b[0;34m\u001b[0m\u001b[0m\n\u001b[1;32m    701\u001b[0m                 \u001b[0mmethod\u001b[0m\u001b[0;34m,\u001b[0m\u001b[0;34m\u001b[0m\u001b[0;34m\u001b[0m\u001b[0m\n",
      "\u001b[0;32m/usr/lib/python3/dist-packages/urllib3/connectionpool.py\u001b[0m in \u001b[0;36m_make_request\u001b[0;34m(self, conn, method, url, timeout, chunked, **httplib_request_kw)\u001b[0m\n\u001b[1;32m    380\u001b[0m         \u001b[0;31m# Trigger any extra validation we need to do.\u001b[0m\u001b[0;34m\u001b[0m\u001b[0;34m\u001b[0m\u001b[0;34m\u001b[0m\u001b[0m\n\u001b[1;32m    381\u001b[0m         \u001b[0;32mtry\u001b[0m\u001b[0;34m:\u001b[0m\u001b[0;34m\u001b[0m\u001b[0;34m\u001b[0m\u001b[0m\n\u001b[0;32m--> 382\u001b[0;31m             \u001b[0mself\u001b[0m\u001b[0;34m.\u001b[0m\u001b[0m_validate_conn\u001b[0m\u001b[0;34m(\u001b[0m\u001b[0mconn\u001b[0m\u001b[0;34m)\u001b[0m\u001b[0;34m\u001b[0m\u001b[0;34m\u001b[0m\u001b[0m\n\u001b[0m\u001b[1;32m    383\u001b[0m         \u001b[0;32mexcept\u001b[0m \u001b[0;34m(\u001b[0m\u001b[0mSocketTimeout\u001b[0m\u001b[0;34m,\u001b[0m \u001b[0mBaseSSLError\u001b[0m\u001b[0;34m)\u001b[0m \u001b[0;32mas\u001b[0m \u001b[0me\u001b[0m\u001b[0;34m:\u001b[0m\u001b[0;34m\u001b[0m\u001b[0;34m\u001b[0m\u001b[0m\n\u001b[1;32m    384\u001b[0m             \u001b[0;31m# Py2 raises this as a BaseSSLError, Py3 raises it as socket timeout.\u001b[0m\u001b[0;34m\u001b[0m\u001b[0;34m\u001b[0m\u001b[0;34m\u001b[0m\u001b[0m\n",
      "\u001b[0;32m/usr/lib/python3/dist-packages/urllib3/connectionpool.py\u001b[0m in \u001b[0;36m_validate_conn\u001b[0;34m(self, conn)\u001b[0m\n\u001b[1;32m   1010\u001b[0m         \u001b[0;31m# Force connect early to allow us to validate the connection.\u001b[0m\u001b[0;34m\u001b[0m\u001b[0;34m\u001b[0m\u001b[0;34m\u001b[0m\u001b[0m\n\u001b[1;32m   1011\u001b[0m         \u001b[0;32mif\u001b[0m \u001b[0;32mnot\u001b[0m \u001b[0mgetattr\u001b[0m\u001b[0;34m(\u001b[0m\u001b[0mconn\u001b[0m\u001b[0;34m,\u001b[0m \u001b[0;34m\"sock\"\u001b[0m\u001b[0;34m,\u001b[0m \u001b[0;32mNone\u001b[0m\u001b[0;34m)\u001b[0m\u001b[0;34m:\u001b[0m  \u001b[0;31m# AppEngine might not have  `.sock`\u001b[0m\u001b[0;34m\u001b[0m\u001b[0;34m\u001b[0m\u001b[0m\n\u001b[0;32m-> 1012\u001b[0;31m             \u001b[0mconn\u001b[0m\u001b[0;34m.\u001b[0m\u001b[0mconnect\u001b[0m\u001b[0;34m(\u001b[0m\u001b[0;34m)\u001b[0m\u001b[0;34m\u001b[0m\u001b[0;34m\u001b[0m\u001b[0m\n\u001b[0m\u001b[1;32m   1013\u001b[0m \u001b[0;34m\u001b[0m\u001b[0m\n\u001b[1;32m   1014\u001b[0m         \u001b[0;32mif\u001b[0m \u001b[0;32mnot\u001b[0m \u001b[0mconn\u001b[0m\u001b[0;34m.\u001b[0m\u001b[0mis_verified\u001b[0m\u001b[0;34m:\u001b[0m\u001b[0;34m\u001b[0m\u001b[0;34m\u001b[0m\u001b[0m\n",
      "\u001b[0;32m/usr/lib/python3/dist-packages/urllib3/connection.py\u001b[0m in \u001b[0;36mconnect\u001b[0;34m(self)\u001b[0m\n\u001b[1;32m    351\u001b[0m     \u001b[0;32mdef\u001b[0m \u001b[0mconnect\u001b[0m\u001b[0;34m(\u001b[0m\u001b[0mself\u001b[0m\u001b[0;34m)\u001b[0m\u001b[0;34m:\u001b[0m\u001b[0;34m\u001b[0m\u001b[0;34m\u001b[0m\u001b[0m\n\u001b[1;32m    352\u001b[0m         \u001b[0;31m# Add certificate verification\u001b[0m\u001b[0;34m\u001b[0m\u001b[0;34m\u001b[0m\u001b[0;34m\u001b[0m\u001b[0m\n\u001b[0;32m--> 353\u001b[0;31m         \u001b[0mconn\u001b[0m \u001b[0;34m=\u001b[0m \u001b[0mself\u001b[0m\u001b[0;34m.\u001b[0m\u001b[0m_new_conn\u001b[0m\u001b[0;34m(\u001b[0m\u001b[0;34m)\u001b[0m\u001b[0;34m\u001b[0m\u001b[0;34m\u001b[0m\u001b[0m\n\u001b[0m\u001b[1;32m    354\u001b[0m         \u001b[0mhostname\u001b[0m \u001b[0;34m=\u001b[0m \u001b[0mself\u001b[0m\u001b[0;34m.\u001b[0m\u001b[0mhost\u001b[0m\u001b[0;34m\u001b[0m\u001b[0;34m\u001b[0m\u001b[0m\n\u001b[1;32m    355\u001b[0m         \u001b[0mtls_in_tls\u001b[0m \u001b[0;34m=\u001b[0m \u001b[0;32mFalse\u001b[0m\u001b[0;34m\u001b[0m\u001b[0;34m\u001b[0m\u001b[0m\n",
      "\u001b[0;32m/usr/lib/python3/dist-packages/urllib3/connection.py\u001b[0m in \u001b[0;36m_new_conn\u001b[0;34m(self)\u001b[0m\n\u001b[1;32m    167\u001b[0m \u001b[0;34m\u001b[0m\u001b[0m\n\u001b[1;32m    168\u001b[0m         \u001b[0;32mtry\u001b[0m\u001b[0;34m:\u001b[0m\u001b[0;34m\u001b[0m\u001b[0;34m\u001b[0m\u001b[0m\n\u001b[0;32m--> 169\u001b[0;31m             conn = connection.create_connection(\n\u001b[0m\u001b[1;32m    170\u001b[0m                 \u001b[0;34m(\u001b[0m\u001b[0mself\u001b[0m\u001b[0;34m.\u001b[0m\u001b[0m_dns_host\u001b[0m\u001b[0;34m,\u001b[0m \u001b[0mself\u001b[0m\u001b[0;34m.\u001b[0m\u001b[0mport\u001b[0m\u001b[0;34m)\u001b[0m\u001b[0;34m,\u001b[0m \u001b[0mself\u001b[0m\u001b[0;34m.\u001b[0m\u001b[0mtimeout\u001b[0m\u001b[0;34m,\u001b[0m \u001b[0;34m**\u001b[0m\u001b[0mextra_kw\u001b[0m\u001b[0;34m\u001b[0m\u001b[0;34m\u001b[0m\u001b[0m\n\u001b[1;32m    171\u001b[0m             )\n",
      "\u001b[0;32m/usr/lib/python3/dist-packages/urllib3/util/connection.py\u001b[0m in \u001b[0;36mcreate_connection\u001b[0;34m(address, timeout, source_address, socket_options)\u001b[0m\n\u001b[1;32m     84\u001b[0m             \u001b[0;32mif\u001b[0m \u001b[0msource_address\u001b[0m\u001b[0;34m:\u001b[0m\u001b[0;34m\u001b[0m\u001b[0;34m\u001b[0m\u001b[0m\n\u001b[1;32m     85\u001b[0m                 \u001b[0msock\u001b[0m\u001b[0;34m.\u001b[0m\u001b[0mbind\u001b[0m\u001b[0;34m(\u001b[0m\u001b[0msource_address\u001b[0m\u001b[0;34m)\u001b[0m\u001b[0;34m\u001b[0m\u001b[0;34m\u001b[0m\u001b[0m\n\u001b[0;32m---> 86\u001b[0;31m             \u001b[0msock\u001b[0m\u001b[0;34m.\u001b[0m\u001b[0mconnect\u001b[0m\u001b[0;34m(\u001b[0m\u001b[0msa\u001b[0m\u001b[0;34m)\u001b[0m\u001b[0;34m\u001b[0m\u001b[0;34m\u001b[0m\u001b[0m\n\u001b[0m\u001b[1;32m     87\u001b[0m             \u001b[0;32mreturn\u001b[0m \u001b[0msock\u001b[0m\u001b[0;34m\u001b[0m\u001b[0;34m\u001b[0m\u001b[0m\n\u001b[1;32m     88\u001b[0m \u001b[0;34m\u001b[0m\u001b[0m\n",
      "\u001b[0;31mKeyboardInterrupt\u001b[0m: "
     ]
    }
   ],
   "source": [
    "page=0\n",
    "emergency_exit=300\n",
    "mp=0\n",
    "while page>=0:\n",
    "    if mp>=emergency_exit:\n",
    "        print('Emergency Exit!')\n",
    "        break\n",
    "    mp=mp+1\n",
    "    if len(collaborations)>0 and  collaborations_old!=collaborations:\n",
    "        cn_search='https://inspirehep.net/api/literature?sort=mostrecent&size=25&page=1&q=ac>100+and+de>2018'\n",
    "        cn=f\"{cn_search}+and+not+cn+{'+and+not+cn+'.join(collaborations)}\".replace(' ','+')\n",
    "        collaborations_old=collaborations\n",
    "        page=0\n",
    "    else:\n",
    "        #increase pagination\n",
    "        if page==0 or collaborations_old==collaborations:\n",
    "            extra=''\n",
    "        else:\n",
    "            extra='+and+not+cn+'\n",
    "        page=page+1\n",
    "        cn_search=f'https://inspirehep.net/api/literature?sort=mostrecent&size=25&page={page}&q=ac>100+and+de>2018'\n",
    "        cn=f\"{cn_search}{extra}{'+and+not+cn+'.join(collaborations)}\".replace(' ','+')\n",
    "\n",
    "    print(cn)\n",
    "    time.sleep(sleep)\n",
    "    r=requests.get(cn)\n",
    "    d=r.json()\n",
    "    page_max=int(d.get('hits').get('total')/25)+1\n",
    "    if page>page_max:\n",
    "        break\n",
    "\n",
    "    l=d.get('hits').get('hits')\n",
    "\n",
    "    #Not affilation in `'authors'` list for collaborations!\n",
    "\n",
    "    for ld in l:\n",
    "        lit=ld.get('metadata')\n",
    "        if not lit.get('collaborations'):\n",
    "            continue # next paper\n",
    "        try:\n",
    "            collaboration=lit.get('collaborations')[0].get('value')\n",
    "        except:\n",
    "            collaboration=''\n",
    "\n",
    "        if collaboration in collaborations:\n",
    "            continue #next paper\n",
    "\n",
    "        print(f'collaborarion → {collaboration}')\n",
    "        la=lit.get('authors')\n",
    "        ii=0\n",
    "        for a in la:\n",
    "            FoS=[collaboration]\n",
    "            try:\n",
    "                PAC=lit['primary_arxiv_category']\n",
    "            except:\n",
    "                PAC=[]\n",
    "            \n",
    "            print(ii,end='\\r')\n",
    "            ii=ii+1\n",
    "            CONTINUE,author_id,url_author,FoS,PAC,db=get_work(db,a,idsLA,idsAU,db_index,FoS,PAC)\n",
    "            if CONTINUE:\n",
    "                continue #next author\n",
    "            positions,email_addresses,name,aids=get_author(url_author) #USES API!\n",
    "            try:\n",
    "                inst_id=[d.get('record').get('$ref').split('/')[-1] \n",
    "                     for d in positions if d.get('record') and d.get('current')][0]\n",
    "            except:\n",
    "                inst_id=None\n",
    "            if inst_id not in idsLA:\n",
    "                continue #next author\n",
    "            di=db[db_inst_index[inst_id]]\n",
    "\n",
    "            new={'author_id':author_id,\n",
    "                     'name':name,\n",
    "                     'LA_institution_id':inst_id,\n",
    "                     'external_system_identifiers':di.get('external_system_identifiers'),\n",
    "                     'LA_country':di.get('LA_country'),\n",
    "                     'LA_institution':di.get('LA_institution'),\n",
    "                     'email_addresses':email_addresses,\n",
    "                     'positions':positions,\n",
    "                     'ids':aids,\n",
    "                     'primary_arxiv_category':PAC,\n",
    "                     'Fields of Study': FoS # in ['Particle physics','Cosmology','Astrophysics','Mathematical physics']\n",
    "                    }\n",
    "            db.append(new)\n",
    "            #raise Exception('STOP')            \n",
    "            #break\n",
    "        collaborations.append(collaboration) #Only after search for all the authors\n",
    "        f=open('db_LA.json','w')\n",
    "        json.dump(db,f)\n",
    "        f.close()    \n",
    "        #==============\n",
    "        #break            \n",
    "        "
   ]
  },
  {
   "cell_type": "code",
   "execution_count": 6,
   "id": "a2977d58-9031-4580-b7a0-17586a5932e9",
   "metadata": {},
   "outputs": [
    {
     "data": {
      "text/plain": [
       "{'author_id': '991245',\n",
       " 'name': {'value': 'Rosenfeld, Rogerio',\n",
       "  'preferred_name': 'Rogerio Rosenfeld'},\n",
       " 'LA_institution_id': '1373228',\n",
       " 'external_system_identifiers': [],\n",
       " 'LA_country': 'Brazil',\n",
       " 'LA_institution': 'LIneA, Rio de Janeiro',\n",
       " 'email_addresses': [{'value': 'rosenfel@ift.unesp.br', 'current': True}],\n",
       " 'positions': [{'record': {'$ref': 'https://inspirehep.net/api/institutions/1373228'},\n",
       "   'current': True,\n",
       "   'institution': 'LIneA, Rio de Janeiro',\n",
       "   'curated_relation': True},\n",
       "  {'rank': 'SENIOR',\n",
       "   'record': {'$ref': 'https://inspirehep.net/api/institutions/903185'},\n",
       "   'current': True,\n",
       "   'institution': 'Sao Paulo, IFT',\n",
       "   'curated_relation': True},\n",
       "  {'record': {'$ref': 'https://inspirehep.net/api/institutions/903081'},\n",
       "   'end_date': '1994',\n",
       "   'start_date': '1992',\n",
       "   'institution': 'Northeastern U.',\n",
       "   'curated_relation': True},\n",
       "  {'rank': 'POSTDOC',\n",
       "   'record': {'$ref': 'https://inspirehep.net/api/institutions/903303'},\n",
       "   'end_date': '1992',\n",
       "   'start_date': '1990',\n",
       "   'institution': 'UCLA',\n",
       "   'curated_relation': True},\n",
       "  {'rank': 'PHD',\n",
       "   'record': {'$ref': 'https://inspirehep.net/api/institutions/902729'},\n",
       "   'end_date': '1990',\n",
       "   'start_date': '1985',\n",
       "   'institution': 'Chicago U.',\n",
       "   'curated_relation': True}],\n",
       " 'ids': [{'value': 'R.Rosenfeld.1', 'schema': 'INSPIRE BAI'},\n",
       "  {'value': 'CERN-668579', 'schema': 'CERN'},\n",
       "  {'value': 'INSPIRE-00240549', 'schema': 'INSPIRE ID'},\n",
       "  {'value': 'HEPNAMES-105082', 'schema': 'SPIRES'}],\n",
       " 'primary_arxiv_category': ['astro-ph.CO', 'hep-ph', 'gr-qc'],\n",
       " 'Fields of Study': ['Astrophysics',\n",
       "  'Particle physics',\n",
       "  'Cosmology',\n",
       "  'Mathematical physics',\n",
       "  'DES']}"
      ]
     },
     "execution_count": 6,
     "metadata": {},
     "output_type": "execute_result"
    }
   ],
   "source": [
    "author_id='991245'\n",
    "db[db_index[author_id]]"
   ]
  },
  {
   "cell_type": "code",
   "execution_count": 62,
   "id": "eb357b98-b1a6-4488-8a5b-380bb9688e40",
   "metadata": {},
   "outputs": [
    {
     "data": {
      "text/plain": [
       "(False,\n",
       " '1282520',\n",
       " 'https://inspirehep.net/api/authors/1282520',\n",
       " ['ANTARES'],\n",
       " ['astro-ph.HE'])"
      ]
     },
     "execution_count": 62,
     "metadata": {},
     "output_type": "execute_result"
    }
   ],
   "source": [
    "CONTINUE,author_id,url_author,FoS,PAC"
   ]
  },
  {
   "cell_type": "code",
   "execution_count": 73,
   "id": "9193adc1-7840-4c24-8270-d0c6bf931a6c",
   "metadata": {},
   "outputs": [],
   "source": [
    "import pandas as pd"
   ]
  },
  {
   "cell_type": "code",
   "execution_count": 74,
   "id": "d93c6077-6301-41b4-ab13-88c9669d7809",
   "metadata": {},
   "outputs": [],
   "source": [
    "df=pd.DataFrame(db)"
   ]
  },
  {
   "cell_type": "code",
   "execution_count": 81,
   "id": "dc170bc3-f9c5-4018-a1ac-2e109bc4ebbf",
   "metadata": {},
   "outputs": [
    {
     "data": {
      "text/html": [
       "<div>\n",
       "<style scoped>\n",
       "    .dataframe tbody tr th:only-of-type {\n",
       "        vertical-align: middle;\n",
       "    }\n",
       "\n",
       "    .dataframe tbody tr th {\n",
       "        vertical-align: top;\n",
       "    }\n",
       "\n",
       "    .dataframe thead th {\n",
       "        text-align: right;\n",
       "    }\n",
       "</style>\n",
       "<table border=\"1\" class=\"dataframe\">\n",
       "  <thead>\n",
       "    <tr style=\"text-align: right;\">\n",
       "      <th></th>\n",
       "      <th>author_id</th>\n",
       "      <th>name</th>\n",
       "      <th>LA_institution_id</th>\n",
       "      <th>external_system_identifiers</th>\n",
       "      <th>LA_country</th>\n",
       "      <th>LA_institution</th>\n",
       "      <th>email_addresses</th>\n",
       "      <th>positions</th>\n",
       "      <th>ids</th>\n",
       "      <th>primary_arxiv_category</th>\n",
       "      <th>Fields of Study</th>\n",
       "    </tr>\n",
       "  </thead>\n",
       "  <tbody>\n",
       "    <tr>\n",
       "      <th>1176</th>\n",
       "      <td>1023526</td>\n",
       "      <td>{'value': 'Acero Ortega, Mario Andres', 'name_...</td>\n",
       "      <td>1128047</td>\n",
       "      <td>[{'value': 'grid.441871.f', 'schema': 'GRID'},...</td>\n",
       "      <td>Colombia</td>\n",
       "      <td>U. Atlantico, Barranquilla</td>\n",
       "      <td>[{'value': 'marioacero@mail.uniatlantico.edu.c...</td>\n",
       "      <td>[{'rank': 'SENIOR', 'record': {'$ref': 'https:...</td>\n",
       "      <td>[{'value': '0000-0002-0835-0641', 'schema': 'O...</td>\n",
       "      <td>[gr-qc, hep-th, physics.ins-det, hep-ph]</td>\n",
       "      <td>[Cosmology, Mathematical physics, DUNE, Partic...</td>\n",
       "    </tr>\n",
       "  </tbody>\n",
       "</table>\n",
       "</div>"
      ],
      "text/plain": [
       "     author_id                                               name  \\\n",
       "1176   1023526  {'value': 'Acero Ortega, Mario Andres', 'name_...   \n",
       "\n",
       "     LA_institution_id                        external_system_identifiers  \\\n",
       "1176           1128047  [{'value': 'grid.441871.f', 'schema': 'GRID'},...   \n",
       "\n",
       "     LA_country              LA_institution  \\\n",
       "1176   Colombia  U. Atlantico, Barranquilla   \n",
       "\n",
       "                                        email_addresses  \\\n",
       "1176  [{'value': 'marioacero@mail.uniatlantico.edu.c...   \n",
       "\n",
       "                                              positions  \\\n",
       "1176  [{'rank': 'SENIOR', 'record': {'$ref': 'https:...   \n",
       "\n",
       "                                                    ids  \\\n",
       "1176  [{'value': '0000-0002-0835-0641', 'schema': 'O...   \n",
       "\n",
       "                        primary_arxiv_category  \\\n",
       "1176  [gr-qc, hep-th, physics.ins-det, hep-ph]   \n",
       "\n",
       "                                        Fields of Study  \n",
       "1176  [Cosmology, Mathematical physics, DUNE, Partic...  "
      ]
     },
     "execution_count": 81,
     "metadata": {},
     "output_type": "execute_result"
    }
   ],
   "source": [
    "df[df.name.str['value'].str.contains('Acero')]"
   ]
  },
  {
   "cell_type": "code",
   "execution_count": 1,
   "id": "81de7280-cc31-4b49-91fb-43799e5859e5",
   "metadata": {},
   "outputs": [],
   "source": [
    "import json"
   ]
  },
  {
   "cell_type": "code",
   "execution_count": 2,
   "id": "93c342da-af0b-45ee-bd4d-6885697c1975",
   "metadata": {},
   "outputs": [],
   "source": [
    "f=open('data/db_LA.json','r')\n",
    "df=json.load(f)\n",
    "f.close()"
   ]
  },
  {
   "cell_type": "code",
   "execution_count": 4,
   "id": "41ae8b45-33b1-40d6-b3e8-757b6f4a9840",
   "metadata": {},
   "outputs": [],
   "source": [
    "f=open('db_LA.json','r')\n",
    "dfn=json.load(f)\n",
    "f.close()"
   ]
  },
  {
   "cell_type": "code",
   "execution_count": 14,
   "id": "288af6d9-80c5-40e7-9498-fdfab1c617d2",
   "metadata": {},
   "outputs": [
    {
     "data": {
      "text/plain": [
       "{'author_id': '1876618',\n",
       " 'name': {'value': 'Ramírez, Valeria'},\n",
       " 'LA_institution_id': '909015',\n",
       " 'external_system_identifiers': [{'value': 'grid.412866.f', 'schema': 'GRID'},\n",
       "  {'value': 'https://ror.org/031f8kt38', 'schema': 'ROR'},\n",
       "  {'value': 'INST-77020', 'schema': 'SPIRES'}],\n",
       " 'LA_country': 'Mexico',\n",
       " 'LA_institution': 'UAEH, Pachuca',\n",
       " 'email_addresses': [],\n",
       " 'positions': [],\n",
       " 'ids': [{'value': 'V.Ramirez.1', 'schema': 'INSPIRE BAI'}],\n",
       " 'primary_arxiv_category': ['gr-qc'],\n",
       " 'Fields of Study': ['Mathematical physics']}"
      ]
     },
     "execution_count": 14,
     "metadata": {},
     "output_type": "execute_result"
    }
   ],
   "source": [
    "df[''primary_arxiv_category']"
   ]
  },
  {
   "cell_type": "code",
   "execution_count": 21,
   "id": "8b4d5c4c-0290-4ded-91f2-4f17c6b9ab55",
   "metadata": {},
   "outputs": [
    {
     "data": {
      "text/plain": [
       "[['nlin.AO',\n",
       "  'cond-mat.str-el',\n",
       "  'cond-mat.other',\n",
       "  'hep-ex',\n",
       "  'hep-ph',\n",
       "  'astro-ph.GA',\n",
       "  'physics.gen-ph',\n",
       "  'hep-th',\n",
       "  'astro-ph.HE',\n",
       "  'hep-lat',\n",
       "  'quant-ph',\n",
       "  'math-ph',\n",
       "  'gr-qc',\n",
       "  'cond-mat.stat-mech',\n",
       "  'astro-ph.CO',\n",
       "  'astro-ph.SR',\n",
       "  'nucl-th',\n",
       "  'physics.pop-ph'],\n",
       " ['cond-mat.stat-mech',\n",
       "  'cond-mat.str-el',\n",
       "  'hep-ex',\n",
       "  'hep-ph',\n",
       "  'hep-th',\n",
       "  'quant-ph',\n",
       "  'gr-qc',\n",
       "  'math-ph'],\n",
       " ['math-ph', 'hep-th'],\n",
       " ['math-ph', 'hep-th'],\n",
       " ['hep-ph'],\n",
       " ['hep-ph'],\n",
       " ['hep-ph'],\n",
       " ['hep-ph', 'astro-ph.CO'],\n",
       " ['hep-ph'],\n",
       " ['hep-th']]"
      ]
     },
     "execution_count": 21,
     "metadata": {},
     "output_type": "execute_result"
    }
   ],
   "source": [
    "[d.get('primary_arxiv_category') for d in df][30:40]"
   ]
  },
  {
   "cell_type": "code",
   "execution_count": 20,
   "id": "a273f605-378d-453c-bb4a-b5fb66489c6d",
   "metadata": {},
   "outputs": [
    {
     "data": {
      "text/plain": [
       "[['hep-th', 'hep-ph', 'gr-qc'],\n",
       " ['hep-th', 'hep-ph', 'gr-qc'],\n",
       " ['hep-th'],\n",
       " ['hep-th'],\n",
       " ['hep-ph'],\n",
       " ['hep-ph'],\n",
       " ['hep-ph'],\n",
       " ['astro-ph.CO', 'hep-ph'],\n",
       " ['hep-ph'],\n",
       " ['hep-th']]"
      ]
     },
     "execution_count": 20,
     "metadata": {},
     "output_type": "execute_result"
    }
   ],
   "source": [
    "[d.get('primary_arxiv_category') for d in dfn][30:40]"
   ]
  },
  {
   "cell_type": "code",
   "execution_count": null,
   "id": "1c95de19-a4bf-43a6-9b64-6a4307ed7a61",
   "metadata": {},
   "outputs": [],
   "source": []
  }
 ],
 "metadata": {
  "kernelspec": {
   "display_name": "Python 3 (ipykernel)",
   "language": "python",
   "name": "python3"
  },
  "language_info": {
   "codemirror_mode": {
    "name": "ipython",
    "version": 3
   },
   "file_extension": ".py",
   "mimetype": "text/x-python",
   "name": "python",
   "nbconvert_exporter": "python",
   "pygments_lexer": "ipython3",
   "version": "3.9.2"
  }
 },
 "nbformat": 4,
 "nbformat_minor": 5
}
