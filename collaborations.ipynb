{
 "cells": [
  {
   "cell_type": "code",
   "execution_count": 2,
   "id": "fef5f743-ecc6-462a-949c-99c7157ed876",
   "metadata": {},
   "outputs": [],
   "source": [
    "import requests\n",
    "import time\n",
    "import json\n",
    "\n",
    "from inspirehep import *"
   ]
  },
  {
   "cell_type": "code",
   "execution_count": 3,
   "id": "ec27479c-5be7-43cb-83e6-509f4bb400d2",
   "metadata": {},
   "outputs": [],
   "source": [
    "f=open('data/db_LA.json','r')\n",
    "db=json.load(f)\n",
    "f.close()\n",
    "idsLA=[d.get('LA_institution_id') for d in db]\n",
    "idsAU=[d.get('author_id') for d in db]\n",
    "db_index=get_index(db)"
   ]
  },
  {
   "cell_type": "code",
   "execution_count": 4,
   "id": "9edc1e65-8b5c-4df0-9021-a3210da809ad",
   "metadata": {},
   "outputs": [],
   "source": [
    "db_inst_index=get_index(db,index='LA_institution_id')"
   ]
  },
  {
   "cell_type": "code",
   "execution_count": 63,
   "id": "3159ec65-abc0-4c47-b1fe-5221bd25392e",
   "metadata": {},
   "outputs": [
    {
     "data": {
      "text/plain": [
       "True"
      ]
     },
     "execution_count": 63,
     "metadata": {},
     "output_type": "execute_result"
    }
   ],
   "source": [
    "collaborations_old==collaborations"
   ]
  },
  {
   "cell_type": "markdown",
   "id": "ba6fea27-d595-4a6c-b5fd-c161f54671b3",
   "metadata": {},
   "source": [
    "Pagination"
   ]
  },
  {
   "cell_type": "code",
   "execution_count": 57,
   "id": "c5f4799d-331f-4a7f-a47c-50d7e9bb2c63",
   "metadata": {},
   "outputs": [],
   "source": [
    "#bkp_col=collaborations\n",
    "collaborations=collaborations[:-6]"
   ]
  },
  {
   "cell_type": "code",
   "execution_count": 75,
   "id": "bfd28e61-4a10-4f12-ba5a-a50dfb0fe095",
   "metadata": {},
   "outputs": [
    {
     "data": {
      "text/plain": [
       "['STAR',\n",
       " 'MicroBooNE',\n",
       " 'CLAS',\n",
       " 'DUNE',\n",
       " 'NA62',\n",
       " 'PHENIX',\n",
       " 'BESIII',\n",
       " 'DES',\n",
       " 'Super-Kamiokande',\n",
       " 'LIGO Scientific',\n",
       " 'KM3NeT',\n",
       " 'HAWC',\n",
       " 'Pierre Auger',\n",
       " 'IceCube',\n",
       " 'CTA Observatory',\n",
       " 'Telescope Array',\n",
       " 'MAGIC',\n",
       " 'SuperCDMS',\n",
       " 'CUPID',\n",
       " 'CUORE',\n",
       " 'KATRIN',\n",
       " 'REDTOP',\n",
       " 'KAGRA',\n",
       " 'Muon Collider',\n",
       " 'Mu2e-II',\n",
       " 'ILC International Development Team',\n",
       " 'Daya Bay',\n",
       " 'Virgo',\n",
       " 'NEMO-3',\n",
       " 'ATLAS',\n",
       " 'Euclid',\n",
       " 'LHCb',\n",
       " 'CMS',\n",
       " 'ANTARES',\n",
       " 'GERDA',\n",
       " 'HADES',\n",
       " 'n_TOF',\n",
       " 'PANDA',\n",
       " 'Jefferson Lab Hall A',\n",
       " 'LUX-ZEPLIN',\n",
       " 'Belle',\n",
       " 'LHAASO',\n",
       " 'H.E.S.S.',\n",
       " 'JUNO',\n",
       " 'AMS',\n",
       " 'XENON',\n",
       " 'SHiP',\n",
       " 'ALICE',\n",
       " 'NA61/SHINE',\n",
       " 'DAMPE',\n",
       " 'H1',\n",
       " 'NOvA',\n",
       " 'CTA LST Project',\n",
       " 'OPERA',\n",
       " 'COMPASS',\n",
       " 'GlueX',\n",
       " 'LEGEND',\n",
       " 'Event Horizon Telescope',\n",
       " 'MPD',\n",
       " 'LiteBIRD',\n",
       " 'Double Chooz',\n",
       " 'Fermi-LAT',\n",
       " 'nEXO',\n",
       " 'SDSS-IV',\n",
       " 'NEXT',\n",
       " 'CREX',\n",
       " 'BaBar',\n",
       " 'CDF',\n",
       " 'DarkSide',\n",
       " 'EXO-200',\n",
       " 'Tibet ASγ',\n",
       " 'SPT-3G',\n",
       " 'Mice',\n",
       " 'CTA Consortium',\n",
       " 'SNO+',\n",
       " 'CSNS Back-n',\n",
       " 'WA105',\n",
       " 'NA48/2',\n",
       " 'Muon g-2',\n",
       " 'DEAP',\n",
       " 'T2K',\n",
       " 'Charm',\n",
       " 'HESS',\n",
       " 'ICARUS',\n",
       " 'Hess',\n",
       " 'CTA',\n",
       " 'Mu3e',\n",
       " 'Planck',\n",
       " 'Hyper-Kamiokande',\n",
       " 'MOONS Consortium',\n",
       " 'HEP Software Foundation',\n",
       " 'LSPE',\n",
       " 'CMB-S4',\n",
       " 'TianQin',\n",
       " 'QUBIC',\n",
       " 'KLF',\n",
       " 'Particle Data Group',\n",
       " 'DARWIN',\n",
       " 'LZ',\n",
       " 'Insight-HXMT Team',\n",
       " 'WASA-at-COSY',\n",
       " 'BOREXINO']"
      ]
     },
     "execution_count": 75,
     "metadata": {},
     "output_type": "execute_result"
    }
   ],
   "source": [
    "collaborations"
   ]
  },
  {
   "cell_type": "code",
   "execution_count": 77,
   "id": "e7c7f832-7f68-4558-9b07-9162aa7357f9",
   "metadata": {},
   "outputs": [],
   "source": [
    "page_max=12"
   ]
  },
  {
   "cell_type": "code",
   "execution_count": 80,
   "id": "b8ee5cbc-e1ba-46f9-b80a-9af81c412e9d",
   "metadata": {},
   "outputs": [
    {
     "data": {
      "text/plain": [
       "['STAR',\n",
       " 'MicroBooNE',\n",
       " 'CLAS',\n",
       " 'DUNE',\n",
       " 'NA62',\n",
       " 'PHENIX',\n",
       " 'BESIII',\n",
       " 'DES',\n",
       " 'Super-Kamiokande',\n",
       " 'LIGO Scientific',\n",
       " 'KM3NeT',\n",
       " 'HAWC',\n",
       " 'Pierre Auger',\n",
       " 'IceCube',\n",
       " 'CTA Observatory',\n",
       " 'Telescope Array',\n",
       " 'MAGIC',\n",
       " 'SuperCDMS',\n",
       " 'CUPID',\n",
       " 'CUORE',\n",
       " 'KATRIN',\n",
       " 'REDTOP',\n",
       " 'KAGRA',\n",
       " 'Muon Collider',\n",
       " 'Mu2e-II',\n",
       " 'ILC International Development Team',\n",
       " 'Daya Bay',\n",
       " 'Virgo',\n",
       " 'NEMO-3',\n",
       " 'ATLAS',\n",
       " 'Euclid',\n",
       " 'LHCb',\n",
       " 'CMS',\n",
       " 'ANTARES',\n",
       " 'GERDA',\n",
       " 'HADES',\n",
       " 'n_TOF',\n",
       " 'PANDA',\n",
       " 'Jefferson Lab Hall A',\n",
       " 'LUX-ZEPLIN',\n",
       " 'Belle',\n",
       " 'LHAASO',\n",
       " 'H.E.S.S.',\n",
       " 'JUNO',\n",
       " 'AMS',\n",
       " 'XENON',\n",
       " 'SHiP',\n",
       " 'ALICE',\n",
       " 'NA61/SHINE',\n",
       " 'DAMPE',\n",
       " 'H1',\n",
       " 'NOvA',\n",
       " 'CTA LST Project',\n",
       " 'OPERA',\n",
       " 'COMPASS',\n",
       " 'GlueX',\n",
       " 'LEGEND',\n",
       " 'Event Horizon Telescope',\n",
       " 'MPD',\n",
       " 'LiteBIRD',\n",
       " 'Double Chooz',\n",
       " 'Fermi-LAT',\n",
       " 'nEXO',\n",
       " 'SDSS-IV',\n",
       " 'NEXT',\n",
       " 'CREX',\n",
       " 'BaBar',\n",
       " 'CDF',\n",
       " 'DarkSide',\n",
       " 'EXO-200',\n",
       " 'Tibet ASγ',\n",
       " 'SPT-3G',\n",
       " 'Mice',\n",
       " 'CTA Consortium',\n",
       " 'SNO+',\n",
       " 'CSNS Back-n',\n",
       " 'WA105',\n",
       " 'NA48/2',\n",
       " 'Muon g-2',\n",
       " 'DEAP',\n",
       " 'T2K',\n",
       " 'Charm',\n",
       " 'HESS',\n",
       " 'ICARUS',\n",
       " 'Hess',\n",
       " 'CTA',\n",
       " 'Mu3e',\n",
       " 'Planck',\n",
       " 'Hyper-Kamiokande',\n",
       " 'MOONS Consortium',\n",
       " 'HEP Software Foundation',\n",
       " 'LSPE',\n",
       " 'CMB-S4',\n",
       " 'TianQin',\n",
       " 'QUBIC',\n",
       " 'KLF',\n",
       " 'Particle Data Group',\n",
       " 'DARWIN',\n",
       " 'LZ',\n",
       " 'Insight-HXMT Team',\n",
       " 'WASA-at-COSY',\n",
       " 'BOREXINO',\n",
       " 'TOTEM',\n",
       " 'SBND',\n",
       " 'RD42',\n",
       " 'SPTpol',\n",
       " 'IAXO']"
      ]
     },
     "execution_count": 80,
     "metadata": {},
     "output_type": "execute_result"
    }
   ],
   "source": [
    "collaborations"
   ]
  },
  {
   "cell_type": "code",
   "execution_count": null,
   "id": "108ee47b-6ddc-4e48-8171-8204b1499bbe",
   "metadata": {},
   "outputs": [
    {
     "name": "stdout",
     "output_type": "stream",
     "text": [
      "12\n",
      "https://inspirehep.net/api/literature?sort=mostrecent&size=25&page=5&q=ac>100+and+de>2018+and+not+cn+STAR+and+not+cn+MicroBooNE+and+not+cn+CLAS+and+not+cn+DUNE+and+not+cn+NA62+and+not+cn+PHENIX+and+not+cn+BESIII+and+not+cn+DES+and+not+cn+Super-Kamiokande+and+not+cn+LIGO+Scientific+and+not+cn+KM3NeT+and+not+cn+HAWC+and+not+cn+Pierre+Auger+and+not+cn+IceCube+and+not+cn+CTA+Observatory+and+not+cn+Telescope+Array+and+not+cn+MAGIC+and+not+cn+SuperCDMS+and+not+cn+CUPID+and+not+cn+CUORE+and+not+cn+KATRIN+and+not+cn+REDTOP+and+not+cn+KAGRA+and+not+cn+Muon+Collider+and+not+cn+Mu2e-II+and+not+cn+ILC+International+Development+Team+and+not+cn+Daya+Bay+and+not+cn+Virgo+and+not+cn+NEMO-3+and+not+cn+ATLAS+and+not+cn+Euclid+and+not+cn+LHCb+and+not+cn+CMS+and+not+cn+ANTARES+and+not+cn+GERDA+and+not+cn+HADES+and+not+cn+n_TOF+and+not+cn+PANDA+and+not+cn+Jefferson+Lab+Hall+A+and+not+cn+LUX-ZEPLIN+and+not+cn+Belle+and+not+cn+LHAASO+and+not+cn+H.E.S.S.+and+not+cn+JUNO+and+not+cn+AMS+and+not+cn+XENON+and+not+cn+SHiP+and+not+cn+ALICE+and+not+cn+NA61/SHINE+and+not+cn+DAMPE+and+not+cn+H1+and+not+cn+NOvA+and+not+cn+CTA+LST+Project+and+not+cn+OPERA+and+not+cn+COMPASS+and+not+cn+GlueX+and+not+cn+LEGEND+and+not+cn+Event+Horizon+Telescope+and+not+cn+MPD+and+not+cn+LiteBIRD+and+not+cn+Double+Chooz+and+not+cn+Fermi-LAT+and+not+cn+nEXO+and+not+cn+SDSS-IV+and+not+cn+NEXT+and+not+cn+CREX+and+not+cn+BaBar+and+not+cn+CDF+and+not+cn+DarkSide+and+not+cn+EXO-200+and+not+cn+Tibet+ASγ+and+not+cn+SPT-3G+and+not+cn+Mice+and+not+cn+CTA+Consortium+and+not+cn+SNO++and+not+cn+CSNS+Back-n+and+not+cn+WA105+and+not+cn+NA48/2+and+not+cn+Muon+g-2+and+not+cn+DEAP+and+not+cn+T2K+and+not+cn+Charm+and+not+cn+HESS+and+not+cn+ICARUS+and+not+cn+Hess+and+not+cn+CTA+and+not+cn+Mu3e+and+not+cn+Planck+and+not+cn+Hyper-Kamiokande+and+not+cn+MOONS+Consortium+and+not+cn+HEP+Software+Foundation+and+not+cn+LSPE+and+not+cn+CMB-S4+and+not+cn+TianQin+and+not+cn+QUBIC+and+not+cn+KLF+and+not+cn+Particle+Data+Group+and+not+cn+DARWIN+and+not+cn+LZ+and+not+cn+Insight-HXMT+Team+and+not+cn+WASA-at-COSY+and+not+cn+BOREXINO\n",
      "collaboration → aLIGO\n",
      "collaboration → LIGO\n",
      "collaboration → LHeC\n",
      "collaboration → D0\n",
      "collaboration → ACT\n",
      "95\r"
     ]
    }
   ],
   "source": [
    "#page_max=float('inf')\n",
    "page=0\n",
    "emergency_exit=300\n",
    "mp=0\n",
    "LONG_URL=False\n",
    "while page>=0:\n",
    "    print(page_max)\n",
    "    if page_max<13 or LONG_URL: #Only few pages left or too long URL. Go through all of them\n",
    "        #collaborations=collaborations[:102]\n",
    "        collaborations_old=collaborations #last 10 pages\n",
    "    if mp>=emergency_exit:\n",
    "        print('Emergency Exit!')\n",
    "        break\n",
    "    mp=mp+1\n",
    "    if len(collaborations)>0 and  collaborations_old!=collaborations:\n",
    "        cn_search='https://inspirehep.net/api/literature?sort=mostrecent&size=25&page=1&q=ac>100+and+de>2018'\n",
    "        cn=f\"{cn_search}+and+not+cn+{'+and+not+cn+'.join(collaborations)}\".replace(' ','+')\n",
    "        collaborations_old=collaborations\n",
    "        page=0\n",
    "        ir len(cn)>2080:\n",
    "            LONG_URL=True\n",
    "    else:\n",
    "        #increase pagination\n",
    "        if len(collaborations)==0:\n",
    "            extra=''\n",
    "        else:\n",
    "            extra='+and+not+cn+'\n",
    "        page=page+1\n",
    "        cn_search=f'https://inspirehep.net/api/literature?sort=mostrecent&size=25&page={page}&q=ac>100+and+de>2018'\n",
    "        cn=f\"{cn_search}{extra}{'+and+not+cn+'.join(collaborations[:102])}\".replace(' ','+')\n",
    "\n",
    "    print(cn)\n",
    "    time.sleep(sleep)\n",
    "    r=requests.get(cn)\n",
    "    d=r.json()\n",
    "    page_max=int(d.get('hits').get('total')/25)+1\n",
    "    if page>page_max:\n",
    "        break\n",
    "\n",
    "    l=d.get('hits').get('hits')\n",
    "\n",
    "    #Not affilation in `'authors'` list for collaborations!\n",
    "\n",
    "    for ld in l:\n",
    "        lit=ld.get('metadata')\n",
    "        if not lit.get('collaborations'):\n",
    "            continue # next paper\n",
    "        try:\n",
    "            collaboration=lit.get('collaborations')[0].get('value')\n",
    "        except:\n",
    "            collaboration=''\n",
    "\n",
    "        if collaboration in collaborations:\n",
    "            continue #next paper\n",
    "\n",
    "        print(f'collaboration → {collaboration}')\n",
    "        la=lit.get('authors')\n",
    "        ii=0\n",
    "        for a in la:\n",
    "            FoS=[collaboration]\n",
    "            try:\n",
    "                PAC=lit['primary_arxiv_category']\n",
    "            except:\n",
    "                PAC=[]\n",
    "            \n",
    "            print(ii,end='\\r')\n",
    "            ii=ii+1\n",
    "            CONTINUE,author_id,url_author,FoS,PAC,db=get_work(db,a,idsLA,idsAU,db_index,FoS,PAC)\n",
    "            if CONTINUE:\n",
    "                continue #next author\n",
    "            positions,email_addresses,name,aids=get_author(url_author) #USES API!\n",
    "            try:\n",
    "                inst_id=[d.get('record').get('$ref').split('/')[-1] \n",
    "                     for d in positions if d.get('record') and d.get('current')][0]\n",
    "            except:\n",
    "                inst_id=None\n",
    "            if inst_id not in idsLA:\n",
    "                continue #next author\n",
    "            di=db[db_inst_index[inst_id]]\n",
    "\n",
    "            new={'author_id':author_id,\n",
    "                     'name':name,\n",
    "                     'LA_institution_id':inst_id,\n",
    "                     'external_system_identifiers':di.get('external_system_identifiers'),\n",
    "                     'LA_country':di.get('LA_country'),\n",
    "                     'LA_institution':di.get('LA_institution'),\n",
    "                     'email_addresses':email_addresses,\n",
    "                     'positions':positions,\n",
    "                     'ids':aids,\n",
    "                     'primary_arxiv_category':PAC,\n",
    "                     'Fields of Study': FoS # in ['Particle physics','Cosmology','Astrophysics','Mathematical physics']+collaborations\n",
    "                    }\n",
    "            db.append(new)\n",
    "            #raise Exception('STOP')            \n",
    "            #break\n",
    "        collaborations.append(collaboration) #Only after search for all the authors\n",
    "        f=open('db_LA.json','w')\n",
    "        json.dump(db,f)\n",
    "        f.close()    \n",
    "        #==============\n",
    "        #break            \n",
    "        "
   ]
  },
  {
   "cell_type": "code",
   "execution_count": 83,
   "id": "1a95c9d1-bc83-4f20-aa63-e6d017251382",
   "metadata": {},
   "outputs": [
    {
     "data": {
      "text/plain": [
       "True"
      ]
     },
     "execution_count": 83,
     "metadata": {},
     "output_type": "execute_result"
    }
   ],
   "source": [
    "collaborations_old==collaborations"
   ]
  },
  {
   "cell_type": "code",
   "execution_count": 82,
   "id": "c8420765-8c9d-4a4e-8bab-85dd91e224f4",
   "metadata": {},
   "outputs": [
    {
     "data": {
      "text/plain": [
       "'https://inspirehep.net/api/literature?sort=mostrecent&size=25&page=5&q=ac>100+and+de>2018+and+not+cn+STAR+and+not+cn+MicroBooNE+and+not+cn+CLAS+and+not+cn+DUNE+and+not+cn+NA62+and+not+cn+PHENIX+and+not+cn+BESIII+and+not+cn+DES+and+not+cn+Super-Kamiokande+and+not+cn+LIGO+Scientific+and+not+cn+KM3NeT+and+not+cn+HAWC+and+not+cn+Pierre+Auger+and+not+cn+IceCube+and+not+cn+CTA+Observatory+and+not+cn+Telescope+Array+and+not+cn+MAGIC+and+not+cn+SuperCDMS+and+not+cn+CUPID+and+not+cn+CUORE+and+not+cn+KATRIN+and+not+cn+REDTOP+and+not+cn+KAGRA+and+not+cn+Muon+Collider+and+not+cn+Mu2e-II+and+not+cn+ILC+International+Development+Team+and+not+cn+Daya+Bay+and+not+cn+Virgo+and+not+cn+NEMO-3+and+not+cn+ATLAS+and+not+cn+Euclid+and+not+cn+LHCb+and+not+cn+CMS+and+not+cn+ANTARES+and+not+cn+GERDA+and+not+cn+HADES+and+not+cn+n_TOF+and+not+cn+PANDA+and+not+cn+Jefferson+Lab+Hall+A+and+not+cn+LUX-ZEPLIN+and+not+cn+Belle+and+not+cn+LHAASO+and+not+cn+H.E.S.S.+and+not+cn+JUNO+and+not+cn+AMS+and+not+cn+XENON+and+not+cn+SHiP+and+not+cn+ALICE+and+not+cn+NA61/SHINE+and+not+cn+DAMPE+and+not+cn+H1+and+not+cn+NOvA+and+not+cn+CTA+LST+Project+and+not+cn+OPERA+and+not+cn+COMPASS+and+not+cn+GlueX+and+not+cn+LEGEND+and+not+cn+Event+Horizon+Telescope+and+not+cn+MPD+and+not+cn+LiteBIRD+and+not+cn+Double+Chooz+and+not+cn+Fermi-LAT+and+not+cn+nEXO+and+not+cn+SDSS-IV+and+not+cn+NEXT+and+not+cn+CREX+and+not+cn+BaBar+and+not+cn+CDF+and+not+cn+DarkSide+and+not+cn+EXO-200+and+not+cn+Tibet+ASγ+and+not+cn+SPT-3G+and+not+cn+Mice+and+not+cn+CTA+Consortium+and+not+cn+SNO++and+not+cn+CSNS+Back-n+and+not+cn+WA105+and+not+cn+NA48/2+and+not+cn+Muon+g-2+and+not+cn+DEAP+and+not+cn+T2K+and+not+cn+Charm+and+not+cn+HESS+and+not+cn+ICARUS+and+not+cn+Hess+and+not+cn+CTA+and+not+cn+Mu3e+and+not+cn+Planck+and+not+cn+Hyper-Kamiokande+and+not+cn+MOONS+Consortium+and+not+cn+HEP+Software+Foundation+and+not+cn+LSPE+and+not+cn+CMB-S4+and+not+cn+TianQin+and+not+cn+QUBIC+and+not+cn+KLF+and+not+cn+Particle+Data+Group+and+not+cn+DARWIN+and+not+cn+LZ+and+not+cn+Insight-HXMT+Team+and+not+cn+WASA-at-COSY+and+not+cn+BOREXINO'"
      ]
     },
     "execution_count": 82,
     "metadata": {},
     "output_type": "execute_result"
    }
   ],
   "source": [
    "cn"
   ]
  },
  {
   "cell_type": "code",
   "execution_count": 33,
   "id": "4e2b942a-05c4-462f-bb8f-75822974fe7b",
   "metadata": {},
   "outputs": [],
   "source": [
    "collaborations=collaborations[:-1]"
   ]
  },
  {
   "cell_type": "code",
   "execution_count": 13,
   "id": "2d850198-71ad-423d-a6f1-5175857d857e",
   "metadata": {},
   "outputs": [],
   "source": [
    "collaborations=['STAR',\n",
    " 'MicroBooNE',\n",
    " 'CLAS',\n",
    " 'DUNE',\n",
    " 'NA62',\n",
    " 'PHENIX',\n",
    " 'BESIII',\n",
    " 'DES',\n",
    " 'Super-Kamiokande',\n",
    " 'LIGO Scientific',\n",
    " 'KM3NeT',\n",
    " 'HAWC',\n",
    " 'Pierre Auger',\n",
    " 'IceCube',\n",
    " 'CTA Observatory',\n",
    " 'Telescope Array',\n",
    " 'MAGIC',\n",
    " 'SuperCDMS',\n",
    " 'CUPID',\n",
    " 'CUORE',\n",
    " 'KATRIN',\n",
    " 'REDTOP',\n",
    " 'KAGRA',\n",
    " 'Muon Collider',\n",
    " 'Mu2e-II',\n",
    " 'ILC International Development Team',\n",
    " 'Daya Bay',\n",
    " 'Virgo',\n",
    " 'NEMO-3',\n",
    " 'ATLAS',\n",
    " 'Euclid',\n",
    " 'LHCb',\n",
    " 'CMS',\n",
    " 'ANTARES',\n",
    " 'GERDA',\n",
    " 'HADES',\n",
    " 'n_TOF',\n",
    " 'PANDA',\n",
    " 'Jefferson Lab Hall A',\n",
    " 'LUX-ZEPLIN',\n",
    " 'Belle',\n",
    " 'LHAASO',\n",
    " 'H.E.S.S.',\n",
    " 'JUNO',\n",
    " 'AMS',\n",
    " 'XENON',\n",
    " 'SHiP',\n",
    " 'ALICE',\n",
    " 'NA61/SHINE',\n",
    " 'DAMPE',\n",
    " 'H1',\n",
    " 'NOvA',\n",
    " 'CTA LST Project',\n",
    " 'OPERA',\n",
    " 'COMPASS',\n",
    " 'GlueX',\n",
    " 'LEGEND',\n",
    " 'Event Horizon Telescope']"
   ]
  },
  {
   "cell_type": "code",
   "execution_count": 15,
   "id": "a7c57fca-d3c9-4a63-aa6e-ae0dd16885c3",
   "metadata": {},
   "outputs": [],
   "source": [
    "collaborations_old=[]"
   ]
  },
  {
   "cell_type": "code",
   "execution_count": 6,
   "id": "a2977d58-9031-4580-b7a0-17586a5932e9",
   "metadata": {},
   "outputs": [
    {
     "data": {
      "text/plain": [
       "{'author_id': '991245',\n",
       " 'name': {'value': 'Rosenfeld, Rogerio',\n",
       "  'preferred_name': 'Rogerio Rosenfeld'},\n",
       " 'LA_institution_id': '1373228',\n",
       " 'external_system_identifiers': [],\n",
       " 'LA_country': 'Brazil',\n",
       " 'LA_institution': 'LIneA, Rio de Janeiro',\n",
       " 'email_addresses': [{'value': 'rosenfel@ift.unesp.br', 'current': True}],\n",
       " 'positions': [{'record': {'$ref': 'https://inspirehep.net/api/institutions/1373228'},\n",
       "   'current': True,\n",
       "   'institution': 'LIneA, Rio de Janeiro',\n",
       "   'curated_relation': True},\n",
       "  {'rank': 'SENIOR',\n",
       "   'record': {'$ref': 'https://inspirehep.net/api/institutions/903185'},\n",
       "   'current': True,\n",
       "   'institution': 'Sao Paulo, IFT',\n",
       "   'curated_relation': True},\n",
       "  {'record': {'$ref': 'https://inspirehep.net/api/institutions/903081'},\n",
       "   'end_date': '1994',\n",
       "   'start_date': '1992',\n",
       "   'institution': 'Northeastern U.',\n",
       "   'curated_relation': True},\n",
       "  {'rank': 'POSTDOC',\n",
       "   'record': {'$ref': 'https://inspirehep.net/api/institutions/903303'},\n",
       "   'end_date': '1992',\n",
       "   'start_date': '1990',\n",
       "   'institution': 'UCLA',\n",
       "   'curated_relation': True},\n",
       "  {'rank': 'PHD',\n",
       "   'record': {'$ref': 'https://inspirehep.net/api/institutions/902729'},\n",
       "   'end_date': '1990',\n",
       "   'start_date': '1985',\n",
       "   'institution': 'Chicago U.',\n",
       "   'curated_relation': True}],\n",
       " 'ids': [{'value': 'R.Rosenfeld.1', 'schema': 'INSPIRE BAI'},\n",
       "  {'value': 'CERN-668579', 'schema': 'CERN'},\n",
       "  {'value': 'INSPIRE-00240549', 'schema': 'INSPIRE ID'},\n",
       "  {'value': 'HEPNAMES-105082', 'schema': 'SPIRES'}],\n",
       " 'primary_arxiv_category': ['astro-ph.CO', 'hep-ph', 'gr-qc'],\n",
       " 'Fields of Study': ['Astrophysics',\n",
       "  'Particle physics',\n",
       "  'Cosmology',\n",
       "  'Mathematical physics',\n",
       "  'DES']}"
      ]
     },
     "execution_count": 6,
     "metadata": {},
     "output_type": "execute_result"
    }
   ],
   "source": [
    "author_id='991245'\n",
    "db[db_index[author_id]]"
   ]
  },
  {
   "cell_type": "code",
   "execution_count": 62,
   "id": "eb357b98-b1a6-4488-8a5b-380bb9688e40",
   "metadata": {},
   "outputs": [
    {
     "data": {
      "text/plain": [
       "(False,\n",
       " '1282520',\n",
       " 'https://inspirehep.net/api/authors/1282520',\n",
       " ['ANTARES'],\n",
       " ['astro-ph.HE'])"
      ]
     },
     "execution_count": 62,
     "metadata": {},
     "output_type": "execute_result"
    }
   ],
   "source": [
    "CONTINUE,author_id,url_author,FoS,PAC"
   ]
  },
  {
   "cell_type": "code",
   "execution_count": 73,
   "id": "9193adc1-7840-4c24-8270-d0c6bf931a6c",
   "metadata": {},
   "outputs": [],
   "source": [
    "import pandas as pd"
   ]
  },
  {
   "cell_type": "code",
   "execution_count": 74,
   "id": "d93c6077-6301-41b4-ab13-88c9669d7809",
   "metadata": {},
   "outputs": [],
   "source": [
    "df=pd.DataFrame(db)"
   ]
  },
  {
   "cell_type": "code",
   "execution_count": 81,
   "id": "dc170bc3-f9c5-4018-a1ac-2e109bc4ebbf",
   "metadata": {},
   "outputs": [
    {
     "data": {
      "text/html": [
       "<div>\n",
       "<style scoped>\n",
       "    .dataframe tbody tr th:only-of-type {\n",
       "        vertical-align: middle;\n",
       "    }\n",
       "\n",
       "    .dataframe tbody tr th {\n",
       "        vertical-align: top;\n",
       "    }\n",
       "\n",
       "    .dataframe thead th {\n",
       "        text-align: right;\n",
       "    }\n",
       "</style>\n",
       "<table border=\"1\" class=\"dataframe\">\n",
       "  <thead>\n",
       "    <tr style=\"text-align: right;\">\n",
       "      <th></th>\n",
       "      <th>author_id</th>\n",
       "      <th>name</th>\n",
       "      <th>LA_institution_id</th>\n",
       "      <th>external_system_identifiers</th>\n",
       "      <th>LA_country</th>\n",
       "      <th>LA_institution</th>\n",
       "      <th>email_addresses</th>\n",
       "      <th>positions</th>\n",
       "      <th>ids</th>\n",
       "      <th>primary_arxiv_category</th>\n",
       "      <th>Fields of Study</th>\n",
       "    </tr>\n",
       "  </thead>\n",
       "  <tbody>\n",
       "    <tr>\n",
       "      <th>1176</th>\n",
       "      <td>1023526</td>\n",
       "      <td>{'value': 'Acero Ortega, Mario Andres', 'name_...</td>\n",
       "      <td>1128047</td>\n",
       "      <td>[{'value': 'grid.441871.f', 'schema': 'GRID'},...</td>\n",
       "      <td>Colombia</td>\n",
       "      <td>U. Atlantico, Barranquilla</td>\n",
       "      <td>[{'value': 'marioacero@mail.uniatlantico.edu.c...</td>\n",
       "      <td>[{'rank': 'SENIOR', 'record': {'$ref': 'https:...</td>\n",
       "      <td>[{'value': '0000-0002-0835-0641', 'schema': 'O...</td>\n",
       "      <td>[gr-qc, hep-th, physics.ins-det, hep-ph]</td>\n",
       "      <td>[Cosmology, Mathematical physics, DUNE, Partic...</td>\n",
       "    </tr>\n",
       "  </tbody>\n",
       "</table>\n",
       "</div>"
      ],
      "text/plain": [
       "     author_id                                               name  \\\n",
       "1176   1023526  {'value': 'Acero Ortega, Mario Andres', 'name_...   \n",
       "\n",
       "     LA_institution_id                        external_system_identifiers  \\\n",
       "1176           1128047  [{'value': 'grid.441871.f', 'schema': 'GRID'},...   \n",
       "\n",
       "     LA_country              LA_institution  \\\n",
       "1176   Colombia  U. Atlantico, Barranquilla   \n",
       "\n",
       "                                        email_addresses  \\\n",
       "1176  [{'value': 'marioacero@mail.uniatlantico.edu.c...   \n",
       "\n",
       "                                              positions  \\\n",
       "1176  [{'rank': 'SENIOR', 'record': {'$ref': 'https:...   \n",
       "\n",
       "                                                    ids  \\\n",
       "1176  [{'value': '0000-0002-0835-0641', 'schema': 'O...   \n",
       "\n",
       "                        primary_arxiv_category  \\\n",
       "1176  [gr-qc, hep-th, physics.ins-det, hep-ph]   \n",
       "\n",
       "                                        Fields of Study  \n",
       "1176  [Cosmology, Mathematical physics, DUNE, Partic...  "
      ]
     },
     "execution_count": 81,
     "metadata": {},
     "output_type": "execute_result"
    }
   ],
   "source": [
    "df[df.name.str['value'].str.contains('Acero')]"
   ]
  },
  {
   "cell_type": "code",
   "execution_count": 1,
   "id": "81de7280-cc31-4b49-91fb-43799e5859e5",
   "metadata": {},
   "outputs": [],
   "source": [
    "import json"
   ]
  },
  {
   "cell_type": "code",
   "execution_count": 2,
   "id": "93c342da-af0b-45ee-bd4d-6885697c1975",
   "metadata": {},
   "outputs": [],
   "source": [
    "f=open('data/db_LA.json','r')\n",
    "df=json.load(f)\n",
    "f.close()"
   ]
  },
  {
   "cell_type": "code",
   "execution_count": 4,
   "id": "41ae8b45-33b1-40d6-b3e8-757b6f4a9840",
   "metadata": {},
   "outputs": [],
   "source": [
    "f=open('db_LA.json','r')\n",
    "dfn=json.load(f)\n",
    "f.close()"
   ]
  },
  {
   "cell_type": "code",
   "execution_count": 14,
   "id": "288af6d9-80c5-40e7-9498-fdfab1c617d2",
   "metadata": {},
   "outputs": [
    {
     "data": {
      "text/plain": [
       "{'author_id': '1876618',\n",
       " 'name': {'value': 'Ramírez, Valeria'},\n",
       " 'LA_institution_id': '909015',\n",
       " 'external_system_identifiers': [{'value': 'grid.412866.f', 'schema': 'GRID'},\n",
       "  {'value': 'https://ror.org/031f8kt38', 'schema': 'ROR'},\n",
       "  {'value': 'INST-77020', 'schema': 'SPIRES'}],\n",
       " 'LA_country': 'Mexico',\n",
       " 'LA_institution': 'UAEH, Pachuca',\n",
       " 'email_addresses': [],\n",
       " 'positions': [],\n",
       " 'ids': [{'value': 'V.Ramirez.1', 'schema': 'INSPIRE BAI'}],\n",
       " 'primary_arxiv_category': ['gr-qc'],\n",
       " 'Fields of Study': ['Mathematical physics']}"
      ]
     },
     "execution_count": 14,
     "metadata": {},
     "output_type": "execute_result"
    }
   ],
   "source": [
    "df[''primary_arxiv_category']"
   ]
  },
  {
   "cell_type": "code",
   "execution_count": 21,
   "id": "8b4d5c4c-0290-4ded-91f2-4f17c6b9ab55",
   "metadata": {},
   "outputs": [
    {
     "data": {
      "text/plain": [
       "[['nlin.AO',\n",
       "  'cond-mat.str-el',\n",
       "  'cond-mat.other',\n",
       "  'hep-ex',\n",
       "  'hep-ph',\n",
       "  'astro-ph.GA',\n",
       "  'physics.gen-ph',\n",
       "  'hep-th',\n",
       "  'astro-ph.HE',\n",
       "  'hep-lat',\n",
       "  'quant-ph',\n",
       "  'math-ph',\n",
       "  'gr-qc',\n",
       "  'cond-mat.stat-mech',\n",
       "  'astro-ph.CO',\n",
       "  'astro-ph.SR',\n",
       "  'nucl-th',\n",
       "  'physics.pop-ph'],\n",
       " ['cond-mat.stat-mech',\n",
       "  'cond-mat.str-el',\n",
       "  'hep-ex',\n",
       "  'hep-ph',\n",
       "  'hep-th',\n",
       "  'quant-ph',\n",
       "  'gr-qc',\n",
       "  'math-ph'],\n",
       " ['math-ph', 'hep-th'],\n",
       " ['math-ph', 'hep-th'],\n",
       " ['hep-ph'],\n",
       " ['hep-ph'],\n",
       " ['hep-ph'],\n",
       " ['hep-ph', 'astro-ph.CO'],\n",
       " ['hep-ph'],\n",
       " ['hep-th']]"
      ]
     },
     "execution_count": 21,
     "metadata": {},
     "output_type": "execute_result"
    }
   ],
   "source": [
    "[d.get('primary_arxiv_category') for d in df][30:40]"
   ]
  },
  {
   "cell_type": "code",
   "execution_count": 20,
   "id": "a273f605-378d-453c-bb4a-b5fb66489c6d",
   "metadata": {},
   "outputs": [
    {
     "data": {
      "text/plain": [
       "[['hep-th', 'hep-ph', 'gr-qc'],\n",
       " ['hep-th', 'hep-ph', 'gr-qc'],\n",
       " ['hep-th'],\n",
       " ['hep-th'],\n",
       " ['hep-ph'],\n",
       " ['hep-ph'],\n",
       " ['hep-ph'],\n",
       " ['astro-ph.CO', 'hep-ph'],\n",
       " ['hep-ph'],\n",
       " ['hep-th']]"
      ]
     },
     "execution_count": 20,
     "metadata": {},
     "output_type": "execute_result"
    }
   ],
   "source": [
    "[d.get('primary_arxiv_category') for d in dfn][30:40]"
   ]
  },
  {
   "cell_type": "code",
   "execution_count": null,
   "id": "1c95de19-a4bf-43a6-9b64-6a4307ed7a61",
   "metadata": {},
   "outputs": [],
   "source": []
  }
 ],
 "metadata": {
  "kernelspec": {
   "display_name": "Python 3 (ipykernel)",
   "language": "python",
   "name": "python3"
  },
  "language_info": {
   "codemirror_mode": {
    "name": "ipython",
    "version": 3
   },
   "file_extension": ".py",
   "mimetype": "text/x-python",
   "name": "python",
   "nbconvert_exporter": "python",
   "pygments_lexer": "ipython3",
   "version": "3.9.2"
  }
 },
 "nbformat": 4,
 "nbformat_minor": 5
}
